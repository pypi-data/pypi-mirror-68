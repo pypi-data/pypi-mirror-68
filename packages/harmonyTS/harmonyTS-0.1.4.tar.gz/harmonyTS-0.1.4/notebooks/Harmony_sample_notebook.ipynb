{
 "cells": [
  {
   "cell_type": "markdown",
   "metadata": {},
   "source": [
    "<h3>Harmony analysis notebook</h3>\n",
    "\n",
    "<h4>Table of contents</h4>\n",
    "<br/>\n",
    "<a href='#intro'>Introduction</a>\n",
    "<br/>\n",
    "<a href='#data'>Loading and normalizing data</a>\n",
    "<br/>\n",
    "<a href='#pre'>Harmony augmented affinity matrix</a>\n",
    "<br/>\n",
    "<a href='#vis'>Visualization using force directed layouts</a>\n",
    "<br/>\n",
    "<a href='#pr'>Palantir trajectory detection</a>\n",
    "<br/>\n",
    "<a href='#mg'>MAGIC imputation</a>\n",
    "<br/>\n",
    "<a href='#vs'>Visualizing gene expression</a>\n",
    "<br/>\n",
    "<a href='#trends'>Gene expression trends</a>"
   ]
  },
  {
   "cell_type": "markdown",
   "metadata": {},
   "source": [
    "<a id=\"intro\"></a><h3> Introduction </h3>"
   ]
  },
  {
   "cell_type": "markdown",
   "metadata": {},
   "source": [
    "Harmony is a framework for data visualization, trajectory detection and interpretation for scRNA-seq data measured at discrete timepoints. Harmony constructs an augmented affinity matrix by augmenting the kNN graph affinity matrix with mutually nearest neighbors between successive time points. This augmented affinity matrix forms the basis for generated a force directed layout for visualization and also serves as input for computing the diffusion operator which can be used for trajectory detection using Palantir"
   ]
  },
  {
   "cell_type": "markdown",
   "metadata": {},
   "source": [
    "<a id=\"data\"></a><h3> Loading and normalizing data </h3>"
   ]
  },
  {
   "cell_type": "markdown",
   "metadata": {},
   "source": [
    "Harmony reads in csv files of counts matrices from multiple time points. Please ensure that replicates of the same time point are consecutive in order"
   ]
  },
  {
   "cell_type": "code",
   "execution_count": 1,
   "metadata": {
    "ExecuteTime": {
     "end_time": "2018-07-27T04:30:45.032144Z",
     "start_time": "2018-07-27T04:30:43.570491Z"
    }
   },
   "outputs": [
    {
     "name": "stderr",
     "output_type": "stream",
     "text": [
      "findfont: Font family ['Raleway'] not found. Falling back to DejaVu Sans.\n",
      "findfont: Font family ['Lato'] not found. Falling back to DejaVu Sans.\n"
     ]
    }
   ],
   "source": [
    "import harmony\n",
    "import palantir\n",
    "\n",
    "# Plotting and miscellaneous imports\n",
    "import os\n",
    "import pandas as pd\n",
    "import matplotlib\n",
    "import matplotlib.pyplot as plt\n",
    "\n",
    "# Initialize random seed\n",
    "import random\n",
    "random.seed(101)\n",
    "\n",
    "%matplotlib inline"
   ]
  },
  {
   "cell_type": "markdown",
   "metadata": {},
   "source": [
    "Sample csv files are available at `<harmony directory>/data/`. This folder contains two replicates each of the mouse embryonic development cells at E3.5 and E4.5 stages.\n",
    "\n",
    "These cells represent a subset of the mouse endoderm dataset and are the cells used for Palantir trajectory detection in Figure 2 of the manuscript.\n",
    "\n",
    "Assuming that Harmony was downloaded at `~/repositories/Harmony`, the following snippet can be used to load the counts matrices. `sample_names` parameter is used to set a prefix for the barcodes."
   ]
  },
  {
   "cell_type": "code",
   "execution_count": 2,
   "metadata": {
    "ExecuteTime": {
     "end_time": "2018-07-27T04:31:14.287272Z",
     "start_time": "2018-07-27T04:30:45.035158Z"
    }
   },
   "outputs": [
    {
     "name": "stdout",
     "output_type": "stream",
     "text": [
      "Loading count matrices...\n",
      "E3.5_Rep1\n",
      "E3.5_Rep2\n",
      "E4.5_Rep1\n",
      "E4.5_Rep2\n",
      "Concatenating data..\n"
     ]
    }
   ],
   "source": [
    "# Load sample data\n",
    "harmony_dir = os.path.expanduser('/Users/mousaa/GitHub/Harmony/data/')\n",
    "csv_files = [harmony_dir + 'Lib1-3_E3.5.csv',\n",
    "            harmony_dir + 'Lib1-4_E3.5.csv',\n",
    "            harmony_dir + 'Lib1-1_E4.5.csv',\n",
    "            harmony_dir + 'Lib1-2_E4.5.csv',]\n",
    "sample_names = ['E3.5_Rep1', 'E3.5_Rep2', 'E4.5_Rep1', 'E4.5_Rep2']\n",
    "\n",
    "counts = harmony.utils.load_from_csvs(csv_files, sample_names)"
   ]
  },
  {
   "cell_type": "markdown",
   "metadata": {},
   "source": [
    "<b>Note: </b> Harmony assumes that the cells from the same time point are consecutive to each other in the counts matrix. "
   ]
  },
  {
   "cell_type": "markdown",
   "metadata": {},
   "source": [
    "<h4> Normalization </h4>"
   ]
  },
  {
   "cell_type": "markdown",
   "metadata": {},
   "source": [
    "The next step is to correct for molecule count distribution. Harmony divides the counts of each cell by the total molecules detected as a normalization  technique"
   ]
  },
  {
   "cell_type": "code",
   "execution_count": 3,
   "metadata": {
    "ExecuteTime": {
     "end_time": "2018-07-27T04:31:22.712735Z",
     "start_time": "2018-07-27T04:31:20.544804Z"
    }
   },
   "outputs": [],
   "source": [
    "norm_df = harmony.utils.normalize_counts(counts)"
   ]
  },
  {
   "cell_type": "markdown",
   "metadata": {},
   "source": [
    "<h4> Gene selection </h4>"
   ]
  },
  {
   "cell_type": "markdown",
   "metadata": {},
   "source": [
    "Highly variable genes can be selected using the `hvg_genes` function of Harmony"
   ]
  },
  {
   "cell_type": "code",
   "execution_count": 4,
   "metadata": {},
   "outputs": [],
   "source": [
    "hvg_genes = harmony.utils.hvg_genes(norm_df)"
   ]
  },
  {
   "cell_type": "markdown",
   "metadata": {},
   "source": [
    "<h4> Log tranform </h4>"
   ]
  },
  {
   "cell_type": "markdown",
   "metadata": {},
   "source": [
    "Data can be optionally log transformed. Note that, some datasets show better signal in the linear scale while others show stronger signal in the log scale. We use log transformation for this dataset and use the highly variable genes in the above step as the input data"
   ]
  },
  {
   "cell_type": "code",
   "execution_count": 5,
   "metadata": {
    "ExecuteTime": {
     "end_time": "2018-07-27T04:31:24.076510Z",
     "start_time": "2018-07-27T04:31:22.715368Z"
    }
   },
   "outputs": [],
   "source": [
    "data_df = harmony.utils.log_transform(norm_df.loc[:,hvg_genes])"
   ]
  },
  {
   "cell_type": "markdown",
   "metadata": {},
   "source": [
    "<a id='pre'></a><h3>Harmony augmented affinity matrix</h3>"
   ]
  },
  {
   "cell_type": "markdown",
   "metadata": {},
   "source": [
    "The following metadata information is necessary for Harmony\n",
    "1. Timepoint at which each cell was measured\n",
    "2. Connections between timepoints for computation of mutually nearest neighbors\n"
   ]
  },
  {
   "cell_type": "markdown",
   "metadata": {},
   "source": [
    "The timepoint at which each cell was measured for this dataset can be determined by string matching since the information has been added to the barcode name"
   ]
  },
  {
   "cell_type": "code",
   "execution_count": 6,
   "metadata": {},
   "outputs": [],
   "source": [
    "tp = pd.Series(index=data_df.index)\n",
    "for t in ['E3.5', 'E4.5']:\n",
    "    cells = data_df.index[data_df.index.str.contains(t)]\n",
    "    tp[cells] = t"
   ]
  },
  {
   "cell_type": "markdown",
   "metadata": {},
   "source": [
    "The connection between E3.5 and E4.5 can be added as follows"
   ]
  },
  {
   "cell_type": "code",
   "execution_count": 7,
   "metadata": {},
   "outputs": [
    {
     "data": {
      "text/html": [
       "<div>\n",
       "<style scoped>\n",
       "    .dataframe tbody tr th:only-of-type {\n",
       "        vertical-align: middle;\n",
       "    }\n",
       "\n",
       "    .dataframe tbody tr th {\n",
       "        vertical-align: top;\n",
       "    }\n",
       "\n",
       "    .dataframe thead th {\n",
       "        text-align: right;\n",
       "    }\n",
       "</style>\n",
       "<table border=\"1\" class=\"dataframe\">\n",
       "  <thead>\n",
       "    <tr style=\"text-align: right;\">\n",
       "      <th></th>\n",
       "      <th>0</th>\n",
       "      <th>1</th>\n",
       "    </tr>\n",
       "  </thead>\n",
       "  <tbody>\n",
       "    <tr>\n",
       "      <th>0</th>\n",
       "      <td>E3.5</td>\n",
       "      <td>E4.5</td>\n",
       "    </tr>\n",
       "  </tbody>\n",
       "</table>\n",
       "</div>"
      ],
      "text/plain": [
       "      0     1\n",
       "0  E3.5  E4.5"
      ]
     },
     "execution_count": 7,
     "metadata": {},
     "output_type": "execute_result"
    }
   ],
   "source": [
    "timepoint_connections = pd.DataFrame(columns=[0, 1])\n",
    "index = 0\n",
    "timepoint_connections.loc[index, :] = ['E3.5', 'E4.5']; index += 1\n",
    "timepoint_connections"
   ]
  },
  {
   "cell_type": "markdown",
   "metadata": {},
   "source": [
    "Using the above information, the augmented and non-augmented affinity matrices can be computed using"
   ]
  },
  {
   "cell_type": "code",
   "execution_count": 10,
   "metadata": {},
   "outputs": [
    {
     "name": "stdout",
     "output_type": "stream",
     "text": [
      "Running PCA with 235 components\n",
      "Nearest neighbor computation...\n",
      "Constucting affinities between E3.5 and E4.5...\n",
      "t+1 neighbors of t...\n",
      "t neighbors of t+1...\n",
      "1.3538730144500732\n"
     ]
    }
   ],
   "source": [
    "import time\n",
    "t1 = time.time()\n",
    "aug_aff, aff = harmony.core.augmented_affinity_matrix(data_df, tp, timepoint_connections)\n",
    "print(time.time() - t1)"
   ]
  },
  {
   "cell_type": "markdown",
   "metadata": {},
   "source": [
    "<a id='vis'></a><h3>Visualization using force directed layouts</h3>"
   ]
  },
  {
   "cell_type": "markdown",
   "metadata": {},
   "source": [
    "The relationships between timepoints can be visualized using a force directed layout. This layout can be computed using the following function"
   ]
  },
  {
   "cell_type": "code",
   "execution_count": null,
   "metadata": {},
   "outputs": [],
   "source": [
    "layout = harmony.plot.force_directed_layout(aug_aff, data_df.index)"
   ]
  },
  {
   "cell_type": "markdown",
   "metadata": {},
   "source": [
    "For consistency, tmhe following snippet loads the precomputed tSNE projections."
   ]
  },
  {
   "cell_type": "code",
   "execution_count": null,
   "metadata": {},
   "outputs": [],
   "source": [
    "layout = pd.read_pickle(harmony_dir + '/e35_e45_layout.p')"
   ]
  },
  {
   "cell_type": "markdown",
   "metadata": {},
   "source": [
    "The different timepoints can be visualized using"
   ]
  },
  {
   "cell_type": "code",
   "execution_count": null,
   "metadata": {
    "ExecuteTime": {
     "end_time": "2018-07-27T04:31:32.591980Z",
     "start_time": "2018-07-27T04:31:24.079286Z"
    }
   },
   "outputs": [],
   "source": [
    "harmony.plot.plot_timepoints(layout, tp)"
   ]
  },
  {
   "cell_type": "markdown",
   "metadata": {},
   "source": [
    "<a id='pr'></a><h3>Palantir trajectory detection</h3>"
   ]
  },
  {
   "cell_type": "markdown",
   "metadata": {},
   "source": [
    "<a href=\" https://github.com/dpeerlab/Palantir\">Palantir</a> is an algorithm developed by the Pe'er lab to align cells along differentiation trajectories. Palantir models differentiation as a stochastic process where stem cells differentiate to terminally differentiated cells by a series of steps through a low dimensional phenotypic manifold. Palantir effectively captures the continuity in cell states and the stochasticity in cell fate determination."
   ]
  },
  {
   "cell_type": "markdown",
   "metadata": {},
   "source": [
    "The first step in Palantir trajectory detection is to project data onto diffusion maps. Harmony augmented affinity matrix is used as the input for identifying diffusion maps. Please see https://github.com/dpeerlab/Palantir for more details on Palantir"
   ]
  },
  {
   "cell_type": "code",
   "execution_count": null,
   "metadata": {},
   "outputs": [],
   "source": [
    "dm_res = palantir.utils.run_diffusion_maps(aug_aff)\n",
    "ms_data = palantir.utils.determine_multiscale_space(dm_res)\n",
    "ms_data.index = data_df.index"
   ]
  },
  {
   "cell_type": "markdown",
   "metadata": {},
   "source": [
    "Run Palantir with a Nanog hi cells as the start"
   ]
  },
  {
   "cell_type": "code",
   "execution_count": null,
   "metadata": {},
   "outputs": [],
   "source": [
    "# Start cell\n",
    "start_cell = 'E3.5_Rep2_Lib1-4_E3.5_192121092393820'\n",
    "# Terminal cells\n",
    "terminal_cells = [ 'E4.5_Rep1_Lib1-1_E4.5_161864255428444',\n",
    "    'E4.5_Rep2_Lib1-2_E4.5_239475375884140']\n",
    "\n",
    "pr_res = palantir.core.run_palantir(ms_data, start_cell, terminal_cells,\n",
    "                use_early_cell_as_start=True)"
   ]
  },
  {
   "cell_type": "markdown",
   "metadata": {},
   "source": [
    "Rename branch probabilities"
   ]
  },
  {
   "cell_type": "code",
   "execution_count": null,
   "metadata": {},
   "outputs": [],
   "source": [
    "pr_res.branch_probs.columns = ['PrE', 'EPI']"
   ]
  },
  {
   "cell_type": "markdown",
   "metadata": {},
   "source": [
    "Palantir results can be visualized using the following function"
   ]
  },
  {
   "cell_type": "code",
   "execution_count": null,
   "metadata": {},
   "outputs": [],
   "source": [
    "palantir.plot.plot_palantir_results(pr_res, layout)"
   ]
  },
  {
   "cell_type": "markdown",
   "metadata": {},
   "source": [
    "<a id='mg'></a><h3>MAGIC imputation</h3>"
   ]
  },
  {
   "cell_type": "markdown",
   "metadata": {},
   "source": [
    "<a href=\"https://github.com/pkathail/magic\">MAGIC</a> is an imputation technique developed in the Pe'er lab for single cell data imputation. Palantir uses MAGIC to impute the data for visualization and determining gene expression trends."
   ]
  },
  {
   "cell_type": "code",
   "execution_count": null,
   "metadata": {
    "ExecuteTime": {
     "end_time": "2018-07-27T04:32:34.501684Z",
     "start_time": "2018-07-27T04:32:29.426440Z"
    }
   },
   "outputs": [],
   "source": [
    "imp_df = palantir.utils.run_magic_imputation(data_df, dm_res)"
   ]
  },
  {
   "cell_type": "markdown",
   "metadata": {},
   "source": [
    "<a id='vs'></a><h3>Visualizing gene expression</h3>"
   ]
  },
  {
   "cell_type": "markdown",
   "metadata": {},
   "source": [
    "Gene expression can be visualized on force directed layouts using the Palantir `plot_gene_expression` function. The `genes` parameter is an string iterable of genes, which are a subset of the expression of column names. The below function plots the expression of EPI gene `FGF4` and PrE gene `GATA4`."
   ]
  },
  {
   "cell_type": "code",
   "execution_count": null,
   "metadata": {
    "ExecuteTime": {
     "end_time": "2018-07-27T04:32:35.644381Z",
     "start_time": "2018-07-27T04:32:34.504160Z"
    }
   },
   "outputs": [],
   "source": [
    "palantir.plot.plot_gene_expression(imp_df, layout, ['FGF4', 'GATA6'])"
   ]
  },
  {
   "cell_type": "markdown",
   "metadata": {},
   "source": [
    "Timepoint wise gene expression can be visualized using the corresponding Harmony `plot_tp_gene_expression` function"
   ]
  },
  {
   "cell_type": "code",
   "execution_count": null,
   "metadata": {},
   "outputs": [],
   "source": [
    "harmony.plot.plot_tp_gene_expression(imp_df, layout, ['FGF4', 'GATA4', 'GATA6'], tp)"
   ]
  },
  {
   "cell_type": "markdown",
   "metadata": {},
   "source": [
    "<a id='trends'></a><h3> Gene expression trends </h3>"
   ]
  },
  {
   "cell_type": "markdown",
   "metadata": {},
   "source": [
    "Gene expression trends along Palantir inferred pseudo-time can be plotted as below. Palantir uses <a href=\"https://cran.r-project.org/web/packages/gam/\">Generalized Additive Models (GAMs) </a> to determine the gene expression trends along different lineages. The marker trends can be determined using the following snippet. This computes the trends for all lineages. A subset of lineages can be used using the `lineages` parameter.\n"
   ]
  },
  {
   "cell_type": "code",
   "execution_count": null,
   "metadata": {
    "ExecuteTime": {
     "end_time": "2018-07-27T04:32:46.826578Z",
     "start_time": "2018-07-27T04:32:45.201031Z"
    }
   },
   "outputs": [],
   "source": [
    "genes = ['GATA6', 'FGF4']\n",
    "gene_trends = palantir.presults.compute_gene_trends( pr_res, imp_df.loc[:, genes])"
   ]
  },
  {
   "cell_type": "markdown",
   "metadata": {},
   "source": [
    "The determined trends can be visualized with the `plot_gene_trends` function. A separate panel is generated  for each gene"
   ]
  },
  {
   "cell_type": "code",
   "execution_count": null,
   "metadata": {
    "ExecuteTime": {
     "end_time": "2018-07-27T04:32:47.418050Z",
     "start_time": "2018-07-27T04:32:46.830185Z"
    }
   },
   "outputs": [],
   "source": [
    "palantir.plot.plot_gene_trends(gene_trends)"
   ]
  },
  {
   "cell_type": "code",
   "execution_count": null,
   "metadata": {},
   "outputs": [],
   "source": [
    "harmony.core.augmented_affinity_matrix.__code__"
   ]
  },
  {
   "cell_type": "code",
   "execution_count": null,
   "metadata": {
    "scrolled": false
   },
   "outputs": [],
   "source": [
    "!cat /Library/Frameworks/Python.framework/Versions/3.6/lib/python3.6/site-packages/harmony/core.py"
   ]
  },
  {
   "cell_type": "markdown",
   "metadata": {},
   "source": [
    "Please see https://github.com/dpeerlab/Palantir for plotting utilities from Palantir"
   ]
  }
 ],
 "metadata": {
  "hide_input": false,
  "kernelspec": {
   "display_name": "Python 3",
   "language": "python",
   "name": "python3"
  },
  "language_info": {
   "codemirror_mode": {
    "name": "ipython",
    "version": 3
   },
   "file_extension": ".py",
   "mimetype": "text/x-python",
   "name": "python",
   "nbconvert_exporter": "python",
   "pygments_lexer": "ipython3",
   "version": "3.6.5"
  },
  "nav_menu": {},
  "toc": {
   "base_numbering": 1.0,
   "nav_menu": {},
   "number_sections": true,
   "sideBar": true,
   "skip_h1_title": false,
   "title_cell": "Table of Contents",
   "title_sidebar": "Contents",
   "toc_cell": false,
   "toc_position": {
    "height": "calc(100% - 180px)",
    "left": "10px",
    "top": "150px",
    "width": "263px"
   },
   "toc_section_display": "block",
   "toc_window_display": true
  },
  "varInspector": {
   "cols": {
    "lenName": 16.0,
    "lenType": 16.0,
    "lenVar": 40.0
   },
   "kernels_config": {
    "python": {
     "delete_cmd_postfix": "",
     "delete_cmd_prefix": "del ",
     "library": "var_list.py",
     "varRefreshCmd": "print(var_dic_list())"
    },
    "r": {
     "delete_cmd_postfix": ") ",
     "delete_cmd_prefix": "rm(",
     "library": "var_list.r",
     "varRefreshCmd": "cat(var_dic_list()) "
    }
   },
   "types_to_exclude": [
    "module",
    "function",
    "builtin_function_or_method",
    "instance",
    "_Feature"
   ],
   "window_display": false
  }
 },
 "nbformat": 4,
 "nbformat_minor": 1
}
