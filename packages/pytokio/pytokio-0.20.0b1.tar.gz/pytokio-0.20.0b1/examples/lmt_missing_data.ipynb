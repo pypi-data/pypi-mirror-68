{
 "cells": [
  {
   "cell_type": "markdown",
   "metadata": {},
   "source": [
    "# Investigate Missing Data\n",
    "\n",
    "This notebook illustrates how to explore how much data goes missing from LMT on a given day and track the daily loss over a period of time.  This is useful when H5LMT files begin reporting significant fractions of data going missing."
   ]
  },
  {
   "cell_type": "code",
   "execution_count": null,
   "metadata": {
    "collapsed": true
   },
   "outputs": [],
   "source": [
    "%matplotlib inline"
   ]
  },
  {
   "cell_type": "code",
   "execution_count": null,
   "metadata": {
    "collapsed": true
   },
   "outputs": [],
   "source": [
    "import os\n",
    "import datetime\n",
    "import matplotlib\n",
    "matplotlib.rcParams.update({'font.size': 16})\n",
    "import matplotlib.pyplot as plt\n",
    "import tokio\n",
    "import tokio.tools"
   ]
  },
  {
   "cell_type": "code",
   "execution_count": null,
   "metadata": {
    "collapsed": false
   },
   "outputs": [],
   "source": [
    "H5LMT_BASE = '/project/projectdirs/pma/www/daily'\n",
    "DATE_OF_INTEREST = datetime.datetime(2017, 8, 21)\n",
    "FILE_SYSTEM_H5LMT = 'cori_snx11168.h5lmt'"
   ]
  },
  {
   "cell_type": "markdown",
   "metadata": {},
   "source": [
    "## Show missing data for one day\n",
    "\n",
    "Determine if there is any structure to the times and OSTs which contribute to the high rate of data loss by plotting time vs. OST ID vs. missing."
   ]
  },
  {
   "cell_type": "code",
   "execution_count": null,
   "metadata": {
    "collapsed": false
   },
   "outputs": [],
   "source": [
    "f = tokio.connectors.Hdf5(os.path.join(H5LMT_BASE,\n",
    "                          DATE_OF_INTEREST.strftime(\"%Y-%m-%d\"),\n",
    "                          FILE_SYSTEM_H5LMT))\n",
    "plot_data = f['/FSMissingGroup/FSMissingDataSet'][:,:]\n",
    "plot_aspect = 0.5 * (float(plot_data.shape[1]) / plot_data.shape[0])"
   ]
  },
  {
   "cell_type": "code",
   "execution_count": null,
   "metadata": {
    "collapsed": false
   },
   "outputs": [],
   "source": [
    "fig, ax = plt.subplots(figsize=(15,10))\n",
    "fig.suptitle('Missing Data - %s on %s' %\n",
    "            (os.path.basename(f.filename).split('.')[0], \n",
    "             os.path.dirname(f.filename).split(os.sep)[-1]))\n",
    "heatmap = ax.matshow(plot_data,\n",
    "                     cmap='hot',\n",
    "                     aspect=plot_aspect)\n",
    "ax.set_ylabel(\"OSS ID\")\n",
    "ax.set_xlabel(\"Timestep (5 seconds between timesteps)\")"
   ]
  },
  {
   "cell_type": "markdown",
   "metadata": {},
   "source": [
    "## Show how missing data has changed over time\n",
    "\n",
    "Plot the daily fraction of missing data over the last few days."
   ]
  },
  {
   "cell_type": "code",
   "execution_count": null,
   "metadata": {
    "collapsed": false
   },
   "outputs": [],
   "source": [
    "date_end = DATE_OF_INTEREST\n",
    "date_start = date_end - datetime.timedelta(days=28)"
   ]
  },
  {
   "cell_type": "code",
   "execution_count": null,
   "metadata": {
    "collapsed": false
   },
   "outputs": [],
   "source": [
    "x = []\n",
    "y = []\n",
    "for h5lmt_file in tokio.tools.hdf5.enumerate_h5lmts(FILE_SYSTEM_H5LMT,\n",
    "                                                    date_start,\n",
    "                                                    date_end):\n",
    "    f = tokio.connectors.Hdf5(h5lmt_file)\n",
    "    date = datetime.datetime.strptime(\n",
    "               os.path.dirname(f.filename).split(os.sep)[-1], \"%Y-%m-%d\").date()\n",
    "    missing_data_matrix = f['FSMissingGroup/FSMissingDataSet'][:,:]\n",
    "    missing = missing_data_matrix.sum()\n",
    "    total = missing_data_matrix.shape[0] * missing_data_matrix.shape[1]\n",
    "#   print date, float(missing)/total\n",
    "    x.append(date)\n",
    "    y.append(float(missing)/total)"
   ]
  },
  {
   "cell_type": "code",
   "execution_count": null,
   "metadata": {
    "collapsed": false
   },
   "outputs": [],
   "source": [
    "fig, ax = plt.subplots(figsize=(15,10))\n",
    "ax.plot(x, y, linewidth=4.0, marker='o', markersize=8.0 )\n",
    "ax.grid()\n",
    "ax.set_ylabel(\"Fraction of data missing\")\n",
    "ax.xaxis.set_major_formatter(matplotlib.dates.DateFormatter('%Y-%m-%d'))\n",
    "fig.autofmt_xdate()"
   ]
  },
  {
   "cell_type": "code",
   "execution_count": null,
   "metadata": {
    "collapsed": true
   },
   "outputs": [],
   "source": []
  }
 ],
 "metadata": {
  "kernelspec": {
   "display_name": "Python 2",
   "language": "python",
   "name": "python2"
  },
  "language_info": {
   "codemirror_mode": {
    "name": "ipython",
    "version": 2
   },
   "file_extension": ".py",
   "mimetype": "text/x-python",
   "name": "python",
   "nbconvert_exporter": "python",
   "pygments_lexer": "ipython2",
   "version": "2.7.13"
  }
 },
 "nbformat": 4,
 "nbformat_minor": 2
}
