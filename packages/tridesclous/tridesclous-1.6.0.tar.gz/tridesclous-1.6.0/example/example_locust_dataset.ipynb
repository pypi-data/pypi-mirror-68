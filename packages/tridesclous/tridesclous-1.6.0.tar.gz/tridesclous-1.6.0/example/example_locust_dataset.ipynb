{
 "cells": [
  {
   "cell_type": "markdown",
   "metadata": {},
   "source": [
    "# *tridesclous* example with locust dataset\n",
    "\n",
    "Here a detail notebook that detail the locust dataset recodring by Christophe Pouzat.\n",
    "\n",
    "This dataset is our classic.\n",
    "It has be analyse yet by several tools in R, Python or C:\n",
    "  * https://github.com/christophe-pouzat/PouzatDetorakisEuroScipy2014\n",
    "  * https://github.com/christophe-pouzat/SortingABigDataSetWithPython\n",
    "  * http://xtof.perso.math.cnrs.fr/locust.html\n",
    "\n",
    "So we can compare the result.\n",
    "\n",
    "The original datasets is here https://zenodo.org/record/21589\n",
    "\n",
    "But we will work on a very small subset on github https://github.com/tridesclous/tridesclous_datasets/tree/master/locust\n"
   ]
  },
  {
   "cell_type": "markdown",
   "metadata": {},
   "source": [
    "# Overview\n",
    "\n",
    "In *tridesclous*, the spike sorting is done in several step:\n",
    "  * Define the datasource and working path. (class DataIO)\n",
    "  * Construct a *catalogue* (class CatalogueConstructor) on a short chunk of data (for instance 60s)\n",
    "    with several sub step :\n",
    "    * signal pre-processing:\n",
    "      * high pass filter (optional)\n",
    "      * removal of common reference (optional)\n",
    "      * noise estimation (median/mad) on a small chunk\n",
    "      * normalisation = robust z-score\n",
    "    * peak detection\n",
    "    * select a subset of peaks. Unecessary and impossible to extract them all.\n",
    "    * extract some waveform.\n",
    "    * project theses waveforms in smaller dimention (pca, ...)\n",
    "    * find cluster\n",
    "    * auto clean cluster with euritics merge/split/trash\n",
    "    * clean manually with GUI (class CatalogueWindow) : merge/split/trash\n",
    "    * save centroids (median+mad + first and second derivative)\n",
    "  * Apply the *Peeler* (class Peeler) on the long term signals. With several sub steps:\n",
    "     * same signal preprocessing than before\n",
    "     * find peaks\n",
    "     * find the best cluster in catalogue for each peak\n",
    "     * find the intersample jitter\n",
    "     * remove the oversampled waveforms from the signals until there are not peaks in the signals.\n",
    "     * check with GUI (class PeelerWindow)\n"
   ]
  },
  {
   "cell_type": "code",
   "execution_count": 1,
   "metadata": {},
   "outputs": [],
   "source": [
    "%matplotlib inline\n",
    "\n",
    "import time\n",
    "import numpy as np\n",
    "import matplotlib.pyplot as plt\n",
    "import tridesclous as tdc\n",
    "\n",
    "from tridesclous import DataIO, CatalogueConstructor, Peeler"
   ]
  },
  {
   "cell_type": "markdown",
   "metadata": {},
   "source": [
    "# Download a small dataset\n",
    "\n",
    "trideclous provide some datasets than can be downloaded with **download_dataset**.\n",
    "\n",
    "Note this dataset contains 2 trials in 2 different files. (the original contains more!)\n",
    "\n",
    "Each file is considers as a *segment*. *tridesclous* automatically deal with it."
   ]
  },
  {
   "cell_type": "code",
   "execution_count": 2,
   "metadata": {},
   "outputs": [
    {
     "name": "stdout",
     "output_type": "stream",
     "text": [
      "['/home/samuel/Documents/projet/tridesclous/example/locust/locust_trial_01.raw', '/home/samuel/Documents/projet/tridesclous/example/locust/locust_trial_02.raw']\n",
      "{'dtype': 'int16', 'sample_rate': 15000.0, 'total_channel': 4, 'bit_to_microVolt': None}\n"
     ]
    }
   ],
   "source": [
    "#download dataset\n",
    "localdir, filenames, params = tdc.download_dataset(name='locust')\n",
    "print(filenames)\n",
    "print(params)"
   ]
  },
  {
   "cell_type": "markdown",
   "metadata": {},
   "source": [
    "# DataIO = define datasource and working dir\n",
    "\n",
    "\n",
    "Theses 2 files are in **RawData** format this means binary format with interleaved channels.\n",
    "\n",
    "Our dataset contains 2 segment of 28.8 second each, 4 channels. The sample rate is 15kHz.\n",
    "\n",
    "Note that there is only one channel_group here (0)."
   ]
  },
  {
   "cell_type": "code",
   "execution_count": 3,
   "metadata": {},
   "outputs": [
    {
     "name": "stdout",
     "output_type": "stream",
     "text": [
      "DataIO <id: 139837116053096> \n",
      "  workdir: tridesclous_locust\n",
      "  sample_rate: 15000.0\n",
      "  total_channel: 4\n",
      "  channel_groups: 0 [ch0 ch1 ch2 ch3]\n",
      "  nb_segment: 2\n",
      "  length: 431548 431548\n",
      "  durations: 28.8 28.8 s.\n"
     ]
    }
   ],
   "source": [
    "#create a DataIO\n",
    "import os, shutil\n",
    "dirname = 'tridesclous_locust'\n",
    "if os.path.exists(dirname):\n",
    "    #remove is already exists\n",
    "    shutil.rmtree(dirname)    \n",
    "dataio = DataIO(dirname=dirname)\n",
    "\n",
    "# feed DataIO\n",
    "dataio.set_data_source(type='RawData', filenames=filenames, **params)\n",
    "print(dataio)\n",
    "\n",
    "#no need to setup the prb with dataio.set_probe_file() or dataio.download_probe()\n",
    "#because it is a tetrode\n",
    "    "
   ]
  },
  {
   "cell_type": "markdown",
   "metadata": {},
   "source": [
    "# CatalogueConstructor"
   ]
  },
  {
   "cell_type": "code",
   "execution_count": 4,
   "metadata": {},
   "outputs": [
    {
     "name": "stdout",
     "output_type": "stream",
     "text": [
      "CatalogueConstructor\n",
      "  chan_grp 0 - ch0 ch1 ch2 ch3\n",
      "  Signal pre-processing not done yet\n"
     ]
    }
   ],
   "source": [
    "cc = CatalogueConstructor(dataio=dataio)\n",
    "print(cc)"
   ]
  },
  {
   "cell_type": "markdown",
   "metadata": {},
   "source": [
    "## Set some parameters\n",
    "\n",
    "For a complet description of each params see main documentation."
   ]
  },
  {
   "cell_type": "code",
   "execution_count": 6,
   "metadata": {},
   "outputs": [],
   "source": [
    "# global params\n",
    "cc.set_global_params(chunksize=1024,mode='dense')"
   ]
  },
  {
   "cell_type": "code",
   "execution_count": 7,
   "metadata": {},
   "outputs": [],
   "source": [
    "# pre processing filetring normalisation\n",
    "cc.set_preprocessor_params(\n",
    "            common_ref_removal=False,\n",
    "            highpass_freq=300.,\n",
    "            lowpass_freq=5000.,                                             \n",
    "            lostfront_chunksize=64)"
   ]
  },
  {
   "cell_type": "code",
   "execution_count": 9,
   "metadata": {},
   "outputs": [],
   "source": [
    "cc.set_peak_detector_params(\n",
    "            peak_sign='-',\n",
    "            relative_threshold=6.5,\n",
    "            peak_span_ms=0.1)"
   ]
  },
  {
   "cell_type": "markdown",
   "metadata": {},
   "source": [
    "## Estimate the median and mad of noiseon a small chunk of filtered signals.\n",
    "This compute medians and mad of each channel."
   ]
  },
  {
   "cell_type": "code",
   "execution_count": 11,
   "metadata": {},
   "outputs": [
    {
     "name": "stdout",
     "output_type": "stream",
     "text": [
      "[1.2877347 0.8443531 1.6870663 0.5088713]\n",
      "[51.053234 46.69039  57.44741  44.837955]\n"
     ]
    }
   ],
   "source": [
    "cc.estimate_signals_noise(seg_num=0, duration=15.)\n",
    "print(cc.signals_medians)\n",
    "print(cc.signals_mads)"
   ]
  },
  {
   "cell_type": "markdown",
   "metadata": {},
   "source": [
    "## Run the main loop: signal preprocessing + peak detection\n",
    "\n"
   ]
  },
  {
   "cell_type": "code",
   "execution_count": 13,
   "metadata": {},
   "outputs": [
    {
     "name": "stdout",
     "output_type": "stream",
     "text": [
      "run_signalprocessor 0.7239591540001129 s\n",
      "CatalogueConstructor\n",
      "  chan_grp 0 - ch0 ch1 ch2 ch3\n",
      "  nb_peak_by_segment: 651, 680\n",
      "  cluster_labels 0 [-11]\n",
      "\n"
     ]
    }
   ],
   "source": [
    "t1 = time.perf_counter()\n",
    "cc.run_signalprocessor(duration=60.)\n",
    "t2 = time.perf_counter()\n",
    "\n",
    "print('run_signalprocessor', t2-t1, 's')\n",
    "print(cc)"
   ]
  },
  {
   "cell_type": "markdown",
   "metadata": {},
   "source": [
    "# Clean peaks\n",
    "\n",
    "Whis try to detect \"bad peaks\". They are artifact with very big amplitude value.\n",
    "This peaks have to removed early and not be include in waveform extaction and pca.\n",
    "\n",
    "Strange peak are tag with -9 (alien)\n"
   ]
  },
  {
   "cell_type": "code",
   "execution_count": 19,
   "metadata": {},
   "outputs": [
    {
     "name": "stdout",
     "output_type": "stream",
     "text": [
      "CatalogueConstructor\n",
      "  chan_grp 0 - ch0 ch1 ch2 ch3\n",
      "  nb_peak_by_segment: 651, 680\n",
      "  cluster_labels 0 [-11]\n",
      "\n"
     ]
    }
   ],
   "source": [
    "cc.clean_peaks(alien_value_threshold=60., mode='extremum_amplitude')\n",
    "print(cc)"
   ]
  },
  {
   "cell_type": "markdown",
   "metadata": {},
   "source": [
    "## sample some peaks for waveforms extraction\n",
    "\n",
    "Take some waveforms in the signals *n_left/n_right* must be choosen carfully.\n",
    "\n",
    "It is not necessary to intensive to select all peaks.\n",
    "\n",
    "There are several method to select peaks the most simple is to select randomly.\n",
    "\n",
    "Note that waveform are extracted now. It is too intensive. They are extacted on-the-fly when needed."
   ]
  },
  {
   "cell_type": "code",
   "execution_count": 20,
   "metadata": {},
   "outputs": [],
   "source": [
    "cc.set_waveform_extractor_params(wf_left_ms=-1.5, wf_right_ms=2.5)\n",
    "\n",
    "cc.sample_some_peaks(mode='rand', nb_max=20000)"
   ]
  },
  {
   "cell_type": "markdown",
   "metadata": {},
   "source": [
    "## Extact some noise snippet.\n",
    "\n",
    "Here a step to extact snippet of noise (in between real peak)"
   ]
  },
  {
   "cell_type": "code",
   "execution_count": 21,
   "metadata": {},
   "outputs": [],
   "source": [
    "cc.extract_some_noise(nb_snippet=300)"
   ]
  },
  {
   "cell_type": "markdown",
   "metadata": {},
   "source": [
    "## Project to smaller space\n",
    "\n",
    "To reduce dimension of the waveforms (n_peaks, peak_width, n_channel) we chosse global_pca method which is appropriate for tetrode.\n",
    "\n",
    "It consists of flatenning some_waveforms.shape (n_peaks, peak_width, n_channel) to (n_peaks, peak_width*n_channel) and then apply a standard PCA on it with sklearn.\n",
    "\n",
    "Let's keep 5 component of it.\n",
    "\n",
    "In case of more channel we could also do a 'by_channel_pca'"
   ]
  },
  {
   "cell_type": "code",
   "execution_count": 23,
   "metadata": {},
   "outputs": [
    {
     "name": "stdout",
     "output_type": "stream",
     "text": [
      "CatalogueConstructor\n",
      "  chan_grp 0 - ch0 ch1 ch2 ch3\n",
      "  nb_peak_by_segment: 651, 680\n",
      "  some_features.shape: (1329, 5)\n",
      "  cluster_labels 1 [-11   0]\n",
      "\n"
     ]
    }
   ],
   "source": [
    "cc.extract_some_features(method='global_pca', n_components=5)\n",
    "print(cc)"
   ]
  },
  {
   "cell_type": "markdown",
   "metadata": {},
   "source": [
    "# find clusters\n",
    "\n",
    "There are many option to cluster this features. here a simple one the well known kmeans method.\n",
    "\n",
    "Unfortunatly we need to choose the number of cluster. Too bad... Let's take 12.\n",
    "\n",
    "Later on we will be able to refine this manually."
   ]
  },
  {
   "cell_type": "code",
   "execution_count": 24,
   "metadata": {},
   "outputs": [
    {
     "name": "stdout",
     "output_type": "stream",
     "text": [
      "CatalogueConstructor\n",
      "  chan_grp 0 - ch0 ch1 ch2 ch3\n",
      "  nb_peak_by_segment: 651, 680\n",
      "  some_features.shape: (1329, 5)\n",
      "  cluster_labels 12 [-11 0 1 ... 10 11]\n",
      "\n"
     ]
    }
   ],
   "source": [
    "cc.find_clusters(method='kmeans', n_clusters=12)\n",
    "print(cc)"
   ]
  },
  {
   "cell_type": "markdown",
   "metadata": {},
   "source": [
    "## Manual clean with CatalogueWindow (or visual check)\n",
    "\n",
    "This open a CatalogueWindow, here we can check, split merge, trash, play as long as we are not happy.\n",
    "\n",
    "If we are happy, we can save the catalogue."
   ]
  },
  {
   "cell_type": "code",
   "execution_count": null,
   "metadata": {},
   "outputs": [],
   "source": [
    "%gui qt5\n",
    "import pyqtgraph as pg\n",
    "app = pg.mkQApp()\n",
    "win = tdc.CatalogueWindow(catalogueconstructor)\n",
    "win.show()\n",
    "app.exec_()    "
   ]
  },
  {
   "cell_type": "markdown",
   "metadata": {},
   "source": [
    "Here a snappshot of CatalogueWindow\n",
    "\n",
    "<img src=\"../doc/img/snapshot_cataloguewindow.png\">\n"
   ]
  },
  {
   "cell_type": "markdown",
   "metadata": {},
   "source": [
    "# Auto clean of catatalogue\n",
    "\n",
    "tridesclous offer some method for auto merge/trash/split some cluster.\n",
    "\n",
    "After this we can re order cluster and construct the catalogue for the peeler.\n"
   ]
  },
  {
   "cell_type": "code",
   "execution_count": 26,
   "metadata": {},
   "outputs": [],
   "source": [
    "cc.auto_split_cluster()\n",
    "    \n",
    "cc.auto_merge_cluster()\n",
    "    \n",
    "cc.trash_low_extremum(min_extremum_amplitude=6.6)\n",
    "\n",
    "cc.trash_small_cluster(minimum_size=10)\n"
   ]
  },
  {
   "cell_type": "code",
   "execution_count": 29,
   "metadata": {},
   "outputs": [],
   "source": [
    "#order cluster by waveforms rms\n",
    "cc.order_clusters(by='waveforms_rms')\n",
    "\n",
    "#save the catalogue\n",
    "cc.make_catalogue_for_peeler(inter_sample_oversampling=True)"
   ]
  },
  {
   "cell_type": "markdown",
   "metadata": {},
   "source": [
    "# Peeler\n",
    "\n",
    "Create and run the Peeler.\n",
    "It should be pretty fast, here the computation take 1.32s for 28.8x2s of signal. This is a speed up of 43 over real time.\n"
   ]
  },
  {
   "cell_type": "code",
   "execution_count": 30,
   "metadata": {},
   "outputs": [
    {
     "name": "stderr",
     "output_type": "stream",
     "text": [
      "\n",
      "  0%|          | 0/421 [00:00<?, ?it/s]\u001b[A\n",
      "  8%|▊         | 34/421 [00:00<00:01, 335.71it/s]\u001b[A\n",
      " 17%|█▋        | 72/421 [00:00<00:01, 347.68it/s]\u001b[A\n",
      " 28%|██▊       | 118/421 [00:00<00:00, 372.09it/s]\u001b[A\n",
      " 36%|███▌      | 152/421 [00:00<00:00, 360.30it/s]\u001b[A\n",
      " 46%|████▌     | 194/421 [00:00<00:00, 375.82it/s]\u001b[A\n",
      " 57%|█████▋    | 239/421 [00:00<00:00, 394.13it/s]\u001b[A\n",
      " 66%|██████▌   | 276/421 [00:00<00:00, 363.38it/s]\u001b[A\n",
      " 74%|███████▍  | 313/421 [00:00<00:00, 362.86it/s]\u001b[A\n",
      " 87%|████████▋ | 368/421 [00:00<00:00, 402.18it/s]\u001b[A\n",
      " 97%|█████████▋| 410/421 [00:01<00:00, 405.05it/s]\u001b[A\n",
      "100%|██████████| 421/421 [00:01<00:00, 384.82it/s]\u001b[A\n",
      "  0%|          | 0/421 [00:00<?, ?it/s]\u001b[A\n",
      " 11%|█         | 45/421 [00:00<00:00, 446.00it/s]\u001b[A\n",
      " 23%|██▎       | 96/421 [00:00<00:00, 463.23it/s]\u001b[A\n",
      " 34%|███▍      | 143/421 [00:00<00:00, 463.58it/s]\u001b[A\n",
      " 42%|████▏     | 177/421 [00:00<00:00, 417.19it/s]\u001b[A\n",
      " 52%|█████▏    | 217/421 [00:00<00:00, 411.11it/s]\u001b[A\n",
      " 60%|█████▉    | 252/421 [00:00<00:00, 387.15it/s]\u001b[A\n",
      " 68%|██████▊   | 287/421 [00:00<00:00, 366.81it/s]\u001b[A\n",
      " 76%|███████▌  | 321/421 [00:00<00:00, 254.26it/s]\u001b[A\n",
      " 90%|████████▉ | 377/421 [00:01<00:00, 303.88it/s]\u001b[A\n",
      " 98%|█████████▊| 414/421 [00:01<00:00, 273.38it/s]\u001b[A\n",
      "100%|██████████| 421/421 [00:01<00:00, 332.35it/s]\u001b[A"
     ]
    },
    {
     "name": "stdout",
     "output_type": "stream",
     "text": [
      "peeler.run 2.374287130999619\n",
      "\n",
      "seg_num 0 nb_spikes 611\n",
      "seg_num 1 nb_spikes 646\n"
     ]
    }
   ],
   "source": [
    "catalogue = dataio.load_catalogue(chan_grp=0)\n",
    "\n",
    "peeler = Peeler(dataio)\n",
    "peeler.change_params(catalogue=catalogue)\n",
    "\n",
    "t1 = time.perf_counter()\n",
    "peeler.run()\n",
    "t2 = time.perf_counter()\n",
    "print('peeler.run', t2-t1)\n",
    "\n",
    "print()\n",
    "for seg_num in range(dataio.nb_segment):\n",
    "    spikes = dataio.get_spikes(seg_num)\n",
    "    print('seg_num', seg_num, 'nb_spikes', spikes.size)\n",
    "    \n"
   ]
  },
  {
   "cell_type": "markdown",
   "metadata": {},
   "source": [
    "## Open PeelerWindow for visual checking"
   ]
  },
  {
   "cell_type": "code",
   "execution_count": null,
   "metadata": {},
   "outputs": [],
   "source": [
    "%gui qt5\n",
    "import pyqtgraph as pg\n",
    "app = pg.mkQApp()\n",
    "win = tdc.PeelerWindow(dataio=dataio, catalogue=initial_catalogue)\n",
    "win.show()\n",
    "app.exec_()"
   ]
  },
  {
   "cell_type": "markdown",
   "metadata": {},
   "source": [
    "Here a snappshot of PeelerWindow\n",
    "\n",
    "<img src=\"../doc/img/snapshot_peelerwindow.png\">"
   ]
  }
 ],
 "metadata": {
  "kernelspec": {
   "display_name": "Python 3",
   "language": "python",
   "name": "python3"
  },
  "language_info": {
   "codemirror_mode": {
    "name": "ipython",
    "version": 3
   },
   "file_extension": ".py",
   "mimetype": "text/x-python",
   "name": "python",
   "nbconvert_exporter": "python",
   "pygments_lexer": "ipython3",
   "version": "3.6.6"
  }
 },
 "nbformat": 4,
 "nbformat_minor": 1
}
