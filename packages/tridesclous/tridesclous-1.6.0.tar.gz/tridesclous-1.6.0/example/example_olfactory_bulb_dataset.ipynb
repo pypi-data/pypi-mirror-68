{
 "cells": [
  {
   "cell_type": "markdown",
   "metadata": {},
   "source": [
    "# *tridesclous* example with olfactory bulb dataset\n",
    "\n"
   ]
  },
  {
   "cell_type": "code",
   "execution_count": 2,
   "metadata": {},
   "outputs": [],
   "source": [
    "%matplotlib inline\n",
    "\n",
    "import time\n",
    "import numpy as np\n",
    "import matplotlib.pyplot as plt\n",
    "import tridesclous as tdc\n",
    "\n",
    "from tridesclous import DataIO, CatalogueConstructor, Peeler"
   ]
  },
  {
   "cell_type": "markdown",
   "metadata": {},
   "source": [
    "# DataIO = define datasource and working dir\n",
    "\n",
    "trideclous provide some datasets than can be downloaded.\n",
    "\n",
    "Note this dataset contains 3 trials in 3 different files. (the original contains more!)\n",
    "\n",
    "Each file is considers as a *segment*. *tridesclous* automatically deal with it.\n",
    "\n",
    "Theses 3 files are in **RawData** format this means binary format with interleaved channels.\n"
   ]
  },
  {
   "cell_type": "code",
   "execution_count": 3,
   "metadata": {},
   "outputs": [
    {
     "name": "stdout",
     "output_type": "stream",
     "text": [
      "['/home/samuel/Documents/projet/tridesclous/example/olfactory_bulb/OB_file1.raw', '/home/samuel/Documents/projet/tridesclous/example/olfactory_bulb/OB_file2.raw', '/home/samuel/Documents/projet/tridesclous/example/olfactory_bulb/OB_file3.raw']\n",
      "{'dtype': 'int16', 'sample_rate': 10000.0, 'total_channel': 16, 'bit_to_microVolt': 0.30517578125}\n",
      "\n",
      "DataIO <id: 140583753418120> \n",
      "  workdir: tridesclous_olfactory_bulb\n",
      "  sample_rate: 10000.0\n",
      "  total_channel: 16\n",
      "  channel_groups: 0 [ch0 ch1 ch2 ch3 ... ch10 ch11 ch12 ch13]\n",
      "  nb_segment: 3\n",
      "  length: 150000 150000 150000\n",
      "  durations: 15.0 15.0 15.0 s.\n"
     ]
    }
   ],
   "source": [
    "#download dataset\n",
    "localdir, filenames, params = tdc.download_dataset(name='olfactory_bulb')\n",
    "print(filenames)\n",
    "print(params)\n",
    "\n",
    "print()\n",
    "#create a DataIO\n",
    "import os, shutil\n",
    "dirname = 'tridesclous_olfactory_bulb'\n",
    "if os.path.exists(dirname):\n",
    "    #remove is already exists\n",
    "    shutil.rmtree(dirname)    \n",
    "dataio = DataIO(dirname=dirname)\n",
    "\n",
    "# feed DataIO\n",
    "dataio.set_data_source(type='RawData', filenames=filenames, **params)\n",
    "\n",
    "dataio.add_one_channel_group(channels=list(range(14)))\n",
    "\n",
    "print(dataio)\n",
    "\n",
    "    \n",
    "    "
   ]
  },
  {
   "cell_type": "markdown",
   "metadata": {},
   "source": [
    "# CatalogueConstructor"
   ]
  },
  {
   "cell_type": "code",
   "execution_count": 4,
   "metadata": {},
   "outputs": [
    {
     "name": "stdout",
     "output_type": "stream",
     "text": [
      "CatalogueConstructor\n",
      "  chan_grp 0 - ch0 ch1 ch2 ... ch12 ch13\n",
      "  Signal pre-processing not done yet\n"
     ]
    }
   ],
   "source": [
    "cc = CatalogueConstructor(dataio=dataio)\n",
    "print(cc)"
   ]
  },
  {
   "cell_type": "markdown",
   "metadata": {},
   "source": [
    "## Use automatic parameters and apply the whole chain\n",
    "\n",
    "tridesclous propose an automatic parameters choice and can apply in one function all the steps.\n"
   ]
  },
  {
   "cell_type": "code",
   "execution_count": 5,
   "metadata": {},
   "outputs": [
    {
     "name": "stdout",
     "output_type": "stream",
     "text": [
      "{'adjacency_radius_um': 200.0,\n",
      " 'chunksize': 1000,\n",
      " 'clean_cluster': {'apply_auto_merge_cluster': True,\n",
      "                   'apply_auto_split': True,\n",
      "                   'apply_trash_low_extremum': True,\n",
      "                   'apply_trash_not_aligned': True,\n",
      "                   'apply_trash_small_cluster': True},\n",
      " 'clean_peaks': {'alien_value_threshold': None, 'mode': 'extremum_amplitude'},\n",
      " 'cluster_kargs': {'adjacency_radius_um': 50.0,\n",
      "                   'high_adjacency_radius_um': 30.0,\n",
      "                   'max_loop': 1000,\n",
      "                   'min_cluster_size': 20},\n",
      " 'cluster_method': 'pruningshears',\n",
      " 'duration': 45.0,\n",
      " 'extract_waveforms': {'wf_left_ms': -1.5, 'wf_right_ms': 2.5},\n",
      " 'feature_kargs': {'adjacency_radius_um': 50.0, 'n_components_by_channel': 3},\n",
      " 'feature_method': 'pca_by_channel',\n",
      " 'make_catalogue': {'inter_sample_oversampling': False,\n",
      "                    'sparse_thresh_level2': 3,\n",
      "                    'subsample_ratio': 'auto'},\n",
      " 'memory_mode': 'memmap',\n",
      " 'mode': 'sparse',\n",
      " 'n_jobs': -1,\n",
      " 'n_spike_for_centroid': 350,\n",
      " 'noise_snippet': {'nb_snippet': 300},\n",
      " 'peak_detector': {'adjacency_radius_um': 200.0,\n",
      "                   'engine': 'opencl',\n",
      "                   'method': 'geometrical',\n",
      "                   'peak_sign': '-',\n",
      "                   'peak_span_ms': 0.7,\n",
      "                   'relative_threshold': 5.0,\n",
      "                   'smooth_radius_um': None},\n",
      " 'peak_sampler': {'mode': 'rand_by_channel',\n",
      "                  'nb_max': 20000,\n",
      "                  'nb_max_by_channel': 1000},\n",
      " 'preprocessor': {'common_ref_removal': False,\n",
      "                  'engine': 'numpy',\n",
      "                  'highpass_freq': 300.0,\n",
      "                  'lostfront_chunksize': -1,\n",
      "                  'lowpass_freq': 5000.0,\n",
      "                  'smooth_size': 0},\n",
      " 'sparse_threshold': 1.5}\n"
     ]
    }
   ],
   "source": [
    "from pprint import pprint\n",
    "params = tdc.get_auto_params_for_catalogue(dataio, chan_grp=0)\n",
    "pprint(params)"
   ]
  },
  {
   "cell_type": "markdown",
   "metadata": {},
   "source": [
    "## apply all catalogue steps"
   ]
  },
  {
   "cell_type": "code",
   "execution_count": 6,
   "metadata": {},
   "outputs": [
    {
     "name": "stdout",
     "output_type": "stream",
     "text": [
      "estimate_signals_noise 0.15046086600023045\n",
      "run_signalprocessor 0.7986926489998041\n",
      "clean_peaks 0.008157486000072822\n",
      "sample_some_peaks 0.026089860999945813\n",
      "extract_some_noise 0.061021279000215145\n",
      "extract_some_features 1.799467378999907\n",
      "find_clusters 2.0106339809999554\n",
      "auto_split_cluster 10.9144308609998\n",
      "trash_not_aligned 0.07785290399988298\n",
      "auto_merge_cluster 0.33518078700035403\n",
      "trash_low_extremum 0.015459421999821643\n",
      "trash_small_cluster 0.015438521999840304\n",
      "make_catalogue_for_peeler 0.11544246100038436\n"
     ]
    }
   ],
   "source": [
    "cc.apply_all_steps(params, verbose=True)"
   ]
  },
  {
   "cell_type": "code",
   "execution_count": 7,
   "metadata": {},
   "outputs": [
    {
     "name": "stdout",
     "output_type": "stream",
     "text": [
      "CatalogueConstructor\n",
      "  chan_grp 0 - ch0 ch1 ch2 ... ch12 ch13\n",
      "  nb_peak_by_segment: 4314, 3926, 4564\n",
      "  some_features.shape: (10720, 42)\n",
      "  cluster_labels 15 [-11 -1 0 ... 13 14]\n",
      "\n"
     ]
    }
   ],
   "source": [
    "print(cc)"
   ]
  },
  {
   "cell_type": "markdown",
   "metadata": {},
   "source": [
    "## Open CatalogueWindow for visual check\n",
    "\n",
    "At the end we can save the catalogue."
   ]
  },
  {
   "cell_type": "code",
   "execution_count": null,
   "metadata": {},
   "outputs": [],
   "source": [
    "%gui qt5\n",
    "import pyqtgraph as pg\n",
    "app = pg.mkQApp()\n",
    "win = tdc.CatalogueWindow(cc)\n",
    "win.show()\n",
    "app.exec_()"
   ]
  },
  {
   "cell_type": "code",
   "execution_count": null,
   "metadata": {},
   "outputs": [],
   "source": [
    "# necessary if manual change \n",
    "cc.make_catalogue_for_peeler()"
   ]
  },
  {
   "cell_type": "markdown",
   "metadata": {},
   "source": [
    "# Peeler\n",
    "\n",
    "Use automatic parameters.\n"
   ]
  },
  {
   "cell_type": "code",
   "execution_count": 8,
   "metadata": {},
   "outputs": [
    {
     "name": "stdout",
     "output_type": "stream",
     "text": [
      "{'argmin_method': 'opencl', 'chunksize': 1000, 'engine': 'geometrical'}\n"
     ]
    }
   ],
   "source": [
    "peeler_params = tdc.get_auto_params_for_peelers(dataio, chan_grp=0)\n",
    "pprint(peeler_params)"
   ]
  },
  {
   "cell_type": "code",
   "execution_count": 9,
   "metadata": {},
   "outputs": [
    {
     "name": "stderr",
     "output_type": "stream",
     "text": [
      "100%|██████████| 150/150 [00:03<00:00, 39.66it/s]\n",
      "100%|██████████| 150/150 [00:03<00:00, 41.92it/s]\n",
      "100%|██████████| 150/150 [00:05<00:00, 25.05it/s]"
     ]
    },
    {
     "name": "stdout",
     "output_type": "stream",
     "text": [
      "peeler.run 13.46783941800004\n",
      "\n",
      "seg_num 0 nb_spikes 3982\n",
      "[( 7, 5, nan) (28, 1, nan) (67, 5, nan)]\n",
      "seg_num 1 nb_spikes 3471\n",
      "[( 62, 10, nan) (147,  2, nan) (148, 13, nan)]\n",
      "seg_num 2 nb_spikes 4498\n",
      "[(45,  5, nan) (65,  4, nan) (69, 14, nan)]\n"
     ]
    },
    {
     "name": "stderr",
     "output_type": "stream",
     "text": [
      "\n"
     ]
    }
   ],
   "source": [
    "catalogue = dataio.load_catalogue()\n",
    "\n",
    "peeler = Peeler(dataio)\n",
    "peeler.change_params(catalogue=catalogue, **peeler_params)\n",
    "\n",
    "t1 = time.perf_counter()\n",
    "peeler.run()\n",
    "t2 = time.perf_counter()\n",
    "print('peeler.run', t2-t1)\n",
    "\n",
    "print()\n",
    "for seg_num in range(dataio.nb_segment):\n",
    "    spikes = dataio.get_spikes(seg_num)\n",
    "    print('seg_num', seg_num, 'nb_spikes', spikes.size)\n",
    "    print(spikes[:3])\n",
    "    \n"
   ]
  },
  {
   "cell_type": "markdown",
   "metadata": {},
   "source": [
    "## Open PeelerWindow for visual checking"
   ]
  },
  {
   "cell_type": "code",
   "execution_count": 15,
   "metadata": {},
   "outputs": [
    {
     "data": {
      "text/plain": [
       "0"
      ]
     },
     "execution_count": 15,
     "metadata": {},
     "output_type": "execute_result"
    }
   ],
   "source": [
    "%gui qt5\n",
    "import pyqtgraph as pg\n",
    "app = pg.mkQApp()\n",
    "win = tdc.PeelerWindow(dataio=dataio, catalogue=initial_catalogue)\n",
    "win.show()\n",
    "app.exec_()\n"
   ]
  },
  {
   "cell_type": "markdown",
   "metadata": {},
   "source": [
    "Here a snappshot of PeelerWindow\n",
    "\n",
    "<img src=\"../doc/img/snapshot_peelerwindow.png\">"
   ]
  }
 ],
 "metadata": {
  "kernelspec": {
   "display_name": "Python 3",
   "language": "python",
   "name": "python3"
  },
  "language_info": {
   "codemirror_mode": {
    "name": "ipython",
    "version": 3
   },
   "file_extension": ".py",
   "mimetype": "text/x-python",
   "name": "python",
   "nbconvert_exporter": "python",
   "pygments_lexer": "ipython3",
   "version": "3.6.6"
  }
 },
 "nbformat": 4,
 "nbformat_minor": 1
}
