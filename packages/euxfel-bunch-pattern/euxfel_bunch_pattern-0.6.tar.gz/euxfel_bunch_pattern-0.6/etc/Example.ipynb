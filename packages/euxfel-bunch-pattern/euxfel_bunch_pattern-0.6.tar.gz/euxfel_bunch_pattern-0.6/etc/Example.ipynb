{
 "cells": [
  {
   "cell_type": "markdown",
   "metadata": {},
   "source": [
    "## Decoding bunch pattern data"
   ]
  },
  {
   "cell_type": "code",
   "execution_count": 1,
   "metadata": {},
   "outputs": [],
   "source": [
    "from karabo_data import RunDirectory\n",
    "import bunch_pattern"
   ]
  },
  {
   "cell_type": "code",
   "execution_count": 2,
   "metadata": {},
   "outputs": [],
   "source": [
    "run = RunDirectory('/gpfs/exfel/exp/SCS/201802/p002197/raw/r0462/')"
   ]
  },
  {
   "cell_type": "markdown",
   "metadata": {},
   "source": [
    "The bunch pattern is saved by the time server as an array of 32-bit integers, one for each possible pulse."
   ]
  },
  {
   "cell_type": "code",
   "execution_count": 3,
   "metadata": {},
   "outputs": [],
   "source": [
    "bunch_pattern_tables = run.get_array('SCS_RR_UTC/TSYS/TIMESERVER', 'bunchPatternTable.value', extra_dims=['pulse_slot'])"
   ]
  },
  {
   "cell_type": "code",
   "execution_count": 4,
   "metadata": {},
   "outputs": [
    {
     "data": {
      "text/plain": [
       "<xarray.DataArray (trainId: 5, pulse_slot: 2700)>\n",
       "array([[2146089,   32768,   33024, ...,       0,       0,       0],\n",
       "       [2146089,   32768,   33024, ...,       0,       0,       0],\n",
       "       [2146089,   32768,   33024, ...,       0,       0,       0],\n",
       "       [2146089,   32768,   33024, ...,       0,       0,       0],\n",
       "       [2146089,   32768,   33024, ...,       0,       0,       0]],\n",
       "      dtype=uint32)\n",
       "Coordinates:\n",
       "  * trainId  (trainId) uint64 45297262 45297263 45297264 45297265 45297266\n",
       "Dimensions without coordinates: pulse_slot"
      ]
     },
     "execution_count": 4,
     "metadata": {},
     "output_type": "execute_result"
    }
   ],
   "source": [
    "bunch_pattern_tables[:5]"
   ]
  },
  {
   "cell_type": "markdown",
   "metadata": {},
   "source": [
    "## Destinations"
   ]
  },
  {
   "cell_type": "markdown",
   "metadata": {},
   "source": [
    "The 32 bits of each entry record different information, including the destination of the pulse.\n",
    "\n",
    "E.g. we can see which pulses in each train were sent to different SASEs:"
   ]
  },
  {
   "cell_type": "code",
   "execution_count": 5,
   "metadata": {},
   "outputs": [
    {
     "name": "stdout",
     "output_type": "stream",
     "text": [
      "Train 45297262: 128 pulses to SASE1, 0 to SASE3\n",
      "Train 45297263: 128 pulses to SASE1, 0 to SASE3\n",
      "Train 45297264: 128 pulses to SASE1, 0 to SASE3\n",
      "Train 45297265: 128 pulses to SASE1, 0 to SASE3\n",
      "Train 45297266: 0 pulses to SASE1, 30 to SASE3\n",
      "Train 45297267: 128 pulses to SASE1, 0 to SASE3\n",
      "Train 45297268: 128 pulses to SASE1, 0 to SASE3\n",
      "Train 45297269: 128 pulses to SASE1, 0 to SASE3\n",
      "Train 45297270: 128 pulses to SASE1, 0 to SASE3\n",
      "Train 45297271: 0 pulses to SASE1, 30 to SASE3\n"
     ]
    }
   ],
   "source": [
    "for table in bunch_pattern_tables[:10]:\n",
    "    tid = table.trainId.item()\n",
    "    sase1_pulses = bunch_pattern.indices_at_sase(table.data, sase=1)\n",
    "    sase3_pulses = bunch_pattern.indices_at_sase(table.data, sase=3)\n",
    "    print(f\"Train {tid}: {len(sase1_pulses)} pulses to SASE1, {len(sase3_pulses)} to SASE3\")"
   ]
  },
  {
   "cell_type": "markdown",
   "metadata": {},
   "source": [
    "The *pulsePatternDecoder* Karabo device also produces this information:"
   ]
  },
  {
   "cell_type": "code",
   "execution_count": 6,
   "metadata": {
    "scrolled": true
   },
   "outputs": [
    {
     "name": "stdout",
     "output_type": "stream",
     "text": [
      "<xarray.DataArray (trainId: 10)>\n",
      "array([ 0,  0,  0,  0, 30,  0,  0,  0,  0, 30], dtype=int32)\n",
      "Coordinates:\n",
      "  * trainId  (trainId) uint64 45297262 45297263 45297264 45297265 45297266 ...\n"
     ]
    }
   ],
   "source": [
    "print(run.get_array('SCS_RR_UTC/MDL/BUNCH_DECODER', 'sase3.nPulses.value')[:10])"
   ]
  },
  {
   "cell_type": "markdown",
   "metadata": {},
   "source": [
    "We can also check this against an *X-ray Gas Monitor* (XGM) in SASE3.\n",
    "In trains where bunches are sent to SASE3, the XGM registers pulses with intensity > 3000,\n",
    "compared to < 1000 for the other trains.\n",
    "\n",
    "This XGM didn't record data for all trains, so we need to align the data.\n",
    "In the output below, missing data from the XGM shows up as `nan` (Not A Number).\n",
    "If we aligned with `join='inner'`, these rows would be dropped instead."
   ]
  },
  {
   "cell_type": "code",
   "execution_count": 7,
   "metadata": {
    "scrolled": false
   },
   "outputs": [
    {
     "name": "stdout",
     "output_type": "stream",
     "text": [
      "Train 45297262:\n",
      "  Bunches to SASE3: []...\n",
      "   XGM intensities: [437.2743  206.8512  283.20245 418.04456 349.41214]...\n",
      "\n",
      "Train 45297263:\n",
      "  Bunches to SASE3: []...\n",
      "   XGM intensities: [nan nan nan nan nan]...\n",
      "\n",
      "Train 45297264:\n",
      "  Bunches to SASE3: []...\n",
      "   XGM intensities: [121.54636  72.26654 175.06305  99.43744  72.64107]...\n",
      "\n",
      "Train 45297265:\n",
      "  Bunches to SASE3: []...\n",
      "   XGM intensities: [115.02722   60.6854   110.661606 102.08841  128.99011 ]...\n",
      "\n",
      "Train 45297266:\n",
      "  Bunches to SASE3: [240 256 272 288 304 320 336 352 368 384]...\n",
      "   XGM intensities: [3.4325640e+03 2.0774655e+00 6.4372176e-01 3.7218819e+00 3.2275093e+03]...\n",
      "\n",
      "Train 45297267:\n",
      "  Bunches to SASE3: []...\n",
      "   XGM intensities: [124.928825 174.05649  171.65717  113.17213  132.65349 ]...\n",
      "\n",
      "Train 45297268:\n",
      "  Bunches to SASE3: []...\n",
      "   XGM intensities: [nan nan nan nan nan]...\n",
      "\n",
      "Train 45297269:\n",
      "  Bunches to SASE3: []...\n",
      "   XGM intensities: [123.30196   90.413635  91.29729   89.01501   65.168045]...\n",
      "\n",
      "Train 45297270:\n",
      "  Bunches to SASE3: []...\n",
      "   XGM intensities: [185.49133   78.77983   93.73758   35.030167  95.65704 ]...\n",
      "\n",
      "Train 45297271:\n",
      "  Bunches to SASE3: [240 256 272 288 304 320 336 352 368 384]...\n",
      "   XGM intensities: [ 3.4964856e+03 -5.3838539e-01  2.9143038e+00  3.4526893e-01\n",
      "  3.2865796e+03]...\n",
      "\n"
     ]
    }
   ],
   "source": [
    "import xarray\n",
    "sa3_xgm_intensity = run.get_array('SA3_XTD10_XGM/XGM/DOOCS:output', 'data.intensityTD')\n",
    "bunch_pattern_tables, sa3_xgm_intensity = xarray.align(bunch_pattern_tables, sa3_xgm_intensity, join='outer')\n",
    "\n",
    "for bunch_table, intensities in zip(bunch_pattern_tables[:10], sa3_xgm_intensity):\n",
    "    print(f\"Train {bunch_table.trainId.item()}:\")\n",
    "    sa3_pulses = bunch_pattern.indices_at_sase(bunch_table.values, sase=3)\n",
    "    print(f\"  Bunches to SASE3: {sa3_pulses[:10]}...\")\n",
    "    print(f\"   XGM intensities: {intensities[:5].values}...\")\n",
    "    print()"
   ]
  },
  {
   "cell_type": "markdown",
   "metadata": {},
   "source": [
    "## Pulse charge"
   ]
  },
  {
   "cell_type": "markdown",
   "metadata": {},
   "source": [
    "You can also get the pulse charge in nanocoulombs (nC):"
   ]
  },
  {
   "cell_type": "code",
   "execution_count": 8,
   "metadata": {},
   "outputs": [
    {
     "data": {
      "text/plain": [
       "array([0.36, 0.  , 0.  , 0.  , 0.36, 0.  , 0.  , 0.  , 0.36, 0.  , 0.  ,\n",
       "       0.  , 0.36, 0.  , 0.  , 0.  , 0.36, 0.  , 0.  , 0.  , 0.36, 0.  ,\n",
       "       0.  , 0.  , 0.36, 0.  , 0.  , 0.  , 0.36, 0.  , 0.  , 0.  , 0.36,\n",
       "       0.  , 0.  , 0.  , 0.36, 0.  , 0.  , 0.  , 0.36, 0.  , 0.  , 0.  ,\n",
       "       0.36, 0.  , 0.  , 0.  , 0.36, 0.  , 0.  , 0.  , 0.36, 0.  , 0.  ,\n",
       "       0.  , 0.36, 0.  , 0.  , 0.  , 0.36, 0.  , 0.  , 0.  , 0.36, 0.  ,\n",
       "       0.  , 0.  , 0.36, 0.  , 0.  , 0.  , 0.36, 0.  , 0.  , 0.  , 0.36,\n",
       "       0.  , 0.  , 0.  , 0.36, 0.  , 0.  , 0.  , 0.36, 0.  , 0.  , 0.  ,\n",
       "       0.36, 0.  , 0.  , 0.  , 0.36, 0.  , 0.  , 0.  , 0.36, 0.  , 0.  ,\n",
       "       0.  , 0.36, 0.  , 0.  , 0.  , 0.36, 0.  , 0.  , 0.  , 0.36, 0.  ,\n",
       "       0.  , 0.  , 0.36, 0.  , 0.  , 0.  , 0.36, 0.  , 0.  , 0.  , 0.36,\n",
       "       0.  , 0.  , 0.  , 0.36, 0.  , 0.  , 0.  , 0.36, 0.  , 0.  , 0.  ,\n",
       "       0.36, 0.  , 0.  , 0.  , 0.36, 0.  , 0.  , 0.  , 0.36, 0.  , 0.  ,\n",
       "       0.  , 0.36, 0.  , 0.  , 0.  , 0.36, 0.  , 0.  , 0.  , 0.36, 0.  ,\n",
       "       0.  , 0.  , 0.36, 0.  , 0.  , 0.  , 0.36, 0.  , 0.  , 0.  , 0.36,\n",
       "       0.  , 0.  , 0.  , 0.36, 0.  , 0.  , 0.  , 0.36, 0.  , 0.  , 0.  ,\n",
       "       0.36, 0.  , 0.  , 0.  , 0.36, 0.  , 0.  , 0.  , 0.36, 0.  , 0.  ,\n",
       "       0.  , 0.36, 0.  , 0.  , 0.  , 0.36, 0.  , 0.  , 0.  , 0.36, 0.  ,\n",
       "       0.  , 0.  ])"
      ]
     },
     "execution_count": 8,
     "metadata": {},
     "output_type": "execute_result"
    }
   ],
   "source": [
    "bunch_pattern.get_charge(bunch_pattern_tables[0, :200])"
   ]
  }
 ],
 "metadata": {
  "kernelspec": {
   "display_name": "Python 3",
   "language": "python",
   "name": "python3"
  },
  "language_info": {
   "codemirror_mode": {
    "name": "ipython",
    "version": 3
   },
   "file_extension": ".py",
   "mimetype": "text/x-python",
   "name": "python",
   "nbconvert_exporter": "python",
   "pygments_lexer": "ipython3",
   "version": "3.6.5"
  }
 },
 "nbformat": 4,
 "nbformat_minor": 2
}
