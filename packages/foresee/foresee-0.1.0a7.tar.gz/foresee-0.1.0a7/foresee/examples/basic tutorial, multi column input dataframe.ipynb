{
 "cells": [
  {
   "cell_type": "markdown",
   "metadata": {},
   "source": [
    "##### An example of using foresee from jupyter notebook"
   ]
  },
  {
   "cell_type": "code",
   "execution_count": 1,
   "metadata": {},
   "outputs": [],
   "source": [
    "import warnings\n",
    "warnings.filterwarnings(\"ignore\")"
   ]
  },
  {
   "cell_type": "code",
   "execution_count": 2,
   "metadata": {},
   "outputs": [],
   "source": [
    "import pandas as pd\n",
    "import numpy as np\n",
    "from io import StringIO\n",
    "import importlib_resources\n",
    "\n",
    "# import main from foresee.scripts\n",
    "from foresee.scripts import main\n"
   ]
  },
  {
   "cell_type": "code",
   "execution_count": 3,
   "metadata": {},
   "outputs": [
    {
     "data": {
      "text/html": [
       "<div>\n",
       "<style scoped>\n",
       "    .dataframe tbody tr th:only-of-type {\n",
       "        vertical-align: middle;\n",
       "    }\n",
       "\n",
       "    .dataframe tbody tr th {\n",
       "        vertical-align: top;\n",
       "    }\n",
       "\n",
       "    .dataframe thead th {\n",
       "        text-align: right;\n",
       "    }\n",
       "</style>\n",
       "<table border=\"1\" class=\"dataframe\">\n",
       "  <thead>\n",
       "    <tr style=\"text-align: right;\">\n",
       "      <th></th>\n",
       "      <th>id</th>\n",
       "      <th>date_stamp</th>\n",
       "      <th>y</th>\n",
       "    </tr>\n",
       "  </thead>\n",
       "  <tbody>\n",
       "    <tr>\n",
       "      <th>0</th>\n",
       "      <td>1</td>\n",
       "      <td>2019-10-01</td>\n",
       "      <td>74.839996</td>\n",
       "    </tr>\n",
       "    <tr>\n",
       "      <th>1</th>\n",
       "      <td>1</td>\n",
       "      <td>2019-10-02</td>\n",
       "      <td>73.349998</td>\n",
       "    </tr>\n",
       "    <tr>\n",
       "      <th>2</th>\n",
       "      <td>1</td>\n",
       "      <td>2019-10-03</td>\n",
       "      <td>73.870003</td>\n",
       "    </tr>\n",
       "    <tr>\n",
       "      <th>3</th>\n",
       "      <td>1</td>\n",
       "      <td>2019-10-04</td>\n",
       "      <td>75.879997</td>\n",
       "    </tr>\n",
       "    <tr>\n",
       "      <th>4</th>\n",
       "      <td>1</td>\n",
       "      <td>2019-10-07</td>\n",
       "      <td>75.099998</td>\n",
       "    </tr>\n",
       "  </tbody>\n",
       "</table>\n",
       "</div>"
      ],
      "text/plain": [
       "   id date_stamp          y\n",
       "0   1 2019-10-01  74.839996\n",
       "1   1 2019-10-02  73.349998\n",
       "2   1 2019-10-03  73.870003\n",
       "3   1 2019-10-04  75.879997\n",
       "4   1 2019-10-07  75.099998"
      ]
     },
     "execution_count": 3,
     "metadata": {},
     "output_type": "execute_result"
    }
   ],
   "source": [
    "# upload sample time-series dataframe with columns(id, date_stamp, y)\n",
    "\n",
    "test_data_light_txt = importlib_resources.files('foresee.data').joinpath('test_data_light.csv').read_text()\n",
    "\n",
    "ts_df = pd.read_csv(StringIO(test_data_light_txt))\n",
    "\n",
    "\n",
    "ts_df['date_stamp'] = pd.to_datetime(ts_df['date_stamp'])\n",
    "ts_df.head()\n"
   ]
  },
  {
   "cell_type": "code",
   "execution_count": 4,
   "metadata": {},
   "outputs": [
    {
     "ename": "NameError",
     "evalue": "name 'utils' is not defined",
     "output_type": "error",
     "traceback": [
      "\u001b[1;31m---------------------------------------------------------------------------\u001b[0m",
      "\u001b[1;31mNameError\u001b[0m                                 Traceback (most recent call last)",
      "\u001b[1;32m<ipython-input-4-def5b97fd10a>\u001b[0m in \u001b[0;36m<module>\u001b[1;34m()\u001b[0m\n\u001b[0;32m      1\u001b[0m \u001b[1;31m# sample time-series dataframe with columns(id, date_stamp, y)\u001b[0m\u001b[1;33m\u001b[0m\u001b[1;33m\u001b[0m\u001b[0m\n\u001b[0;32m      2\u001b[0m \u001b[1;33m\u001b[0m\u001b[0m\n\u001b[1;32m----> 3\u001b[1;33m \u001b[0mts_df\u001b[0m \u001b[1;33m=\u001b[0m \u001b[0mutils\u001b[0m\u001b[1;33m.\u001b[0m\u001b[0mread_csv\u001b[0m\u001b[1;33m(\u001b[0m\u001b[1;34m'test_data_light.csv'\u001b[0m\u001b[1;33m)\u001b[0m\u001b[1;33m\u001b[0m\u001b[0m\n\u001b[0m\u001b[0;32m      4\u001b[0m \u001b[0mts_df\u001b[0m\u001b[1;33m[\u001b[0m\u001b[1;34m'date_stamp'\u001b[0m\u001b[1;33m]\u001b[0m \u001b[1;33m=\u001b[0m \u001b[0mpd\u001b[0m\u001b[1;33m.\u001b[0m\u001b[0mto_datetime\u001b[0m\u001b[1;33m(\u001b[0m\u001b[0mts_df\u001b[0m\u001b[1;33m[\u001b[0m\u001b[1;34m'date_stamp'\u001b[0m\u001b[1;33m]\u001b[0m\u001b[1;33m)\u001b[0m\u001b[1;33m\u001b[0m\u001b[0m\n\u001b[0;32m      5\u001b[0m \u001b[0mts_df\u001b[0m\u001b[1;33m.\u001b[0m\u001b[0mhead\u001b[0m\u001b[1;33m(\u001b[0m\u001b[1;33m)\u001b[0m\u001b[1;33m\u001b[0m\u001b[0m\n",
      "\u001b[1;31mNameError\u001b[0m: name 'utils' is not defined"
     ]
    }
   ],
   "source": [
    "# sample time-series dataframe with columns(id, date_stamp, y)\n",
    "\n",
    "ts_df = utils.read_csv('test_data_light.csv')\n",
    "ts_df['date_stamp'] = pd.to_datetime(ts_df['date_stamp'])\n",
    "ts_df.head()"
   ]
  },
  {
   "cell_type": "code",
   "execution_count": null,
   "metadata": {},
   "outputs": [],
   "source": [
    "# user defind parameters\n",
    "\n",
    "# time series values column name: required if input dataframe has more than one column\n",
    "\n",
    "endog_colname = 'y'\n",
    "\n",
    "if len(ts_df.columns) > 1 and endog_colname is None:\n",
    "    raise ValueError('time series column name is required!!!')\n",
    "\n",
    "# time series frequency\n",
    "freq = 5\n",
    "\n",
    "# out of sample forecast length\n",
    "fcst_length = 10\n",
    "\n",
    "# available forecasting models\n",
    "model_list = ['ewm_model', 'fft', 'holt_winters', 'prophet', 'sarimax']\n",
    "\n",
    "# avilable run types: 'best_model', 'all_best', 'all_models'\n",
    "run_type = 'all_best'\n",
    "\n",
    "# if comparing models (run_type in 'best_model' or 'all_best') then holdout length is required\n",
    "\n",
    "if run_type == 'all_models':\n",
    "    holdout_length = None\n",
    "else:\n",
    "    holdout_length = 20\n",
    "    \n",
    "# fit-forecast computations can be done in parallel for each time series. requires dask library!!!\n",
    "# for sequential processing set fit_execution_method to 'non_parallel'\n",
    "\n",
    "fit_execution_method = 'parallel'\n",
    "\n",
    "\n",
    "# since we have two time series in this dataset, time series id column name and date-time column name are required.\n",
    "gbkey = 'id'\n",
    "ds_column = 'date_stamp'"
   ]
  },
  {
   "cell_type": "code",
   "execution_count": null,
   "metadata": {},
   "outputs": [],
   "source": [
    "'''\n",
    "result:  dataframe containing fitted values and future forecasts\n",
    "fit_results_list:  list of dictionaries containing fitted values, forecasts, and errors (useful for debuging)\n",
    "'''\n",
    "\n",
    "result, fit_result_list = main.collect_result(\n",
    "                                                    ts_df.copy(),\n",
    "                                                    endog_colname,\n",
    "                                                    gbkey,\n",
    "                                                    ds_column, \n",
    "                                                    freq, \n",
    "                                                    fcst_length, \n",
    "                                                    run_type, \n",
    "                                                    holdout_length, \n",
    "                                                    model_list,\n",
    "                                                    fit_execution_method,\n",
    "                                            )\n",
    "\n",
    "result.head()"
   ]
  },
  {
   "cell_type": "code",
   "execution_count": null,
   "metadata": {},
   "outputs": [],
   "source": [
    "result.tail()"
   ]
  },
  {
   "cell_type": "code",
   "execution_count": null,
   "metadata": {},
   "outputs": [],
   "source": [
    "# m_list = model_list.remove('prophet')\n",
    "for k, df in result.groupby('ts_id'):\n",
    "    df.iloc[-50:].plot(y=[x+'_forecast' for x in model_list])\n"
   ]
  },
  {
   "cell_type": "code",
   "execution_count": null,
   "metadata": {},
   "outputs": [],
   "source": [
    "for item in fit_result_list:\n",
    "    for model in model_list:\n",
    "        if item[model+'_err'] is not None:\n",
    "            print(model + ': ' + item[model+'_err'])"
   ]
  }
 ],
 "metadata": {
  "kernelspec": {
   "display_name": "Python 3",
   "language": "python",
   "name": "python3"
  },
  "language_info": {
   "codemirror_mode": {
    "name": "ipython",
    "version": 3
   },
   "file_extension": ".py",
   "mimetype": "text/x-python",
   "name": "python",
   "nbconvert_exporter": "python",
   "pygments_lexer": "ipython3",
   "version": "3.6.5"
  }
 },
 "nbformat": 4,
 "nbformat_minor": 2
}
