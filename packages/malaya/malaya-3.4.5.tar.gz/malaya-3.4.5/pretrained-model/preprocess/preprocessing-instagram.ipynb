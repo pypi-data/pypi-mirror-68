{
 "cells": [
  {
   "cell_type": "code",
   "execution_count": 1,
   "metadata": {},
   "outputs": [
    {
     "name": "stdout",
     "output_type": "stream",
     "text": [
      "--2020-03-11 23:29:01--  https://huseinhouse-storage.s3-ap-southeast-1.amazonaws.com/bert-bahasa/dumping-instagram-6-july-2019.json\n",
      "Resolving huseinhouse-storage.s3-ap-southeast-1.amazonaws.com (huseinhouse-storage.s3-ap-southeast-1.amazonaws.com)... 52.219.128.187\n",
      "Connecting to huseinhouse-storage.s3-ap-southeast-1.amazonaws.com (huseinhouse-storage.s3-ap-southeast-1.amazonaws.com)|52.219.128.187|:443... connected.\n",
      "HTTP request sent, awaiting response... 200 OK\n",
      "Length: 438538761 (418M) [binary/octet-stream]\n",
      "Saving to: ‘dumping-instagram-6-july-2019.json’\n",
      "\n",
      "dumping-instagram-6 100%[===================>] 418.22M  38.7MB/s    in 11s     \n",
      "\n",
      "2020-03-11 23:29:13 (37.0 MB/s) - ‘dumping-instagram-6-july-2019.json’ saved [438538761/438538761]\n",
      "\n"
     ]
    }
   ],
   "source": [
    "!wget https://huseinhouse-storage.s3-ap-southeast-1.amazonaws.com/bert-bahasa/dumping-instagram-6-july-2019.json"
   ]
  },
  {
   "cell_type": "code",
   "execution_count": 2,
   "metadata": {},
   "outputs": [],
   "source": [
    "import cleaning"
   ]
  },
  {
   "cell_type": "code",
   "execution_count": 3,
   "metadata": {},
   "outputs": [
    {
     "data": {
      "text/plain": [
       "695571"
      ]
     },
     "execution_count": 3,
     "metadata": {},
     "output_type": "execute_result"
    }
   ],
   "source": [
    "import json\n",
    "\n",
    "with open('dumping-instagram-6-july-2019.json') as fopen:\n",
    "    instagram = json.load(fopen)\n",
    "len(instagram)"
   ]
  },
  {
   "cell_type": "code",
   "execution_count": 4,
   "metadata": {},
   "outputs": [
    {
     "name": "stderr",
     "output_type": "stream",
     "text": [
      " 93%|█████████▎| 40622/43473 [00:11<00:00, 3643.02it/s]\n",
      "100%|██████████| 3/3 [00:00<00:00, 4811.82it/s].30it/s]\n",
      " 93%|█████████▎| 40568/43473 [00:11<00:00, 3507.64it/s]\n",
      "100%|██████████| 43473/43473 [00:12<00:00, 3561.34it/s]\n",
      "100%|██████████| 43473/43473 [00:12<00:00, 3535.33it/s]\n",
      "100%|██████████| 43473/43473 [00:12<00:00, 3586.93it/s]\n",
      "100%|██████████| 43473/43473 [00:12<00:00, 3562.33it/s]\n",
      "100%|██████████| 43473/43473 [00:12<00:00, 3539.93it/s]\n",
      "100%|██████████| 43473/43473 [00:12<00:00, 3569.79it/s]\n",
      "100%|██████████| 43473/43473 [00:12<00:00, 3585.86it/s]\n",
      "100%|██████████| 43473/43473 [00:12<00:00, 3575.82it/s]\n",
      "100%|██████████| 43473/43473 [00:12<00:00, 3584.59it/s]\n",
      "100%|██████████| 43473/43473 [00:11<00:00, 3626.65it/s]\n",
      "100%|██████████| 43473/43473 [00:12<00:00, 3602.38it/s]\n",
      "100%|██████████| 43473/43473 [00:11<00:00, 3628.86it/s]\n",
      "100%|██████████| 43473/43473 [00:12<00:00, 3542.04it/s]\n",
      "100%|██████████| 43473/43473 [00:12<00:00, 3606.02it/s]\n"
     ]
    },
    {
     "name": "stdout",
     "output_type": "stream",
     "text": [
      "CPU times: user 1.82 s, sys: 1.65 s, total: 3.48 s\n",
      "Wall time: 13.9 s\n"
     ]
    }
   ],
   "source": [
    "%%time\n",
    "\n",
    "instagram = cleaning.multiprocessing(instagram, cleaning.cleaning_strings)"
   ]
  },
  {
   "cell_type": "code",
   "execution_count": 5,
   "metadata": {},
   "outputs": [
    {
     "name": "stdout",
     "output_type": "stream",
     "text": [
      "CPU times: user 2.62 s, sys: 1.01 s, total: 3.63 s\n",
      "Wall time: 4.25 s\n"
     ]
    }
   ],
   "source": [
    "%%time\n",
    "\n",
    "temp_vocab = list(set(cleaning.multiprocessing(instagram, cleaning.unique_words)))"
   ]
  },
  {
   "cell_type": "code",
   "execution_count": 6,
   "metadata": {},
   "outputs": [
    {
     "name": "stdout",
     "output_type": "stream",
     "text": [
      "174883\n",
      "CPU times: user 1.23 s, sys: 622 ms, total: 1.86 s\n",
      "Wall time: 4.86 s\n"
     ]
    }
   ],
   "source": [
    "%%time\n",
    "\n",
    "# important\n",
    "temp_dict = cleaning.multiprocessing(temp_vocab, cleaning.duplicate_dots_marks_exclamations, list_mode = False)\n",
    "print(len(temp_dict))"
   ]
  },
  {
   "cell_type": "code",
   "execution_count": 7,
   "metadata": {},
   "outputs": [
    {
     "name": "stderr",
     "output_type": "stream",
     "text": [
      "100%|██████████| 43473/43473 [00:01<00:00, 36231.71it/s]\n",
      "100%|██████████| 43473/43473 [00:01<00:00, 36444.28it/s]\n",
      "100%|██████████| 43473/43473 [00:01<00:00, 35958.22it/s]\n",
      "100%|██████████| 43473/43473 [00:01<00:00, 35483.75it/s]\n",
      "100%|██████████| 43473/43473 [00:01<00:00, 35706.53it/s]\n",
      " 33%|███▎      | 14258/43473 [00:00<00:00, 35752.41it/s]\n",
      "100%|██████████| 43473/43473 [00:01<00:00, 35194.77it/s]\n",
      "100%|██████████| 43473/43473 [00:01<00:00, 35566.65it/s]\n",
      "100%|██████████| 43473/43473 [00:01<00:00, 35692.28it/s]\n",
      "100%|██████████| 3/3 [00:00<00:00, 17949.95it/s]50it/s]]\n",
      "100%|██████████| 43473/43473 [00:01<00:00, 36005.99it/s]\n",
      "100%|██████████| 43473/43473 [00:01<00:00, 36326.96it/s]\n",
      "100%|██████████| 43473/43473 [00:01<00:00, 36559.28it/s]\n",
      "100%|██████████| 43473/43473 [00:01<00:00, 37055.38it/s]\n",
      "100%|██████████| 43473/43473 [00:01<00:00, 37142.74it/s]\n",
      "100%|██████████| 43473/43473 [00:01<00:00, 37057.49it/s]\n",
      "100%|██████████| 43473/43473 [00:01<00:00, 36330.80it/s]\n"
     ]
    },
    {
     "name": "stdout",
     "output_type": "stream",
     "text": [
      "CPU times: user 2.26 s, sys: 1.67 s, total: 3.93 s\n",
      "Wall time: 5 s\n"
     ]
    }
   ],
   "source": [
    "%%time\n",
    "\n",
    "instagram = cleaning.multiprocessing_multiple(instagram, temp_dict, cleaning.string_dict_cleaning)"
   ]
  },
  {
   "cell_type": "code",
   "execution_count": 8,
   "metadata": {},
   "outputs": [
    {
     "name": "stdout",
     "output_type": "stream",
     "text": [
      "904\n",
      "CPU times: user 794 ms, sys: 713 ms, total: 1.51 s\n",
      "Wall time: 2.07 s\n"
     ]
    }
   ],
   "source": [
    "%%time\n",
    "\n",
    "# important\n",
    "temp_dict = cleaning.multiprocessing(temp_vocab, cleaning.remove_underscore, list_mode = False)\n",
    "print(len(temp_dict))"
   ]
  },
  {
   "cell_type": "code",
   "execution_count": 9,
   "metadata": {},
   "outputs": [
    {
     "name": "stderr",
     "output_type": "stream",
     "text": [
      "100%|██████████| 43473/43473 [00:01<00:00, 41003.64it/s]\n",
      " 98%|█████████▊| 42807/43473 [00:01<00:00, 31649.86it/s]\n",
      "\n",
      "100%|██████████| 43473/43473 [00:01<00:00, 34797.78it/s]\n",
      "100%|██████████| 43473/43473 [00:01<00:00, 36066.06it/s]\n",
      " 72%|███████▏  | 31391/43473 [00:00<00:00, 40102.83it/s]\n",
      "100%|██████████| 43473/43473 [00:01<00:00, 40102.08it/s]\n",
      "100%|██████████| 43473/43473 [00:01<00:00, 39700.26it/s]\n",
      "100%|██████████| 43473/43473 [00:01<00:00, 39899.96it/s]\n",
      " 75%|███████▌  | 32814/43473 [00:00<00:00, 41094.59it/s]\n",
      "100%|██████████| 43473/43473 [00:01<00:00, 39802.06it/s]\n",
      "100%|██████████| 43473/43473 [00:01<00:00, 40622.71it/s]\n",
      " 84%|████████▍ | 36568/43473 [00:00<00:00, 40395.79it/s]\n",
      "100%|██████████| 43473/43473 [00:01<00:00, 40377.28it/s]\n",
      "100%|██████████| 43473/43473 [00:01<00:00, 40213.71it/s]\n",
      "100%|██████████| 43473/43473 [00:01<00:00, 41007.12it/s]\n",
      "100%|██████████| 43473/43473 [00:01<00:00, 40498.99it/s]\n"
     ]
    },
    {
     "name": "stdout",
     "output_type": "stream",
     "text": [
      "CPU times: user 868 ms, sys: 1.23 s, total: 2.1 s\n",
      "Wall time: 3.01 s\n"
     ]
    }
   ],
   "source": [
    "%%time\n",
    "\n",
    "instagram = cleaning.multiprocessing_multiple(instagram, temp_dict, cleaning.string_dict_cleaning)"
   ]
  },
  {
   "cell_type": "code",
   "execution_count": 10,
   "metadata": {},
   "outputs": [
    {
     "name": "stdout",
     "output_type": "stream",
     "text": [
      "494\n",
      "CPU times: user 606 ms, sys: 789 ms, total: 1.4 s\n",
      "Wall time: 2.05 s\n"
     ]
    }
   ],
   "source": [
    "%%time\n",
    "\n",
    "# important\n",
    "temp_dict = cleaning.multiprocessing(temp_vocab, cleaning.isolate_spamchars, list_mode = False)\n",
    "print(len(temp_dict))"
   ]
  },
  {
   "cell_type": "code",
   "execution_count": 11,
   "metadata": {},
   "outputs": [
    {
     "name": "stderr",
     "output_type": "stream",
     "text": [
      "100%|██████████| 43473/43473 [00:01<00:00, 38343.84it/s]\n",
      "\n",
      "100%|██████████| 3/3 [00:00<00:00, 20971.52it/s].37it/s]\n",
      "100%|██████████| 43473/43473 [00:01<00:00, 40018.98it/s]\n",
      "100%|██████████| 43473/43473 [00:01<00:00, 40108.44it/s]\n",
      "100%|██████████| 43473/43473 [00:01<00:00, 38805.24it/s]\n",
      "100%|██████████| 43473/43473 [00:01<00:00, 39987.78it/s]\n",
      "100%|██████████| 43473/43473 [00:01<00:00, 35799.43it/s]\n",
      "100%|██████████| 43473/43473 [00:01<00:00, 39626.95it/s]\n",
      "100%|██████████| 43473/43473 [00:01<00:00, 40749.92it/s]\n",
      "100%|██████████| 43473/43473 [00:01<00:00, 38746.01it/s]\n",
      "100%|██████████| 43473/43473 [00:01<00:00, 38681.65it/s]\n",
      "100%|██████████| 43473/43473 [00:01<00:00, 38926.60it/s]\n",
      "100%|██████████| 43473/43473 [00:01<00:00, 39124.11it/s]\n",
      "100%|██████████| 43473/43473 [00:01<00:00, 40258.45it/s]\n",
      "100%|██████████| 43473/43473 [00:01<00:00, 39974.42it/s]\n",
      "100%|██████████| 43473/43473 [00:01<00:00, 37505.47it/s]\n"
     ]
    },
    {
     "name": "stdout",
     "output_type": "stream",
     "text": [
      "CPU times: user 921 ms, sys: 1.32 s, total: 2.24 s\n",
      "Wall time: 3.23 s\n"
     ]
    }
   ],
   "source": [
    "%%time\n",
    "\n",
    "instagram = cleaning.multiprocessing_multiple(instagram, temp_dict, cleaning.string_dict_cleaning)"
   ]
  },
  {
   "cell_type": "code",
   "execution_count": 12,
   "metadata": {},
   "outputs": [
    {
     "name": "stdout",
     "output_type": "stream",
     "text": [
      "56352\n",
      "CPU times: user 757 ms, sys: 943 ms, total: 1.7 s\n",
      "Wall time: 1.94 s\n"
     ]
    }
   ],
   "source": [
    "%%time\n",
    "temp_dict = cleaning.multiprocessing(temp_vocab, cleaning.break_short_words, list_mode = False)\n",
    "print(len(temp_dict))"
   ]
  },
  {
   "cell_type": "code",
   "execution_count": 13,
   "metadata": {},
   "outputs": [
    {
     "name": "stderr",
     "output_type": "stream",
     "text": [
      "100%|██████████| 43473/43473 [00:01<00:00, 34300.10it/s]\n",
      "100%|██████████| 43473/43473 [00:01<00:00, 36859.39it/s]\n",
      "100%|██████████| 43473/43473 [00:01<00:00, 37079.13it/s]\n",
      "100%|██████████| 3/3 [00:00<00:00, 18752.48it/s].35it/s]\n",
      "100%|██████████| 43473/43473 [00:01<00:00, 35780.47it/s]\n",
      "100%|██████████| 43473/43473 [00:01<00:00, 36702.45it/s]\n",
      "100%|██████████| 43473/43473 [00:01<00:00, 33680.39it/s]\n",
      "100%|██████████| 43473/43473 [00:01<00:00, 37117.54it/s]\n",
      "100%|██████████| 43473/43473 [00:01<00:00, 34143.14it/s]\n",
      "100%|██████████| 43473/43473 [00:01<00:00, 37347.31it/s]\n",
      "100%|██████████| 43473/43473 [00:01<00:00, 34335.23it/s]\n",
      "100%|██████████| 43473/43473 [00:01<00:00, 36039.71it/s]\n",
      "100%|██████████| 43473/43473 [00:01<00:00, 36971.44it/s]\n",
      "100%|██████████| 43473/43473 [00:01<00:00, 36756.04it/s]\n",
      "100%|██████████| 43473/43473 [00:01<00:00, 35473.52it/s]\n",
      "100%|██████████| 43473/43473 [00:01<00:00, 35613.21it/s]\n",
      "100%|██████████| 43473/43473 [00:01<00:00, 37415.15it/s]\n"
     ]
    },
    {
     "name": "stdout",
     "output_type": "stream",
     "text": [
      "CPU times: user 1.4 s, sys: 1.71 s, total: 3.11 s\n",
      "Wall time: 4.1 s\n"
     ]
    }
   ],
   "source": [
    "%%time\n",
    "\n",
    "instagram = cleaning.multiprocessing_multiple(instagram, temp_dict, cleaning.string_dict_cleaning)"
   ]
  },
  {
   "cell_type": "code",
   "execution_count": 14,
   "metadata": {},
   "outputs": [
    {
     "name": "stdout",
     "output_type": "stream",
     "text": [
      "15580\n",
      "CPU times: user 689 ms, sys: 937 ms, total: 1.63 s\n",
      "Wall time: 1.89 s\n"
     ]
    }
   ],
   "source": [
    "%%time\n",
    "temp_dict = cleaning.multiprocessing(temp_vocab, cleaning.break_long_words, list_mode = False)\n",
    "print(len(temp_dict))"
   ]
  },
  {
   "cell_type": "code",
   "execution_count": 15,
   "metadata": {},
   "outputs": [
    {
     "name": "stderr",
     "output_type": "stream",
     "text": [
      "100%|██████████| 43473/43473 [00:01<00:00, 38660.87it/s]\n",
      "100%|██████████| 3/3 [00:00<00:00, 16049.63it/s]40it/s]]\n",
      "100%|██████████| 43473/43473 [00:01<00:00, 37749.43it/s]\n",
      "100%|██████████| 43473/43473 [00:01<00:00, 37447.76it/s]\n",
      "100%|██████████| 43473/43473 [00:01<00:00, 37108.16it/s]\n",
      "100%|██████████| 43473/43473 [00:01<00:00, 36214.96it/s]\n",
      "100%|██████████| 43473/43473 [00:01<00:00, 36253.34it/s]\n",
      "100%|██████████| 43473/43473 [00:01<00:00, 36374.68it/s]\n",
      "100%|██████████| 43473/43473 [00:01<00:00, 37754.45it/s]\n",
      "100%|██████████| 43473/43473 [00:01<00:00, 39183.75it/s]\n",
      "100%|██████████| 43473/43473 [00:01<00:00, 36401.04it/s]\n",
      "100%|██████████| 43473/43473 [00:01<00:00, 38502.87it/s]\n",
      "100%|██████████| 43473/43473 [00:01<00:00, 38827.05it/s]\n",
      "100%|██████████| 43473/43473 [00:01<00:00, 38059.66it/s]\n",
      "100%|██████████| 43473/43473 [00:01<00:00, 38860.92it/s]\n",
      "100%|██████████| 43473/43473 [00:01<00:00, 37569.32it/s]\n",
      "100%|██████████| 43473/43473 [00:01<00:00, 35516.69it/s]\n"
     ]
    },
    {
     "name": "stdout",
     "output_type": "stream",
     "text": [
      "CPU times: user 1 s, sys: 1.64 s, total: 2.64 s\n",
      "Wall time: 3.67 s\n"
     ]
    }
   ],
   "source": [
    "%%time\n",
    "\n",
    "instagram = cleaning.multiprocessing_multiple(instagram, temp_dict, cleaning.string_dict_cleaning)"
   ]
  },
  {
   "cell_type": "code",
   "execution_count": 16,
   "metadata": {},
   "outputs": [
    {
     "name": "stdout",
     "output_type": "stream",
     "text": [
      "4044\n",
      "CPU times: user 592 ms, sys: 1.01 s, total: 1.6 s\n",
      "Wall time: 1.83 s\n"
     ]
    }
   ],
   "source": [
    "%%time\n",
    "temp_dict = cleaning.multiprocessing(temp_vocab, cleaning.remove_ending_underscore, list_mode = False)\n",
    "print(len(temp_dict))"
   ]
  },
  {
   "cell_type": "code",
   "execution_count": 17,
   "metadata": {},
   "outputs": [
    {
     "name": "stderr",
     "output_type": "stream",
     "text": [
      "100%|██████████| 43473/43473 [00:01<00:00, 39410.98it/s]\n",
      "100%|██████████| 43473/43473 [00:01<00:00, 36241.50it/s]\n",
      "100%|██████████| 43473/43473 [00:01<00:00, 38995.38it/s]\n",
      "100%|██████████| 3/3 [00:00<00:00, 16935.28it/s].71it/s]\n",
      "100%|██████████| 43473/43473 [00:01<00:00, 38979.77it/s]\n",
      "100%|██████████| 43473/43473 [00:01<00:00, 38418.67it/s]\n",
      "100%|██████████| 43473/43473 [00:01<00:00, 37241.84it/s]\n",
      "100%|██████████| 43473/43473 [00:01<00:00, 38161.42it/s]\n",
      "100%|██████████| 43473/43473 [00:01<00:00, 35297.77it/s]\n",
      "100%|██████████| 43473/43473 [00:01<00:00, 37803.63it/s]\n",
      " 95%|█████████▍| 41225/43473 [00:01<00:00, 38493.79it/s]\n",
      "100%|██████████| 43473/43473 [00:01<00:00, 37569.44it/s]\n",
      " 83%|████████▎ | 35907/43473 [00:01<00:00, 34533.86it/s]\n",
      "100%|██████████| 43473/43473 [00:01<00:00, 32228.41it/s]\n",
      "100%|██████████| 43473/43473 [00:01<00:00, 32975.24it/s]\n",
      "100%|██████████| 43473/43473 [00:01<00:00, 33218.16it/s]\n",
      "100%|██████████| 43473/43473 [00:01<00:00, 39240.43it/s]\n"
     ]
    },
    {
     "name": "stdout",
     "output_type": "stream",
     "text": [
      "CPU times: user 896 ms, sys: 1.56 s, total: 2.46 s\n",
      "Wall time: 3.66 s\n"
     ]
    }
   ],
   "source": [
    "%%time\n",
    "\n",
    "instagram = cleaning.multiprocessing_multiple(instagram, temp_dict, cleaning.string_dict_cleaning)"
   ]
  },
  {
   "cell_type": "code",
   "execution_count": 18,
   "metadata": {},
   "outputs": [
    {
     "name": "stdout",
     "output_type": "stream",
     "text": [
      "2642\n",
      "CPU times: user 823 ms, sys: 958 ms, total: 1.78 s\n",
      "Wall time: 1.98 s\n"
     ]
    }
   ],
   "source": [
    "%%time\n",
    "temp_dict = cleaning.multiprocessing(temp_vocab, cleaning.remove_starting_underscore, list_mode = False)\n",
    "print(len(temp_dict))"
   ]
  },
  {
   "cell_type": "code",
   "execution_count": 19,
   "metadata": {},
   "outputs": [
    {
     "name": "stderr",
     "output_type": "stream",
     "text": [
      "100%|██████████| 43473/43473 [00:01<00:00, 35963.89it/s]\n",
      "100%|██████████| 43473/43473 [00:01<00:00, 38420.51it/s]\n",
      "100%|██████████| 43473/43473 [00:01<00:00, 38333.65it/s]\n",
      "100%|██████████| 3/3 [00:00<00:00, 13052.81it/s]\n",
      "100%|██████████| 43473/43473 [00:01<00:00, 37407.69it/s]\n",
      " 40%|████      | 17401/43473 [00:00<00:00, 35010.13it/s]\n",
      "100%|██████████| 43473/43473 [00:01<00:00, 37288.61it/s]\n",
      "100%|██████████| 43473/43473 [00:01<00:00, 36787.40it/s]\n",
      " 76%|███████▌  | 33016/43473 [00:00<00:00, 36941.59it/s]\n",
      "100%|██████████| 43473/43473 [00:01<00:00, 39355.36it/s]\n",
      "100%|██████████| 43473/43473 [00:01<00:00, 34610.30it/s]\n",
      "100%|██████████| 43473/43473 [00:01<00:00, 39279.71it/s]\n",
      "100%|██████████| 43473/43473 [00:01<00:00, 39152.65it/s]\n",
      "100%|██████████| 43473/43473 [00:01<00:00, 37175.73it/s]\n",
      "100%|██████████| 43473/43473 [00:01<00:00, 37569.48it/s]\n",
      "100%|██████████| 43473/43473 [00:01<00:00, 37103.72it/s]\n",
      "100%|██████████| 43473/43473 [00:01<00:00, 37874.54it/s]\n"
     ]
    },
    {
     "name": "stdout",
     "output_type": "stream",
     "text": [
      "CPU times: user 964 ms, sys: 1.68 s, total: 2.64 s\n",
      "Wall time: 3.59 s\n"
     ]
    }
   ],
   "source": [
    "%%time\n",
    "\n",
    "instagram = cleaning.multiprocessing_multiple(instagram, temp_dict, cleaning.string_dict_cleaning)"
   ]
  },
  {
   "cell_type": "code",
   "execution_count": 20,
   "metadata": {},
   "outputs": [
    {
     "name": "stdout",
     "output_type": "stream",
     "text": [
      "588929\n",
      "CPU times: user 2.45 s, sys: 1.03 s, total: 3.48 s\n",
      "Wall time: 3.68 s\n"
     ]
    }
   ],
   "source": [
    "%%time\n",
    "temp_dict = cleaning.multiprocessing(temp_vocab, cleaning.end_punct, list_mode = False)\n",
    "print(len(temp_dict))"
   ]
  },
  {
   "cell_type": "code",
   "execution_count": 21,
   "metadata": {},
   "outputs": [
    {
     "name": "stderr",
     "output_type": "stream",
     "text": [
      "100%|██████████| 43473/43473 [00:01<00:00, 31393.12it/s]\n",
      "100%|██████████| 43473/43473 [00:01<00:00, 30983.75it/s]\n",
      "100%|██████████| 43473/43473 [00:01<00:00, 31252.05it/s]\n",
      "100%|██████████| 43473/43473 [00:01<00:00, 31225.48it/s]\n",
      "100%|██████████| 43473/43473 [00:01<00:00, 29816.81it/s]\n",
      " 21%|██▏       | 9240/43473 [00:00<00:01, 30708.44it/s]]\n",
      "100%|██████████| 43473/43473 [00:01<00:00, 30966.02it/s]\n",
      "100%|██████████| 43473/43473 [00:01<00:00, 29452.55it/s]\n",
      "100%|██████████| 43473/43473 [00:01<00:00, 30747.13it/s]\n",
      "100%|██████████| 43473/43473 [00:01<00:00, 30236.70it/s]\n",
      "100%|██████████| 43473/43473 [00:01<00:00, 30955.53it/s]\n",
      " 47%|████▋     | 20247/43473 [00:00<00:00, 29219.23it/s]\n",
      "100%|██████████| 3/3 [00:00<00:00, 17975.59it/s].55it/s]\n",
      "100%|██████████| 43473/43473 [00:01<00:00, 31211.02it/s]\n",
      " 82%|████████▏ | 35516/43473 [00:01<00:00, 33477.11it/s]\n",
      "100%|██████████| 43473/43473 [00:01<00:00, 32460.92it/s]\n",
      "100%|██████████| 43473/43473 [00:01<00:00, 32717.65it/s]\n"
     ]
    },
    {
     "name": "stdout",
     "output_type": "stream",
     "text": [
      "CPU times: user 5.4 s, sys: 2.05 s, total: 7.45 s\n",
      "Wall time: 8.92 s\n"
     ]
    }
   ],
   "source": [
    "%%time\n",
    "\n",
    "instagram = cleaning.multiprocessing_multiple(instagram, temp_dict, cleaning.string_dict_cleaning)"
   ]
  },
  {
   "cell_type": "code",
   "execution_count": 22,
   "metadata": {},
   "outputs": [
    {
     "name": "stdout",
     "output_type": "stream",
     "text": [
      "1317420\n",
      "CPU times: user 4.85 s, sys: 1.07 s, total: 5.92 s\n",
      "Wall time: 6.1 s\n"
     ]
    }
   ],
   "source": [
    "%%time\n",
    "temp_dict = cleaning.multiprocessing(temp_vocab, cleaning.start_punct, list_mode = False)\n",
    "print(len(temp_dict))"
   ]
  },
  {
   "cell_type": "code",
   "execution_count": 23,
   "metadata": {},
   "outputs": [
    {
     "name": "stderr",
     "output_type": "stream",
     "text": [
      "100%|██████████| 43473/43473 [00:01<00:00, 27392.83it/s]\n",
      "100%|██████████| 43473/43473 [00:01<00:00, 26834.21it/s]\n",
      "100%|██████████| 43473/43473 [00:01<00:00, 26550.10it/s]\n",
      "100%|██████████| 43473/43473 [00:01<00:00, 26633.57it/s]\n",
      "100%|██████████| 43473/43473 [00:01<00:00, 26912.37it/s]\n",
      "100%|██████████| 43473/43473 [00:01<00:00, 26527.74it/s]\n",
      "100%|██████████| 43473/43473 [00:01<00:00, 25887.39it/s]\n",
      "100%|██████████| 43473/43473 [00:01<00:00, 26883.78it/s]\n",
      "100%|██████████| 43473/43473 [00:01<00:00, 27184.52it/s]\n",
      "100%|██████████| 43473/43473 [00:01<00:00, 26260.89it/s]\n",
      "100%|██████████| 43473/43473 [00:01<00:00, 26843.11it/s]\n",
      "100%|██████████| 43473/43473 [00:01<00:00, 27359.56it/s]\n",
      "100%|██████████| 43473/43473 [00:01<00:00, 26608.88it/s]\n",
      "100%|██████████| 43473/43473 [00:01<00:00, 26676.95it/s]\n",
      "100%|██████████| 3/3 [00:00<00:00, 16299.11it/s].06it/s]\n",
      "100%|██████████| 43473/43473 [00:01<00:00, 26425.35it/s]\n",
      "100%|██████████| 43473/43473 [00:01<00:00, 28740.98it/s]\n"
     ]
    },
    {
     "name": "stdout",
     "output_type": "stream",
     "text": [
      "CPU times: user 12.4 s, sys: 3.99 s, total: 16.4 s\n",
      "Wall time: 18.3 s\n"
     ]
    }
   ],
   "source": [
    "%%time\n",
    "\n",
    "instagram = cleaning.multiprocessing_multiple(instagram, temp_dict, cleaning.string_dict_cleaning)"
   ]
  },
  {
   "cell_type": "code",
   "execution_count": 24,
   "metadata": {},
   "outputs": [
    {
     "name": "stdout",
     "output_type": "stream",
     "text": [
      "1960\n",
      "CPU times: user 681 ms, sys: 1.05 s, total: 1.73 s\n",
      "Wall time: 2.12 s\n"
     ]
    }
   ],
   "source": [
    "%%time\n",
    "temp_dict = cleaning.multiprocessing(temp_vocab, cleaning.join_dashes, list_mode = False)\n",
    "print(len(temp_dict))"
   ]
  },
  {
   "cell_type": "code",
   "execution_count": 25,
   "metadata": {},
   "outputs": [
    {
     "name": "stderr",
     "output_type": "stream",
     "text": [
      "100%|██████████| 43473/43473 [00:01<00:00, 32229.35it/s]\n",
      "100%|██████████| 43473/43473 [00:01<00:00, 29978.53it/s]\n",
      "100%|██████████| 3/3 [00:00<00:00, 19007.42it/s].52it/s]\n",
      "100%|██████████| 43473/43473 [00:01<00:00, 32313.77it/s]\n",
      "100%|██████████| 43473/43473 [00:01<00:00, 30771.19it/s]\n",
      " 56%|█████▋    | 24468/43473 [00:00<00:00, 31207.35it/s]\n",
      " 83%|████████▎ | 36032/43473 [00:01<00:00, 32827.33it/s]\n",
      " 80%|████████  | 34832/43473 [00:01<00:00, 29784.11it/s]\n",
      " 82%|████████▏ | 35605/43473 [00:01<00:00, 32519.45it/s]\n",
      "100%|██████████| 43473/43473 [00:01<00:00, 31304.80it/s]\n",
      "100%|██████████| 43473/43473 [00:01<00:00, 32666.87it/s]\n",
      "100%|██████████| 43473/43473 [00:01<00:00, 29139.30it/s]\n",
      "100%|██████████| 43473/43473 [00:01<00:00, 32417.03it/s]\n",
      "100%|██████████| 43473/43473 [00:01<00:00, 31220.65it/s]\n",
      "100%|██████████| 43473/43473 [00:01<00:00, 31248.03it/s]\n",
      "100%|██████████| 43473/43473 [00:01<00:00, 31797.16it/s]\n",
      "100%|██████████| 43473/43473 [00:01<00:00, 31088.69it/s]\n"
     ]
    },
    {
     "name": "stdout",
     "output_type": "stream",
     "text": [
      "CPU times: user 1.02 s, sys: 1.64 s, total: 2.66 s\n",
      "Wall time: 3.81 s\n"
     ]
    }
   ],
   "source": [
    "%%time\n",
    "\n",
    "instagram = cleaning.multiprocessing_multiple(instagram, temp_dict, cleaning.string_dict_cleaning)"
   ]
  },
  {
   "cell_type": "code",
   "execution_count": 26,
   "metadata": {
    "scrolled": false
   },
   "outputs": [
    {
     "data": {
      "text/plain": [
       "['Roti Jala 10rb / pck # rotijala # nomnommedan # kulinermedan # rotijalamedan # rotijalakari # rotijalakarimedan',\n",
       " 'SUPLEMEN PENINGGI BADAN Mau Meninggikan Badan secara Cepat , Sehat dan Alami hanya dalam Hitungan Minggu ? Kenggulan Paket Peninggi Super Grow Up - Meninggikan Badan secara Cepat , Sehat dan Alami - Memadatkan Tulang dan Merangsang Pertumbuhan Tulang - Terbuat dari Kalsium Organik dengan Penyerapan Terbaik di Dunia - Mengandung Multivitamin Zinc , Vitamin D dan Berbagai Nutrisi untuk membantu Pertumbuhan - Aman Tanpa Efek Samping ( MUI,BPOM,GMP ) - Bisa dikonsumsi dari usia 12 - 35 Tahun untuk Menambahkan Tinggi Badan Umur Anda bukan Penghambat untuk Menaikkan Tinggi Badan loh Mumpung masih usia 12-35 Tahun sudah saatnya Impian Anda mempunyai Tinggi Badan yg Ideal terwujud setelah Mengkonsumsi Paket Peninggi Super Grow Up kita Selain suplemen peninggi badan , kita juga menjual suplemen penambah berat badan :) Mau ? Konsultasikan sekarang yuk di WA :+ 628986038290 # wanita # omteloletom # dagelan # sexy # ppap # nutrisi # renang # savegempi # peninggibadan # pesilat # pilot # pramugari # supergrowup # caratinggi # obattinggi # tinggialami # solusipendek # polisi # tentara # indonesia # perwira # traveller # travelling # onlineshop # tiktok # viral # basket',\n",
       " 'Wanita PKR Melaka terkejut dan kesal dengan tindakan pemimpin cabangnya Rohani Mahmood mengumumkan menyertai Umno . Ketua Wanita PKR negeri , Ginie Lim berkata punca sebenar bekas ketua Wanita cabang Tangga Batu itu akan disiasat dan dibawa kepada biro politik parti itu . \" Pengumuman mantan ketua Wanita Cabang Tangga Batu Rohani Mahmood menyertai Umno dalam sosial media Facebook adalah mengejutkan . \" Tindakan Rohani menyertai pembangkang adalah amat dikesali . Saya akan menyiasat punca sebenar dan memberi penjelasan kepada Biro Politik ,\" katanya dalam suatu kenyataan hari ini . Lim menjelaskan pihaknya tidak pernah menerima sebarang surat perletakan jawatan daripada Rohani . Sebaliknya , kata Lim , berdasarkan peraturan Wanita PKR , Rohani secara teknikalnya masih kekal sebagai Ketua Wanita Cabang . Sementara itu , Lim yang juga Adun Machap Jaya mengesahkan perletakan jawatan ketua Wanita PKR Cabang Kota Melaka Laila Maidon dibuat atas faktor kesihatan . \" Surat perletakan jawatan telah diterima dalam Mesyuarat Wanita Negeri pada 21 Mei . Perkara ini turut dimaklumkan kepada ketua Wanita Pusat , pengerusi Majlis Pimpinan Negeri dan ketua Cabang PKR Kota Melaka pada 24 Mei ,\" katanya . # umnomalaysia # umnojohor # barisannasional # pemudaumnomalaysia # pemudaumnojohor # wanitaumnomalaysia # wanitaumnojohor # puteriumnomalaysia # puteriumnojohor # umnobahagianpulai # umnopulai # umnobangkit # partiislamsemalaysiapas',\n",
       " 'GLOBAL CONCERN WITH LOCAL ACTION . Save Our Nature , Save Our Future \" Bila engkau berpikir untuk satu tahun ke depan , tanamlah sebiji benih . Bila engkau berpikir untuk sepuluh tahun ke depan , tanamlah sebatang pohon .\" -Anonim . . Hai semua ! Aku Lusi siap berkontribusi dalam Penanaman Pohon 2019 sebagai upaya untuk menjaga bumi pertiwi . # penanamanpohon # penanamanpohon2019 # kehutanan # kehutananugm # kehutananugm2018 # fkt18 # dkt18',\n",
       " 'Ready Hakerta cowboy original jumbo natural dolf # Hakertacowboy . Harga akustik 670.000 Bonus Kunci L bagi yang datang langsung ke showroom . . . Bahan dan sparepart yang kami pakai : Neck mahogany + dilengkapi trush rod(besi ) untuk penguat dan untuk ngesett neck . Dryer grover stainles / silver yang mudah n ringan saat diputar . Freetboard rosewood natural rosewood mempunya tipical yang keras sehingga awet , seratnya juga bagus untuk menunjang penampilan gitar . Fret baja Front body sipruce laminated pilihan dengan teksture natural dan berkualitas . Side body meranti sehingga tebal membuat suara manteb . Back body meranti Seluruh sudut body dilengkapi binding penguat sampai neck . Dan dihiasi binding kerang yang menunjang penampilan . binding sebagai pelindung sudut2 gitar . Sudah dilengkapi 2 pin strap utk pemakaian tali / strap Bridge natural rosewood Playbility nyaman di tangan enak ditelinga , suara mantabs gain panjang , treeble midle n gain OK Whatsapp sms telfon 085640966699 SIAP kirim luar kota dan luar jawa # supermusikkudus # rosewood # mahogany # minggu # morning # kudus # gitar # gitarakustik # gitarmurah # pemula # belajar # musik # akustikelektrik # gitarakustik # kudus # gitarkudus # jepara # supermusik # supermusikkudus # rosewood # original # sellergitar # elektrik # akustikelektrik # musik # hakerta # gitarakustikkudus # customgitar # gitarcustom # jualgitar # penjualgitar # gitarisband # cowboyoriginal # cowboyakustik # cowboy',\n",
       " 'Dijual Laptop Asus X441S Laptop Tanpa Kendala bos dan siap pakai . Kondisi masih mulus baterai awet , Cocok untuk membuat anda mengerjakan tugas sekolah , kuliah maupun Kantoran . Gratis cek sepuasnya dan Garansi Spesifikasi = Processor Intel Celeron N3060 1.6 Ghz RAM 2 GB HDD 500 GB Layar 14 Inc full hd Baterai Awet 2 jam Kondisi masih mulus TANPA KENDALA Garansi 1 / 2 bulan = Kelengkapan Laptop + Charger Harga Rp . 2.400.000 Nego Halus Minat Telp Wa 081251376873 # jual # laptop # juallaptop # pontianak # juallaptoppontianak # murah # laptopmurah # laptopmurahpontianak # PONTIANAKVIDGRAM # OLSHOPPONTIANAK # PONTIANAK # GROSIRPONTIANAK # BARANGUNIK # BARANGUNIKPONTIANAK # KADOPONTIANAK # KADOUNIK # KADOUNIKPONTIANAK # KADOLUCU # KADOLUCUPONTIANAK # TOKOONLINEPONTIANAK # PONTIANAKVIRAL # VIRALPONTIANAK # PONTIANAKMEDIA # PONTIANAKINFORMASI # pontianakinformasi # pontianakmedia # pontianakkite # pontianakjual # budakpontianak # pontianakpunye # pontianakhits',\n",
       " 'Harga emas ada naik turun . Harga JP tiada ya # kalau # harga # emas # turun # semua # beli # perhiasan # wajib # katanya # kesihatan # pula # bagaimana # dong ? # enorsmatshop # NORSMATNSONSTRADING # NZRUSMAWATIMENTOR92769',\n",
       " 'Alhamdulillah . Meluncur New OPPO A5s Hitam OPPO A3s 2gb Merah Terima kasih banyak kk Anhy Sweet & Rosmini pembeliannya ditoko kami MULIA SEJATI CELL & Terima kasih jg telah percaya pada OPPO Semoga tetap berlangganan . . . . . . # oppo # oppoa5s # a5s # oppoa3s # a3s # a3s2gb # opposoppeng # oppoparepare # oppoindonesia',\n",
       " 'Kami sentiasa mengalukan anda semua di dalam family # bravocheese . Yg mencari bisnes sampingan boleh terus contact kami . Yg belom merasai keenakan bravocheese boleh terus ke Instgram kami . Terima Kasih kerna memilih bravocheese sbg snek pilihan . utk lebih detail wapsep now # kuihraya2019 # jjcm2018 # ketukketukramadan # foodviral # popiacheese # biskut # dapopatauptownkontena # ter # sekmung # gomokelategomo # popiacheese',\n",
       " 'Lowongan Kerja Budi Sehat . . . Jangan lupa follow Untuk mendapatkan update loker yang lainnya . # loker # lokersoloraya # lokersolo # job # surabaya # bandung # lowongankerja # infoloker # infolokersolo # jobfair # kerja # carikerja # uns # ums # unisri # unssolo # solo # surakarta # boyolali # wonogiri # lokerkaranganyar # karanganyar # lokerboyolali # lokersragen # lokerklaten # lokerwonogiri # lokersukoharjo # kartasura # jogja # lokersemarang',\n",
       " 'UNTUK PEMESANAN BISA LANGSUNG HUB : BBM : lihat di Profile WA / SMS : 081906512705 Line : ( pakai WEBSITE : KODE : 2012 READY STOCK Harga only Rp 142.000 ,- ( sepasang / 2pcs ) Hanya + 30rb u / cetak nama sepasang cincin Ring box + 43rb ** BISA CETAK NAMA SESUAI FONT KEINGINAN DI MS.WORD # cincin # cincinnikah # cincincouple # cincintunangan # jualcincin # cincinmurah # kalungmurah # kalungtitanium # kalungcouple # coupleshops # ceritamedan # stainless # antihitam # antikarat # hadiahunik # kadounik # import # cincinimport # trusted # kado # give # hadiahkekinian # birthdaygift # givebirthday # weddings # tahunbaru # valentine2019 # kadovalentine # hadiahvalentine',\n",
       " 'Casing cust selamat mendarat dengan jayanya . . . . . # hcfeedback # lenovovibe # lenovocase # lenovo',\n",
       " '\"CPKB \" Istilah ini sering disebut . Tapi yang dimaksud dengan CPKB itu sebenernya apa sih ? CPKB adalah singkatan dari Cara Pembuatan Kosmetika yang Baik , atau istilah kerennya diluar GMP . Kenapa dalam menentukan pabrik , salah satu yang harus dipertimbangkan adalah apakah pabrik tersebut sudah CPKB atau belum ? Karena tujuan dari diadakannya sertifikasi CPKB adalah , agar para produsen skin care dan kosmetik bisa menghasilkan produk yang memenuhi tingkat mutu tertentu secara konsisten . Jadi produk yang dihasilkan juga tetap terjaga mutunya dan tidak asal asalan . Selamat beraktifitas CREATE YOUR OWN BEAUTY PRODUCT WITH US For more information : - - wa . : 0815 1515 1615 - line . : Clientservice # oemskincare # oemcosmetic # privatelabel # maklonskincare # makloncosmetic # skincare # personalcare # wetwipes # decorative # bodycare # facecare # haircare # footcare # naturalingredients # naturalskincare # bpom # cpkb # gmp',\n",
       " 'Apakah kamu lebih menyenangi kehidupan di dunia daripada kehidupan di akhirat ? Padahal kenikmatan hidup di dunia ini ( dibandingkan dengan kehidupan ) di akhirat hanyalah sedikit . ( QS . At Taubah : 38 ) # hijrah # hijrahtube # hijrahkuy # hijrahfisabilillah # hijrahku # hijrahbawaperubahan # motivasihijrah # hijrahquote # allah # muhammad # allahuakbar # islam # islamquote # islamicquotes # islamquotes # islami # muslim # muslims # muslimindonesia # quran # firmanallah # katakatabijak # katakatamotivasi # katakatamutiara # kehidupan # kehidupanislam # perintahallah # duniasementara # pelajaranhidup',\n",
       " '* MORESKIN CLEAN & GLOW Moreskin Clen & Glow merupakan salah satu produk kecantikan terbaru dari keluarga MORESKIN yang didistribusikan oleh PT Natural Nusantara . MORESKIN Clean and Glow merupakan krim booster yang diformulasikan khusus untuk melindungi dan memelihara kesehatan kulit wajah , mempercepat proses peremajaan kulit sehingga Anda dapat mewujudkan kulit yang terlihat lebih putih , glowing dan lebih kencang . MORESKIN Clean and Glow terbukti efektif mampu membuat kulit wajah terasa lebih sehat dan cerah alami , serta terbebas dari berbagai masalah kulit wajah seperti kulit kusam dan warna kulit tidak merata . Manfaat pada MORESKIN Clean and Glow merupakan salah satu impian dari seorang wanita . # Manfaat Moreskin Clen & Glow Cream booster merupakan produk perawatan kulit yang berfungsi untuk memperkuat dan memperbaiki kinerja kulit . Karena banyaknya serangan kepada kulit mulai dari polusi , sinar UV hingga faktor umur dan stress , sehingga lapisan kulit membutuhkan pertolongan maksimal supaya terhindar dari infeksi dan dehidrasi serta tetap menjaga kelembaban , kilau dan kekenyalannya . Cream boster membantu cara kerja serum dan moisturizer dan memastikan produk perawatan tersebut bekerja dengan maksimal . Cream boster dapat memberi perlindungan ekstra dan menjaga kelembapan yang dibutuhkan oleh kulit Anda . # Aturan pakai Dosis pemakaian hanya dianjurkan 3 hari dalam semingg Digunakan pada pagi dan malam hariGunakan rutin sesuai dosis agar mendapatkan manfaat yang optimal Keterangan : Tersedia dalam kemasan jar 20 gram Telah terdaftar di Badan POM dengan Nomor POM NA 18171900370 Wa;082218058334 # pemutihwajah # glowing # cremherbal # moreskinclenglow # kosmetikmurah # grosirkosmetik',\n",
       " 'Cincin mewah Model berlian asli Harga Rp 250.000 Material : Copper Alloy / Tembaga Lapis emas 18-24K Permata cutting fine of cubic Zirconia ( Sama dengan permata yang digunakan diperhiasan asli ) Aman untuk kulit sensitif Tidak luntur saat dipakai KHUSUS YANG SERIUS DAN AKAN TRANSAKSI Screenshot model dan harga Inbox / DM Wa 085761864592 Mohon salah 1 saja BASED ON MEDAN cincin#berlian#replikaberlian#turamedan#emasputih#emas#kebaya#wisuda#party#weddingplanner#weddingdress#jewelry#mua#pernikahan#pesta#batak#prawedding#stainlesssteel#titanium#nailart#makeup#lapisemas#xupingjewelry#medanpreloved#branded#perhiasanimport#perhiasanriau#olshopsurabaya#xupingdepok#perhiasanbali#xupingbandung',\n",
       " 'Jom sarapan pagi Ada roti canai , nasi lemak , lauk pauk . Jom Boleh hubungi kami di : 0142526153 0142526153 0142526153 . . No 25 Jalan rp 13 / 2 Taman Rawang Perdana 2 , 48000 Rawang . # restoranrawang # kedaimakanrawang # foodhuntrawang # foodrawang # roticanairawang # kedairawang # nasilemakrawang # breakfastrawang # westernfoodrawang # rawang # makanrawang # makandirawang # restaurantrawang # asampedas # asampedasrawang # asampedassungaibuloh # kateringmurah # kateringrawang # kateringkl # kateringmajlisharijadi # kateringmajlisakikah # majlisakikah # boatnoodlerawang # boatnoodleselangor # boatnoodlesungaibuloh # boatnoodle',\n",
       " 'Hai moms resep simpel krn mamarain lg kehabisan ide plus stok sayur . Jadilah masal toton otai-otai hihi alias telur putar2 . beras putih telor yampung Kaldu , garam sedikit . Reaksi baby Nael ? Abis dengan sedikit perjuangan hahaha Gpp dong ya sekalikali makan seadanya . Moms dirumah ad yg pernah gini ? Hehe # littlepantau # ceritanaelelo # mpasibabynael # sharingmpasi # sharingmamarain # mpasi9bulan # menumpasi9bulan # mpasiempatbintang # mpasisehat # parenting # newmom # dailyfoodfeed # dailyfood # motherhood # mothercare # breastfeeding # breastfeedingmom # babyfood # babyfeeding # menumpasi # homemade # solidfood # mpasirumahan # resepmpasi',\n",
       " '# jumma Mubarak # famail#frndslove#modal#fashion#love#photography',\n",
       " 'Bawang merah hari ke 2 . . # kebunmuni # kebun # petani # green # hidroponik # hidroponikpemula # hidroponiksederhana # belajarberkebun # budikdamber # berkebun # urbanfarmer # urbangardening # indonesiamenanam # indonesiamenanamsayur # bercocoktanam',\n",
       " 'Menu hari ini 01-07-2019 Kiam hu bak Ikan mayung sambal Sambal goreng udang ampela Perkedel Telur mata sapi sambal Cha brokoli Cha tanghun Keripik kentang kering Sup kacang merah Free delivery se-kota binjai # menu # nasisayur # nasicampur # chinesefood # foodie # foodies # foodporn # food # kulinerbinjai # kuliner # binjai # sambal # pedas # ikanasin # terimedan # delicious # sedap # hociak # freedelivery',\n",
       " 'Udah ada rencana apa belum ni besok mau kemana ? . Dari pada bingung , yuk ke Smarco Ringroad City Walk sekalian jalan - jalan bareng keluarga . . Karena mulai besok sampai dengan minggu kita akan ada event Free Drink buat kalian yang lagi berbelanja di Smarco , Ringroad City Walk . Disini kamu bisa icip - icip produk Teh Surya sekalian mengenal varian produknya . . # tehsurya # tehhangat # tehasliindonesia # tea # teh # edukasi # tehhijausurya # tehhijau # tehcelup # healthy # healthylife # tehsuryaproduct # freedrink # goodmorning # supermarket # secangkirsemangat # smarco # ringroadcitywalks # event',\n",
       " 'Mau percaya atau tidak , itu tidak penting , yang penting ikut promilnya , sebab nanti pun masih tidak percaya kalo ternyata bisa hamil beneran . Follow dan like Layanan Konsultasi kami , HEALTH & PREGNANCY CONSULTANT Pengobatan Penyakit Program kehamilan Infertilitas Kecantikan Diet Vitalitas Pria&wanita Contact person : . # bajukeren#kulinerpedasmalang # gamisbatik # sepatuwanita # batikseragam # aksesorishp # jualkadounik # bunga # strolleranak # alatmusikbekas # sepedaanak # peralatanrumahtangga # anyaman # sabunpemutih # broshijab # pantai # switermurah # lantaikayu # broshijab # gantungankuncifoto # souvenirmojokerto # kipasmini # sepatugunungcewek # celanakulot # switercowok # leptoplenovo # songketpalembangmurah # kamerasecond#ayambakarkecap',\n",
       " 'Wow . Kenapa perlu tenung lelama ? Grab cepat sebelum kehabisan stok gaisss',\n",
       " 'Bismillaah NASI AYAM KATSU . Silahkan mampir,insyaa Allaah lapar di perut antum & antunna terobati . = Varian-varian NASI MANGKOK Ibn ADAM : Nasi Sosis Pedas Manis : 13.000 Nasi Sambal Teri : 14.000 Ayam Sambal Matah : 18.000 Ayam Mentega : 20.000 Ayam BBQ : 20.000 Bola Ayam Lada Hitam : 20.000 Bola Ayam Original : 18.000 Ayam Katsu : 23.000 = Jl . Dr.Sutomo ( warkop fajar ) No.4 09.00-17.00 buka lagi 20.00-22.00 WIB . # nasi # ricebowl # wisatakulinerpontianak # makananlezat',\n",
       " 'Jenis : Af Saddle ( lokal ) Status : Sepasang Indukan Kondisi sehat tanpa cacat Harga : 2**.000 ( blm ongkir ) . . . # merpatihias # merpatihiasindonesia # pigeon # burungdara # hiasanrumah # merpati # americanfantail # merpatilokal # hobbymerpati # merpatiku # breeding # hobbyternak # af # jualmerpatihias # welovemerpatihias # fancypigeon # kipas',\n",
       " 'memorning shemua . today anjeli dalam hati ader munger sikit tau untuk pengetahuan shemua anjeli bukan sahaja boleh jadi seller # perodua tetapi boleh menyanyikan lagu hendostan jugek semoga ada aura positif selalu # muskurane # arijitsingh # sales # perodua # peroduamyvi # peroduaaxia # peroduaalza # peroduaaruz # peroduaviva # peroduakancil # fullloan # ambank # publicbank # cimb # maybank # rhbbank # kualalumpur # selangor # ampang # setapak # gombak # subang # putrajaya # cyberjaya # gentingklang # wangsamaju # danaukota # putrajaya # subangairport # klia # puchong',\n",
       " 'Gelang Cartier rosegold Kadar : 75 % 14.7gr Harga lelang : 4.845.000 # emasmurah # emas916 # emas916murah # emasmurahonline # emas # emas916malaysia # cincin # gold # gelangemas # perhiasanemas # rantaitanganemas # gelang # emasmurahmalaysia # jualbeliemas # emasonline # perhiasanmurah # murah # berlian # emaskuning # cincinemas # trustedseller # emasonlinemurah # emasputih # gelangemas916 # bazarpaknil # perhiasan # rantaitangan # emasmurah916 # kalung # emas916online',\n",
       " 'katanya jarang2 aplut lagu ginian . nihh aplut wkwk :\" # coverlagu # coverlaguindonesia # indonesia # lagugalau # laguhits # lagu # musikindonesia # musicvideo # musiccover # indomusikgram # musikgram # video # song # instagram # instavideo # instamusik # lfl # fff # vokalplus # vokaliscewek # vokal # vokalplusindo # rembulaningwengi # rembulan # campursari # campursarikoplo # nyanyi',\n",
       " 'Predator by # korizzaclub # nightclub # nightparty # nightlife # djs # predator # purpleface # led # lasershow # housemusic # partytime # basshouse # futurehouse # electronic # festival # techhouse # tbt # mlt # zp # ukraine',\n",
       " 'KENALIN TIM KITA YANG SATU INI CC : SEMANGAT BERKONTRIBUSI UNTUK NEGERI ! # KKN # UINJKTOFFICIAL # UINJKT # KuliahKerjaNyata # Bogor # Jasinga # Relawan # Mengabdi # Peduli # Masyarakat # Pendidikan # Sosial # Ekonomi',\n",
       " 'Jaga Sehat dan Cantikmu dengan Glucola Stevia . Glucola Stevia adalah salah satu produk kesehatan & kecantikan dari MCI yang mengandung tidak hanya Stevia sebagai pemanis alami , tapi juga mengandung Collagen dan Glutathione . Adapun MANFAAT daripada Glucola Stevia adalah sebagai berikut : - Membuat kulit jadi kenyal - Sebagai anti-oksidan bagi kulit - Menjadikan kulit kencang dan elastis - Mengecilkan pori-pori kulit - Memudarkan tanda-tanda penuaan pada wajah - Mencerahkan kulit - Menghilangkan jerawat dan bekas jerawat Dan manfaat lain sebagainya . Glucola Stevia bisa Sobat MCI bisa didapatkan di Stokis Resmi MCI di kota Sobat MCI Sharing is caring Wa 083893103630 Better Life with MCI # ProdukMCI # ProdukKesehatan # ProdukKecantikan # Stevia # Collagen # Glutathione # GlucolaStevia # ManfaatGlucola # TubuhSehat # WajahCantik # BebasPenuaanDini # AntiOksidan # KulitKencang # KulitKenyal # AsamAmino # PendukungJaringanTubuh # Oksigen # Hidrogen ## PemanisAlami # BPOM # JambuBijiBubuk # StroberiBubuk',\n",
       " 'Student paling sesuai gunakan set ini . Set basic 3 in 1 ni sangat sesuai untuk penjagaan semua jenis kulit muka supaya kulit lebih cantik dan sihat gitu . . Student set ni ada 3 produk utama : Pure Soap Bar Sesuai untuk semua jenis kulit kerana ia lebih lembut pada kulit muka . Organic Loofah Digunakan seminggu sekali dengan pure soap bar . Sangat membantu untuk mengurangkan blackhead dan menanggalkan kulit mati pada muka . Organic Luxurious Face Oil Produk paling best dan hot selling . Membantu menyekatakan warna kulit , memudarkan jeragat , melembabkan kulit . Paling best boleh protect kulit kita daripada UV . Lagi-lagi bila kita berjalan nak ke kelas tu kan ? . Best ke best tu ? . Ps : Set ni RM95.00 je . COD # Kerteh # Paka ( daily basis ) # Dungun ( weekly basis ) . Pengeposan seluruh Malaysia . Harga tidak termasuk pos . . # kemaman # dungun # chukai # terengganu # uitmdungun # adania # amaryllisregistereddistributor # isell # sayajual # sayajualskincare # organikskincare # gogreen # amarylliscodservice # uitmdungun # uitm # ranaco # tatiuc # tatiuniversitycollege . COD Kerteh & Paka . Pengeposan seluruh Malaysia WhatsApp 0134773391',\n",
       " 'Traktor adalah sebuah mesin pertanian yang digunakan untuk membajak tanah sebelum melakukan penanaman . Salah satu traktor yang sering digunakan adalah traktor beroda empat . Seiring dengan perkembangan zaman , traktor roda empat sudah berkembang dari segi teknologi , desain , dan fungsinya . Ternyata , traktor roda empat sendiri terdiri dari beberapa jenis berdasarkan fungsinya , yaitu sebagai berikut . 1 . Crawler tractor , traktor yang menggunakan rantai sebagai roda . 2 . Standard Row Crop , traktor yang umum digunakan di perkebunan dimana tanaman ditanam berbaris-baris . 3 . High Clearance , traktor yang memiliki jarak yang tinggi antara badan traktor dengan tanah . Cocok digunakan di perkebunan sayuran . 4 . Orchard , traktor yang mudah membelok sehingga cocok digunakan di perkebunan dengan pepohonan yang lebat . 5 . Multipurpose , traktor yang digunakan untuk banyak keperluan . 6 . Lawn and Garden , traktor yang digunakan di kebun , misalnya untuk memotong rumput . 7 . Tree Skidder , traktor yang digunakan untuk menarik dan mengangkat kayu yang ditebang . 8 . Skid Steer Loader , traktor yang memiliki loader dan dapat mengangkat berbagai peralatan . 9 . Four Wheel Drive with Front Steering Wheel , traktor yang memiliki roda belakang lebih besar dari roda depan , memiliki tarikan yang lebih besar . 10 . Four Wheel Drive with Equal Sized Wheel , traktor yang digunakan di lahan yang berat . . . . Jangan lupa SHARE ke teman-teman kamu ya . Ingin dapat informasi seputar pertanian ? 1 . Download aplikasi Pak Tani Digital di 2 . Follow IG 3 . Ikuti Fanpage FB Pak Tani Digital 4 . Baca artikel kami di 5 . Tonton video kami di # paktanidigital # ptd # petani # pertanian # indonesia # pertanianIndonesia # ladang # petaniberbagi # petaniberdasi # berkebun # menanam # petanimuda # tanaman # kementerianpertanian # dinaspertanian # ipb # ipbbogor # artikel # tips # info # alat # mesin # traktor # instagood # photooftheday',\n",
       " 'Dilaksanakannya Pemusnahan Barang Bukti Narkotika dan lain2 Perkara Tindak Pidana Umum diKantor Kejaksaan Negeri Kaur pada hari Jumat tanggal 12 April 2019 yang di hadiri oleh Kasat Narkoba , Kanit Reskrim , Asisten 1 Pemda Kaur , dan perwakilan Dinkes Kabupaten Kaur . # kejaksaanri # sosialmedia # massmedia',\n",
       " 'IBFONLINE2019 . Masih Ada Diskon Buku-Buku Terbaik Ummul Qura dan Aqwam Group . . Bukan cuma Jakarta dan sekitarnya , # IBFONLINE2019 untuk seluruh Indonesia ! . Dapatkan Buku \" Hati Sebening Mata Air \" dengan spesial harga 49.000 . . Pesan di sini : ( klik link di bio ) / 08112639000 ( WA ) . . . # buku # bukuislam # bukuislami # bukusunnah # IBF2019 # IBF2019jakarta # IslamicBookFair # islamicbookfair2019 # islamicbookfairjakarta # jakartaconventioncenter # promobuku # pameranbuku # WisataLiterasi # LiterasiIslam # bukuberkualitas # pecandubuku # ayobaca # bukuanakislami # bukucerita # bukubestseller # ibfonline # bukutauhid # bukuterjemahan # bukuceritaanakmurah # bukudongenganak # inspirasiamalkebaikan # bukumalang # bukupromo # paketbukumurah',\n",
       " 'Menarik bukan bekas ini ? Kini semua bubur lambuk telah dipekkan dalam bekas kuning istimewa ni untuk diedarkan kepada orang ramai di Jalan Bunus sebentar lagi ! Dengan mesej Love Food Hate Waste sebagai tanda peringatan kepada smua masyarakat untuk tidak membazirkan makanan . Selain itu , dengan bekas ini , ia juga dapat mengurangkan kegunaan beg plastik yang lebih banyak mendatangkan pencemaran kepada alam sekitar . # ramadhan # csr # lovefoodhatewaste # teamwork # charity # alhamdulillah # buburlambuk # imarah',\n",
       " 'iKuota kini hadir dalam bentuk aplikasi di ponsel android anda ! . Segera download dan dapatkan yang anda inginkan langsung dari genggaman anda . . Download di link berikut : ( Huruf besar dan kecil harus persis sama ) . # kuota # kuotamurah # kuotamurmer # jualkuota # jualkuotamurah # kuotainternetmurah # kuotainject # kuotainjek # injectkuotamurah # injekkuotamurah # internetmurah # kuotainjectmurah # kuotainjekmurah # agenkuota # agenkuotamurah # jualpaketdata # kuotatelkomsel # kuotatri # kuotaxl # kuotaindosat # kuotaaxis # kuotabolt # pulsamurah # vouchergame # vouchergamemurah',\n",
       " 'Haritu datang beli satu . Harini sis ni repeat 3 pack terus . Alhamdulillah dia kata sedap korang yg masih ragu2 dgn kesedapan ni tak payah tgu lama2 . Dtg terus seksyen 9 dan dapatkan lasagna korang okay . . # lasagna # lasagnangencess # lasagnasedap # lasagnamurah # lasagnashahalam # shahalamfood # shahalamfooddelivery # foodhuntermalaysia # foodmalaysia # makanansedap # jjcm # vitdaily # birthdayparty # cateringshahalam # uitmshahalam # msushahalam # uniselshahalam # universitimalaya # seksyen9shahalam # shahalam # petalingjaya # kualalumpur # cspscs # ajimaura # terapiinstagram # padubeb # trending # viralmalaysia',\n",
       " 'Kenali satu persatu untuk menentukan hijab pilihan kalian lihat di gambar sebelum dan sesudahnya yaa . Cek testi produk kami . . Di kalian juga bisa pilih tepi hijab seperti yang kalian inginkan Request yuuk . . Tepi neci & jahit bisa untuk segala macam hijab . Kecuali , tepi rawis hanya khusus . . # hijabpartai # hijabseragam # grosir # partai # ecer # diskon # hijabrawis # hijab # tepihijab # hijabcantik # hijabgrosir # seragam # likeforlike # like # hijabseragam # hijabkeluarga # punyasingosari # singosarihits # jahit # penjahit # desaigner # desaignhijab # permakhijab # permak # spesialis # spesialishijab # singosarimalang',\n",
       " '1 HARI JE LAGI . . KAMI BERBESAR HARI MENJEMPUT SEMUA PELANGGAN SAUDAGAR KAMBING BAKAR UTK MEMERIAHKAN LAGI HARI RABU 3 APRIL 2019 . MINTA SHARE PADA RAKAN2 KORANG . Keaslian & Kesegaran itu satu kepastian . . Hari Operasi : Setiap Hari Buka Waktu : 3.30ptg - 1.00pagi Lokasi : Jalan Kebun barat . Waze / Google Map : saudagar Kambing bakar shah alam . . Allah bagi indah , cantik dan sedap . . . # saudagarkambingbakar # chickencopviral4_90 # kambingbakarcheese # foodandbeverage # malaysia # selangor # shahalam # sedapnya # cuticutimalaysia # lepak # makanmalam # jommakan # santaisantai # jemputmakan # welovefood # food # makansampaikenyang # jalanjalancarimakan',\n",
       " '7 Kelebihan dollywax 1 . Dollywax 100 % penanggal bulu organik dan selamat digunakan utk semua jenis kulit 2 . Kulit uolls akan bertambah licin dan halus selepas menggunakan dollywax 3 . Dollywax dapat menghilangkan kehitaman daripada kesan bercukur 4 . Bulu akan tanggal sehingga akar 5 . Melambatkan proses pertumbuhan bulu 6 . Dollywax dapat digunakan pada bila-bila masa dimana uolls boleh berwaxing dari rumah shj 7 . Tak perlu berbelanja mahal dimana 1 pack dollywax mampu bertahan sehingga 1-2 bulan ! Cepat dapatkan dollywax anda sekarang ! . . Untuk order boleh tekan link di bio # waxing # wax # kualalumpur # bangsar # lrtuniversiti # hardwax # hardwaxbeans # hardwaxmurah # waxmalaysia # waxmalaysiamurah # waxmurah # hygiene # likeforfollow # like4follow # utm # unikl # um # upm # wawawax # fynawax # candywax',\n",
       " '# Repost Yay dah baik demam # hohoho # demam # klang',\n",
       " 'Membuat karya besar adalah impian banyak orang . Namun banyak orang terhenti berkarya ketika tetiba impian menjelma menjadi raksasa . Impian yang besar memotivasi sekaligus pandai mengejutkan dan membuat banyak orang syok dan berhenti . Tiada impian yang terlalu besar , ia hanya mendadak terlihat besar ketika kita terlalu lama mengabaikannya . Bijaklah dalam bermimpi dan mendampinginya . Buatlah tangga-tangga terukur dalam menggapainya . Jika hotel merah adalah impian , maka tak selalu harus langsung meraup warna merah untuk mewujudkannya . Kita bisa menitinya lewat satu demi satu warna hijau rumah kita . # monopoly # progressplan # tangga # UpYourSoul',\n",
       " 'Lagi rame dan gencar iklan jam tangan anak di TV ya ? Saya pun ada jam tangan untuk anak malah lebih keren nih , juga bergaransi . bisa arisan lagi . * HAFIZ SMART WATCH * . Warna menarik untuk anak-anak Tema jam bisa diubah , Touchscreen GPS Tracking SMS dan Telepon Games 100 icon kegiatan anak sehari-hari dan kegiatan islam alarm pengingat Terkoneksi dengan HP orangtua . Ada yang sudah berencana memberi hadiah ke si Kecil dengan produk ini ? Yuk segera realisasikaaan . Bisa arisan ? Bisaaaaaa bangeeeetttttt ! # smartwatch # hafizwatch # smartwatchanak # jamtangananak # jamtangan # alqolam # tigaraksa # steam',\n",
       " 'Custom printing casing TER-BAIK , hasil PREMIUM , TER-PERCAYA . Sangat berpengalaman karena kami mencetak ribuan casing setiap minggunya 1 . Admin FAST RESPONSE 2 . Pengerjaan CEPAT ( 1-3 hari kerja saja ) 3 . Gambar di atas tersedia untuk lebih dari 300 model gadget . 4 . BISA CUSTOM PRINTING CASING DENGAN GAMBAR APAPUN DAN TIPE HP APAPUN * ( WA untuk tanya stok gadget kamu :) 5 . Printing , bukan tempelan atau sticker yang mudah terkelupas . 6 . Hasil awet , gambar jelas dan tidak buram 7 . Untuk desain / gambar : - Boleh dari katalog IG kami@customcasechabims - Boleh pakai foto sendiri - Boleh tambah nama , tanggal , inisial GRATIS 8 . Tersedia 4 bahan casing : softcase , hardcase , fullprint hardcase , anticrack 10 . Tanya apapun ? MONGGO langsung WA WA : 0813-9886-4371 # customcase#casecustom#casemurah#casingmurah#customcasemurah#customcasing#hardcase#softcase#casingiphone#casingsamsung#casingoppo#casingxiaomi#casingzenfone#casingvivo#customcaseoppo#customcaseiphone#customcasehtc#customcasesony#customcaseindo#customcasebb#customcasesamsung#customcaselenovo#customcasexiaomi',\n",
       " 'Jika kamu merindukan seseorang , maka doakan saja dia Insya Allah itu lebih dari cukup dan membuatmu lebih terjaga dari hal-hal yang dapat mendatangkan keburukan . Semoga berkah ^^ . . . . # dakwahjomblo#aksaradakwah#hijrahituindah#hijrahitucinta#memantaskandiri#berusahabaik#motivasihijra#hijrahsantun#yukhijrah#yukngaji#tausyiahku#cintadalamdiam#nasehatcinta#nikah#selfreminder#haneenakira#tausyiahcinta#hijrahquote#berbagisemangat#pejuangsubuh',\n",
       " 'Pendaftaran Program Tranformasi Kurus Online dibuka . . 10 slot terakhir - jgn terlepas peluang nk kembali ke pangkal jalan . Open house da habis . Raya sebulan je kan . . Klik link di ig bio atau wasap terus ke 0123481763 Coach Natalia Dah turun 18kg . # bukancintaaku # puasasebulan # rayasakan # openhouse # subangjaya # mydin # giant # usj # nakkurus # nakslim # testimoni # produkkurus # bubbletea # tealive # akasia # dramasangat',\n",
       " 'Pernikahan kudus Lasro sagala & Rispah Br purba Pernikahan merupakan sesuatu yang baik dan berkenan Di mata TUHAN Project : Mutiara Pro # Photographer pernikahan # Pernikahan adat batak # Pernikahan Batak toba # Pernikahan Batak karo # Photographer Batak # Pengguna Nikon',\n",
       " 'Iga Bakar / Pork Rib ala Makan Iga Bakar di warung lokal memang bikin ragu , maklumlah Iga Bakar tergolong Makan Mahal jadi emang sayang sih sudah bayar Mahal trus rasanya mengecewakan . Tapi . Iga Bakar / Pork Ribs dibuat dari Iga Babi Pilihan , direbus dengan bumbu ala Penyemeng yg menghasilkan Iga yg empuk , saus olesnya bukan saos biasa tapi saos BBQ luar biasa , di jamin Nagihhh ! So , bagi yang penasaran , silahkan datang langsung dan dicoba ya semeton ! Warung Penyemeng , Jalan Raya Mambal Semana sebelah Siki Carwash atau cek di Google maps Warung Penyemeng , buka dari jam 11 siang sampai jam 10 malam , info Dan pemesanan di Ph / wa . 081916523812 , find us also in Facebook : Warung Penyemeng , Facebook pages : Warung Penyemeng , Instagram : warung_penyemeng Terimakasihhh # igabakar # porkrib # porkbelly # nasilawar # nasibegenyol # satelilit # kuahbalung # ikanbakar # mujairnyatnyat # ayamnyatnyat # ayamgoreng # ayambakar # sosisayam # sosisbabi # plecingkangkung # kentanggoreng Photo shoot by',\n",
       " 'Pahami dan yakini bahwa tujuh mitos tersebut TIDAK BENAR ! Kata Kuncinya ? Pahami kembali , bahwa belajar bahasa Al-Quran itu mudah , kalau kita tahu pola dan rumusnya . Alhamdulillah , LAQU hadir untuk membersamai Bunda dan keluarga dalam menemukan pola dan rumusnya , tentunya dengan menggunakan metode AMALI 1 . Alami : Pengguna akan terlibat langsung dalam pembelajaran LAQU . 2 . Mainkan : Pengguna memainkan inti pelajaran dalam bentuk game . 3 . Aplikasikan : Pengguna mengaplikasikan inti pelajaran dalam Al-Quran . 4 . Lagukan : Pengguna menyanyikan rumus-rumus inti pembelajaran . 5 . Imajinasikan : Pengguna mengimajinasikan ( tidak dihafal ) simbol-simbol inti pembelajaran . Cuman LAQU yang punya metode ini . # promomaret # LAQU # diskongedegedean # anaksukabaca # parentinganak # parentingquotes # parenting # tips # tipsparenting # parentingtips # info # infoparenting # parentinginfo # infoparentinganak # mandiradiansemesta # bukutahunansekolah # buku # bukuislami # bukuonline # bukubagus # bukubestseller # bukubalita # bukupintaranakmuslim # bukuanakmuslim',\n",
       " 'Dengan Nama Allah Yang Maha Pemurah Lagi Maha Penyayang . Sebuah karya # zulhuzaimy # zulhuzaimymarzuki dokumentari-drama # SenimanNegara # HamzahAwangAmat # WanSuOthman # SyedAhmadJamal # KhatijahAwang # SyedAlwi # RahmanB ## AhmadNawab # JinsShamsudin untuk # rtm # tvi ter # jongemasproductions terima kasih pada penaja : Qemi # SergentShirt myluv # 100plus # vadooBag semoga semuanya berjalan dengan cemerlang . Doakan yang terbaek buat kami Dan kita semua .',\n",
       " 'Keenakan di urut # bayigemes # bayilucuindonesia # bayicantik # bayiimut # bayilucu # bayi # bayiceria # bayipinter # bayiaktif # bayiindonesia # bayilucupalembang # selebgramanak # bayisehat # endorsementbaby # selebgrambayi # selebgram # endorse # anaksehat # anakhits # anakhitskekiniansbangets # artisindonesia # terkenal # palembangpunya',\n",
       " 'Wig murah # rambutpalsu # wigmurah # rambutpenyanyi # bajupenyanyimurah',\n",
       " 'Elok rupa paras mereket haghi ni . Hijauuu jaa . Harap mampu bertahan sampai penutup & membawa ke minggu depan . Nak collect duit raya ni . # BursaMalaysia # moodrayamasihonwalaumarketbuka',\n",
       " \"Grosir & Eceran Al - Qur'an lokal dan Impor Al Qur'an Al Quddus Beirut Tafsir Jalalain Tafsir Al Ibriz Dll Kitab2 Madrasah Yanbu'a Nahwu,Shorof Kitab Kuning Bulughul Marom Dll Seragam Yanbu'a Perlengkapan Haji / Umroh Air Mineral KHQ Herbal Aneka Madu Minyak Zaitun Habbatussauda Madu Kesuburan Parfume Local Import Bi Wangi Parfume Impor Pusat Grosir&Eceran Distributor TOKO NINA Hub : ODI WA 085740189757 . . . . . . . . . . . . . . . . . . . . . . . . . . . 3 . 331 1 1 . 1 . 1 . 1 . 1 . 1 . 431 . 1 . # amaliyahsholah # ayosholat # ayoshalat # ayosalat # alhikam 2 # bahasa # dunia # islam # bahasaduniaislam # bimbinganmanasikhaji 3 . # bimbinganhaji # bimbinganumroh # bimbinganumrah # doamustajab # faraidulbahiyah 4 . # faroidulbahiyah # fathulmuin # fathulqorib # fathulqarib # aqidah 5 . # akidah # kartini # khot # kaligrafi # khotkaligrafi\",\n",
       " 'Selamat berbuka puasa teman2 . Nemenin yang pulang ke Jerman , jejeran kauman nyobain jajanan buka puasa di kauman di hari terakhir ramadhan ini ehhh . ada sate brutu 5000 saja . Coba2 beli # jogja # istimewa # sate',\n",
       " 'Raja Permaisuri Agong , Tunku Azizah Aminah Maimunah Iskandariah memang bersahaja orangnya . # Repost Sambil tunggu nak soundcheck , tiba-tiba ada yang menyapa salam dan bertanya khabar . Berborak lama kita . . . . Akhirnya baru tahu itu adalah Duli Yang Maha Mulia Seri Paduka Baginda Raja Permaisuri Agong ; . . Dari berborak . Kita nyanyi sama2 . . . . . . # caliphbuskers # romancinta # hanyanamamu # istananegara # royalfamily # malaysia',\n",
       " 'SALAM RAMADHAN KAREEN . Perhatian ! Untuk warga Ampang . cheras . setiawangsa . kg pandan . taman melawati . # murtabak edy murtabak legend besar 5x7 inci dah ada # DELIVERY SEKARANG . HARI NI KUT TERASA NAK BUKA POSA # MURTABAK MALAS NAK KELUAQ P BAZAR . CALL JA 01123157177 . KAMI BUKAK ORDER BERMULA BUKAK POSA 7.30PM SAMPAI LEPAS SUBUH 6.00AM .',\n",
       " 'Dalam grup coaching saya sharekan kaedah pengiraan tarikh lahir anda dan cara bagaimana nak kenal energi diri anda . . Membongkar dan menyingkap rahsia2 peribadi seseorang yang tidak sedari . . Melalui kaedah ini seseorang pasti tersedar bahawa dirinya bukan seorang yang biasa-biasa,tapi seorang yang sangat luar biasa . . Ya Allim Ya Kholiq Ya Musowir . Boleh hubungi saya untuk maklumat lanjut.@kelab jodoh berdua . 017-3674769 017-3674769 017-3674769 . # coachmetafizik # cikguluv # metaphysics # numerology # astrology # geopractic # hypnotherapy # therapy # parenting # stressmanagement # family # keluarga # kecewa # sabar # dendam # depressionquotes # anxiety # kemurungan # terapijiwa # trauma # ketagihan',\n",
       " 'Filomena # filomena # maicontrocuore # poesiaitaliana # poesie # scrivilosuimuri # scrittori # young # loveislove # you # italianpoetry # writer # poetry # scrivere # bookstagram # libri # tumblr # frasitumblr # frasi # frasistronze # frasiitalia # frasidolci # frasilibri # frasiitaliane # poetryporn # uominiedonne # tv # frasitop',\n",
       " 'New upload Kode : r785 Harga 86.000 Bahan : Katun twill Pinggang : 64-76cm Panjang : 47cm - Pinggang belakang karet - Resleting di belakang Note : cek persediaan barang terlebih dahulu For info & order . WA : 081808170741 . . Format Order . Nama : Alamat lengkap : No Hp : Nama pesanan : ( warna & jumlah ) . # jualbajumurah # fashionwanita # fashionhits # ootd # piyama # pajamasmurah # fashionmasakini # zamannow # kekinianhits # bajumurah # fashionkekinian # jumpsuit # jualjumpsuit # jualsabrina # jualbajuwanit # jualbajuwanitamurah # jualbajuterkini # ootdindo # onlineshopmurah # onlineshop # jualfashionterbaru # jualkulotmurahjakarta',\n",
       " 'Bersahabat DGC Kediri . . Aduh , tidak ada bareng teman 4orang tuli . . Kami tetap semangat nya , maju terus untuk setara sosialisasi masyarakat belajar bahasa isyarat indonesia . . # deafgumulcommunity # dgc # sahabattuli # komunitastuli # kegiatanbisindo # masyarakat # cfdpare # kampunginggrispare # simpanglimagumul # kedirilagi',\n",
       " 'Baby Walker Pliko 3289T Blue Harga:500.000 - Untuk anak usia 6m + - Dilengkapi dengan musik dan mainan yang membuat anak menjadi senang . - Mudah dilipat dengan lipatan datar untuk mempermudah penyimpanan . - Mainan elektronik yang dapat dilepas dan dilengkapi dengan melodi dan suara . - 2in1 bisa walker dan rocker . - Dilengkapi dorongan diposisi belakang untuk mempermudah ibu mendorong . - Ada karpet untuk menjaga posisi kaki agar tidak menggantung sewaktu diayunan # stroller # strollerpliko # keretabayi # keretadorongbayi # strollermurah # kursimakanbayi # mejamakanbayi # highchairmurah # babywalkeractivity # babywalkerbabydoes # walkeractivity # bouncher # nunaleaf # breastpump # pompaasi # bantalmenyusui # mamaspapas # urbo2 # armadilo # babyelle # strollerbabyelle # walker # babywalker # activitywalker # babyactivitywalker # walkerbaby # keretabayi # babywalkerbabydoes # babywalkermurah # babywalkerbrightstar',\n",
       " 'Jangan tunggu-tunggu . Biasanya yang tunggu tu tak jadi Yang jadi ialah berat bertambah naik kerana fat cell akan senang membiak fat cel sebab itu ( ada suatu ketika ) kita senang naik berat badan . Bulan puasa tidak menjanjikan kita kurus . Turun berat badan sikit tu normal kerana ada deficit kalori ( tapi tak juga kalau dah ada bazaar dan bufet Ramadhan ) Yang menjanjikan kita turun berat badan dan kekal kurus ada tabiat dan pemakanan . Insyallah kita boleh turun berat badan even sebelum bulan puasa , puasa dengan aman ( sebab tahu berat memang turun ). Raya pula tak bersalah nak makan sebab ada meal plan khas raya . BEST KE BEST . Pendaftaran MUSIM 44 INTAKE APRIL Dibuka SEKARANG ! . 100 % Online One-To-One Coaching Dalam Group Meal Plan Lengkap Resepi Mudah & Sedap Combo Senaman Daripada Personal Trainer Group Support . Click link di bio untuk detail . COACH HUDA 019 650 6106 . # coachhuda # teamhudarizal # cuticutimalaysia # cuticuti # cutisekolah # dresscantik # dresscantikmalaysia # dressmalaysia # dressmurahmalaysia # jubah # jubahmurah # jubahmoden # jubahsouq # jubahdress # jubahplain # jubahmuslimah # jubahcantik # jubahlelaki # jubahabaya # jubahsaudi # jubahbesar # jubahhitam # jubahplussize # jubahanak # instafood',\n",
       " 'Sama kaya sepatu , sendal juga harus selalu bersih ya ! Kan enak dilihatnya . # cucisepatusolo # cucisepatumurahsolo # laundrysepatumurahsolo # laundrysepatusolo # cucisepatuuns # cucisepatuums # cucisepatusekolahsolo # uns # ums # stikespku # stikespkusolo # unisri # unisrisolo # utp # utpsolo',\n",
       " 'Tajmahal dah tak banyak dah tau tinggal lg 8 pcs sahaja tinggal , jom cepat cepat grab sebelum terlambat # tudung#tudunglabuhmurah#tudunglabuhcantik#tudunglabuhbidang60#bawal#bawallovers#bawalprintedlabuh#tudungbawalprinted#bawalbidang50#bawalbidang50#bidang60#muslimah#muslimahfashion#uiagombak#uiakuantan#ukm#usim#kuis#uniza#upsi#malaysia#uiamgombak#bawalprintedmurah#tudungbawalcotton#tudungbawalcantik#tudungbawalbidang50#tudungbawalbidang60#tudungbawalbidang55#tudungcantik#tudunglabuhmurah#tudungbawallabuh#tudunglabuhcantik',\n",
       " 'Hello Hunters . Semangat berkarya ya ! Indonesia memasuki Revolusi Industri 4.0 yang menyebabkan pesatnya perkembangan teknologi,namun disisilain banyak masalah yang timbul diberbagai aspek Pendidikan,Ekonomi,Sains Teknologi,Sosial Budaya dan Pariwisata Lalu,Bagaimana Langkah Milenial Menghadapi Revolusi Industri 4.0 ? Event Hunter Indonesia Proudly Present Lomba Esai Nasional 2019 Tema : Langkah Milenial Menghadapi Revolusi Industri 4.0 Pendaftaran 27 Febuari - 5 April 2019 Pengiriman Karya 27 Febuari - 15 April 2019 Special Reward Juara 1 - 3 Full Funded South Korea Trip Include Tiket Pesawat PP via AirAsia , City Tour , Akomodasi , Tourguide,Lokal Berbahasa Inggris,Dokumentasi . + Uang Saku Rp.4.500.000 + Sertifikat Kejuaraan Nasional + 30 medali kejuaraan nasional + 100 T-Shirt dan Poster Exclusive REWARD UNTUK SEMUA PESERTA + E-Sertifikat Nasional + E-Poster Target Planner + E-Book \" Najwa Sihab : Judgement & Decision Making \" + E-Calender Beasiswa Dalam dan Luar Negeri + Voucher StudBack Potongan Rp 50.000 Link Pendaftaran Link Panduan Info Lebih Lanjut IG : Line : \"@eventhunter \" Web : eventHunterIndonesia . com CP : 0822-3129-5533 # infolomba#semangat#insipirasi#kompetisi#kerjakeras#kerjacerdas#sukses#terbaik#kerja#cerdas#hardwork#evnurulhuent#eventhunter#quote#bergerak#selaluoptimis#bangkit#evaluasi#keberhasilan#ikutlomba##kompetisi#prestasi#berprestasi#hebat',\n",
       " 'Repost . Yuk follow biar gak ketinggalan postingan iseng setiap hari . # lucu # indonesia # dagelan # viral # ngakak # ngakakkocak # kocak # videolucu # lucubanget # lucuabis # love # jakarta # hits # kekinian # lfl # cantik # cute # unik # indovidgram # humor # dagelanvideo # fff # indonesian # jomblo # nikah # makanan # tiktok # repost # instagood # vidgram',\n",
       " '#fluance#camfilmi.camrzgarligi . oto Aksesuar Farkyla # bizitercihettiginizicintesekkurederiz . # Ankara # aydnlkevler # ulus # ankaya # glba # keciren # etlik # asageglence # sentepe # demetevler # mamak # altndag # esertepe # sincan # ovack # kalaba # ayval # pursaklar # siteler#work # white # car # tarz # arac # yanst # farkmz # bekleriz',\n",
       " 'Seberapa jauh anda pergi pasti akan merindukan keluarga . Apa hal terbaik yang pernah anda berikan untuk keluarga ? Mau tau hunian dengan konsep keluarga ? Yuu lihat dan rasakan konsep kami dengan melihat langsung ke property kami . Hubungi : Nila Sari 082218158999 # landmarkresidence # landmarkresidencebandung # landmarkresidenceapartment # apartment # apartmentbandung # luxuryliving # healthyliving # urbanliving # bandung # propertibandung # propertybandung # bisnisbandung # businessresidence',\n",
       " 'Q100-COFFEE CHOCOLATE ( 4 Sachet ) Terbuat dari : ginseng , purwoceng , manjakani , chocolate , lemon , dan kopi . . Sangat bermanfaat untuk : menambah kejantanan dan stamina pria , menjaga kualitas sperma , melancarkan sirkulasi dara , tahan lama dan menambah volume . . PELUANG USAHA MENJADI AGEN & STOKIST DI PALEMBANG & SEKITARNYA . . . # palembangterkini # palembanghits # palembangupdate # palembanginsta # palembanginfo # palembangkulukilir # palembangkeren # palembangkece # palembangkekinian # palembangshop # olshop # olshoppalembang # welovepalembang # jawarasumsel # instaview # instagram # instagood # love # freeview # amazing # indonesian',\n",
       " 'Kebaikkan # BougasBeautySerum ini adalah : . . Halal Lulus KKM (NOT181001961K ) Waterbased serum PERTAMA di Malaysia Dihasilkan dari 4 bahan utama ekstrak tumbuh-tumbuhan 20 ml ( tahan dua bulan max ) Sesuai digunakan oleh lelaki dan wanita Membunuh jerawat Merawat kulit kusam Memudarkan parut Menyihatkan kulit muka anda Sesuai untuk semua jenis kulit muka HARGA MAMPU MILIK !. . READY STOCK BOUGAS BEAUTY UNTUK AWAK ! HANYA TINGGAL 3 PCS SAHAJA LAGI ! CEPAT CEPAT ! . . Whatsapp 019-9799 117 untuk # BorakBorakBougas dengan saya atau klik sahaja link di bio okay ?',\n",
       " '\" Alas kuwi payung lemah deso \" ( Hutan itu payung tanah desa ) # hutan # desa # payung # tanah # deso # hutanhijau # hutanindonesia',\n",
       " 'PERHATIKAN VIDEO INI ! . Guys , Kulitmu Kok Jerawatan Ga Sembuh-Sembuh ? Gak Mau Kan Mukanya Jerawatan Terus Ditambah Minyak Yang Berlebih Membuat Muka Jadi Super Kusam ? Nih Admin Punya Solusinya . BURUAN BELI COLLAGEN Di PRODUK IMPOR DARI THAILAND . COLLAGEN INI SANGAT COCOK BAGI YANG PUMYA MASALAH KULIT BERJERAWAT YANG GAK SEMBUH-SEMBUH YANG SUDAH MENAHUN , KULIT KUSAM , BOPENG , BERMINYAK , DAN YANG PUNYA KULIT GELAP DAN BELANG KARENA SINAR MATAHARI . Tanpa Suntik Hanya Minum Obat , Hasil Akan Terlihat Setelah Anda Mengkonsumsi 3 Sampai 7 Hari Pemakaian . Berikut Manfaatnya Membasmi jerawat Batu , meradang dan maupun yg sudah Menahun dan mengurangi bekas-bekasnya , plus noda2 menipis Memutihkan kulit secara maksimal dan menyeluruh dan cara kerjanya lumayan cepat lho Menyehatkan kulit , Mengurangi keriput dan kulit yg mengendur akibat efek buruk matahari dan juga penuaan . Mempercepat regenerasi sel kulit mati sehingga kulit sehat baru yg cerah putih akan tampak . Memperbaiki struktur kulit , kuku dan rambut yg mudah patah dan rapuh , biar gak makin banyak rontoknya say Memberikan rona pada kulit sehingga kulit nampak sehat dan merona selalu Membasmi kulit pecah-pecah dan juga bagian kulit yg suka menggelap . ORDER WA : + 6283179586400 HALAL&FDA isi60 / 2 bln Pemakaian # realtesti # asli # bukankw # jerawat # kulitgelap # ngakakkocak # viral # cantik # jerawat # glutaindo # pemutih # collagen # maskerkorea # jerawatmeradang # cacarair # jerawatbatu # belang',\n",
       " '. Testimoni # IVKIDS Asalnya kena gigitan nyamuk je , tapi biasalah baby , asyik garu sampai bernanah . Si emak ikhtiar sapu dengan IVKids terus elok . Sebelum ni sapu guna krim gatal pun tak sembuh . . Syukur IVKids dapat membantu luka di telinga baby . Luka sembuh tanpa perlu telan antibiotik atau ubat sapu yang mempunyai bahan kimia . . . Wasap 018-9864885 . . . # poslajuseluruhMsia # PoslajuSeluruhMalaysia # whatsapp0189864885 # jaasuzuran # ctdk # faridkamil # aqeefanaqi # bazaronline # bazarpaknil # instagram # instafamous # tudungmuslimah # bajumuslimah # tudungmurah # mirazizan # fattzura # nur2 # nelydiasenrose # amyramar # babyctdk # wanihasrita # emmamaembong # syafiqfarhain # sitiAafiyah # comelpipimerah',\n",
       " 'Harga Rp . 79.000 TUNIK SELINA KOTAK MERAH Bahan crep printing Fit M-L , LD 98 , pnjng 85 (300gr ) ( Harga belum termasuk ongkos kirim , pengiriman dari JAKARTA [ SUPLIER 2 ]) Order & Tanya2 : WA & SMS : 083822175969 # maxidress # dresspanjang # longdress # dresskorea # kemejawanita # kemejapria # busanamuslim # bajucouple # bajumuslimcouple # jaket # reseller # dropship # terimareseller # terimadropship # resellerwelcome # dropshipwelcome # terimaresellerdandropship # tunik',\n",
       " 'Pakai seliper feeling jinjat kaki . # marketing # albukharyinternationaluniversity',\n",
       " 'Selamat merayakan # hariwaisak bagi yang merayakan . . Kirim pertanyaan anda seputar kami ke support@waresix.com atau kunjungi website kami di > link ada di Bio . . # waresix # w6 # warehouse # warehousing # gudang # jasasewagudang # solutionspace # simple # scalable # ondemand # logistic # harirayawaisak # waisak',\n",
       " 'Full picture # THEA_HELLENA MODEST BEAUTE . Jom kita tengok sekali # keistimewaan Thea Hellena ni ; . REKAAN MINIMALIST , SOPAN & MEMUKAU Boleh digayakan tanpa mengabaikan aurat yg Eskslusif . . KOCEK SERBAGUNA KIRI & KANAN Kocek yg dijahit sembunyi bagi memudahkan si pemakai menyimpan barangan . 2 GABUNGAN WARNA & QUALITY MATERIAL Material DUBAI COMO CREPE dgn kombinasi 2 warna untuk dipadankan bersama warna asas dan warna kontra . Material ini sesuai dgn cuaca di Malaysia . . 7 PILIHAN WARNA DARI BOLD KE PASTEL Warna yg rare & trendy . sesuai untuk semua peringkat umur , . AKSESORI BUTANG HIASAN & LABEL TAG MEWAH JWs Aksesori butang hiasan 2 warna yang STUNNING . Label besi yg akan menampakkan blouse ini mewah . . POTONGAN FISHTAIL YG EFFECT SLIMMING Memberikan effect KURUS pd si pemakai , tidak terlalu kembang . Hasil potongan yang tampak simple , minimal dan less is more . Sangat recommend . . SIZE S HINGGA 5XL Bolehlah pakai sedondon 1 family . Pilih jer size mna yg ngammm chantik . . SPAN DI BAHU , WUDHUK & BF FRIENDLY Pemakai akan tampak kemas lagi dgn adanya span di bahu . Zip didada boleh memudahkan ibu-ibu menyusukan permata kesayangan . Butang ketip di tangan pun senang jer nak ambil wudhuk . . SURE CHANTIKK LAH ! . # TheaHellena # JelitaWardrobeOfficialReseller # wanitamuslimah # blouse # womenclothing # malaysia # shopping # cikgu # student',\n",
       " 'CARTEVBLANCHE TURTLE NECK Detail Bahan * Rayon Twist * Bahan Kualitas Tinggi * Tebal tapi Adem * Bisa Fit Body Bisa Melar Detail Ukuran * Lingkar Dada : 100cm * Panjang Baju : 60cm * Panjang Lengan : 55cm Warna : Army & Krem Harga 40.000 Order Wa 085715454249 # NoKeep # NoCancel # bajuatasancewek # tunikwanitamuslim # atasanmurah # gamismuslim # bajumuslim # outerwanitamurah # jumpsuit # setelanbajucewek # setelanbajucewekmurah # minidress # longdress',\n",
       " 'Helikopter Sikorsky . # helicopter # aviation # ka3211bc # kamov # waterbombing # firefighter # helicopter # aviationworld # aviationlife # airplane # aviapedia # indoflyer # indonesianspotters # aviationlovers # helicopters # bnpbindonesia # bnpb # firefighter # russia # helicopterlife # instaaviationphotography # flightdeck # russianhelicopters # kamovriders # pekanbaru # riau # bnpbindonesia # bnpb # bpbdpekanbaru # sikorsky # n5193y',\n",
       " 'Assalamualaikum Hai . hai . hai Selamat berhujung minggu semua . . Haaaa stok baju melayu dah masuk gaisss 15 warna kali ni Biar rambang mata nak pilih Dapat FREE butang baju lagi tau . . Korang pakai warna tema apa tahun ni ? Cer komen kat bawah Mana tau dapat bagi ilham dekat Kak Lily yang masih pening-pening lalat nak pilih warna . . . . # bajumelayumurah # bajumelayumoden # bajumelayu # bajumelayu2019 # slimfit # bajumelayuslimfit # koleksiraya2019 # bajurayalelaki # kurtamurah # kurtalelaki # bajumelayulelaki # raya2019 # bajusedondon # terapiinstagram # butangbajumelayu # aurainsta # syukriyahya # syafikkyle # remyishak # aimanhakimridza # redzarosli # aerilzafrel # sepahtureunionlive # jepsepahtu # shuibsepahtu',\n",
       " 'Bajet 2017 jangan cakap iolls ta jimat # happylunch # breaklunch # showoff # specialforyou # pokjib',\n",
       " 'Silahkan diambil pesanannya bunsay . Owh iya ada 1 lusin donat ready di rumah . Siapa cepat dia dapat . Efek wa gak bisa , terganggu transaksi jual beli donatku . . Kue ultah 22 / 5 / 2019 masih ditutup . Nanti dipost setelah yg ultah makan cakenya . Tks for order japen . . . Fast respon wa / telp 081362477009 . . # bakingaddicted # baking # lovebaking # bakinglovers # rotiboy # roti # donat # snack # openorder # kue # donatenak # kuekacang # kuesalju # donut # nastar # cookies # kuekering # bolu # bolugulung # moxcookies # pahaayam # donatempuk # donut # bolupisang # bolu # pisang # kueultah # kue # kueultah # birthdaycake # birthday # cake',\n",
       " \"SMART HERBS KOPI BARLI . KEBAIKAN DAN KHASIAT KOPI BARLI Membersih dan menjaga buah pinggang Melancarkan peredaran darah Mengurangkan kadar glukos dalam darah Menurunkan tekanan darah tinggi Menyejukkan badan Menghindar dari kencing kotor Melancarkan proses pencernaan Sesuai untuk diet & anti kanser Menguatkan minda . KANDUNGAN KOPI BARLI : BARLEY BAKAR Khasiat utama barli bakar adalah menjaga dan membersih buah pinggang terutama untuk melancarkan proses percernaan dan pembersihan darah . Ia akan menghindarkan penyakit yang berkaitan dengan buah pinggang seperti penyakit batu karang . . UBI BIT MERAH Kaya dengan khasiat zat besi penting untuk pembentukan hemoglobin yang bertujuan untuk pembekuan sel-sel darah merah . Selain itu,'red pigment berfungsi sebagai antikanser . . GULA PERANG Secawan gula perang mengandungi 187mg Kalsium , 56g Phosphorous , 757mg Potasiun dan 97mg Sodium berbanding dengan gula pasir yang hampir langsung tidak mempunyai zat garam galian . Phosporous sangat penting untuk tulang dan mempercekapkan sistem saraf serta menajamkan minda . . KOPI ARABICA Sejenis kopi yang sangat digalakkan untuk di minum seisi keluarga kerana kandungan kaffein yang sangat rendah berbanding dengan kopi biasa . . KOPI RABUSTA Kopi rabusta bertindak memperlambatkan sistem penuaan serta mengurangi risiko kanser dan meningkatkan melancarkan sistem pembuluh drah juga menurunkan kadar kolestrol dalam darah . AL-MANNA (ARABICGUM ) Serbuk gum arabic acacia senegal Al-Manna Ameer dimanfaatkan sebagai ikhtiar oleh pesakit buah pinggang hingga mencapai kesihatan buah pinggang yang lebih baik Sesuai juga utk menurunkan kadar glukosa dalam darah . KRIMER BUKAN TENUSU Krimer yang digunakan bukan dari jenis tenusu yang jelas mengandungi paras lemak yang rendah . Ia sesuai untuk amalan kesihatan dan dalam pemakanan yang seimbang . . Yng PENTING SEKALI Mendapat pengiktirafan HALAL & GMP . HARGA : RM 30 ( SM ) RM 34 ( SS ) . # onlineshop # onlineshopping # trustedseller # kecantikan # kesihatan # produk # cantik # sihat # produkkesihatan # produkviral # kopibarli # kopi # smartherbskopibarli # coffee # instashopmalaysia # malaysia # produkmalaysia # sayajual\",\n",
       " 'Sebab utama kenapa kerepek popia cepat hapak , lemau dan tak tahan lama di sebabkan minyak berlebihan . Popia KREZIkrip wajib lalui proses keringkan minyak sblm di letak perisa . berani JAMIN popia KREZIkrip kurang minyak . Walaupun berat popia KREZIkrip macam ringan tapi kuantiti dia banyak sbb berat dia bukan berat minyak . # popiabakar # popiameletop # empingmadu # empingcheese # empingpedasmanis # kerepek # kerepekrangup # terbaikkk # sneksihat # snekrangup # snekralit # takcukupsatu # MalaysianFood # KREZIkrip # homemade # posseluruhmalaysia # agendiperlukan # agenseluruhmalaysia',\n",
       " 'ESKINOL ORI . ASSALAMUALAIKUM . HI . Ada yg masih tercari2 ESKINOL ? Tapi tak tahu yg mana sesuai utk kulit sendiri ? Nah . sini saya ada bagi nama Eskinol dan fungsinya sekali . Jgn risau . tiada kesan sampingan langsung kerana ESKINOL ni BEBAS MERKURI , PARABEN DAN HYDROQUINONE tauu ! . ESKINOL PIMPLE FIGHTING . - Utk membersihkan muka , mengecutkan jerawat batu / ketul , mengawal jerawat dan memudarkan parut . . ESKINOL REFRESHING CUCUMBER . - Khas utk membersih dan menyegarkan kulit muka . Boleh dijadikan face mist utk segarkan muka . . ESKINOL OIL CONTROL . - Khas utk mengawal minyak dimuka dan mengawal pertumbuhan jerawat . . ESKINOL CLASSIC WHITE BLACKHEAD . - Ada MINERAL GRAINS sebgai penambahn utk merawat masalah Blackheads . . ESKINOL CLASSIC WHITE . - Khas utk masalah whitehead dan jerawat . . ESKINOL SPOTLESS WHITE . - Khas utk yg ada masalah jerawat pasir dan menyekatakan tona kulit . Sesuai juga utk jeragat . . ESKINOL PAPAYA SMOOTH . - Khas utk merawat kulit kusam , sunburn dan gelap . ( sesuai utk yg kulit sensitif ) . merawat jerawat dan memudarkan jeragat . . ESKINOL ICE PORE MINIMIZING . - Khas utk mengecilkang liang pori terbuka . merawat jerawat dan menyegarkan kulit muka . . . BERMINAT ? Boleh tekan link dibawah . . . # eskinol # eskinoloriginal # eskinolkualaselangor # codkualaselangor # eskinolmurah # eskinoltoner # instagood # breakout # pimple # flawless # kualaselangor # maluapabossku # eskinolmalaysia # philipines # skincareroutine # skincaretips # healthyskin # agenteskinol # toner # facialdeepcleanser',\n",
       " 'Anda merasa tubuh anda kurang ideal ? Anda merasa tubuh anda terlalu kurus ? Anda malu dgn badan anda yg krempeng ? Anda ingin menaikkan berat badan tapi susah ? Bersertifikat HALAL dan BPOM HERBAL dan AMAN dikonsumsi Penasaran ? Langsung saja hubungi ahlinya di : WA : 085794503359 atau KLIK link di BIO # penggemuk # penggemukherbal # penggemukalami # penggemukbadan # penggemuktiens # penggemukbadantiens # suplemen # suplemenherbal # aman # like4like # like4follow # tionghoa # wanitasosialita # tkw # tkwhongkong # tkwtaiwan # tkwarabsaudi # tkwmalaysia # obatgemuk # obatherbal # obatgemukherbal # jualpenggemuk # jualpenggemukbadan # peninggi',\n",
       " 'Memandang wajah Rosulullah . . . # bersediakah # memandang # wajah # rosulullah # seorang # murud # bertanya # guru # sulit # mimpinabi # mimpi # jawab # adakah # bersedia # pribadi # malu # persiapkan # berjumpa # gembira # katabijak # faedah # katahikmah # 12robiulawal',\n",
       " 'Sudah belasan tahun tidak bertemu dengannya bulan idul Fitri ini akhirnya bisa ketemu juga ma dia . \" SODARA TERPISAH DARI KECIL \" . Follow . . Tag . . Hastag # kehidupan # tentangkehidupan # realitakehidupan # kisah # kisahkami',\n",
       " 'Kehabisan akal . Membingungkan . . . . Save ? Ijin Repost ? Tag . . . . . # ashabalwi # alwiadicted # alwiassegaf03 # sayyidalwiassegaf # overlays # overlayccp # greenscreen # greenscreenccp # alwiassegaf # laskarsayyidassegaf # alwiassegaffans # fansalwiassegaf # alwilovers # alwi # ccpalwi # orangganteng # ccpaudio # ccpedit # withoutme # hasley # lagu # sholawat # harirabu',\n",
       " 'DIJUAL TANAH BANTUL : TANAH SUDIMORO # Dijual tanah pekarangan milik sendiri strategis di sewon : * lokasi cuma masuk lurus 50meter dari jl.raya imogiri barat km 7 sudimoro *mobil / truk bisa masuk ke lokasi mudah / simpangan . * lebih dekat / lebih cepat menuju kota dan jalur utama menuju ke pusat kota yogyakarta . * dekat pusat kuliner sate pak pong,stadion bantul,pasar kepek / jejeran,rumah budaya tembi / gabusan. # kondisi lingkungan tenang nyaman asri sejuk dan sudah ramai sekelilingnya rumah penduduk . # jauh dari makam,sungai,sutet dan kandang . # kondisi tanah rata tidak perlu urug,bentuk tanah persegi . # luas tanah 104m2.lebar muka 7m . # legalitas SHM pekarangan . # harga 195jt.bayar bs tempo.nego langsung dgn pemilik . Hub WA : 081336581820 # rumahmurah # rumahjogja # propertijogja # joglo # jualtanah # jualrumah # rumahmurahjogja # rumahminimalis # rumahminimalismodern # rumahminimalisjogja # likeforlike # tanahmurah # yogyakarta # terbaru # explorejogja # properti # komersial # rumah # tanah # kost # eksklusif # gudang # ruko # jogja # yogya # rumahbaru # rumahmewah # rumahasri',\n",
       " 'Tua itu pasti , tapi siapa sih yang mau keliatan tua ? Nah untuk kamu - kamu yang mau kulit wajahnya tetep kencang dan kenyal seperti masa muda , kamu butuh banget ini . Jadi tunggu apa lagi , raih kulit sehat dan kenyal dengan Tru Face Essence Ultra . Untuk hasil yang lebih maksimal bisa di tambah dengan menggunakan galvanic face spa ya . Serum mutiara punya manfaat yg endesss banget ! Cukup di oles2 pakai jari selama 2 menit di pagi & malam hari , wajahmu akan kencang shaping tanpa alat hanya dengan TFEU / serum mutiara . . Hasil sudah dapat terlihat dalam pemakaian 5 kali atau seminggu . Mau coba juga ? . MANFAAT : Mengencangkan kulit yg kendur Mengatasi kantung mata Kulit lebih kenyal dan lembut Kulit cerah dan glowing Memperbaiki kerutan sekitar mata , pipi , dahi dan leher Kulit jadi lebih cerah & halus . KENAPA HARUS SERUM PEARL ? HALAL sertifikasi IFANCA ( Islamic Food And Noutrition Council of America ) Terdaftar di 54 negara AMAN for bumil busui POM NE Hasil kerjasama dgn Stanford Univ School of Medicine Serum andalan dokter utk bedah kecantikan . . . ORDER CHAT : WA 0812 9449 5641 atau klik link di bio . . . . # galva # antikerut # trufaceessenceultra # tfeunuskin # serummutiara # serumantikerutnuskin # serummutiaranuskin # serumantikerut # serum # nuskinbekasi # nuskinserpong # nuskinjakarta # nuskinbandung # nuskinsurabaya # nuskinmakassar # jualserumtfeu # galvaface # galvanicspa # trustedseller - # regra - #',\n",
       " 'Kode : MH378 ( order / tanya2 harus menggunakan kode ) . . Bahan : mosscrepe + organza lingkar dada : 98cm panjang dalam : 130cm panjang luar : 140cm lingkar ketiak : 50cm depan ada resleting , bisa untuk busui . . Harga 108.000 . . . # rokplisketmurah # rokplisket # supplierbajumurah # supplierbaju # suppliermurah # dresscasual # dressmurah # fashionbangkok # setelanmurah # olshopmurah # olshopjakarta # fashionbangkokmurah # bajumurah # jumpsuitmurah # jumpsuit # readystockjakarta # setelancewek # celanamurah # atasancewek # celanajeans # bajumuslim # gamismurah # kemejacewek # bajuimportmurah # bajubangkokmurah # supplierbajubangkokmurah # celanakulot',\n",
       " 'Andara dress dari Orinaura , pengiriman langsung dari konveksi . Order via ONLINE , pembayaran via TRANSFER . # GamisAnak # SuciGallerys # SuciGallerys2 # IG_Suci.Gallerys # GamisDress # PerhiasanXupingKuning # PerhiasanXupingTitanium # XupingAnak # XupingDewasa # OverallJumpsuit # ManShirt # LongPant # ShortPant # Tunic # Jilbab # No_Keep # No_Cancel # No_COD # No_PHP # SeriousBuyersOnly # PelayananRamah #GaransiUangKembali JikaBarangKosong ( setelah ada bukti transfer ) Joint yuk jadi team Dropshipp yg aktf di socmed , sabar , SERIUS dan ramah untuk menjual berbagai produk di olshop kami Daftar gratis tanpa biaya . Ragu ? Silahkan cek beranda kami . Join langsung klik ->>>>>> Detail olshop : Pengiriman dari Palembang (xuping ) , Jakarta , Bandung dan Solo ( gamis , dress , peralatan rumah tangga dan jilbab ) yaa No tangan pertama karna ini olshop , bukan pabrik Pelayanan via online dan BUKAN COD Info lebih lanjut Tanya \" dan pemesanan bisa inbox atau Wapri',\n",
       " 'Geliga Harimau Panglima Setia Megat Alam Yang Tok perolehi dari dirinya sendiri ini di gunakan di dalam pertempuran , peperangan , penggerun musuh , penggerun Jin dan makhluk Halus , Penaik semangat diri , Membantu pesakit lemah semangat atau di ganggu . Nasihat Tok pakai pada diri sendiri ketika berubat orang sahaja , tak perlulah di bagi kepada pesakit , kang pesakit tu campak ke luar tingkap saja je hahaha . nak mencarinya celah rumput dah 1 hal pula . hahaha Panglima Setia Megat Alam Adalah nama gelaran dan hampir sama gelaran di semua kerajaan alam Bunian , sama la dengan gelaran di alam kita ni , Dato Dato Paduka apa semua tu . Mereka sendiri punya nama mereka sendiri di dalam kehidupan seharian mereka Panglima ini mempunyai seekor harimau bagi mengiringinya di dalam peperangan di alam sana . Item ini di simpan di dalam timbunan beras jika tak pakai , nasihat tok , pakailah buat cincin dan bagi wanita , pakailah ia buat kalung . InsyaAllah Kod Produk : GRIMAU Bentuk : Geliga Harimau Panglima Bunian MAHAR : RM 250 # saudagar#asli#GeligaHarimauPanglimaBunian#multifungsi # Selangor#kualalumpur#perak#pahang#sabah#sarawak#melaka#penang#kedah#johor#brunei#koleksi#permataasia#khazanahalam#sayajualmurah#barangunik#barangoriginal#malaysia # malaysiaonline#malaysiaig#barangmistik',\n",
       " '18 Mei 2019 : Program Tadarus Perdana dan Iftar Putrajaya 2019 anjuran Perbadanan Putrajaya (PPj ), Masjid Mahmoodiah , MPPWP , Yayasan Wilayah , JAWI , dan Sekolah Rendah Agama Mahmoodiah Program ini telah digariskan di dalam Blueprint Masyarakat Sejahtera Putrajaya (BMS ) di bawah bidang sosial dan agama bagi teras pembinaan sahsiah masyarakat sejahtera dan menggiatkan amalan nilai-nilai murni masyarakat di semua peringkat . Presiden PPj , Datuk Dr . Aminuddin Bin Hassim turut hadir bertadarus dan berbuka puasa bersama peserta dan komuniti . TAHNIAH diucapkan kepada YBhg . Tan Sri Othman bin Mahmood , Pengerusi Masjid Mahmoodiah , peserta tadarus dan semua yang menjayakan program ini . # perbadananputrajaya # putrajaya',\n",
       " 'HUKUM ANAK MENGAMBIL HARTA ORANG TUA TANPA IZIN . Inilah hukum syariat tentangnya , mari kita tonton dan mengambil faidah di dalamnya . . . . Follow | # nasehatpernikahan . # selfreminder # reminder # sabardansholat # sabar # ikhlas # taat # akhirat # manfaat # jagalahhati # petuahbijak # berkah # muhasabahdiri # renungan # manhaj # manhajsalaf # islamicquotes # islamituindah # dakwah # islam # posterdakwah # yufid # yufidstore # yufidtv # mendidikanak # tipsmendidikanak # orangtuahebat # belajarparenting # polaasuh # parentingquote',\n",
       " 'Sikat rambut buatan Uk telah rebutan ramai . sungguh berbeza selasa sungguh # sikatrambut # best # visituk']"
      ]
     },
     "execution_count": 26,
     "metadata": {},
     "output_type": "execute_result"
    }
   ],
   "source": [
    "instagram[:100]"
   ]
  },
  {
   "cell_type": "code",
   "execution_count": 32,
   "metadata": {},
   "outputs": [
    {
     "data": {
      "text/plain": [
       "695571"
      ]
     },
     "execution_count": 32,
     "metadata": {},
     "output_type": "execute_result"
    }
   ],
   "source": [
    "len(instagram)"
   ]
  },
  {
   "cell_type": "code",
   "execution_count": 33,
   "metadata": {},
   "outputs": [],
   "source": [
    "from tqdm import tqdm\n",
    "\n",
    "def cleaning_strings_split(strings):\n",
    "    texts = []\n",
    "    for i in tqdm(range(len(strings))):\n",
    "        s = cleaning.split_into_sentences(strings[i])\n",
    "        if not len(s):\n",
    "            s = [strings[i]]\n",
    "        s.append('')\n",
    "        texts.extend(s)\n",
    "    return texts"
   ]
  },
  {
   "cell_type": "code",
   "execution_count": 35,
   "metadata": {},
   "outputs": [
    {
     "name": "stderr",
     "output_type": "stream",
     "text": [
      "100%|██████████| 695571/695571 [04:06<00:00, 2818.27it/s]\n"
     ]
    }
   ],
   "source": [
    "splitted = cleaning_strings_split(instagram)\n",
    "\n",
    "with open('dumping-instagram.txt', 'w') as fopen:\n",
    "    fopen.write('\\n'.join(splitted))"
   ]
  },
  {
   "cell_type": "code",
   "execution_count": 36,
   "metadata": {},
   "outputs": [
    {
     "name": "stdout",
     "output_type": "stream",
     "text": [
      "Roti Jala 10rb / pck # rotijala # nomnommedan # kulinermedan # rotijalamedan # rotijalakari # rotijalakarimedan\r\n",
      "\r\n",
      "SUPLEMEN PENINGGI BADAN Mau Meninggikan Badan secara Cepat , Sehat dan Alami hanya dalam Hitungan Minggu ?\r\n",
      "Kenggulan Paket Peninggi Super Grow Up - Meninggikan Badan secara Cepat , Sehat dan Alami - Memadatkan Tulang dan Merangsang Pertumbuhan Tulang - Terbuat dari Kalsium Organik dengan Penyerapan Terbaik di Dunia - Mengandung Multivitamin Zinc , Vitamin D dan Berbagai Nutrisi untuk membantu Pertumbuhan - Aman Tanpa Efek Samping ( MUI,BPOM,GMP ) - Bisa dikonsumsi dari usia 12 - 35 Tahun untuk Menambahkan Tinggi Badan Umur Anda bukan Penghambat untuk Menaikkan Tinggi Badan loh Mumpung masih usia 12-35 Tahun sudah saatnya Impian Anda mempunyai Tinggi Badan yg Ideal terwujud setelah Mengkonsumsi Paket Peninggi Super Grow Up kita Selain suplemen peninggi badan , kita juga menjual suplemen penambah berat badan :) Mau ?\r\n",
      "\r\n",
      "Wanita PKR Melaka terkejut dan kesal dengan tindakan pemimpin cabangnya Rohani Mahmood mengumumkan menyertai Umno .\r\n",
      "Ketua Wanita PKR negeri , Ginie Lim berkata punca sebenar bekas ketua Wanita cabang Tangga Batu itu akan disiasat dan dibawa kepada biro politik parti itu .\r\n",
      "\" Pengumuman mantan ketua Wanita Cabang Tangga Batu Rohani Mahmood menyertai Umno dalam sosial media Facebook adalah mengejutkan .\r\n",
      "\" Tindakan Rohani menyertai pembangkang adalah amat dikesali .\r\n",
      "Saya akan menyiasat punca sebenar dan memberi penjelasan kepada Biro Politik ,\" katanya dalam suatu kenyataan hari ini .\r\n"
     ]
    }
   ],
   "source": [
    "!head dumping-instagram.txt"
   ]
  },
  {
   "cell_type": "code",
   "execution_count": null,
   "metadata": {},
   "outputs": [],
   "source": []
  }
 ],
 "metadata": {
  "kernelspec": {
   "display_name": "Python 3",
   "language": "python",
   "name": "python3"
  },
  "language_info": {
   "codemirror_mode": {
    "name": "ipython",
    "version": 3
   },
   "file_extension": ".py",
   "mimetype": "text/x-python",
   "name": "python",
   "nbconvert_exporter": "python",
   "pygments_lexer": "ipython3",
   "version": "3.6.8"
  }
 },
 "nbformat": 4,
 "nbformat_minor": 2
}
