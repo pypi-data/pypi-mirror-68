{
 "cells": [
  {
   "cell_type": "code",
   "execution_count": 1,
   "metadata": {},
   "outputs": [],
   "source": [
    "import pandas as pd\n",
    "import malaya"
   ]
  },
  {
   "cell_type": "code",
   "execution_count": 2,
   "metadata": {},
   "outputs": [],
   "source": [
    "df = pd.read_csv('tests/02032018.csv',sep=';')\n",
    "df = df.iloc[3:,1:]\n",
    "df.columns = ['text','label']\n",
    "corpus = df.text.tolist()"
   ]
  },
  {
   "cell_type": "markdown",
   "metadata": {},
   "source": [
    "You can get this file [Malaya/tests](https://github.com/huseinzol05/Malaya/tree/master/tests). **This csv already stemmed.**"
   ]
  },
  {
   "cell_type": "markdown",
   "metadata": {},
   "source": [
    "## Load Transformer\n",
    "\n",
    "We can use Transformer model to build topic modeling for corpus we have, the power of attention!"
   ]
  },
  {
   "cell_type": "code",
   "execution_count": 3,
   "metadata": {},
   "outputs": [
    {
     "name": "stdout",
     "output_type": "stream",
     "text": [
      "WARNING:tensorflow:From /Users/huseinzolkepli/Documents/Malaya/malaya/transformers/electra/__init__.py:56: The name tf.placeholder is deprecated. Please use tf.compat.v1.placeholder instead.\n",
      "\n",
      "WARNING:tensorflow:From /Users/huseinzolkepli/Documents/Malaya/malaya/transformers/electra/modeling.py:240: dense (from tensorflow.python.layers.core) is deprecated and will be removed in a future version.\n",
      "Instructions for updating:\n",
      "Use keras.layers.Dense instead.\n",
      "WARNING:tensorflow:From /usr/local/lib/python3.7/site-packages/tensorflow_core/python/layers/core.py:187: Layer.apply (from tensorflow.python.keras.engine.base_layer) is deprecated and will be removed in a future version.\n",
      "Instructions for updating:\n",
      "Please use `layer.__call__` method instead.\n",
      "WARNING:tensorflow:From /Users/huseinzolkepli/Documents/Malaya/malaya/transformers/electra/__init__.py:79: The name tf.variable_scope is deprecated. Please use tf.compat.v1.variable_scope instead.\n",
      "\n",
      "WARNING:tensorflow:From /Users/huseinzolkepli/Documents/Malaya/malaya/transformers/electra/__init__.py:93: The name tf.get_variable is deprecated. Please use tf.compat.v1.get_variable instead.\n",
      "\n",
      "WARNING:tensorflow:From /Users/huseinzolkepli/Documents/Malaya/malaya/transformers/sampling.py:26: where (from tensorflow.python.ops.array_ops) is deprecated and will be removed in a future version.\n",
      "Instructions for updating:\n",
      "Use tf.where in 2.0, which has the same broadcast rule as np.where\n",
      "WARNING:tensorflow:From /Users/huseinzolkepli/Documents/Malaya/malaya/transformers/electra/__init__.py:114: multinomial (from tensorflow.python.ops.random_ops) is deprecated and will be removed in a future version.\n",
      "Instructions for updating:\n",
      "Use `tf.random.categorical` instead.\n",
      "WARNING:tensorflow:From /Users/huseinzolkepli/Documents/Malaya/malaya/transformers/electra/__init__.py:117: The name tf.InteractiveSession is deprecated. Please use tf.compat.v1.InteractiveSession instead.\n",
      "\n",
      "WARNING:tensorflow:From /Users/huseinzolkepli/Documents/Malaya/malaya/transformers/electra/__init__.py:118: The name tf.global_variables_initializer is deprecated. Please use tf.compat.v1.global_variables_initializer instead.\n",
      "\n",
      "WARNING:tensorflow:From /Users/huseinzolkepli/Documents/Malaya/malaya/transformers/electra/__init__.py:120: The name tf.get_collection is deprecated. Please use tf.compat.v1.get_collection instead.\n",
      "\n",
      "WARNING:tensorflow:From /Users/huseinzolkepli/Documents/Malaya/malaya/transformers/electra/__init__.py:121: The name tf.GraphKeys is deprecated. Please use tf.compat.v1.GraphKeys instead.\n",
      "\n",
      "WARNING:tensorflow:From /Users/huseinzolkepli/Documents/Malaya/malaya/transformers/electra/__init__.py:127: The name tf.train.Saver is deprecated. Please use tf.compat.v1.train.Saver instead.\n",
      "\n",
      "WARNING:tensorflow:From /Users/huseinzolkepli/Documents/Malaya/malaya/transformers/electra/__init__.py:129: The name tf.get_default_graph is deprecated. Please use tf.compat.v1.get_default_graph instead.\n",
      "\n",
      "INFO:tensorflow:Restoring parameters from /Users/huseinzolkepli/Malaya/electra-model/base/electra-base/model.ckpt\n"
     ]
    }
   ],
   "source": [
    "electra = malaya.transformer.load(model = 'electra')\n",
    "attention = malaya.topic_model.transformer(corpus, n_topics = 10, vectorizer = electra)"
   ]
  },
  {
   "cell_type": "markdown",
   "metadata": {},
   "source": [
    "#### Get topics"
   ]
  },
  {
   "cell_type": "code",
   "execution_count": 4,
   "metadata": {},
   "outputs": [
    {
     "data": {
      "text/html": [
       "<div>\n",
       "<style scoped>\n",
       "    .dataframe tbody tr th:only-of-type {\n",
       "        vertical-align: middle;\n",
       "    }\n",
       "\n",
       "    .dataframe tbody tr th {\n",
       "        vertical-align: top;\n",
       "    }\n",
       "\n",
       "    .dataframe thead th {\n",
       "        text-align: right;\n",
       "    }\n",
       "</style>\n",
       "<table border=\"1\" class=\"dataframe\">\n",
       "  <thead>\n",
       "    <tr style=\"text-align: right;\">\n",
       "      <th></th>\n",
       "      <th>topic 0</th>\n",
       "      <th>topic 1</th>\n",
       "      <th>topic 2</th>\n",
       "      <th>topic 3</th>\n",
       "      <th>topic 4</th>\n",
       "    </tr>\n",
       "  </thead>\n",
       "  <tbody>\n",
       "    <tr>\n",
       "      <th>0</th>\n",
       "      <td>bayar</td>\n",
       "      <td>putus</td>\n",
       "      <td>raja</td>\n",
       "      <td>nyata</td>\n",
       "      <td>parti</td>\n",
       "    </tr>\n",
       "    <tr>\n",
       "      <th>1</th>\n",
       "      <td>hutang</td>\n",
       "      <td>bahasa</td>\n",
       "      <td>undi</td>\n",
       "      <td>dakwa</td>\n",
       "      <td>menteri</td>\n",
       "    </tr>\n",
       "    <tr>\n",
       "      <th>2</th>\n",
       "      <td>jual</td>\n",
       "      <td>pilih</td>\n",
       "      <td>ros</td>\n",
       "      <td>kwsp</td>\n",
       "      <td>pas</td>\n",
       "    </tr>\n",
       "    <tr>\n",
       "      <th>3</th>\n",
       "      <td>sewa</td>\n",
       "      <td>raya</td>\n",
       "      <td>rakyat</td>\n",
       "      <td>syarikat</td>\n",
       "      <td>islam</td>\n",
       "    </tr>\n",
       "    <tr>\n",
       "      <th>4</th>\n",
       "      <td>wang</td>\n",
       "      <td>pilih raya</td>\n",
       "      <td>raja duit</td>\n",
       "      <td>dana</td>\n",
       "      <td>putus</td>\n",
       "    </tr>\n",
       "    <tr>\n",
       "      <th>5</th>\n",
       "      <td>projek</td>\n",
       "      <td>ambil</td>\n",
       "      <td>kena rakyat</td>\n",
       "      <td>bayar</td>\n",
       "      <td>umno</td>\n",
       "    </tr>\n",
       "    <tr>\n",
       "      <th>6</th>\n",
       "      <td>rumah</td>\n",
       "      <td>parti</td>\n",
       "      <td>kena</td>\n",
       "      <td>undang</td>\n",
       "      <td>perdana</td>\n",
       "    </tr>\n",
       "    <tr>\n",
       "      <th>7</th>\n",
       "      <td>harga</td>\n",
       "      <td>baca</td>\n",
       "      <td>duit</td>\n",
       "      <td>bon</td>\n",
       "      <td>amanah</td>\n",
       "    </tr>\n",
       "    <tr>\n",
       "      <th>8</th>\n",
       "      <td>produk</td>\n",
       "      <td>ilmu</td>\n",
       "      <td>ppsmi</td>\n",
       "      <td>wajar</td>\n",
       "      <td>seri</td>\n",
       "    </tr>\n",
       "    <tr>\n",
       "      <th>9</th>\n",
       "      <td>duduk</td>\n",
       "      <td>laku</td>\n",
       "      <td>rana</td>\n",
       "      <td>urus</td>\n",
       "      <td>perdana menteri</td>\n",
       "    </tr>\n",
       "  </tbody>\n",
       "</table>\n",
       "</div>"
      ],
      "text/plain": [
       "  topic 0     topic 1      topic 2   topic 3          topic 4\n",
       "0   bayar       putus         raja     nyata            parti\n",
       "1  hutang      bahasa         undi     dakwa          menteri\n",
       "2    jual       pilih          ros      kwsp              pas\n",
       "3    sewa        raya       rakyat  syarikat            islam\n",
       "4    wang  pilih raya    raja duit      dana            putus\n",
       "5  projek       ambil  kena rakyat     bayar             umno\n",
       "6   rumah       parti         kena    undang          perdana\n",
       "7   harga        baca         duit       bon           amanah\n",
       "8  produk        ilmu        ppsmi     wajar             seri\n",
       "9   duduk        laku         rana      urus  perdana menteri"
      ]
     },
     "execution_count": 4,
     "metadata": {},
     "output_type": "execute_result"
    }
   ],
   "source": [
    "attention.top_topics(5, top_n = 10, return_df = True)"
   ]
  },
  {
   "cell_type": "markdown",
   "metadata": {},
   "source": [
    "#### Get topics as string"
   ]
  },
  {
   "cell_type": "code",
   "execution_count": 5,
   "metadata": {
    "scrolled": true
   },
   "outputs": [
    {
     "data": {
      "text/plain": [
       "[(0, 'bayar hutang jual sewa wang projek rumah harga produk duduk'),\n",
       " (1, 'putus bahasa pilih raya pilih raya ambil parti baca ilmu laku'),\n",
       " (2, 'raja undi ros rakyat raja duit kena rakyat kena duit ppsmi rana'),\n",
       " (3, 'nyata dakwa kwsp syarikat dana bayar undang bon wajar urus'),\n",
       " (4, 'parti menteri pas islam putus umno perdana amanah seri perdana menteri'),\n",
       " (5,\n",
       "  'rakyat undi malaysia parti raja negara umno menteri isu rakyat malaysia'),\n",
       " (6,\n",
       "  'jppm ambil selesai langkah teknikal ambil langkah rujuk ros rujuk ros ros rujuk lembaga'),\n",
       " (7, 'negara malaysia kapal rana cina raja tindak islam anti berita'),\n",
       " (8, 'negara bangun malaysia tingkat raja alam ajar didik sasar kembang'),\n",
       " (9, 'jalan laku lancar jalan lancar lihat mudah jual kerja terima hutang')]"
      ]
     },
     "execution_count": 5,
     "metadata": {},
     "output_type": "execute_result"
    }
   ],
   "source": [
    "attention.get_topics(10)"
   ]
  },
  {
   "cell_type": "code",
   "execution_count": 6,
   "metadata": {
    "scrolled": true
   },
   "outputs": [],
   "source": [
    "attention = malaya.topic_model.transformer(corpus, n_topics = 10, vectorizer = electra, stemming = None)"
   ]
  },
  {
   "cell_type": "code",
   "execution_count": 7,
   "metadata": {},
   "outputs": [
    {
     "data": {
      "text/html": [
       "<div>\n",
       "<style scoped>\n",
       "    .dataframe tbody tr th:only-of-type {\n",
       "        vertical-align: middle;\n",
       "    }\n",
       "\n",
       "    .dataframe tbody tr th {\n",
       "        vertical-align: top;\n",
       "    }\n",
       "\n",
       "    .dataframe thead th {\n",
       "        text-align: right;\n",
       "    }\n",
       "</style>\n",
       "<table border=\"1\" class=\"dataframe\">\n",
       "  <thead>\n",
       "    <tr style=\"text-align: right;\">\n",
       "      <th></th>\n",
       "      <th>topic 0</th>\n",
       "      <th>topic 1</th>\n",
       "      <th>topic 2</th>\n",
       "      <th>topic 3</th>\n",
       "      <th>topic 4</th>\n",
       "    </tr>\n",
       "  </thead>\n",
       "  <tbody>\n",
       "    <tr>\n",
       "      <th>0</th>\n",
       "      <td>bayar</td>\n",
       "      <td>putus</td>\n",
       "      <td>raja</td>\n",
       "      <td>nyata</td>\n",
       "      <td>parti</td>\n",
       "    </tr>\n",
       "    <tr>\n",
       "      <th>1</th>\n",
       "      <td>hutang</td>\n",
       "      <td>bahasa</td>\n",
       "      <td>undi</td>\n",
       "      <td>dakwa</td>\n",
       "      <td>menteri</td>\n",
       "    </tr>\n",
       "    <tr>\n",
       "      <th>2</th>\n",
       "      <td>jual</td>\n",
       "      <td>pilih</td>\n",
       "      <td>ros</td>\n",
       "      <td>kwsp</td>\n",
       "      <td>pas</td>\n",
       "    </tr>\n",
       "    <tr>\n",
       "      <th>3</th>\n",
       "      <td>sewa</td>\n",
       "      <td>raya</td>\n",
       "      <td>rakyat</td>\n",
       "      <td>syarikat</td>\n",
       "      <td>islam</td>\n",
       "    </tr>\n",
       "    <tr>\n",
       "      <th>4</th>\n",
       "      <td>wang</td>\n",
       "      <td>pilih raya</td>\n",
       "      <td>raja duit</td>\n",
       "      <td>dana</td>\n",
       "      <td>putus</td>\n",
       "    </tr>\n",
       "    <tr>\n",
       "      <th>5</th>\n",
       "      <td>projek</td>\n",
       "      <td>ambil</td>\n",
       "      <td>kena rakyat</td>\n",
       "      <td>bayar</td>\n",
       "      <td>umno</td>\n",
       "    </tr>\n",
       "    <tr>\n",
       "      <th>6</th>\n",
       "      <td>rumah</td>\n",
       "      <td>parti</td>\n",
       "      <td>kena</td>\n",
       "      <td>undang</td>\n",
       "      <td>perdana</td>\n",
       "    </tr>\n",
       "    <tr>\n",
       "      <th>7</th>\n",
       "      <td>harga</td>\n",
       "      <td>baca</td>\n",
       "      <td>duit</td>\n",
       "      <td>bon</td>\n",
       "      <td>amanah</td>\n",
       "    </tr>\n",
       "    <tr>\n",
       "      <th>8</th>\n",
       "      <td>produk</td>\n",
       "      <td>ilmu</td>\n",
       "      <td>ppsmi</td>\n",
       "      <td>wajar</td>\n",
       "      <td>seri</td>\n",
       "    </tr>\n",
       "    <tr>\n",
       "      <th>9</th>\n",
       "      <td>duduk</td>\n",
       "      <td>laku</td>\n",
       "      <td>rana</td>\n",
       "      <td>urus</td>\n",
       "      <td>perdana menteri</td>\n",
       "    </tr>\n",
       "  </tbody>\n",
       "</table>\n",
       "</div>"
      ],
      "text/plain": [
       "  topic 0     topic 1      topic 2   topic 3          topic 4\n",
       "0   bayar       putus         raja     nyata            parti\n",
       "1  hutang      bahasa         undi     dakwa          menteri\n",
       "2    jual       pilih          ros      kwsp              pas\n",
       "3    sewa        raya       rakyat  syarikat            islam\n",
       "4    wang  pilih raya    raja duit      dana            putus\n",
       "5  projek       ambil  kena rakyat     bayar             umno\n",
       "6   rumah       parti         kena    undang          perdana\n",
       "7   harga        baca         duit       bon           amanah\n",
       "8  produk        ilmu        ppsmi     wajar             seri\n",
       "9   duduk        laku         rana      urus  perdana menteri"
      ]
     },
     "execution_count": 7,
     "metadata": {},
     "output_type": "execute_result"
    }
   ],
   "source": [
    "attention.top_topics(5, top_n = 10, return_df = True)"
   ]
  },
  {
   "cell_type": "code",
   "execution_count": 8,
   "metadata": {},
   "outputs": [
    {
     "data": {
      "text/plain": [
       "[(0, 'bayar hutang jual sewa wang projek rumah harga produk duduk'),\n",
       " (1, 'putus bahasa pilih raya pilih raya ambil parti baca ilmu laku'),\n",
       " (2, 'raja undi ros rakyat raja duit kena rakyat kena duit ppsmi rana'),\n",
       " (3, 'nyata dakwa kwsp syarikat dana bayar undang bon wajar urus'),\n",
       " (4, 'parti menteri pas islam putus umno perdana amanah seri perdana menteri'),\n",
       " (5,\n",
       "  'rakyat undi malaysia parti raja negara umno menteri isu rakyat malaysia'),\n",
       " (6,\n",
       "  'jppm ambil selesai langkah teknikal ambil langkah rujuk ros rujuk ros ros rujuk lembaga'),\n",
       " (7, 'negara malaysia kapal rana cina raja tindak islam anti berita'),\n",
       " (8, 'negara bangun malaysia tingkat raja alam ajar didik sasar kembang'),\n",
       " (9, 'jalan laku lancar jalan lancar lihat mudah jual kerja terima hutang')]"
      ]
     },
     "execution_count": 8,
     "metadata": {},
     "output_type": "execute_result"
    }
   ],
   "source": [
    "attention.get_topics(10)"
   ]
  },
  {
   "cell_type": "markdown",
   "metadata": {},
   "source": [
    "## Train LDA2Vec model"
   ]
  },
  {
   "cell_type": "code",
   "execution_count": 9,
   "metadata": {},
   "outputs": [
    {
     "name": "stdout",
     "output_type": "stream",
     "text": [
      "WARNING:tensorflow:From /Users/huseinzolkepli/Documents/Malaya/malaya/model/lda2vec.py:44: The name tf.random_uniform is deprecated. Please use tf.random.uniform instead.\n",
      "\n",
      "WARNING:tensorflow:From /Users/huseinzolkepli/Documents/Malaya/malaya/model/lda2vec.py:47: The name tf.truncated_normal is deprecated. Please use tf.random.truncated_normal instead.\n",
      "\n",
      "WARNING:tensorflow:From /Users/huseinzolkepli/Documents/Malaya/malaya/model/lda2vec.py:55: The name tf.random_normal is deprecated. Please use tf.random.normal instead.\n",
      "\n",
      "WARNING:tensorflow:\n",
      "The TensorFlow contrib module will not be included in TensorFlow 2.0.\n",
      "For more information, please see:\n",
      "  * https://github.com/tensorflow/community/blob/master/rfcs/20180907-contrib-sunset.md\n",
      "  * https://github.com/tensorflow/addons\n",
      "  * https://github.com/tensorflow/io (for I/O related ops)\n",
      "If you depend on functionality not listed there, please file an issue.\n",
      "\n",
      "WARNING:tensorflow:From /Users/huseinzolkepli/Documents/Malaya/malaya/model/lda2vec.py:104: The name tf.train.get_global_step is deprecated. Please use tf.compat.v1.train.get_global_step instead.\n",
      "\n",
      "WARNING:tensorflow:From /Users/huseinzolkepli/Documents/Malaya/malaya/model/lda2vec.py:117: The name tf.assign is deprecated. Please use tf.compat.v1.assign instead.\n",
      "\n"
     ]
    },
    {
     "name": "stderr",
     "output_type": "stream",
     "text": [
      "minibatch loop: 100%|██████████| 287/287 [00:00<00:00, 361.49it/s, cost=-7.4e+3, epoch=1] \n",
      "minibatch loop: 100%|██████████| 287/287 [00:00<00:00, 389.66it/s, cost=-8.04e+3, epoch=2]\n",
      "minibatch loop: 100%|██████████| 287/287 [00:00<00:00, 402.95it/s, cost=-8.66e+3, epoch=3]\n",
      "minibatch loop: 100%|██████████| 287/287 [00:00<00:00, 392.62it/s, cost=-9.29e+3, epoch=4]\n",
      "minibatch loop: 100%|██████████| 287/287 [00:00<00:00, 411.54it/s, cost=-9.94e+3, epoch=5]\n",
      "minibatch loop: 100%|██████████| 287/287 [00:00<00:00, 407.45it/s, cost=-1.06e+4, epoch=6]\n",
      "minibatch loop: 100%|██████████| 287/287 [00:00<00:00, 400.09it/s, cost=-1.13e+4, epoch=7]\n",
      "minibatch loop: 100%|██████████| 287/287 [00:00<00:00, 412.64it/s, cost=-1.2e+4, epoch=8] \n",
      "minibatch loop: 100%|██████████| 287/287 [00:00<00:00, 391.48it/s, cost=-1.27e+4, epoch=9]\n",
      "minibatch loop: 100%|██████████| 287/287 [00:00<00:00, 402.63it/s, cost=-1.33e+4, epoch=10]\n"
     ]
    }
   ],
   "source": [
    "lda2vec = malaya.topic_model.lda2vec(corpus, 10, vectorizer = 'skip-gram', skip = 4)"
   ]
  },
  {
   "cell_type": "markdown",
   "metadata": {},
   "source": [
    "#### Get topics\n",
    "\n",
    "You able to set to return as Pandas Dataframe or not by using `return_df` parameter"
   ]
  },
  {
   "cell_type": "code",
   "execution_count": 10,
   "metadata": {},
   "outputs": [
    {
     "data": {
      "text/html": [
       "<div>\n",
       "<style scoped>\n",
       "    .dataframe tbody tr th:only-of-type {\n",
       "        vertical-align: middle;\n",
       "    }\n",
       "\n",
       "    .dataframe tbody tr th {\n",
       "        vertical-align: top;\n",
       "    }\n",
       "\n",
       "    .dataframe thead th {\n",
       "        text-align: right;\n",
       "    }\n",
       "</style>\n",
       "<table border=\"1\" class=\"dataframe\">\n",
       "  <thead>\n",
       "    <tr style=\"text-align: right;\">\n",
       "      <th></th>\n",
       "      <th>topic 0</th>\n",
       "      <th>topic 1</th>\n",
       "      <th>topic 2</th>\n",
       "      <th>topic 3</th>\n",
       "      <th>topic 4</th>\n",
       "    </tr>\n",
       "  </thead>\n",
       "  <tbody>\n",
       "    <tr>\n",
       "      <th>0</th>\n",
       "      <td>alat</td>\n",
       "      <td>uji</td>\n",
       "      <td>ekonomi negara bangun</td>\n",
       "      <td>jangka</td>\n",
       "      <td>pendek</td>\n",
       "    </tr>\n",
       "    <tr>\n",
       "      <th>1</th>\n",
       "      <td>hak asasi manusia</td>\n",
       "      <td>pilih umno</td>\n",
       "      <td>sebarang</td>\n",
       "      <td>allahyarham nik</td>\n",
       "      <td>seni</td>\n",
       "    </tr>\n",
       "    <tr>\n",
       "      <th>2</th>\n",
       "      <td>hakim</td>\n",
       "      <td>indonesia</td>\n",
       "      <td>malaysia kongsi</td>\n",
       "      <td>timbang wajar nyata</td>\n",
       "      <td>teknikal industri</td>\n",
       "    </tr>\n",
       "    <tr>\n",
       "      <th>3</th>\n",
       "      <td>rangka program teknikal</td>\n",
       "      <td>alat</td>\n",
       "      <td>menteri perdana</td>\n",
       "      <td>didik latih teknikal</td>\n",
       "      <td>individu</td>\n",
       "    </tr>\n",
       "    <tr>\n",
       "      <th>4</th>\n",
       "      <td>umno tangguh pilih</td>\n",
       "      <td>kwsp</td>\n",
       "      <td>syarikat terbang</td>\n",
       "      <td>sedia kongsi</td>\n",
       "      <td>sedia kongsi</td>\n",
       "    </tr>\n",
       "    <tr>\n",
       "      <th>5</th>\n",
       "      <td>sedia malaysia alam</td>\n",
       "      <td>tawar</td>\n",
       "      <td>daftar ph</td>\n",
       "      <td>bidang ancang ekonomi</td>\n",
       "      <td>milik</td>\n",
       "    </tr>\n",
       "    <tr>\n",
       "      <th>6</th>\n",
       "      <td>sosial negara bangun</td>\n",
       "      <td>mab</td>\n",
       "      <td>bawa</td>\n",
       "      <td>laku tingkat</td>\n",
       "      <td>selamat</td>\n",
       "    </tr>\n",
       "    <tr>\n",
       "      <th>7</th>\n",
       "      <td>hutang hutang</td>\n",
       "      <td>hakim</td>\n",
       "      <td>ekonomi wang tani</td>\n",
       "      <td>timbang wajar</td>\n",
       "      <td>bantu negara negara</td>\n",
       "    </tr>\n",
       "    <tr>\n",
       "      <th>8</th>\n",
       "      <td>menang</td>\n",
       "      <td>jawat</td>\n",
       "      <td>ahli parti</td>\n",
       "      <td>perdana seri najib</td>\n",
       "      <td>malaysia alam bangun</td>\n",
       "    </tr>\n",
       "    <tr>\n",
       "      <th>9</th>\n",
       "      <td>bank</td>\n",
       "      <td>malaysia kongsi</td>\n",
       "      <td>swasta</td>\n",
       "      <td>ancang ekonomi</td>\n",
       "      <td>global</td>\n",
       "    </tr>\n",
       "  </tbody>\n",
       "</table>\n",
       "</div>"
      ],
      "text/plain": [
       "                   topic 0          topic 1                topic 2  \\\n",
       "0                     alat              uji  ekonomi negara bangun   \n",
       "1        hak asasi manusia       pilih umno               sebarang   \n",
       "2                    hakim        indonesia        malaysia kongsi   \n",
       "3  rangka program teknikal             alat        menteri perdana   \n",
       "4       umno tangguh pilih             kwsp       syarikat terbang   \n",
       "5      sedia malaysia alam            tawar              daftar ph   \n",
       "6     sosial negara bangun              mab                   bawa   \n",
       "7            hutang hutang            hakim      ekonomi wang tani   \n",
       "8                   menang            jawat             ahli parti   \n",
       "9                     bank  malaysia kongsi                 swasta   \n",
       "\n",
       "                 topic 3               topic 4  \n",
       "0                 jangka                pendek  \n",
       "1        allahyarham nik                  seni  \n",
       "2    timbang wajar nyata     teknikal industri  \n",
       "3   didik latih teknikal              individu  \n",
       "4           sedia kongsi          sedia kongsi  \n",
       "5  bidang ancang ekonomi                 milik  \n",
       "6           laku tingkat               selamat  \n",
       "7          timbang wajar   bantu negara negara  \n",
       "8     perdana seri najib  malaysia alam bangun  \n",
       "9         ancang ekonomi                global  "
      ]
     },
     "execution_count": 10,
     "metadata": {},
     "output_type": "execute_result"
    }
   ],
   "source": [
    "lda2vec.top_topics(5, top_n = 10, return_df = True)"
   ]
  },
  {
   "cell_type": "markdown",
   "metadata": {},
   "source": [
    "#### Important sentences based on topics"
   ]
  },
  {
   "cell_type": "code",
   "execution_count": 11,
   "metadata": {},
   "outputs": [
    {
     "data": {
      "text/plain": [
       "['mab mahukan bukti transaksi laku black and white',\n",
       " 'insya bawa guru allahyarham nik abdul aziz nik mat nampak',\n",
       " 'beim bekerjasama promosi pelihara bina komuniti niaga rakyat malaysia utuh tatakelakuan etika niaga contoh sihat',\n",
       " 'jho low anak kapal tahan air indonesia',\n",
       " 'menang kacau']"
      ]
     },
     "execution_count": 11,
     "metadata": {},
     "output_type": "execute_result"
    }
   ],
   "source": [
    "lda2vec.get_sentences(5)"
   ]
  },
  {
   "cell_type": "markdown",
   "metadata": {},
   "source": [
    "#### Get topics as string"
   ]
  },
  {
   "cell_type": "code",
   "execution_count": 12,
   "metadata": {},
   "outputs": [
    {
     "data": {
      "text/plain": [
       "[(0,\n",
       "  'alat hak asasi manusia hakim rangka program teknikal umno tangguh pilih sedia malaysia alam sosial negara bangun hutang hutang menang bank'),\n",
       " (1,\n",
       "  'uji pilih umno indonesia alat kwsp tawar mab hakim jawat malaysia kongsi'),\n",
       " (2,\n",
       "  'ekonomi negara bangun sebarang malaysia kongsi menteri perdana syarikat terbang daftar ph bawa ekonomi wang tani ahli parti swasta'),\n",
       " (3,\n",
       "  'jangka allahyarham nik timbang wajar nyata didik latih teknikal sedia kongsi bidang ancang ekonomi laku tingkat timbang wajar perdana seri najib ancang ekonomi'),\n",
       " (4,\n",
       "  'pendek seni teknikal industri individu sedia kongsi milik selamat bantu negara negara malaysia alam bangun global'),\n",
       " (5,\n",
       "  'maklum malaysia sedia muka alat ekonomi sosial bangun sedia alam bangun sedia malaysia alam pindah kampung kongsi bangun kongsi bangun ekonomi'),\n",
       " (6,\n",
       "  'hakim malaysia kongsi bidang ancang ekonomi awam mab wang dagang didik rasmi sedia malaysia ekonomi sosial didik proses ajar'),\n",
       " (7,\n",
       "  'pilih umno maklum ekonomi sosial bangun bersih gaji hakim indonesia kongsi alam negara mab suasana'),\n",
       " (8,\n",
       "  'hak asasi manusia latih teknikal malaysia kongsi syarikat swasta mca malaysia sedia nik muka negara bangun lantik'),\n",
       " (9,\n",
       "  'laksana nhrap pilih umno malaysia sedia pimpin negara bersih fasal lembaga khidmat wajar tulis alam bangun negara maklum')]"
      ]
     },
     "execution_count": 12,
     "metadata": {},
     "output_type": "execute_result"
    }
   ],
   "source": [
    "lda2vec.get_topics(10)"
   ]
  },
  {
   "cell_type": "markdown",
   "metadata": {},
   "source": [
    "#### Visualize topics\n",
    "\n",
    "This will initiate [pyLDAvis](https://github.com/bmabey/pyLDAvis) object, to understand [pyLDAvis](https://github.com/bmabey/pyLDAvis) more, read at https://github.com/bmabey/pyLDAvis."
   ]
  },
  {
   "cell_type": "code",
   "execution_count": 13,
   "metadata": {
    "scrolled": true
   },
   "outputs": [
    {
     "name": "stderr",
     "output_type": "stream",
     "text": [
      "/usr/local/lib/python3.7/site-packages/past/types/oldstr.py:5: DeprecationWarning: Using or importing the ABCs from 'collections' instead of from 'collections.abc' is deprecated since Python 3.3,and in 3.9 it will stop working\n",
      "  from collections import Iterable\n"
     ]
    },
    {
     "data": {
      "text/html": [
       "\n",
       "<link rel=\"stylesheet\" type=\"text/css\" href=\"https://cdn.rawgit.com/bmabey/pyLDAvis/files/ldavis.v1.0.0.css\">\n",
       "\n",
       "\n",
       "<div id=\"ldavis_el3969055663319849167824438\"></div>\n",
       "<script type=\"text/javascript\">\n",
       "\n",
       "var ldavis_el3969055663319849167824438_data = {\"mdsDat\": {\"x\": [0.0003114420754308962, 0.00018884827508009266, 0.0001048269372756729, -2.0257205019626438e-05, 3.44194887619555e-05, -8.17658732831439e-05, -0.00010937033396407885, -0.0001357363336794598, -0.0001470605858582576, -0.0001453464447440511], \"y\": [0.00014300565501240866, -0.00015518664730986898, -0.00014923725655499538, 9.916388109215353e-05, 9.075815269621075e-05, 4.4858498676036305e-06, -0.00012734301700269892, -5.3856141836681784e-05, 1.8374017779396726e-05, 0.00012983550625647193], \"topics\": [1, 2, 3, 4, 5, 6, 7, 8, 9, 10], \"cluster\": [1, 1, 1, 1, 1, 1, 1, 1, 1, 1], \"Freq\": [15.041007041931152, 12.230596542358398, 11.972376823425293, 11.491216659545898, 10.812776565551758, 8.76274585723877, 8.616820335388184, 7.954069137573242, 7.279128074645996, 5.839261531829834]}, \"tinfo\": {\"Category\": [\"Default\", \"Default\", \"Default\", \"Default\", \"Default\", \"Default\", \"Default\", \"Default\", \"Default\", \"Default\", \"Default\", \"Default\", \"Default\", \"Default\", \"Default\", \"Default\", \"Default\", \"Default\", \"Default\", \"Default\", \"Default\", \"Default\", \"Default\", \"Default\", \"Default\", \"Default\", \"Default\", \"Default\", \"Default\", \"Default\", \"Topic1\", \"Topic1\", \"Topic1\", \"Topic1\", \"Topic1\", \"Topic1\", \"Topic1\", \"Topic1\", \"Topic1\", \"Topic1\", \"Topic1\", \"Topic1\", \"Topic1\", \"Topic1\", \"Topic1\", \"Topic1\", \"Topic1\", \"Topic1\", \"Topic1\", \"Topic1\", \"Topic1\", \"Topic1\", \"Topic1\", \"Topic1\", \"Topic1\", \"Topic1\", \"Topic1\", \"Topic1\", \"Topic1\", \"Topic1\", \"Topic1\", \"Topic1\", \"Topic1\", \"Topic1\", \"Topic1\", \"Topic1\", \"Topic1\", \"Topic1\", \"Topic1\", \"Topic1\", \"Topic1\", \"Topic1\", \"Topic1\", \"Topic1\", \"Topic1\", \"Topic1\", \"Topic1\", \"Topic2\", \"Topic2\", \"Topic2\", \"Topic2\", \"Topic2\", \"Topic2\", \"Topic2\", \"Topic2\", \"Topic2\", \"Topic2\", \"Topic2\", \"Topic2\", \"Topic2\", \"Topic2\", \"Topic2\", \"Topic2\", \"Topic2\", \"Topic2\", \"Topic2\", \"Topic2\", \"Topic2\", \"Topic2\", \"Topic2\", \"Topic2\", \"Topic2\", \"Topic2\", \"Topic2\", \"Topic2\", \"Topic2\", \"Topic2\", \"Topic2\", \"Topic2\", \"Topic2\", \"Topic2\", \"Topic2\", \"Topic2\", \"Topic2\", \"Topic2\", \"Topic2\", \"Topic2\", \"Topic2\", \"Topic2\", \"Topic2\", \"Topic2\", \"Topic2\", \"Topic2\", \"Topic2\", \"Topic2\", \"Topic3\", \"Topic3\", \"Topic3\", \"Topic3\", \"Topic3\", \"Topic3\", \"Topic3\", \"Topic3\", \"Topic3\", \"Topic3\", \"Topic3\", \"Topic3\", \"Topic3\", \"Topic3\", \"Topic3\", \"Topic3\", \"Topic3\", \"Topic3\", \"Topic3\", \"Topic3\", \"Topic3\", \"Topic3\", \"Topic3\", \"Topic3\", \"Topic3\", \"Topic3\", \"Topic3\", \"Topic3\", \"Topic3\", \"Topic3\", \"Topic3\", \"Topic3\", \"Topic3\", \"Topic3\", \"Topic3\", \"Topic3\", \"Topic3\", \"Topic3\", \"Topic3\", \"Topic3\", \"Topic3\", \"Topic3\", \"Topic3\", \"Topic3\", \"Topic3\", \"Topic3\", \"Topic3\", \"Topic3\", \"Topic4\", \"Topic4\", \"Topic4\", \"Topic4\", \"Topic4\", \"Topic4\", \"Topic4\", \"Topic4\", \"Topic4\", \"Topic4\", \"Topic4\", \"Topic4\", \"Topic4\", \"Topic4\", \"Topic4\", \"Topic4\", \"Topic4\", \"Topic4\", \"Topic4\", \"Topic4\", \"Topic4\", \"Topic4\", \"Topic4\", \"Topic4\", \"Topic4\", \"Topic4\", \"Topic4\", \"Topic4\", \"Topic4\", \"Topic4\", \"Topic4\", \"Topic4\", \"Topic4\", \"Topic4\", \"Topic4\", \"Topic4\", \"Topic4\", \"Topic4\", \"Topic4\", \"Topic4\", \"Topic4\", \"Topic4\", \"Topic4\", \"Topic4\", \"Topic4\", \"Topic4\", \"Topic5\", \"Topic5\", \"Topic5\", \"Topic5\", \"Topic5\", \"Topic5\", \"Topic5\", \"Topic5\", \"Topic5\", \"Topic5\", \"Topic5\", \"Topic5\", \"Topic5\", \"Topic5\", \"Topic5\", \"Topic5\", \"Topic5\", \"Topic5\", \"Topic5\", \"Topic5\", \"Topic5\", \"Topic5\", \"Topic5\", \"Topic5\", \"Topic5\", \"Topic5\", \"Topic5\", \"Topic5\", \"Topic5\", \"Topic5\", \"Topic5\", \"Topic5\", \"Topic5\", \"Topic5\", \"Topic5\", \"Topic5\", \"Topic5\", \"Topic5\", \"Topic5\", \"Topic5\", \"Topic5\", \"Topic5\", \"Topic5\", \"Topic5\", \"Topic6\", \"Topic6\", \"Topic6\", \"Topic6\", \"Topic6\", \"Topic6\", \"Topic6\", \"Topic6\", \"Topic6\", \"Topic6\", \"Topic6\", \"Topic6\", \"Topic6\", \"Topic6\", \"Topic6\", \"Topic6\", \"Topic6\", \"Topic6\", \"Topic6\", \"Topic6\", \"Topic6\", \"Topic6\", \"Topic6\", \"Topic6\", \"Topic6\", \"Topic6\", \"Topic6\", \"Topic6\", \"Topic6\", \"Topic6\", \"Topic6\", \"Topic6\", \"Topic6\", \"Topic6\", \"Topic6\", \"Topic6\", \"Topic6\", \"Topic6\", \"Topic6\", \"Topic6\", \"Topic7\", \"Topic7\", \"Topic7\", \"Topic7\", \"Topic7\", \"Topic7\", \"Topic7\", \"Topic7\", \"Topic7\", \"Topic7\", \"Topic7\", \"Topic7\", \"Topic7\", \"Topic7\", \"Topic7\", \"Topic7\", \"Topic7\", \"Topic7\", \"Topic7\", \"Topic7\", \"Topic7\", \"Topic7\", \"Topic7\", \"Topic7\", \"Topic7\", \"Topic7\", \"Topic7\", \"Topic7\", \"Topic7\", \"Topic7\", \"Topic7\", \"Topic7\", \"Topic7\", \"Topic7\", \"Topic7\", \"Topic7\", \"Topic7\", \"Topic7\", \"Topic7\", \"Topic7\", \"Topic7\", \"Topic8\", \"Topic8\", \"Topic8\", \"Topic8\", \"Topic8\", \"Topic8\", \"Topic8\", \"Topic8\", \"Topic8\", \"Topic8\", \"Topic8\", \"Topic8\", \"Topic8\", \"Topic8\", \"Topic8\", \"Topic8\", \"Topic8\", \"Topic8\", \"Topic8\", \"Topic8\", \"Topic8\", \"Topic8\", \"Topic8\", \"Topic8\", \"Topic8\", \"Topic8\", \"Topic8\", \"Topic8\", \"Topic8\", \"Topic8\", \"Topic8\", \"Topic8\", \"Topic8\", \"Topic8\", \"Topic8\", \"Topic8\", \"Topic8\", \"Topic8\", \"Topic8\", \"Topic8\", \"Topic8\", \"Topic8\", \"Topic8\", \"Topic9\", \"Topic9\", \"Topic9\", \"Topic9\", \"Topic9\", \"Topic9\", \"Topic9\", \"Topic9\", \"Topic9\", \"Topic9\", \"Topic9\", \"Topic9\", \"Topic9\", \"Topic9\", \"Topic9\", \"Topic9\", \"Topic9\", \"Topic9\", \"Topic9\", \"Topic9\", \"Topic9\", \"Topic9\", \"Topic9\", \"Topic9\", \"Topic9\", \"Topic9\", \"Topic9\", \"Topic9\", \"Topic9\", \"Topic9\", \"Topic9\", \"Topic9\", \"Topic9\", \"Topic9\", \"Topic9\", \"Topic9\", \"Topic9\", \"Topic9\", \"Topic9\", \"Topic9\", \"Topic9\", \"Topic9\", \"Topic9\", \"Topic9\", \"Topic9\", \"Topic9\", \"Topic10\", \"Topic10\", \"Topic10\", \"Topic10\", \"Topic10\", \"Topic10\", \"Topic10\", \"Topic10\", \"Topic10\", \"Topic10\", \"Topic10\", \"Topic10\", \"Topic10\", \"Topic10\", \"Topic10\", \"Topic10\", \"Topic10\", \"Topic10\", \"Topic10\", \"Topic10\", \"Topic10\", \"Topic10\", \"Topic10\", \"Topic10\", \"Topic10\", \"Topic10\", \"Topic10\", \"Topic10\", \"Topic10\", \"Topic10\", \"Topic10\", \"Topic10\", \"Topic10\", \"Topic10\", \"Topic10\", \"Topic10\", \"Topic10\", \"Topic10\", \"Topic10\", \"Topic10\", \"Topic10\", \"Topic10\", \"Topic10\", \"Topic10\", \"Topic10\"], \"Freq\": [3.0, 3.0, 3.0, 3.0, 3.0, 3.0, 3.0, 3.0, 3.0, 3.0, 3.0, 3.0, 3.0, 3.0, 3.0, 3.0, 3.0, 3.0, 3.0, 3.0, 3.0, 3.0, 3.0, 3.0, 3.0, 3.0, 3.0, 3.0, 3.0, 3.0, 0.5506029725074768, 0.5386063456535339, 0.5337146520614624, 0.5574100017547607, 0.5381641983985901, 0.5376524329185486, 0.5281549692153931, 0.5390717387199402, 0.5251412987709045, 0.5336170792579651, 0.5341148972511292, 0.5463261604309082, 0.5123087167739868, 0.5335323810577393, 0.5248537063598633, 0.5173963904380798, 0.519978940486908, 0.5499016046524048, 0.5299547910690308, 0.5291978716850281, 0.5258021950721741, 0.5103856921195984, 0.5251166224479675, 0.5315094590187073, 0.542626142501831, 0.5310195684432983, 0.5317443609237671, 0.5223221778869629, 0.5483072400093079, 0.5265856981277466, 0.5423524379730225, 0.5321141481399536, 0.5438026189804077, 0.5461621284484863, 0.5489472150802612, 0.5387365221977234, 0.5367993712425232, 0.5329990386962891, 0.5318798422813416, 0.5341993570327759, 0.539208173751831, 0.5358249545097351, 0.5358599424362183, 0.5339505076408386, 0.5333921909332275, 0.5320207476615906, 0.5321014523506165, 0.4473996162414551, 0.4278647303581238, 0.4282150864601135, 0.4288219213485718, 0.42561814188957214, 0.44008874893188477, 0.4228056073188782, 0.4308270812034607, 0.4205131232738495, 0.44374415278434753, 0.41969671845436096, 0.42985835671424866, 0.41274476051330566, 0.41828641295433044, 0.41814717650413513, 0.42670729756355286, 0.4393540620803833, 0.4277755320072174, 0.40930312871932983, 0.42474332451820374, 0.42650964856147766, 0.42516079545021057, 0.43253055214881897, 0.42654547095298767, 0.4183952808380127, 0.4165024161338806, 0.4301145672798157, 0.4129875898361206, 0.43476128578186035, 0.41626980900764465, 0.42651495337486267, 0.4364811182022095, 0.4315730929374695, 0.4277603030204773, 0.4250603914260864, 0.42419150471687317, 0.4290505647659302, 0.43418917059898376, 0.43244096636772156, 0.43722158670425415, 0.4275916814804077, 0.42926087975502014, 0.4282979667186737, 0.42771315574645996, 0.4299735128879547, 0.42772868275642395, 0.42691144347190857, 0.42661821842193604, 0.4161182940006256, 0.4254072308540344, 0.41873905062675476, 0.41680416464805603, 0.41458994150161743, 0.41127875447273254, 0.41228601336479187, 0.40832701325416565, 0.4134540259838104, 0.41401970386505127, 0.412881463766098, 0.4172663986682892, 0.41267645359039307, 0.41342952847480774, 0.40190598368644714, 0.41081851720809937, 0.4127597212791443, 0.4279421865940094, 0.4249139130115509, 0.40836822986602783, 0.4063362181186676, 0.4138262867927551, 0.40822553634643555, 0.40712371468544006, 0.4029393494129181, 0.4167473614215851, 0.39854252338409424, 0.4047088623046875, 0.40143728256225586, 0.40747055411338806, 0.42061614990234375, 0.41030508279800415, 0.4117726683616638, 0.4197172522544861, 0.41692426800727844, 0.4192207455635071, 0.4190550744533539, 0.4157881438732147, 0.4153420329093933, 0.41760551929473877, 0.41698157787323, 0.41740408539772034, 0.41615843772888184, 0.4140770137310028, 0.4143490791320801, 0.4145336449146271, 0.41310185194015503, 0.4130597412586212, 0.41715747117996216, 0.39479541778564453, 0.3964586555957794, 0.40911686420440674, 0.4263613522052765, 0.38876351714134216, 0.40267083048820496, 0.4024295508861542, 0.3990633487701416, 0.401549369096756, 0.40991243720054626, 0.40173977613449097, 0.41240453720092773, 0.4103465676307678, 0.4030909538269043, 0.4138006567955017, 0.40766242146492004, 0.398770272731781, 0.40215444564819336, 0.3966800272464752, 0.3948458731174469, 0.3943728506565094, 0.3933086097240448, 0.40176549553871155, 0.3870132565498352, 0.4198717772960663, 0.37818995118141174, 0.41812649369239807, 0.4137900769710541, 0.39937013387680054, 0.4090156555175781, 0.4101690351963043, 0.4060398042201996, 0.40829506516456604, 0.4036153554916382, 0.40282517671585083, 0.40752989053726196, 0.4078693091869354, 0.4060717821121216, 0.40351247787475586, 0.40423837304115295, 0.4045986235141754, 0.40491944551467896, 0.4044129550457001, 0.4035295844078064, 0.40355318784713745, 0.39052218198776245, 0.3683582842350006, 0.36918550729751587, 0.3831654191017151, 0.376397967338562, 0.3791614770889282, 0.3652001917362213, 0.3985848128795624, 0.38023075461387634, 0.36548370122909546, 0.3764178454875946, 0.35303279757499695, 0.39328932762145996, 0.37668710947036743, 0.37121179699897766, 0.35939013957977295, 0.3759281635284424, 0.36272895336151123, 0.3766295909881592, 0.37694093585014343, 0.38078778982162476, 0.37905600666999817, 0.3637012243270874, 0.3756212592124939, 0.37207886576652527, 0.37628597021102905, 0.3740905225276947, 0.37246236205101013, 0.3827511966228485, 0.36406052112579346, 0.376224160194397, 0.3915207087993622, 0.37840694189071655, 0.37880009412765503, 0.38536861538887024, 0.3809357285499573, 0.3827657401561737, 0.3765052855014801, 0.37937140464782715, 0.3800863027572632, 0.38023537397384644, 0.37738606333732605, 0.3775266706943512, 0.37652257084846497, 0.33340445160865784, 0.3257346451282501, 0.32585495710372925, 0.33132848143577576, 0.3248401880264282, 0.31502705812454224, 0.31930431723594666, 0.31712085008621216, 0.31477585434913635, 0.3076035976409912, 0.31097686290740967, 0.3118681311607361, 0.316425085067749, 0.3133578300476074, 0.3098248243331909, 0.31295254826545715, 0.31889504194259644, 0.3072485327720642, 0.31477636098861694, 0.3093529939651489, 0.3204933702945709, 0.3140592873096466, 0.30750638246536255, 0.31166160106658936, 0.31418541073799133, 0.3157529830932617, 0.30865415930747986, 0.31649142503738403, 0.306973397731781, 0.3067507743835449, 0.3124236464500427, 0.31098347902297974, 0.31410932540893555, 0.31592732667922974, 0.3157132863998413, 0.3120821416378021, 0.31213340163230896, 0.31162479519844055, 0.31181010603904724, 0.3113357126712799, 0.30687645077705383, 0.32679036259651184, 0.30697473883628845, 0.31182897090911865, 0.30262506008148193, 0.3075721859931946, 0.31280264258384705, 0.30728524923324585, 0.3040315508842468, 0.31375253200531006, 0.3083646595478058, 0.3061874806880951, 0.3136037588119507, 0.3099634647369385, 0.30727872252464294, 0.31363582611083984, 0.30715638399124146, 0.30582302808761597, 0.30121999979019165, 0.30915072560310364, 0.3132608234882355, 0.30912065505981445, 0.29885321855545044, 0.297885537147522, 0.3084810972213745, 0.30315694212913513, 0.2934212386608124, 0.31151315569877625, 0.2928638160228729, 0.30038347840309143, 0.3071736693382263, 0.3120703399181366, 0.3085460662841797, 0.3141728341579437, 0.3067649304866791, 0.3097701072692871, 0.3059292137622833, 0.3095546364784241, 0.3069118857383728, 0.3064752519130707, 0.30606842041015625, 0.2991957664489746, 0.29335546493530273, 0.28695690631866455, 0.285364031791687, 0.2933339476585388, 0.29701167345046997, 0.2857847213745117, 0.28234192728996277, 0.2745581865310669, 0.28054240345954895, 0.2865942120552063, 0.2918495833873749, 0.2887088358402252, 0.27982813119888306, 0.28697142004966736, 0.2771342396736145, 0.28264349699020386, 0.2762852907180786, 0.2782742381095886, 0.2808935344219208, 0.2839195132255554, 0.2808998227119446, 0.28339987993240356, 0.2800343334674835, 0.28294965624809265, 0.27982816100120544, 0.2767956256866455, 0.2879073917865753, 0.2792918384075165, 0.2799891531467438, 0.28615835309028625, 0.28120556473731995, 0.287536084651947, 0.2840988039970398, 0.2824256718158722, 0.28256407380104065, 0.28852957487106323, 0.2823713421821594, 0.2825120687484741, 0.2831020951271057, 0.2828601002693176, 0.2839488089084625, 0.2821461260318756, 0.263448029756546, 0.27630293369293213, 0.2619577944278717, 0.26161977648735046, 0.2529570758342743, 0.2599116265773773, 0.2601119577884674, 0.2560306489467621, 0.2584693133831024, 0.2601853609085083, 0.26268845796585083, 0.26599743962287903, 0.2514187693595886, 0.25459688901901245, 0.24909789860248566, 0.25491148233413696, 0.26658663153648376, 0.2595265805721283, 0.2531245946884155, 0.2616659998893738, 0.2608233392238617, 0.2471114695072174, 0.2534247934818268, 0.25267869234085083, 0.2518632411956787, 0.2626592218875885, 0.2544037103652954, 0.24362283945083618, 0.2623049318790436, 0.2534720301628113, 0.25472307205200195, 0.2654280364513397, 0.25544285774230957, 0.25785380601882935, 0.25599205493927, 0.2609168589115143, 0.26258254051208496, 0.25781944394111633, 0.2564503252506256, 0.2588554620742798, 0.25550609827041626, 0.25687214732170105, 0.2565246522426605, 0.2573603689670563, 0.25571006536483765, 0.25618696212768555, 0.2158508598804474, 0.21216443181037903, 0.20798125863075256, 0.21602898836135864, 0.20639540255069733, 0.2046450972557068, 0.20877200365066528, 0.20850563049316406, 0.20922991633415222, 0.20605793595314026, 0.203167125582695, 0.21111014485359192, 0.2014710009098053, 0.2170105278491974, 0.21711929142475128, 0.2077014297246933, 0.20648126304149628, 0.21653248369693756, 0.2068604826927185, 0.2067929208278656, 0.2064434289932251, 0.20732593536376953, 0.20264320075511932, 0.20529165863990784, 0.20703206956386566, 0.20869901776313782, 0.2047298401594162, 0.2066589593887329, 0.20202793180942535, 0.2044598013162613, 0.20591245591640472, 0.20950792729854584, 0.21225817501544952, 0.21050189435482025, 0.20819243788719177, 0.21114952862262726, 0.2104574292898178, 0.20833417773246765, 0.20952776074409485, 0.20843492448329926, 0.20736072957515717, 0.20762380957603455, 0.20728273689746857, 0.20704980194568634, 0.20689238607883453], \"Term\": [\"kwsp\", \"tawar\", \"tingkat maju bidang\", \"pilih umno\", \"laksana nhrap\", \"negara bangun program\", \"khidmat\", \"alat\", \"pimpin negara\", \"mca\", \"muka\", \"maklum\", \"tunggu\", \"hak asasi manusia\", \"indonesia\", \"bahasa inggeris bahasa\", \"bvi\", \"doj\", \"negara bangun\", \"negara tindak\", \"bidang didik ajar\", \"mab\", \"nik aziz\", \"bekal bersih\", \"kongsi bangun ekonomi\", \"malaysia sedia\", \"bekerjasama\", \"arah\", \"negara maju\", \"br\", \"sebarang\", \"urus jho low\", \"tuntut sivil doj\", \"ekonomi negara bangun\", \"niaga jho low\", \"maju bidang proses\", \"masyarakat manfaat\", \"proses ajar ajar\", \"aspirasi\", \"mahir kawasan\", \"ajar ajar\", \"syarikat terbang\", \"dagang tani didik\", \"negara negara\", \"lapor\", \"menteri seri\", \"peribadi\", \"menteri perdana\", \"usahawan wanita\", \"promosi\", \"hak manusia\", \"bangun kawasan\", \"tanggung\", \"tn\", \"swasta\", \"bangun arus\", \"ppsmi\", \"main\", \"daftar ph\", \"timbang wajar tulis\", \"ahli parti\", \"buku\", \"bawa\", \"ekonomi wang tani\", \"malaysia kongsi\", \"bangun bandar\", \"wang dagang didik\", \"atur\", \"tani latih\", \"nampak\", \"bidang ancang ekonomi\", \"timbang wajar\", \"gaji\", \"tani didik latih\", \"alam bangun sosial\", \"main peran kongsi\", \"maju bidang ancang\", \"jangka\", \"palsu\", \"islam\", \"ltat\", \"malaysia kongsi bangun\", \"timbang wajar nyata\", \"bantu negara maju\", \"seni\", \"laksana\", \"allahyarham nik\", \"hala\", \"bangun rangka program\", \"rakyat malaysia\", \"didik proses\", \"politik\", \"ajar ajar\", \"didik latih teknikal\", \"bon\", \"dagang tani didik\", \"berita palsu\", \"negara negara\", \"didik latih industri\", \"ancang ekonomi\", \"cakap\", \"pilih\", \"sivil doj\", \"pelopor\", \"bidang ancang wang\", \"laku tingkat\", \"negara bidang ancang\", \"lapang\", \"sedia kongsi\", \"fungsi\", \"teknikal malaysia mtcp\", \"malaysia peran\", \"sebarang\", \"bidang selamat\", \"timbang wajar\", \"perdana seri najib\", \"bidang ancang ekonomi\", \"kerjasama\", \"malaysia mtcp sedia\", \"semak imbang\", \"swasta\", \"jual syarikat\", \"latih industri diplomasi\", \"rangka kerjasama teknikal\", \"wang dagang didik\", \"parti fasal lembaga\", \"seni\", \"milik\", \"gera sosial\", \"inggeris\", \"cari\", \"mdb\", \"musnah\", \"wang\", \"lihat\", \"mtcp malaysia\", \"global\", \"pilih\", \"berbeza\", \"malaysia\", \"negara bidang ancang\", \"tahap\", \"pendek\", \"teknikal industri\", \"umno\", \"mac\", \"benda\", \"tingkat bidang\", \"raja tingkat maju\", \"wang hutang\", \"lapang\", \"bantu negara\", \"politik\", \"arab saudi\", \"rangka program kerjasama\", \"individu\", \"kaya\", \"struktur\", \"selamat\", \"jawat ahli\", \"sedia kongsi\", \"bantu negara negara\", \"bangkit\", \"ambil langkah\", \"malaysia alam bangun\", \"pakat\", \"suasana\", \"laku raja maju\", \"laku tingkat\", \"semak imbang\", \"giat hidup\", \"jalan lancar\", \"kongsi bangun\", \"rangka program teknikal\", \"isu politik\", \"antarabangsa\", \"laku raja\", \"alat\", \"anjur\", \"lonjak\", \"bekal\", \"usahawan wanita\", \"bangun negara\", \"hutang hutang\", \"rak\", \"menang\", \"sosial negara bangun\", \"hadap kumpul\", \"umno tangguh pilih\", \"baharu\", \"padang\", \"lantik\", \"kampung\", \"lampau\", \"taraf\", \"daftar\", \"pekan\", \"tinggal\", \"hak asasi manusia\", \"parti\", \"hakim\", \"sedia malaysia alam\", \"timbang tulis\", \"bank\", \"syarikat swasta\", \"muda\", \"bidang didik proses\", \"nik\", \"teras\", \"kandung sivil\", \"asasi\", \"didik ajar\", \"perdana menteri kena\", \"timbang tulis nyata\", \"kongsi bangun\", \"laksana nhrap\", \"tuju\", \"serang\", \"maklum\", \"awam\", \"wujud\", \"suci\", \"rasmi\", \"ekonomi wang\", \"bank negara\", \"menteri seri\", \"hakim\", \"didik proses ajar\", \"luas\", \"mca\", \"senarai\", \"bidang ancang ekonomi\", \"anak muda\", \"alam bangun ekonomi\", \"jual\", \"mtcp\", \"malaysia kongsi alam\", \"niaga\", \"jejas\", \"program teknikal\", \"untung\", \"menteri seri najib\", \"hapus\", \"bangun perdana\", \"pesara tentera\", \"tani latih teknikal\", \"tingkat maju didik\", \"wang dagang didik\", \"nilai\", \"saja\", \"malaysia kongsi\", \"kongsi bangun ekonomi\", \"negara rangka\", \"mab\", \"anti\", \"sedia malaysia\", \"peran alam\", \"aabar bvi\", \"ekonomi sosial\", \"najib razak\", \"maju\", \"didik teknikal\", \"tolak\", \"pilih umno\", \"ekonomi sosial bangun\", \"bersih\", \"maklum\", \"gaji\", \"kwsp\", \"indonesia\", \"kongsi alam negara\", \"pimpin negara\", \"doj\", \"buah\", \"negara rangka\", \"suasana\", \"ancang wang\", \"rendah\", \"maju ancang\", \"jual syarikat\", \"bincang\", \"kampung baharu\", \"arah capai\", \"hakim\", \"didik teknikal\", \"hidup duduk\", \"bantu negara negara\", \"bangun main\", \"sedia malaysia\", \"jemaah\", \"mab\", \"jawat ahli\", \"urus niaga\", \"fasal lembaga\", \"ancang ekonomi dagang\", \"didik ajar\", \"alat\", \"hak asasi manusia\", \"kandung sivil\", \"wang tani\", \"laksana nhrap\", \"tuju\", \"alam bangun negara\", \"sosial bangun\", \"maklum\", \"projek jalan\", \"kongsi bangun ekonomi\", \"latih teknikal industri\", \"negara bangun program\", \"sedia alam bangun\", \"mahukan\", \"negara rangka program\", \"pindah kampung\", \"bekal bersih\", \"tingkat maju bidang\", \"malaysia sedia\", \"pakat\", \"kwsp\", \"muka\", \"jemaah\", \"serah\", \"uji kaji\", \"titik\", \"ekonomi sosial bangun\", \"maju ancang\", \"nama\", \"ajar\", \"negara bangun\", \"arah\", \"tanding\", \"kongsi bangun\", \"umno tangguh\", \"doj\", \"tutup\", \"sedia malaysia alam\", \"hebat\", \"alat\", \"khidmat\", \"alam bangun negara\", \"industri diplomasi\", \"jual syarikat\", \"sumber baca\", \"uji\", \"laksana nhrap\", \"laksana nhrap\", \"pimpin negara\", \"negara tindak\", \"latih teknikal diplomasi\", \"malaysia sedia\", \"pilih umno\", \"bekal bersih\", \"peran alam mahir\", \"rangka program kerjasama\", \"doj\", \"bvi\", \"bersih\", \"fasal lembaga\", \"tawar\", \"khidmat\", \"nama\", \"arah capai\", \"br\", \"menteri najib\", \"tingkat maju bidang\", \"nik aziz\", \"kongsi bangun negara\", \"bahasa inggeris bahasa\", \"rangka program\", \"tunggu\", \"baca\", \"hadap\", \"wajar tulis\", \"isi\", \"kerjasama teknikal mtcp\", \"giat hidup\", \"kongsi bangun ekonomi\", \"alam bangun negara\", \"aabar\", \"bina\", \"bantu negara negara\", \"maklum\", \"sedia alam bangun\", \"tani didik teknikal\", \"muka\", \"suasana\", \"alat\", \"gembira lihat\", \"mca\", \"hak asasi manusia\", \"rampas\", \"lantik\", \"cina\", \"faham\", \"rangka program\", \"rangka kerjasama\", \"baiah\", \"pegang\", \"nik\", \"syarikat swasta\", \"ambil\", \"menteri najib razak\", \"seri razak\", \"rak\", \"latih teknikal\", \"baharu\", \"artikel\", \"negara bangun\", \"bvi\", \"mesyuarat\", \"gembira\", \"bekerjasama\", \"ekonomi wang dagang\", \"malaysia sedia\", \"latih industri\", \"terima\", \"muka\", \"tawar\", \"serius pimpin\", \"malaysia kongsi\", \"giat\", \"turun\", \"kwsp\", \"wang tani\", \"maklum\", \"khidmat\", \"umno pilih\", \"laksana nhrap\", \"perdana menteri seri\", \"gembira lihat\", \"anti\", \"ekonomi\", \"sedia alam\", \"alam bangun sosial\", \"kwsp\", \"tawar\", \"bekerjasama\", \"indonesia\", \"negara negara selatan\", \"ulang kali\", \"negara maju\", \"rasmi\", \"keluarga\", \"selatan selatan\", \"tempoh\", \"jawat\", \"mahkamah\", \"uji\", \"pilih umno\", \"baca\", \"kandung tuntut sivil\", \"alat\", \"jejas\", \"negara bangun program\", \"lantik\", \"tingkat maju bidang\", \"taraf\", \"bantu\", \"arah\", \"tunggu\", \"wajar nyata\", \"hidup duduk\", \"projek tanah\", \"wajar tulis nyata\", \"allahyarham\", \"khidmat\", \"mab\", \"wajar tulis\", \"pimpin negara\", \"hakim\", \"malaysia kongsi\", \"ekonomi sosial\", \"jual syarikat\", \"syarikat swasta\", \"bina\", \"sumber baca\", \"asasi\", \"hak asasi manusia\", \"laksana nhrap\"], \"Total\": [3.0, 3.0, 3.0, 3.0, 3.0, 3.0, 3.0, 3.0, 3.0, 3.0, 3.0, 3.0, 3.0, 3.0, 3.0, 3.0, 3.0, 3.0, 3.0, 3.0, 3.0, 3.0, 3.0, 3.0, 3.0, 3.0, 3.0, 3.0, 3.0, 3.0, 3.2696750164031982, 3.207301139831543, 3.1812937259674072, 3.3561055660247803, 3.262753486633301, 3.262253761291504, 3.204951047897339, 3.271785259246826, 3.190187692642212, 3.252244472503662, 3.2570784091949463, 3.3321166038513184, 3.1294960975646973, 3.2641332149505615, 3.2119643688201904, 3.1672818660736084, 3.1863880157470703, 3.3702752590179443, 3.2485122680664062, 3.2447376251220703, 3.2302300930023193, 3.1376562118530273, 3.230003595352173, 3.2713749408721924, 3.3470747470855713, 3.2760164737701416, 3.285250663757324, 3.231928586959839, 3.3928608894348145, 3.2588512897491455, 3.35866379737854, 3.297079563140869, 3.387723207473755, 3.419734001159668, 3.4578380584716797, 3.3730947971343994, 3.3660385608673096, 3.3214800357818604, 3.3122971057891846, 3.3490865230560303, 3.433403730392456, 3.3901584148406982, 3.433204412460327, 3.3801417350769043, 3.3860950469970703, 3.3613128662109375, 3.3942103385925293, 3.3183791637420654, 3.2046492099761963, 3.2197349071502686, 3.2257180213928223, 3.209993600845337, 3.3234705924987793, 3.197579860687256, 3.2666196823120117, 3.1886608600616455, 3.3670663833618164, 3.193171501159668, 3.272162437438965, 3.146904706954956, 3.1899099349975586, 3.189920425415039, 3.2570784091949463, 3.353822946548462, 3.2655489444732666, 3.1294960975646973, 3.247791290283203, 3.2641332149505615, 3.2565107345581055, 3.3143808841705322, 3.27203631401062, 3.211479902267456, 3.2018439769744873, 3.3076469898223877, 3.1759824752807617, 3.344193458557129, 3.2037880420684814, 3.2830650806427, 3.3655009269714355, 3.3290669918060303, 3.3012399673461914, 3.275968074798584, 3.2696750164031982, 3.3263919353485107, 3.3901584148406982, 3.370361566543579, 3.433403730392456, 3.3154172897338867, 3.361691474914551, 3.3576865196228027, 3.3470747470855713, 3.4339566230773926, 3.3869762420654297, 3.337986707687378, 3.3660385608673096, 3.1657001972198486, 3.2666196823120117, 3.218174934387207, 3.2069246768951416, 3.2062807083129883, 3.1856677532196045, 3.196822166442871, 3.1665515899658203, 3.206432580947876, 3.2155401706695557, 3.2072503566741943, 3.247138738632202, 3.211479902267456, 3.2216479778289795, 3.1324119567871094, 3.2037880420684814, 3.2216153144836426, 3.3473458290100098, 3.3250486850738525, 3.1978092193603516, 3.183413028717041, 3.2463972568511963, 3.2049314975738525, 3.201046943664551, 3.1695501804351807, 3.2830650806427, 3.1410489082336426, 3.189920425415039, 3.1645069122314453, 3.215766668319702, 3.3240983486175537, 3.239928960800171, 3.2577240467071533, 3.346757411956787, 3.3248651027679443, 3.3655009269714355, 3.3676259517669678, 3.33121395111084, 3.3257339000701904, 3.3704071044921875, 3.3619799613952637, 3.3963723182678223, 3.382894277572632, 3.344193458557129, 3.3576865196228027, 3.3987209796905518, 3.3435842990875244, 3.4113266468048096, 3.3440001010894775, 3.1948046684265137, 3.210461378097534, 3.3160154819488525, 3.4583356380462646, 3.156156539916992, 3.275592565536499, 3.274864435195923, 3.2485122680664062, 3.2729763984680176, 3.3417484760284424, 3.276815414428711, 3.3648548126220703, 3.3486835956573486, 3.2960071563720703, 3.390946865081787, 3.3408360481262207, 3.2694802284240723, 3.3012466430664062, 3.257998466491699, 3.2444822788238525, 3.2432570457458496, 3.2359867095947266, 3.3068795204162598, 3.1855931282043457, 3.4560985565185547, 3.12412691116333, 3.456963300704956, 3.4241209030151367, 3.3076024055480957, 3.390331983566284, 3.4099645614624023, 3.382887363433838, 3.416579484939575, 3.361790895462036, 3.353231906890869, 3.423013210296631, 3.43249773979187, 3.420152187347412, 3.3724403381347656, 3.399758815765381, 3.4113266468048096, 3.4239273071289062, 3.4343252182006836, 3.4060897827148438, 3.4863405227661133, 3.3139989376068115, 3.1394076347351074, 3.184676170349121, 3.305694818496704, 3.2491586208343506, 3.2835426330566406, 3.1672818660736084, 3.456963300704956, 3.3033339977264404, 3.181185007095337, 3.2806718349456787, 3.0773956775665283, 3.433403730392456, 3.2928266525268555, 3.2521820068359375, 3.1508588790893555, 3.296318292617798, 3.1806018352508545, 3.303065776824951, 3.306259870529175, 3.3417720794677734, 3.326669692993164, 3.19197940826416, 3.2975409030914307, 3.267448902130127, 3.3052375316619873, 3.2871034145355225, 3.2732717990875244, 3.3660385608673096, 3.207064151763916, 3.314303398132324, 3.4578380584716797, 3.3375742435455322, 3.34490966796875, 3.424748182296753, 3.3766849040985107, 3.414247512817383, 3.3291232585906982, 3.3772242069244385, 3.3906452655792236, 3.4050254821777344, 3.3610565662384033, 3.3877267837524414, 3.372403860092163, 3.4604148864746094, 3.412276029586792, 3.426666259765625, 3.4863405227661133, 3.433204412460327, 3.3344459533691406, 3.398230791091919, 3.382786750793457, 3.3688910007476807, 3.292870283126831, 3.3342628479003906, 3.34490966796875, 3.3963723182678223, 3.364405632019043, 3.3309388160705566, 3.368644952774048, 3.4339566230773926, 3.3092288970947266, 3.390528440475464, 3.3348584175109863, 3.456963300704956, 3.3877267837524414, 3.321990489959717, 3.3676259517669678, 3.3959531784057617, 3.414247512817383, 3.3379266262054443, 3.424748182296753, 3.3248651027679443, 3.3232202529907227, 3.3928709030151367, 3.3780431747436523, 3.420152187347412, 3.4583356380462646, 3.4560985565185547, 3.423013210296631, 3.4314002990722656, 3.4239273071289062, 3.4343252182006836, 3.4222726821899414, 3.2682929039001465, 3.4863405227661133, 3.2830581665039062, 3.3375742435455322, 3.2394919395446777, 3.3066916465759277, 3.369638681411743, 3.313633918762207, 3.2905092239379883, 3.396880865097046, 3.3391380310058594, 3.316519260406494, 3.39982271194458, 3.3619799613952637, 3.3344459533691406, 3.4037747383117676, 3.3379266262054443, 3.32491397857666, 3.279207706451416, 3.3667287826538086, 3.412276029586792, 3.368644952774048, 3.2625925540924072, 3.253117084503174, 3.370429039001465, 3.318315267562866, 3.212991952896118, 3.4113266468048096, 3.2103610038757324, 3.292870283126831, 3.3692383766174316, 3.4241209030151367, 3.3873677253723145, 3.4583356380462646, 3.376567840576172, 3.4222726821899414, 3.364896774291992, 3.4339566230773926, 3.424978494644165, 3.4568400382995605, 3.4239273071289062, 3.4239273071289062, 3.3688910007476807, 3.3244760036468506, 3.307297468185425, 3.39982271194458, 3.4604148864746094, 3.3391380310058594, 3.3005876541137695, 3.215766668319702, 3.292870283126831, 3.3649487495422363, 3.426666259765625, 3.3928709030151367, 3.289217948913574, 3.376567840576172, 3.2625925540924072, 3.3348584175109863, 3.261427402496338, 3.285461902618408, 3.316519260406494, 3.3523507118225098, 3.3168747425079346, 3.348494291305542, 3.308753490447998, 3.3451650142669678, 3.312161922454834, 3.279071092605591, 3.4128620624542236, 3.312607526779175, 3.3213820457458496, 3.3987209796905518, 3.3375742435455322, 3.4222726821899414, 3.376749277114868, 3.363494873046875, 3.3676259517669678, 3.4863405227661133, 3.369638681411743, 3.380718946456909, 3.4037747383117676, 3.3963723182678223, 3.4583356380462646, 3.3776018619537354, 3.2806718349456787, 3.4560985565185547, 3.2994141578674316, 3.3012466430664062, 3.193213939666748, 3.2910425662994385, 3.308753490447998, 3.2684333324432373, 3.299706220626831, 3.325031280517578, 3.361790895462036, 3.4099645614624023, 3.2239229679107666, 3.2694287300109863, 3.2020108699798584, 3.276815414428711, 3.4299540519714355, 3.3408360481262207, 3.259277105331421, 3.370429039001465, 3.3649487495422363, 3.1900017261505127, 3.274440050125122, 3.2651865482330322, 3.258786916732788, 3.39982271194458, 3.2940545082092285, 3.1610114574432373, 3.4037747383117676, 3.289217948913574, 3.305974245071411, 3.4578380584716797, 3.320089101791382, 3.367238998413086, 3.3344459533691406, 3.4314002990722656, 3.4863405227661133, 3.376567840576172, 3.352257490158081, 3.4239273071289062, 3.330596685409546, 3.3776018619537354, 3.3766849040985107, 3.425960063934326, 3.3408541679382324, 3.3860950469970703, 3.3344459533691406, 3.289217948913574, 3.2651865482330322, 3.398230791091919, 3.264782190322876, 3.2373669147491455, 3.309284210205078, 3.305694818496704, 3.3178327083587646, 3.2763960361480713, 3.2317004203796387, 3.358208179473877, 3.2092320919036865, 3.4568400382995605, 3.4604148864746094, 3.312161922454834, 3.293846845626831, 3.4583356380462646, 3.306259870529175, 3.3066916465759277, 3.3012466430664062, 3.316519260406494, 3.2432570457458496, 3.289522409439087, 3.318315267562866, 3.3451650142669678, 3.284489393234253, 3.321990489959717, 3.2490127086639404, 3.2889137268066406, 3.314471960067749, 3.376567840576172, 3.424748182296753, 3.4128620624542236, 3.3688910007476807, 3.456963300704956, 3.4578380584716797, 3.3906452655792236, 3.4339566230773926, 3.4099645614624023, 3.363494873046875, 3.424978494644165, 3.43249773979187, 3.4560985565185547, 3.4239273071289062], \"loglift\": [30.0, 29.0, 28.0, 27.0, 26.0, 25.0, 24.0, 23.0, 22.0, 21.0, 20.0, 19.0, 18.0, 17.0, 16.0, 15.0, 14.0, 13.0, 12.0, 11.0, 10.0, 9.0, 8.0, 7.0, 6.0, 5.0, 4.0, 3.0, 2.0, 1.0, 0.11299999803304672, 0.11020000278949738, 0.10920000076293945, 0.09920000284910202, 0.09220000356435776, 0.09139999747276306, 0.09130000323057175, 0.09109999984502792, 0.09019999951124191, 0.08699999749660492, 0.08640000224113464, 0.08619999885559082, 0.08470000326633453, 0.08320000022649765, 0.08290000259876251, 0.08259999752044678, 0.08150000125169754, 0.08139999955892563, 0.0812000036239624, 0.08100000023841858, 0.07900000363588333, 0.07829999923706055, 0.07779999822378159, 0.0771000012755394, 0.07500000298023224, 0.07479999959468842, 0.07339999824762344, 0.07180000096559525, 0.07180000096559525, 0.07169999927282333, 0.07100000232458115, 0.07050000131130219, 0.06509999930858612, 0.05999999865889549, 0.05400000140070915, 0.05999999865889549, 0.05849999934434891, 0.06469999998807907, 0.06539999693632126, 0.05869999900460243, 0.04320000112056732, 0.04960000142455101, 0.03700000047683716, 0.04899999871850014, 0.04619999974966049, 0.050999999046325684, 0.0414000004529953, 0.09740000218153, 0.0877000018954277, 0.08380000293254852, 0.08340000361204147, 0.08070000261068344, 0.07940000295639038, 0.07800000160932541, 0.07540000230073929, 0.07530000060796738, 0.0746999979019165, 0.07199999690055847, 0.07150000333786011, 0.06989999860525131, 0.06960000097751617, 0.06930000334978104, 0.06870000064373016, 0.06870000064373016, 0.06859999895095825, 0.06710000336170197, 0.06700000166893005, 0.06610000133514404, 0.06530000269412994, 0.0649000033736229, 0.06379999965429306, 0.06319999694824219, 0.06159999966621399, 0.06129999831318855, 0.06129999831318855, 0.061000000685453415, 0.060499999672174454, 0.06030000001192093, 0.05860000103712082, 0.05820000171661377, 0.05770000070333481, 0.05909999832510948, 0.05900000035762787, 0.053199999034404755, 0.04610000178217888, 0.0478999987244606, 0.04039999842643738, 0.05310000106692314, 0.04309999942779541, 0.041999999433755875, 0.043800000101327896, 0.023499999195337296, 0.03200000151991844, 0.04470000043511391, 0.035599999129772186, 0.0934000015258789, 0.08410000056028366, 0.08320000022649765, 0.08209999650716782, 0.07699999958276749, 0.07540000230073929, 0.07440000027418137, 0.07419999688863754, 0.07419999688863754, 0.07270000129938126, 0.07259999960660934, 0.07079999893903732, 0.07069999724626541, 0.06939999759197235, 0.06920000165700912, 0.06859999895095825, 0.06780000030994415, 0.06560000032186508, 0.06520000100135803, 0.06449999660253525, 0.06400000303983688, 0.06270000338554382, 0.061900001019239426, 0.060499999672174454, 0.05999999865889549, 0.05849999934434891, 0.05810000002384186, 0.057999998331069946, 0.05790000036358833, 0.056699998676776886, 0.05530000105500221, 0.05620000138878822, 0.05429999902844429, 0.04639999940991402, 0.046300001442432404, 0.03959999978542328, 0.038600001484155655, 0.04170000180602074, 0.0421999990940094, 0.034299999475479126, 0.03530000150203705, 0.026200000196695328, 0.02710000053048134, 0.03359999880194664, 0.030300000682473183, 0.01860000006854534, 0.03150000050663948, 0.011300000362098217, 0.08209999650716782, 0.07270000129938126, 0.07199999690055847, 0.07109999656677246, 0.07029999792575836, 0.06939999759197235, 0.06750000268220901, 0.06710000336170197, 0.06679999828338623, 0.06549999862909317, 0.06530000269412994, 0.06480000168085098, 0.06449999660253525, 0.06430000066757202, 0.062300000339746475, 0.060100000351667404, 0.060100000351667404, 0.05959999933838844, 0.058400001376867294, 0.05779999867081642, 0.05739999935030937, 0.05660000070929527, 0.05609999969601631, 0.05570000037550926, 0.05570000037550926, 0.05559999868273735, 0.05209999904036522, 0.05119999870657921, 0.0502999983727932, 0.0494999997317791, 0.048700001090765, 0.04569999873638153, 0.04360000044107437, 0.03920000046491623, 0.043800000101327896, 0.04439999908208847, 0.03539999946951866, 0.03350000083446503, 0.03269999846816063, 0.04039999842643738, 0.0340999998152256, 0.031599998474121094, 0.028699999675154686, 0.024399999529123306, 0.030500000342726707, 0.007300000172108412, 0.0860000029206276, 0.08169999718666077, 0.06960000097751617, 0.06949999928474426, 0.06889999657869339, 0.065700002014637, 0.06430000066757202, 0.06419999897480011, 0.0625, 0.06069999933242798, 0.059300001710653305, 0.05920000001788139, 0.05770000070333481, 0.05640000104904175, 0.054099999368190765, 0.05339999869465828, 0.053300000727176666, 0.053300000727176666, 0.05310000106692314, 0.05299999937415123, 0.052400000393390656, 0.052400000393390656, 0.052400000393390656, 0.05209999904036522, 0.05180000141263008, 0.051500000059604645, 0.05119999870657921, 0.050999999046325684, 0.0502999983727932, 0.048700001090765, 0.04859999939799309, 0.04610000178217888, 0.04740000143647194, 0.046300001442432404, 0.039900001138448715, 0.042399998754262924, 0.03620000183582306, 0.04490000009536743, 0.038100000470876694, 0.03610000014305115, 0.03220000118017197, 0.037700001150369644, 0.03020000085234642, 0.03200000151991844, 0.09489999711513519, 0.08560000360012054, 0.08179999887943268, 0.0812000036239624, 0.07670000195503235, 0.07530000060796738, 0.0697999969124794, 0.06750000268220901, 0.06419999897480011, 0.06400000303983688, 0.06239999830722809, 0.06199999898672104, 0.06129999831318855, 0.061000000685453415, 0.059700001031160355, 0.058400001376867294, 0.05810000002384186, 0.05779999867081642, 0.05779999867081642, 0.05700000002980232, 0.05640000104904175, 0.056299999356269836, 0.05480000004172325, 0.05460000038146973, 0.05429999902844429, 0.05389999970793724, 0.05380000174045563, 0.053199999034404755, 0.05220000073313713, 0.052000001072883606, 0.04960000142455101, 0.049300000071525574, 0.04699999839067459, 0.041600000113248825, 0.041600000113248825, 0.03970000147819519, 0.03739999979734421, 0.03790000081062317, 0.03550000116229057, 0.03750000149011612, 0.08590000122785568, 0.08420000225305557, 0.08169999718666077, 0.08089999854564667, 0.08079999685287476, 0.07649999856948853, 0.07450000196695328, 0.07339999824762344, 0.0697999969124794, 0.06939999759197235, 0.06930000334978104, 0.0689999982714653, 0.06809999793767929, 0.06759999692440033, 0.06710000336170197, 0.06700000166893005, 0.065700002014637, 0.06530000269412994, 0.06390000134706497, 0.06360000371932983, 0.06340000033378601, 0.06289999932050705, 0.06109999865293503, 0.06080000102519989, 0.06030000001192093, 0.05849999934434891, 0.05810000002384186, 0.057999998331069946, 0.05700000002980232, 0.05700000002980232, 0.05640000104904175, 0.05609999969601631, 0.05550000071525574, 0.05290000140666962, 0.05290000140666962, 0.04919999837875366, 0.053700000047683716, 0.045099999755620956, 0.03920000046491623, 0.02850000001490116, 0.03669999912381172, 0.09399999678134918, 0.09049999713897705, 0.08179999887943268, 0.08139999955892563, 0.08129999786615372, 0.07609999924898148, 0.07329999655485153, 0.07270000129938126, 0.07079999893903732, 0.06870000064373016, 0.06840000301599503, 0.06840000301599503, 0.06750000268220901, 0.06729999929666519, 0.06629999727010727, 0.065700002014637, 0.06350000202655792, 0.06300000101327896, 0.06279999762773514, 0.06279999762773514, 0.06279999762773514, 0.06270000338554382, 0.06210000067949295, 0.06210000067949295, 0.061500001698732376, 0.06030000001192093, 0.05950000137090683, 0.058800000697374344, 0.05829999968409538, 0.05810000002384186, 0.05689999833703041, 0.0575999990105629, 0.05480000004172325, 0.05609999969601631, 0.05420000106096268, 0.05339999869465828, 0.03970000147819519, 0.05209999904036522, 0.049400001764297485, 0.04470000043511391, 0.04600000008940697, 0.031700000166893005, 0.04899999871850014, 0.0982000008225441, 0.09380000084638596, 0.0868000015616417, 0.08500000089406967, 0.08460000157356262, 0.08150000125169754, 0.07689999788999557, 0.07339999824762344, 0.07329999655485153, 0.0723000019788742, 0.07090000063180923, 0.06920000165700912, 0.06889999657869339, 0.06750000268220901, 0.06650000065565109, 0.06639999896287918, 0.06560000032186508, 0.06499999761581421, 0.06480000168085098, 0.06440000236034393, 0.06279999762773514, 0.062199998646974564, 0.06129999831318855, 0.06120000034570694, 0.05990000069141388, 0.05950000137090683, 0.05920000001788139, 0.057100001722574234, 0.05700000002980232, 0.05700000002980232, 0.0568000003695488, 0.05310000106692314, 0.055399999022483826, 0.050700001418590546, 0.053199999034404755, 0.04360000044107437, 0.0340999998152256, 0.04780000075697899, 0.04969999939203262, 0.03790000081062317, 0.05249999836087227, 0.043800000101327896, 0.04270000010728836, 0.03150000050663948, 0.050200000405311584, 0.038600001484155655, 0.1031000018119812, 0.09950000047683716, 0.0869000032544136, 0.08500000089406967, 0.07940000295639038, 0.07930000126361847, 0.07729999721050262, 0.0771000012755394, 0.07689999788999557, 0.07419999688863754, 0.0737999975681305, 0.0737999975681305, 0.07240000367164612, 0.07240000367164612, 0.07190000265836716, 0.07129999995231628, 0.07100000232458115, 0.0697999969124794, 0.0689999982714653, 0.06859999895095825, 0.06849999725818634, 0.0681999996304512, 0.06769999861717224, 0.06650000065565109, 0.06620000302791595, 0.06620000302791595, 0.06530000269412994, 0.0632999986410141, 0.06289999932050705, 0.06260000169277191, 0.06199999898672104, 0.06069999933242798, 0.05959999933838844, 0.05480000004172325, 0.056699998676776886, 0.04500000178813934, 0.04149999842047691, 0.05090000107884407, 0.04399999976158142, 0.04569999873638153, 0.05429999902844429, 0.03739999979734421, 0.03359999880194664, 0.025599999353289604, 0.03420000150799751], \"logprob\": [30.0, 29.0, 28.0, 27.0, 26.0, 25.0, 24.0, 23.0, 22.0, 21.0, 20.0, 19.0, 18.0, 17.0, 16.0, 15.0, 14.0, 13.0, 12.0, 11.0, 10.0, 9.0, 8.0, 7.0, 6.0, 5.0, 4.0, 3.0, 2.0, 1.0, -6.617300033569336, -6.639400005340576, -6.648499965667725, -6.605000019073486, -6.640200138092041, -6.64109992980957, -6.658999919891357, -6.638500213623047, -6.664700031280518, -6.64870023727417, -6.64769983291626, -6.625100135803223, -6.6894001960754395, -6.648799896240234, -6.665200233459473, -6.679500102996826, -6.674600124359131, -6.618599891662598, -6.655600070953369, -6.6570000648498535, -6.663400173187256, -6.69320011138916, -6.664700031280518, -6.652599811553955, -6.631899833679199, -6.653500080108643, -6.652200222015381, -6.670100212097168, -6.621500015258789, -6.661900043487549, -6.632400035858154, -6.651500225067139, -6.629799842834473, -6.625400066375732, -6.620299816131592, -6.639100074768066, -6.6427001953125, -6.649799823760986, -6.651899814605713, -6.647600173950195, -6.638199806213379, -6.644499778747559, -6.644499778747559, -6.6479997634887695, -6.649099826812744, -6.651700019836426, -6.651500225067139, -6.618100166320801, -6.662700176239014, -6.661900043487549, -6.6605000495910645, -6.668000221252441, -6.634500026702881, -6.674600124359131, -6.655799865722656, -6.679999828338623, -6.626299858093262, -6.682000160217285, -6.658100128173828, -6.698699951171875, -6.685299873352051, -6.685699939727783, -6.66540002822876, -6.636199951171875, -6.662899971008301, -6.707099914550781, -6.670000076293945, -6.665900230407715, -6.669000148773193, -6.651899814605713, -6.665800094604492, -6.685100078582764, -6.689599990844727, -6.65749979019165, -6.6981000900268555, -6.646699905395508, -6.690199851989746, -6.665900230407715, -6.6427998542785645, -6.654099941253662, -6.662899971008301, -6.669300079345703, -6.671299934387207, -6.659900188446045, -6.6479997634887695, -6.652100086212158, -6.64109992980957, -6.663300037384033, -6.65939998626709, -6.6616997718811035, -6.663099765777588, -6.657800197601318, -6.663000106811523, -6.664899826049805, -6.665599822998047, -6.6691999435424805, -6.64709997177124, -6.662899971008301, -6.667600154876709, -6.672900199890137, -6.6809000968933105, -6.678500175476074, -6.6880998611450195, -6.675600051879883, -6.674300193786621, -6.677000045776367, -6.666399955749512, -6.677499771118164, -6.6757001876831055, -6.703999996185303, -6.682000160217285, -6.677299976348877, -6.641200065612793, -6.6483001708984375, -6.688000202178955, -6.692999839782715, -6.674699783325195, -6.688399791717529, -6.691100120544434, -6.701399803161621, -6.667699813842773, -6.712399959564209, -6.697000026702881, -6.705100059509277, -6.690199851989746, -6.658400058746338, -6.683300018310547, -6.679699897766113, -6.660600185394287, -6.667300224304199, -6.661799907684326, -6.662199974060059, -6.670000076293945, -6.67110013961792, -6.665599822998047, -6.667099952697754, -6.666100025177002, -6.669099807739258, -6.674099922180176, -6.673500061035156, -6.672999858856201, -6.676499843597412, -6.676599979400635, -6.625699996948242, -6.680799961090088, -6.676599979400635, -6.645199775695801, -6.603899955749512, -6.696199893951416, -6.660999774932861, -6.661600112915039, -6.670000076293945, -6.66379976272583, -6.643199920654297, -6.663300037384033, -6.6371002197265625, -6.642099857330322, -6.659999847412109, -6.633800029754639, -6.64870023727417, -6.67080020904541, -6.662300109863281, -6.676000118255615, -6.680699825286865, -6.6819000244140625, -6.684599876403809, -6.663300037384033, -6.700699806213379, -6.619200229644775, -6.723800182342529, -6.6234002113342285, -6.633800029754639, -6.669300079345703, -6.645400047302246, -6.642600059509277, -6.652699947357178, -6.647200107574463, -6.658699989318848, -6.660600185394287, -6.64900016784668, -6.648200035095215, -6.652599811553955, -6.658899784088135, -6.657100200653076, -6.656300067901611, -6.6554999351501465, -6.656700134277344, -6.658899784088135, -6.65880012512207, -6.630799770355225, -6.689199924468994, -6.686999797821045, -6.649799823760986, -6.667600154876709, -6.660299777984619, -6.69789981842041, -6.610400199890137, -6.65749979019165, -6.6971001625061035, -6.667600154876709, -6.7316999435424805, -6.623799800872803, -6.666900157928467, -6.68149995803833, -6.713900089263916, -6.668900012969971, -6.704599857330322, -6.666999816894531, -6.666200160980225, -6.656099796295166, -6.660600185394287, -6.702000141143799, -6.6697001457214355, -6.679200172424316, -6.667900085449219, -6.673799991607666, -6.678199768066406, -6.650899887084961, -6.701000213623047, -6.668099880218506, -6.628300189971924, -6.662300109863281, -6.661300182342529, -6.644100189208984, -6.655700206756592, -6.650899887084961, -6.667399883270264, -6.659800052642822, -6.657899856567383, -6.65749979019165, -6.664999961853027, -6.664700031280518, -6.667300224304199, -6.578700065612793, -6.6020002365112305, -6.601600170135498, -6.585000038146973, -6.604700088500977, -6.63539981842041, -6.6219000816345215, -6.628799915313721, -6.636199951171875, -6.659299850463867, -6.648399829864502, -6.645500183105469, -6.63100004196167, -6.640699863433838, -6.652100086212158, -6.642000198364258, -6.623199939727783, -6.660399913787842, -6.636199951171875, -6.653600215911865, -6.618199825286865, -6.638500213623047, -6.659599781036377, -6.646200180053711, -6.6381001472473145, -6.6331000328063965, -6.655900001525879, -6.630799770355225, -6.661300182342529, -6.6620001792907715, -6.643700122833252, -6.6483001708984375, -6.638299942016602, -6.632599830627441, -6.633200168609619, -6.644800186157227, -6.644599914550781, -6.646299839019775, -6.645699977874756, -6.647200107574463, -6.644800186157227, -6.581999778747559, -6.644499778747559, -6.628799915313721, -6.65880012512207, -6.642600059509277, -6.625699996948242, -6.643499851226807, -6.654200077056885, -6.622700214385986, -6.639999866485596, -6.64709997177124, -6.623199939727783, -6.634799957275391, -6.643499851226807, -6.6230998039245605, -6.643899917602539, -6.6483001708984375, -6.663400173187256, -6.637499809265137, -6.624199867248535, -6.637599945068359, -6.671299934387207, -6.674600124359131, -6.639599800109863, -6.6570000648498535, -6.689700126647949, -6.629799842834473, -6.6915998458862305, -6.666200160980225, -6.643899917602539, -6.6280999183654785, -6.639400005340576, -6.621300220489502, -6.645199775695801, -6.635499954223633, -6.647900104522705, -6.636099815368652, -6.644700050354004, -6.646100044250488, -6.647500038146973, -6.590199947357178, -6.609899997711182, -6.631899833679199, -6.637499809265137, -6.609899997711182, -6.597499847412109, -6.636000156402588, -6.648099899291992, -6.67609977722168, -6.6545000076293945, -6.633200168609619, -6.614999771118164, -6.625800132751465, -6.657100200653076, -6.631899833679199, -6.6666998863220215, -6.64709997177124, -6.6697998046875, -6.662600040435791, -6.653299808502197, -6.642600059509277, -6.653299808502197, -6.644400119781494, -6.656300067901611, -6.645999908447266, -6.657100200653076, -6.668000221252441, -6.628600120544434, -6.658999919891357, -6.656499862670898, -6.634699821472168, -6.652200222015381, -6.629899978637695, -6.641900062561035, -6.647799968719482, -6.647299766540527, -6.626500129699707, -6.6479997634887695, -6.647500038146973, -6.645400047302246, -6.646299839019775, -6.642499923706055, -6.648799896240234, -6.628699779510498, -6.581099987030029, -6.634399890899658, -6.635700225830078, -6.669400215148926, -6.642199993133545, -6.641499996185303, -6.657299995422363, -6.647799968719482, -6.641200065612793, -6.6315999031066895, -6.619100093841553, -6.67549991607666, -6.662899971008301, -6.684700012207031, -6.6616997718811035, -6.6168999671936035, -6.643700122833252, -6.668700218200684, -6.635499954223633, -6.638700008392334, -6.692699909210205, -6.667500019073486, -6.670499801635742, -6.673699855804443, -6.631700038909912, -6.663700103759766, -6.706999778747559, -6.6331000328063965, -6.667300224304199, -6.662399768829346, -6.621200084686279, -6.659599781036377, -6.650199890136719, -6.657400131225586, -6.638400077819824, -6.631999969482422, -6.650300025939941, -6.655600070953369, -6.646299839019775, -6.659299850463867, -6.6539998054504395, -6.655399799346924, -6.652100086212158, -6.6585001945495605, -6.656700134277344, -6.607600212097168, -6.624800205230713, -6.644700050354004, -6.606800079345703, -6.652400016784668, -6.660900115966797, -6.640900135040283, -6.642199993133545, -6.638700008392334, -6.6539998054504395, -6.668099880218506, -6.629799842834473, -6.676499843597412, -6.602200031280518, -6.6016998291015625, -6.646100044250488, -6.6519999504089355, -6.604400157928467, -6.650100231170654, -6.6504998207092285, -6.652100086212158, -6.647900104522705, -6.6707000732421875, -6.657700061798096, -6.6493000984191895, -6.641300201416016, -6.6605000495910645, -6.651100158691406, -6.673799991607666, -6.661799907684326, -6.654699802398682, -6.637400150299072, -6.6244001388549805, -6.632699966430664, -6.643700122833252, -6.6296000480651855, -6.632900238037109, -6.64300012588501, -6.63730001449585, -6.642499923706055, -6.64769983291626, -6.646399974822998, -6.648099899291992, -6.649199962615967, -6.650000095367432]}, \"token.table\": {\"Topic\": [1, 1, 1, 1, 1, 1, 1, 1, 1, 1, 1, 1, 1, 1, 1, 1, 1, 1, 1, 1, 1, 1, 1, 1, 1, 1, 1, 1, 1, 1, 1, 1, 1, 1, 1, 1, 1, 1, 1, 1, 1, 1, 1, 1, 1, 1, 1, 1, 1, 1, 1, 1, 1, 1, 1, 1, 1, 1, 1, 1, 1, 1, 1, 1, 1, 1, 1, 1, 1, 1, 1, 1, 1, 1, 1, 1, 1, 1, 1, 1, 1, 1, 1, 1, 1, 1, 1, 1, 1, 1, 1, 1, 1, 1, 1, 1, 1, 1, 1, 1, 1, 1, 1, 1, 1, 1, 1, 1, 1, 1, 1], \"Freq\": [0.2961011528968811, 0.2977374494075775, 0.3070236146450043, 0.2953254282474518, 0.3006855249404907, 0.2972293198108673, 0.2961484491825104, 0.31346118450164795, 0.30107060074806213, 0.3030572831630707, 0.30019086599349976, 0.30524876713752747, 0.29646363854408264, 0.31870922446250916, 0.3056083023548126, 0.29495635628700256, 0.2951835095882416, 0.3079015612602234, 0.29182884097099304, 0.2912561595439911, 0.2926903963088989, 0.3032987117767334, 0.29473650455474854, 0.31954026222229004, 0.29238465428352356, 0.2981671988964081, 0.2979643940925598, 0.2949291169643402, 0.3077719807624817, 0.2924204170703888, 0.2947356402873993, 0.3003844618797302, 0.2912730872631073, 0.2960680425167084, 0.29422834515571594, 0.30339738726615906, 0.30957546830177307, 0.2892712354660034, 0.2952144742012024, 0.294270783662796, 0.2971859276294708, 0.31058457493782043, 0.313008189201355, 0.2990802526473999, 0.301351934671402, 0.29777786135673523, 0.29214027523994446, 0.2956048548221588, 0.2990257740020752, 0.311335951089859, 0.2952485978603363, 0.29154908657073975, 0.3100084960460663, 0.3143482804298401, 0.30747994780540466, 0.30941277742385864, 0.2975028157234192, 0.2975254952907562, 0.2946193516254425, 0.30653655529022217, 0.28919804096221924, 0.305253267288208, 0.3120172321796417, 0.29671168327331543, 0.3157281279563904, 0.29368355870246887, 0.2985888719558716, 0.30636003613471985, 0.30648958683013916, 0.3120466470718384, 0.3007490634918213, 0.2987441420555115, 0.2965211868286133, 0.3138349652290344, 0.28898268938064575, 0.3043907880783081, 0.29924243688583374, 0.30819132924079895, 0.3056435286998749, 0.29958176612854004, 0.30584079027175903, 0.298796683549881, 0.30521342158317566, 0.29359179735183716, 0.29862481355667114, 0.29443180561065674, 0.31400367617607117, 0.2987683415412903, 0.2932581901550293, 0.30010953545570374, 0.3095971643924713, 0.29584556818008423, 0.3019052743911743, 0.30421921610832214, 0.3029164969921112, 0.2982197701931, 0.29413852095603943, 0.2949714660644531, 0.3008902668952942, 0.30685660243034363, 0.31201913952827454, 0.30568185448646545, 0.29652440547943115, 0.31433752179145813, 0.28928154706954956, 0.29490289092063904, 0.30060091614723206, 0.3117886185646057, 0.3078332245349884, 0.29708513617515564, 0.2914262115955353], \"Term\": [\"aabar bvi\", \"ahli parti\", \"ajar ajar\", \"alam bangun sosial\", \"ambil langkah\", \"ancang wang\", \"anti\", \"aspirasi\", \"atur\", \"baiah\", \"bangkit\", \"bangun arus\", \"bangun bandar\", \"bangun kawasan\", \"bangun rangka program\", \"bank\", \"bawa\", \"berita palsu\", \"bersih\", \"bidang ancang ekonomi\", \"bidang didik proses\", \"buku\", \"daftar ph\", \"dagang tani didik\", \"didik ajar\", \"didik latih teknikal\", \"ekonomi negara bangun\", \"ekonomi sosial\", \"ekonomi wang\", \"ekonomi wang tani\", \"fasal lembaga\", \"fungsi\", \"gaji\", \"gembira lihat\", \"giat hidup\", \"hadap kumpul\", \"hak manusia\", \"hakim\", \"hebat\", \"indonesia\", \"industri diplomasi\", \"islam\", \"isu politik\", \"jalan lancar\", \"jangka\", \"jawat\", \"kandung sivil\", \"laku raja maju\", \"laku tingkat\", \"lapor\", \"latih industri diplomasi\", \"latih teknikal\", \"ltat\", \"luas\", \"mahir kawasan\", \"main\", \"main peran kongsi\", \"maju\", \"maju bidang ancang\", \"maju bidang proses\", \"malaysia kongsi\", \"malaysia peran\", \"masyarakat manfaat\", \"menteri perdana\", \"menteri seri\", \"najib razak\", \"nampak\", \"negara negara\", \"niaga jho low\", \"palsu\", \"pegang\", \"pendek\", \"perdana menteri kena\", \"peribadi\", \"pilih umno\", \"ppsmi\", \"program teknikal\", \"promosi\", \"proses ajar ajar\", \"rangka kerjasama teknikal\", \"sebarang\", \"selamat\", \"selatan selatan\", \"serang\", \"sosial negara bangun\", \"suasana\", \"suci\", \"swasta\", \"syarikat swasta\", \"syarikat terbang\", \"tanggung\", \"tani didik latih\", \"tani latih\", \"tani latih teknikal\", \"teknikal malaysia mtcp\", \"teras\", \"timbang tulis nyata\", \"timbang wajar\", \"timbang wajar nyata\", \"timbang wajar tulis\", \"tingkat bidang\", \"tn\", \"tolak\", \"tuntut sivil doj\", \"uji\", \"umno tangguh pilih\", \"untung\", \"urus jho low\", \"usahawan wanita\", \"wang dagang didik\", \"wang tani\"]}, \"R\": 30, \"lambda.step\": 0.01, \"plot.opts\": {\"xlab\": \"PC1\", \"ylab\": \"PC2\"}, \"topic.order\": [3, 4, 5, 1, 7, 8, 6, 10, 9, 2]};\n",
       "\n",
       "function LDAvis_load_lib(url, callback){\n",
       "  var s = document.createElement('script');\n",
       "  s.src = url;\n",
       "  s.async = true;\n",
       "  s.onreadystatechange = s.onload = callback;\n",
       "  s.onerror = function(){console.warn(\"failed to load library \" + url);};\n",
       "  document.getElementsByTagName(\"head\")[0].appendChild(s);\n",
       "}\n",
       "\n",
       "if(typeof(LDAvis) !== \"undefined\"){\n",
       "   // already loaded: just create the visualization\n",
       "   !function(LDAvis){\n",
       "       new LDAvis(\"#\" + \"ldavis_el3969055663319849167824438\", ldavis_el3969055663319849167824438_data);\n",
       "   }(LDAvis);\n",
       "}else if(typeof define === \"function\" && define.amd){\n",
       "   // require.js is available: use it to load d3/LDAvis\n",
       "   require.config({paths: {d3: \"https://cdnjs.cloudflare.com/ajax/libs/d3/3.5.5/d3.min\"}});\n",
       "   require([\"d3\"], function(d3){\n",
       "      window.d3 = d3;\n",
       "      LDAvis_load_lib(\"https://cdn.rawgit.com/bmabey/pyLDAvis/files/ldavis.v1.0.0.js\", function(){\n",
       "        new LDAvis(\"#\" + \"ldavis_el3969055663319849167824438\", ldavis_el3969055663319849167824438_data);\n",
       "      });\n",
       "    });\n",
       "}else{\n",
       "    // require.js not available: dynamically load d3 & LDAvis\n",
       "    LDAvis_load_lib(\"https://cdnjs.cloudflare.com/ajax/libs/d3/3.5.5/d3.min.js\", function(){\n",
       "         LDAvis_load_lib(\"https://cdn.rawgit.com/bmabey/pyLDAvis/files/ldavis.v1.0.0.js\", function(){\n",
       "                 new LDAvis(\"#\" + \"ldavis_el3969055663319849167824438\", ldavis_el3969055663319849167824438_data);\n",
       "            })\n",
       "         });\n",
       "}\n",
       "</script>"
      ],
      "text/plain": [
       "PreparedData(topic_coordinates=              x         y  topics  cluster       Freq\n",
       "topic                                                \n",
       "2      0.000311  0.000143       1        1  15.041007\n",
       "3      0.000189 -0.000155       2        1  12.230597\n",
       "4      0.000105 -0.000149       3        1  11.972377\n",
       "0     -0.000020  0.000099       4        1  11.491217\n",
       "6      0.000034  0.000091       5        1  10.812777\n",
       "7     -0.000082  0.000004       6        1   8.762746\n",
       "5     -0.000109 -0.000127       7        1   8.616820\n",
       "9     -0.000136 -0.000054       8        1   7.954069\n",
       "8     -0.000147  0.000018       9        1   7.279128\n",
       "1     -0.000145  0.000130      10        1   5.839262, topic_info=    Category      Freq                 Term     Total  loglift  logprob\n",
       "363  Default  3.000000                 kwsp  3.000000  30.0000  30.0000\n",
       "745  Default  3.000000                tawar  3.000000  29.0000  29.0000\n",
       "779  Default  3.000000  tingkat maju bidang  3.000000  28.0000  28.0000\n",
       "587  Default  3.000000           pilih umno  3.000000  27.0000  27.0000\n",
       "365  Default  3.000000        laksana nhrap  3.000000  26.0000  26.0000\n",
       "..       ...       ...                  ...       ...      ...      ...\n",
       "144  Topic10  0.207361                 bina  3.363495   0.0543  -6.6477\n",
       "719  Topic10  0.207624          sumber baca  3.424978   0.0374  -6.6464\n",
       "56   Topic10  0.207283                asasi  3.432498   0.0336  -6.6481\n",
       "242  Topic10  0.207050    hak asasi manusia  3.456099   0.0256  -6.6492\n",
       "365  Topic10  0.206892        laksana nhrap  3.423927   0.0342  -6.6500\n",
       "\n",
       "[478 rows x 6 columns], token_table=      Topic      Freq                Term\n",
       "term                                     \n",
       "1         1  0.296101           aabar bvi\n",
       "4         1  0.297737          ahli parti\n",
       "9         1  0.307024           ajar ajar\n",
       "16        1  0.295325  alam bangun sosial\n",
       "32        1  0.300686       ambil langkah\n",
       "...     ...       ...                 ...\n",
       "810       1  0.300601              untung\n",
       "813       1  0.311789        urus jho low\n",
       "819       1  0.307833     usahawan wanita\n",
       "827       1  0.297085   wang dagang didik\n",
       "831       1  0.291426           wang tani\n",
       "\n",
       "[111 rows x 3 columns], R=30, lambda_step=0.01, plot_opts={'xlab': 'PC1', 'ylab': 'PC2'}, topic_order=[3, 4, 5, 1, 7, 8, 6, 10, 9, 2])"
      ]
     },
     "execution_count": 13,
     "metadata": {},
     "output_type": "execute_result"
    }
   ],
   "source": [
    "lda2vec.visualize_topics(notebook_mode = True)"
   ]
  },
  {
   "cell_type": "markdown",
   "metadata": {},
   "source": [
    "## Train LDA model"
   ]
  },
  {
   "cell_type": "code",
   "execution_count": 3,
   "metadata": {},
   "outputs": [],
   "source": [
    "lda = malaya.topic_model.lda(\n",
    "    corpus,\n",
    "    10,\n",
    "    stemming = None,\n",
    "    vectorizer = 'skip-gram',\n",
    "    ngram = (1, 4),\n",
    "    skip = 3,\n",
    ")"
   ]
  },
  {
   "cell_type": "markdown",
   "metadata": {},
   "source": [
    "#### Print topics"
   ]
  },
  {
   "cell_type": "code",
   "execution_count": 4,
   "metadata": {},
   "outputs": [
    {
     "data": {
      "text/html": [
       "<div>\n",
       "<style scoped>\n",
       "    .dataframe tbody tr th:only-of-type {\n",
       "        vertical-align: middle;\n",
       "    }\n",
       "\n",
       "    .dataframe tbody tr th {\n",
       "        vertical-align: top;\n",
       "    }\n",
       "\n",
       "    .dataframe thead th {\n",
       "        text-align: right;\n",
       "    }\n",
       "</style>\n",
       "<table border=\"1\" class=\"dataframe\">\n",
       "  <thead>\n",
       "    <tr style=\"text-align: right;\">\n",
       "      <th></th>\n",
       "      <th>topic 0</th>\n",
       "      <th>topic 1</th>\n",
       "      <th>topic 2</th>\n",
       "      <th>topic 3</th>\n",
       "      <th>topic 4</th>\n",
       "    </tr>\n",
       "  </thead>\n",
       "  <tbody>\n",
       "    <tr>\n",
       "      <th>0</th>\n",
       "      <td>kelulusan</td>\n",
       "      <td>meningkatkan</td>\n",
       "      <td>berkongsi pembangunannya negara selatan</td>\n",
       "      <td>projek</td>\n",
       "      <td>negara</td>\n",
       "    </tr>\n",
       "    <tr>\n",
       "      <th>1</th>\n",
       "      <td>ros</td>\n",
       "      <td>parti</td>\n",
       "      <td>negara selatan</td>\n",
       "      <td>hutang</td>\n",
       "      <td>bidang</td>\n",
       "    </tr>\n",
       "    <tr>\n",
       "      <th>2</th>\n",
       "      <td>kebenaran</td>\n",
       "      <td>harga</td>\n",
       "      <td>pengalaman pembangunannya negara selatan</td>\n",
       "      <td>undi</td>\n",
       "      <td>bahasa</td>\n",
       "    </tr>\n",
       "    <tr>\n",
       "      <th>3</th>\n",
       "      <td>parti</td>\n",
       "      <td>tindakan</td>\n",
       "      <td>pengalaman negara selatan</td>\n",
       "      <td>parti</td>\n",
       "      <td>negara bidang</td>\n",
       "    </tr>\n",
       "    <tr>\n",
       "      <th>4</th>\n",
       "      <td>pengurusan</td>\n",
       "      <td>asli</td>\n",
       "      <td>berkongsi pengalaman negara selatan</td>\n",
       "      <td>mdb</td>\n",
       "      <td>pendidikan</td>\n",
       "    </tr>\n",
       "    <tr>\n",
       "      <th>5</th>\n",
       "      <td>mca</td>\n",
       "      <td>ph</td>\n",
       "      <td>pembangunannya negara selatan</td>\n",
       "      <td>diselesaikan</td>\n",
       "      <td>negara maju</td>\n",
       "    </tr>\n",
       "    <tr>\n",
       "      <th>6</th>\n",
       "      <td>membolehkan</td>\n",
       "      <td>mengambil</td>\n",
       "      <td>negara</td>\n",
       "      <td>kewangan</td>\n",
       "      <td>negara bidang ekonomi kewangan</td>\n",
       "    </tr>\n",
       "    <tr>\n",
       "      <th>7</th>\n",
       "      <td>perlembagaan</td>\n",
       "      <td>harapan</td>\n",
       "      <td>malaysia</td>\n",
       "      <td>tempoh hutang</td>\n",
       "      <td>negara perancangan ekonomi kewangan</td>\n",
       "    </tr>\n",
       "    <tr>\n",
       "      <th>8</th>\n",
       "      <td>anak</td>\n",
       "      <td>catatan</td>\n",
       "      <td>pengalaman</td>\n",
       "      <td>projek projek</td>\n",
       "      <td>negara perancangan ekonomi</td>\n",
       "    </tr>\n",
       "    <tr>\n",
       "      <th>9</th>\n",
       "      <td>masyarakat</td>\n",
       "      <td>cina</td>\n",
       "      <td>berkongsi</td>\n",
       "      <td>hutang hutang</td>\n",
       "      <td>negara perancangan</td>\n",
       "    </tr>\n",
       "  </tbody>\n",
       "</table>\n",
       "</div>"
      ],
      "text/plain": [
       "        topic 0       topic 1                                   topic 2  \\\n",
       "0     kelulusan  meningkatkan   berkongsi pembangunannya negara selatan   \n",
       "1           ros         parti                            negara selatan   \n",
       "2     kebenaran         harga  pengalaman pembangunannya negara selatan   \n",
       "3         parti      tindakan                 pengalaman negara selatan   \n",
       "4    pengurusan          asli       berkongsi pengalaman negara selatan   \n",
       "5           mca            ph             pembangunannya negara selatan   \n",
       "6   membolehkan     mengambil                                    negara   \n",
       "7  perlembagaan       harapan                                  malaysia   \n",
       "8          anak       catatan                                pengalaman   \n",
       "9    masyarakat          cina                                 berkongsi   \n",
       "\n",
       "         topic 3                              topic 4  \n",
       "0         projek                               negara  \n",
       "1         hutang                               bidang  \n",
       "2           undi                               bahasa  \n",
       "3          parti                        negara bidang  \n",
       "4            mdb                           pendidikan  \n",
       "5   diselesaikan                          negara maju  \n",
       "6       kewangan       negara bidang ekonomi kewangan  \n",
       "7  tempoh hutang  negara perancangan ekonomi kewangan  \n",
       "8  projek projek           negara perancangan ekonomi  \n",
       "9  hutang hutang                   negara perancangan  "
      ]
     },
     "execution_count": 4,
     "metadata": {},
     "output_type": "execute_result"
    }
   ],
   "source": [
    "lda.top_topics(5, top_n = 10, return_df = True)"
   ]
  },
  {
   "cell_type": "markdown",
   "metadata": {},
   "source": [
    "#### Important sentences based on topics"
   ]
  },
  {
   "cell_type": "code",
   "execution_count": 5,
   "metadata": {},
   "outputs": [
    {
     "data": {
      "text/plain": [
       "['ros kebenaran tangguhkan pemilihan parti melebihi tempoh dibenarkan perlembagaan parti',\n",
       " 'pertimbangan sewajarnya menulis kenyataan',\n",
       " 'pertimbangan sewajarnya menulis kenyataan',\n",
       " 'anak anak bahan uji kaji tubuh bongkok usia beban dibawa beban pemikiran beban buku membongkokkan',\n",
       " 'tn hala tuju membolehkan melonjak arah mencapai matlamat top nations dunia']"
      ]
     },
     "execution_count": 5,
     "metadata": {},
     "output_type": "execute_result"
    }
   ],
   "source": [
    "lda.get_sentences(5)"
   ]
  },
  {
   "cell_type": "markdown",
   "metadata": {},
   "source": [
    "#### Get topics"
   ]
  },
  {
   "cell_type": "code",
   "execution_count": 6,
   "metadata": {},
   "outputs": [
    {
     "data": {
      "text/plain": [
       "[(0,\n",
       "  'kelulusan ros kebenaran parti pengurusan mca membolehkan perlembagaan anak masyarakat'),\n",
       " (1,\n",
       "  'meningkatkan parti harga tindakan asli ph mengambil harapan catatan cina'),\n",
       " (2,\n",
       "  'berkongsi pembangunannya negara selatan negara selatan pengalaman pembangunannya negara selatan pengalaman negara selatan berkongsi pengalaman negara selatan pembangunannya negara selatan negara malaysia pengalaman berkongsi'),\n",
       " (3,\n",
       "  'projek hutang undi parti mdb diselesaikan kewangan tempoh hutang projek projek hutang hutang'),\n",
       " (4,\n",
       "  'negara bidang bahasa negara bidang pendidikan negara maju negara bidang ekonomi kewangan negara perancangan ekonomi kewangan negara perancangan ekonomi negara perancangan'),\n",
       " (5,\n",
       "  'rakyat perniagaan malaysia mdb rakyat malaysia kerajaan negara low jho jho low'),\n",
       " (6,\n",
       "  'malaysia pengalaman pertumbuhan kawasan kepentingan pelbagai asli berkongsi bandar kawasan bandar'),\n",
       " (7,\n",
       "  'pilihan raya pilihan raya seri menteri seri menteri kerajaan awam kuok sukan'),\n",
       " (8, 'lihat politik wang pas dana mengundi negara nilai masyarakat kenyataan'),\n",
       " (9,\n",
       "  'umno keputusan menteri malaysia perdana perdana menteri parti dasar bersatu pemilihan')]"
      ]
     },
     "execution_count": 6,
     "metadata": {},
     "output_type": "execute_result"
    }
   ],
   "source": [
    "lda.get_topics(10)"
   ]
  },
  {
   "cell_type": "markdown",
   "metadata": {},
   "source": [
    "#### Visualize topics"
   ]
  },
  {
   "cell_type": "code",
   "execution_count": 7,
   "metadata": {},
   "outputs": [
    {
     "name": "stderr",
     "output_type": "stream",
     "text": [
      "/usr/local/lib/python3.7/site-packages/past/types/oldstr.py:5: DeprecationWarning: Using or importing the ABCs from 'collections' instead of from 'collections.abc' is deprecated since Python 3.3,and in 3.9 it will stop working\n",
      "  from collections import Iterable\n"
     ]
    },
    {
     "data": {
      "text/html": [
       "\n",
       "<link rel=\"stylesheet\" type=\"text/css\" href=\"https://cdn.rawgit.com/bmabey/pyLDAvis/files/ldavis.v1.0.0.css\">\n",
       "\n",
       "\n",
       "<div id=\"ldavis_el3979053833229604224935860\"></div>\n",
       "<script type=\"text/javascript\">\n",
       "\n",
       "var ldavis_el3979053833229604224935860_data = {\"mdsDat\": {\"x\": [-0.2544821017050896, 0.22147780780649695, -0.0036263785622281633, 0.005583973805746713, 0.01066285529547355, 0.008129005386979951, 0.006832919556777295, 0.005244015331037053, 0.0032717041326292638, -0.003093801047823004], \"y\": [-0.15024714911191833, -0.1770938923515501, 0.1520636900190853, 0.051794039719234825, 0.06711922506868594, 0.013924930288426859, 0.05183561731687489, 0.0028800099618704043, 0.0020783772563418663, -0.0143548481670512], \"topics\": [1, 2, 3, 4, 5, 6, 7, 8, 9, 10], \"cluster\": [1, 1, 1, 1, 1, 1, 1, 1, 1, 1], \"Freq\": [27.380982344508393, 21.741016115809515, 11.91116086068921, 7.7663719532531195, 7.729935933322491, 6.069383870697704, 5.490742331466334, 4.802422137384991, 3.932833533887186, 3.175150918981033]}, \"tinfo\": {\"Category\": [\"Default\", \"Default\", \"Default\", \"Default\", \"Default\", \"Default\", \"Default\", \"Default\", \"Default\", \"Default\", \"Default\", \"Default\", \"Default\", \"Default\", \"Default\", \"Default\", \"Default\", \"Default\", \"Default\", \"Default\", \"Default\", \"Default\", \"Default\", \"Default\", \"Default\", \"Default\", \"Default\", \"Default\", \"Default\", \"Default\", \"Topic1\", \"Topic1\", \"Topic1\", \"Topic1\", \"Topic1\", \"Topic1\", \"Topic1\", \"Topic1\", \"Topic1\", \"Topic1\", \"Topic1\", \"Topic1\", \"Topic1\", \"Topic1\", \"Topic1\", \"Topic1\", \"Topic1\", \"Topic1\", \"Topic1\", \"Topic1\", \"Topic1\", \"Topic1\", \"Topic1\", \"Topic1\", \"Topic1\", \"Topic1\", \"Topic1\", \"Topic1\", \"Topic1\", \"Topic1\", \"Topic1\", \"Topic1\", \"Topic1\", \"Topic1\", \"Topic1\", \"Topic1\", \"Topic1\", \"Topic1\", \"Topic1\", \"Topic1\", \"Topic1\", \"Topic1\", \"Topic1\", \"Topic1\", \"Topic1\", \"Topic1\", \"Topic1\", \"Topic1\", \"Topic1\", \"Topic1\", \"Topic1\", \"Topic1\", \"Topic2\", \"Topic2\", \"Topic2\", \"Topic2\", \"Topic2\", \"Topic2\", \"Topic2\", \"Topic2\", \"Topic2\", \"Topic2\", \"Topic2\", \"Topic2\", \"Topic2\", \"Topic2\", \"Topic2\", \"Topic2\", \"Topic2\", \"Topic2\", \"Topic2\", \"Topic2\", \"Topic2\", \"Topic2\", \"Topic2\", \"Topic2\", \"Topic2\", \"Topic2\", \"Topic2\", \"Topic2\", \"Topic2\", \"Topic2\", \"Topic2\", \"Topic2\", \"Topic2\", \"Topic2\", \"Topic2\", \"Topic3\", \"Topic3\", \"Topic3\", \"Topic3\", \"Topic3\", \"Topic3\", \"Topic3\", \"Topic3\", \"Topic3\", \"Topic3\", \"Topic3\", \"Topic3\", \"Topic3\", \"Topic3\", \"Topic3\", \"Topic3\", \"Topic3\", \"Topic3\", \"Topic3\", \"Topic3\", \"Topic3\", \"Topic3\", \"Topic3\", \"Topic3\", \"Topic3\", \"Topic3\", \"Topic3\", \"Topic3\", \"Topic3\", \"Topic3\", \"Topic3\", \"Topic3\", \"Topic3\", \"Topic3\", \"Topic3\", \"Topic3\", \"Topic3\", \"Topic3\", \"Topic3\", \"Topic3\", \"Topic3\", \"Topic3\", \"Topic3\", \"Topic3\", \"Topic3\", \"Topic3\", \"Topic3\", \"Topic3\", \"Topic3\", \"Topic3\", \"Topic3\", \"Topic3\", \"Topic3\", \"Topic3\", \"Topic3\", \"Topic3\", \"Topic3\", \"Topic3\", \"Topic3\", \"Topic3\", \"Topic3\", \"Topic3\", \"Topic3\", \"Topic3\", \"Topic3\", \"Topic3\", \"Topic3\", \"Topic3\", \"Topic3\", \"Topic3\", \"Topic3\", \"Topic3\", \"Topic3\", \"Topic3\", \"Topic3\", \"Topic3\", \"Topic3\", \"Topic3\", \"Topic3\", \"Topic3\", \"Topic3\", \"Topic3\", \"Topic3\", \"Topic3\", \"Topic3\", \"Topic3\", \"Topic3\", \"Topic3\", \"Topic3\", \"Topic3\", \"Topic3\", \"Topic3\", \"Topic3\", \"Topic3\", \"Topic3\", \"Topic3\", \"Topic3\", \"Topic3\", \"Topic3\", \"Topic3\", \"Topic3\", \"Topic3\", \"Topic3\", \"Topic3\", \"Topic3\", \"Topic3\", \"Topic3\", \"Topic3\", \"Topic3\", \"Topic3\", \"Topic3\", \"Topic3\", \"Topic3\", \"Topic4\", \"Topic4\", \"Topic4\", \"Topic4\", \"Topic4\", \"Topic4\", \"Topic4\", \"Topic4\", \"Topic4\", \"Topic4\", \"Topic4\", \"Topic4\", \"Topic4\", \"Topic4\", \"Topic4\", \"Topic4\", \"Topic4\", \"Topic4\", \"Topic4\", \"Topic4\", \"Topic4\", \"Topic4\", \"Topic4\", \"Topic4\", \"Topic4\", \"Topic4\", \"Topic4\", \"Topic4\", \"Topic4\", \"Topic4\", \"Topic4\", \"Topic4\", \"Topic4\", \"Topic4\", \"Topic4\", \"Topic4\", \"Topic4\", \"Topic4\", \"Topic4\", \"Topic4\", \"Topic4\", \"Topic4\", \"Topic4\", \"Topic4\", \"Topic4\", \"Topic4\", \"Topic5\", \"Topic5\", \"Topic5\", \"Topic5\", \"Topic5\", \"Topic5\", \"Topic5\", \"Topic5\", \"Topic5\", \"Topic5\", \"Topic5\", \"Topic5\", \"Topic5\", \"Topic5\", \"Topic5\", \"Topic5\", \"Topic5\", \"Topic5\", \"Topic5\", \"Topic5\", \"Topic5\", \"Topic5\", \"Topic5\", \"Topic5\", \"Topic5\", \"Topic5\", \"Topic5\", \"Topic5\", \"Topic5\", \"Topic5\", \"Topic5\", \"Topic5\", \"Topic5\", \"Topic5\", \"Topic5\", \"Topic5\", \"Topic5\", \"Topic5\", \"Topic5\", \"Topic5\", \"Topic5\", \"Topic5\", \"Topic6\", \"Topic6\", \"Topic6\", \"Topic6\", \"Topic6\", \"Topic6\", \"Topic6\", \"Topic6\", \"Topic6\", \"Topic6\", \"Topic6\", \"Topic6\", \"Topic6\", \"Topic6\", \"Topic6\", \"Topic6\", \"Topic6\", \"Topic6\", \"Topic6\", \"Topic6\", \"Topic6\", \"Topic6\", \"Topic6\", \"Topic6\", \"Topic6\", \"Topic6\", \"Topic6\", \"Topic6\", \"Topic6\", \"Topic6\", \"Topic6\", \"Topic6\", \"Topic6\", \"Topic6\", \"Topic6\", \"Topic6\", \"Topic6\", \"Topic6\", \"Topic6\", \"Topic6\", \"Topic6\", \"Topic7\", \"Topic7\", \"Topic7\", \"Topic7\", \"Topic7\", \"Topic7\", \"Topic7\", \"Topic7\", \"Topic7\", \"Topic7\", \"Topic7\", \"Topic7\", \"Topic7\", \"Topic7\", \"Topic7\", \"Topic7\", \"Topic7\", \"Topic7\", \"Topic7\", \"Topic7\", \"Topic7\", \"Topic7\", \"Topic7\", \"Topic7\", \"Topic7\", \"Topic7\", \"Topic7\", \"Topic7\", \"Topic7\", \"Topic7\", \"Topic7\", \"Topic7\", \"Topic7\", \"Topic7\", \"Topic7\", \"Topic7\", \"Topic7\", \"Topic7\", \"Topic7\", \"Topic7\", \"Topic7\", \"Topic7\", \"Topic7\", \"Topic7\", \"Topic7\", \"Topic7\", \"Topic8\", \"Topic8\", \"Topic8\", \"Topic8\", \"Topic8\", \"Topic8\", \"Topic8\", \"Topic8\", \"Topic8\", \"Topic8\", \"Topic8\", \"Topic8\", \"Topic8\", \"Topic8\", \"Topic8\", \"Topic8\", \"Topic8\", \"Topic8\", \"Topic8\", \"Topic8\", \"Topic8\", \"Topic8\", \"Topic8\", \"Topic8\", \"Topic8\", \"Topic8\", \"Topic8\", \"Topic8\", \"Topic8\", \"Topic8\", \"Topic8\", \"Topic8\", \"Topic8\", \"Topic8\", \"Topic8\", \"Topic8\", \"Topic8\", \"Topic8\", \"Topic8\", \"Topic8\", \"Topic8\", \"Topic8\", \"Topic8\", \"Topic8\", \"Topic8\", \"Topic8\", \"Topic8\", \"Topic9\", \"Topic9\", \"Topic9\", \"Topic9\", \"Topic9\", \"Topic9\", \"Topic9\", \"Topic9\", \"Topic9\", \"Topic9\", \"Topic9\", \"Topic9\", \"Topic9\", \"Topic9\", \"Topic9\", \"Topic9\", \"Topic9\", \"Topic9\", \"Topic9\", \"Topic9\", \"Topic9\", \"Topic9\", \"Topic9\", \"Topic9\", \"Topic9\", \"Topic9\", \"Topic9\", \"Topic9\", \"Topic9\", \"Topic9\", \"Topic9\", \"Topic9\", \"Topic9\", \"Topic9\", \"Topic9\", \"Topic9\", \"Topic9\", \"Topic9\", \"Topic9\", \"Topic9\", \"Topic9\", \"Topic9\", \"Topic10\", \"Topic10\", \"Topic10\", \"Topic10\", \"Topic10\", \"Topic10\", \"Topic10\", \"Topic10\", \"Topic10\", \"Topic10\", \"Topic10\", \"Topic10\", \"Topic10\", \"Topic10\", \"Topic10\", \"Topic10\", \"Topic10\", \"Topic10\", \"Topic10\", \"Topic10\", \"Topic10\", \"Topic10\", \"Topic10\", \"Topic10\", \"Topic10\", \"Topic10\", \"Topic10\", \"Topic10\", \"Topic10\", \"Topic10\", \"Topic10\", \"Topic10\", \"Topic10\", \"Topic10\", \"Topic10\", \"Topic10\", \"Topic10\"], \"Freq\": [14.0, 14.0, 8.0, 8.0, 25.0, 7.0, 6.0, 10.0, 8.0, 10.0, 15.0, 26.0, 6.0, 4.0, 5.0, 8.0, 4.0, 6.0, 5.0, 5.0, 5.0, 3.0, 7.0, 5.0, 4.0, 4.0, 4.0, 4.0, 5.0, 4.0, 7.17547799941429, 7.17547799941429, 7.17547799941429, 7.17547799941429, 7.17547799941429, 7.17547799941429, 3.6320320737599325, 3.6320320737599325, 3.6320320737599325, 3.6320320737599325, 3.6320320737599325, 3.6320320737599325, 3.6320320737599325, 3.6320320737599325, 3.6320320737599325, 3.6320320737599325, 3.6320320737599325, 3.6320320737599325, 3.6320320737599325, 3.6320320737599325, 3.6320320737599325, 3.6320320737599325, 3.6320320737599325, 3.6320320737599325, 3.6320320737599325, 3.6320320737599325, 3.6320320737599325, 3.6320320737599325, 3.6320320737599325, 3.6320320737599325, 3.6320320737599325, 3.6320320737599325, 3.6320320737599325, 3.6320320737599325, 3.6320320737599325, 3.6320320737599325, 3.6320320737599325, 3.6320320737599325, 3.6320320737599325, 3.6320320737599325, 3.6320320737599325, 3.6320320737599325, 3.6320320737599325, 3.6320320737599325, 5.403810943076986, 3.8869272208622476, 3.632044739700871, 3.6320422524732434, 3.632033937967821, 3.632032196264305, 3.632032196264305, 3.6320320737599325, 4.352053244185068, 3.498709471044155, 3.498709471044155, 3.498709471044155, 3.498709471044155, 3.498709471044155, 3.498709471044155, 3.498709471044155, 3.498709471044155, 3.498709471044155, 3.498709471044155, 3.498709471044155, 3.498709471044155, 3.498709471044155, 3.498709471044155, 3.498709471044155, 3.498709471044155, 3.498709471044155, 3.498709471044155, 3.498709471044155, 3.498709471044155, 3.498709471044155, 3.498709471044155, 3.498709471044155, 3.498709471044155, 3.498709471044155, 3.498709471044155, 3.498709471044155, 3.498709471044155, 3.4984922360972597, 3.4984922360972597, 4.352086425031291, 4.352055048651969, 7.289086936596381, 3.4987245293936478, 3.111473615739036, 2.3526033885688347, 2.352602249146103, 2.3526022491360368, 2.3526022491360368, 2.3526022491360368, 2.3526022491360368, 3.111384461326105, 1.5936990702744676, 1.5936990702744676, 1.5936990702744676, 1.5936990702744676, 1.5936990702744676, 1.5936990702744676, 1.5936990702744676, 1.5936990702744676, 1.5936990702744676, 1.5936990702744676, 1.5936990702744676, 1.5936990702744676, 1.5936990702744676, 1.5936990702744676, 1.5936990702744676, 1.5936990702744676, 1.5936990702744676, 1.5936990702744676, 1.5936990702744676, 1.593699070274467, 1.5936990702744676, 1.5936990702744676, 1.5936990702744676, 1.5936990702744676, 1.5936990702744676, 1.5936990702744676, 1.5936990702744676, 1.5936990702744676, 1.5936990702744676, 1.5936990702744676, 1.5936990702744676, 1.5936990702744676, 1.5936990702744676, 1.5936990702744676, 1.5936990702744676, 1.5936990702744676, 1.5936990702744676, 3.1115068830471766, 1.5936990702744676, 1.5936990702744676, 1.5936990702744676, 2.3526070421375422, 1.5936990702744676, 1.5936990702744676, 1.5936990702744676, 1.5936990702744676, 1.5936990702744676, 1.5936990702744676, 2.203008635815197, 1.5936990702744676, 3.111514176587187, 1.5936990702744676, 2.3526017921229765, 3.637183472895681, 2.3526450531307024, 1.5936990702744676, 1.5936990702744676, 1.5936990702744676, 1.5936990702744676, 2.352614429910035, 1.5936990702744676, 2.3526093268303905, 2.056859682217803, 1.5936990702744676, 1.5936990702744676, 1.5936990702744676, 1.5936990702744676, 1.5936990702744676, 1.5936990702744676, 1.5936990702744676, 1.5936990702744676, 1.5936990702744676, 1.5936990702744676, 1.5936990702744676, 1.5936990702744676, 1.5936990702744676, 1.5936990702744676, 1.5936990702744676, 1.5936990702744676, 1.5936990702744676, 1.5936990702744676, 1.825306860220929, 1.5936990702744676, 1.5936990702744676, 1.5936990702744676, 1.5936990702744676, 1.5936990702744676, 1.5936990702744676, 1.5936990702744676, 1.5936990702744676, 1.5936990702744676, 1.5936990702744676, 1.5936990702744676, 1.5936990702744676, 1.5937067231731612, 1.5937045811923574, 1.5937032754190816, 1.593700836964095, 1.5936991003201524, 1.5936991003201524, 1.5936991003201524, 1.5936990702744676, 1.5936990702744676, 1.5936990702744676, 1.5936990702744676, 7.321043011198588, 4.68283565471194, 4.023281208523696, 4.023276888173967, 3.363726125769165, 3.363726125769165, 5.342389305790684, 2.7041729348009524, 2.7041714244069204, 2.7041714244069204, 11.881022906201904, 4.682848051310864, 2.0446185605177734, 2.0446185603567963, 2.0446185603567963, 2.0446185600074425, 2.0446185600074425, 2.0446185600074425, 2.0446185570492847, 2.0446113041309615, 2.0417005687325878, 3.3549762102868645, 1.3850641861146973, 1.3850641861146973, 1.3850641861146973, 1.3850641861146973, 1.3850641861146973, 1.3850641861146973, 1.3850641861146973, 1.3850641861146973, 2.7041777265724103, 2.7041768369189643, 2.700181001991275, 5.371709199903273, 1.3850641861146973, 1.3850641861146973, 1.3850641861146973, 5.070626241706693, 1.3850641861146973, 1.3850641861146973, 6.912028722305749, 1.3850641861146973, 2.516819032998537, 4.8846941395607475, 2.123254115296385, 2.0446153476461593, 7.8585943691820175, 7.209125089405239, 2.662829129409264, 2.6627957731885727, 2.662789978851776, 2.0133628390055787, 2.0133619911877325, 2.013361988769237, 2.0133615649541494, 2.0133615649541494, 2.0133591935334256, 2.0133591935334256, 2.01335847154669, 2.01335847154669, 2.0133537217922615, 2.0133525745232705, 2.0133528379650123, 2.013351675339673, 2.013344770590542, 2.0133215501691413, 3.312289915889836, 3.153194056859024, 1.363890955590356, 1.3638909555758356, 1.3638909555387158, 1.3638909555387158, 1.3638909555387158, 1.3638909555387158, 1.3638909555387158, 1.3638909555387158, 3.9617715668165716, 4.292727556974428, 2.6021606725848376, 4.72660320698796, 5.5770599554059, 2.0133584564358347, 2.0133656055132265, 2.013369221880487, 4.249876683085456, 4.936937479680477, 2.585426508397139, 2.185033162240204, 3.68738437283745, 3.68738437283745, 3.68738437283745, 3.687376273923104, 3.0828848368222146, 2.4784066653090537, 2.4784066644570406, 2.478395358347795, 1.8739172347222453, 1.8739172347222453, 1.8739147631494446, 1.8739147631494446, 1.8739147631494446, 1.8739147631494446, 1.8739147631494446, 1.8739147631494446, 1.8739147631494446, 1.8739147631494446, 1.8739147631494446, 1.8739147631494446, 1.8739147631494446, 1.8739147631494446, 1.8739147631494446, 1.8739147631494446, 1.8739147631494446, 1.8739147631494446, 1.8739147631494446, 1.8739147631494446, 1.8739147631494446, 1.8739147631494446, 1.8739147631494446, 1.8739147631494446, 1.8739147631494446, 2.4784100154753137, 2.478379143927786, 2.9918708961724727, 2.949056428361638, 2.088123505881423, 1.8739301529981587, 1.8739241692554236, 1.8739178420811708, 2.3315982123446903, 2.3315877510409764, 2.331563970989062, 1.76292067642404, 1.7629206762704026, 1.7629132795922884, 1.7628993025949113, 1.1942365868171863, 1.1942365868171863, 1.1942365865375837, 1.1942365864840914, 1.1942365862424102, 1.1942365860053192, 1.1942365857866992, 1.1942297986275352, 1.1942307137944481, 1.1942306344146525, 1.1942306344146525, 1.1942281380803037, 1.1942221665113226, 1.194101203437778, 2.900362024968366, 1.762937028541706, 2.3315911961623805, 1.7629142067771557, 1.762905839590233, 2.9003082808638583, 3.4689361263861067, 1.7629135614941396, 1.7629238083407093, 2.9003579155397707, 2.269054960013905, 2.3316186649352275, 2.1745199822712653, 1.7629228107482855, 2.3315841176650554, 2.4929902748180184, 2.9003272949995713, 1.7628467500515277, 1.6999429353816864, 1.762921188074035, 3.0035979825143255, 1.762919970922877, 1.6402414031171875, 1.8537475139411244, 1.8446943605280886, 3.923850317785644, 5.581889309168127, 2.2659040201288847, 2.265904019950349, 2.265902571528398, 2.2659008648525596, 1.713244502713133, 1.7132445026603258, 1.7132445026603258, 1.7132441491271355, 1.7132425027048326, 1.7132416579155991, 2.8185595593996506, 1.160584985709364, 1.160584984512454, 1.1605844161117185, 1.1605844161117185, 1.1605844161117185, 1.1605844161117185, 1.160581764769213, 1.1605817647179442, 1.1605793917925455, 1.1605793917925455, 1.1605745145895356, 1.1605745145895356, 1.1605745145895356, 1.1605745145895356, 1.1605745145895356, 1.1605745145895356, 1.1605140402424976, 5.581934526029149, 2.818505837105178, 2.1083811260881906, 1.6466101173960146, 3.346679405066927, 3.4605073072473296, 1.7132553226473628, 1.5514366811011926, 1.9899728908790308, 1.4312029044996404, 1.208269059050279, 1.1606164434173873, 1.1606103841491024, 1.1606033393101867, 1.1606025327879301, 1.1606003288401032, 1.1605983778684508, 2.542573229566292, 2.044026595436493, 2.4996397919892757, 1.0469434267148239, 1.0469434257499346, 1.0469419147591288, 1.046940356957107, 1.0469402284489233, 1.0469376502532939, 1.0469360305165434, 1.0469335563636788, 1.046929028441846, 1.046923098154047, 1.046862709461031, 1.5454894334673455, 1.54548932552325, 2.452431376707775, 1.5454890255309048, 1.0469477606036204, 1.0469289742987642, 1.0469580836446895, 1.0469477851188569, 1.0469477851188569, 1.545486349576724, 2.044061154384931, 2.0440479219888164, 1.5455386440472716, 1.4978010686502718, 1.5455007223500783, 1.0469460378386561, 1.5455256909056794, 1.328410017365066, 2.0176309400836314, 1.427499117456106, 1.543288497404942, 1.236238060012878, 1.1104533300582808, 1.0469660560109761, 1.0469532563774853, 1.0469516190121464, 1.046951584340594, 1.0469514209135642, 2.7721944308745874, 1.8632575776732645, 1.4088287454675448, 1.408825007721616, 2.7143066437984715, 0.9543678604225669, 0.9543678604225669, 0.9543678604225669, 0.9543678604225669, 0.9543678604225669, 0.9543678604225669, 0.9543678604225669, 0.9543678604225669, 0.9543678604225669, 0.9543678604225669, 0.9543678604225669, 0.9543678604225669, 0.9543678604225669, 0.9543678590081772, 0.9543663154690988, 0.9543618380489166, 0.9543615099184285, 0.9543615099184285, 0.9543615099184285, 0.9543422717977394, 1.4088389088881992, 0.9543640151546996, 0.9543734233418969, 0.9543742787476508, 0.9543414024346185, 1.4088035607728244, 1.6095220580460379, 0.9543861574757779, 0.9543851937743071, 0.9543796021290935, 0.9543724567072565, 0.9543662114104324], \"Term\": [\"rakyat\", \"parti\", \"projek\", \"umno\", \"malaysia\", \"perniagaan\", \"hutang\", \"mdb\", \"keputusan\", \"menteri\", \"kerajaan\", \"negara\", \"rakyat malaysia\", \"undi\", \"meningkatkan\", \"perdana\", \"ros\", \"perdana menteri\", \"jho\", \"low\", \"kewangan\", \"kelulusan\", \"asli\", \"tindakan\", \"pilihan raya\", \"pilihan\", \"raya\", \"seri\", \"mengambil\", \"jho low\", \"berkongsi pembangunannya negara selatan\", \"pengalaman pembangunannya negara selatan\", \"negara selatan\", \"berkongsi pengalaman negara selatan\", \"pengalaman negara selatan\", \"pembangunannya negara selatan\", \"kesediaan malaysia pengalaman negara\", \"kesediaan berkongsi pengalaman negara\", \"kesediaan malaysia berkongsi negara\", \"malaysia pembangunannya negara selatan\", \"kesediaan malaysia pembangunannya negara\", \"berkongsi negara\", \"kesediaan berkongsi pembangunannya negara\", \"berkongsi negara negara selatan\", \"berkongsi negara selatan\", \"berkongsi negara selatan selatan\", \"pengalaman pembangunannya selatan\", \"malaysia pembangunannya negara\", \"pengalaman negara\", \"teknikal malaysia berkongsi pengalaman\", \"berkongsi pembangunannya negara\", \"teknikal malaysia\", \"negara selatan selatan\", \"pembangunannya selatan\", \"pembangunannya negara selatan selatan\", \"pembangunannya negara negara selatan\", \"pembangunannya negara\", \"malaysia pengalaman pembangunannya negara\", \"malaysia pengalaman negara selatan\", \"malaysia pengalaman negara\", \"program kerjasama teknikal malaysia\", \"teknikal malaysia berkongsi\", \"negara negara selatan\", \"berkongsi pengalaman pembangunannya negara\", \"malaysia berkongsi pengalaman pembangunannya\", \"malaysia berkongsi negara\", \"pengalaman negara negara selatan\", \"malaysia berkongsi negara selatan\", \"kerjasama teknikal malaysia berkongsi\", \"selatan\", \"berkongsi pengalaman pembangunannya selatan\", \"kerjasama teknikal malaysia\", \"pengalaman negara selatan selatan\", \"pengalaman pembangunannya negara\", \"negara\", \"malaysia\", \"pengalaman\", \"berkongsi\", \"berkongsi pengalaman\", \"malaysia berkongsi pengalaman\", \"malaysia berkongsi\", \"berkongsi pengalaman negara\", \"negara bidang\", \"negara bidang ekonomi\", \"negara perancangan ekonomi kewangan\", \"negara bidang perancangan\", \"negara bidang perancangan ekonomi\", \"negara bidang perancangan kewangan\", \"membantu negara perancangan\", \"membantu negara perancangan ekonomi\", \"negara maju\", \"negara maju bidang\", \"negara maju bidang ekonomi\", \"negara maju bidang kewangan\", \"negara maju bidang perancangan\", \"negara maju ekonomi\", \"negara maju perancangan kewangan\", \"negara maju perancangan ekonomi\", \"negara maju perancangan\", \"negara perancangan\", \"negara perancangan ekonomi\", \"negara maju ekonomi kewangan\", \"membantu negara maju perancangan\", \"membantu negara maju\", \"membantu negara maju bidang\", \"membantu negara maju ekonomi\", \"membantu negara bidang ekonomi\", \"membantu negara bidang\", \"negara bidang ekonomi kewangan\", \"membantu negara\", \"membantu negara bidang perancangan\", \"berjalan lancar\", \"lancar\", \"bidang\", \"bahasa\", \"negara\", \"pendidikan\", \"kawasan\", \"kawasan bandar\", \"kehidupan\", \"kegiatan kehidupan penduduk\", \"kegiatan penduduk\", \"kegiatan kehidupan\", \"kegiatan\", \"kepentingan\", \"peranan pengalaman kawasan bandar\", \"peranan pengalaman kemahirannya kawasan\", \"peranan pengalaman kemahirannya bandar\", \"peranan pengalaman kemahirannya\", \"negara memainkan berkongsi\", \"peranan pengalaman kemahirannya membangunkan\", \"peranan pengalaman kawasan\", \"peranan pengalaman\", \"peranan membangunkan kawasan bandar\", \"peranan membangunkan kawasan\", \"negara membangun memainkan\", \"negara memainkan berkongsi pengalaman\", \"peranan pengalaman membangunkan\", \"peranan pengalaman membangunkan bandar\", \"kemahirannya kawasan bandar\", \"peranan pengalaman membangunkan kawasan\", \"memainkan peranan membangunkan\", \"negara membangun memainkan berkongsi\", \"negara membangun memainkan pengalaman\", \"kemahirannya membangunkan kawasan bandar\", \"kemahirannya membangunkan kawasan\", \"kemahirannya membangunkan bandar\", \"memainkan peranan kemahirannya membangunkan\", \"kemahirannya membangunkan\", \"negara membangun malaysia peranan\", \"kemahirannya bandar\", \"berkongsi membangunkan bandar\", \"negara membangun malaysia memainkan\", \"negara membangun malaysia pengalaman\", \"berkongsi membangunkan\", \"berkongsi kemahirannya membangunkan bandar\", \"kemahirannya kawasan\", \"berkongsi kemahirannya membangunkan\", \"memainkan peranan kemahirannya kawasan\", \"peranan berkongsi pengalaman kemahirannya\", \"berkongsi membangunkan kawasan bandar\", \"berkongsi membangunkan kawasan\", \"pertumbuhan\", \"berkongsi pengalaman bandar\", \"memainkan peranan kemahirannya\", \"negara membangun peranan berkongsi\", \"bandar\", \"berkongsi pengalaman kawasan\", \"memainkan peranan berkongsi membangunkan\", \"memainkan peranan berkongsi pengalaman\", \"memainkan peranan berkongsi kemahirannya\", \"memainkan peranan pengalaman kemahirannya\", \"memainkan peranan pengalaman kawasan\", \"negara malaysia\", \"berkongsi pengalaman kawasan bandar\", \"pengalaman\", \"berkongsi pengalaman kemahirannya\", \"berkongsi pengalaman\", \"malaysia\", \"pelbagai\", \"berkongsi pengalaman membangunkan bandar\", \"berkongsi pengalaman kemahirannya membangunkan\", \"berkongsi pengalaman kemahirannya kawasan\", \"berkongsi pengalaman kemahirannya bandar\", \"asli\", \"kemahirannya\", \"berkongsi\", \"pembangunan\", \"berkongsi pengalaman membangunkan kawasan\", \"peranan kemahirannya membangunkan\", \"peranan kemahirannya membangunkan bandar\", \"peranan kemahirannya membangunkan kawasan\", \"memainkan peranan berkongsi\", \"peranan membangunkan\", \"memainkan peranan berkongsi kawasan\", \"memainkan berkongsi pengalaman membangunkan\", \"memainkan kemahirannya membangunkan kawasan\", \"memainkan kemahirannya membangunkan\", \"memainkan kemahirannya\", \"memainkan pengalaman\", \"memainkan pengalaman kemahirannya\", \"memainkan pengalaman kemahirannya kawasan\", \"memainkan pengalaman kemahirannya membangunkan\", \"memainkan pengalaman membangunkan\", \"memainkan pengalaman membangunkan kawasan\", \"memainkan peranan\", \"negara\", \"memainkan\", \"membangun peranan pengalaman kemahirannya\", \"membangun memainkan peranan kemahirannya\", \"membangun peranan berkongsi pengalaman\", \"membangun peranan berkongsi kemahirannya\", \"membangun peranan berkongsi\", \"membangun peranan\", \"membangun memainkan peranan pengalaman\", \"membangun peranan pengalaman\", \"membangun memainkan berkongsi pengalaman\", \"membangun memainkan peranan berkongsi\", \"membangun malaysia peranan kemahirannya\", \"membangunkan\", \"diterjemahkan\", \"ilmu bahasa\", \"ilmu\", \"negara membangun\", \"malaysia pengalaman\", \"membangun\", \"malaysia memainkan berkongsi membangunkan\", \"malaysia memainkan berkongsi pengalaman\", \"malaysia memainkan kemahirannya\", \"berkongsi kemahirannya\", \"perniagaan\", \"jho\", \"jho low\", \"kapal\", \"sivil doj\", \"tuntutan sivil doj\", \"rakyat malaysia\", \"urusan\", \"tuntutan doj\", \"tuntutan sivil\", \"rakyat\", \"low\", \"urusan perniagaan\", \"perniagaan jho\", \"perniagaan low\", \"jho low kapal\", \"jho kapal\", \"low kapal\", \"memilih\", \"kepimpinan negara\", \"pertubuhan\", \"doj\", \"bvi urusan perniagaan jho\", \"bvi urusan perniagaan\", \"aabar urusan perniagaan jho\", \"bvi urusan jho\", \"bvi urusan jho low\", \"aabar urusan perniagaan\", \"bvi urusan\", \"bvi perniagaan jho low\", \"tuntutan\", \"sivil\", \"kementerian\", \"mdb\", \"aabar bvi urusan\", \"bvi urusan perniagaan low\", \"aabar bvi perniagaan jho\", \"kerajaan\", \"bvi perniagaan\", \"bvi\", \"malaysia\", \"bvi perniagaan jho\", \"mengambil\", \"negara\", \"isu\", \"pendapatan\", \"umno\", \"keputusan\", \"pimpinan\", \"jabatan\", \"majlis\", \"antarabangsa\", \"status umno\", \"jawatan\", \"allahyarham nik\", \"nik\", \"palsu\", \"berita palsu\", \"perlembagaan umno\", \"fasal perlembagaan umno\", \"memalukan\", \"umno pemilihan\", \"menangguhkan\", \"laporan\", \"menteri perdana\", \"keputusan umno\", \"bersatu\", \"pemilihan\", \"majlis tertinggi\", \"komitmen\", \"hak asasi\", \"asasi\", \"hak asasi manusia\", \"hak manusia\", \"asasi manusia\", \"manusia\", \"dasar\", \"perdana menteri\", \"berita\", \"perdana\", \"menteri\", \"peringkat\", \"status\", \"wujud\", \"parti\", \"malaysia\", \"isu\", \"ahli\", \"raya\", \"pilihan raya\", \"pilihan\", \"seri\", \"menteri seri\", \"kuok\", \"sukan\", \"perdana seri\", \"robert\", \"robert kuok\", \"perdana seri najib\", \"perdana najib\", \"perdana najib razak\", \"perdana razak\", \"seri najib razak\", \"najib razak\", \"perdana seri razak\", \"seri najib\", \"razak\", \"seri razak\", \"perdana seri najib razak\", \"perdana menteri seri razak\", \"perdana menteri najib razak\", \"menteri seri razak\", \"menteri seri najib razak\", \"menteri seri najib\", \"perdana menteri seri najib\", \"perdana menteri najib\", \"menteri najib\", \"perdana menteri razak\", \"menteri razak\", \"perdana menteri seri\", \"menteri najib razak\", \"awam\", \"diterima\", \"menteri\", \"kerajaan\", \"ahli\", \"najib\", \"pelaksanaan\", \"kerja\", \"catatan\", \"langkah\", \"pendaftaran\", \"pasaran\", \"bon\", \"berlaku jemaah menteri\", \"jppm pendaftaran\", \"jppm pendaftaran ph\", \"pendaftaran ph\", \"facebook\", \"diambil\", \"br\", \"putrajaya\", \"individu\", \"mengambil tindakan\", \"gambar\", \"berlaku jemaah\", \"berlaku menteri\", \"teruk\", \"terdekat\", \"kehakiman\", \"harga\", \"keluarga\", \"cina\", \"bertanding\", \"dijual\", \"ph\", \"meningkatkan\", \"jemaah menteri\", \"pakatan harapan\", \"tindakan\", \"berlaku\", \"harapan\", \"jppm\", \"hati\", \"islam\", \"mengambil\", \"asli\", \"pru\", \"amanah\", \"pakatan\", \"parti\", \"pendapatan\", \"syarikat\", \"malaysia\", \"negara\", \"undi\", \"hutang\", \"tempoh hutang\", \"projek projek\", \"hutang hutang\", \"hutang diselesaikan\", \"hutang projek\", \"pilihanraya\", \"parti pilihanraya\", \"hutang pendek\", \"kewangan hutang\", \"hutang mdb\", \"diselesaikan\", \"membeli\", \"sedia\", \"diselesaikan tempoh\", \"pendek\", \"mdb hutang pendek\", \"mdb hutang\", \"kewangan hutang hutang\", \"mewujudkan kewangan\", \"kemenangan parti\", \"kemenangan\", \"serius kepimpinan negeri\", \"serius negeri\", \"kepimpinan negeri\", \"rakyat serius\", \"rakyat serius kepimpinan\", \"serius kepimpinan\", \"keras\", \"projek\", \"kewangan\", \"menjual\", \"faktor\", \"mdb\", \"parti\", \"tempoh\", \"negeri\", \"syarikat\", \"kepimpinan\", \"rakyat\", \"serius\", \"pekan\", \"kerajaan\", \"bergantung\", \"kedudukan\", \"lakukan\", \"lihat\", \"mengundi\", \"politik\", \"kwsp dakwaan\", \"pencarian\", \"tahunan\", \"resolusi\", \"kerajaan negara\", \"benda\", \"hebat\", \"tangguh\", \"sarawak\", \"kekuatan\", \"sah\", \"pas parti\", \"kwsp\", \"wang\", \"berdasarkan\", \"bank\", \"merujuk\", \"bayar\", \"pesara\", \"pesara tentera\", \"dakwaan\", \"pas\", \"dana\", \"nilai\", \"dilaksanakan\", \"kenyataan\", \"pembangkang\", \"masyarakat\", \"berjalan\", \"negara\", \"parti\", \"malaysia\", \"kerajaan\", \"ros\", \"rumah\", \"tanah\", \"sumber\", \"sewa\", \"islam\", \"kelulusan\", \"kebenaran\", \"mca\", \"membolehkan\", \"ros\", \"pertimbangan kenyataan\", \"sewajarnya kenyataan\", \"sewajarnya menulis\", \"sewajarnya menulis kenyataan\", \"pertimbangan sewajarnya kenyataan\", \"pertimbangan sewajarnya menulis\", \"pertimbangan sewajarnya menulis kenyataan\", \"menulis kenyataan\", \"pertimbangan sewajarnya\", \"pertimbangan menulis\", \"pertimbangan menulis kenyataan\", \"menulis\", \"sewajarnya\", \"dikehendaki\", \"ros parti\", \"beli\", \"pemilihan melebihi tempoh\", \"pemilihan tempoh\", \"melebihi tempoh\", \"aktiviti\", \"pengurusan\", \"selesaikan\", \"pertimbangan\", \"pelaburan\", \"arah\", \"perlembagaan\", \"parti\", \"anak\", \"masyarakat\", \"kenyataan\", \"cina\", \"tempoh\"], \"Total\": [14.0, 14.0, 8.0, 8.0, 25.0, 7.0, 6.0, 10.0, 8.0, 10.0, 15.0, 26.0, 6.0, 4.0, 5.0, 8.0, 4.0, 6.0, 5.0, 5.0, 5.0, 3.0, 7.0, 5.0, 4.0, 4.0, 4.0, 4.0, 5.0, 4.0, 7.735489275754791, 7.735489275754791, 7.735489275754791, 7.735489275754791, 7.735489275754791, 7.735489275754791, 4.192043350101556, 4.192043350101556, 4.192043350101556, 4.192043350101556, 4.192043350101556, 4.192043350101556, 4.192043350101556, 4.192043350101556, 4.192043350101556, 4.192043350101556, 4.192043350101556, 4.192043350101556, 4.192043350101556, 4.192043350101556, 4.192043350101556, 4.192043350101556, 4.192043350101556, 4.192043350101556, 4.192043350101556, 4.192043350101556, 4.192043350101556, 4.192043350101556, 4.192043350101556, 4.192043350101556, 4.192043350101556, 4.192043350101556, 4.192043350101556, 4.192043350101556, 4.192043350101556, 4.192043350101556, 4.192043350101556, 4.192043350101556, 4.192043350101556, 4.192043350101556, 4.192043350101556, 4.192043350101556, 4.192043350101556, 4.192043350101556, 26.32173695557266, 25.918437357569736, 9.025157034823534, 8.437340399488416, 6.468756574782757, 5.709852006048327, 5.709852006048327, 4.192043350101556, 4.915316291538703, 4.061972518194736, 4.061972518194736, 4.061972518194736, 4.061972518194736, 4.061972518194736, 4.061972518194736, 4.061972518194736, 4.061972518194736, 4.061972518194736, 4.061972518194736, 4.061972518194736, 4.061972518194736, 4.061972518194736, 4.061972518194736, 4.061972518194736, 4.061972518194736, 4.061972518194736, 4.061972518194736, 4.061972518194736, 4.061972518194736, 4.061972518194736, 4.061972518194736, 4.061972518194736, 4.061972518194736, 4.061972518194736, 4.061972518194736, 4.061972518194736, 4.061972518194736, 4.061915511222812, 4.061915511222812, 6.323699266292673, 6.433125129198111, 26.32173695557266, 5.663557186371142, 3.684204232872078, 2.9253103818424178, 2.9253102326858387, 2.9253102326835076, 2.9253102326835076, 2.9253102326835076, 2.9253102326835076, 4.138653771025904, 2.1664060628510606, 2.1664060628510606, 2.1664060628510606, 2.1664060628510606, 2.1664060628510606, 2.1664060628510606, 2.1664060628510606, 2.1664060628510606, 2.1664060628510606, 2.1664060628510606, 2.1664060628510606, 2.1664060628510606, 2.1664060628510606, 2.1664060628510606, 2.1664060628510606, 2.1664060628510606, 2.1664060628510606, 2.1664060628510606, 2.1664060628510606, 2.1664060628510597, 2.1664060628510606, 2.1664060628510606, 2.1664060628510606, 2.1664060628510606, 2.1664060628510606, 2.1664060628510606, 2.1664060628510606, 2.1664060628510606, 2.1664060628510606, 2.1664060628510606, 2.1664060628510606, 2.1664060628510606, 2.1664060628510606, 2.1664060628510606, 2.1664060628510606, 2.1664060628510606, 2.1664060628510606, 5.311848837446469, 2.1664060628510606, 2.1664060628510606, 2.1664060628510606, 4.0626794762591665, 2.1664060628510606, 2.1664060628510606, 2.1664060628510606, 2.1664060628510606, 2.1664060628510606, 2.1664060628510606, 4.063827563272564, 2.1664060628510606, 9.025157034823534, 2.1664060628510606, 6.468756574782757, 25.918437357569736, 7.0325789914709675, 2.1664060628510606, 2.1664060628510606, 2.1664060628510606, 2.1664060628510606, 7.371208367451849, 2.1664060628510606, 8.437340399488416, 5.8100305814688955, 2.1664060628510606, 2.1664060628510606, 2.1664060628510606, 2.1664060628510606, 2.1664060628510606, 2.1664060628510606, 2.1664060628510606, 2.1664060628510606, 2.1664060628510606, 2.1664060628510606, 2.1664060628510606, 2.1664060628510606, 2.1664060628510606, 2.1664060628510606, 2.1664060628510606, 2.1664060628510606, 2.1664060628510606, 2.1664060628510606, 26.32173695557266, 2.1664060628510606, 2.1664060628510606, 2.1664060628510606, 2.1664060628510606, 2.1664060628510606, 2.1664060628510606, 2.1664060628510606, 2.1664060628510606, 2.1664060628510606, 2.1664060628510606, 2.1664060628510606, 2.1664060628510606, 2.7708970505739794, 2.8158787411282304, 3.0197493122429955, 3.873093389211205, 3.938129020638346, 3.938129020638346, 3.938129020638346, 2.1664060628510606, 2.1664060628510606, 2.1664060628510606, 2.1664060628510606, 7.903694921594123, 5.265478105868857, 4.605923742283117, 4.605922687720788, 3.9463692300328725, 3.9463692300328725, 6.423579091223274, 3.2868149220240737, 3.2868148372926775, 3.2868148372926775, 14.613762493351414, 5.914950179166747, 2.627260547639283, 2.627260547622178, 2.627260547622178, 2.6272605475850366, 2.6272605475850366, 2.6272605475850366, 2.62726054727069, 2.6272593715989574, 2.6281676041202218, 4.51384779633645, 1.9677061732417342, 1.9677061732417342, 1.9677061732417342, 1.9677061732417342, 1.9677061732417342, 1.9677061732417342, 1.9677061732417342, 1.9677061732417342, 3.8913047940684615, 3.8913047197945443, 4.444568072534457, 10.418913703188357, 1.9677061732417342, 1.9677061732417342, 1.9677061732417342, 15.179490253116985, 1.9677061732417342, 1.9677061732417342, 25.918437357569736, 1.9677061732417342, 5.535756979524065, 26.32173695557266, 7.577079512718325, 5.542293954799774, 8.442258047846849, 8.36147056582797, 3.2464853853433002, 3.246484291835926, 3.2464780577540475, 2.5970130759181758, 2.5970128789517646, 2.597012878732517, 2.59701291742315, 2.59701291742315, 2.5970131324831516, 2.5970131324831516, 2.597012681897329, 2.597012681897329, 2.5970119419364273, 2.5970110010675667, 2.5970117527620564, 2.597010482085509, 2.5970110450445008, 2.5970102162621913, 4.464636097720491, 4.30264354498327, 1.947541192110279, 1.9475411921089771, 1.9475411921056305, 1.9475411921056305, 1.9475411921056305, 1.9475411921056305, 1.9475411921056305, 1.9475411921056305, 5.7186032278207595, 6.381823166878782, 3.906981246235068, 8.33765240392152, 10.606833163257539, 3.1496724461023455, 3.165697417872608, 3.450345325221182, 14.736698392402442, 25.918437357569736, 7.577079512718325, 6.794103233011768, 4.275533722125027, 4.275533722125027, 4.275533722125027, 4.275534104487621, 3.671044694815954, 3.0665551469853165, 3.066555146972132, 3.0665558341882937, 2.462065716353743, 2.462065716353743, 2.4620659002818606, 2.4620659002818606, 2.4620659002818606, 2.4620659002818606, 2.4620659002818606, 2.4620659002818606, 2.4620659002818606, 2.4620659002818606, 2.4620659002818606, 2.4620659002818606, 2.4620659002818606, 2.4620659002818606, 2.4620659002818606, 2.4620659002818606, 2.4620659002818606, 2.4620659002818606, 2.4620659002818606, 2.4620659002818606, 2.4620659002818606, 2.4620659002818606, 2.4620659002818606, 2.4620659002818606, 2.4620659002818606, 4.171874468554774, 4.180566075455209, 10.606833163257539, 15.179490253116985, 6.794103233011768, 3.5673862542159167, 2.960611421113025, 3.0147252856702225, 2.923334093976714, 2.923337766745065, 2.923330330132117, 2.354649692408209, 2.3546496924165083, 2.35465074320112, 2.3546519511351724, 1.7859656031164912, 1.7859656031164912, 1.7859656031316726, 1.7859656031347526, 1.785965603147857, 1.7859656031608209, 1.7859656031726574, 1.7859644867994646, 1.7859661747835858, 1.7859664487355047, 1.7859664487355047, 1.7859668030698839, 1.7859627075336753, 1.7859868655620186, 4.543227957048909, 2.853196198945939, 3.8322554163475298, 2.907311072186087, 2.9073072468193053, 4.790958171125928, 5.767392539525449, 2.959140156082395, 3.113552311475159, 5.198650634735241, 4.13435315795872, 4.441137297978224, 4.105134714767826, 3.1135517626842817, 4.679324173272528, 5.535756979524065, 7.371208367451849, 3.511794883990091, 3.5228106921198483, 3.8724575070854224, 14.736698392402442, 5.542293954799774, 7.117222199316967, 25.918437357569736, 26.32173695557266, 4.517217522085625, 6.779679564310076, 2.859235493039675, 2.859235493055797, 2.859235773225194, 2.8592361033160496, 2.306575975923093, 2.3065759759278555, 2.3065759759278555, 2.306576044334456, 2.3065763627877693, 2.3065764742494417, 4.016385414990037, 1.7539164587693006, 1.7539164588774248, 1.7539165689406906, 1.7539165689406906, 1.7539165689406906, 1.7539165689406906, 1.753917081767078, 1.7539170817717054, 1.7539185461357638, 1.7539185461357638, 1.7539184840683617, 1.7539184840683617, 1.7539184840683617, 1.7539184840683617, 1.7539184840683617, 1.7539184840683617, 1.7539260009747626, 8.878949093508655, 5.118593865031068, 4.0011726095404425, 2.9173195299499826, 10.418913703188357, 14.736698392402442, 3.714045668823907, 3.4518807129718936, 7.117222199316967, 3.6802369317136363, 14.613762493351414, 3.2117283669808665, 2.3584035074506966, 15.179490253116985, 2.3584066342596524, 2.208381266995656, 2.4033859964250364, 3.1413212896010214, 2.6427763319829314, 3.7549387582308777, 1.645686403073519, 1.6456864032936889, 1.6456868607781014, 1.6456873324016874, 1.6456886791813252, 1.645687503134947, 1.645688791633741, 1.6456893911407167, 1.6456912060018976, 1.645689451671863, 1.6457108389482744, 2.712914358748949, 2.7129153917904736, 4.330585548120575, 2.8037847957780064, 2.2143698826711598, 2.2143679398941267, 2.3052360434645314, 2.305239369857297, 2.305239369857297, 3.46334014697647, 5.0799847781648255, 5.083227932001475, 3.883355411370514, 3.864173952367443, 4.271301893053537, 2.9097297131008584, 6.187336436897661, 4.8587232456608245, 26.32173695557266, 14.736698392402442, 25.918437357569736, 15.179490253116985, 4.37807206603315, 3.9778525433543033, 2.973269963916938, 4.646271235017794, 3.221491231705422, 4.679324173272528, 3.3753685686006105, 2.4664536017773866, 2.011980082880479, 2.011981022354087, 4.37807206603315, 1.5575191965260764, 1.5575191965260764, 1.5575191965260764, 1.5575191965260764, 1.5575191965260764, 1.5575191965260764, 1.5575191965260764, 1.5575191965260764, 1.5575191965260764, 1.5575191965260764, 1.5575191965260764, 1.5575191965260764, 1.5575191965260764, 1.5575191970512652, 1.5575195848627144, 1.5575207104195685, 1.5575219215492688, 1.5575219215492688, 1.5575219215492688, 1.5575300428851246, 2.661447605539421, 2.110179757396301, 2.1262018877320474, 2.206988326185739, 2.206993627607692, 3.3109321299742343, 14.736698392402442, 3.516001555353294, 6.187336436897661, 4.271301893053537, 3.8322554163475298, 3.714045668823907], \"loglift\": [30.0, 29.0, 28.0, 27.0, 26.0, 25.0, 24.0, 23.0, 22.0, 21.0, 20.0, 19.0, 18.0, 17.0, 16.0, 15.0, 14.0, 13.0, 12.0, 11.0, 10.0, 9.0, 8.0, 7.0, 6.0, 5.0, 4.0, 3.0, 2.0, 1.0, 1.2202, 1.2202, 1.2202, 1.2202, 1.2202, 1.2202, 1.1519, 1.1519, 1.1519, 1.1519, 1.1519, 1.1519, 1.1519, 1.1519, 1.1519, 1.1519, 1.1519, 1.1519, 1.1519, 1.1519, 1.1519, 1.1519, 1.1519, 1.1519, 1.1519, 1.1519, 1.1519, 1.1519, 1.1519, 1.1519, 1.1519, 1.1519, 1.1519, 1.1519, 1.1519, 1.1519, 1.1519, 1.1519, 1.1519, 1.1519, 1.1519, 1.1519, 1.1519, 1.1519, -0.288, -0.602, 0.3851, 0.4524, 0.7181, 0.8429, 0.8429, 1.1519, 1.4043, 1.3767, 1.3767, 1.3767, 1.3767, 1.3767, 1.3767, 1.3767, 1.3767, 1.3767, 1.3767, 1.3767, 1.3767, 1.3767, 1.3767, 1.3767, 1.3767, 1.3767, 1.3767, 1.3767, 1.3767, 1.3767, 1.3767, 1.3767, 1.3767, 1.3767, 1.3767, 1.3767, 1.3767, 1.3766, 1.3766, 1.1523, 1.1352, 0.242, 1.0443, 1.9587, 1.9098, 1.9098, 1.9098, 1.9098, 1.9098, 1.9098, 1.8424, 1.8207, 1.8207, 1.8207, 1.8207, 1.8207, 1.8207, 1.8207, 1.8207, 1.8207, 1.8207, 1.8207, 1.8207, 1.8207, 1.8207, 1.8207, 1.8207, 1.8207, 1.8207, 1.8207, 1.8207, 1.8207, 1.8207, 1.8207, 1.8207, 1.8207, 1.8207, 1.8207, 1.8207, 1.8207, 1.8207, 1.8207, 1.8207, 1.8207, 1.8207, 1.8207, 1.8207, 1.8207, 1.5929, 1.8207, 1.8207, 1.8207, 1.5814, 1.8207, 1.8207, 1.8207, 1.8207, 1.8207, 1.8207, 1.5154, 1.8207, 1.0628, 1.8207, 1.1162, 0.1639, 1.0327, 1.8207, 1.8207, 1.8207, 1.8207, 0.9856, 1.8207, 0.8506, 1.0893, 1.8207, 1.8207, 1.8207, 1.8207, 1.8207, 1.8207, 1.8207, 1.8207, 1.8207, 1.8207, 1.8207, 1.8207, 1.8207, 1.8207, 1.8207, 1.8207, 1.8207, 1.8207, -0.541, 1.8207, 1.8207, 1.8207, 1.8207, 1.8207, 1.8207, 1.8207, 1.8207, 1.8207, 1.8207, 1.8207, 1.8207, 1.5746, 1.5585, 1.4886, 1.2397, 1.223, 1.223, 1.223, 1.8207, 1.8207, 1.8207, 1.8207, 2.4788, 2.4381, 2.4201, 2.4201, 2.3956, 2.3956, 2.3711, 2.3602, 2.3602, 2.3602, 2.3483, 2.3218, 2.3046, 2.3046, 2.3046, 2.3046, 2.3046, 2.3046, 2.3046, 2.3046, 2.3029, 2.2587, 2.2042, 2.2042, 2.2042, 2.2042, 2.2042, 2.2042, 2.2042, 2.2042, 2.1914, 2.1914, 2.057, 1.8929, 2.2042, 2.2042, 2.2042, 1.4589, 2.2042, 2.2042, 1.2337, 2.2042, 1.7671, 0.8711, 1.2832, 1.5582, 2.4884, 2.4118, 2.3619, 2.3619, 2.3619, 2.3055, 2.3055, 2.3055, 2.3055, 2.3055, 2.3055, 2.3055, 2.3055, 2.3055, 2.3055, 2.3055, 2.3055, 2.3055, 2.3055, 2.3055, 2.2615, 2.2493, 2.2038, 2.2038, 2.2038, 2.2038, 2.2038, 2.2038, 2.2038, 2.2038, 2.193, 2.1635, 2.1536, 1.9925, 1.9172, 2.1126, 2.1075, 2.0214, 1.3166, 0.9019, 1.4848, 1.4256, 2.6539, 2.6539, 2.6539, 2.6539, 2.6273, 2.589, 2.589, 2.589, 2.5289, 2.5289, 2.5289, 2.5289, 2.5289, 2.5289, 2.5289, 2.5289, 2.5289, 2.5289, 2.5289, 2.5289, 2.5289, 2.5289, 2.5289, 2.5289, 2.5289, 2.5289, 2.5289, 2.5289, 2.5289, 2.5289, 2.5289, 2.5289, 2.5289, 2.2812, 2.2791, 1.5363, 1.1635, 1.6221, 2.1581, 2.3446, 2.3264, 2.6759, 2.6759, 2.6759, 2.6127, 2.6127, 2.6127, 2.6127, 2.4997, 2.4997, 2.4997, 2.4997, 2.4997, 2.4997, 2.4997, 2.4996, 2.4996, 2.4996, 2.4996, 2.4996, 2.4996, 2.4995, 2.4533, 2.4206, 2.4052, 2.4018, 2.4018, 2.4002, 2.3937, 2.3842, 2.3333, 2.3185, 2.3021, 2.2578, 2.2667, 2.3333, 2.2055, 2.1044, 1.9693, 2.2129, 2.1734, 2.1152, 1.3116, 1.7567, 1.4344, 0.2644, 0.244, 2.8952, 2.8416, 2.8035, 2.8035, 2.8035, 2.8035, 2.7387, 2.7387, 2.7387, 2.7387, 2.7387, 2.7387, 2.6819, 2.6231, 2.6231, 2.6231, 2.6231, 2.6231, 2.6231, 2.6231, 2.6231, 2.6231, 2.6231, 2.6231, 2.6231, 2.6231, 2.6231, 2.6231, 2.6231, 2.6231, 2.5719, 2.4394, 2.3954, 2.4641, 1.9004, 1.5871, 2.2623, 2.2363, 1.7617, 2.0916, 0.5433, 2.0182, 2.327, 0.465, 2.327, 2.3927, 2.3081, 3.0243, 2.9789, 2.8289, 2.7835, 2.7835, 2.7835, 2.7835, 2.7835, 2.7835, 2.7835, 2.7835, 2.7835, 2.7835, 2.7834, 2.6731, 2.6731, 2.6672, 2.6402, 2.4867, 2.4867, 2.4465, 2.4465, 2.4465, 2.4289, 2.3254, 2.3248, 2.3145, 2.2881, 2.2192, 2.2136, 1.8487, 1.939, 0.6673, 0.9014, 0.4148, 0.7279, 1.864, 1.901, 2.192, 1.7456, 2.1118, 1.7385, 3.2529, 3.1694, 3.0935, 3.0935, 2.9717, 2.96, 2.96, 2.96, 2.96, 2.96, 2.96, 2.96, 2.96, 2.96, 2.96, 2.96, 2.96, 2.96, 2.96, 2.96, 2.96, 2.96, 2.96, 2.96, 2.96, 2.8137, 2.6563, 2.6488, 2.6115, 2.6114, 2.5953, 1.2354, 2.1458, 1.5806, 1.9512, 2.0597, 2.091], \"logprob\": [30.0, 29.0, 28.0, 27.0, 26.0, 25.0, 24.0, 23.0, 22.0, 21.0, 20.0, 19.0, 18.0, 17.0, 16.0, 15.0, 14.0, 13.0, 12.0, 11.0, 10.0, 9.0, 8.0, 7.0, 6.0, 5.0, 4.0, 3.0, 2.0, 1.0, -5.2825, -5.2825, -5.2825, -5.2825, -5.2825, -5.2825, -5.9634, -5.9634, -5.9634, -5.9634, -5.9634, -5.9634, -5.9634, -5.9634, -5.9634, -5.9634, -5.9634, -5.9634, -5.9634, -5.9634, -5.9634, -5.9634, -5.9634, -5.9634, -5.9634, -5.9634, -5.9634, -5.9634, -5.9634, -5.9634, -5.9634, -5.9634, -5.9634, -5.9634, -5.9634, -5.9634, -5.9634, -5.9634, -5.9634, -5.9634, -5.9634, -5.9634, -5.9634, -5.9634, -5.5661, -5.8956, -5.9634, -5.9634, -5.9634, -5.9634, -5.9634, -5.9634, -5.5519, -5.7701, -5.7701, -5.7701, -5.7701, -5.7701, -5.7701, -5.7701, -5.7701, -5.7701, -5.7701, -5.7701, -5.7701, -5.7701, -5.7701, -5.7701, -5.7701, -5.7701, -5.7701, -5.7701, -5.7701, -5.7701, -5.7701, -5.7701, -5.7701, -5.7701, -5.7701, -5.7701, -5.7701, -5.7702, -5.7702, -5.5519, -5.5519, -5.0362, -5.7701, -5.2857, -5.5653, -5.5653, -5.5653, -5.5653, -5.5653, -5.5653, -5.2857, -5.9547, -5.9547, -5.9547, -5.9547, -5.9547, -5.9547, -5.9547, -5.9547, -5.9547, -5.9547, -5.9547, -5.9547, -5.9547, -5.9547, -5.9547, -5.9547, -5.9547, -5.9547, -5.9547, -5.9547, -5.9547, -5.9547, -5.9547, -5.9547, -5.9547, -5.9547, -5.9547, -5.9547, -5.9547, -5.9547, -5.9547, -5.9547, -5.9547, -5.9547, -5.9547, -5.9547, -5.9547, -5.2857, -5.9547, -5.9547, -5.9547, -5.5653, -5.9547, -5.9547, -5.9547, -5.9547, -5.9547, -5.9547, -5.631, -5.9547, -5.2857, -5.9547, -5.5653, -5.1296, -5.5653, -5.9547, -5.9547, -5.9547, -5.9547, -5.5653, -5.9547, -5.5653, -5.6996, -5.9547, -5.9547, -5.9547, -5.9547, -5.9547, -5.9547, -5.9547, -5.9547, -5.9547, -5.9547, -5.9547, -5.9547, -5.9547, -5.9547, -5.9547, -5.9547, -5.9547, -5.9547, -5.8191, -5.9547, -5.9547, -5.9547, -5.9547, -5.9547, -5.9547, -5.9547, -5.9547, -5.9547, -5.9547, -5.9547, -5.9547, -5.9547, -5.9547, -5.9547, -5.9547, -5.9547, -5.9547, -5.9547, -5.9547, -5.9547, -5.9547, -5.9547, -4.0024, -4.4492, -4.601, -4.601, -4.7801, -4.7801, -4.3175, -4.9983, -4.9983, -4.9983, -3.5182, -4.4492, -5.2779, -5.2779, -5.2779, -5.2779, -5.2779, -5.2779, -5.2779, -5.2779, -5.2793, -4.7827, -5.6674, -5.6674, -5.6674, -5.6674, -5.6674, -5.6674, -5.6674, -5.6674, -4.9983, -4.9983, -4.9998, -4.312, -5.6674, -5.6674, -5.6674, -4.3697, -5.6674, -5.6674, -4.0599, -5.6674, -5.0701, -4.407, -5.2402, -5.2779, -3.9268, -4.0131, -5.009, -5.0091, -5.0091, -5.2886, -5.2886, -5.2886, -5.2886, -5.2886, -5.2886, -5.2886, -5.2886, -5.2886, -5.2886, -5.2886, -5.2886, -5.2886, -5.2886, -5.2886, -4.7908, -4.84, -5.6781, -5.6781, -5.6781, -5.6781, -5.6781, -5.6781, -5.6781, -5.6781, -4.6117, -4.5315, -5.0321, -4.4352, -4.2698, -5.2886, -5.2886, -5.2886, -4.5415, -4.3917, -5.0385, -5.2068, -4.4417, -4.4417, -4.4417, -4.4417, -4.6207, -4.839, -4.839, -4.839, -5.1186, -5.1186, -5.1186, -5.1186, -5.1186, -5.1186, -5.1186, -5.1186, -5.1186, -5.1186, -5.1186, -5.1186, -5.1186, -5.1186, -5.1186, -5.1186, -5.1186, -5.1186, -5.1186, -5.1186, -5.1186, -5.1186, -5.1186, -5.1186, -5.1186, -4.839, -4.839, -4.6507, -4.6651, -5.0103, -5.1185, -5.1186, -5.1186, -4.7998, -4.7998, -4.7999, -5.0794, -5.0794, -5.0794, -5.0794, -5.4689, -5.4689, -5.4689, -5.4689, -5.4689, -5.4689, -5.4689, -5.4689, -5.4689, -5.4689, -5.4689, -5.4689, -5.4689, -5.469, -4.5816, -5.0794, -4.7998, -5.0794, -5.0794, -4.5816, -4.4025, -5.0794, -5.0794, -4.5816, -4.827, -4.7998, -4.8696, -5.0794, -4.7998, -4.7329, -4.5816, -5.0795, -5.1158, -5.0794, -4.5466, -5.0794, -5.1515, -5.0292, -5.0341, -4.1454, -3.7929, -4.6945, -4.6945, -4.6945, -4.6945, -4.9741, -4.9741, -4.9741, -4.9741, -4.9741, -4.9741, -4.4762, -5.3635, -5.3635, -5.3635, -5.3635, -5.3635, -5.3635, -5.3635, -5.3635, -5.3635, -5.3635, -5.3635, -5.3635, -5.3635, -5.3635, -5.3635, -5.3635, -5.3636, -3.7929, -4.4762, -4.7665, -5.0137, -4.3045, -4.271, -4.9741, -5.0733, -4.8243, -5.1539, -5.3233, -5.3635, -5.3635, -5.3635, -5.3635, -5.3635, -5.3635, -4.3795, -4.5978, -4.3965, -5.2668, -5.2668, -5.2668, -5.2668, -5.2668, -5.2668, -5.2668, -5.2668, -5.2668, -5.2668, -5.2669, -4.8773, -4.8773, -4.4156, -4.8773, -5.2668, -5.2668, -5.2668, -5.2668, -5.2668, -4.8773, -4.5977, -4.5978, -4.8773, -4.9087, -4.8773, -5.2668, -4.8773, -5.0287, -4.6108, -4.9568, -4.8788, -5.1006, -5.2079, -5.2668, -5.2668, -5.2668, -5.2668, -5.2668, -4.079, -4.4764, -4.7559, -4.7559, -4.1001, -5.1454, -5.1454, -5.1454, -5.1454, -5.1454, -5.1454, -5.1454, -5.1454, -5.1454, -5.1454, -5.1454, -5.1454, -5.1454, -5.1454, -5.1454, -5.1454, -5.1454, -5.1454, -5.1454, -5.1454, -4.7559, -5.1454, -5.1454, -5.1454, -5.1454, -4.7559, -4.6227, -5.1454, -5.1454, -5.1454, -5.1454, -5.1454]}, \"token.table\": {\"Topic\": [4, 4, 4, 4, 4, 5, 6, 7, 8, 10, 5, 4, 7, 9, 4, 5, 10, 5, 5, 10, 5, 5, 3, 5, 7, 9, 6, 8, 2, 3, 3, 7, 7, 9, 4, 9, 10, 9, 4, 9, 6, 8, 4, 5, 5, 2, 9, 2, 1, 3, 4, 5, 3, 3, 3, 3, 3, 3, 3, 1, 1, 1, 1, 1, 1, 1, 3, 3, 3, 3, 3, 3, 3, 3, 3, 3, 1, 1, 1, 1, 5, 7, 8, 7, 7, 7, 5, 7, 7, 8, 2, 3, 5, 7, 7, 4, 4, 4, 4, 4, 4, 4, 4, 4, 4, 7, 7, 10, 4, 9, 4, 7, 8, 9, 5, 6, 7, 7, 7, 8, 10, 6, 8, 9, 6, 8, 8, 4, 6, 3, 5, 4, 7, 7, 6, 8, 5, 7, 5, 5, 5, 3, 7, 7, 8, 9, 3, 7, 9, 6, 8, 8, 8, 8, 8, 8, 2, 3, 2, 3, 7, 3, 7, 9, 3, 4, 5, 7, 5, 5, 6, 7, 4, 4, 4, 4, 3, 7, 10, 7, 7, 4, 3, 3, 10, 8, 3, 3, 3, 3, 7, 3, 9, 7, 9, 10, 3, 3, 3, 3, 3, 3, 3, 3, 8, 8, 4, 6, 8, 5, 7, 9, 10, 3, 4, 8, 4, 8, 5, 7, 5, 2, 4, 5, 6, 8, 9, 9, 8, 6, 8, 1, 1, 1, 1, 1, 1, 1, 2, 8, 8, 8, 5, 6, 7, 9, 9, 5, 8, 2, 7, 5, 9, 4, 5, 4, 5, 5, 1, 2, 3, 4, 5, 7, 8, 9, 1, 3, 1, 1, 1, 3, 1, 3, 3, 3, 1, 1, 1, 3, 1, 1, 1, 5, 3, 5, 6, 7, 8, 9, 10, 10, 4, 6, 7, 8, 8, 8, 10, 3, 3, 3, 3, 3, 3, 3, 3, 3, 3, 3, 3, 3, 3, 3, 3, 3, 3, 3, 3, 3, 3, 3, 5, 1, 3, 3, 3, 3, 3, 3, 3, 3, 3, 3, 3, 3, 3, 6, 2, 2, 2, 2, 2, 2, 2, 2, 2, 2, 8, 10, 4, 5, 4, 7, 7, 9, 2, 7, 7, 8, 5, 6, 7, 6, 6, 5, 6, 6, 6, 6, 6, 10, 10, 7, 9, 8, 6, 8, 6, 1, 2, 3, 4, 5, 6, 7, 9, 2, 2, 2, 2, 2, 2, 2, 2, 2, 2, 2, 2, 2, 2, 2, 2, 3, 4, 9, 3, 3, 1, 3, 3, 3, 3, 3, 3, 3, 3, 1, 2, 2, 2, 1, 1, 4, 8, 5, 1, 2, 9, 3, 7, 3, 7, 5, 5, 6, 7, 8, 9, 10, 8, 4, 6, 7, 9, 7, 9, 7, 6, 8, 5, 10, 6, 9, 2, 3, 4, 5, 6, 4, 6, 9, 1, 3, 6, 7, 1, 1, 1, 1, 1, 5, 10, 10, 10, 9, 7, 7, 4, 6, 7, 8, 2, 6, 9, 1, 3, 5, 9, 1, 1, 1, 1, 1, 1, 1, 5, 10, 3, 3, 3, 3, 3, 3, 3, 3, 3, 3, 3, 3, 3, 3, 3, 3, 3, 3, 5, 6, 7, 5, 6, 6, 6, 6, 6, 6, 6, 6, 6, 6, 6, 6, 6, 6, 5, 8, 5, 10, 5, 4, 4, 4, 7, 10, 10, 10, 10, 10, 10, 10, 10, 4, 3, 6, 7, 4, 9, 4, 9, 5, 7, 6, 6, 8, 5, 6, 9, 1, 2, 8, 9, 8, 6, 7, 8, 7, 4, 8, 9, 4, 9, 8, 8, 6, 6, 9, 6, 6, 9, 10, 10, 4, 5, 7, 9, 9, 9, 8, 1, 8, 10, 6, 6, 6, 6, 2, 6, 8, 8, 8, 8, 7, 8, 9, 10, 10, 10, 10, 4, 6, 4, 5, 7, 5, 6, 4, 7, 8, 9, 3, 5, 6, 7, 8, 9, 9, 3, 7, 9, 9, 1, 1, 1, 8, 9, 10, 8, 7, 7, 2, 7, 4, 6, 4, 4, 4, 5, 5, 8, 4, 4, 6, 7, 9, 2, 5], \"Freq\": [0.5082059575757346, 0.5082059575757346, 0.5082059575757346, 0.5082059575757346, 0.14718645944929343, 0.29437291889858686, 0.29437291889858686, 0.14718645944929343, 0.14718645944929343, 0.6420421901767162, 0.7701155379636971, 0.2838642457390326, 0.5677284914780651, 0.2838642457390326, 0.28441398112507893, 0.28441398112507893, 0.28441398112507893, 0.7701154909637483, 0.4531050690363646, 0.4531050690363646, 0.5134679584973636, 0.5134679584973636, 0.271325934677299, 0.1356629673386495, 0.40698890201594845, 0.1356629673386495, 0.47940081013339847, 0.23970040506669923, 0.6217817809644564, 0.3108908904822282, 0.4922859437194784, 0.2461429718597392, 0.451595737381379, 0.451595737381379, 0.43379505662123147, 0.43379505662123147, 0.6420460372116771, 0.6076487778481962, 0.3566607542439846, 0.7133215084879692, 0.4240150894563263, 0.4240150894563263, 0.2559520860161902, 0.7678562580485705, 0.770115474190031, 0.6174461578315265, 0.20581538594384216, 0.7385677992836613, 0.47408304164693094, 0.23704152082346547, 0.11852076041173273, 0.11852076041173273, 0.9231879629103028, 0.9231879629103028, 0.9231879629103028, 0.9231879629103028, 0.9231879629103028, 0.9231879629103028, 0.9231879629103028, 0.9541886058747691, 0.9541886058747691, 0.9541886058747691, 0.9541886058747691, 0.9541886058747691, 0.9049201350378674, 0.6183568594300263, 0.30917842971501314, 0.9231879629103028, 0.9231879629103028, 0.9231879629103028, 0.9231879629103028, 0.9231879629103028, 0.9231879629103028, 0.9231879629103028, 0.9231879629103028, 0.9231879629103028, 0.9541886058747691, 0.9049201350378674, 0.9541886058747691, 0.9541886058747691, 0.24187580542677595, 0.4837516108535519, 0.24187580542677595, 0.5599209328417213, 0.8493828674060695, 0.5599209328417213, 0.6719472616215485, 0.22398242054051618, 0.6879208830227256, 0.3439604415113628, 0.6325411490266895, 0.15813528725667236, 0.15813528725667236, 0.8493832464511774, 0.5599211979432572, 0.5082059575757346, 0.5082059575757346, 0.5082059575757346, 0.5082059575757346, 0.5082059575757346, 0.5082059575757346, 0.5082059575757346, 0.5082059575757346, 0.5082059575757346, 0.5082059575757346, 0.6841503350988288, 0.5218858825193267, 0.26094294125966333, 0.2887386042266191, 0.5774772084532382, 0.19672539051504995, 0.19672539051504995, 0.19672539051504995, 0.3934507810300999, 0.6994715039050395, 0.17486787597625988, 0.17486787597625988, 0.5599211979473656, 0.6879217881729113, 0.34396089408645564, 0.6420466610576777, 0.25878752155744317, 0.25878752155744317, 0.25878752155744317, 0.24898008947741404, 0.746940268432242, 0.5701525475661411, 0.23920205588213628, 0.47840411176427255, 0.7102578569127822, 0.3551289284563911, 0.6646214350503519, 0.22154047835011728, 0.5599211979483312, 0.34278041528661246, 0.6855608305732249, 0.7701156078062881, 0.5599210187287981, 0.5134679584973636, 0.5134679584973636, 0.5134679584973636, 0.45033509792873927, 0.45033509792873927, 0.6603234590827519, 0.22010781969425064, 0.22010781969425064, 0.32117660993625863, 0.6423532198725173, 0.6076483020870914, 0.14749959648008285, 0.884997578880497, 0.6994875301415174, 0.6994876108954166, 0.8670859268391691, 0.8670860884524118, 0.8670861141695534, 0.5163831075106919, 0.5163831075106919, 0.33115331658349634, 0.6623066331669927, 0.559921197935482, 0.2137060744181442, 0.4274121488362884, 0.2137060744181442, 0.13197697058892863, 0.26395394117785725, 0.39593091176678585, 0.13197697058892863, 0.924076548758985, 0.7701155494369779, 0.33793600412759756, 0.6758720082551951, 0.9495813864323247, 0.7612492037907657, 0.8684468575281348, 0.7612492037907657, 0.2435973651248512, 0.4871947302497024, 0.2435973651248512, 0.8493824316735238, 0.5599211979530908, 0.8684470563658928, 0.8142871052675883, 0.683688135253655, 0.8108808527996437, 0.452820359846843, 0.6836881701142916, 0.6836881701142916, 0.6836881701142916, 0.6836881701142916, 0.5599145320059885, 0.6836881701137468, 0.6076480583770503, 0.7009682687572847, 0.35048413437864234, 0.8887918279228885, 0.9231879629103028, 0.9231879629103028, 0.9231879629103028, 0.9231879629103028, 0.9231879629103028, 0.9231879629103028, 0.9231879629103028, 0.9231879629103031, 0.5701519048322977, 0.5701519048322977, 0.6749812245060945, 0.2249937415020315, 0.2249937415020315, 0.23412065572473592, 0.23412065572473592, 0.46824131144947184, 0.23412065572473592, 0.724873392648245, 0.5434432720256236, 0.2717216360128118, 0.7612495445330906, 0.5701519250087471, 0.8371733111885739, 0.11959618731265341, 0.7701163389640213, 0.13175673007789682, 0.329391825194742, 0.13175673007789682, 0.1976350951168452, 0.06587836503894841, 0.06587836503894841, 0.6076483436086262, 0.5701494814742695, 0.663410364289749, 0.3317051821448745, 0.9541886058747691, 0.9541886058747691, 0.9541886058747691, 0.9541886058747691, 0.9541886058747691, 0.9541886058747691, 0.9541886058747691, 0.3907323090553231, 0.5860984635829847, 0.8670859687397318, 0.5701523808597019, 0.5134679584964813, 0.6521976302843174, 0.3686071460341484, 0.7372142920682968, 0.60764918403189, 0.4160796482493738, 0.4160796482493738, 0.7385677992836613, 0.6841494755588445, 0.7701162601368924, 0.9550121504384639, 0.8453156575368419, 0.16906313150736837, 0.7612492037907657, 0.9240783232261967, 0.513467958496138, 0.15433029178480778, 0.07716514589240389, 0.15433029178480778, 0.27007801062341363, 0.19291286473100974, 0.07716514589240389, 0.038582572946201946, 0.07716514589240389, 0.7005435509997253, 0.35027177549986266, 0.9541886058747691, 0.9541886058747691, 0.7005435509997253, 0.35027177549986266, 0.9541886058747691, 0.9231879629103028, 0.9231879629103028, 0.9231879629103028, 0.9541886058747691, 0.9541886058747691, 0.5078553773933523, 0.5078553773933523, 0.9541886058747691, 0.9541886058747691, 0.9541886058747691, 0.5134679584973636, 0.16162043396195236, 0.16162043396195236, 0.16162043396195236, 0.16162043396195236, 0.16162043396195236, 0.3232408679239047, 0.16162043396195236, 0.49702281275485405, 0.47989647888818954, 0.0959792957776379, 0.0959792957776379, 0.2879378873329137, 0.5701525475661411, 0.5701525475661411, 0.642045537956409, 0.9231879629103028, 0.9231879629103028, 0.9231879629103028, 0.9231879629103028, 0.9231879629103028, 0.9231879629103028, 0.9231879629103028, 0.9231879629103028, 0.9231879629103028, 0.9231879629103028, 0.9231879629103028, 0.9231879629103028, 0.9231879629103028, 0.9231879629103028, 0.9231879629103028, 0.9231879629103028, 0.9231879629103028, 0.9231879629103028, 0.9231879629103028, 0.9231879629103028, 0.9231879629103028, 0.9231879629103028, 0.9231879629103028, 0.7701158272336348, 0.5078553773933523, 0.5078553773933523, 0.9231879629103028, 0.9231879629103028, 0.9231879629103028, 0.9231879629103028, 0.9231879629103028, 0.9231879629103028, 0.9231879629103028, 0.9231879629103028, 0.9231879629103028, 0.9231879629103028, 0.9231879629103028, 0.7217879132628578, 0.3608939566314289, 0.738557433995957, 0.738557433995957, 0.738557433995957, 0.738557433995957, 0.738557433995957, 0.738557433995957, 0.738557433995957, 0.738557433995957, 0.738557433995957, 0.738557433995957, 0.5701525833799898, 0.4970225806752221, 0.7612492038818477, 0.7701158833312542, 0.5419313042636356, 0.36128753617575704, 0.5599215479318117, 0.7567798968819118, 0.3467771590529823, 0.5201657385794733, 0.24992673338200616, 0.4998534667640123, 0.5656730814607531, 0.28283654073037656, 0.18855769382025106, 0.8123259413044295, 0.8123259413044295, 0.7701160931973353, 0.8123259413044295, 0.8172060678630347, 0.8123259413044295, 0.8123259413044295, 0.8123259413044295, 0.6420466612741731, 0.6420466612741731, 0.45159613358916856, 0.45159613358916856, 0.5701523808581976, 0.5606345535576394, 0.2803172767788197, 0.8123259413044295, 0.18995706888338285, 0.265939896436736, 0.07598282755335314, 0.18995706888338285, 0.03799141377667657, 0.07598282755335314, 0.07598282755335314, 0.07598282755335314, 0.8137828295781613, 0.738557433995957, 0.738557433995957, 0.738557433995957, 0.738557433995957, 0.738557433995957, 0.738557433995957, 0.738557433995957, 0.738557433995957, 0.738557433995957, 0.738557433995957, 0.738557433995957, 0.738557433995957, 0.738557433995957, 0.738557433995957, 0.738557433995957, 0.4921468661897204, 0.2460734330948602, 0.2460734330948602, 0.9231879629103028, 0.9231879629103028, 0.5078553773933523, 0.5078553773933523, 0.9231879629103028, 0.9231879629103028, 0.9231879629103028, 0.9231879629103028, 0.9231879629103028, 0.9231879629103028, 0.9231879629103028, 0.9541886058747691, 0.738557433995957, 0.738557433995957, 0.738557433995957, 0.9049201350378674, 0.9541886058747691, 0.2896971486419213, 0.5793942972838426, 0.7701155379636971, 0.2575092655882043, 0.2575092655882043, 0.5150185311764086, 0.5164679008977133, 0.5164679008977133, 0.3211765533260668, 0.6423531066521336, 0.770115474190031, 0.2714312184106458, 0.06785780460266146, 0.20357341380798435, 0.20357341380798435, 0.06785780460266146, 0.1357156092053229, 0.867086114167763, 0.19685098354984754, 0.19685098354984754, 0.19685098354984754, 0.39370196709969507, 0.3686072863948225, 0.737214572789645, 0.8493832464541711, 0.42401565162228944, 0.42401565162228944, 0.45310615744319105, 0.45310615744319105, 0.6755361361296484, 0.3377680680648242, 0.14219534557845545, 0.2843906911569109, 0.14219534557845545, 0.14219534557845545, 0.14219534557845545, 0.3436745328947801, 0.3436745328947801, 0.3436745328947801, 0.344232267275667, 0.344232267275667, 0.1721161336378335, 0.1721161336378335, 0.9541886058747691, 0.9541886058747691, 0.9049201350378674, 0.9541886058747691, 0.9541886058747691, 0.6972457673138863, 0.23241525577129546, 0.642045537956409, 0.642045537956409, 0.6076491839505951, 0.6841512159556775, 0.5599211979530908, 0.3608614079857577, 0.18043070399287886, 0.3608614079857577, 0.5701525475661411, 0.5297024292822962, 0.17656747642743206, 0.17656747642743206, 0.4432055846303854, 0.332404188472789, 0.11080139615759635, 0.11080139615759635, 0.9541886058747691, 0.9541886058747691, 0.9049201350378674, 0.9541886058747691, 0.9541886058747691, 0.9049201350378674, 0.9541886058747691, 0.37573536969829635, 0.37573536969829635, 0.9231879629103028, 0.9231879629103028, 0.9231879629103028, 0.9231879629103028, 0.9231879629103028, 0.9231879629103028, 0.9231879629103028, 0.9231879629103028, 0.9231879629103028, 0.9231879629103028, 0.9231879629103028, 0.9231879629103028, 0.9231879629103028, 0.9231879629103028, 0.9231879629103028, 0.9231879629103028, 0.9231879629103028, 0.11993783760158451, 0.5996891880079225, 0.23987567520316902, 0.11993783760158451, 0.6267801371808172, 0.3133900685904086, 0.8123259413044295, 0.8123259413044295, 0.8123259413044295, 0.8123259413044295, 0.8123259413044295, 0.8123259413044295, 0.8123259413044295, 0.8123259413044295, 0.8123259413044295, 0.65219748412942, 0.8123259413044295, 0.8123259413044295, 0.8123259413044295, 0.6349866642402636, 0.3174933321201318, 0.30202974894800455, 0.30202974894800455, 0.7701156078062881, 0.885661715114397, 0.7612492037800039, 0.7612492037800039, 0.4703222237596019, 0.4703222237596019, 0.6420466612741731, 0.6420466612741731, 0.6420466612741731, 0.6420466612741731, 0.6420466612741731, 0.6420466612741731, 0.6420466612741731, 0.7609864747075366, 0.5647751078402621, 0.18825836928008735, 0.18825836928008735, 0.4337944306676941, 0.4337944306676941, 0.4337944306676941, 0.4337944306676941, 0.2087265144635961, 0.6261795433907883, 0.93555571303316, 0.93555571303316, 0.867086114167763, 0.9240762375040737, 0.26631592800494713, 0.5326318560098943, 0.9541886058747691, 0.22525188273262964, 0.6757556481978889, 0.11262594136631482, 0.6994876794364733, 0.2847546719083442, 0.5695093438166884, 0.2847546719083442, 0.5599211979391929, 0.8211437681062248, 0.0684286473421854, 0.0684286473421854, 0.778382258394179, 0.1556764516788358, 0.5701519250087471, 0.5701519250087471, 0.93555571303316, 0.8123259413044295, 0.6076488408892456, 0.8123260019890733, 0.8123260019890733, 0.2284110414167011, 0.6852331242501033, 0.6420465011925637, 0.2513919229285345, 0.2513919229285345, 0.2513919229285345, 0.2513919229285345, 0.6076401615238013, 0.6076474106156504, 0.5701525833448414, 0.9541886058747691, 0.47389327686181365, 0.47389327686181365, 0.9355556293660671, 0.8123259413044295, 0.8123259413044295, 0.8123259413044295, 0.31135883416567817, 0.31135883416567817, 0.31135883416567817, 0.5701519250087471, 0.5701519250087471, 0.5701519250087471, 0.3104152481180621, 0.3104152481180621, 0.3104152481180621, 0.6420466612741731, 0.6420466612741731, 0.6420466612741731, 0.6420466612741731, 0.7709496469755769, 0.2569832156585256, 0.7601924262862273, 0.6317723193343057, 0.31588615966715283, 0.7701155493719625, 0.6521976302871215, 0.2152263502103037, 0.2152263502103037, 0.2152263502103037, 0.2152263502103037, 0.14050425460876703, 0.14050425460876703, 0.14050425460876703, 0.28100850921753406, 0.28100850921753406, 0.14050425460876703, 0.6076490150302272, 0.33633003801734035, 0.33633003801734035, 0.33633003801734035, 0.6076480807273392, 0.9541886058747691, 0.9541886058747691, 0.9541886058747691, 0.5384963402007175, 0.26924817010035873, 0.26924817010035873, 0.6994876794404175, 0.5599221057537924, 0.5599208217538579, 0.38471521564400274, 0.5770728234660041, 0.7709496322603455, 0.2569832107534485, 0.9127377563109321, 0.9127377563109321, 0.7601924262862273, 0.9476137728389332, 0.7701161062382291, 0.8855008598641, 0.9127377327813005, 0.7612492037750477, 0.23091565537459216, 0.23091565537459216, 0.4618313107491843, 0.28982606253647836, 0.5796521250729567], \"Term\": [\"aabar bvi perniagaan jho\", \"aabar bvi urusan\", \"aabar urusan perniagaan\", \"aabar urusan perniagaan jho\", \"ahli\", \"ahli\", \"ahli\", \"ahli\", \"ahli\", \"aktiviti\", \"allahyarham nik\", \"amanah\", \"amanah\", \"amanah\", \"anak\", \"anak\", \"anak\", \"antarabangsa\", \"arah\", \"arah\", \"asasi\", \"asasi manusia\", \"asli\", \"asli\", \"asli\", \"asli\", \"awam\", \"awam\", \"bahasa\", \"bahasa\", \"bandar\", \"bandar\", \"bank\", \"bank\", \"bayar\", \"bayar\", \"beli\", \"benda\", \"berdasarkan\", \"berdasarkan\", \"bergantung\", \"bergantung\", \"berita\", \"berita\", \"berita palsu\", \"berjalan\", \"berjalan\", \"berjalan lancar\", \"berkongsi\", \"berkongsi\", \"berkongsi\", \"berkongsi\", \"berkongsi kemahirannya\", \"berkongsi kemahirannya membangunkan\", \"berkongsi kemahirannya membangunkan bandar\", \"berkongsi membangunkan\", \"berkongsi membangunkan bandar\", \"berkongsi membangunkan kawasan\", \"berkongsi membangunkan kawasan bandar\", \"berkongsi negara\", \"berkongsi negara negara selatan\", \"berkongsi negara selatan\", \"berkongsi negara selatan selatan\", \"berkongsi pembangunannya negara\", \"berkongsi pembangunannya negara selatan\", \"berkongsi pengalaman\", \"berkongsi pengalaman\", \"berkongsi pengalaman bandar\", \"berkongsi pengalaman kawasan\", \"berkongsi pengalaman kawasan bandar\", \"berkongsi pengalaman kemahirannya\", \"berkongsi pengalaman kemahirannya bandar\", \"berkongsi pengalaman kemahirannya kawasan\", \"berkongsi pengalaman kemahirannya membangunkan\", \"berkongsi pengalaman membangunkan bandar\", \"berkongsi pengalaman membangunkan kawasan\", \"berkongsi pengalaman negara\", \"berkongsi pengalaman negara selatan\", \"berkongsi pengalaman pembangunannya negara\", \"berkongsi pengalaman pembangunannya selatan\", \"berlaku\", \"berlaku\", \"berlaku\", \"berlaku jemaah\", \"berlaku jemaah menteri\", \"berlaku menteri\", \"bersatu\", \"bersatu\", \"bertanding\", \"bertanding\", \"bidang\", \"bidang\", \"bidang\", \"bon\", \"br\", \"bvi\", \"bvi perniagaan\", \"bvi perniagaan jho\", \"bvi perniagaan jho low\", \"bvi urusan\", \"bvi urusan jho\", \"bvi urusan jho low\", \"bvi urusan perniagaan\", \"bvi urusan perniagaan jho\", \"bvi urusan perniagaan low\", \"catatan\", \"cina\", \"cina\", \"dakwaan\", \"dakwaan\", \"dana\", \"dana\", \"dana\", \"dana\", \"dasar\", \"dasar\", \"dasar\", \"diambil\", \"dijual\", \"dijual\", \"dikehendaki\", \"dilaksanakan\", \"dilaksanakan\", \"dilaksanakan\", \"diselesaikan\", \"diselesaikan\", \"diselesaikan tempoh\", \"diterima\", \"diterima\", \"diterjemahkan\", \"diterjemahkan\", \"doj\", \"doj\", \"facebook\", \"faktor\", \"faktor\", \"fasal perlembagaan umno\", \"gambar\", \"hak asasi\", \"hak asasi manusia\", \"hak manusia\", \"harapan\", \"harapan\", \"harga\", \"harga\", \"harga\", \"hati\", \"hati\", \"hebat\", \"hutang\", \"hutang\", \"hutang diselesaikan\", \"hutang hutang\", \"hutang mdb\", \"hutang pendek\", \"hutang projek\", \"ilmu\", \"ilmu\", \"ilmu bahasa\", \"ilmu bahasa\", \"individu\", \"islam\", \"islam\", \"islam\", \"isu\", \"isu\", \"isu\", \"isu\", \"jabatan\", \"jawatan\", \"jemaah menteri\", \"jemaah menteri\", \"jho\", \"jho kapal\", \"jho low\", \"jho low kapal\", \"jppm\", \"jppm\", \"jppm\", \"jppm pendaftaran\", \"jppm pendaftaran ph\", \"kapal\", \"kawasan\", \"kawasan bandar\", \"kebenaran\", \"kedudukan\", \"kegiatan\", \"kegiatan kehidupan\", \"kegiatan kehidupan penduduk\", \"kegiatan penduduk\", \"kehakiman\", \"kehidupan\", \"kekuatan\", \"keluarga\", \"keluarga\", \"kelulusan\", \"kemahirannya\", \"kemahirannya bandar\", \"kemahirannya kawasan\", \"kemahirannya kawasan bandar\", \"kemahirannya membangunkan\", \"kemahirannya membangunkan bandar\", \"kemahirannya membangunkan kawasan\", \"kemahirannya membangunkan kawasan bandar\", \"kemenangan\", \"kemenangan parti\", \"kementerian\", \"kementerian\", \"kementerian\", \"kenyataan\", \"kenyataan\", \"kenyataan\", \"kenyataan\", \"kepentingan\", \"kepimpinan\", \"kepimpinan\", \"kepimpinan negara\", \"kepimpinan negeri\", \"keputusan\", \"keputusan\", \"keputusan umno\", \"kerajaan\", \"kerajaan\", \"kerajaan\", \"kerajaan\", \"kerajaan\", \"kerajaan\", \"kerajaan negara\", \"keras\", \"kerja\", \"kerja\", \"kerjasama teknikal malaysia\", \"kerjasama teknikal malaysia berkongsi\", \"kesediaan berkongsi pembangunannya negara\", \"kesediaan berkongsi pengalaman negara\", \"kesediaan malaysia berkongsi negara\", \"kesediaan malaysia pembangunannya negara\", \"kesediaan malaysia pengalaman negara\", \"kewangan\", \"kewangan\", \"kewangan hutang\", \"kewangan hutang hutang\", \"komitmen\", \"kuok\", \"kwsp\", \"kwsp\", \"kwsp dakwaan\", \"lakukan\", \"lakukan\", \"lancar\", \"langkah\", \"laporan\", \"lihat\", \"low\", \"low\", \"low kapal\", \"majlis\", \"majlis tertinggi\", \"malaysia\", \"malaysia\", \"malaysia\", \"malaysia\", \"malaysia\", \"malaysia\", \"malaysia\", \"malaysia\", \"malaysia berkongsi\", \"malaysia berkongsi\", \"malaysia berkongsi negara\", \"malaysia berkongsi negara selatan\", \"malaysia berkongsi pengalaman\", \"malaysia berkongsi pengalaman\", \"malaysia berkongsi pengalaman pembangunannya\", \"malaysia memainkan berkongsi membangunkan\", \"malaysia memainkan berkongsi pengalaman\", \"malaysia memainkan kemahirannya\", \"malaysia pembangunannya negara\", \"malaysia pembangunannya negara selatan\", \"malaysia pengalaman\", \"malaysia pengalaman\", \"malaysia pengalaman negara\", \"malaysia pengalaman negara selatan\", \"malaysia pengalaman pembangunannya negara\", \"manusia\", \"masyarakat\", \"masyarakat\", \"masyarakat\", \"masyarakat\", \"masyarakat\", \"masyarakat\", \"masyarakat\", \"mca\", \"mdb\", \"mdb\", \"mdb\", \"mdb\", \"mdb hutang\", \"mdb hutang pendek\", \"melebihi tempoh\", \"memainkan\", \"memainkan berkongsi pengalaman membangunkan\", \"memainkan kemahirannya\", \"memainkan kemahirannya membangunkan\", \"memainkan kemahirannya membangunkan kawasan\", \"memainkan pengalaman\", \"memainkan pengalaman kemahirannya\", \"memainkan pengalaman kemahirannya kawasan\", \"memainkan pengalaman kemahirannya membangunkan\", \"memainkan pengalaman membangunkan\", \"memainkan pengalaman membangunkan kawasan\", \"memainkan peranan\", \"memainkan peranan berkongsi\", \"memainkan peranan berkongsi kawasan\", \"memainkan peranan berkongsi kemahirannya\", \"memainkan peranan berkongsi membangunkan\", \"memainkan peranan berkongsi pengalaman\", \"memainkan peranan kemahirannya\", \"memainkan peranan kemahirannya kawasan\", \"memainkan peranan kemahirannya membangunkan\", \"memainkan peranan membangunkan\", \"memainkan peranan pengalaman kawasan\", \"memainkan peranan pengalaman kemahirannya\", \"memalukan\", \"membangun\", \"membangun\", \"membangun malaysia peranan kemahirannya\", \"membangun memainkan berkongsi pengalaman\", \"membangun memainkan peranan berkongsi\", \"membangun memainkan peranan kemahirannya\", \"membangun memainkan peranan pengalaman\", \"membangun peranan\", \"membangun peranan berkongsi\", \"membangun peranan berkongsi kemahirannya\", \"membangun peranan berkongsi pengalaman\", \"membangun peranan pengalaman\", \"membangun peranan pengalaman kemahirannya\", \"membangunkan\", \"membangunkan\", \"membantu negara\", \"membantu negara bidang\", \"membantu negara bidang ekonomi\", \"membantu negara bidang perancangan\", \"membantu negara maju\", \"membantu negara maju bidang\", \"membantu negara maju ekonomi\", \"membantu negara maju perancangan\", \"membantu negara perancangan\", \"membantu negara perancangan ekonomi\", \"membeli\", \"membolehkan\", \"memilih\", \"menangguhkan\", \"mengambil\", \"mengambil\", \"mengambil tindakan\", \"mengundi\", \"meningkatkan\", \"meningkatkan\", \"menjual\", \"menjual\", \"menteri\", \"menteri\", \"menteri\", \"menteri najib\", \"menteri najib razak\", \"menteri perdana\", \"menteri razak\", \"menteri seri\", \"menteri seri najib\", \"menteri seri najib razak\", \"menteri seri razak\", \"menulis\", \"menulis kenyataan\", \"merujuk\", \"merujuk\", \"mewujudkan kewangan\", \"najib\", \"najib\", \"najib razak\", \"negara\", \"negara\", \"negara\", \"negara\", \"negara\", \"negara\", \"negara\", \"negara\", \"negara bidang\", \"negara bidang ekonomi\", \"negara bidang ekonomi kewangan\", \"negara bidang perancangan\", \"negara bidang perancangan ekonomi\", \"negara bidang perancangan kewangan\", \"negara maju\", \"negara maju bidang\", \"negara maju bidang ekonomi\", \"negara maju bidang kewangan\", \"negara maju bidang perancangan\", \"negara maju ekonomi\", \"negara maju ekonomi kewangan\", \"negara maju perancangan\", \"negara maju perancangan ekonomi\", \"negara maju perancangan kewangan\", \"negara malaysia\", \"negara malaysia\", \"negara malaysia\", \"negara memainkan berkongsi\", \"negara memainkan berkongsi pengalaman\", \"negara membangun\", \"negara membangun\", \"negara membangun malaysia memainkan\", \"negara membangun malaysia pengalaman\", \"negara membangun malaysia peranan\", \"negara membangun memainkan\", \"negara membangun memainkan berkongsi\", \"negara membangun memainkan pengalaman\", \"negara membangun peranan berkongsi\", \"negara negara selatan\", \"negara perancangan\", \"negara perancangan ekonomi\", \"negara perancangan ekonomi kewangan\", \"negara selatan\", \"negara selatan selatan\", \"negeri\", \"negeri\", \"nik\", \"nilai\", \"nilai\", \"nilai\", \"pakatan\", \"pakatan\", \"pakatan harapan\", \"pakatan harapan\", \"palsu\", \"parti\", \"parti\", \"parti\", \"parti\", \"parti\", \"parti\", \"parti pilihanraya\", \"pas\", \"pas\", \"pas\", \"pas\", \"pas parti\", \"pas parti\", \"pasaran\", \"pekan\", \"pekan\", \"pelaburan\", \"pelaburan\", \"pelaksanaan\", \"pelaksanaan\", \"pelbagai\", \"pelbagai\", \"pelbagai\", \"pelbagai\", \"pelbagai\", \"pembangkang\", \"pembangkang\", \"pembangkang\", \"pembangunan\", \"pembangunan\", \"pembangunan\", \"pembangunan\", \"pembangunannya negara\", \"pembangunannya negara negara selatan\", \"pembangunannya negara selatan\", \"pembangunannya negara selatan selatan\", \"pembangunannya selatan\", \"pemilihan\", \"pemilihan\", \"pemilihan melebihi tempoh\", \"pemilihan tempoh\", \"pencarian\", \"pendaftaran\", \"pendaftaran ph\", \"pendapatan\", \"pendapatan\", \"pendapatan\", \"pendek\", \"pendidikan\", \"pendidikan\", \"pendidikan\", \"pengalaman\", \"pengalaman\", \"pengalaman\", \"pengalaman\", \"pengalaman negara\", \"pengalaman negara negara selatan\", \"pengalaman negara selatan\", \"pengalaman negara selatan selatan\", \"pengalaman pembangunannya negara\", \"pengalaman pembangunannya negara selatan\", \"pengalaman pembangunannya selatan\", \"pengurusan\", \"pengurusan\", \"peranan berkongsi pengalaman kemahirannya\", \"peranan kemahirannya membangunkan\", \"peranan kemahirannya membangunkan bandar\", \"peranan kemahirannya membangunkan kawasan\", \"peranan membangunkan\", \"peranan membangunkan kawasan\", \"peranan membangunkan kawasan bandar\", \"peranan pengalaman\", \"peranan pengalaman kawasan\", \"peranan pengalaman kawasan bandar\", \"peranan pengalaman kemahirannya\", \"peranan pengalaman kemahirannya bandar\", \"peranan pengalaman kemahirannya kawasan\", \"peranan pengalaman kemahirannya membangunkan\", \"peranan pengalaman membangunkan\", \"peranan pengalaman membangunkan bandar\", \"peranan pengalaman membangunkan kawasan\", \"perdana\", \"perdana\", \"perdana\", \"perdana\", \"perdana menteri\", \"perdana menteri\", \"perdana menteri najib\", \"perdana menteri najib razak\", \"perdana menteri razak\", \"perdana menteri seri\", \"perdana menteri seri najib\", \"perdana menteri seri razak\", \"perdana najib\", \"perdana najib razak\", \"perdana razak\", \"perdana seri\", \"perdana seri najib\", \"perdana seri najib razak\", \"perdana seri razak\", \"peringkat\", \"peringkat\", \"perlembagaan\", \"perlembagaan\", \"perlembagaan umno\", \"perniagaan\", \"perniagaan jho\", \"perniagaan low\", \"pertimbangan\", \"pertimbangan\", \"pertimbangan kenyataan\", \"pertimbangan menulis\", \"pertimbangan menulis kenyataan\", \"pertimbangan sewajarnya\", \"pertimbangan sewajarnya kenyataan\", \"pertimbangan sewajarnya menulis\", \"pertimbangan sewajarnya menulis kenyataan\", \"pertubuhan\", \"pertumbuhan\", \"pertumbuhan\", \"pertumbuhan\", \"pesara\", \"pesara\", \"pesara tentera\", \"pesara tentera\", \"ph\", \"ph\", \"pilihan\", \"pilihan raya\", \"pilihanraya\", \"pimpinan\", \"politik\", \"politik\", \"program kerjasama teknikal malaysia\", \"projek\", \"projek\", \"projek\", \"projek projek\", \"pru\", \"pru\", \"pru\", \"putrajaya\", \"rakyat\", \"rakyat\", \"rakyat\", \"rakyat malaysia\", \"rakyat malaysia\", \"rakyat serius\", \"rakyat serius kepimpinan\", \"raya\", \"razak\", \"resolusi\", \"robert\", \"robert kuok\", \"ros\", \"ros\", \"ros parti\", \"rumah\", \"rumah\", \"rumah\", \"rumah\", \"sah\", \"sarawak\", \"sedia\", \"selatan\", \"selesaikan\", \"selesaikan\", \"seri\", \"seri najib\", \"seri najib razak\", \"seri razak\", \"serius\", \"serius\", \"serius\", \"serius kepimpinan\", \"serius kepimpinan negeri\", \"serius negeri\", \"sewa\", \"sewa\", \"sewa\", \"sewajarnya\", \"sewajarnya kenyataan\", \"sewajarnya menulis\", \"sewajarnya menulis kenyataan\", \"sivil\", \"sivil\", \"sivil doj\", \"status\", \"status\", \"status umno\", \"sukan\", \"sumber\", \"sumber\", \"sumber\", \"sumber\", \"syarikat\", \"syarikat\", \"syarikat\", \"syarikat\", \"syarikat\", \"syarikat\", \"tahunan\", \"tanah\", \"tanah\", \"tanah\", \"tangguh\", \"teknikal malaysia\", \"teknikal malaysia berkongsi\", \"teknikal malaysia berkongsi pengalaman\", \"tempoh\", \"tempoh\", \"tempoh\", \"tempoh hutang\", \"terdekat\", \"teruk\", \"tindakan\", \"tindakan\", \"tuntutan\", \"tuntutan\", \"tuntutan doj\", \"tuntutan sivil\", \"tuntutan sivil doj\", \"umno\", \"umno pemilihan\", \"undi\", \"urusan\", \"urusan perniagaan\", \"wang\", \"wang\", \"wang\", \"wujud\", \"wujud\"]}, \"R\": 30, \"lambda.step\": 0.01, \"plot.opts\": {\"xlab\": \"PC1\", \"ylab\": \"PC2\"}, \"topic.order\": [3, 5, 7, 6, 10, 8, 2, 4, 9, 1]};\n",
       "\n",
       "function LDAvis_load_lib(url, callback){\n",
       "  var s = document.createElement('script');\n",
       "  s.src = url;\n",
       "  s.async = true;\n",
       "  s.onreadystatechange = s.onload = callback;\n",
       "  s.onerror = function(){console.warn(\"failed to load library \" + url);};\n",
       "  document.getElementsByTagName(\"head\")[0].appendChild(s);\n",
       "}\n",
       "\n",
       "if(typeof(LDAvis) !== \"undefined\"){\n",
       "   // already loaded: just create the visualization\n",
       "   !function(LDAvis){\n",
       "       new LDAvis(\"#\" + \"ldavis_el3979053833229604224935860\", ldavis_el3979053833229604224935860_data);\n",
       "   }(LDAvis);\n",
       "}else if(typeof define === \"function\" && define.amd){\n",
       "   // require.js is available: use it to load d3/LDAvis\n",
       "   require.config({paths: {d3: \"https://cdnjs.cloudflare.com/ajax/libs/d3/3.5.5/d3.min\"}});\n",
       "   require([\"d3\"], function(d3){\n",
       "      window.d3 = d3;\n",
       "      LDAvis_load_lib(\"https://cdn.rawgit.com/bmabey/pyLDAvis/files/ldavis.v1.0.0.js\", function(){\n",
       "        new LDAvis(\"#\" + \"ldavis_el3979053833229604224935860\", ldavis_el3979053833229604224935860_data);\n",
       "      });\n",
       "    });\n",
       "}else{\n",
       "    // require.js not available: dynamically load d3 & LDAvis\n",
       "    LDAvis_load_lib(\"https://cdnjs.cloudflare.com/ajax/libs/d3/3.5.5/d3.min.js\", function(){\n",
       "         LDAvis_load_lib(\"https://cdn.rawgit.com/bmabey/pyLDAvis/files/ldavis.v1.0.0.js\", function(){\n",
       "                 new LDAvis(\"#\" + \"ldavis_el3979053833229604224935860\", ldavis_el3979053833229604224935860_data);\n",
       "            })\n",
       "         });\n",
       "}\n",
       "</script>"
      ],
      "text/plain": [
       "PreparedData(topic_coordinates=              x         y  topics  cluster       Freq\n",
       "topic                                                \n",
       "2     -0.254482 -0.150247       1        1  27.380982\n",
       "4      0.221478 -0.177094       2        1  21.741016\n",
       "6     -0.003626  0.152064       3        1  11.911161\n",
       "5      0.005584  0.051794       4        1   7.766372\n",
       "9      0.010663  0.067119       5        1   7.729936\n",
       "7      0.008129  0.013925       6        1   6.069384\n",
       "1      0.006833  0.051836       7        1   5.490742\n",
       "3      0.005244  0.002880       8        1   4.802422\n",
       "8      0.003272  0.002078       9        1   3.932834\n",
       "0     -0.003094 -0.014355      10        1   3.175151, topic_info=     Category       Freq        Term      Total  loglift  logprob\n",
       "1768  Default  14.000000      rakyat  14.000000  30.0000  30.0000\n",
       "1294  Default  14.000000       parti  14.000000  29.0000  29.0000\n",
       "1755  Default   8.000000      projek   8.000000  28.0000  28.0000\n",
       "1993  Default   8.000000        umno   8.000000  27.0000  27.0000\n",
       "758   Default  25.000000    malaysia  25.000000  26.0000  26.0000\n",
       "...       ...        ...         ...        ...      ...      ...\n",
       "24    Topic10   0.954386        anak   3.516002   2.1458  -5.1454\n",
       "853   Topic10   0.954385  masyarakat   6.187336   1.5806  -5.1454\n",
       "536   Topic10   0.954380   kenyataan   4.271302   1.9512  -5.1454\n",
       "288   Topic10   0.954372        cina   3.832255   2.0597  -5.1454\n",
       "1961  Topic10   0.954366      tempoh   3.714046   2.0910  -5.1454\n",
       "\n",
       "[531 rows x 6 columns], token_table=      Topic      Freq                         Term\n",
       "term                                              \n",
       "3         4  0.508206     aabar bvi perniagaan jho\n",
       "4         4  0.508206             aabar bvi urusan\n",
       "8         4  0.508206      aabar urusan perniagaan\n",
       "9         4  0.508206  aabar urusan perniagaan jho\n",
       "10        4  0.147186                         ahli\n",
       "...     ...       ...                          ...\n",
       "2010      6  0.230916                         wang\n",
       "2010      7  0.230916                         wang\n",
       "2010      9  0.461831                         wang\n",
       "2012      2  0.289826                        wujud\n",
       "2012      5  0.579652                        wujud\n",
       "\n",
       "[666 rows x 3 columns], R=30, lambda_step=0.01, plot_opts={'xlab': 'PC1', 'ylab': 'PC2'}, topic_order=[3, 5, 7, 6, 10, 8, 2, 4, 9, 1])"
      ]
     },
     "execution_count": 7,
     "metadata": {},
     "output_type": "execute_result"
    }
   ],
   "source": [
    "lda.visualize_topics(notebook_mode = True)"
   ]
  },
  {
   "cell_type": "markdown",
   "metadata": {},
   "source": [
    "## Train NMF model"
   ]
  },
  {
   "cell_type": "code",
   "execution_count": 8,
   "metadata": {},
   "outputs": [
    {
     "data": {
      "text/html": [
       "<div>\n",
       "<style scoped>\n",
       "    .dataframe tbody tr th:only-of-type {\n",
       "        vertical-align: middle;\n",
       "    }\n",
       "\n",
       "    .dataframe tbody tr th {\n",
       "        vertical-align: top;\n",
       "    }\n",
       "\n",
       "    .dataframe thead th {\n",
       "        text-align: right;\n",
       "    }\n",
       "</style>\n",
       "<table border=\"1\" class=\"dataframe\">\n",
       "  <thead>\n",
       "    <tr style=\"text-align: right;\">\n",
       "      <th></th>\n",
       "      <th>topic 0</th>\n",
       "      <th>topic 1</th>\n",
       "      <th>topic 2</th>\n",
       "      <th>topic 3</th>\n",
       "      <th>topic 4</th>\n",
       "    </tr>\n",
       "  </thead>\n",
       "  <tbody>\n",
       "    <tr>\n",
       "      <th>0</th>\n",
       "      <td>negara</td>\n",
       "      <td>negara</td>\n",
       "      <td>menteri</td>\n",
       "      <td>mdb</td>\n",
       "      <td>projek</td>\n",
       "    </tr>\n",
       "    <tr>\n",
       "      <th>1</th>\n",
       "      <td>bangun</td>\n",
       "      <td>wang</td>\n",
       "      <td>perdana</td>\n",
       "      <td>niaga</td>\n",
       "      <td>jual</td>\n",
       "    </tr>\n",
       "    <tr>\n",
       "      <th>2</th>\n",
       "      <td>sedia</td>\n",
       "      <td>ancang</td>\n",
       "      <td>perdana menteri</td>\n",
       "      <td>doj</td>\n",
       "      <td>syarikat</td>\n",
       "    </tr>\n",
       "    <tr>\n",
       "      <th>3</th>\n",
       "      <td>kongsi</td>\n",
       "      <td>maju</td>\n",
       "      <td>seri</td>\n",
       "      <td>urus</td>\n",
       "      <td>sewa</td>\n",
       "    </tr>\n",
       "    <tr>\n",
       "      <th>4</th>\n",
       "      <td>alam</td>\n",
       "      <td>bidang</td>\n",
       "      <td>najib</td>\n",
       "      <td>low</td>\n",
       "      <td>jual syarikat</td>\n",
       "    </tr>\n",
       "    <tr>\n",
       "      <th>5</th>\n",
       "      <td>malaysia</td>\n",
       "      <td>ekonomi</td>\n",
       "      <td>menteri seri</td>\n",
       "      <td>jho</td>\n",
       "      <td>swasta</td>\n",
       "    </tr>\n",
       "    <tr>\n",
       "      <th>6</th>\n",
       "      <td>kongsi alam</td>\n",
       "      <td>industri</td>\n",
       "      <td>menteri seri najib</td>\n",
       "      <td>urus niaga</td>\n",
       "      <td>indonesia</td>\n",
       "    </tr>\n",
       "    <tr>\n",
       "      <th>7</th>\n",
       "      <td>alam bangun</td>\n",
       "      <td>latih</td>\n",
       "      <td>perdana menteri seri</td>\n",
       "      <td>jho low</td>\n",
       "      <td>tanah</td>\n",
       "    </tr>\n",
       "    <tr>\n",
       "      <th>8</th>\n",
       "      <td>selatan</td>\n",
       "      <td>dagang</td>\n",
       "      <td>razak</td>\n",
       "      <td>tuntut</td>\n",
       "      <td>rana</td>\n",
       "    </tr>\n",
       "    <tr>\n",
       "      <th>9</th>\n",
       "      <td>kongsi alam bangun</td>\n",
       "      <td>didik</td>\n",
       "      <td>najib razak</td>\n",
       "      <td>sivil</td>\n",
       "      <td>kena</td>\n",
       "    </tr>\n",
       "  </tbody>\n",
       "</table>\n",
       "</div>"
      ],
      "text/plain": [
       "              topic 0   topic 1               topic 2     topic 3  \\\n",
       "0              negara    negara               menteri         mdb   \n",
       "1              bangun      wang               perdana       niaga   \n",
       "2               sedia    ancang       perdana menteri         doj   \n",
       "3              kongsi      maju                  seri        urus   \n",
       "4                alam    bidang                 najib         low   \n",
       "5            malaysia   ekonomi          menteri seri         jho   \n",
       "6         kongsi alam  industri    menteri seri najib  urus niaga   \n",
       "7         alam bangun     latih  perdana menteri seri     jho low   \n",
       "8             selatan    dagang                 razak      tuntut   \n",
       "9  kongsi alam bangun     didik           najib razak       sivil   \n",
       "\n",
       "         topic 4  \n",
       "0         projek  \n",
       "1           jual  \n",
       "2       syarikat  \n",
       "3           sewa  \n",
       "4  jual syarikat  \n",
       "5         swasta  \n",
       "6      indonesia  \n",
       "7          tanah  \n",
       "8           rana  \n",
       "9           kena  "
      ]
     },
     "execution_count": 8,
     "metadata": {},
     "output_type": "execute_result"
    }
   ],
   "source": [
    "nmf = malaya.topic_model.nmf(corpus,10)\n",
    "nmf.top_topics(5, top_n = 10, return_df = True)"
   ]
  },
  {
   "cell_type": "code",
   "execution_count": 9,
   "metadata": {},
   "outputs": [
    {
     "data": {
      "text/plain": [
       "['sedia kongsi alam bangun ekonomi sosial negara bangun rangka program kerjasama teknikal malaysia mtcp sedia malaysia kongsi alam bangun negara negara selatan selatan',\n",
       " 'sedia kongsi alam bangun ekonomi sosial negara bangun rangka program kerjasama teknikal malaysia mtcp sedia malaysia kongsi alam bangun negara negara selatan selatan',\n",
       " 'kali kongsi maklumat kena pelbagai khidmat biaya program sedia usahawan wanita iks sabah kongsi idea alam aspirasi promosi produk peringkat luas',\n",
       " 'mou memorandum persefahaman arab saudi bidang selamat kongsi alam pakar malaysia deradikalisasi ganas khusus daesh',\n",
       " 'terusi bentang bajet raja sedia promosi tingkat mudah lancong negara']"
      ]
     },
     "execution_count": 9,
     "metadata": {},
     "output_type": "execute_result"
    }
   ],
   "source": [
    "nmf.get_sentences(5)"
   ]
  },
  {
   "cell_type": "code",
   "execution_count": 10,
   "metadata": {},
   "outputs": [
    {
     "data": {
      "text/plain": [
       "[(0,\n",
       "  'negara bangun sedia kongsi alam malaysia kongsi alam alam bangun selatan kongsi alam bangun'),\n",
       " (1, 'negara wang ancang maju bidang ekonomi industri latih dagang didik'),\n",
       " (2,\n",
       "  'menteri perdana perdana menteri seri najib menteri seri menteri seri najib perdana menteri seri razak najib razak'),\n",
       " (3, 'mdb niaga doj urus low jho urus niaga jho low tuntut sivil'),\n",
       " (4,\n",
       "  'projek jual syarikat sewa jual syarikat swasta indonesia tanah rana kena'),\n",
       " (5,\n",
       "  'rakyat malaysia negara rakyat malaysia pimpin pimpin negara maklumat kait asas pandang'),\n",
       " (6,\n",
       "  'parti umno tangguh pilih lembaga putus jalan tangguh pilih pilih parti tangguh pilih parti'),\n",
       " (7, 'ajar raja tingkat laku ajar ajar proses didik bidang maju laku raja'),\n",
       " (8,\n",
       "  'bangun malaysia kawasan alam bangun kawasan main bandar kongsi kongsi alam peran'),\n",
       " (9,\n",
       "  'asli masyarakat jakoa bangun perdana ganti arus arus perdana pelopor bangun arus perdana')]"
      ]
     },
     "execution_count": 10,
     "metadata": {},
     "output_type": "execute_result"
    }
   ],
   "source": [
    "nmf.get_topics(10)"
   ]
  },
  {
   "cell_type": "markdown",
   "metadata": {},
   "source": [
    "## Train LSA model"
   ]
  },
  {
   "cell_type": "code",
   "execution_count": 11,
   "metadata": {},
   "outputs": [
    {
     "data": {
      "text/html": [
       "<div>\n",
       "<style scoped>\n",
       "    .dataframe tbody tr th:only-of-type {\n",
       "        vertical-align: middle;\n",
       "    }\n",
       "\n",
       "    .dataframe tbody tr th {\n",
       "        vertical-align: top;\n",
       "    }\n",
       "\n",
       "    .dataframe thead th {\n",
       "        text-align: right;\n",
       "    }\n",
       "</style>\n",
       "<table border=\"1\" class=\"dataframe\">\n",
       "  <thead>\n",
       "    <tr style=\"text-align: right;\">\n",
       "      <th></th>\n",
       "      <th>topic 0</th>\n",
       "      <th>topic 1</th>\n",
       "      <th>topic 2</th>\n",
       "      <th>topic 3</th>\n",
       "      <th>topic 4</th>\n",
       "    </tr>\n",
       "  </thead>\n",
       "  <tbody>\n",
       "    <tr>\n",
       "      <th>0</th>\n",
       "      <td>negara</td>\n",
       "      <td>negara</td>\n",
       "      <td>negara</td>\n",
       "      <td>mdb</td>\n",
       "      <td>projek</td>\n",
       "    </tr>\n",
       "    <tr>\n",
       "      <th>1</th>\n",
       "      <td>bangun</td>\n",
       "      <td>wang</td>\n",
       "      <td>maju</td>\n",
       "      <td>niaga</td>\n",
       "      <td>jual</td>\n",
       "    </tr>\n",
       "    <tr>\n",
       "      <th>2</th>\n",
       "      <td>malaysia</td>\n",
       "      <td>menteri</td>\n",
       "      <td>maju bidang</td>\n",
       "      <td>doj</td>\n",
       "      <td>malaysia</td>\n",
       "    </tr>\n",
       "    <tr>\n",
       "      <th>3</th>\n",
       "      <td>kongsi</td>\n",
       "      <td>mdb</td>\n",
       "      <td>bidang</td>\n",
       "      <td>urus</td>\n",
       "      <td>raja</td>\n",
       "    </tr>\n",
       "    <tr>\n",
       "      <th>4</th>\n",
       "      <td>alam</td>\n",
       "      <td>raja</td>\n",
       "      <td>teknikal</td>\n",
       "      <td>jho</td>\n",
       "      <td>syarikat</td>\n",
       "    </tr>\n",
       "    <tr>\n",
       "      <th>5</th>\n",
       "      <td>kongsi alam</td>\n",
       "      <td>didik</td>\n",
       "      <td>didik</td>\n",
       "      <td>urus niaga</td>\n",
       "      <td>ajar</td>\n",
       "    </tr>\n",
       "    <tr>\n",
       "      <th>6</th>\n",
       "      <td>sedia</td>\n",
       "      <td>maju</td>\n",
       "      <td>negara negara</td>\n",
       "      <td>low</td>\n",
       "      <td>tingkat</td>\n",
       "    </tr>\n",
       "    <tr>\n",
       "      <th>7</th>\n",
       "      <td>selatan</td>\n",
       "      <td>bidang</td>\n",
       "      <td>tani didik latih</td>\n",
       "      <td>jho low</td>\n",
       "      <td>sewa</td>\n",
       "    </tr>\n",
       "    <tr>\n",
       "      <th>8</th>\n",
       "      <td>alam bangun</td>\n",
       "      <td>maju bidang</td>\n",
       "      <td>teknikal industri</td>\n",
       "      <td>tuntut</td>\n",
       "      <td>rakyat</td>\n",
       "    </tr>\n",
       "    <tr>\n",
       "      <th>9</th>\n",
       "      <td>kongsi alam bangun</td>\n",
       "      <td>rakyat</td>\n",
       "      <td>industri diplomasi</td>\n",
       "      <td>tuntut sivil</td>\n",
       "      <td>jual syarikat</td>\n",
       "    </tr>\n",
       "  </tbody>\n",
       "</table>\n",
       "</div>"
      ],
      "text/plain": [
       "              topic 0      topic 1             topic 2       topic 3  \\\n",
       "0              negara       negara              negara           mdb   \n",
       "1              bangun         wang                maju         niaga   \n",
       "2            malaysia      menteri         maju bidang           doj   \n",
       "3              kongsi          mdb              bidang          urus   \n",
       "4                alam         raja            teknikal           jho   \n",
       "5         kongsi alam        didik               didik    urus niaga   \n",
       "6               sedia         maju       negara negara           low   \n",
       "7             selatan       bidang    tani didik latih       jho low   \n",
       "8         alam bangun  maju bidang   teknikal industri        tuntut   \n",
       "9  kongsi alam bangun       rakyat  industri diplomasi  tuntut sivil   \n",
       "\n",
       "         topic 4  \n",
       "0         projek  \n",
       "1           jual  \n",
       "2       malaysia  \n",
       "3           raja  \n",
       "4       syarikat  \n",
       "5           ajar  \n",
       "6        tingkat  \n",
       "7           sewa  \n",
       "8         rakyat  \n",
       "9  jual syarikat  "
      ]
     },
     "execution_count": 11,
     "metadata": {},
     "output_type": "execute_result"
    }
   ],
   "source": [
    "lsa = malaya.topic_model.lsa(corpus,10)\n",
    "lsa.top_topics(5, top_n = 10, return_df = True)"
   ]
  },
  {
   "cell_type": "code",
   "execution_count": 12,
   "metadata": {},
   "outputs": [
    {
     "data": {
      "text/plain": [
       "['sedia kongsi alam bangun ekonomi sosial negara bangun rangka program kerjasama teknikal malaysia mtcp sedia malaysia kongsi alam bangun negara negara selatan selatan',\n",
       " 'sedia kongsi alam bangun ekonomi sosial negara bangun rangka program kerjasama teknikal malaysia mtcp sedia malaysia kongsi alam bangun negara negara selatan selatan',\n",
       " 'negara bangun malaysia main peran kongsi alam mahir bangun kawasan bandar',\n",
       " 'negara bangun malaysia main peran kongsi alam mahir bangun kawasan bandar',\n",
       " 'bantu negara negara maju bidang ancang ekonomi wang dagang tani didik latih teknikal industri diplomasi']"
      ]
     },
     "execution_count": 12,
     "metadata": {},
     "output_type": "execute_result"
    }
   ],
   "source": [
    "lsa.get_sentences(5)"
   ]
  },
  {
   "cell_type": "code",
   "execution_count": 13,
   "metadata": {},
   "outputs": [
    {
     "data": {
      "text/plain": [
       "[(0,\n",
       "  'negara bangun malaysia kongsi alam kongsi alam sedia selatan alam bangun kongsi alam bangun'),\n",
       " (1, 'negara wang menteri mdb raja didik maju bidang maju bidang rakyat'),\n",
       " (2,\n",
       "  'negara maju maju bidang bidang teknikal didik negara negara tani didik latih teknikal industri industri diplomasi'),\n",
       " (3, 'mdb niaga doj urus jho urus niaga low jho low tuntut tuntut sivil'),\n",
       " (4,\n",
       "  'projek jual malaysia raja syarikat ajar tingkat sewa rakyat jual syarikat'),\n",
       " (5,\n",
       "  'parti pilih rakyat tangguh umno pimpin negara malaysia tangguh pilih rakyat malaysia'),\n",
       " (6,\n",
       "  'rakyat malaysia menteri bangun asli perdana kawasan bangun kawasan main peran'),\n",
       " (7,\n",
       "  'ajar tingkat ajar ajar proses raja tingkat maju bidang maju bidang didik raja tingkat tingkat maju didik proses'),\n",
       " (8,\n",
       "  'bangun projek bandar kawasan bangun kawasan main parti peran peran kongsi alam bangun malaysia main'),\n",
       " (9,\n",
       "  'asli masyarakat jakoa tingkat ganti arus pelopor arus perdana bangun arus bangun arus perdana')]"
      ]
     },
     "execution_count": 13,
     "metadata": {},
     "output_type": "execute_result"
    }
   ],
   "source": [
    "lsa.get_topics(10)"
   ]
  }
 ],
 "metadata": {
  "kernelspec": {
   "display_name": "Python 3",
   "language": "python",
   "name": "python3"
  },
  "language_info": {
   "codemirror_mode": {
    "name": "ipython",
    "version": 3
   },
   "file_extension": ".py",
   "mimetype": "text/x-python",
   "name": "python",
   "nbconvert_exporter": "python",
   "pygments_lexer": "ipython3",
   "version": "3.7.5"
  }
 },
 "nbformat": 4,
 "nbformat_minor": 2
}
