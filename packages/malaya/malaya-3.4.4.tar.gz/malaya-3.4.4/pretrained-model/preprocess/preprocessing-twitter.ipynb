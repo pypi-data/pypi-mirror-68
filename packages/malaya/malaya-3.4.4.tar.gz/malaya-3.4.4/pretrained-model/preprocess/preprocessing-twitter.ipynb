{
 "cells": [
  {
   "cell_type": "code",
   "execution_count": 1,
   "metadata": {},
   "outputs": [],
   "source": [
    "# !wget https://huseinhouse-storage.s3-ap-southeast-1.amazonaws.com/bert-bahasa/dumping-twitter-6-july-2019.json\n",
    "# !wget https://malaya-dataset.s3-ap-southeast-1.amazonaws.com/dumping/twitter/2020-02-22-twitter-dump-in.json\n",
    "# !wget https://malaya-dataset.s3-ap-southeast-1.amazonaws.com/dumping/twitter/2020-03-08-twitter-dump-in.json\n",
    "# !wget https://malaya-dataset.s3-ap-southeast-1.amazonaws.com/dumping/twitter/manglish.json"
   ]
  },
  {
   "cell_type": "code",
   "execution_count": 2,
   "metadata": {},
   "outputs": [],
   "source": [
    "import cleaning\n",
    "from tqdm import tqdm"
   ]
  },
  {
   "cell_type": "code",
   "execution_count": 3,
   "metadata": {},
   "outputs": [
    {
     "data": {
      "text/plain": [
       "6597867"
      ]
     },
     "execution_count": 3,
     "metadata": {},
     "output_type": "execute_result"
    }
   ],
   "source": [
    "import json\n",
    "\n",
    "with open('dumping-twitter-6-july-2019.json') as fopen:\n",
    "    twitter = json.load(fopen)\n",
    "len(twitter)"
   ]
  },
  {
   "cell_type": "code",
   "execution_count": 4,
   "metadata": {
    "scrolled": true
   },
   "outputs": [
    {
     "name": "stdout",
     "output_type": "stream",
     "text": [
      "2020-02-22-twitter-dump-in.json\n"
     ]
    },
    {
     "name": "stderr",
     "output_type": "stream",
     "text": [
      "100%|██████████| 1617795/1617795 [00:01<00:00, 1458448.92it/s]\n"
     ]
    },
    {
     "name": "stdout",
     "output_type": "stream",
     "text": [
      "2020-03-08-twitter-dump-in.json\n"
     ]
    },
    {
     "name": "stderr",
     "output_type": "stream",
     "text": [
      "100%|██████████| 1711555/1711555 [00:01<00:00, 1448841.46it/s]\n"
     ]
    }
   ],
   "source": [
    "files = ['2020-02-22-twitter-dump-in.json', '2020-03-08-twitter-dump-in.json']\n",
    "\n",
    "for file in files:\n",
    "    print(file)\n",
    "\n",
    "    with open(file) as fopen:\n",
    "        temp = json.load(fopen)\n",
    "\n",
    "    for i in tqdm(range(len(temp))):\n",
    "        retweet = temp[i]['retweet_text_full']\n",
    "        t = temp[i]['data_text']\n",
    "        if retweet != 'NULL' and len(retweet) > len(t):\n",
    "            t = retweet\n",
    "        twitter.append(t)"
   ]
  },
  {
   "cell_type": "code",
   "execution_count": 5,
   "metadata": {},
   "outputs": [],
   "source": [
    "import json\n",
    "\n",
    "with open('manglish.json') as fopen:\n",
    "    manglish = json.load(fopen)\n",
    "len(manglish)\n",
    "\n",
    "twitter.extend(manglish)"
   ]
  },
  {
   "cell_type": "code",
   "execution_count": 6,
   "metadata": {},
   "outputs": [
    {
     "data": {
      "text/plain": [
       "10835337"
      ]
     },
     "execution_count": 6,
     "metadata": {},
     "output_type": "execute_result"
    }
   ],
   "source": [
    "len(twitter)"
   ]
  },
  {
   "cell_type": "code",
   "execution_count": 7,
   "metadata": {},
   "outputs": [
    {
     "data": {
      "text/plain": [
       "10835335"
      ]
     },
     "execution_count": 7,
     "metadata": {},
     "output_type": "execute_result"
    }
   ],
   "source": [
    "twitter = list(filter(None, twitter))\n",
    "len(twitter)"
   ]
  },
  {
   "cell_type": "code",
   "execution_count": 8,
   "metadata": {},
   "outputs": [
    {
     "name": "stderr",
     "output_type": "stream",
     "text": [
      "100%|██████████| 677208/677208 [00:25<00:00, 26564.98it/s]\n",
      "100%|██████████| 7/7 [00:00<00:00, 19905.17it/s]16.98it/s]\n",
      "100%|██████████| 677208/677208 [00:34<00:00, 19482.49it/s]\n",
      "100%|██████████| 677208/677208 [00:35<00:00, 19342.99it/s]\n",
      "100%|██████████| 677208/677208 [00:34<00:00, 19677.91it/s]\n",
      "100%|██████████| 677208/677208 [00:34<00:00, 19651.20it/s]\n",
      "100%|██████████| 677208/677208 [00:34<00:00, 19448.06it/s]\n",
      "100%|██████████| 677208/677208 [00:34<00:00, 19557.51it/s]\n",
      "100%|██████████| 677208/677208 [00:34<00:00, 19536.54it/s]\n",
      "100%|██████████| 677208/677208 [00:34<00:00, 19741.94it/s]\n",
      "100%|██████████| 677208/677208 [00:34<00:00, 19556.50it/s]\n",
      "100%|██████████| 677208/677208 [00:36<00:00, 18561.65it/s]\n",
      "100%|██████████| 677208/677208 [00:36<00:00, 18334.27it/s]\n",
      "100%|██████████| 677208/677208 [00:42<00:00, 16101.35it/s]\n",
      "100%|██████████| 677208/677208 [00:42<00:00, 15942.85it/s]\n",
      "100%|██████████| 677208/677208 [00:42<00:00, 16037.27it/s]\n",
      "100%|█████████▉| 675449/677208 [00:42<00:00, 17563.75it/s]\n",
      "100%|██████████| 677208/677208 [00:42<00:00, 16078.14it/s]"
     ]
    },
    {
     "name": "stdout",
     "output_type": "stream",
     "text": [
      "CPU times: user 9.03 s, sys: 5.96 s, total: 15 s\n",
      "Wall time: 50.9 s\n"
     ]
    }
   ],
   "source": [
    "%%time\n",
    "\n",
    "twitter = cleaning.multiprocessing(twitter, cleaning.cleaning_strings)"
   ]
  },
  {
   "cell_type": "code",
   "execution_count": 9,
   "metadata": {},
   "outputs": [
    {
     "data": {
      "text/plain": [
       "10800932"
      ]
     },
     "execution_count": 9,
     "metadata": {},
     "output_type": "execute_result"
    }
   ],
   "source": [
    "twitter = list(filter(None, twitter))\n",
    "len(twitter)"
   ]
  },
  {
   "cell_type": "code",
   "execution_count": 10,
   "metadata": {},
   "outputs": [
    {
     "name": "stdout",
     "output_type": "stream",
     "text": [
      "CPU times: user 5.86 s, sys: 2.88 s, total: 8.73 s\n",
      "Wall time: 10.9 s\n"
     ]
    }
   ],
   "source": [
    "%%time\n",
    "\n",
    "temp_vocab = list(set(cleaning.multiprocessing(twitter, cleaning.unique_words)))"
   ]
  },
  {
   "cell_type": "code",
   "execution_count": 11,
   "metadata": {},
   "outputs": [
    {
     "name": "stdout",
     "output_type": "stream",
     "text": [
      "556090\n",
      "CPU times: user 2.83 s, sys: 1.1 s, total: 3.93 s\n",
      "Wall time: 7.95 s\n"
     ]
    }
   ],
   "source": [
    "%%time\n",
    "\n",
    "# important\n",
    "temp_dict = cleaning.multiprocessing(temp_vocab, cleaning.duplicate_dots_marks_exclamations, list_mode = False)\n",
    "print(len(temp_dict))"
   ]
  },
  {
   "cell_type": "code",
   "execution_count": 12,
   "metadata": {},
   "outputs": [
    {
     "name": "stderr",
     "output_type": "stream",
     "text": [
      "100%|██████████| 675058/675058 [00:03<00:00, 183364.70it/s]\n",
      "100%|██████████| 675058/675058 [00:03<00:00, 188094.68it/s]\n",
      "100%|██████████| 675058/675058 [00:03<00:00, 185615.30it/s]\n",
      "100%|██████████| 675058/675058 [00:03<00:00, 184317.14it/s]\n",
      "100%|██████████| 675058/675058 [00:03<00:00, 185877.25it/s]\n",
      "100%|██████████| 675058/675058 [00:03<00:00, 187705.74it/s]\n",
      "100%|██████████| 675058/675058 [00:03<00:00, 186870.28it/s]\n",
      "100%|██████████| 675058/675058 [00:03<00:00, 183391.34it/s]\n",
      "100%|██████████| 675058/675058 [00:03<00:00, 178198.43it/s]\n",
      "100%|██████████| 675058/675058 [00:03<00:00, 174091.49it/s]\n",
      "100%|██████████| 4/4 [00:00<00:00, 2971.52it/s]1518.98it/s]\n",
      "100%|██████████| 675058/675058 [00:04<00:00, 148397.86it/s]\n",
      "100%|██████████| 675058/675058 [00:04<00:00, 145555.26it/s]\n",
      "100%|██████████| 675058/675058 [00:04<00:00, 147883.61it/s]\n",
      "100%|██████████| 675058/675058 [00:04<00:00, 150453.74it/s]\n",
      "100%|██████████| 675058/675058 [00:03<00:00, 223194.35it/s]\n",
      " 95%|█████████▍| 638932/675058 [00:03<00:00, 231006.03it/s]\n",
      "100%|██████████| 675058/675058 [00:04<00:00, 168636.26it/s]"
     ]
    },
    {
     "name": "stdout",
     "output_type": "stream",
     "text": [
      "CPU times: user 11.7 s, sys: 5.48 s, total: 17.2 s\n",
      "Wall time: 19.6 s\n"
     ]
    },
    {
     "data": {
      "text/plain": [
       "10800932"
      ]
     },
     "execution_count": 12,
     "metadata": {},
     "output_type": "execute_result"
    }
   ],
   "source": [
    "%%time\n",
    "\n",
    "twitter = cleaning.multiprocessing_multiple(twitter, temp_dict, cleaning.string_dict_cleaning)\n",
    "\n",
    "twitter = list(filter(None, twitter))\n",
    "len(twitter)"
   ]
  },
  {
   "cell_type": "code",
   "execution_count": 13,
   "metadata": {},
   "outputs": [
    {
     "name": "stdout",
     "output_type": "stream",
     "text": [
      "620\n",
      "CPU times: user 987 ms, sys: 1.31 s, total: 2.29 s\n",
      "Wall time: 3.03 s\n"
     ]
    }
   ],
   "source": [
    "%%time\n",
    "\n",
    "# important\n",
    "temp_dict = cleaning.multiprocessing(temp_vocab, cleaning.remove_underscore, list_mode = False)\n",
    "print(len(temp_dict))"
   ]
  },
  {
   "cell_type": "code",
   "execution_count": 14,
   "metadata": {
    "scrolled": true
   },
   "outputs": [
    {
     "name": "stderr",
     "output_type": "stream",
     "text": [
      "100%|██████████| 675058/675058 [00:03<00:00, 218700.85it/s]\n",
      "100%|██████████| 675058/675058 [00:03<00:00, 219316.15it/s]\n",
      "100%|██████████| 675058/675058 [00:03<00:00, 216973.03it/s]\n",
      "100%|██████████| 675058/675058 [00:03<00:00, 214416.16it/s]\n",
      "100%|██████████| 675058/675058 [00:03<00:00, 220804.52it/s]\n",
      "100%|██████████| 4/4 [00:00<00:00, 25115.59it/s]914.60it/s]\n",
      "100%|██████████| 675058/675058 [00:03<00:00, 220049.07it/s]\n",
      "100%|██████████| 675058/675058 [00:03<00:00, 218158.60it/s]\n",
      "100%|██████████| 675058/675058 [00:03<00:00, 217602.35it/s]\n",
      "100%|██████████| 675058/675058 [00:03<00:00, 220904.90it/s]\n",
      "100%|██████████| 675058/675058 [00:03<00:00, 204698.60it/s]\n",
      "100%|██████████| 675058/675058 [00:04<00:00, 166097.87it/s]\n",
      "100%|██████████| 675058/675058 [00:04<00:00, 166655.90it/s]\n",
      "100%|██████████| 675058/675058 [00:02<00:00, 239134.22it/s]\n",
      "100%|██████████| 675058/675058 [00:04<00:00, 166081.01it/s]\n",
      "100%|██████████| 675058/675058 [00:03<00:00, 168822.64it/s]\n",
      "100%|██████████| 675058/675058 [00:03<00:00, 186646.64it/s]\n"
     ]
    },
    {
     "name": "stdout",
     "output_type": "stream",
     "text": [
      "CPU times: user 6.18 s, sys: 4.65 s, total: 10.8 s\n",
      "Wall time: 12.5 s\n"
     ]
    },
    {
     "data": {
      "text/plain": [
       "10800932"
      ]
     },
     "execution_count": 14,
     "metadata": {},
     "output_type": "execute_result"
    }
   ],
   "source": [
    "%%time\n",
    "\n",
    "twitter = cleaning.multiprocessing_multiple(twitter, temp_dict, cleaning.string_dict_cleaning)\n",
    "\n",
    "twitter = list(filter(None, twitter))\n",
    "len(twitter)"
   ]
  },
  {
   "cell_type": "code",
   "execution_count": 15,
   "metadata": {},
   "outputs": [
    {
     "name": "stdout",
     "output_type": "stream",
     "text": [
      "0\n",
      "CPU times: user 3.06 s, sys: 2.68 s, total: 5.74 s\n",
      "Wall time: 15.2 s\n"
     ]
    }
   ],
   "source": [
    "%%time\n",
    "\n",
    "# important\n",
    "temp_dict = cleaning.multiprocessing(twitter, cleaning.isolate_spamchars, list_mode = False)\n",
    "print(len(temp_dict))"
   ]
  },
  {
   "cell_type": "code",
   "execution_count": 16,
   "metadata": {},
   "outputs": [
    {
     "name": "stderr",
     "output_type": "stream",
     "text": [
      "100%|██████████| 675058/675058 [00:02<00:00, 234727.78it/s]\n",
      "100%|██████████| 675058/675058 [00:02<00:00, 235436.84it/s]\n",
      "100%|██████████| 675058/675058 [00:02<00:00, 232855.42it/s]\n",
      "100%|██████████| 675058/675058 [00:02<00:00, 235662.38it/s]\n",
      "100%|██████████| 675058/675058 [00:02<00:00, 231652.54it/s]\n",
      "100%|██████████| 675058/675058 [00:02<00:00, 236024.04it/s]\n",
      "100%|██████████| 4/4 [00:00<00:00, 16710.37it/s]784.21it/s]\n",
      "100%|██████████| 675058/675058 [00:02<00:00, 233974.41it/s]\n",
      "100%|██████████| 675058/675058 [00:02<00:00, 237335.22it/s]\n",
      "100%|██████████| 675058/675058 [00:02<00:00, 236535.95it/s]\n",
      "100%|██████████| 675058/675058 [00:03<00:00, 185983.38it/s]\n",
      "100%|██████████| 675058/675058 [00:06<00:00, 104079.98it/s]\n",
      "100%|██████████| 675058/675058 [00:06<00:00, 104419.89it/s]\n",
      "100%|██████████| 675058/675058 [00:05<00:00, 128042.48it/s]\n",
      "100%|██████████| 675058/675058 [00:06<00:00, 104909.34it/s]\n",
      "100%|██████████| 675058/675058 [00:06<00:00, 106530.36it/s]\n",
      "100%|██████████| 675058/675058 [00:05<00:00, 113868.87it/s]\n"
     ]
    },
    {
     "name": "stdout",
     "output_type": "stream",
     "text": [
      "CPU times: user 6.84 s, sys: 4.31 s, total: 11.1 s\n",
      "Wall time: 15.5 s\n"
     ]
    },
    {
     "data": {
      "text/plain": [
       "10800932"
      ]
     },
     "execution_count": 16,
     "metadata": {},
     "output_type": "execute_result"
    }
   ],
   "source": [
    "%%time\n",
    "\n",
    "twitter = cleaning.multiprocessing_multiple(twitter, temp_dict, cleaning.string_dict_cleaning)\n",
    "\n",
    "twitter = list(filter(None, twitter))\n",
    "len(twitter)"
   ]
  },
  {
   "cell_type": "code",
   "execution_count": 17,
   "metadata": {},
   "outputs": [
    {
     "name": "stdout",
     "output_type": "stream",
     "text": [
      "81074\n",
      "CPU times: user 1.21 s, sys: 1.32 s, total: 2.52 s\n",
      "Wall time: 2.74 s\n"
     ]
    }
   ],
   "source": [
    "%%time\n",
    "temp_dict = cleaning.multiprocessing(temp_vocab, cleaning.break_short_words, list_mode = False)\n",
    "print(len(temp_dict))"
   ]
  },
  {
   "cell_type": "code",
   "execution_count": 18,
   "metadata": {},
   "outputs": [
    {
     "name": "stderr",
     "output_type": "stream",
     "text": [
      "100%|██████████| 675058/675058 [00:03<00:00, 200921.17it/s]\n",
      "100%|██████████| 675058/675058 [00:03<00:00, 195937.47it/s]\n",
      "100%|██████████| 675058/675058 [00:03<00:00, 196500.73it/s]\n",
      "100%|██████████| 675058/675058 [00:03<00:00, 196780.66it/s]\n",
      "100%|██████████| 675058/675058 [00:03<00:00, 196926.66it/s]\n",
      "100%|██████████| 675058/675058 [00:03<00:00, 197459.89it/s]\n",
      "100%|██████████| 675058/675058 [00:03<00:00, 196976.40it/s]\n",
      "100%|██████████| 675058/675058 [00:03<00:00, 198946.94it/s]\n",
      "100%|██████████| 4/4 [00:00<00:00, 22888.43it/s]993.94it/s]\n",
      "100%|██████████| 675058/675058 [00:03<00:00, 196708.39it/s]\n",
      "100%|██████████| 675058/675058 [00:03<00:00, 183948.70it/s]\n",
      "100%|██████████| 675058/675058 [00:04<00:00, 151851.74it/s]\n",
      "100%|██████████| 675058/675058 [00:04<00:00, 152843.74it/s]\n",
      "100%|██████████| 675058/675058 [00:04<00:00, 153716.57it/s]\n",
      "100%|██████████| 675058/675058 [00:03<00:00, 223785.81it/s]\n",
      "100%|██████████| 675058/675058 [00:04<00:00, 155234.16it/s]\n",
      "100%|██████████| 675058/675058 [00:04<00:00, 163074.02it/s]\n"
     ]
    },
    {
     "name": "stdout",
     "output_type": "stream",
     "text": [
      "CPU times: user 6.99 s, sys: 5 s, total: 12 s\n",
      "Wall time: 14.1 s\n"
     ]
    },
    {
     "data": {
      "text/plain": [
       "10800932"
      ]
     },
     "execution_count": 18,
     "metadata": {},
     "output_type": "execute_result"
    }
   ],
   "source": [
    "%%time\n",
    "\n",
    "twitter = cleaning.multiprocessing_multiple(twitter, temp_dict, cleaning.string_dict_cleaning)\n",
    "\n",
    "twitter = list(filter(None, twitter))\n",
    "len(twitter)"
   ]
  },
  {
   "cell_type": "code",
   "execution_count": 19,
   "metadata": {},
   "outputs": [
    {
     "name": "stdout",
     "output_type": "stream",
     "text": [
      "8917\n",
      "CPU times: user 1.03 s, sys: 1.2 s, total: 2.22 s\n",
      "Wall time: 2.44 s\n"
     ]
    }
   ],
   "source": [
    "%%time\n",
    "temp_dict = cleaning.multiprocessing(temp_vocab, cleaning.break_long_words, list_mode = False)\n",
    "print(len(temp_dict))"
   ]
  },
  {
   "cell_type": "code",
   "execution_count": 20,
   "metadata": {},
   "outputs": [
    {
     "name": "stderr",
     "output_type": "stream",
     "text": [
      "100%|██████████| 675058/675058 [00:03<00:00, 207177.15it/s]\n",
      "100%|██████████| 675058/675058 [00:03<00:00, 213671.45it/s]\n",
      "100%|██████████| 675058/675058 [00:03<00:00, 218071.23it/s]\n",
      "100%|██████████| 675058/675058 [00:03<00:00, 219175.97it/s]\n",
      "100%|██████████| 4/4 [00:00<00:00, 18662.09it/s]261.58it/s]\n",
      "100%|██████████| 675058/675058 [00:03<00:00, 215057.22it/s]\n",
      "100%|██████████| 675058/675058 [00:03<00:00, 213867.05it/s]\n",
      "100%|██████████| 675058/675058 [00:03<00:00, 210044.40it/s]\n",
      "100%|██████████| 675058/675058 [00:03<00:00, 218716.89it/s]\n",
      "100%|██████████| 675058/675058 [00:03<00:00, 215902.48it/s]\n",
      "100%|██████████| 675058/675058 [00:03<00:00, 195697.13it/s]\n",
      "100%|██████████| 675058/675058 [00:04<00:00, 163379.14it/s]\n",
      "100%|██████████| 675058/675058 [00:02<00:00, 237796.34it/s]\n",
      "100%|██████████| 675058/675058 [00:04<00:00, 164338.59it/s]\n",
      "100%|██████████| 675058/675058 [00:04<00:00, 162387.85it/s]\n",
      "100%|██████████| 675058/675058 [00:03<00:00, 184696.04it/s]\n",
      "100%|██████████| 675058/675058 [00:04<00:00, 165523.27it/s]\n"
     ]
    },
    {
     "name": "stdout",
     "output_type": "stream",
     "text": [
      "CPU times: user 6.23 s, sys: 4.38 s, total: 10.6 s\n",
      "Wall time: 12.5 s\n"
     ]
    },
    {
     "data": {
      "text/plain": [
       "10800932"
      ]
     },
     "execution_count": 20,
     "metadata": {},
     "output_type": "execute_result"
    }
   ],
   "source": [
    "%%time\n",
    "\n",
    "twitter = cleaning.multiprocessing_multiple(twitter, temp_dict, cleaning.string_dict_cleaning)\n",
    "\n",
    "twitter = list(filter(None, twitter))\n",
    "len(twitter)"
   ]
  },
  {
   "cell_type": "code",
   "execution_count": 21,
   "metadata": {},
   "outputs": [
    {
     "name": "stdout",
     "output_type": "stream",
     "text": [
      "2163\n",
      "CPU times: user 1.03 s, sys: 1.32 s, total: 2.34 s\n",
      "Wall time: 2.58 s\n"
     ]
    }
   ],
   "source": [
    "%%time\n",
    "temp_dict = cleaning.multiprocessing(temp_vocab, cleaning.remove_ending_underscore, list_mode = False)\n",
    "print(len(temp_dict))"
   ]
  },
  {
   "cell_type": "code",
   "execution_count": 22,
   "metadata": {},
   "outputs": [
    {
     "name": "stderr",
     "output_type": "stream",
     "text": [
      "100%|██████████| 675058/675058 [00:03<00:00, 218302.25it/s]\n",
      "100%|██████████| 675058/675058 [00:03<00:00, 221301.92it/s]\n",
      "100%|██████████| 675058/675058 [00:03<00:00, 220359.18it/s]\n",
      "100%|██████████| 675058/675058 [00:03<00:00, 217719.71it/s]\n",
      "100%|██████████| 675058/675058 [00:03<00:00, 221608.91it/s]\n",
      "100%|██████████| 4/4 [00:00<00:00, 19761.15it/s]688.37it/s]\n",
      "100%|██████████| 675058/675058 [00:03<00:00, 213365.30it/s]\n",
      "100%|██████████| 675058/675058 [00:03<00:00, 218737.42it/s]\n",
      "100%|██████████| 675058/675058 [00:03<00:00, 212673.52it/s]\n",
      "100%|██████████| 675058/675058 [00:03<00:00, 221556.96it/s]\n",
      "100%|██████████| 675058/675058 [00:03<00:00, 205319.73it/s]\n",
      "100%|██████████| 675058/675058 [00:03<00:00, 169624.30it/s]\n",
      "100%|██████████| 675058/675058 [00:04<00:00, 166384.84it/s]\n",
      "100%|██████████| 675058/675058 [00:02<00:00, 238583.42it/s]\n",
      "100%|██████████| 675058/675058 [00:04<00:00, 167014.57it/s]\n",
      "100%|██████████| 675058/675058 [00:04<00:00, 167830.00it/s]\n",
      "100%|██████████| 675058/675058 [00:03<00:00, 186241.60it/s]\n"
     ]
    },
    {
     "name": "stdout",
     "output_type": "stream",
     "text": [
      "CPU times: user 6 s, sys: 4.83 s, total: 10.8 s\n",
      "Wall time: 12.6 s\n"
     ]
    },
    {
     "data": {
      "text/plain": [
       "10800932"
      ]
     },
     "execution_count": 22,
     "metadata": {},
     "output_type": "execute_result"
    }
   ],
   "source": [
    "%%time\n",
    "\n",
    "twitter = cleaning.multiprocessing_multiple(twitter, temp_dict, cleaning.string_dict_cleaning)\n",
    "\n",
    "twitter = list(filter(None, twitter))\n",
    "len(twitter)"
   ]
  },
  {
   "cell_type": "code",
   "execution_count": 23,
   "metadata": {},
   "outputs": [
    {
     "name": "stdout",
     "output_type": "stream",
     "text": [
      "1193\n",
      "CPU times: user 977 ms, sys: 1.23 s, total: 2.2 s\n",
      "Wall time: 2.52 s\n"
     ]
    }
   ],
   "source": [
    "%%time\n",
    "temp_dict = cleaning.multiprocessing(temp_vocab, cleaning.remove_starting_underscore, list_mode = False)\n",
    "print(len(temp_dict))"
   ]
  },
  {
   "cell_type": "code",
   "execution_count": 24,
   "metadata": {},
   "outputs": [
    {
     "name": "stderr",
     "output_type": "stream",
     "text": [
      "100%|██████████| 675058/675058 [00:03<00:00, 221143.99it/s]\n",
      "100%|██████████| 675058/675058 [00:03<00:00, 220834.51it/s]\n",
      "100%|██████████| 675058/675058 [00:03<00:00, 221228.38it/s]\n",
      "100%|██████████| 675058/675058 [00:03<00:00, 215778.47it/s]\n",
      "100%|██████████| 675058/675058 [00:03<00:00, 219266.39it/s]\n",
      "100%|██████████| 4/4 [00:00<00:00, 14327.26it/s]282.00it/s]\n",
      "100%|██████████| 675058/675058 [00:03<00:00, 217514.25it/s]\n",
      "100%|██████████| 675058/675058 [00:03<00:00, 218363.70it/s]\n",
      "100%|██████████| 675058/675058 [00:03<00:00, 216332.57it/s]\n",
      "100%|██████████| 675058/675058 [00:03<00:00, 219427.26it/s]\n",
      "100%|██████████| 675058/675058 [00:03<00:00, 201748.13it/s]\n",
      "100%|██████████| 675058/675058 [00:04<00:00, 168462.24it/s]\n",
      "100%|██████████| 675058/675058 [00:04<00:00, 165993.49it/s]\n",
      "100%|██████████| 675058/675058 [00:02<00:00, 238918.55it/s]\n",
      "100%|██████████| 675058/675058 [00:04<00:00, 166079.48it/s]\n",
      "100%|██████████| 675058/675058 [00:03<00:00, 169856.55it/s]\n",
      "100%|██████████| 675058/675058 [00:03<00:00, 186226.44it/s]\n"
     ]
    },
    {
     "name": "stdout",
     "output_type": "stream",
     "text": [
      "CPU times: user 6.19 s, sys: 4.52 s, total: 10.7 s\n",
      "Wall time: 12.6 s\n"
     ]
    },
    {
     "data": {
      "text/plain": [
       "10800932"
      ]
     },
     "execution_count": 24,
     "metadata": {},
     "output_type": "execute_result"
    }
   ],
   "source": [
    "%%time\n",
    "\n",
    "twitter = cleaning.multiprocessing_multiple(twitter, temp_dict, cleaning.string_dict_cleaning)\n",
    "\n",
    "twitter = list(filter(None, twitter))\n",
    "len(twitter)"
   ]
  },
  {
   "cell_type": "code",
   "execution_count": 25,
   "metadata": {},
   "outputs": [
    {
     "name": "stdout",
     "output_type": "stream",
     "text": [
      "1273916\n",
      "CPU times: user 5.14 s, sys: 1.34 s, total: 6.48 s\n",
      "Wall time: 6.73 s\n"
     ]
    }
   ],
   "source": [
    "%%time\n",
    "temp_dict = cleaning.multiprocessing(temp_vocab, cleaning.end_punct, list_mode = False)\n",
    "print(len(temp_dict))"
   ]
  },
  {
   "cell_type": "code",
   "execution_count": 26,
   "metadata": {},
   "outputs": [
    {
     "name": "stderr",
     "output_type": "stream",
     "text": [
      "100%|██████████| 675058/675058 [00:03<00:00, 177088.05it/s]\n",
      "100%|██████████| 675058/675058 [00:03<00:00, 172145.32it/s]\n",
      "100%|██████████| 675058/675058 [00:03<00:00, 172951.11it/s]\n",
      "100%|██████████| 675058/675058 [00:03<00:00, 173723.84it/s]\n",
      "100%|██████████| 675058/675058 [00:03<00:00, 170000.91it/s]\n",
      "100%|██████████| 675058/675058 [00:03<00:00, 172486.05it/s]\n",
      "100%|██████████| 675058/675058 [00:04<00:00, 145678.19it/s]\n",
      "100%|██████████| 675058/675058 [00:05<00:00, 131088.45it/s]\n",
      "100%|██████████| 675058/675058 [00:06<00:00, 104370.72it/s]\n",
      "100%|██████████| 675058/675058 [00:07<00:00, 92661.69it/s] \n",
      "100%|██████████| 4/4 [00:00<00:00, 20867.18it/s]741.63it/s]\n",
      "100%|██████████| 675058/675058 [00:08<00:00, 84117.19it/s] \n",
      "100%|██████████| 675058/675058 [00:07<00:00, 92999.80it/s] \n",
      "100%|██████████| 675058/675058 [00:06<00:00, 101867.44it/s]\n",
      "100%|██████████| 675058/675058 [00:03<00:00, 215818.73it/s]\n",
      "100%|██████████| 675058/675058 [00:05<00:00, 118767.23it/s]\n",
      "100%|██████████| 675058/675058 [00:04<00:00, 143172.69it/s]\n"
     ]
    },
    {
     "name": "stdout",
     "output_type": "stream",
     "text": [
      "CPU times: user 19.2 s, sys: 7.1 s, total: 26.3 s\n",
      "Wall time: 29.3 s\n"
     ]
    },
    {
     "data": {
      "text/plain": [
       "10800932"
      ]
     },
     "execution_count": 26,
     "metadata": {},
     "output_type": "execute_result"
    }
   ],
   "source": [
    "%%time\n",
    "\n",
    "twitter = cleaning.multiprocessing_multiple(twitter, temp_dict, cleaning.string_dict_cleaning)\n",
    "\n",
    "twitter = list(filter(None, twitter))\n",
    "len(twitter)"
   ]
  },
  {
   "cell_type": "code",
   "execution_count": 27,
   "metadata": {},
   "outputs": [
    {
     "name": "stdout",
     "output_type": "stream",
     "text": [
      "441213\n",
      "CPU times: user 2.44 s, sys: 1.24 s, total: 3.68 s\n",
      "Wall time: 3.87 s\n"
     ]
    }
   ],
   "source": [
    "%%time\n",
    "temp_dict = cleaning.multiprocessing(temp_vocab, cleaning.start_punct, list_mode = False)\n",
    "print(len(temp_dict))"
   ]
  },
  {
   "cell_type": "code",
   "execution_count": 28,
   "metadata": {},
   "outputs": [
    {
     "name": "stderr",
     "output_type": "stream",
     "text": [
      "100%|██████████| 675058/675058 [00:03<00:00, 181358.44it/s]\n",
      "100%|██████████| 675058/675058 [00:03<00:00, 181278.74it/s]\n",
      "100%|██████████| 675058/675058 [00:03<00:00, 182834.56it/s]\n",
      "100%|██████████| 675058/675058 [00:03<00:00, 182142.42it/s]\n",
      "100%|██████████| 675058/675058 [00:03<00:00, 182062.84it/s]\n",
      "100%|██████████| 675058/675058 [00:03<00:00, 180981.59it/s]\n",
      "100%|██████████| 675058/675058 [00:03<00:00, 179091.70it/s]\n",
      "100%|██████████| 675058/675058 [00:03<00:00, 182453.43it/s]\n",
      "100%|██████████| 675058/675058 [00:03<00:00, 180144.44it/s]\n",
      "100%|██████████| 675058/675058 [00:03<00:00, 169373.75it/s]\n",
      "100%|██████████| 4/4 [00:00<00:00, 26337.86it/s]402.11it/s]\n",
      "100%|██████████| 675058/675058 [00:04<00:00, 142336.14it/s]\n",
      "100%|██████████| 675058/675058 [00:04<00:00, 140184.42it/s]\n",
      "100%|██████████| 675058/675058 [00:04<00:00, 140209.93it/s]\n",
      "100%|██████████| 675058/675058 [00:02<00:00, 231807.95it/s]\n",
      "100%|██████████| 675058/675058 [00:04<00:00, 140544.67it/s]\n",
      "100%|██████████| 675058/675058 [00:04<00:00, 163714.08it/s]\n"
     ]
    },
    {
     "name": "stdout",
     "output_type": "stream",
     "text": [
      "CPU times: user 10.7 s, sys: 5.33 s, total: 16 s\n",
      "Wall time: 18.5 s\n"
     ]
    },
    {
     "data": {
      "text/plain": [
       "10800932"
      ]
     },
     "execution_count": 28,
     "metadata": {},
     "output_type": "execute_result"
    }
   ],
   "source": [
    "%%time\n",
    "\n",
    "twitter = cleaning.multiprocessing_multiple(twitter, temp_dict, cleaning.string_dict_cleaning)\n",
    "\n",
    "twitter = list(filter(None, twitter))\n",
    "len(twitter)"
   ]
  },
  {
   "cell_type": "code",
   "execution_count": 29,
   "metadata": {},
   "outputs": [
    {
     "name": "stdout",
     "output_type": "stream",
     "text": [
      "2135\n",
      "CPU times: user 1.05 s, sys: 1.26 s, total: 2.31 s\n",
      "Wall time: 2.84 s\n"
     ]
    }
   ],
   "source": [
    "%%time\n",
    "temp_dict = cleaning.multiprocessing(temp_vocab, cleaning.join_dashes, list_mode = False)\n",
    "print(len(temp_dict))"
   ]
  },
  {
   "cell_type": "code",
   "execution_count": 30,
   "metadata": {},
   "outputs": [
    {
     "name": "stderr",
     "output_type": "stream",
     "text": [
      "100%|██████████| 675058/675058 [00:03<00:00, 199193.40it/s]\n",
      "100%|██████████| 675058/675058 [00:03<00:00, 202639.20it/s]\n",
      "100%|██████████| 675058/675058 [00:03<00:00, 204598.64it/s]\n",
      "100%|██████████| 675058/675058 [00:03<00:00, 198787.06it/s]\n",
      "100%|██████████| 4/4 [00:00<00:00, 15857.48it/s]937.31it/s]\n",
      "100%|██████████| 675058/675058 [00:03<00:00, 204365.21it/s]\n",
      "100%|██████████| 675058/675058 [00:03<00:00, 205273.06it/s]\n",
      "100%|██████████| 675058/675058 [00:03<00:00, 204086.88it/s]\n",
      "100%|██████████| 675058/675058 [00:03<00:00, 206542.70it/s]\n",
      "100%|██████████| 675058/675058 [00:03<00:00, 204142.20it/s]\n",
      "100%|██████████| 675058/675058 [00:03<00:00, 186621.39it/s]\n",
      "100%|██████████| 675058/675058 [00:04<00:00, 155148.51it/s]\n",
      "100%|██████████| 675058/675058 [00:02<00:00, 238801.62it/s]\n",
      "100%|██████████| 675058/675058 [00:04<00:00, 152354.56it/s]\n",
      "100%|██████████| 675058/675058 [00:04<00:00, 150786.71it/s]\n",
      "100%|██████████| 675058/675058 [00:03<00:00, 173128.81it/s]\n",
      "100%|██████████| 675058/675058 [00:04<00:00, 150423.81it/s]\n"
     ]
    },
    {
     "name": "stdout",
     "output_type": "stream",
     "text": [
      "CPU times: user 6.2 s, sys: 4.61 s, total: 10.8 s\n",
      "Wall time: 12.9 s\n"
     ]
    },
    {
     "data": {
      "text/plain": [
       "10800932"
      ]
     },
     "execution_count": 30,
     "metadata": {},
     "output_type": "execute_result"
    }
   ],
   "source": [
    "%%time\n",
    "\n",
    "twitter = cleaning.multiprocessing_multiple(twitter, temp_dict, cleaning.string_dict_cleaning)\n",
    "\n",
    "twitter = list(filter(None, twitter))\n",
    "len(twitter)"
   ]
  },
  {
   "cell_type": "code",
   "execution_count": 31,
   "metadata": {
    "scrolled": false
   },
   "outputs": [
    {
     "data": {
      "text/plain": [
       "['ternyata kl lg sdih bisa ngasilin makanan enak',\n",
       " 'Abu kampret .',\n",
       " 'Bapa saya suka pake Oppo . saya sukanya Nokia . Kaka saya sukanya Samsung . yg penting punya hape aja .',\n",
       " 'Ngelamar kasih cincin tp kok mukanya songong ya sedih gue liatnya',\n",
       " 'Caption iki nggarai uwong males nikah min , ya kali manusia arep punah ngunu neg gak nikah .',\n",
       " 'Pertanyaannya sederhana , jika kami memang dukung Prabowo ngapain selama kampanye kemarin capek2 dukung Jokowi sampa',\n",
       " 'Memiliki sedikit iman lebih berharga dari pada memiliki segudang emas ! # TweetDSAP',\n",
       " 'Untuk mengamankan suara partai , Ahmad Rofiq selaku Sekjen Partai Perindo meminta kepada seluruh caleg dan struktur',\n",
       " 'Dom jakpus sih , bebas mau ketemuan or shopee',\n",
       " 'Bisa dapet duit , ini kaga . Punya mobil juga kan kaya gemer gemer . Ini kaga',\n",
       " 'ON JADAHNYAAA * IN SORRY BAD ENGLISH HIHUHEHEHO',\n",
       " 'Valentino Rossi Tidak Setuju Kompetisi MotoGP Dimulai dari Eropa',\n",
       " 'Sis tak faham , apa yang mungkin ini puncanya tu ?',\n",
       " '\" Martabak Terang Bulan \" \" Martabak \" untuk yg asin / gurih a.k.a martabak telor \" Terang Bulan \" untuk yg manis ( yg gw s',\n",
       " 'Dia dah tua put , dah nak 31 . Plus dia tak start regularly kat man utd so mesti ka',\n",
       " 'sejarah susah',\n",
       " 'Loop in nama dlm email pon boleh jd issue . Dah org email aku reply all jelaaa . Ade mase pulak aku nak tengok satu2 nama recipients',\n",
       " 'tak sakit pun tapi saja nak bau minyak freshcare sbb bau lavender',\n",
       " 'ROSMAH',\n",
       " 'Bila kau tengah feeling lagu raya .',\n",
       " 'Kekasih bayangan .',\n",
       " 'Hidup ni jgn terlalu nk mendongak ke atas , nanti jatuh padan muka kau',\n",
       " 'Pak kim toloong . @BTS_twt # Persona #MAP OF THE SOUL PERSONA',\n",
       " 'Di rumah ga liat pohon kelapa sama nanas kan apalagi pohon pisang',\n",
       " 'wkwk',\n",
       " 'kanan sja bu',\n",
       " 'Tak pon sebelum masuk dapur bagi salam dulu . kan molek gitu .',\n",
       " 'Hilang nyawaku aku tgk',\n",
       " 'Masuk ke channel bang evan ke ni',\n",
       " 'yg minat saya pon bole lekk',\n",
       " 'yer lah sbb sombong mmg lah',\n",
       " 'nti aku tengok dulu tiket dari kl pukul berapa ada nahh',\n",
       " 'Ni pukul berapa tah nak sampai ukm . Tetiba jalan tutup pulak . Kena lalu jalan jauh .',\n",
       " 'Tkpe , hehe asalkan effort ada',\n",
       " 'Kenapa kipas number 3 pun sejuk . Kalau bilik aku sorang ni , aku dah tutup .',\n",
       " 'Google Cabut Lisensi Android Huawei , Bagaimana Nasib Honor ? - - Tekno',\n",
       " 'Dari semalam tak tidur lagi ek . Ni kejap lagi jangan leceh nampak tilam bantal confirm nyenyak punya',\n",
       " 'tidur di ubin . biar ga jatoh lg',\n",
       " 'Guys , tolong rt tweet ni sampai owner dia dapat . Phone ni tertinggal kat belakang teksi pakcik saya . Model Oppo R9s',\n",
       " 'Jujur kacang ijo !',\n",
       " 'Sahur tengah malam kaya nya enak ya .',\n",
       " 'Jenis-jenis orang stalking di media sosial : - Pakai akun palsu . - Pakai akun temannya , sanak saudaranya , handai tau',\n",
       " 'Benersi ga buka sm yg minyak2 aka gorengan &amp ; makan nasi . Tapi abis pudding setengah lingkaran , makannya mi trs ishy',\n",
       " 'Hahahahha bahaya bela kucing comel2 ni sebab nnti hilang kena curi',\n",
       " 'Aku ada motor racing , aku bawa ronda , awek lu bonceng , sedar sedar seluat tkde dah Punca mat rempit takboleh rap',\n",
       " 'Pak prabowo itu vibesnya kebun binatang banget ya Peliharaannya kucing , sukanya naek kuda , kemana-mana pake baju safari',\n",
       " \"Nak happiness bkn pegih ngn laki lain , happiness it's between u and me , bedek uh kau ckp takda happiness , ss sem\",\n",
       " 'Makan serabi enak pas lagi panas . Serabinya terbuat dari kelapa . neng Tasya aa ikhlas .',\n",
       " 'Siapapun orangnya meski dia ustadz bersorban dan berjubah putih , klo sdh k',\n",
       " 'loh kenapa ? kan marga oppa juga lee , pasti enak yaudah oppa jalan - jalan dong , biar bisa liat pemandangan',\n",
       " 'Ada apa yaa mbak mbak plat AG INII',\n",
       " 'kanan',\n",
       " 'Nak mee kari , nak sate , nak laksa , nak bihun sup nakkkkk semuaaaaa',\n",
       " 'jadi lumba lumba',\n",
       " '- STILL 17 - SEDIHBGT ! Kebayang kan betapa sedih lu gak tau gimana lu di waktu 18 tahun,19tahun 20thn dan seteru',\n",
       " '# Lilian Iyaaa , gue di Hima 2 periode ditambah malamnya gue rapat atau latihan ukm . Jadi kalo mau nongkrong bisanya jam 11 keatas .',\n",
       " 'Bangga manfaat \"DILAN \" perputaran uang yg mendukung pertumbuhan ekonomi mikro-makro,mengurangi pengangguran',\n",
       " 'drpd lahir sampai sekarang aku asyik ngantuk je',\n",
       " 'pgn chatime xixi tp jauh :(',\n",
       " 'Dah tak kasi lampu ijo loh . Tinggal pepet to cuk hwhw',\n",
       " 'kecewa .',\n",
       " 'Batok kelapa menjadi bara , Terbakar semua tidak tersisa . Wahai saudara seiman senegara , Saya ucapakan selamat puas',\n",
       " 'JY 91 Liner jgak ke ?',\n",
       " 'Ada benda mcm kotor mcm air susu atas kereta mcm ada org campak . Mula2 ingat mcm taik burung . Tp lain mcm',\n",
       " 'Air koroi',\n",
       " 'Ilmu perpustakaan . Point2 kuliah , ttg manajemen perpustakaan , literasi , informasi , teknologi informasi',\n",
       " 'Ajax spurs lah . Anti menstrim',\n",
       " 'abis telan biji durian kali',\n",
       " 'apaan rambut item .',\n",
       " 'Senin , 22 April 2019 kita memperingati hari Bumi . Bumi kita saat ini lagi menjerit kesakitan karena dirusak untuk m',\n",
       " 'Gaya hidup sihat delayed',\n",
       " 'Lia pulang , mereka semuanya pedo kecuali aku , jangan mau .',\n",
       " 'Bangun lambat . Lepas tu jalan jem gile . Haihhhh so stressss',\n",
       " 'Nice igstory harini , dah tak nmpak org repost sudan meal project tu',\n",
       " 'Gone apa ? Gitu je laa . Sendu sorang',\n",
       " 'Bukan pola pikir seorang profesor hukum tapi cara berpikir seorang pedagang cendol',\n",
       " 'SobaTani , sebagai upaya meningkatkan generasi petani , Kementan membuat terobosan dengan mengubah Sekolah Tinggi Pen',\n",
       " 'Beomgyu ngambilin confetti yang nyangkut di rambut Jimin dong * Liat gini aja soft akutuh - Cha',\n",
       " 'Eh hello bosan tu sbb kau xmenghayati hahaha',\n",
       " 'Crash on 29 Lebuhraya Damansara Puchong - Putrajaya &amp ; Cyberjaya # kltu still delaying traffic 10m more than usual',\n",
       " 'WADUUH KAMU DENGERINNYA SAMBIL MINUM ?',\n",
       " 'Rasa-rasanya kalo lg gapunya duit gini , nemu duit recehan yang nyelip2 dikantong celana atau nemu duit kerincingan',\n",
       " 'anjing lagi having sex gitu kak ?',\n",
       " \"I'm at CSF Computer Exchange 5 (CX5 ) - in Cyberjaya , Selangor Darul Ehsan w /\",\n",
       " '( Clip 1)Percutian yang menarik haruslah dipadankan dengan tempat rare dan istimewa ! Berlatar belakangkan Gunung Santubong dan berhadapan dengan Laut China Selatan oh indahnya dunia . Jom follow instagram kami :',\n",
       " 'Alhamdulillah hari ni iftar Nasi Kerabu Ayam Madu Kak Yong n Laksam buat kali terakhir sebab kak Aini last da berju',\n",
       " 'saya udah sering banget ngadepin jalanan macet di jakarta tapi sejauh ini yg paling anjing sih semuanya',\n",
       " 'Hi , Baby baru bangun Baby emo .',\n",
       " 'Twitter please do ur magic Ini pertama kali nyah gua ngajak jalan dia karna selama bertahun tahun dia kuliah di j',\n",
       " 'Jum CUCKOO bersama NABIL AHMAD',\n",
       " 'Nikammy',\n",
       " 'Resort Datuk Jhon Gani . kuala penyu . boleh bawa keluarga . santai saja tempatnya . pantai nya bersih dan indah . tenan',\n",
       " 'Uni kenapa sistem Masuk sekolah ke tingkat lanjutan terlalu susah skr in',\n",
       " 'Krisis perlembagaan kedua bermula balik dgn orang sama dgn',\n",
       " \"Bagi saya , diusia 20an kata 'jahat ' bukan lagi sesederhana mainan yang dirampas atau buku pr yang dirobek teman . J\",\n",
       " 'Lapor . arah demak tersendat dari tambak lorok 17.11 wib . dan sekarang di terminal terboyo masih rendet .',\n",
       " '* KPH UJUNG TOMBAK PENDUKUNG VISI MISI GUBERNUR KALBAR * Dengan mengoptimalkan tugas dan fungsi pokok kesatuan Peman',\n",
       " 'aku sedih ni tak ada siapa nak hiburkan ke ?',\n",
       " 'gue baru bangun juga lagi males pergi mana rumah gue kek kapal pecah utg kaga main twitter tmn gue zwoakowka kalo ga udh diciduk',\n",
       " 'Legenda sepak bola Brasil Pele sudah bisa pulang dari rumah sakit setelah pulih dari infeksi saluran kemih . Pele ( 7']"
      ]
     },
     "execution_count": 31,
     "metadata": {},
     "output_type": "execute_result"
    }
   ],
   "source": [
    "twitter[:100]"
   ]
  },
  {
   "cell_type": "code",
   "execution_count": 32,
   "metadata": {},
   "outputs": [
    {
     "data": {
      "text/plain": [
       "10800932"
      ]
     },
     "execution_count": 32,
     "metadata": {},
     "output_type": "execute_result"
    }
   ],
   "source": [
    "len(twitter)"
   ]
  },
  {
   "cell_type": "code",
   "execution_count": 37,
   "metadata": {},
   "outputs": [
    {
     "name": "stderr",
     "output_type": "stream",
     "text": [
      "100%|██████████| 10800932/10800932 [00:14<00:00, 741091.94it/s]\n"
     ]
    }
   ],
   "source": [
    "texts = []\n",
    "for i in tqdm(range(len(twitter))):\n",
    "    if len(twitter[i].split()) > 1:\n",
    "        texts.append(twitter[i])"
   ]
  },
  {
   "cell_type": "code",
   "execution_count": 42,
   "metadata": {},
   "outputs": [],
   "source": [
    "with open('dumping-twitter.txt', 'w') as fopen:\n",
    "    fopen.write('\\n\\n'.join(texts))"
   ]
  }
 ],
 "metadata": {
  "kernelspec": {
   "display_name": "Python 3",
   "language": "python",
   "name": "python3"
  },
  "language_info": {
   "codemirror_mode": {
    "name": "ipython",
    "version": 3
   },
   "file_extension": ".py",
   "mimetype": "text/x-python",
   "name": "python",
   "nbconvert_exporter": "python",
   "pygments_lexer": "ipython3",
   "version": "3.6.8"
  }
 },
 "nbformat": 4,
 "nbformat_minor": 2
}
