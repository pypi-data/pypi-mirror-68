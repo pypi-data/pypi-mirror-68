{
 "cells": [
  {
   "cell_type": "code",
   "execution_count": 1,
   "metadata": {},
   "outputs": [],
   "source": [
    "!cp output-model/config.json xlnet-base\n",
    "!cp sp10m.cased.v9* xlnet-base"
   ]
  },
  {
   "cell_type": "code",
   "execution_count": 2,
   "metadata": {},
   "outputs": [
    {
     "name": "stdout",
     "output_type": "stream",
     "text": [
      "xlnet-base/\n",
      "xlnet-base/sp10m.cased.v9.vocab\n",
      "xlnet-base/sp10m.cased.v9.model\n",
      "xlnet-base/model.ckpt.index\n",
      "xlnet-base/config.json\n",
      "xlnet-base/model.ckpt.data-00000-of-00001\n",
      "xlnet-base/checkpoint\n",
      "xlnet-base/model.ckpt.meta\n"
     ]
    }
   ],
   "source": [
    "!tar cvzf xlnet-base-03-04-2020.tar.gz xlnet-base"
   ]
  },
  {
   "cell_type": "code",
   "execution_count": 3,
   "metadata": {},
   "outputs": [],
   "source": [
    "import boto3\n",
    "\n",
    "bucketName = 'huseinhouse-storage'\n",
    "Key = 'xlnet-base-03-04-2020.tar.gz'\n",
    "outPutname = \"bert-bahasa/xlnet-base-03-04-2020.tar.gz\"\n",
    "\n",
    "s3 = boto3.client('s3')\n",
    "s3.upload_file(Key,bucketName,outPutname)"
   ]
  },
  {
   "cell_type": "code",
   "execution_count": null,
   "metadata": {},
   "outputs": [],
   "source": []
  }
 ],
 "metadata": {
  "kernelspec": {
   "display_name": "Python 3",
   "language": "python",
   "name": "python3"
  },
  "language_info": {
   "codemirror_mode": {
    "name": "ipython",
    "version": 3
   },
   "file_extension": ".py",
   "mimetype": "text/x-python",
   "name": "python",
   "nbconvert_exporter": "python",
   "pygments_lexer": "ipython3",
   "version": "3.6.8"
  }
 },
 "nbformat": 4,
 "nbformat_minor": 2
}
