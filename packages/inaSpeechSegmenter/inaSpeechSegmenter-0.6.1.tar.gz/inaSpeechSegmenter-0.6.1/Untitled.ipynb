{
 "cells": [
  {
   "cell_type": "code",
   "execution_count": null,
   "metadata": {},
   "outputs": [],
   "source": [
    "import inaSpeechSegmenter.segmenter as ss\n",
    "import os\n",
    "from skimage.util import view_as_windows as vaw\n",
    "import tempfile\n",
    "from sidekit.frontend.io import read_wav\n",
    "from sidekit.frontend.features import mfcc\n",
    "import numpy as np\n",
    "import pylab as pl\n",
    "import warnings"
   ]
  },
  {
   "cell_type": "code",
   "execution_count": 75,
   "metadata": {},
   "outputs": [
    {
     "name": "stdout",
     "output_type": "stream",
     "text": [
      "2\n"
     ]
    }
   ],
   "source": [
    "medianame = './media/0021.mp3'\n",
    "tmpdir = None\n",
    "ffmpeg = 'ffmpeg'\n",
    "from subprocess import Popen, PIPE\n",
    "base, _ = os.path.splitext(os.path.basename(medianame))\n",
    "with tempfile.TemporaryDirectory(dir=tmpdir) as tmpdirname:\n",
    "    tmpwav = tmpdirname + '/' + base + '.wav'\n",
    "    args = [ffmpeg, '-y', '-i', medianame, '-ar', '16000', '-ac', '1', tmpwav]\n",
    "    p = Popen(args, stdout=PIPE, stderr=PIPE)\n",
    "    output, error = p.communicate()\n",
    "    assert p.returncode == 0, error\n",
    "    sig, read_framerate, sampwidth = read_wav(tmpwav)\n",
    "    print(sampwidth)\n",
    "    sig *= (2**(15-sampwidth))\n",
    "    sig = sig.astype(np.float32)\n",
    "    _, loge, _, mspec = mfcc(sig, get_mspec=True)"
   ]
  },
  {
   "cell_type": "code",
   "execution_count": 76,
   "metadata": {},
   "outputs": [
    {
     "name": "stderr",
     "output_type": "stream",
     "text": [
      "/home/ddoukhan/gitrepos/inaspeechsegmenterunittest/env/lib/python3.5/site-packages/ipykernel_launcher.py:3: UserWarning: file is short. Recommended minimal length is sdf\n",
      "  This is separate from the ipykernel package so we can avoid doing imports until\n"
     ]
    },
    {
     "data": {
      "text/plain": [
       "(68, array([23.65635872, 23.5308876 , 23.50606728, 23.95367432, 24.93335152,\n",
       "        27.24055481, 28.61566925, 28.63872337, 33.07403183, 38.89593506,\n",
       "        39.59596634, 39.92473984, 39.96703339, 40.29489899, 40.44159698,\n",
       "        40.45202255, 40.39542007, 40.52690887, 40.57311249, 40.40034866,\n",
       "        40.10721588, 39.50094986, 38.72129822, 38.51928711, 37.85783005,\n",
       "        36.41557312, 36.02762222, 35.76215744, 35.26826859, 35.22908401,\n",
       "        35.45957184, 35.02663422, 34.07130432, 34.18313599, 33.79420853,\n",
       "        32.42498779, 31.98526573, 27.70948219, 26.72745323, 26.39244843,\n",
       "        26.17528534, 26.06599998, 26.04698563, 26.30700874, 27.58955574,\n",
       "        38.09862137, 39.16085815, 41.02388   , 41.29766083, 41.11893082,\n",
       "        40.01370621, 39.07500839, 37.44717026, 36.31087494, 35.08143997,\n",
       "        33.91564941, 32.60082245, 31.18219948, 29.3219738 , 28.06219292,\n",
       "        26.09040451, 25.30325508, 24.49750519, 23.92131805, 23.72994232,\n",
       "        23.53020477,         nan,         nan]), array([[17.50454712, 15.01463413, 14.52204704, ..., 19.00476837,\n",
       "         19.81555939, 19.98881531],\n",
       "        [17.26504326, 17.61444473, 16.41906166, ..., 19.30933952,\n",
       "         19.26753807, 19.26769638],\n",
       "        [17.09996986, 16.29549026, 16.43788719, ..., 19.50780106,\n",
       "         18.99718666, 19.21161079],\n",
       "        ...,\n",
       "        [16.18919945, 17.01609802, 15.8832016 , ..., 19.82901382,\n",
       "         19.74747658, 19.56383705],\n",
       "        [        nan,         nan,         nan, ...,         nan,\n",
       "                 nan,         nan],\n",
       "        [        nan,         nan,         nan, ...,         nan,\n",
       "                 nan,         nan]]))"
      ]
     },
     "execution_count": 76,
     "metadata": {},
     "output_type": "execute_result"
    }
   ],
   "source": [
    "npad = 0\n",
    "if len(loge) < 68:\n",
    "    warnings.warn('file is short. Recommended minimal length is sdf')\n",
    "    npad = 68 - len(loge)\n",
    "    mspec = np.concatenate((mspec, np.ones((npad, 24)) * np.NaN))\n",
    "    loge = np.concatenate((loge, np.ones(npad) * np.NaN))\n",
    "len(loge), loge, mspec"
   ]
  },
  {
   "cell_type": "code",
   "execution_count": 77,
   "metadata": {},
   "outputs": [
    {
     "data": {
      "text/plain": [
       "(array([[[nan, nan, nan, ..., nan, nan, nan],\n",
       "         [nan, nan, nan, ..., nan, nan, nan],\n",
       "         [nan, nan, nan, ..., nan, nan, nan],\n",
       "         ...,\n",
       "         [nan, nan, nan, ..., nan, nan, nan],\n",
       "         [nan, nan, nan, ..., nan, nan, nan],\n",
       "         [nan, nan, nan, ..., nan, nan, nan]],\n",
       " \n",
       "        [[nan, nan, nan, ..., nan, nan, nan],\n",
       "         [nan, nan, nan, ..., nan, nan, nan],\n",
       "         [nan, nan, nan, ..., nan, nan, nan],\n",
       "         ...,\n",
       "         [nan, nan, nan, ..., nan, nan, nan],\n",
       "         [nan, nan, nan, ..., nan, nan, nan],\n",
       "         [nan, nan, nan, ..., nan, nan, nan]],\n",
       " \n",
       "        [[nan, nan, nan, ..., nan, nan, nan],\n",
       "         [nan, nan, nan, ..., nan, nan, nan],\n",
       "         [nan, nan, nan, ..., nan, nan, nan],\n",
       "         ...,\n",
       "         [nan, nan, nan, ..., nan, nan, nan],\n",
       "         [nan, nan, nan, ..., nan, nan, nan],\n",
       "         [nan, nan, nan, ..., nan, nan, nan]],\n",
       " \n",
       "        ...,\n",
       " \n",
       "        [[nan, nan, nan, ..., nan, nan, nan],\n",
       "         [nan, nan, nan, ..., nan, nan, nan],\n",
       "         [nan, nan, nan, ..., nan, nan, nan],\n",
       "         ...,\n",
       "         [nan, nan, nan, ..., nan, nan, nan],\n",
       "         [nan, nan, nan, ..., nan, nan, nan],\n",
       "         [nan, nan, nan, ..., nan, nan, nan]],\n",
       " \n",
       "        [[nan, nan, nan, ..., nan, nan, nan],\n",
       "         [nan, nan, nan, ..., nan, nan, nan],\n",
       "         [nan, nan, nan, ..., nan, nan, nan],\n",
       "         ...,\n",
       "         [nan, nan, nan, ..., nan, nan, nan],\n",
       "         [nan, nan, nan, ..., nan, nan, nan],\n",
       "         [nan, nan, nan, ..., nan, nan, nan]],\n",
       " \n",
       "        [[nan, nan, nan, ..., nan, nan, nan],\n",
       "         [nan, nan, nan, ..., nan, nan, nan],\n",
       "         [nan, nan, nan, ..., nan, nan, nan],\n",
       "         ...,\n",
       "         [nan, nan, nan, ..., nan, nan, nan],\n",
       "         [nan, nan, nan, ..., nan, nan, nan],\n",
       "         [nan, nan, nan, ..., nan, nan, nan]]]),\n",
       " array([False, False, False, False, False, False, False, False, False,\n",
       "        False, False, False, False, False, False, False, False, False,\n",
       "        False, False, False, False, False, False, False, False, False,\n",
       "        False, False, False, False, False, False, False]))"
      ]
     },
     "execution_count": 77,
     "metadata": {},
     "output_type": "execute_result"
    }
   ],
   "source": [
    "ss._get_patches(mspec, 68, 2)"
   ]
  },
  {
   "cell_type": "code",
   "execution_count": 42,
   "metadata": {},
   "outputs": [],
   "source": [
    "loge = loge[:68]\n",
    "mspec = mspec[:68,:]"
   ]
  },
  {
   "cell_type": "code",
   "execution_count": 43,
   "metadata": {},
   "outputs": [
    {
     "data": {
      "text/plain": [
       "(68, 24)"
      ]
     },
     "execution_count": 43,
     "metadata": {},
     "output_type": "execute_result"
    }
   ],
   "source": [
    "mspec.shape"
   ]
  },
  {
   "cell_type": "code",
   "execution_count": 49,
   "metadata": {},
   "outputs": [
    {
     "data": {
      "text/plain": [
       "array([ True,  True,  True,  True,  True,  True,  True,  True,  True,\n",
       "        True,  True,  True,  True,  True,  True,  True,  True,  True,\n",
       "        True,  True,  True,  True,  True,  True,  True,  True,  True,\n",
       "        True,  True,  True,  True,  True,  True,  True])"
      ]
     },
     "execution_count": 49,
     "metadata": {},
     "output_type": "execute_result"
    }
   ],
   "source": [
    "ss._get_patches(mspec, 68, 2)[1]"
   ]
  },
  {
   "cell_type": "code",
   "execution_count": 50,
   "metadata": {},
   "outputs": [
    {
     "data": {
      "text/plain": [
       "array([23.65635984, 23.53088785, 23.50606787, 23.95367392, 24.93335236,\n",
       "       27.24055481, 28.6156694 , 28.63872279, 33.07403223, 38.89593532,\n",
       "       39.59596498, 39.92474014, 39.96703281, 40.29489991, 40.44159842,\n",
       "       40.45202094, 40.39542106, 40.52690773, 40.57311203, 40.40034816,\n",
       "       40.1072162 , 39.50095095, 38.72129716, 38.5192862 , 37.85782956,\n",
       "       36.41557155, 36.02762329, 35.76215554, 35.26826719, 35.22908467,\n",
       "       35.45957139, 35.02663271, 34.0713043 , 34.18313631, 33.79420686,\n",
       "       32.42498896, 31.98526655, 27.70948177, 26.72745243, 26.39244755,\n",
       "       26.17528591, 26.06599945, 26.04698638, 26.30700851, 27.58955523,\n",
       "       38.0986202 , 39.16085623, 41.02387835, 41.2976591 , 41.11892936,\n",
       "       40.01370508, 39.07500877, 37.44717015, 36.31087484, 35.08143836,\n",
       "       33.91564902, 32.600822  , 31.18219897, 29.32197461, 28.06219343,\n",
       "       26.09040545, 25.30325551, 24.49750499, 23.92131739, 23.72994177,\n",
       "       23.53020521, 23.72754197, 23.30309505])"
      ]
     },
     "execution_count": 50,
     "metadata": {},
     "output_type": "execute_result"
    }
   ],
   "source": [
    "loge"
   ]
  },
  {
   "cell_type": "code",
   "execution_count": null,
   "metadata": {},
   "outputs": [],
   "source": [
    ""
   ]
  }
 ],
 "metadata": {
  "kernelspec": {
   "display_name": "Python 3",
   "language": "python",
   "name": "python3"
  },
  "language_info": {
   "codemirror_mode": {
    "name": "ipython",
    "version": 3.0
   },
   "file_extension": ".py",
   "mimetype": "text/x-python",
   "name": "python",
   "nbconvert_exporter": "python",
   "pygments_lexer": "ipython3",
   "version": "3.5.2"
  }
 },
 "nbformat": 4,
 "nbformat_minor": 0
}