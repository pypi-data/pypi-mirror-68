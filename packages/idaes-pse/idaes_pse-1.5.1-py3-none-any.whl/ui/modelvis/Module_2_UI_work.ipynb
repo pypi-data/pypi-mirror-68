{
 "cells": [
  {
   "cell_type": "markdown",
   "metadata": {},
   "source": [
    "\n",
    "Learning outcomes\n",
    "------------------------------\n",
    "\n",
    "- Construct a steady-state flowsheet using the IDAES unit model library\n",
    "- Connecting unit models in a  flowsheet using Arcs\n",
    "- Using the SequentialDecomposition tool to initialize a flowsheet with recycle\n",
    "- Fomulate and solve an optimization problem\n",
    "    - Defining an objective function\n",
    "    - Setting variable bounds\n",
    "    - Adding additional constraints \n",
    "\n",
    "\n",
    "Problem Statement\n",
    "------\n",
    "\n",
    "Hydrodealkylation is a chemical reaction that often involves reacting\n",
    "an aromatic hydrocarbon in the presence of hydrogen gas to form a\n",
    "simpler aromatic hydrocarbon devoid of functional groups,. In this\n",
    "example, toluene will be reacted with hydrogen gas at high temperatures\n",
    " to form benzene via the following reaction:\n",
    "\n",
    "**C<sub>6</sub>H<sub>5</sub>CH<sub>3</sub> + H<sub>2</sub> → C<sub>6</sub>H<sub>6</sub> + CH<sub>4</sub>**\n",
    "\n",
    "\n",
    "This reaction is often accompanied by an equilibrium side reaction\n",
    "which forms diphenyl, which we will neglect for this example.\n",
    "\n",
    "This example is based on the 1967 AIChE Student Contest problem as\n",
    "present by Douglas, J.M., Chemical  Design of Chemical Processes, 1988,\n",
    "McGraw-Hill.\n",
    "\n",
    "The flowsheet that we will be using for this module is shown below with the stream conditions. We will be processing toluene and hydrogen to produce at least 370 TPY of benzene. As shown in the flowsheet, there are two flash tanks, F101 to separate out the non-condensibles and F102 to further separate the benzene-toluene mixture to improve the benzene purity.  Note that typically a distillation column is required to obtain high purity benzene but that is beyond the scope of this workshop. The non-condensibles separated out in F101 will be partially recycled back to M101 and the rest will be either purged or combusted for power generation.We will assume ideal gas for this flowsheet. The properties required for this module is available in the same directory:\n",
    "\n",
    "- hda_ideal_VLE.py\n",
    "- hda_reaction.py\n",
    "\n",
    "The state variables chosen for the property package are **flows of component by phase, temperature and pressure**. The components considered are: **toluene, hydrogen, benzene and methane**. Therefore, every stream has 8 flow variables, 1 temperature and 1 pressure variable. \n",
    "\n",
    "![](module_2_flowsheet.png)\n",
    "\n",
    "\n"
   ]
  },
  {
   "cell_type": "markdown",
   "metadata": {},
   "source": [
    "Importing required pyomo and idaes components\n",
    "-----------\n",
    "To construct a flowsheet, we will need several components from the pyomo and idaes package. Let us first import the following components from Pyomo:\n",
    "- Constraint (to write constraints)\n",
    "- Var (to declare variables)\n",
    "- ConcreteModel (to create the concrete model object)\n",
    "- Expression (to evaluate values as a function of variables defined in the model)\n",
    "- Objective (to define an objective function for optimization)\n",
    "- SolverFactory (to solve the problem)\n",
    "- TransformationFactory (to apply certain transformations)\n",
    "- Arc (to connect two unit models)\n",
    "- SequentialDecomposition (to initialize the flowsheet in a sequential mode)\n",
    "\n",
    "For further details on these components, please refer to the pyomo documentation: https://pyomo.readthedocs.io/en/latest/\n"
   ]
  },
  {
   "cell_type": "code",
   "execution_count": 1,
   "metadata": {},
   "outputs": [],
   "source": [
    "from pyomo.environ import (Constraint,\n",
    "                           Var,\n",
    "                           ConcreteModel,\n",
    "                           Expression,\n",
    "                           Objective,\n",
    "                           SolverFactory,\n",
    "                           TransformationFactory,\n",
    "                           value)\n",
    "from pyomo.network import Arc, SequentialDecomposition"
   ]
  },
  {
   "cell_type": "markdown",
   "metadata": {},
   "source": [
    "From idaes, we will be needing the FlowsheetBlock and the following unit models:\n",
    "- Mixer\n",
    "- Heater\n",
    "- StoichiometricReactor\n",
    "- <span style=\"color:blue\">**Flash**</span>\n",
    "- Separator (splitter) \n",
    "- PressureChanger"
   ]
  },
  {
   "cell_type": "code",
   "execution_count": 2,
   "metadata": {},
   "outputs": [],
   "source": [
    "from idaes.core import FlowsheetBlock"
   ]
  },
  {
   "cell_type": "code",
   "execution_count": 3,
   "metadata": {},
   "outputs": [],
   "source": [
    "from idaes.unit_models import (PressureChanger,\n",
    "                               Mixer,\n",
    "                               Separator as Splitter,\n",
    "                               Heater,\n",
    "                               StoichiometricReactor)"
   ]
  },
  {
   "cell_type": "markdown",
   "metadata": {},
   "source": [
    "<div class=\"alert alert-block alert-info\">\n",
    "<b>Inline Exercise:</b>\n",
    "Now, import the remaining unit models highlighted in blue above and run the cell using `Shift+Enter` after typing in the code. \n",
    "</div>\n"
   ]
  },
  {
   "cell_type": "code",
   "execution_count": 4,
   "metadata": {},
   "outputs": [],
   "source": [
    "from idaes.unit_models import Flash"
   ]
  },
  {
   "cell_type": "markdown",
   "metadata": {},
   "source": [
    "We will also be needing some utility tools to put together the flowsheet and calculate the degrees of freedom. "
   ]
  },
  {
   "cell_type": "code",
   "execution_count": 5,
   "metadata": {},
   "outputs": [],
   "source": [
    "from idaes.unit_models.pressure_changer import ThermodynamicAssumption\n",
    "from idaes.ui.report import degrees_of_freedom"
   ]
  },
  {
   "cell_type": "markdown",
   "metadata": {},
   "source": [
    "Importing required thermo and reaction package\n",
    "-----------\n"
   ]
  },
  {
   "cell_type": "markdown",
   "metadata": {},
   "source": [
    "The final set of imports are to import the thermo and reaction package for the HDA process. We have created a custom thermo package that assumes Ideal Gas with support for VLE. \n",
    "\n",
    "The reaction package here is very simple as we will be using only a StochiometricReactor and the reaction package consists the stochiometric coefficients for the reaction and the parameter for the heat of reaction. \n",
    "\n",
    "Let us import the following modules and they are in the same directory as this jupyter notebook:\n",
    "      <ul>\n",
    "         <li>hda_ideal_VLE as thermo_props</li>\n",
    "         <li>hda_reaction as reaction_props </li>\n",
    "      </ul>\n",
    "</div>"
   ]
  },
  {
   "cell_type": "code",
   "execution_count": 6,
   "metadata": {},
   "outputs": [],
   "source": [
    "import hda_ideal_VLE as thermo_props\n",
    "import hda_reaction as reaction_props"
   ]
  },
  {
   "cell_type": "markdown",
   "metadata": {},
   "source": [
    "Constructing the Flowsheet\n",
    "----------------------------------\n",
    "\n",
    "We have now imported all the components, unit models, and property modules we need to construct a flowsheet. Let us create a ConcreteModel and add the flowsheet block as we did in module 1. "
   ]
  },
  {
   "cell_type": "code",
   "execution_count": 7,
   "metadata": {},
   "outputs": [],
   "source": [
    "m = ConcreteModel()\n",
    "m.fs = FlowsheetBlock(default={\"dynamic\": False})"
   ]
  },
  {
   "cell_type": "markdown",
   "metadata": {},
   "source": [
    "We now need to add the property packages to the flowsheet. Unlike Module 1, where we only had a thermo property package, for this flowsheet we will also need to add a reaction property package. "
   ]
  },
  {
   "cell_type": "code",
   "execution_count": 8,
   "metadata": {},
   "outputs": [],
   "source": [
    "m.fs.thermo_params = thermo_props.HDAParameterBlock()\n",
    "m.fs.reaction_params = reaction_props.HDAReactionParameterBlock(\n",
    "        default={\"property_package\": m.fs.thermo_params})"
   ]
  },
  {
   "cell_type": "markdown",
   "metadata": {},
   "source": [
    "Adding Unit Models\n",
    "-----\n",
    "\n",
    "Let us start adding the unit models we have imported to the flowsheet. Here, we are adding the Mixer (assigned a name M101) and a Heater (assigned a name H101). Note that, all unit models need to be given a property package argument. In addition to that, there are several arguments depending on the unit model, please refer to the documentation for more details (https://idaes-pse.readthedocs.io/en/latest/models/index.html). For example, the Mixer unit model here is given a `list` consisting of names to the three inlets. "
   ]
  },
  {
   "cell_type": "code",
   "execution_count": 9,
   "metadata": {},
   "outputs": [],
   "source": [
    "m.fs.M101 = Mixer(default={\"property_package\": m.fs.thermo_params,\n",
    "                           \"inlet_list\": [\"toluene_feed\", \"hydrogen_feed\", \"vapor_recycle\"]})\n",
    "\n",
    "m.fs.H101 = Heater(default={\"property_package\": m.fs.thermo_params,\n",
    "                            \"has_pressure_change\": False,\n",
    "                            \"has_phase_equilibrium\": True})"
   ]
  },
  {
   "cell_type": "markdown",
   "metadata": {},
   "source": [
    "<div class=\"alert alert-block alert-info\">\n",
    "<b>Inline Exercise:</b>\n",
    "Let us now add the StoichiometricReactor(assign the name R101) and pass the following arguments:\n",
    "      <ul>\n",
    "         <li>\"property_package\": m.fs.thermo_params</li>\n",
    "         <li>\"reaction_package\": m.fs.reaction_params </li>\n",
    "         <li>\"has_heat_of_reaction\": True </li>\n",
    "         <li>\"has_heat_transfer\": True</li>\n",
    "         <li>\"has_pressure_change\": False</li>\n",
    "      </ul>\n",
    "</div>"
   ]
  },
  {
   "cell_type": "code",
   "execution_count": 10,
   "metadata": {},
   "outputs": [],
   "source": [
    "m.fs.R101 = StoichiometricReactor(\n",
    "            default={\"property_package\": m.fs.thermo_params,\n",
    "                     \"reaction_package\": m.fs.reaction_params,\n",
    "                     \"has_heat_of_reaction\": True,\n",
    "                     \"has_heat_transfer\": True,\n",
    "                     \"has_pressure_change\": False})"
   ]
  },
  {
   "cell_type": "markdown",
   "metadata": {},
   "source": [
    "Let us now add the Flash(assign the name F101) and pass the following arguments:\n",
    "      <ul>\n",
    "         <li>\"property_package\": m.fs.thermo_params</li>\n",
    "         <li>\"has_heat_transfer\": True</li>\n",
    "         <li>\"has_pressure_change\": False</li>\n",
    "      </ul>"
   ]
  },
  {
   "cell_type": "code",
   "execution_count": 11,
   "metadata": {},
   "outputs": [],
   "source": [
    "m.fs.F101 = Flash(default={\"property_package\": m.fs.thermo_params,\n",
    "                               \"has_heat_transfer\": True,\n",
    "                               \"has_pressure_change\": True})"
   ]
  },
  {
   "cell_type": "markdown",
   "metadata": {},
   "source": [
    "Let us now add the Splitter(S101), PressureChanger(C101) and the second Flash(F102). "
   ]
  },
  {
   "cell_type": "code",
   "execution_count": 12,
   "metadata": {},
   "outputs": [],
   "source": [
    "m.fs.S101 = Splitter(default={\"property_package\": m.fs.thermo_params,\n",
    "                               \"ideal_separation\": False,\n",
    "                               \"outlet_list\": [\"purge\", \"recycle\"]})\n",
    "    \n",
    "\n",
    "m.fs.C101 = PressureChanger(default={\n",
    "            \"property_package\": m.fs.thermo_params,\n",
    "            \"compressor\": True,\n",
    "            \"thermodynamic_assumption\": ThermodynamicAssumption.isothermal})\n",
    "    \n",
    "m.fs.F102 = Flash(default={\"property_package\": m.fs.thermo_params,\n",
    "                           \"has_heat_transfer\": True,\n",
    "                           \"has_pressure_change\": True})"
   ]
  },
  {
   "cell_type": "markdown",
   "metadata": {},
   "source": [
    "Connecting Unit Models using Arcs\n",
    "-----\n",
    "We have now added all the unit models we need to the flowsheet. However, we have not yet specifed how the units are to be connected. To do this, we will be using the `Arc` which is a pyomo component that takes in two arguments: `source` and `destination`. Let us connect the outlet of the mixer(M101) to the inlet of the heater(H101). "
   ]
  },
  {
   "cell_type": "code",
   "execution_count": 13,
   "metadata": {},
   "outputs": [],
   "source": [
    "m.fs.s03 = Arc(source=m.fs.M101.outlet, destination=m.fs.H101.inlet)"
   ]
  },
  {
   "cell_type": "markdown",
   "metadata": {},
   "source": [
    "\n",
    "![](module_2_flowsheet.png) \n",
    "\n",
    "<div class=\"alert alert-block alert-info\">\n",
    "<b>Inline Exercise:</b>\n",
    "Now, connect the H101 outlet to the R101 inlet using the cell above as a guide. \n",
    "</div>\n",
    "\n"
   ]
  },
  {
   "cell_type": "code",
   "execution_count": 14,
   "metadata": {},
   "outputs": [],
   "source": [
    "m.fs.s04 = Arc(source=m.fs.H101.outlet, destination=m.fs.R101.inlet)"
   ]
  },
  {
   "cell_type": "markdown",
   "metadata": {},
   "source": [
    "We will now be connecting the rest of the flowsheet as shown below. Notice how the outlet names are different for the flash tanks F101 and F102 as they have a vapor and a liquid outlet. "
   ]
  },
  {
   "cell_type": "code",
   "execution_count": 15,
   "metadata": {},
   "outputs": [],
   "source": [
    "m.fs.s05 = Arc(source=m.fs.R101.outlet, destination=m.fs.F101.inlet)\n",
    "m.fs.s06 = Arc(source=m.fs.F101.vap_outlet, destination=m.fs.S101.inlet)\n",
    "m.fs.s08 = Arc(source=m.fs.S101.recycle, destination=m.fs.C101.inlet)\n",
    "m.fs.s09 = Arc(source=m.fs.C101.outlet,\n",
    "               destination=m.fs.M101.vapor_recycle)\n",
    "m.fs.s10 = Arc(source=m.fs.F101.liq_outlet, destination=m.fs.F102.inlet)"
   ]
  },
  {
   "cell_type": "markdown",
   "metadata": {},
   "source": [
    "We have now connected the unit model block using the arcs. However, each of these arcs link to ports on the two unit models that are connected. In this case, the ports consist of the state variables that need to be linked between the unit models. Pyomo provides a convenient method to write these equality constraints for us between two ports and this is done as follows:"
   ]
  },
  {
   "cell_type": "code",
   "execution_count": 16,
   "metadata": {},
   "outputs": [],
   "source": [
    "TransformationFactory(\"network.expand_arcs\").apply_to(m)"
   ]
  },
  {
   "cell_type": "markdown",
   "metadata": {},
   "source": [
    "Adding expressions to compute purity and operating costs\n",
    "---\n",
    "In this section, we will add a few Expressions that allows us to evaluate the performance. Expressions provide a convenient way of calculating certain values that are a function of the variables defined in the model. For more details on Expressions, please refer to: https://pyomo.readthedocs.io/en/latest/pyomo_modeling_components/Expressions.html\n",
    "\n",
    "For this flowsheet, we are interested in computing the purity of the product Benzene stream (i.e. the mole fraction) and the operating cost which is a sum of the cooling and heating cost. "
   ]
  },
  {
   "cell_type": "markdown",
   "metadata": {},
   "source": [
    "Let us first add an Expression to compute the mole fraction of benzene in the `vap_outlet` of F102 which is our product stream. Please note that the var flow_mol_phase_comp has the index - [time, phase, component]. As this is a steady-state flowsheet, the time index by default is 0. The valid phases are [\"Liq\", \"Vap\"]. Similarly the valid component list is [\"benzene\", \"toluene\", \"hydrogen\", \"methane\"]."
   ]
  },
  {
   "cell_type": "code",
   "execution_count": 17,
   "metadata": {},
   "outputs": [],
   "source": [
    "m.fs.purity = Expression(\n",
    "        expr=m.fs.F102.vap_outlet.flow_mol_phase_comp[0, \"Vap\", \"benzene\"] /\n",
    "        (m.fs.F102.vap_outlet.flow_mol_phase_comp[0, \"Vap\", \"benzene\"]\n",
    "         + m.fs.F102.vap_outlet.flow_mol_phase_comp[0, \"Vap\", \"toluene\"]))"
   ]
  },
  {
   "cell_type": "markdown",
   "metadata": {},
   "source": [
    "Now, let us add an expression to compute the cooling cost assuming a cost of 0.212E-4 $/kW. Note that cooling utility is required for the reactor (R101) and the first flash (F101). "
   ]
  },
  {
   "cell_type": "code",
   "execution_count": 18,
   "metadata": {},
   "outputs": [],
   "source": [
    "m.fs.cooling_cost = Expression(expr=0.212e-7 * (-m.fs.F101.heat_duty[0]) +\n",
    "                                   0.212e-7 * (-m.fs.R101.heat_duty[0]))"
   ]
  },
  {
   "cell_type": "markdown",
   "metadata": {},
   "source": [
    "\n",
    "Now, let us add an expression to compute the heating cost assuming the utility cost as follows:\n",
    "      <ul>\n",
    "         <li>2.2E-4 dollars/kW for H101</li>\n",
    "         <li>1.9E-4 dollars/kW for F102</li>\n",
    "      </ul>\n",
    "Note that the heat duty is in units of watt (J/s). "
   ]
  },
  {
   "cell_type": "code",
   "execution_count": 19,
   "metadata": {},
   "outputs": [],
   "source": [
    "m.fs.heating_cost = Expression(expr=2.2e-7 * m.fs.H101.heat_duty[0] +\n",
    "                                   1.9e-7 * m.fs.F102.heat_duty[0])"
   ]
  },
  {
   "cell_type": "markdown",
   "metadata": {},
   "source": [
    "Let us now add an expression to compute the total operating cost per year which is basically the sum of the cooling and heating cost we defined above. "
   ]
  },
  {
   "cell_type": "code",
   "execution_count": 20,
   "metadata": {},
   "outputs": [],
   "source": [
    "m.fs.operating_cost = Expression(expr=(3600 * 24 * 365 *\n",
    "                                           (m.fs.heating_cost +\n",
    "                                            m.fs.cooling_cost)))"
   ]
  },
  {
   "cell_type": "markdown",
   "metadata": {},
   "source": [
    "Fixing feed conditions\n",
    "---\n",
    "\n",
    "Let us first check how many degrees of freedom exist for this flowsheet using the `degrees_of_freedom` tool we imported earlier. "
   ]
  },
  {
   "cell_type": "code",
   "execution_count": 21,
   "metadata": {},
   "outputs": [
    {
     "name": "stdout",
     "output_type": "stream",
     "text": [
      "WARNING: DEPRECATED: This function has been replaced by degrees_of_freedom in\n",
      "    idaes.core.util.model_statistics  (deprecated in 1.1)\n",
      "29\n"
     ]
    }
   ],
   "source": [
    "print(degrees_of_freedom(m))"
   ]
  },
  {
   "cell_type": "markdown",
   "metadata": {},
   "source": [
    "We will now be fixing the toluene feed stream to the conditions shown in the flowsheet above. Please note that though this is a pure toluene feed, the remaining components are still assigned a very small non-zero value to help with convergence and initializing. "
   ]
  },
  {
   "cell_type": "code",
   "execution_count": 22,
   "metadata": {},
   "outputs": [],
   "source": [
    "m.fs.M101.toluene_feed.flow_mol_phase_comp[0, \"Vap\", \"benzene\"].fix(1e-5)\n",
    "m.fs.M101.toluene_feed.flow_mol_phase_comp[0, \"Vap\", \"toluene\"].fix(1e-5)\n",
    "m.fs.M101.toluene_feed.flow_mol_phase_comp[0, \"Vap\", \"hydrogen\"].fix(1e-5)\n",
    "m.fs.M101.toluene_feed.flow_mol_phase_comp[0, \"Vap\", \"methane\"].fix(1e-5)\n",
    "m.fs.M101.toluene_feed.flow_mol_phase_comp[0, \"Liq\", \"benzene\"].fix(1e-5)\n",
    "m.fs.M101.toluene_feed.flow_mol_phase_comp[0, \"Liq\", \"toluene\"].fix(0.30)\n",
    "m.fs.M101.toluene_feed.flow_mol_phase_comp[0, \"Liq\", \"hydrogen\"].fix(1e-5)\n",
    "m.fs.M101.toluene_feed.flow_mol_phase_comp[0, \"Liq\", \"methane\"].fix(1e-5)\n",
    "m.fs.M101.toluene_feed.temperature.fix(303.2)\n",
    "m.fs.M101.toluene_feed.pressure.fix(350000)"
   ]
  },
  {
   "cell_type": "markdown",
   "metadata": {},
   "source": [
    "\n",
    "Similarly, let us fix the hydrogen feed to the following conditions in the next cell:\n",
    "      <ul>\n",
    "         <li>F<sub>H2</sub> = 0.30 mol/s</li>\n",
    "         <li>F<sub>CH4</sub> = 0.02 mol/s</li>\n",
    "         <li>Remaining components = 1e-5 mol/s</li>\n",
    "         <li>T = 303.2 K</li>\n",
    "         <li>P = 350000 Pa</li>\n",
    "      </ul>\n",
    "\n"
   ]
  },
  {
   "cell_type": "code",
   "execution_count": 23,
   "metadata": {},
   "outputs": [],
   "source": [
    "m.fs.M101.hydrogen_feed.flow_mol_phase_comp[0, \"Vap\", \"benzene\"].fix(1e-5)\n",
    "m.fs.M101.hydrogen_feed.flow_mol_phase_comp[0, \"Vap\", \"toluene\"].fix(1e-5)\n",
    "m.fs.M101.hydrogen_feed.flow_mol_phase_comp[0, \"Vap\", \"hydrogen\"].fix(0.30)\n",
    "m.fs.M101.hydrogen_feed.flow_mol_phase_comp[0, \"Vap\", \"methane\"].fix(0.02)\n",
    "m.fs.M101.hydrogen_feed.flow_mol_phase_comp[0, \"Liq\", \"benzene\"].fix(1e-5)\n",
    "m.fs.M101.hydrogen_feed.flow_mol_phase_comp[0, \"Liq\", \"toluene\"].fix(1e-5)\n",
    "m.fs.M101.hydrogen_feed.flow_mol_phase_comp[0, \"Liq\", \"hydrogen\"].fix(1e-5)\n",
    "m.fs.M101.hydrogen_feed.flow_mol_phase_comp[0, \"Liq\", \"methane\"].fix(1e-5)\n",
    "m.fs.M101.hydrogen_feed.temperature.fix(303.2)\n",
    "m.fs.M101.hydrogen_feed.pressure.fix(350000)"
   ]
  },
  {
   "cell_type": "markdown",
   "metadata": {},
   "source": [
    "Fixing unit model specifications\n",
    "---\n",
    "\n",
    "Now that we have fixed our inlet feed conditions, we will now be fixing the operating conditions for the unit models in the flowsheet. Let us set set the H101 outlet temperature to 600 K. "
   ]
  },
  {
   "cell_type": "code",
   "execution_count": 24,
   "metadata": {},
   "outputs": [],
   "source": [
    "m.fs.H101.outlet.temperature.fix(600)"
   ]
  },
  {
   "cell_type": "markdown",
   "metadata": {},
   "source": [
    "For the StoichiometricReactor, we have to define the conversion in terms of toluene. This requires us to create a new variable for specifying the conversion and adding a Constraint that defines the conversion with respect to toluene. The second degree of freedom for the reactor is to define the heat duty. In this case, let us assume the reactor to be adiabatic i.e. Q = 0. "
   ]
  },
  {
   "cell_type": "code",
   "execution_count": 25,
   "metadata": {},
   "outputs": [],
   "source": [
    "m.fs.R101.conversion = Var(initialize=0.75, bounds=(0, 1))\n",
    "\n",
    "m.fs.R101.conv_constraint = Constraint(\n",
    "    expr=m.fs.R101.conversion*m.fs.R101.inlet.\n",
    "    flow_mol_phase_comp[0, \"Vap\", \"toluene\"] ==\n",
    "    (m.fs.R101.inlet.flow_mol_phase_comp[0, \"Vap\", \"toluene\"] -\n",
    "     m.fs.R101.outlet.flow_mol_phase_comp[0, \"Vap\", \"toluene\"]))\n",
    "\n",
    "m.fs.R101.conversion.fix(0.75)\n",
    "m.fs.R101.heat_duty.fix(0)"
   ]
  },
  {
   "cell_type": "markdown",
   "metadata": {},
   "source": [
    "The Flash conditions for F101 can be set as follows. "
   ]
  },
  {
   "cell_type": "code",
   "execution_count": 26,
   "metadata": {},
   "outputs": [],
   "source": [
    "m.fs.F101.vap_outlet.temperature.fix(325.0)\n",
    "m.fs.F101.deltaP.fix(0)"
   ]
  },
  {
   "cell_type": "markdown",
   "metadata": {},
   "source": [
    "<div class=\"alert alert-block alert-info\">\n",
    "<b>Inline Exercise:</b>\n",
    "Set the conditions for Flash F102 to the following conditions:\n",
    "      <ul>\n",
    "         <li>T = 375 K</li>\n",
    "         <li>deltaP = -200000</li>\n",
    "      </ul>\n",
    "\n",
    "Use Shift+Enter to run the cell once you have typed in your code. \n",
    "</div>"
   ]
  },
  {
   "cell_type": "code",
   "execution_count": 27,
   "metadata": {},
   "outputs": [],
   "source": [
    "m.fs.F102.vap_outlet.temperature.fix(375)\n",
    "m.fs.F102.deltaP.fix(-200000)"
   ]
  },
  {
   "cell_type": "markdown",
   "metadata": {},
   "source": [
    "Let us fix the purge split fraction to 20% and the outlet pressure of the compressor is set to 350000 Pa. "
   ]
  },
  {
   "cell_type": "code",
   "execution_count": 28,
   "metadata": {},
   "outputs": [],
   "source": [
    "m.fs.S101.split_fraction[0, \"purge\"].fix(0.2)\n",
    "m.fs.C101.outlet.pressure.fix(350000)"
   ]
  },
  {
   "cell_type": "markdown",
   "metadata": {},
   "source": [
    "<div class=\"alert alert-block alert-info\">\n",
    "<b>Inline Exercise:</b>\n",
    "We have now defined all the feed conditions and the inputs required for the unit models. The system should now have 0 degrees of freedom i.e. should be a square problem. Please check that the degrees of freedom is 0. \n",
    "\n",
    "Use Shift+Enter to run the cell once you have typed in your code. \n",
    "</div>"
   ]
  },
  {
   "cell_type": "code",
   "execution_count": 29,
   "metadata": {},
   "outputs": [
    {
     "name": "stdout",
     "output_type": "stream",
     "text": [
      "WARNING: DEPRECATED: This function has been replaced by degrees_of_freedom in\n",
      "    idaes.core.util.model_statistics  (deprecated in 1.1)\n",
      "0\n"
     ]
    }
   ],
   "source": [
    "print(degrees_of_freedom(m))"
   ]
  },
  {
   "cell_type": "markdown",
   "metadata": {},
   "source": [
    "Initialization\n",
    "------------------\n",
    "\n",
    "This section will demonstrate how to use the built-in sequential decomposition tool to initialize our flowsheet.\n",
    "\n",
    "![](module_2_flowsheet.png) \n"
   ]
  },
  {
   "cell_type": "markdown",
   "metadata": {},
   "source": [
    "Let us first create an object for the SequentialDecomposition and specify our options for this. "
   ]
  },
  {
   "cell_type": "code",
   "execution_count": 30,
   "metadata": {},
   "outputs": [],
   "source": [
    "seq = SequentialDecomposition()\n",
    "seq.options.select_tear_method = \"heuristic\"\n",
    "seq.options.tear_method = \"Wegstein\"\n",
    "seq.options.iterLim = 5\n",
    "\n",
    "# Using the SD tool\n",
    "G = seq.create_graph(m)\n",
    "heuristic_tear_set = seq.tear_set_arcs(G, method=\"heuristic\")\n",
    "order = seq.calculation_order(G)"
   ]
  },
  {
   "cell_type": "markdown",
   "metadata": {},
   "source": [
    "Which is the tear stream? Display tear set and order"
   ]
  },
  {
   "cell_type": "code",
   "execution_count": 31,
   "metadata": {},
   "outputs": [
    {
     "name": "stdout",
     "output_type": "stream",
     "text": [
      "fs.s03\n"
     ]
    }
   ],
   "source": [
    "for o in heuristic_tear_set:\n",
    "    print(o.name)"
   ]
  },
  {
   "cell_type": "markdown",
   "metadata": {},
   "source": [
    "What sequence did the SD tool determine to solve this flowsheet with the least number of tears? "
   ]
  },
  {
   "cell_type": "code",
   "execution_count": 32,
   "metadata": {
    "scrolled": true
   },
   "outputs": [
    {
     "name": "stdout",
     "output_type": "stream",
     "text": [
      "fs.H101\n",
      "fs.R101\n",
      "fs.F101\n",
      "fs.S101\n",
      "fs.C101\n",
      "fs.M101\n"
     ]
    }
   ],
   "source": [
    "for o in order:\n",
    "    print(o[0].name)"
   ]
  },
  {
   "cell_type": "markdown",
   "metadata": {},
   "source": [
    " \n",
    "\n",
    "![](module_2_tear_stream.png) \n",
    "\n",
    "\n",
    "The SequentialDecomposition tool has determined that the tear stream is the mixer outlet. We will need to provide a reasonable guess for this."
   ]
  },
  {
   "cell_type": "code",
   "execution_count": 33,
   "metadata": {},
   "outputs": [],
   "source": [
    "tear_guesses = {\n",
    "        \"flow_mol_phase_comp\": {\n",
    "                (0, \"Vap\", \"benzene\"): 1e-5,\n",
    "                (0, \"Vap\", \"toluene\"): 1e-5,\n",
    "                (0, \"Vap\", \"hydrogen\"): 0.30,\n",
    "                (0, \"Vap\", \"methane\"): 0.02,\n",
    "                (0, \"Liq\", \"benzene\"): 1e-5,\n",
    "                (0, \"Liq\", \"toluene\"): 0.30,\n",
    "                (0, \"Liq\", \"hydrogen\"): 1e-5,\n",
    "                (0, \"Liq\", \"methane\"): 1e-5},\n",
    "        \"temperature\": {0: 303},\n",
    "        \"pressure\": {0: 350000}}\n",
    "\n",
    "# Pass the tear_guess to the SD tool\n",
    "seq.set_guesses_for(m.fs.H101.inlet, tear_guesses)"
   ]
  },
  {
   "cell_type": "markdown",
   "metadata": {},
   "source": [
    "Next, we need to tell the tool how to initialize a particular unit. We will be writing a python function which takes in a \"unit\" and calls the initialize method on that unit. "
   ]
  },
  {
   "cell_type": "code",
   "execution_count": 34,
   "metadata": {},
   "outputs": [],
   "source": [
    "def function(unit):\n",
    "        unit.initialize(outlvl=1)"
   ]
  },
  {
   "cell_type": "markdown",
   "metadata": {},
   "source": [
    "We are now ready to initialize our flowsheet in a sequential mode. Note that we specifically set the iteration limit to be 5 as we are trying to use this tool only to get a good set of initial values such that IPOPT can then take over and solve this flowsheet for us. "
   ]
  },
  {
   "cell_type": "code",
   "execution_count": 35,
   "metadata": {},
   "outputs": [
    {
     "name": "stdout",
     "output_type": "stream",
     "text": [
      "2019-07-22 15:58:19 - INFO - idaes.core.unit_model - fs.H101 Initialisation Step 1 Complete.\n",
      "2019-07-22 15:58:20 - INFO - idaes.core.unit_model - fs.H101 Initialisation Step 2 Complete.\n",
      "2019-07-22 15:58:20 - INFO - idaes.core.unit_model - fs.H101 Initialisation Complete.\n",
      "2019-07-22 15:58:20 - INFO - idaes.core.unit_model - fs.R101 Initialisation Step 1 Complete.\n",
      "2019-07-22 15:58:20 - INFO - idaes.core.unit_model - fs.R101 Initialisation Step 2 Complete.\n",
      "2019-07-22 15:58:20 - INFO - idaes.core.unit_model - fs.R101 Initialisation Complete.\n",
      "2019-07-22 15:58:20 - INFO - idaes.core.unit_model - fs.F101 Initialisation Step 1 Complete.\n",
      "2019-07-22 15:58:21 - INFO - idaes.core.unit_model - fs.F101 Initialisation Step 2 Complete.\n",
      "2019-07-22 15:58:21 - INFO - idaes.core.unit_model - fs.F101 Initialisation Complete.\n",
      "2019-07-22 15:58:21 - INFO - idaes.unit_models.separator - fs.S101 Initialisation Complete.\n",
      "2019-07-22 15:58:21 - INFO - idaes.core.unit_model - fs.F102 Initialisation Step 1 Complete.\n",
      "2019-07-22 15:58:21 - INFO - idaes.core.unit_model - fs.F102 Initialisation Step 2 Complete.\n",
      "2019-07-22 15:58:21 - INFO - idaes.core.unit_model - fs.F102 Initialisation Complete.\n",
      "2019-07-22 15:58:22 - INFO - idaes.core.unit_model - fs.C101 Initialisation Step 1 Complete.\n",
      "2019-07-22 15:58:22 - INFO - idaes.core.unit_model - fs.C101 Initialisation Step 2 Complete.\n",
      "2019-07-22 15:58:22 - INFO - idaes.core.unit_model - fs.C101 Initialisation Complete.\n",
      "2019-07-22 15:58:22 - INFO - idaes.unit_models.mixer - fs.M101 Initialisation Complete.\n",
      "2019-07-22 15:58:23 - INFO - idaes.core.unit_model - fs.H101 Initialisation Step 1 Complete.\n",
      "2019-07-22 15:58:23 - INFO - idaes.core.unit_model - fs.H101 Initialisation Step 2 Complete.\n",
      "2019-07-22 15:58:23 - INFO - idaes.core.unit_model - fs.H101 Initialisation Complete.\n",
      "2019-07-22 15:58:23 - INFO - idaes.core.unit_model - fs.R101 Initialisation Step 1 Complete.\n",
      "2019-07-22 15:58:24 - INFO - idaes.core.unit_model - fs.R101 Initialisation Step 2 Complete.\n",
      "2019-07-22 15:58:24 - INFO - idaes.core.unit_model - fs.R101 Initialisation Complete.\n",
      "2019-07-22 15:58:24 - INFO - idaes.core.unit_model - fs.F101 Initialisation Step 1 Complete.\n",
      "2019-07-22 15:58:24 - INFO - idaes.core.unit_model - fs.F101 Initialisation Step 2 Complete.\n",
      "2019-07-22 15:58:24 - INFO - idaes.core.unit_model - fs.F101 Initialisation Complete.\n",
      "2019-07-22 15:58:24 - INFO - idaes.unit_models.separator - fs.S101 Initialisation Complete.\n",
      "2019-07-22 15:58:25 - INFO - idaes.core.unit_model - fs.C101 Initialisation Step 1 Complete.\n",
      "2019-07-22 15:58:25 - INFO - idaes.core.unit_model - fs.C101 Initialisation Step 2 Complete.\n",
      "2019-07-22 15:58:25 - INFO - idaes.core.unit_model - fs.C101 Initialisation Complete.\n",
      "2019-07-22 15:58:25 - INFO - idaes.unit_models.mixer - fs.M101 Initialisation Complete.\n",
      "2019-07-22 15:58:26 - INFO - idaes.core.unit_model - fs.H101 Initialisation Step 1 Complete.\n",
      "2019-07-22 15:58:26 - INFO - idaes.core.unit_model - fs.H101 Initialisation Step 2 Complete.\n",
      "2019-07-22 15:58:26 - INFO - idaes.core.unit_model - fs.H101 Initialisation Complete.\n",
      "2019-07-22 15:58:26 - INFO - idaes.core.unit_model - fs.R101 Initialisation Step 1 Complete.\n",
      "2019-07-22 15:58:26 - INFO - idaes.core.unit_model - fs.R101 Initialisation Step 2 Complete.\n",
      "2019-07-22 15:58:27 - INFO - idaes.core.unit_model - fs.R101 Initialisation Complete.\n",
      "2019-07-22 15:58:27 - INFO - idaes.core.unit_model - fs.F101 Initialisation Step 1 Complete.\n",
      "2019-07-22 15:58:27 - INFO - idaes.core.unit_model - fs.F101 Initialisation Step 2 Complete.\n",
      "2019-07-22 15:58:27 - INFO - idaes.core.unit_model - fs.F101 Initialisation Complete.\n",
      "2019-07-22 15:58:27 - INFO - idaes.unit_models.separator - fs.S101 Initialisation Complete.\n",
      "2019-07-22 15:58:28 - INFO - idaes.core.unit_model - fs.C101 Initialisation Step 1 Complete.\n",
      "2019-07-22 15:58:28 - INFO - idaes.core.unit_model - fs.C101 Initialisation Step 2 Complete.\n",
      "2019-07-22 15:58:28 - INFO - idaes.core.unit_model - fs.C101 Initialisation Complete.\n",
      "2019-07-22 15:58:29 - INFO - idaes.unit_models.mixer - fs.M101 Initialisation Complete.\n",
      "2019-07-22 15:58:29 - INFO - idaes.core.unit_model - fs.H101 Initialisation Step 1 Complete.\n",
      "2019-07-22 15:58:29 - INFO - idaes.core.unit_model - fs.H101 Initialisation Step 2 Complete.\n",
      "2019-07-22 15:58:29 - INFO - idaes.core.unit_model - fs.H101 Initialisation Complete.\n",
      "2019-07-22 15:58:30 - INFO - idaes.core.unit_model - fs.R101 Initialisation Step 1 Complete.\n",
      "2019-07-22 15:58:30 - INFO - idaes.core.unit_model - fs.R101 Initialisation Step 2 Complete.\n",
      "2019-07-22 15:58:30 - INFO - idaes.core.unit_model - fs.R101 Initialisation Complete.\n",
      "2019-07-22 15:58:30 - INFO - idaes.core.unit_model - fs.F101 Initialisation Step 1 Complete.\n",
      "2019-07-22 15:58:30 - INFO - idaes.core.unit_model - fs.F101 Initialisation Step 2 Complete.\n",
      "2019-07-22 15:58:30 - INFO - idaes.core.unit_model - fs.F101 Initialisation Complete.\n",
      "2019-07-22 15:58:31 - INFO - idaes.unit_models.separator - fs.S101 Initialisation Complete.\n",
      "2019-07-22 15:58:31 - INFO - idaes.core.unit_model - fs.C101 Initialisation Step 1 Complete.\n",
      "2019-07-22 15:58:31 - INFO - idaes.core.unit_model - fs.C101 Initialisation Step 2 Complete.\n",
      "2019-07-22 15:58:31 - INFO - idaes.core.unit_model - fs.C101 Initialisation Complete.\n",
      "2019-07-22 15:58:32 - INFO - idaes.unit_models.mixer - fs.M101 Initialisation Complete.\n",
      "2019-07-22 15:58:32 - INFO - idaes.core.unit_model - fs.H101 Initialisation Step 1 Complete.\n",
      "2019-07-22 15:58:33 - INFO - idaes.core.unit_model - fs.H101 Initialisation Step 2 Complete.\n",
      "2019-07-22 15:58:33 - INFO - idaes.core.unit_model - fs.H101 Initialisation Complete.\n",
      "2019-07-22 15:58:33 - INFO - idaes.core.unit_model - fs.R101 Initialisation Step 1 Complete.\n",
      "2019-07-22 15:58:33 - INFO - idaes.core.unit_model - fs.R101 Initialisation Step 2 Complete.\n",
      "2019-07-22 15:58:33 - INFO - idaes.core.unit_model - fs.R101 Initialisation Complete.\n",
      "2019-07-22 15:58:34 - INFO - idaes.core.unit_model - fs.F101 Initialisation Step 1 Complete.\n",
      "2019-07-22 15:58:34 - INFO - idaes.core.unit_model - fs.F101 Initialisation Step 2 Complete.\n",
      "2019-07-22 15:58:34 - INFO - idaes.core.unit_model - fs.F101 Initialisation Complete.\n",
      "2019-07-22 15:58:34 - INFO - idaes.unit_models.separator - fs.S101 Initialisation Complete.\n",
      "2019-07-22 15:58:34 - INFO - idaes.core.unit_model - fs.C101 Initialisation Step 1 Complete.\n",
      "2019-07-22 15:58:35 - INFO - idaes.core.unit_model - fs.C101 Initialisation Step 2 Complete.\n",
      "2019-07-22 15:58:35 - INFO - idaes.core.unit_model - fs.C101 Initialisation Complete.\n",
      "2019-07-22 15:58:35 - INFO - idaes.unit_models.mixer - fs.M101 Initialisation Complete.\n",
      "2019-07-22 15:58:36 - INFO - idaes.core.unit_model - fs.H101 Initialisation Step 1 Complete.\n",
      "2019-07-22 15:58:36 - INFO - idaes.core.unit_model - fs.H101 Initialisation Step 2 Complete.\n",
      "2019-07-22 15:58:36 - INFO - idaes.core.unit_model - fs.H101 Initialisation Complete.\n",
      "2019-07-22 15:58:36 - INFO - idaes.core.unit_model - fs.R101 Initialisation Step 1 Complete.\n",
      "2019-07-22 15:58:37 - INFO - idaes.core.unit_model - fs.R101 Initialisation Step 2 Complete.\n",
      "2019-07-22 15:58:37 - INFO - idaes.core.unit_model - fs.R101 Initialisation Complete.\n",
      "2019-07-22 15:58:37 - INFO - idaes.core.unit_model - fs.F101 Initialisation Step 1 Complete.\n",
      "2019-07-22 15:58:37 - INFO - idaes.core.unit_model - fs.F101 Initialisation Step 2 Complete.\n",
      "2019-07-22 15:58:37 - INFO - idaes.core.unit_model - fs.F101 Initialisation Complete.\n",
      "2019-07-22 15:58:37 - INFO - idaes.unit_models.separator - fs.S101 Initialisation Complete.\n",
      "2019-07-22 15:58:38 - INFO - idaes.core.unit_model - fs.C101 Initialisation Step 1 Complete.\n",
      "2019-07-22 15:58:38 - INFO - idaes.core.unit_model - fs.C101 Initialisation Step 2 Complete.\n",
      "2019-07-22 15:58:38 - INFO - idaes.core.unit_model - fs.C101 Initialisation Complete.\n",
      "2019-07-22 15:58:39 - INFO - idaes.unit_models.mixer - fs.M101 Initialisation Complete.\n",
      "2019-07-22 15:58:39 - INFO - idaes.core.unit_model - fs.H101 Initialisation Step 1 Complete.\n",
      "2019-07-22 15:58:40 - INFO - idaes.core.unit_model - fs.H101 Initialisation Step 2 Complete.\n",
      "2019-07-22 15:58:40 - INFO - idaes.core.unit_model - fs.H101 Initialisation Complete.\n",
      "2019-07-22 15:58:40 - INFO - idaes.core.unit_model - fs.R101 Initialisation Step 1 Complete.\n",
      "2019-07-22 15:58:40 - INFO - idaes.core.unit_model - fs.R101 Initialisation Step 2 Complete.\n",
      "2019-07-22 15:58:40 - INFO - idaes.core.unit_model - fs.R101 Initialisation Complete.\n",
      "2019-07-22 15:58:40 - INFO - idaes.core.unit_model - fs.F101 Initialisation Step 1 Complete.\n",
      "2019-07-22 15:58:41 - INFO - idaes.core.unit_model - fs.F101 Initialisation Step 2 Complete.\n",
      "2019-07-22 15:58:41 - INFO - idaes.core.unit_model - fs.F101 Initialisation Complete.\n",
      "2019-07-22 15:58:41 - INFO - idaes.unit_models.separator - fs.S101 Initialisation Complete.\n",
      "2019-07-22 15:58:41 - INFO - idaes.core.unit_model - fs.C101 Initialisation Step 1 Complete.\n",
      "2019-07-22 15:58:41 - INFO - idaes.core.unit_model - fs.C101 Initialisation Step 2 Complete.\n",
      "2019-07-22 15:58:41 - INFO - idaes.core.unit_model - fs.C101 Initialisation Complete.\n",
      "2019-07-22 15:58:42 - INFO - idaes.unit_models.mixer - fs.M101 Initialisation Complete.\n",
      "WARNING: Wegstein failed to converge in 5 iterations\n",
      "2019-07-22 15:58:43 - INFO - idaes.core.unit_model - fs.F102 Initialisation Step 1 Complete.\n",
      "2019-07-22 15:58:43 - INFO - idaes.core.unit_model - fs.F102 Initialisation Step 2 Complete.\n",
      "2019-07-22 15:58:43 - INFO - idaes.core.unit_model - fs.F102 Initialisation Complete.\n"
     ]
    }
   ],
   "source": [
    "seq.run(m, function)"
   ]
  },
  {
   "cell_type": "markdown",
   "metadata": {},
   "source": [
    "<div class=\"alert alert-block alert-info\">\n",
    "<b>Inline Exercise:</b>\n",
    "We have now initialized the flowsheet. Let us run the flowsheet in a simulation mode to look at the results. To do this, complete the last line of code where we pass the model to the solver. You will need to type the following:\n",
    "    \n",
    "results = solver.solve(m, tee=True)\n",
    "\n",
    "Use Shift+Enter to run the cell once you have typed in your code. \n",
    "</div>\n",
    "\n"
   ]
  },
  {
   "cell_type": "code",
   "execution_count": 36,
   "metadata": {},
   "outputs": [],
   "source": [
    "# Create the solver object\n",
    "solver = SolverFactory('ipopt')\n",
    "solver.options = {'tol': 1e-6, 'max_iter': 5000}\n",
    "\n",
    "# Solve the model\n",
    "results = solver.solve(m, tee=False)"
   ]
  },
  {
   "cell_type": "code",
   "execution_count": 37,
   "metadata": {},
   "outputs": [],
   "source": [
    "# For testing purposes\n",
    "from pyomo.environ import TerminationCondition\n",
    "assert results.solver.termination_condition == TerminationCondition.optimal"
   ]
  },
  {
   "cell_type": "markdown",
   "metadata": {},
   "source": [
    "Analyze the results of the square problem\n",
    "-------------------------\n",
    "\n",
    "What is the total operating cost? "
   ]
  },
  {
   "cell_type": "code",
   "execution_count": 38,
   "metadata": {},
   "outputs": [
    {
     "name": "stdout",
     "output_type": "stream",
     "text": [
      "operating cost = $ 419122.33876779483\n"
     ]
    }
   ],
   "source": [
    "print('operating cost = $', value(m.fs.operating_cost))"
   ]
  },
  {
   "cell_type": "markdown",
   "metadata": {},
   "source": [
    "For this operating cost, what is the amount of benzene we are able to produce and what purity we are able to achieve? "
   ]
  },
  {
   "cell_type": "code",
   "execution_count": 39,
   "metadata": {},
   "outputs": [
    {
     "ename": "ModuleNotFoundError",
     "evalue": "No module named 'workshoptools'",
     "output_type": "error",
     "traceback": [
      "\u001b[0;31m---------------------------------------------------------------------------\u001b[0m",
      "\u001b[0;31mModuleNotFoundError\u001b[0m                       Traceback (most recent call last)",
      "\u001b[0;32m<ipython-input-39-835451f2371b>\u001b[0m in \u001b[0;36m<module>\u001b[0;34m\u001b[0m\n\u001b[0;32m----> 1\u001b[0;31m \u001b[0;32mfrom\u001b[0m \u001b[0mworkshoptools\u001b[0m \u001b[0;32mimport\u001b[0m \u001b[0mprint_ports_summary\u001b[0m\u001b[0;34m\u001b[0m\u001b[0;34m\u001b[0m\u001b[0m\n\u001b[0m\u001b[1;32m      2\u001b[0m \u001b[0;34m\u001b[0m\u001b[0m\n\u001b[1;32m      3\u001b[0m \u001b[0mprint_ports_summary\u001b[0m\u001b[0;34m(\u001b[0m\u001b[0;34m[\u001b[0m\u001b[0mm\u001b[0m\u001b[0;34m.\u001b[0m\u001b[0mfs\u001b[0m\u001b[0;34m.\u001b[0m\u001b[0mF102\u001b[0m\u001b[0;34m.\u001b[0m\u001b[0mvap_outlet\u001b[0m\u001b[0;34m]\u001b[0m\u001b[0;34m)\u001b[0m\u001b[0;34m\u001b[0m\u001b[0;34m\u001b[0m\u001b[0m\n\u001b[1;32m      4\u001b[0m \u001b[0;34m\u001b[0m\u001b[0m\n\u001b[1;32m      5\u001b[0m \u001b[0mprint\u001b[0m\u001b[0;34m(\u001b[0m\u001b[0;34m)\u001b[0m\u001b[0;34m\u001b[0m\u001b[0;34m\u001b[0m\u001b[0m\n",
      "\u001b[0;31mModuleNotFoundError\u001b[0m: No module named 'workshoptools'"
     ]
    }
   ],
   "source": [
    "from workshoptools import print_ports_summary\n",
    "\n",
    "print_ports_summary([m.fs.F102.vap_outlet])\n",
    "\n",
    "print()\n",
    "print('benzene purity = ', value(m.fs.purity))"
   ]
  },
  {
   "cell_type": "markdown",
   "metadata": {},
   "source": [
    "<div class=\"alert alert-block alert-info\">\n",
    "<b>Inline Exercise:</b>\n",
    "How much benzene are we loosing in the F101 vapor outlet stream? \n",
    "\n",
    "Use Shift+Enter to run the cell once you have typed in your code. \n",
    "</div>\n"
   ]
  },
  {
   "cell_type": "code",
   "execution_count": 40,
   "metadata": {},
   "outputs": [
    {
     "ename": "NameError",
     "evalue": "name 'print_ports_summary' is not defined",
     "output_type": "error",
     "traceback": [
      "\u001b[0;31m---------------------------------------------------------------------------\u001b[0m",
      "\u001b[0;31mNameError\u001b[0m                                 Traceback (most recent call last)",
      "\u001b[0;32m<ipython-input-40-3c62a5ea506c>\u001b[0m in \u001b[0;36m<module>\u001b[0;34m\u001b[0m\n\u001b[0;32m----> 1\u001b[0;31m \u001b[0mprint_ports_summary\u001b[0m\u001b[0;34m(\u001b[0m\u001b[0;34m[\u001b[0m\u001b[0mm\u001b[0m\u001b[0;34m.\u001b[0m\u001b[0mfs\u001b[0m\u001b[0;34m.\u001b[0m\u001b[0mR101\u001b[0m\u001b[0;34m.\u001b[0m\u001b[0moutlet\u001b[0m\u001b[0;34m,\u001b[0m \u001b[0mm\u001b[0m\u001b[0;34m.\u001b[0m\u001b[0mfs\u001b[0m\u001b[0;34m.\u001b[0m\u001b[0mF101\u001b[0m\u001b[0;34m.\u001b[0m\u001b[0mvap_outlet\u001b[0m\u001b[0;34m]\u001b[0m\u001b[0;34m)\u001b[0m\u001b[0;34m\u001b[0m\u001b[0;34m\u001b[0m\u001b[0m\n\u001b[0m",
      "\u001b[0;31mNameError\u001b[0m: name 'print_ports_summary' is not defined"
     ]
    }
   ],
   "source": [
    "print_ports_summary([m.fs.R101.outlet, m.fs.F101.vap_outlet])"
   ]
  },
  {
   "cell_type": "markdown",
   "metadata": {},
   "source": [
    "<div class=\"alert alert-block alert-info\">\n",
    "<b>Inline Exercise:</b>\n",
    "You can querry additional variables here if you like. \n",
    "\n",
    "Use Shift+Enter to run the cell once you have typed in your code. \n",
    "</div>\n"
   ]
  },
  {
   "cell_type": "markdown",
   "metadata": {},
   "source": [
    "Optimization\n",
    "--------------------------\n",
    "\n",
    "We saw from the results above that the total operating cost for the base case was $419,122 per year. We are producing 0.142 mol/s of benzene at a purity of 82\\%. However, we are losing around 42\\% of benzene in F101 vapor outlet stream. \n",
    "\n",
    "Let us try to minimize this cost such that:\n",
    "- we are producing at least 0.15 mol/s of benzene in F102 vapor outlet i.e. our product stream\n",
    "- purity of benzne i.e. the mole fraction of benzene in F102 vapor outlet is at least 80%\n",
    "- restricting the benzene loss in F101 vapor outlet to less than 20%\n",
    "\n",
    "For this problem, our decision variables are as follows:\n",
    "- H101 outlet temperature\n",
    "- R101 cooling duty provided\n",
    "- F101 outlet temperature\n",
    "- F102 outlet temperature\n",
    "- F102 deltaP in the flash tank\n"
   ]
  },
  {
   "cell_type": "markdown",
   "metadata": {},
   "source": [
    "Let us declare our objective function for this problem. "
   ]
  },
  {
   "cell_type": "code",
   "execution_count": 41,
   "metadata": {},
   "outputs": [],
   "source": [
    "m.fs.objective = Objective(expr=m.fs.operating_cost)"
   ]
  },
  {
   "cell_type": "markdown",
   "metadata": {},
   "source": [
    "Now, we need to unfix the decision variables as we had solved a square problem (degrees of freedom = 0) until now. "
   ]
  },
  {
   "cell_type": "code",
   "execution_count": 42,
   "metadata": {},
   "outputs": [],
   "source": [
    "m.fs.H101.outlet.temperature.unfix()\n",
    "m.fs.R101.heat_duty.unfix()\n",
    "m.fs.F101.vap_outlet.temperature.unfix()\n",
    "m.fs.F102.vap_outlet.temperature.unfix()"
   ]
  },
  {
   "cell_type": "markdown",
   "metadata": {},
   "source": [
    "<div class=\"alert alert-block alert-info\">\n",
    "<b>Inline Exercise:</b>\n",
    "Let us now unfix the remaining variable which is F102 pressure drop (F102.deltaP) \n",
    "\n",
    "Use Shift+Enter to run the cell once you have typed in your code. \n",
    "</div>\n",
    "\n"
   ]
  },
  {
   "cell_type": "code",
   "execution_count": 43,
   "metadata": {},
   "outputs": [],
   "source": [
    "m.fs.F102.deltaP.unfix()"
   ]
  },
  {
   "cell_type": "markdown",
   "metadata": {},
   "source": [
    "Next, we need to set bounds on these decision variables to values shown below:\n",
    "\n",
    " - H101 outlet temperature [500, 600] K\n",
    " - R101 outlet temperature [600, 800] K\n",
    " - F101 outlet temperature [298, 450] K\n",
    " - F102 outlet temperature [298, 450] K\n",
    " - F102 outlet pressure [105000, 110000] Pa\n",
    "\n",
    "Let us first set the variable bound for the H101 outlet temperature as shown below:"
   ]
  },
  {
   "cell_type": "code",
   "execution_count": 44,
   "metadata": {},
   "outputs": [],
   "source": [
    "m.fs.H101.outlet.temperature[0].setlb(500)\n",
    "m.fs.H101.outlet.temperature[0].setub(600)"
   ]
  },
  {
   "cell_type": "markdown",
   "metadata": {},
   "source": [
    "<div class=\"alert alert-block alert-info\">\n",
    "<b>Inline Exercise:</b>\n",
    "Now, set the variable bound for the R101 outlet temperature.\n",
    "\n",
    "Use Shift+Enter to run the cell once you have typed in your code. \n",
    "</div>"
   ]
  },
  {
   "cell_type": "code",
   "execution_count": 45,
   "metadata": {},
   "outputs": [],
   "source": [
    "m.fs.R101.outlet.temperature[0].setlb(600)\n",
    "m.fs.R101.outlet.temperature[0].setub(800)"
   ]
  },
  {
   "cell_type": "markdown",
   "metadata": {},
   "source": [
    "Let us fix the bounds for the rest of the decision variables. "
   ]
  },
  {
   "cell_type": "code",
   "execution_count": 46,
   "metadata": {},
   "outputs": [],
   "source": [
    "m.fs.F101.vap_outlet.temperature[0].setlb(298.0)\n",
    "m.fs.F101.vap_outlet.temperature[0].setub(450.0)\n",
    "m.fs.F102.vap_outlet.temperature[0].setlb(298.0)\n",
    "m.fs.F102.vap_outlet.temperature[0].setub(450.0)\n",
    "m.fs.F102.vap_outlet.pressure[0].setlb(105000)\n",
    "m.fs.F102.vap_outlet.pressure[0].setub(110000)"
   ]
  },
  {
   "cell_type": "markdown",
   "metadata": {},
   "source": [
    "Now, the only things left to define are our constraints on overhead loss in F101, product flow rate and purity in F102. Let us first look at defining a constraint for the overhead loss in F101 where we are restricting the benzene leaving the vapor stream to less than 20 \\% of the benzene available in the reactor outlet. "
   ]
  },
  {
   "cell_type": "code",
   "execution_count": 47,
   "metadata": {},
   "outputs": [],
   "source": [
    "m.fs.overhead_loss = Constraint(\n",
    "        expr=m.fs.F101.vap_outlet.flow_mol_phase_comp[0, \"Vap\", \"benzene\"] <=\n",
    "        0.20 * m.fs.R101.outlet.flow_mol_phase_comp[0, \"Vap\", \"benzene\"])"
   ]
  },
  {
   "cell_type": "markdown",
   "metadata": {},
   "source": [
    "<div class=\"alert alert-block alert-info\">\n",
    "<b>Inline Exercise:</b>\n",
    "Now, add the constraint such that we are producing at least 0.15 mol/s of benzene in the product stream which is the vapor outlet of F102. Let us name this constraint as m.fs.product_flow. \n",
    "\n",
    "Use Shift+Enter to run the cell once you have typed in your code. \n",
    "</div>"
   ]
  },
  {
   "cell_type": "code",
   "execution_count": 48,
   "metadata": {},
   "outputs": [],
   "source": [
    "m.fs.product_flow = Constraint(\n",
    "        expr=m.fs.F102.vap_outlet.flow_mol_phase_comp[0, \"Vap\", \"benzene\"] >=\n",
    "        0.15)"
   ]
  },
  {
   "cell_type": "markdown",
   "metadata": {},
   "source": [
    "Let us add the final constraint on product purity or the mole fraction of benzene in the product stream such that it is at least greater than 80%. "
   ]
  },
  {
   "cell_type": "code",
   "execution_count": 49,
   "metadata": {},
   "outputs": [],
   "source": [
    "m.fs.product_purity = Constraint(expr=m.fs.purity >= 0.80)"
   ]
  },
  {
   "cell_type": "markdown",
   "metadata": {},
   "source": [
    "\n",
    "We have now defined the optimization problem and we are now ready to solve this problem. \n",
    "\n",
    "\n"
   ]
  },
  {
   "cell_type": "code",
   "execution_count": 50,
   "metadata": {},
   "outputs": [
    {
     "name": "stdout",
     "output_type": "stream",
     "text": [
      "Ipopt 3.12.12: tol=1e-06\n",
      "max_iter=5000\n",
      "\n",
      "\n",
      "******************************************************************************\n",
      "This program contains Ipopt, a library for large-scale nonlinear optimization.\n",
      " Ipopt is released as open source code under the Eclipse Public License (EPL).\n",
      "         For more information visit http://projects.coin-or.org/Ipopt\n",
      "******************************************************************************\n",
      "\n",
      "This is Ipopt version 3.12.12, running with linear solver mumps.\n",
      "NOTE: Other linear solvers might be more efficient (see Ipopt documentation).\n",
      "\n",
      "Number of nonzeros in equality constraint Jacobian...:     1048\n",
      "Number of nonzeros in inequality constraint Jacobian.:        5\n",
      "Number of nonzeros in Lagrangian Hessian.............:      901\n",
      "\n",
      "Total number of variables............................:      343\n",
      "                     variables with only lower bounds:        0\n",
      "                variables with lower and upper bounds:      149\n",
      "                     variables with only upper bounds:        0\n",
      "Total number of equality constraints.................:      338\n",
      "Total number of inequality constraints...............:        3\n",
      "        inequality constraints with only lower bounds:        2\n",
      "   inequality constraints with lower and upper bounds:        0\n",
      "        inequality constraints with only upper bounds:        1\n",
      "\n",
      "iter    objective    inf_pr   inf_du lg(mu)  ||d||  lg(rg) alpha_du alpha_pr  ls\n",
      "   0  4.1912234e+05 2.99e+05 6.94e+00  -1.0 0.00e+00    -  0.00e+00 0.00e+00   0\n",
      "   1  4.1628396e+05 2.99e+05 6.94e+00  -1.0 4.82e+09    -  1.80e-05 5.83e-06f  1\n",
      "   2  4.1616769e+05 2.99e+05 1.60e+02  -1.0 1.45e+09    -  5.86e-04 1.47e-05f  1\n",
      "   3  4.0783429e+05 2.94e+05 4.85e+02  -1.0 1.35e+09    -  2.61e-04 9.35e-04f  1\n",
      "   4  2.9670827e+05 2.83e+06 6.94e+02  -1.0 4.75e+08    -  7.35e-05 1.50e-03f  1\n",
      "   5  2.9557701e+05 2.82e+06 4.95e+04  -1.0 1.90e+08    -  1.88e-01 1.04e-03f  1\n",
      "   6  2.9452502e+05 2.72e+06 4.63e+05  -1.0 4.40e+07    -  1.88e-01 3.46e-02f  1\n",
      "   7  2.9632753e+05 2.13e+06 4.47e+05  -1.0 1.47e+07    -  7.61e-02 2.19e-01h  1\n",
      "   8  2.9636923e+05 2.12e+06 4.45e+05  -1.0 5.86e+06    -  6.38e-01 3.38e-03h  1\n",
      "   9  2.9647019e+05 2.10e+06 4.42e+05  -1.0 6.53e+06    -  7.25e-01 7.18e-03h  1\n",
      "iter    objective    inf_pr   inf_du lg(mu)  ||d||  lg(rg) alpha_du alpha_pr  ls\n",
      "  10  2.9958737e+05 1.63e+06 4.17e+05  -1.0 6.56e+06    -  3.55e-02 2.24e-01h  1\n",
      "  11  3.0436334e+05 9.49e+05 6.96e+05  -1.0 5.55e+06    -  9.46e-01 4.19e-01h  1\n",
      "  12  3.0792618e+05 5.00e+05 4.56e+06  -1.0 4.03e+06    -  9.90e-01 4.73e-01h  1\n",
      "  13  3.0931998e+05 3.46e+05 1.59e+08  -1.0 2.67e+06    -  1.00e+00 3.08e-01h  2\n",
      "  14  3.1261432e+05 5.80e+05 1.20e+11  -1.0 2.00e+06    -  1.00e+00 9.78e-01H  1\n",
      "  15  3.1271509e+05 2.42e+05 8.71e+08  -1.0 1.43e+05    -  1.00e+00 5.84e-01h  1\n",
      "  16  3.1278603e+05 2.73e+03 3.26e+11  -1.0 5.97e+04    -  1.00e+00 9.90e-01h  1\n",
      "  17  3.1278674e+05 1.79e-01 3.96e+09  -1.0 6.18e+02    -  1.00e+00 1.00e+00h  1\n",
      "  18  3.1278674e+05 1.91e-06 3.15e+05  -1.0 5.18e-03    -  1.00e+00 1.00e+00h  1\n",
      "  19  3.1278634e+05 3.47e-05 1.62e+06  -3.8 2.02e+02    -  1.00e+00 1.00e+00f  1\n",
      "iter    objective    inf_pr   inf_du lg(mu)  ||d||  lg(rg) alpha_du alpha_pr  ls\n",
      "  20  3.1278634e+05 7.45e-09 1.17e-03  -3.8 1.71e-01    -  1.00e+00 1.00e+00h  1\n",
      "  21  3.1278634e+05 7.45e-09 4.40e+00  -7.0 3.04e-01    -  1.00e+00 1.00e+00f  1\n",
      "  22  3.1278634e+05 2.24e-08 5.98e-05  -7.0 4.01e-07  -4.0 1.00e+00 1.00e+00h  1\n",
      "\n",
      "Number of Iterations....: 22\n",
      "\n",
      "                                   (scaled)                 (unscaled)\n",
      "Objective...............:   3.1278633834102674e+05    3.1278633834102674e+05\n",
      "Dual infeasibility......:   5.9823148654700392e-05    5.9823148654700392e-05\n",
      "Constraint violation....:   2.9103830456733704e-11    2.2351741790771484e-08\n",
      "Complementarity.........:   9.0926527280252956e-08    9.0926527280252956e-08\n",
      "Overall NLP error.......:   2.1728192134445665e-09    5.9823148654700392e-05\n",
      "\n",
      "\n",
      "Number of objective function evaluations             = 26\n",
      "Number of objective gradient evaluations             = 23\n",
      "Number of equality constraint evaluations            = 26\n",
      "Number of inequality constraint evaluations          = 26\n",
      "Number of equality constraint Jacobian evaluations   = 23\n",
      "Number of inequality constraint Jacobian evaluations = 23\n",
      "Number of Lagrangian Hessian evaluations             = 22\n",
      "Total CPU secs in IPOPT (w/o function evaluations)   =      0.094\n",
      "Total CPU secs in NLP function evaluations           =      0.000\n",
      "\n",
      "EXIT: Optimal Solution Found.\n"
     ]
    }
   ],
   "source": [
    "results = solver.solve(m, tee=True)"
   ]
  },
  {
   "cell_type": "code",
   "execution_count": 51,
   "metadata": {},
   "outputs": [],
   "source": [
    "# For testing purposes\n",
    "from pyomo.environ import TerminationCondition\n",
    "assert results.solver.termination_condition == TerminationCondition.optimal"
   ]
  },
  {
   "cell_type": "markdown",
   "metadata": {},
   "source": [
    "Optimization Results\n",
    "---\n",
    "Display the results and product specifications"
   ]
  },
  {
   "cell_type": "code",
   "execution_count": 52,
   "metadata": {},
   "outputs": [
    {
     "name": "stdout",
     "output_type": "stream",
     "text": [
      "operating cost = $ 312786.33834102674\n",
      "\n",
      "Product flow rate and purity in F102\n"
     ]
    },
    {
     "ename": "NameError",
     "evalue": "name 'print_ports_summary' is not defined",
     "output_type": "error",
     "traceback": [
      "\u001b[0;31m---------------------------------------------------------------------------\u001b[0m",
      "\u001b[0;31mNameError\u001b[0m                                 Traceback (most recent call last)",
      "\u001b[0;32m<ipython-input-52-d0e26f605cde>\u001b[0m in \u001b[0;36m<module>\u001b[0;34m\u001b[0m\n\u001b[1;32m      4\u001b[0m \u001b[0mprint\u001b[0m\u001b[0;34m(\u001b[0m\u001b[0;34m'Product flow rate and purity in F102'\u001b[0m\u001b[0;34m)\u001b[0m\u001b[0;34m\u001b[0m\u001b[0;34m\u001b[0m\u001b[0m\n\u001b[1;32m      5\u001b[0m \u001b[0;34m\u001b[0m\u001b[0m\n\u001b[0;32m----> 6\u001b[0;31m \u001b[0mprint_ports_summary\u001b[0m\u001b[0;34m(\u001b[0m\u001b[0;34m[\u001b[0m\u001b[0mm\u001b[0m\u001b[0;34m.\u001b[0m\u001b[0mfs\u001b[0m\u001b[0;34m.\u001b[0m\u001b[0mF102\u001b[0m\u001b[0;34m.\u001b[0m\u001b[0mvap_outlet\u001b[0m\u001b[0;34m]\u001b[0m\u001b[0;34m)\u001b[0m\u001b[0;34m\u001b[0m\u001b[0;34m\u001b[0m\u001b[0m\n\u001b[0m\u001b[1;32m      7\u001b[0m \u001b[0;34m\u001b[0m\u001b[0m\n\u001b[1;32m      8\u001b[0m \u001b[0mprint\u001b[0m\u001b[0;34m(\u001b[0m\u001b[0;34m)\u001b[0m\u001b[0;34m\u001b[0m\u001b[0;34m\u001b[0m\u001b[0m\n",
      "\u001b[0;31mNameError\u001b[0m: name 'print_ports_summary' is not defined"
     ]
    }
   ],
   "source": [
    "print('operating cost = $', value(m.fs.operating_cost))\n",
    "\n",
    "print()\n",
    "print('Product flow rate and purity in F102')\n",
    "\n",
    "print_ports_summary([m.fs.F102.vap_outlet])\n",
    "\n",
    "print()\n",
    "print('benzene purity = ', value(m.fs.purity))\n",
    "\n",
    "print()\n",
    "print('Overhead loss in F101')\n",
    "print_ports_summary([m.fs.F101.vap_outlet])"
   ]
  },
  {
   "cell_type": "markdown",
   "metadata": {},
   "source": [
    "Display optimal values for the decision variables"
   ]
  },
  {
   "cell_type": "code",
   "execution_count": null,
   "metadata": {},
   "outputs": [],
   "source": [
    "print('Optimal Values')\n",
    "print()\n",
    "\n",
    "print('H101 outlet temperature = ', value(m.fs.H101.outlet.temperature[0]), 'K')\n",
    "\n",
    "print()\n",
    "print('R101 outlet temperature = ', value(m.fs.R101.outlet.temperature[0]), 'K')\n",
    "\n",
    "print()\n",
    "print('F101 outlet temperature = ', value(m.fs.F101.vap_outlet.temperature[0]), 'K')\n",
    "\n",
    "print()\n",
    "print('F102 outlet temperature = ', value(m.fs.F102.vap_outlet.temperature[0]), 'K')\n",
    "print('F102 outlet pressure = ', value(m.fs.F102.vap_outlet.pressure[0]), 'Pa')"
   ]
  },
  {
   "cell_type": "code",
   "execution_count": 40,
   "metadata": {},
   "outputs": [],
   "source": [
    "from ui.model_serializer.model_serializer import ModelSerializer"
   ]
  },
  {
   "cell_type": "code",
   "execution_count": 41,
   "metadata": {},
   "outputs": [],
   "source": [
    "ms = ModelSerializer ()"
   ]
  },
  {
   "cell_type": "code",
   "execution_count": 42,
   "metadata": {},
   "outputs": [
    {
     "name": "stdout",
     "output_type": "stream",
     "text": [
      "{<idaes.core.process_block._ScalarMixer object at 0x7f3ca45b4288>: {'name': 'M101', 'type': '_ScalarMixer'}, <idaes.core.process_block._ScalarHeater object at 0x7f3ca45b43f0>: {'name': 'H101', 'type': '_ScalarHeater'}, <idaes.core.process_block._ScalarStoichiometricReactor object at 0x7f3ca45aeb40>: {'name': 'R101', 'type': '_ScalarStoichiometricReactor'}, <idaes.core.process_block._ScalarFlash object at 0x7f3ca455fb88>: {'name': 'F101', 'type': '_ScalarFlash'}, <idaes.core.process_block._ScalarSeparator object at 0x7f3ca451ae58>: {'name': 'S101', 'type': '_ScalarSeparator'}, <idaes.core.process_block._ScalarPressureChanger object at 0x7f3ca44b5bd0>: {'name': 'C101', 'type': '_ScalarPressureChanger'}, <idaes.core.process_block._ScalarFlash object at 0x7f3ca44b5c18>: {'name': 'F102', 'type': '_ScalarFlash'}}\n",
      "loading existing saved vis file\n"
     ]
    },
    {
     "ename": "NameError",
     "evalue": "name 'icon_mapping' is not defined",
     "output_type": "error",
     "traceback": [
      "\u001b[0;31m---------------------------------------------------------------------------\u001b[0m",
      "\u001b[0;31mNameError\u001b[0m                                 Traceback (most recent call last)",
      "\u001b[0;32m<ipython-input-42-1140fbbee5f6>\u001b[0m in \u001b[0;36m<module>\u001b[0;34m\u001b[0m\n\u001b[0;32m----> 1\u001b[0;31m \u001b[0mms\u001b[0m\u001b[0;34m.\u001b[0m\u001b[0msave\u001b[0m\u001b[0;34m(\u001b[0m\u001b[0mm\u001b[0m\u001b[0;34m.\u001b[0m\u001b[0mfs\u001b[0m\u001b[0;34m,\u001b[0m \u001b[0;34m'somename'\u001b[0m\u001b[0;34m)\u001b[0m\u001b[0;34m\u001b[0m\u001b[0;34m\u001b[0m\u001b[0m\n\u001b[0m",
      "\u001b[0;32m/mnt/c/Users/Perren Yang/Desktop/wsl/idaes-dev-py/idaes-dev/ui/model_serializer/model_serializer.py\u001b[0m in \u001b[0;36msave\u001b[0;34m(self, flowsheet, file_base_name)\u001b[0m\n\u001b[1;32m     83\u001b[0m             \u001b[0mentry\u001b[0m\u001b[0;34m[\u001b[0m\u001b[0;34m'z'\u001b[0m\u001b[0;34m]\u001b[0m \u001b[0;34m=\u001b[0m \u001b[0;36m1\u001b[0m\u001b[0;34m,\u001b[0m\u001b[0;34m\u001b[0m\u001b[0;34m\u001b[0m\u001b[0m\n\u001b[1;32m     84\u001b[0m             entry['attrs'] = {\n\u001b[0;32m---> 85\u001b[0;31m                     \u001b[0;34m'image'\u001b[0m\u001b[0;34m:\u001b[0m \u001b[0;34m{\u001b[0m\u001b[0;34m'xlinkHref'\u001b[0m\u001b[0;34m:\u001b[0m \u001b[0micon_mapping\u001b[0m\u001b[0;34m[\u001b[0m\u001b[0munit_attrs\u001b[0m\u001b[0;34m[\u001b[0m\u001b[0;34m'type'\u001b[0m\u001b[0;34m]\u001b[0m\u001b[0;34m]\u001b[0m\u001b[0;34m}\u001b[0m\u001b[0;34m,\u001b[0m\u001b[0;34m\u001b[0m\u001b[0;34m\u001b[0m\u001b[0m\n\u001b[0m\u001b[1;32m     86\u001b[0m                     \u001b[0;31m#'label': {'text':\"\"},\u001b[0m\u001b[0;34m\u001b[0m\u001b[0;34m\u001b[0m\u001b[0;34m\u001b[0m\u001b[0m\n\u001b[1;32m     87\u001b[0m                     \u001b[0;34m'root'\u001b[0m\u001b[0;34m:\u001b[0m \u001b[0;34m{\u001b[0m\u001b[0;34m'title'\u001b[0m\u001b[0;34m:\u001b[0m \u001b[0;34m'joint.shapes.standard.Image'\u001b[0m\u001b[0;34m}\u001b[0m\u001b[0;34m\u001b[0m\u001b[0;34m\u001b[0m\u001b[0m\n",
      "\u001b[0;31mNameError\u001b[0m: name 'icon_mapping' is not defined"
     ]
    }
   ],
   "source": [
    "ms.save(m.fs, 'somename')"
   ]
  },
  {
   "cell_type": "code",
   "execution_count": null,
   "metadata": {},
   "outputs": [],
   "source": [
    "co = m.component_objects(descend_into=False)"
   ]
  },
  {
   "cell_type": "code",
   "execution_count": 66,
   "metadata": {},
   "outputs": [],
   "source": [
    "co = next(co).component_objects(descend_into=False)"
   ]
  },
  {
   "cell_type": "code",
   "execution_count": 72,
   "metadata": {},
   "outputs": [
    {
     "data": {
      "text/plain": [
       "<idaes.core.process_block._ScalarStoichiometricReactor at 0x7f54df2ea3a8>"
      ]
     },
     "execution_count": 72,
     "metadata": {},
     "output_type": "execute_result"
    }
   ],
   "source": [
    "next(co)"
   ]
  },
  {
   "cell_type": "code",
   "execution_count": null,
   "metadata": {},
   "outputs": [],
   "source": []
  },
  {
   "cell_type": "code",
   "execution_count": null,
   "metadata": {},
   "outputs": [],
   "source": []
  },
  {
   "cell_type": "code",
   "execution_count": 56,
   "metadata": {},
   "outputs": [],
   "source": [
    "from icecream import ic"
   ]
  },
  {
   "cell_type": "code",
   "execution_count": 61,
   "metadata": {},
   "outputs": [],
   "source": [
    "from idaes.core import UnitModelBlockData\n",
    "from pyomo.network.port import SimplePort\n",
    "from pyomo.network.arc import SimpleArc\n",
    "from pyomo.core.base.param import SimpleParam\n",
    "from pyomo.core.base.var import IndexedVar\n",
    "\n",
    "import json"
   ]
  },
  {
   "cell_type": "code",
   "execution_count": 88,
   "metadata": {},
   "outputs": [
    {
     "name": "stderr",
     "output_type": "stream",
     "text": [
      "ic| component: <pyomo.core.base.sets.OrderedSimpleSet object at 0x7ff8c3b558d0>\n",
      "ic| component: <idaes.core.process_block._ScalarHDAParameterBlock object at 0x7ff8c3e89630>\n",
      "ic| component: <idaes.core.process_block._ScalarHDAReactionParameterBlock object at 0x7ff8c43b6090>\n",
      "ic| component: <idaes.core.process_block._ScalarMixer object at 0x7ff8c46ff750>\n",
      "ic| component: <idaes.core.process_block._ScalarHeater object at 0x7ff8c43c8990>\n",
      "ic| component: <idaes.core.process_block._ScalarStoichiometricReactor object at 0x7ff8c3a9d1b0>\n",
      "ic| component: <idaes.core.process_block._ScalarFlash object at 0x7ff8c3a47a68>\n",
      "ic| component: <idaes.core.process_block._ScalarSeparator object at 0x7ff8c39fd360>\n",
      "ic| component: <idaes.core.process_block._ScalarPressureChanger object at 0x7ff8c3a19d80>\n",
      "ic| component: <idaes.core.process_block._ScalarFlash object at 0x7ff8c3a19dc8>\n",
      "ic| component: <pyomo.network.arc.SimpleArc object at 0x7ff8c3a5adc8>\n",
      "ic| component: <pyomo.network.arc.SimpleArc object at 0x7ff8c39e6528>\n",
      "ic| component: <pyomo.network.arc.SimpleArc object at 0x7ff8c39e6648>\n",
      "ic| component: <pyomo.network.arc.SimpleArc object at 0x7ff8c39e66a8>\n",
      "ic| component: <pyomo.network.arc.SimpleArc object at 0x7ff8c39e6708>\n",
      "ic| component: <pyomo.network.arc.SimpleArc object at 0x7ff8c39e6768>\n",
      "ic| component: <pyomo.network.arc.SimpleArc object at 0x7ff8c39e67c8>\n",
      "ic| component: <pyomo.core.base.block.SimpleBlock object at 0x7ff8c3a30510>\n",
      "ic| component: <pyomo.core.base.block.SimpleBlock object at 0x7ff8c413f1b0>\n",
      "ic| component: <pyomo.core.base.block.SimpleBlock object at 0x7ff8c43c4af8>\n",
      "ic| component: <pyomo.core.base.block.SimpleBlock object at 0x7ff8c494bc18>\n",
      "ic| component: <pyomo.core.base.block.SimpleBlock object at 0x7ff8c42fc8b8>\n",
      "ic| component: <pyomo.core.base.block.SimpleBlock object at 0x7ff8c4034c60>\n",
      "ic| component: <pyomo.core.base.block.SimpleBlock object at 0x7ff8c3e7dbd0>\n",
      "ic| component: <pyomo.core.base.expression.SimpleExpression object at 0x7ff8c3998188>\n",
      "ic| component: <pyomo.core.base.expression.SimpleExpression object at 0x7ff8c3998368>\n",
      "ic| component: <pyomo.core.base.expression.SimpleExpression object at 0x7ff8c39984f8>\n",
      "ic| component: <pyomo.core.base.expression.SimpleExpression object at 0x7ff8c3a91458>\n",
      "ic| component: <pyomo.core.base.objective.SimpleObjective object at 0x7ff8c3997ac8>\n",
      "ic| component: <pyomo.core.base.constraint.SimpleConstraint object at 0x7ff8c393e2b8>\n",
      "ic| component: <pyomo.core.base.constraint.SimpleConstraint object at 0x7ff8c393e660>\n",
      "ic| component: <pyomo.core.base.constraint.SimpleConstraint object at 0x7ff8c393e9a0>\n",
      "ic| ports[port].getname(): 'F102'\n",
      "ic| ports[port].getname(): 'F102'\n",
      "ic| ports[port].getname(): 'M101'\n",
      "ic| ports[port].getname(): 'M101'\n",
      "ic| ports[port].getname(): 'S101'\n",
      "ic| orphaned_ports: {<pyomo.network.port.SimplePort object at 0x7ff8c3a21828>,\n",
      "                     <pyomo.network.port.SimplePort object at 0x7ff8c3a21898>,\n",
      "                     <pyomo.network.port.SimplePort object at 0x7ff8c3aa0eb8>,\n",
      "                     <pyomo.network.port.SimplePort object at 0x7ff8c3b0a908>,\n",
      "                     <pyomo.network.port.SimplePort object at 0x7ff8c3b0a978>}\n"
     ]
    },
    {
     "data": {
      "text/plain": [
       "{<pyomo.network.port.SimplePort at 0x7ff8c3a21898>,\n",
       " <pyomo.network.port.SimplePort at 0x7ff8c3a21828>,\n",
       " <pyomo.network.port.SimplePort at 0x7ff8c3b0a978>,\n",
       " <pyomo.network.port.SimplePort at 0x7ff8c3b0a908>,\n",
       " <pyomo.network.port.SimplePort at 0x7ff8c3aa0eb8>}"
      ]
     },
     "execution_count": 88,
     "metadata": {},
     "output_type": "execute_result"
    }
   ],
   "source": [
    "comps = m.component_objects(descend_into=False)\n",
    "flowsheet = next(comps)\n",
    "ports = {}\n",
    "\n",
    "unit_models = {}\n",
    "arcs = []\n",
    "for component in flowsheet.component_objects(descend_into=False):\n",
    "    ic(component)\n",
    "    if isinstance(component, UnitModelBlockData):\n",
    "        #ic(component)\n",
    "        #ic(component.getname())\n",
    "        unit_models[component] = {\"name\": component.getname(), \"type\": type(component).__name__}\n",
    "        for subcomponent in component.component_objects(descend_into=False):\n",
    "            if isinstance(subcomponent, SimplePort):\n",
    "                #ic(subcomponent)\n",
    "                #ic(subcomponent.arcs())\n",
    "                ports[subcomponent] = component\n",
    "    if isinstance(component, SimpleArc):\n",
    "       arcs.append(component)\n",
    "    \n",
    "edges = {}\n",
    "orphaned_ports = set(ports.keys())\n",
    "for arc in arcs:\n",
    "    edges[(ports[arc.source], ports[arc.dest])] = arc\n",
    "    orphaned_ports.discard(arc.source)\n",
    "    orphaned_ports.discard(arc.dest)\n",
    "    \n",
    "for port in orphaned_ports:\n",
    "    ic(ports[port].getname())\n",
    "    \n",
    "#ic(ports)\n",
    "#ic(unit_models)\n",
    "#ic(edges)\n",
    "ic(orphaned_ports)\n",
    "\n",
    "\n",
    "\n",
    "\n",
    "\n",
    "\n",
    "# arcs[(ports[component.source], ports[component.outlet])] = component      \n"
   ]
  },
  {
   "cell_type": "code",
   "execution_count": 92,
   "metadata": {},
   "outputs": [
    {
     "ename": "AttributeError",
     "evalue": "'_ScalarMixer' object has no attribute 'ports'",
     "output_type": "error",
     "traceback": [
      "\u001b[0;31m---------------------------------------------------------------------------\u001b[0m",
      "\u001b[0;31mAttributeError\u001b[0m                            Traceback (most recent call last)",
      "\u001b[0;32m<ipython-input-92-b8ea4b0f99f8>\u001b[0m in \u001b[0;36m<module>\u001b[0;34m\u001b[0m\n\u001b[0;32m----> 1\u001b[0;31m \u001b[0mm\u001b[0m\u001b[0;34m.\u001b[0m\u001b[0mfs\u001b[0m\u001b[0;34m.\u001b[0m\u001b[0mM101\u001b[0m\u001b[0;34m.\u001b[0m\u001b[0mports\u001b[0m\u001b[0;34m\u001b[0m\u001b[0;34m\u001b[0m\u001b[0m\n\u001b[0m",
      "\u001b[0;32m~/miniconda3/envs/idaes-fork/lib/python3.7/site-packages/pyomo/core/base/block.py\u001b[0m in \u001b[0;36m__getattr__\u001b[0;34m(self, val)\u001b[0m\n\u001b[1;32m    547\u001b[0m         \u001b[0;31m# throw the \"normal\" AttributeError\u001b[0m\u001b[0;34m\u001b[0m\u001b[0;34m\u001b[0m\u001b[0;34m\u001b[0m\u001b[0m\n\u001b[1;32m    548\u001b[0m         raise AttributeError(\"'%s' object has no attribute '%s'\"\n\u001b[0;32m--> 549\u001b[0;31m                              % (self.__class__.__name__, val))\n\u001b[0m\u001b[1;32m    550\u001b[0m \u001b[0;34m\u001b[0m\u001b[0m\n\u001b[1;32m    551\u001b[0m     \u001b[0;32mdef\u001b[0m \u001b[0m__setattr__\u001b[0m\u001b[0;34m(\u001b[0m\u001b[0mself\u001b[0m\u001b[0;34m,\u001b[0m \u001b[0mname\u001b[0m\u001b[0;34m,\u001b[0m \u001b[0mval\u001b[0m\u001b[0;34m)\u001b[0m\u001b[0;34m:\u001b[0m\u001b[0;34m\u001b[0m\u001b[0;34m\u001b[0m\u001b[0m\n",
      "\u001b[0;31mAttributeError\u001b[0m: '_ScalarMixer' object has no attribute 'ports'"
     ]
    }
   ],
   "source": [
    "m.fs.M101.ports"
   ]
  },
  {
   "cell_type": "code",
   "execution_count": 93,
   "metadata": {},
   "outputs": [],
   "source": [
    "import json\n",
    "from collections import defaultdict\n",
    "\n",
    "labeled_edges = defaultdict(list)\n",
    "\n",
    "for (source, dest) in edges:\n",
    "    labeled_edges[source.getname()].append(dest.getname())\n",
    "    \n",
    "for port in orphaned_ports:\n",
    "    labeled_edges[\"Orphaned\"].append(ports[port].getname())\n",
    "\n",
    "with open('edges.json', 'w') as outfile:  \n",
    "    json.dump(labeled_edges, outfile)\n",
    "    \n",
    "named_components = {}\n",
    "for comp in unit_models.values():\n",
    "    named_components[comp[\"name\"]]= {\"type\": comp[\"type\"]}\n",
    "    \n",
    "with open('nodes.json', 'w') as outfile:  \n",
    "    json.dump(named_components, outfile)"
   ]
  },
  {
   "cell_type": "code",
   "execution_count": 74,
   "metadata": {},
   "outputs": [
    {
     "data": {
      "text/plain": [
       "0"
      ]
     },
     "execution_count": 74,
     "metadata": {},
     "output_type": "execute_result"
    }
   ],
   "source": [
    "from itertools import count\n",
    "a = count()\n",
    "next(a)"
   ]
  },
  {
   "cell_type": "code",
   "execution_count": 76,
   "metadata": {},
   "outputs": [
    {
     "data": {
      "text/plain": [
       "2"
      ]
     },
     "execution_count": 76,
     "metadata": {},
     "output_type": "execute_result"
    }
   ],
   "source": [
    "next(a)"
   ]
  },
  {
   "cell_type": "code",
   "execution_count": null,
   "metadata": {},
   "outputs": [],
   "source": [
    "comps = m.component_objects(descend_into=False)\n",
    "flowsheet = next(comps)\n",
    "for component in flowsheet.component_objects(descend_into=True):\n",
    "    if isinstance(component, UnitModelBlockData):\n",
    "        ic(component)\n",
    "        ic(type(component).__name__)\n",
    "        ic(component.to_string())\n",
    "        #for subcomponent in component.component_objects(descend_into=True):\n",
    "         #   if isinstance(subcomponent, IndexedVar):\n",
    "          #      ic(subcomponent)\n",
    "           #     ic(subcomponent._pprint())\n",
    "            #    ic(subcomponent.to_string())\n",
    "             #   ic(subcomponent)\n",
    "                "
   ]
  },
  {
   "cell_type": "code",
   "execution_count": null,
   "metadata": {},
   "outputs": [],
   "source": [
    "for component in flowsheet.component_objects(descend_into=True):\n",
    "    ic(component)"
   ]
  },
  {
   "cell_type": "code",
   "execution_count": null,
   "metadata": {},
   "outputs": [],
   "source": [
    "# components = {object: comp_info}\n",
    "# comp_info = {name: unit model type, state data: X, ports?: X}\n",
    "\n",
    "# edges = {(start component, end component): edge_info}\n",
    "#    or maybe the keys should be the Arc objects, analogous to the components above?\n",
    "# edge_info = {source_port: X, dest_port: X, name?: X, flow/etc.: X}\n",
    "\n",
    "# parameter blocks\n",
    "# ???\n",
    "\n",
    "# possible utility dictionary\n",
    "# ports = {object: port_info}\n",
    "# port_info = {source?: X, dest?: X, parent_component?: X}\n",
    "\n",
    "# the _info objects could be namedtuples (collections.namedtuple, python 2.6) \n",
    "# or maybe data classes (dataclasses.dataclass, python 3.7)\n",
    "# or maybe a class with __slots__ (python 3...?)\n",
    "# but to start with probably use a dict for mutability until we narrow down what exactly is needed\n",
    "# see https://stackoverflow.com/questions/35988/c-like-structures-in-python"
   ]
  },
  {
   "cell_type": "code",
   "execution_count": 62,
   "metadata": {},
   "outputs": [
    {
     "ename": "NameError",
     "evalue": "name 'a' is not defined",
     "output_type": "error",
     "traceback": [
      "\u001b[0;31m---------------------------------------------------------------------------\u001b[0m",
      "\u001b[0;31mNameError\u001b[0m                                 Traceback (most recent call last)",
      "\u001b[0;32m<ipython-input-62-fd958311ee6a>\u001b[0m in \u001b[0;36m<module>\u001b[0;34m\u001b[0m\n\u001b[0;32m----> 1\u001b[0;31m \u001b[0ma\u001b[0m\u001b[0;34m.\u001b[0m\u001b[0mports\u001b[0m\u001b[0;34m\u001b[0m\u001b[0;34m\u001b[0m\u001b[0m\n\u001b[0m\u001b[1;32m      2\u001b[0m \u001b[0ma\u001b[0m\u001b[0;34m.\u001b[0m\u001b[0moutlet\u001b[0m\u001b[0;34m\u001b[0m\u001b[0;34m\u001b[0m\u001b[0m\n\u001b[1;32m      3\u001b[0m \u001b[0ma\u001b[0m\u001b[0;34m.\u001b[0m\u001b[0msource\u001b[0m\u001b[0;34m\u001b[0m\u001b[0;34m\u001b[0m\u001b[0m\n\u001b[1;32m      4\u001b[0m \u001b[0;34m(\u001b[0m\u001b[0mm\u001b[0m\u001b[0;34m.\u001b[0m\u001b[0mfs\u001b[0m\u001b[0;34m.\u001b[0m\u001b[0mM101\u001b[0m\u001b[0;34m.\u001b[0m\u001b[0moutlet\u001b[0m\u001b[0;34m,\u001b[0m \u001b[0mm\u001b[0m\u001b[0;34m.\u001b[0m\u001b[0mfs\u001b[0m\u001b[0;34m.\u001b[0m\u001b[0mH101\u001b[0m\u001b[0;34m.\u001b[0m\u001b[0minlet\u001b[0m\u001b[0;34m)\u001b[0m\u001b[0;34m\u001b[0m\u001b[0;34m\u001b[0m\u001b[0m\n\u001b[1;32m      5\u001b[0m \u001b[0mm\u001b[0m\u001b[0;34m.\u001b[0m\u001b[0mfs\u001b[0m\u001b[0;34m.\u001b[0m\u001b[0mM101\u001b[0m\u001b[0;34m.\u001b[0m\u001b[0moutlet\u001b[0m\u001b[0;34m.\u001b[0m\u001b[0mdests\u001b[0m\u001b[0;34m(\u001b[0m\u001b[0;34m)\u001b[0m\u001b[0;34m\u001b[0m\u001b[0;34m\u001b[0m\u001b[0m\n",
      "\u001b[0;31mNameError\u001b[0m: name 'a' is not defined"
     ]
    }
   ],
   "source": [
    "a.ports\n",
    "a.outlet\n",
    "a.source\n",
    "    (m.fs.M101.outlet, m.fs.H101.inlet)\n",
    "m.fs.M101.outlet.dests()\n",
    "m.fs.M101.outlet.sources()"
   ]
  },
  {
   "cell_type": "code",
   "execution_count": null,
   "metadata": {},
   "outputs": [],
   "source": [
    "![](module_2_flowsheet.png) "
   ]
  },
  {
   "cell_type": "code",
   "execution_count": null,
   "metadata": {},
   "outputs": [],
   "source": [
    "import json\n",
    "from os.path import join\n",
    "\n",
    "with open('icon_mapping.cfg', 'r') as f:\n",
    "    config_raw = json.load(f)\n",
    "    "
   ]
  },
  {
   "cell_type": "code",
   "execution_count": null,
   "metadata": {},
   "outputs": [],
   "source": [
    "config_raw"
   ]
  },
  {
   "cell_type": "code",
   "execution_count": null,
   "metadata": {},
   "outputs": [],
   "source": [
    "config_raw.items()"
   ]
  },
  {
   "cell_type": "code",
   "execution_count": null,
   "metadata": {},
   "outputs": [],
   "source": [
    "base_path = \"/home/perrenyang/wsl/idaes-dev-py/idaes-dev/idaes/unit_models/icons/\"\n",
    "\n",
    "icon_mapping = {}\n",
    "for component, imagename in config_raw.items():\n",
    "    icon_mapping[component] = join(base_path, imagename)\n",
    "    \n",
    "\n",
    "comps = m.component_objects(descend_into=False)\n",
    "flowsheet = next(comps)\n",
    "for component in flowsheet.component_objects(descend_into=True):\n",
    "    if isinstance(component, UnitModelBlockData):\n",
    "        \n",
    "        print(type(component).__name__)\n",
    "        print(join(base_path, config_raw[type(component).__name__]))\n",
    "    "
   ]
  },
  {
   "cell_type": "code",
   "execution_count": null,
   "metadata": {},
   "outputs": [],
   "source": [
    "# object to send to JointJS app:\n",
    "# names: {component name: \n",
    "#           component type,\n",
    "#           image path(?),\n",
    "#           [label info presumably]\n",
    "#        }\n",
    "# links: {  source: X,\n",
    "#             dest: X,\n",
    "#            [label info presumably]\n",
    "#       }"
   ]
  },
  {
   "cell_type": "code",
   "execution_count": null,
   "metadata": {},
   "outputs": [],
   "source": []
  }
 ],
 "metadata": {
  "kernelspec": {
   "display_name": "Python 3",
   "language": "python",
   "name": "python3"
  },
  "language_info": {
   "codemirror_mode": {
    "name": "ipython",
    "version": 3
   },
   "file_extension": ".py",
   "mimetype": "text/x-python",
   "name": "python",
   "nbconvert_exporter": "python",
   "pygments_lexer": "ipython3",
   "version": "3.7.3"
  }
 },
 "nbformat": 4,
 "nbformat_minor": 4
}
