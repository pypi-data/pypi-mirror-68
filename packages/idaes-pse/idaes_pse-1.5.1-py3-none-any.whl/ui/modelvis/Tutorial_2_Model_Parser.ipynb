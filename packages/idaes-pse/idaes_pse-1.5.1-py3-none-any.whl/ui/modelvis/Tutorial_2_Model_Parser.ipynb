{
 "cells": [
  {
   "cell_type": "markdown",
   "metadata": {},
   "source": [
    "![](module_2_flowsheet.png) "
   ]
  },
  {
   "cell_type": "code",
   "execution_count": 1,
   "metadata": {},
   "outputs": [],
   "source": [
    "from pyomo.environ import (Constraint,\n",
    "                           Var,\n",
    "                           ConcreteModel,\n",
    "                           Expression,\n",
    "                           Objective,\n",
    "                           SolverFactory,\n",
    "                           TransformationFactory,\n",
    "                           value)\n",
    "from pyomo.network import Arc, SequentialDecomposition"
   ]
  },
  {
   "cell_type": "code",
   "execution_count": 2,
   "metadata": {},
   "outputs": [],
   "source": [
    "from idaes.core import FlowsheetBlock\n",
    "from idaes.unit_models import (PressureChanger,\n",
    "                               Mixer,\n",
    "                               Separator as Splitter,\n",
    "                               Heater,\n",
    "                               StoichiometricReactor)\n",
    "from idaes.unit_models import Flash\n",
    "from idaes.unit_models.pressure_changer import ThermodynamicAssumption\n",
    "import hda_ideal_VLE as thermo_props\n",
    "import hda_reaction as reaction_props"
   ]
  },
  {
   "cell_type": "code",
   "execution_count": 3,
   "metadata": {},
   "outputs": [],
   "source": [
    "m = ConcreteModel()\n",
    "m.fs = FlowsheetBlock(default={\"dynamic\": False})\n",
    "m.fs.thermo_params = thermo_props.HDAParameterBlock()\n",
    "m.fs.reaction_params = reaction_props.HDAReactionParameterBlock(\n",
    "        default={\"property_package\": m.fs.thermo_params})"
   ]
  },
  {
   "cell_type": "code",
   "execution_count": 4,
   "metadata": {},
   "outputs": [],
   "source": [
    "m.fs.M101 = Mixer(default={\"property_package\": m.fs.thermo_params,\n",
    "                           \"inlet_list\": [\"toluene_feed\", \"hydrogen_feed\", \"vapor_recycle\"]})\n",
    "\n",
    "m.fs.H101 = Heater(default={\"property_package\": m.fs.thermo_params,\n",
    "                            \"has_pressure_change\": False,\n",
    "                            \"has_phase_equilibrium\": True})\n",
    "m.fs.R101 = StoichiometricReactor(\n",
    "            default={\"property_package\": m.fs.thermo_params,\n",
    "                     \"reaction_package\": m.fs.reaction_params,\n",
    "                     \"has_heat_of_reaction\": True,\n",
    "                     \"has_heat_transfer\": True,\n",
    "                     \"has_pressure_change\": False})\n",
    "m.fs.F101 = Flash(default={\"property_package\": m.fs.thermo_params,\n",
    "                               \"has_heat_transfer\": True,\n",
    "                               \"has_pressure_change\": True})\n",
    "m.fs.S101 = Splitter(default={\"property_package\": m.fs.thermo_params,\n",
    "                               \"ideal_separation\": False,\n",
    "                               \"outlet_list\": [\"purge\", \"recycle\"]})\n",
    "    \n",
    "\n",
    "m.fs.C101 = PressureChanger(default={\n",
    "            \"property_package\": m.fs.thermo_params,\n",
    "            \"compressor\": True,\n",
    "            \"thermodynamic_assumption\": ThermodynamicAssumption.isothermal})\n",
    "    \n",
    "m.fs.F102 = Flash(default={\"property_package\": m.fs.thermo_params,\n",
    "                           \"has_heat_transfer\": True,\n",
    "                           \"has_pressure_change\": True})"
   ]
  },
  {
   "cell_type": "code",
   "execution_count": 5,
   "metadata": {},
   "outputs": [],
   "source": [
    "m.fs.s03 = Arc(source=m.fs.M101.outlet, destination=m.fs.H101.inlet)\n",
    "m.fs.s04 = Arc(source=m.fs.H101.outlet, destination=m.fs.R101.inlet)\n",
    "m.fs.s05 = Arc(source=m.fs.R101.outlet, destination=m.fs.F101.inlet)\n",
    "m.fs.s06 = Arc(source=m.fs.F101.vap_outlet, destination=m.fs.S101.inlet)\n",
    "m.fs.s08 = Arc(source=m.fs.S101.recycle, destination=m.fs.C101.inlet)\n",
    "m.fs.s09 = Arc(source=m.fs.C101.outlet,\n",
    "               destination=m.fs.M101.vapor_recycle)\n",
    "m.fs.s10 = Arc(source=m.fs.F101.liq_outlet, destination=m.fs.F102.inlet)"
   ]
  },
  {
   "cell_type": "code",
   "execution_count": null,
   "metadata": {},
   "outputs": [],
   "source": []
  },
  {
   "cell_type": "code",
   "execution_count": 12,
   "metadata": {},
   "outputs": [],
   "source": [
    "from ui.model_serializer import ModelSerializer"
   ]
  },
  {
   "cell_type": "code",
   "execution_count": 13,
   "metadata": {},
   "outputs": [
    {
     "ename": "NameError",
     "evalue": "name 'ports' is not defined",
     "output_type": "error",
     "traceback": [
      "\u001b[0;31m---------------------------------------------------------------------------\u001b[0m",
      "\u001b[0;31mNameError\u001b[0m                                 Traceback (most recent call last)",
      "\u001b[0;32m<ipython-input-13-ad1a76edd1a6>\u001b[0m in \u001b[0;36m<module>\u001b[0;34m\u001b[0m\n\u001b[1;32m      1\u001b[0m \u001b[0mmodel_serializer\u001b[0m \u001b[0;34m=\u001b[0m \u001b[0mModelSerializer\u001b[0m\u001b[0;34m(\u001b[0m\u001b[0;34m)\u001b[0m\u001b[0;34m\u001b[0m\u001b[0;34m\u001b[0m\u001b[0m\n\u001b[0;32m----> 2\u001b[0;31m \u001b[0mmodel_serializer\u001b[0m\u001b[0;34m.\u001b[0m\u001b[0msave\u001b[0m\u001b[0;34m(\u001b[0m\u001b[0mm\u001b[0m\u001b[0;34m.\u001b[0m\u001b[0mfs\u001b[0m\u001b[0;34m,\u001b[0m \u001b[0;34m\"model1\"\u001b[0m\u001b[0;34m)\u001b[0m\u001b[0;34m\u001b[0m\u001b[0;34m\u001b[0m\u001b[0m\n\u001b[0m",
      "\u001b[0;32m/mnt/c/Users/Perren Yang/Desktop/wsl/idaes-dev-py/idaes-dev/ui/model_serializer/model_serializer.py\u001b[0m in \u001b[0;36msave\u001b[0;34m(self, flowsheet, file_base_name)\u001b[0m\n\u001b[1;32m     18\u001b[0m \u001b[0;34m\u001b[0m\u001b[0m\n\u001b[1;32m     19\u001b[0m                 \u001b[0;32mfor\u001b[0m \u001b[0msubcomponent\u001b[0m \u001b[0;32min\u001b[0m \u001b[0mcomponent\u001b[0m\u001b[0;34m.\u001b[0m\u001b[0mcomponent_objects\u001b[0m\u001b[0;34m(\u001b[0m\u001b[0mdescend_into\u001b[0m\u001b[0;34m=\u001b[0m\u001b[0;32mFalse\u001b[0m\u001b[0;34m)\u001b[0m\u001b[0;34m:\u001b[0m\u001b[0;34m\u001b[0m\u001b[0;34m\u001b[0m\u001b[0m\n\u001b[0;32m---> 20\u001b[0;31m                     \u001b[0;32mif\u001b[0m \u001b[0misinstance\u001b[0m\u001b[0;34m(\u001b[0m\u001b[0msubcomponent\u001b[0m\u001b[0;34m,\u001b[0m \u001b[0mSimplePort\u001b[0m\u001b[0;34m)\u001b[0m\u001b[0;34m:\u001b[0m\u001b[0;34m\u001b[0m\u001b[0;34m\u001b[0m\u001b[0m\n\u001b[0m\u001b[1;32m     21\u001b[0m                        \u001b[0mself\u001b[0m\u001b[0;34m.\u001b[0m\u001b[0mports\u001b[0m\u001b[0;34m[\u001b[0m\u001b[0msubcomponent\u001b[0m\u001b[0;34m]\u001b[0m \u001b[0;34m=\u001b[0m \u001b[0mcomponent\u001b[0m\u001b[0;34m\u001b[0m\u001b[0;34m\u001b[0m\u001b[0m\n\u001b[1;32m     22\u001b[0m \u001b[0;34m\u001b[0m\u001b[0m\n",
      "\u001b[0;31mNameError\u001b[0m: name 'ports' is not defined"
     ]
    }
   ],
   "source": [
    "model_serializer = ModelSerializer()\n",
    "model_serializer.save(m.fs, \"model1\")"
   ]
  },
  {
   "cell_type": "code",
   "execution_count": 9,
   "metadata": {},
   "outputs": [],
   "source": [
    "from idaes.core import UnitModelBlockData\n",
    "from pyomo.network.port import SimplePort\n",
    "from pyomo.network.arc import SimpleArc\n",
    "\n",
    "import json"
   ]
  },
  {
   "cell_type": "code",
   "execution_count": 10,
   "metadata": {},
   "outputs": [],
   "source": [
    "comps = m.component_objects(descend_into=False)\n",
    "flowsheet = next(comps)\n",
    "ports = {}\n",
    "\n",
    "unit_models = {}\n",
    "arcs = []\n",
    "for component in flowsheet.component_objects(descend_into=False):\n",
    "    # TODO try using component_objects(ctype=X)\n",
    "    if isinstance(component, UnitModelBlockData):\n",
    "        unit_models[component] = {\"name\": component.getname(), \"type\": type(component).__name__}\n",
    "        \n",
    "        for subcomponent in component.component_objects(descend_into=False):\n",
    "            if isinstance(subcomponent, SimplePort):\n",
    "                ports[subcomponent] = component\n",
    "                \n",
    "    elif isinstance(component, SimpleArc): \n",
    "       arcs.append(component)\n",
    "    \n",
    "edges = {}\n",
    "orphaned_ports = set(ports.keys())\n",
    "for arc in arcs:\n",
    "    edges[(ports[arc.source], ports[arc.dest])] = arc\n",
    "    orphaned_ports.discard(arc.source)\n",
    "    orphaned_ports.discard(arc.dest)\n",
    "    "
   ]
  },
  {
   "cell_type": "code",
   "execution_count": 29,
   "metadata": {},
   "outputs": [],
   "source": [
    "from icecream import ic"
   ]
  },
  {
   "cell_type": "code",
   "execution_count": 34,
   "metadata": {},
   "outputs": [
    {
     "name": "stdout",
     "output_type": "stream",
     "text": [
      "fs.M101.toluene_feed\n",
      "fs.M101.hydrogen_feed\n",
      "fs.M101.vapor_recycle\n",
      "fs.M101.outlet\n",
      "fs.H101.inlet\n",
      "fs.H101.outlet\n",
      "fs.R101.inlet\n",
      "fs.R101.outlet\n",
      "fs.F101.inlet\n",
      "fs.F101.vap_outlet\n",
      "fs.F101.liq_outlet\n",
      "fs.F101.split.inlet\n",
      "fs.F101.split.Vap\n",
      "fs.F101.split.Liq\n",
      "fs.S101.inlet\n",
      "fs.S101.purge\n",
      "fs.S101.recycle\n",
      "fs.C101.inlet\n",
      "fs.C101.outlet\n",
      "fs.F102.inlet\n",
      "fs.F102.vap_outlet\n",
      "fs.F102.liq_outlet\n",
      "fs.F102.split.inlet\n",
      "fs.F102.split.Vap\n",
      "fs.F102.split.Liq\n"
     ]
    }
   ],
   "source": [
    "from pyomo.network import Port\n",
    "for component in flowsheet.component_objects(ctype=Port, descend_into=True):\n",
    "  #  ic(component)\n",
    "    print(component)"
   ]
  },
  {
   "cell_type": "code",
   "execution_count": 36,
   "metadata": {},
   "outputs": [
    {
     "name": "stdout",
     "output_type": "stream",
     "text": [
      "fs.M101.toluene_feed\n",
      "fs.M101.hydrogen_feed\n",
      "fs.M101.vapor_recycle\n",
      "fs.M101.outlet\n",
      "fs.H101.inlet\n",
      "fs.H101.outlet\n",
      "fs.R101.inlet\n",
      "fs.R101.outlet\n",
      "fs.F101.inlet\n",
      "fs.F101.vap_outlet\n",
      "fs.F101.liq_outlet\n",
      "fs.S101.inlet\n",
      "fs.S101.purge\n",
      "fs.S101.recycle\n",
      "fs.C101.inlet\n",
      "fs.C101.outlet\n",
      "fs.F102.inlet\n",
      "fs.F102.vap_outlet\n",
      "fs.F102.liq_outlet\n"
     ]
    }
   ],
   "source": [
    "for port in ports:\n",
    "    print(port)"
   ]
  },
  {
   "cell_type": "code",
   "execution_count": 11,
   "metadata": {},
   "outputs": [],
   "source": [
    "from collections import defaultdict\n",
    "\n",
    "labeled_edges = defaultdict(list)\n",
    "\n",
    "for (source, dest) in edges:\n",
    "    labeled_edges[source.getname()].append(dest.getname())\n",
    "    \n",
    "for port in orphaned_ports:\n",
    "    labeled_edges[\"Orphaned\"].append(ports[port].getname())\n",
    "\n",
    "with open('edges.json', 'w') as outfile:  \n",
    "    json.dump(labeled_edges, outfile)\n",
    "    \n",
    "named_components = {}\n",
    "for comp in unit_models.values():\n",
    "    named_components[comp[\"name\"]]= {\"type\": comp[\"type\"]}\n",
    "    \n",
    "with open('nodes.json', 'w') as outfile:  \n",
    "    json.dump(named_components, outfile)"
   ]
  },
  {
   "cell_type": "code",
   "execution_count": 12,
   "metadata": {},
   "outputs": [
    {
     "ename": "AttributeError",
     "evalue": "'ConcreteModel' object has no attribute 'report'",
     "output_type": "error",
     "traceback": [
      "\u001b[0;31m---------------------------------------------------------------------------\u001b[0m",
      "\u001b[0;31mAttributeError\u001b[0m                            Traceback (most recent call last)",
      "\u001b[0;32m<ipython-input-12-03f1f9cef980>\u001b[0m in \u001b[0;36m<module>\u001b[0;34m\u001b[0m\n\u001b[0;32m----> 1\u001b[0;31m \u001b[0mm\u001b[0m\u001b[0;34m.\u001b[0m\u001b[0mreport\u001b[0m\u001b[0;34m\u001b[0m\u001b[0;34m\u001b[0m\u001b[0m\n\u001b[0m",
      "\u001b[0;32m~/miniconda3/envs/idaes-fork/lib/python3.7/site-packages/pyomo/core/base/block.py\u001b[0m in \u001b[0;36m__getattr__\u001b[0;34m(self, val)\u001b[0m\n\u001b[1;32m    547\u001b[0m         \u001b[0;31m# throw the \"normal\" AttributeError\u001b[0m\u001b[0;34m\u001b[0m\u001b[0;34m\u001b[0m\u001b[0;34m\u001b[0m\u001b[0m\n\u001b[1;32m    548\u001b[0m         raise AttributeError(\"'%s' object has no attribute '%s'\"\n\u001b[0;32m--> 549\u001b[0;31m                              % (self.__class__.__name__, val))\n\u001b[0m\u001b[1;32m    550\u001b[0m \u001b[0;34m\u001b[0m\u001b[0m\n\u001b[1;32m    551\u001b[0m     \u001b[0;32mdef\u001b[0m \u001b[0m__setattr__\u001b[0m\u001b[0;34m(\u001b[0m\u001b[0mself\u001b[0m\u001b[0;34m,\u001b[0m \u001b[0mname\u001b[0m\u001b[0;34m,\u001b[0m \u001b[0mval\u001b[0m\u001b[0;34m)\u001b[0m\u001b[0;34m:\u001b[0m\u001b[0;34m\u001b[0m\u001b[0;34m\u001b[0m\u001b[0m\n",
      "\u001b[0;31mAttributeError\u001b[0m: 'ConcreteModel' object has no attribute 'report'"
     ]
    }
   ],
   "source": [
    "    m.report"
   ]
  },
  {
   "cell_type": "code",
   "execution_count": 14,
   "metadata": {},
   "outputs": [
    {
     "data": {
      "text/plain": [
       "<bound method _BlockData.component_objects of <pyomo.core.base.PyomoModel.ConcreteModel object at 0x7f3f38aee8b8>>"
      ]
     },
     "execution_count": 14,
     "metadata": {},
     "output_type": "execute_result"
    }
   ],
   "source": [
    "m.component_objects"
   ]
  },
  {
   "cell_type": "markdown",
   "metadata": {},
   "source": [
    "m.fs.report"
   ]
  },
  {
   "cell_type": "code",
   "execution_count": 15,
   "metadata": {},
   "outputs": [
    {
     "data": {
      "text/plain": [
       "<bound method ProcessBlockData.report of <idaes.core.process_block._ScalarFlowsheetBlock object at 0x7f3f38aee900>>"
      ]
     },
     "execution_count": 15,
     "metadata": {},
     "output_type": "execute_result"
    }
   ],
   "source": [
    "m.fs.report"
   ]
  },
  {
   "cell_type": "code",
   "execution_count": 16,
   "metadata": {},
   "outputs": [
    {
     "name": "stdout",
     "output_type": "stream",
     "text": [
      "\n",
      "====================================================================================\n",
      "Flowsheet : fs                                                             Time: 0.0\n",
      "------------------------------------------------------------------------------------\n",
      "    Stream Table\n",
      "                                                s03        s04        s05        s06        s08        s09        s10   \n",
      "    flow_mol_phase_comp ('Liq', 'benzene')     0.50000    0.50000    0.50000    0.50000    0.50000    0.50000    0.50000\n",
      "    flow_mol_phase_comp ('Liq', 'hydrogen')    0.50000    0.50000    0.50000    0.50000    0.50000    0.50000    0.50000\n",
      "    flow_mol_phase_comp ('Liq', 'methane')     0.50000    0.50000    0.50000    0.50000    0.50000    0.50000    0.50000\n",
      "    flow_mol_phase_comp ('Liq', 'toluene')     0.50000    0.50000    0.50000    0.50000    0.50000    0.50000    0.50000\n",
      "    flow_mol_phase_comp ('Vap', 'benzene')     0.50000    0.50000    0.50000    0.50000    0.50000    0.50000    0.50000\n",
      "    flow_mol_phase_comp ('Vap', 'hydrogen')    0.50000    0.50000    0.50000    0.50000    0.50000    0.50000    0.50000\n",
      "    flow_mol_phase_comp ('Vap', 'methane')     0.50000    0.50000    0.50000    0.50000    0.50000    0.50000    0.50000\n",
      "    flow_mol_phase_comp ('Vap', 'toluene')     0.50000    0.50000    0.50000    0.50000    0.50000    0.50000    0.50000\n",
      "    pressure                                1.0132e+05 1.0132e+05 1.0132e+05 1.0132e+05 1.0132e+05 1.0132e+05 1.0132e+05\n",
      "    temperature                                 298.15     298.15     298.15     298.15     298.15     298.15     298.15\n",
      "====================================================================================\n"
     ]
    }
   ],
   "source": [
    "m.fs.report()"
   ]
  },
  {
   "cell_type": "code",
   "execution_count": 19,
   "metadata": {},
   "outputs": [],
   "source": [
    "out = m.fs._get_stream_table_contents(time_point=0)"
   ]
  },
  {
   "cell_type": "code",
   "execution_count": 21,
   "metadata": {},
   "outputs": [
    {
     "data": {
      "text/plain": [
       "pandas.core.frame.DataFrame"
      ]
     },
     "execution_count": 21,
     "metadata": {},
     "output_type": "execute_result"
    }
   ],
   "source": [
    "type(out)"
   ]
  },
  {
   "cell_type": "code",
   "execution_count": null,
   "metadata": {},
   "outputs": [],
   "source": []
  }
 ],
 "metadata": {
  "kernelspec": {
   "display_name": "Python 3",
   "language": "python",
   "name": "python3"
  },
  "language_info": {
   "codemirror_mode": {
    "name": "ipython",
    "version": 3
   },
   "file_extension": ".py",
   "mimetype": "text/x-python",
   "name": "python",
   "nbconvert_exporter": "python",
   "pygments_lexer": "ipython3",
   "version": "3.7.3"
  }
 },
 "nbformat": 4,
 "nbformat_minor": 4
}
