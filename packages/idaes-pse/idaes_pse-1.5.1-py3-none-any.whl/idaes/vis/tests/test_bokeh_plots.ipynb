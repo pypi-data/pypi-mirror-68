{
 "cells": [
  {
   "cell_type": "code",
   "execution_count": null,
   "metadata": {},
   "outputs": [],
   "source": [
    "##############################################################################\n",
    "# Institute for the Design of Advanced Energy Systems Process Systems\n",
    "# Engineering Framework (IDAES PSE Framework) Copyright (c) 2018-2019, by the\n",
    "# software owners: The Regents of the University of California, through\n",
    "# Lawrence Berkeley National Laboratory,  National Technology & Engineering\n",
    "# Solutions of Sandia, LLC, Carnegie Mellon University, West Virginia\n",
    "# University Research Corporation, et al. All rights reserved.\n",
    "#\n",
    "# Please see the files COPYRIGHT.txt and LICENSE.txt for full copyright and\n",
    "# license information, respectively. Both files are also available online\n",
    "# at the URL \"https://github.com/IDAES/idaes-pse\".\n",
    "##############################################################################\n",
    "from idaes.vis import bokeh_plots\n",
    "\n",
    "\n",
    "#def test_heat_exchanger():\n",
    "#    plot = bokeh_plots.HeatExchangerPlot()\n",
    "\n"
   ]
  }
 ],
 "metadata": {
  "language": "python"
 },
 "nbformat": 4,
 "nbformat_minor": 2
}
