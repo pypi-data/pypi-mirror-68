{
 "cells": [
  {
   "cell_type": "code",
   "execution_count": 1,
   "metadata": {},
   "outputs": [],
   "source": [
    "import requests\n",
    "from requests.exceptions import ConnectionError\n",
    "import time\n",
    "import webbrowser\n",
    "\n",
    "from idaes.ui.fsvis.flask_server import App as fsvis_server"
   ]
  },
  {
   "cell_type": "code",
   "execution_count": 2,
   "metadata": {},
   "outputs": [],
   "source": [
    "def visualize(model):\n",
    "    server = fsvis_server()\n",
    "    url = f\"http://{server.host}:{server.port}/fs\"\n",
    "    \n",
    "    #repeat_until_connection_available(requests.post, )\n",
    "    \n",
    "    #resp = requests.post(url, json={'model': str(model)}, \n",
    "     #                   params={'id': b\"hello\"})\n",
    "        \n",
    "    repeat_until_connection_available(requests.post, url, json={'model': str(model)}, \n",
    "                        params={'id': b\"hello\"})\n",
    "    success = webbrowser.open(url)\n",
    "    print(f'Opened in browser window: {success}')\n",
    "    print(url)\n",
    "    return server\n",
    "\n",
    "def repeat_until_connection_available(f, *args, retries=127, **kwargs):\n",
    "    for i in range(retries):\n",
    "        try:\n",
    "            print(f'attempt {i} of {retries}')\n",
    "            return f(*args, **kwargs)\n",
    "        except ConnectionError as e:\n",
    "            time.sleep(0.1)\n",
    "            print(f'connection error: attempt {i}; {e}')\n",
    "            continue # consider logging\n",
    "            \n",
    "    # raise ConnectionRefusedError?? how\n",
    "    # or maybe just print to debug and stop?\n",
    "        \n"
   ]
  },
  {
   "cell_type": "code",
   "execution_count": 3,
   "metadata": {},
   "outputs": [
    {
     "name": "stdout",
     "output_type": "stream",
     "text": [
      " * Serving Flask app \"idaes.ui.fsvis.flask_server\" (lazy loading)\n",
      " * Environment: production\n",
      "   WARNING: This is a development server. Do not use it in a production deployment.\n",
      "   Use a production WSGI server instead.\n",
      " * Debug mode: off\n"
     ]
    },
    {
     "name": "stderr",
     "output_type": "stream",
     "text": [
      " * Running on http://127.0.0.1:5555/ (Press CTRL+C to quit)\n",
      "127.0.0.1 - - [04/Mar/2020 17:04:16] \"POST /fs?id=hello HTTP/1.1\" 200 -\n"
     ]
    },
    {
     "name": "stdout",
     "output_type": "stream",
     "text": [
      "attempt 0 of 127\n",
      "connection error: attempt 0; HTTPConnectionPool(host='127.0.0.1', port=5555): Max retries exceeded with url: /fs?id=hello (Caused by NewConnectionError('<urllib3.connection.HTTPConnection object at 0x7fd59c4c77d0>: Failed to establish a new connection: [Errno 111] Connection refused'))\n",
      "attempt 1 of 127\n",
      "Opened in browser window: False\n",
      "http://127.0.0.1:5555/fs\n"
     ]
    },
    {
     "name": "stderr",
     "output_type": "stream",
     "text": [
      "127.0.0.1 - - [04/Mar/2020 17:04:21] \"GET /app HTTP/1.1\" 200 -\n"
     ]
    }
   ],
   "source": [
    "s = visualize('foo')"
   ]
  },
  {
   "cell_type": "code",
   "execution_count": 1,
   "metadata": {},
   "outputs": [
    {
     "ename": "NameError",
     "evalue": "name 's' is not defined",
     "output_type": "error",
     "traceback": [
      "\u001b[0;31m---------------------------------------------------------------------------\u001b[0m",
      "\u001b[0;31mNameError\u001b[0m                                 Traceback (most recent call last)",
      "\u001b[0;32m<ipython-input-1-6dcdcaa1ba8e>\u001b[0m in \u001b[0;36m<module>\u001b[0;34m\u001b[0m\n\u001b[0;32m----> 1\u001b[0;31m \u001b[0ms\u001b[0m\u001b[0;34m.\u001b[0m\u001b[0mstop\u001b[0m\u001b[0;34m(\u001b[0m\u001b[0;34m)\u001b[0m \u001b[0;31m# calling this and then trying to spin up the server again seems to\u001b[0m\u001b[0;34m\u001b[0m\u001b[0;34m\u001b[0m\u001b[0m\n\u001b[0m\u001b[1;32m      2\u001b[0m     \u001b[0;31m# cause a fairly long delay before the server (re)starts??\u001b[0m\u001b[0;34m\u001b[0m\u001b[0;34m\u001b[0m\u001b[0;34m\u001b[0m\u001b[0m\n",
      "\u001b[0;31mNameError\u001b[0m: name 's' is not defined"
     ]
    }
   ],
   "source": [
    "s.stop() # calling this and then trying to spin up the server again seems to \n",
    "    # cause a fairly long delay before the server (re)starts??"
   ]
  },
  {
   "cell_type": "code",
   "execution_count": null,
   "metadata": {},
   "outputs": [],
   "source": []
  },
  {
   "cell_type": "code",
   "execution_count": 7,
   "metadata": {},
   "outputs": [
    {
     "data": {
      "text/plain": [
       "False"
      ]
     },
     "execution_count": 7,
     "metadata": {},
     "output_type": "execute_result"
    }
   ],
   "source": [
    "import webbrowser\n",
    "\n",
    "webbrowser.open(\"http://127.0.0.1:5555/fs\")"
   ]
  },
  {
   "cell_type": "code",
   "execution_count": 10,
   "metadata": {},
   "outputs": [
    {
     "data": {
      "text/plain": [
       "False"
      ]
     },
     "execution_count": 10,
     "metadata": {},
     "output_type": "execute_result"
    }
   ],
   "source": [
    "webbrowser.open(\"http://www.google.com\", 2)"
   ]
  },
  {
   "cell_type": "code",
   "execution_count": null,
   "metadata": {},
   "outputs": [],
   "source": []
  }
 ],
 "metadata": {
  "kernelspec": {
   "display_name": "Python 3",
   "language": "python",
   "name": "python3"
  },
  "language_info": {
   "codemirror_mode": {
    "name": "ipython",
    "version": 3
   },
   "file_extension": ".py",
   "mimetype": "text/x-python",
   "name": "python",
   "nbconvert_exporter": "python",
   "pygments_lexer": "ipython3",
   "version": "3.7.6"
  }
 },
 "nbformat": 4,
 "nbformat_minor": 4
}
