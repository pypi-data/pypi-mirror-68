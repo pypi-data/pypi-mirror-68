{
 "cells": [
  {
   "cell_type": "code",
   "execution_count": 1,
   "metadata": {},
   "outputs": [],
   "source": [
    "class Target:\n",
    "    def __init__(self, filename):\n",
    "        self.f = open(filename, 'a')\n",
    "        \n",
    "    def parse(self, row):\n",
    "        self.f.write(row)\n",
    "        return row"
   ]
  },
  {
   "cell_type": "code",
   "execution_count": 2,
   "metadata": {},
   "outputs": [],
   "source": [
    "import dynamic_singer as dsinger"
   ]
  },
  {
   "cell_type": "markdown",
   "metadata": {},
   "source": [
    "## source\n",
    "\n",
    "For source, I am going to use fixer-io, https://github.com/huseinzol05/dynamic-singer/tree/master/tap-fixerio\n",
    "\n",
    "Make sure we already installed the module in our local,\n",
    "\n",
    "```bash\n",
    "git clone https://github.com/huseinzol05/dynamic-singer.git\n",
    "cd dynamic-singer\n",
    "pip install -e tap-fixerio\n",
    "```\n",
    "\n",
    "And if we check in https://github.com/huseinzol05/dynamic-singer/tree/master/tap-fixerio Readme, we need to build a json config,\n",
    "\n",
    "```json\n",
    "{\n",
    "    \"base\": \"USD\",\n",
    "    \"start_date\": \"<YYYY-MM-DD>\",\n",
    "    \"access_key\": \"<your_access_key>\",\n",
    "    \"symbols\": [\"USD\",\"EUR\",\"GBP\",\"JPY\"]\n",
    "}\n",
    "```\n",
    "\n",
    "So we need to create one. Just get our `access_token` at https://fixer.io/quickstart"
   ]
  },
  {
   "cell_type": "code",
   "execution_count": 3,
   "metadata": {},
   "outputs": [],
   "source": [
    "import json\n",
    "\n",
    "config = {\n",
    "    'base': 'USD',\n",
    "    'start_date': '2020-05-05',\n",
    "    'access_key': '6b3f8a3cd7843530014751f7e6a8066d',\n",
    "    'symbols': ['GBP','JPY']\n",
    "}\n",
    "\n",
    "with open('fixer-config.json', 'w') as fopen:\n",
    "    json.dump(config, fopen)"
   ]
  },
  {
   "cell_type": "code",
   "execution_count": 4,
   "metadata": {},
   "outputs": [],
   "source": [
    "source = dsinger.Source('tap-fixerio --config fixer-config.json')"
   ]
  },
  {
   "cell_type": "markdown",
   "metadata": {},
   "source": [
    "## target\n",
    "\n",
    "Initiate our target."
   ]
  },
  {
   "cell_type": "code",
   "execution_count": 5,
   "metadata": {},
   "outputs": [],
   "source": [
    "target = Target('test.txt')"
   ]
  },
  {
   "cell_type": "code",
   "execution_count": 6,
   "metadata": {},
   "outputs": [],
   "source": [
    "source.add(target)"
   ]
  },
  {
   "cell_type": "code",
   "execution_count": 7,
   "metadata": {},
   "outputs": [
    {
     "name": "stderr",
     "output_type": "stream",
     "text": [
      "INFO {\"type\": \"SCHEMA\", \"stream\": \"exchange_rate\", \"schema\": {\"type\": \"object\", \"properties\": {\"date\": {\"type\": \"string\", \"format\": \"date-time\"}}, \"additionalProperties\": true}, \"key_properties\": [\"date\"]}\n",
      "INFO {\"type\": \"SCHEMA\", \"stream\": \"exchange_rate\", \"schema\": {\"type\": \"object\", \"properties\": {\"date\": {\"type\": \"string\", \"format\": \"date-time\"}}, \"additionalProperties\": true}, \"key_properties\": [\"date\"]}\n",
      "INFO {\"type\": \"RECORD\", \"stream\": \"exchange_rate\", \"record\": {\"GBP\": \"0.871002\", \"JPY\": \"115.375629\", \"EUR\": \"1.0\", \"date\": \"2020-05-05T00:00:00Z\"}}\n",
      "INFO {\"type\": \"RECORD\", \"stream\": \"exchange_rate\", \"record\": {\"GBP\": \"0.871002\", \"JPY\": \"115.375629\", \"EUR\": \"1.0\", \"date\": \"2020-05-05T00:00:00Z\"}}\n",
      "INFO {\"type\": \"RECORD\", \"stream\": \"exchange_rate\", \"record\": {\"GBP\": \"0.87257\", \"JPY\": \"114.807673\", \"EUR\": \"1.0\", \"date\": \"2020-05-06T00:00:00Z\"}}\n",
      "INFO {\"type\": \"RECORD\", \"stream\": \"exchange_rate\", \"record\": {\"GBP\": \"0.87257\", \"JPY\": \"114.807673\", \"EUR\": \"1.0\", \"date\": \"2020-05-06T00:00:00Z\"}}\n",
      "INFO {\"type\": \"STATE\", \"value\": {\"start_date\": \"2020-05-06\"}}\n",
      "INFO {\"type\": \"STATE\", \"value\": {\"start_date\": \"2020-05-06\"}}\n"
     ]
    },
    {
     "name": "stdout",
     "output_type": "stream",
     "text": [
      "INFO Replicating exchange rate data from fixer.io starting from 2020-05-05\n",
      "INFO Tap exiting normally\n"
     ]
    }
   ],
   "source": [
    "source.start()"
   ]
  },
  {
   "cell_type": "markdown",
   "metadata": {},
   "source": [
    "#### Rules if we use an object\n",
    "\n",
    "1. Must has `parse` method."
   ]
  },
  {
   "cell_type": "code",
   "execution_count": null,
   "metadata": {},
   "outputs": [],
   "source": []
  }
 ],
 "metadata": {
  "kernelspec": {
   "display_name": "Python 3",
   "language": "python",
   "name": "python3"
  },
  "language_info": {
   "codemirror_mode": {
    "name": "ipython",
    "version": 3
   },
   "file_extension": ".py",
   "mimetype": "text/x-python",
   "name": "python",
   "nbconvert_exporter": "python",
   "pygments_lexer": "ipython3",
   "version": "3.7.5"
  }
 },
 "nbformat": 4,
 "nbformat_minor": 2
}
