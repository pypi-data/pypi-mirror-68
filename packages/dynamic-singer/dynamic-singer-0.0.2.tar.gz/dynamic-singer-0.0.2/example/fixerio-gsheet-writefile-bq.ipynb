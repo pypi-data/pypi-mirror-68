{
 "cells": [
  {
   "cell_type": "code",
   "execution_count": 1,
   "metadata": {},
   "outputs": [],
   "source": [
    "import dynamic_singer as dsinger"
   ]
  },
  {
   "cell_type": "markdown",
   "metadata": {},
   "source": [
    "## source\n",
    "\n",
    "For source, I am going to use fixer-io, https://github.com/huseinzol05/dynamic-singer/tree/master/tap-fixerio\n",
    "\n",
    "Make sure we already installed the module in our local,\n",
    "\n",
    "```bash\n",
    "git clone https://github.com/huseinzol05/dynamic-singer.git\n",
    "cd dynamic-singer\n",
    "pip install -e tap-fixerio\n",
    "```\n",
    "\n",
    "And if we check in https://github.com/huseinzol05/dynamic-singer/tree/master/tap-fixerio Readme, we need to build a json config,\n",
    "\n",
    "```json\n",
    "{\n",
    "    \"base\": \"USD\",\n",
    "    \"start_date\": \"<YYYY-MM-DD>\",\n",
    "    \"access_key\": \"<your_access_key>\",\n",
    "    \"symbols\": [\"USD\",\"EUR\",\"GBP\",\"JPY\"]\n",
    "}\n",
    "```\n",
    "\n",
    "So we need to create one. Just get our `access_token` at https://fixer.io/quickstart"
   ]
  },
  {
   "cell_type": "code",
   "execution_count": 2,
   "metadata": {},
   "outputs": [],
   "source": [
    "import json\n",
    "\n",
    "config = {\n",
    "    'base': 'USD',\n",
    "    'start_date': '2020-05-05',\n",
    "    'access_key': '6b3f8a3cd7843530014751f7e6a8066d',\n",
    "    'symbols': ['GBP']\n",
    "}\n",
    "\n",
    "with open('fixer-config.json', 'w') as fopen:\n",
    "    json.dump(config, fopen)"
   ]
  },
  {
   "cell_type": "markdown",
   "metadata": {},
   "source": [
    "## start\n",
    "\n",
    "So to dynamic-singer, we need to initiate `Source` object."
   ]
  },
  {
   "cell_type": "code",
   "execution_count": 3,
   "metadata": {},
   "outputs": [],
   "source": [
    "source = dsinger.Source('tap-fixerio --config fixer-config.json')"
   ]
  },
  {
   "cell_type": "markdown",
   "metadata": {},
   "source": [
    "We are not yet able to run it, because we do not add any data sources to sink. So, let's add one."
   ]
  },
  {
   "cell_type": "markdown",
   "metadata": {},
   "source": [
    "## gsheet\n",
    "\n",
    "For target, I am going to use gsheet, https://github.com/singer-io/target-gsheet, In this example, I am not going to share my gcp secret.\n",
    "\n",
    "This is the spreadsheet, https://docs.google.com/spreadsheets/d/1fgajBprxaLxVH9GMg25BzD8xYiWCkEKDSxE9Ze28ArY/edit?usp=sharing\n",
    "\n",
    "Make sure we already installed the module in our local,\n",
    "\n",
    "```bash\n",
    "pip3 install target-gsheet\n",
    "```"
   ]
  },
  {
   "cell_type": "code",
   "execution_count": 4,
   "metadata": {},
   "outputs": [],
   "source": [
    "config = {\n",
    "    'spreadsheet_id': '1fgajBprxaLxVH9GMg25BzD8xYiWCkEKDSxE9Ze28ArY'\n",
    "}\n",
    "with open('gsheet-config.json', 'w') as fopen:\n",
    "    json.dump(config, fopen)"
   ]
  },
  {
   "cell_type": "code",
   "execution_count": 5,
   "metadata": {},
   "outputs": [],
   "source": [
    "source.add('target-gsheet --config gsheet-config.json')"
   ]
  },
  {
   "cell_type": "markdown",
   "metadata": {},
   "source": [
    "## write to file\n",
    "\n",
    "Going to create a simple class to save to file."
   ]
  },
  {
   "cell_type": "code",
   "execution_count": 6,
   "metadata": {},
   "outputs": [],
   "source": [
    "class Target:\n",
    "    def __init__(self, filename):\n",
    "        self.f = open(filename, 'a')\n",
    "        \n",
    "    def parse(self, row):\n",
    "        self.f.write(row)\n",
    "        return row"
   ]
  },
  {
   "cell_type": "code",
   "execution_count": 7,
   "metadata": {},
   "outputs": [],
   "source": [
    "target = Target('test.txt')\n",
    "source.add(target)"
   ]
  },
  {
   "cell_type": "markdown",
   "metadata": {},
   "source": [
    "## Bigquery\n",
    "\n",
    "For bigquery target, I am going to use target-bigquery, https://github.com/huseinzol05/dynamic-singer/tree/master/target-bigquery\n",
    "\n",
    "Make sure we already installed the module in our local,\n",
    "\n",
    "```bash\n",
    "git clone https://github.com/huseinzol05/dynamic-singer.git\n",
    "cd dynamic-singer\n",
    "pip install -e target-bigquery\n",
    "```\n",
    "\n",
    "After that download service account json powerful enough to insert into BQ from GCP IAM and give any name, mine is `bq-account.json`.\n",
    "\n",
    "And please insert your own `project_id` below."
   ]
  },
  {
   "cell_type": "code",
   "execution_count": 8,
   "metadata": {},
   "outputs": [],
   "source": [
    "config = {\n",
    "    'project_id': '',\n",
    "    'dataset_id': 'fixerio',\n",
    "    'key_path': 'bq-account.json',\n",
    "}\n",
    "\n",
    "with open('bigquery-config.json', 'w') as fopen:\n",
    "    json.dump(config, fopen)"
   ]
  },
  {
   "cell_type": "code",
   "execution_count": 9,
   "metadata": {},
   "outputs": [],
   "source": [
    "source.add('target-bigquery --config bigquery-config.json')"
   ]
  },
  {
   "cell_type": "markdown",
   "metadata": {},
   "source": [
    "## List targets"
   ]
  },
  {
   "cell_type": "code",
   "execution_count": 10,
   "metadata": {},
   "outputs": [
    {
     "data": {
      "text/plain": [
       "['target-gsheet --config gsheet-config.json',\n",
       " <__main__.Target at 0x11122d150>,\n",
       " 'target-bigquery --config bigquery-config.json']"
      ]
     },
     "execution_count": 10,
     "metadata": {},
     "output_type": "execute_result"
    }
   ],
   "source": [
    "source.get_targets()"
   ]
  },
  {
   "cell_type": "markdown",
   "metadata": {},
   "source": [
    "Here you can delete any targets using `source.delete_target`,\n",
    "\n",
    "```python\n",
    "def delete_target(self, index: int):\n",
    "    \"\"\"\n",
    "    Parameters\n",
    "    ----------\n",
    "    index: int\n",
    "        target index from `get_targets()`.\n",
    "    \"\"\"\n",
    "```"
   ]
  },
  {
   "cell_type": "markdown",
   "metadata": {},
   "source": [
    "## start\n",
    "\n",
    "In this example, I am going to emit to targets in async manner. Default emitting from first target until last target."
   ]
  },
  {
   "cell_type": "code",
   "execution_count": 11,
   "metadata": {},
   "outputs": [
    {
     "name": "stderr",
     "output_type": "stream",
     "text": [
      "INFO {\"type\": \"SCHEMA\", \"stream\": \"exchange_rate\", \"schema\": {\"type\": \"object\", \"properties\": {\"date\": {\"type\": \"string\", \"format\": \"date-time\"}}, \"additionalProperties\": true}, \"key_properties\": [\"date\"]}\n",
      "INFO None\n",
      "INFO {\"type\": \"RECORD\", \"stream\": \"exchange_rate\", \"record\": {\"GBP\": \"0.871002\", \"EUR\": \"1.0\", \"date\": \"2020-05-05T00:00:00Z\"}}\n",
      "INFO None\n",
      "INFO {\"type\": \"RECORD\", \"stream\": \"exchange_rate\", \"record\": {\"GBP\": \"0.873037\", \"EUR\": \"1.0\", \"date\": \"2020-05-06T00:00:00Z\"}}\n",
      "INFO None\n",
      "INFO {\"type\": \"STATE\", \"value\": {\"start_date\": \"2020-05-06\"}}\n",
      "INFO None\n"
     ]
    },
    {
     "name": "stdout",
     "output_type": "stream",
     "text": [
      "INFO Replicating exchange rate data from fixer.io starting from 2020-05-05\n",
      "INFO Tap exiting normally\n",
      "INFO Sending version information to stitchdata.com. To disable sending anonymous usage data, set the config parameter \"disable_collection\" to true\n",
      "INFO URL being requested: GET https://sheets.googleapis.com/v4/spreadsheets/1fgajBprxaLxVH9GMg25BzD8xYiWCkEKDSxE9Ze28ArY?alt=json\n",
      "INFO URL being requested: POST https://sheets.googleapis.com/v4/spreadsheets/1fgajBprxaLxVH9GMg25BzD8xYiWCkEKDSxE9Ze28ArY:batchUpdate?alt=json\n",
      "INFO URL being requested: GET https://sheets.googleapis.com/v4/spreadsheets/1fgajBprxaLxVH9GMg25BzD8xYiWCkEKDSxE9Ze28ArY?alt=json\n",
      "INFO URL being requested: POST https://sheets.googleapis.com/v4/spreadsheets/1fgajBprxaLxVH9GMg25BzD8xYiWCkEKDSxE9Ze28ArY/values/exchange_rate%21A1%3AZZZ:append?valueInputOption=USER_ENTERED&alt=json\n",
      "INFO URL being requested: POST https://sheets.googleapis.com/v4/spreadsheets/1fgajBprxaLxVH9GMg25BzD8xYiWCkEKDSxE9Ze28ArY/values/exchange_rate%21A1%3AZZZ:append?valueInputOption=USER_ENTERED&alt=json\n",
      "INFO URL being requested: POST https://sheets.googleapis.com/v4/spreadsheets/1fgajBprxaLxVH9GMg25BzD8xYiWCkEKDSxE9Ze28ArY/values/exchange_rate%21A1%3AZZZ:append?valueInputOption=USER_ENTERED&alt=json\n",
      "INFO Sending version information to stitchdata.com. To disable sending anonymous usage data, set the config parameter \"disable_collection\" to true\n",
      "INFO Loaded 2 row(s) into fixerio:exchange_rate\n"
     ]
    }
   ],
   "source": [
    "source.start(asynchronous = True)"
   ]
  },
  {
   "cell_type": "code",
   "execution_count": null,
   "metadata": {},
   "outputs": [],
   "source": []
  }
 ],
 "metadata": {
  "kernelspec": {
   "display_name": "Python 3",
   "language": "python",
   "name": "python3"
  },
  "language_info": {
   "codemirror_mode": {
    "name": "ipython",
    "version": 3
   },
   "file_extension": ".py",
   "mimetype": "text/x-python",
   "name": "python",
   "nbconvert_exporter": "python",
   "pygments_lexer": "ipython3",
   "version": "3.7.5"
  }
 },
 "nbformat": 4,
 "nbformat_minor": 2
}
