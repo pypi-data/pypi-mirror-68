{
 "cells": [
  {
   "cell_type": "code",
   "execution_count": 1,
   "metadata": {},
   "outputs": [],
   "source": [
    "from datetime import datetime\n",
    "\n",
    "class Example:\n",
    "    def __init__(self, size):\n",
    "        self.size = size\n",
    "        self.count = 0\n",
    "        \n",
    "    def emit(self):\n",
    "        if self.count < self.size:\n",
    "            self.count += 1\n",
    "            return {'data': self.count, 'timestamp': str(datetime.now())}"
   ]
  },
  {
   "cell_type": "markdown",
   "metadata": {},
   "source": [
    "Rules if we use an object,\n",
    "\n",
    "1. Must has `emit` method.\n",
    "\n",
    "If not, it will throw an error,\n",
    "\n",
    "```text\n",
    "ValueError: tap must a string or an object with method `emit`\n",
    "```\n",
    "\n",
    "2. `emit` must returned a dict, if want to terminate, simply returned `None`.\n",
    "\n",
    "If not, it will throw an error,\n",
    "\n",
    "```text\n",
    "ValueError: tap.emit() must returned a dict\n",
    "```"
   ]
  },
  {
   "cell_type": "code",
   "execution_count": 2,
   "metadata": {},
   "outputs": [],
   "source": [
    "import dynamic_singer as dsinger\n",
    "\n",
    "example = Example(20)\n",
    "source = dsinger.Source(example, tap_name = 'example', tap_key = 'timestamp')"
   ]
  },
  {
   "cell_type": "markdown",
   "metadata": {},
   "source": [
    "```python\n",
    "class Source:\n",
    "    def __init__(\n",
    "        self,\n",
    "        tap,\n",
    "        tap_schema: Dict = None,\n",
    "        tap_name: str = None,\n",
    "        tap_key: str = None,\n",
    "        port: int = 8000,\n",
    "    ):\n",
    "        \"\"\"\n",
    "\n",
    "        Parameters\n",
    "        ----------\n",
    "        tap: str / object\n",
    "            tap source.\n",
    "        tap_schema: Dict, (default=None)\n",
    "            data schema if tap an object. If `tap_schema` is None, it will auto generate schema.\n",
    "        tap_name: str, (default=None)\n",
    "            name for tap, necessary if tap is an object. \n",
    "            it will throw an error if not a string if tap is an object.\n",
    "        tap_key: str, (default=None)\n",
    "            important non-duplicate key from `tap.emit()`, usually a timestamp.\n",
    "        port: int, (default=8000)\n",
    "            prometheus exporter port.\n",
    "            \n",
    "        \"\"\"\n",
    "```"
   ]
  },
  {
   "cell_type": "markdown",
   "metadata": {},
   "source": [
    "Rules need to follow if our tap is an object,\n",
    "\n",
    "1. `tap_schema` must a dict or None. If None, it will auto generate schema based on `tap.emit()`.\n",
    "\n",
    "2. `tap_name` is necessary, this is name for the tap.\n",
    "\n",
    "3. `tap_key` is necessary, it acted as primary key for the tap."
   ]
  },
  {
   "cell_type": "code",
   "execution_count": 3,
   "metadata": {},
   "outputs": [],
   "source": [
    "import json\n",
    "\n",
    "config = {\n",
    "    'spreadsheet_id': '1fH7C2KCi3P1Uef5wNv8-f_oJlYGYat9d5e5zKxkMoOk'\n",
    "}\n",
    "with open('gsheet-config.json', 'w') as fopen:\n",
    "    json.dump(config, fopen)"
   ]
  },
  {
   "cell_type": "code",
   "execution_count": 4,
   "metadata": {},
   "outputs": [],
   "source": [
    "source.add('target-gsheet --config gsheet-config.json')"
   ]
  },
  {
   "cell_type": "code",
   "execution_count": 5,
   "metadata": {},
   "outputs": [
    {
     "name": "stderr",
     "output_type": "stream",
     "text": [
      "INFO {\"type\": \"SCHEMA\", \"stream\": \"example\", \"schema\": {\"$schema\": \"http://json-schema.org/schema#\", \"type\": \"object\", \"properties\": {\"data\": {\"type\": \"integer\"}, \"timestamp\": {\"type\": \"string\"}}, \"required\": [\"data\", \"timestamp\"]}, \"key_properties\": [\"timestamp\"]}\n",
      "INFO \n",
      "INFO {\"type\": \"RECORD\", \"stream\": \"example\", \"record\": {\"data\": 1, \"timestamp\": \"2020-05-06 18:06:25.409545\"}}\n",
      "INFO \n",
      "INFO {\"type\": \"SCHEMA\", \"stream\": \"example\", \"schema\": {\"$schema\": \"http://json-schema.org/schema#\", \"type\": \"object\", \"properties\": {\"data\": {\"type\": \"integer\"}, \"timestamp\": {\"type\": \"string\"}}, \"required\": [\"data\", \"timestamp\"]}, \"key_properties\": [\"timestamp\"]}\n",
      "INFO \n",
      "INFO {\"type\": \"RECORD\", \"stream\": \"example\", \"record\": {\"data\": 2, \"timestamp\": \"2020-05-06 18:06:25.415495\"}}\n",
      "INFO \n",
      "INFO {\"type\": \"SCHEMA\", \"stream\": \"example\", \"schema\": {\"$schema\": \"http://json-schema.org/schema#\", \"type\": \"object\", \"properties\": {\"data\": {\"type\": \"integer\"}, \"timestamp\": {\"type\": \"string\"}}, \"required\": [\"data\", \"timestamp\"]}, \"key_properties\": [\"timestamp\"]}\n",
      "INFO \n",
      "INFO {\"type\": \"RECORD\", \"stream\": \"example\", \"record\": {\"data\": 3, \"timestamp\": \"2020-05-06 18:06:25.421068\"}}\n",
      "INFO \n",
      "INFO {\"type\": \"SCHEMA\", \"stream\": \"example\", \"schema\": {\"$schema\": \"http://json-schema.org/schema#\", \"type\": \"object\", \"properties\": {\"data\": {\"type\": \"integer\"}, \"timestamp\": {\"type\": \"string\"}}, \"required\": [\"data\", \"timestamp\"]}, \"key_properties\": [\"timestamp\"]}\n",
      "INFO \n",
      "INFO {\"type\": \"RECORD\", \"stream\": \"example\", \"record\": {\"data\": 4, \"timestamp\": \"2020-05-06 18:06:25.424255\"}}\n",
      "INFO \n",
      "INFO {\"type\": \"SCHEMA\", \"stream\": \"example\", \"schema\": {\"$schema\": \"http://json-schema.org/schema#\", \"type\": \"object\", \"properties\": {\"data\": {\"type\": \"integer\"}, \"timestamp\": {\"type\": \"string\"}}, \"required\": [\"data\", \"timestamp\"]}, \"key_properties\": [\"timestamp\"]}\n",
      "INFO \n",
      "INFO {\"type\": \"RECORD\", \"stream\": \"example\", \"record\": {\"data\": 5, \"timestamp\": \"2020-05-06 18:06:25.426790\"}}\n",
      "INFO \n",
      "INFO {\"type\": \"SCHEMA\", \"stream\": \"example\", \"schema\": {\"$schema\": \"http://json-schema.org/schema#\", \"type\": \"object\", \"properties\": {\"data\": {\"type\": \"integer\"}, \"timestamp\": {\"type\": \"string\"}}, \"required\": [\"data\", \"timestamp\"]}, \"key_properties\": [\"timestamp\"]}\n",
      "INFO \n",
      "INFO {\"type\": \"RECORD\", \"stream\": \"example\", \"record\": {\"data\": 6, \"timestamp\": \"2020-05-06 18:06:25.430381\"}}\n",
      "INFO \n",
      "INFO {\"type\": \"SCHEMA\", \"stream\": \"example\", \"schema\": {\"$schema\": \"http://json-schema.org/schema#\", \"type\": \"object\", \"properties\": {\"data\": {\"type\": \"integer\"}, \"timestamp\": {\"type\": \"string\"}}, \"required\": [\"data\", \"timestamp\"]}, \"key_properties\": [\"timestamp\"]}\n",
      "INFO \n",
      "INFO {\"type\": \"RECORD\", \"stream\": \"example\", \"record\": {\"data\": 7, \"timestamp\": \"2020-05-06 18:06:25.435725\"}}\n",
      "INFO \n",
      "INFO {\"type\": \"SCHEMA\", \"stream\": \"example\", \"schema\": {\"$schema\": \"http://json-schema.org/schema#\", \"type\": \"object\", \"properties\": {\"data\": {\"type\": \"integer\"}, \"timestamp\": {\"type\": \"string\"}}, \"required\": [\"data\", \"timestamp\"]}, \"key_properties\": [\"timestamp\"]}\n",
      "INFO \n",
      "INFO {\"type\": \"RECORD\", \"stream\": \"example\", \"record\": {\"data\": 8, \"timestamp\": \"2020-05-06 18:06:25.442820\"}}\n",
      "INFO \n",
      "INFO {\"type\": \"SCHEMA\", \"stream\": \"example\", \"schema\": {\"$schema\": \"http://json-schema.org/schema#\", \"type\": \"object\", \"properties\": {\"data\": {\"type\": \"integer\"}, \"timestamp\": {\"type\": \"string\"}}, \"required\": [\"data\", \"timestamp\"]}, \"key_properties\": [\"timestamp\"]}\n",
      "INFO \n",
      "INFO {\"type\": \"RECORD\", \"stream\": \"example\", \"record\": {\"data\": 9, \"timestamp\": \"2020-05-06 18:06:25.450556\"}}\n",
      "INFO \n",
      "INFO {\"type\": \"SCHEMA\", \"stream\": \"example\", \"schema\": {\"$schema\": \"http://json-schema.org/schema#\", \"type\": \"object\", \"properties\": {\"data\": {\"type\": \"integer\"}, \"timestamp\": {\"type\": \"string\"}}, \"required\": [\"data\", \"timestamp\"]}, \"key_properties\": [\"timestamp\"]}\n",
      "INFO \n",
      "INFO {\"type\": \"RECORD\", \"stream\": \"example\", \"record\": {\"data\": 10, \"timestamp\": \"2020-05-06 18:06:25.458466\"}}\n",
      "INFO \n",
      "INFO {\"type\": \"SCHEMA\", \"stream\": \"example\", \"schema\": {\"$schema\": \"http://json-schema.org/schema#\", \"type\": \"object\", \"properties\": {\"data\": {\"type\": \"integer\"}, \"timestamp\": {\"type\": \"string\"}}, \"required\": [\"data\", \"timestamp\"]}, \"key_properties\": [\"timestamp\"]}\n",
      "INFO \n",
      "INFO {\"type\": \"RECORD\", \"stream\": \"example\", \"record\": {\"data\": 11, \"timestamp\": \"2020-05-06 18:06:25.463759\"}}\n",
      "INFO \n",
      "INFO {\"type\": \"SCHEMA\", \"stream\": \"example\", \"schema\": {\"$schema\": \"http://json-schema.org/schema#\", \"type\": \"object\", \"properties\": {\"data\": {\"type\": \"integer\"}, \"timestamp\": {\"type\": \"string\"}}, \"required\": [\"data\", \"timestamp\"]}, \"key_properties\": [\"timestamp\"]}\n",
      "INFO \n",
      "INFO {\"type\": \"RECORD\", \"stream\": \"example\", \"record\": {\"data\": 12, \"timestamp\": \"2020-05-06 18:06:25.474301\"}}\n",
      "INFO \n",
      "INFO {\"type\": \"SCHEMA\", \"stream\": \"example\", \"schema\": {\"$schema\": \"http://json-schema.org/schema#\", \"type\": \"object\", \"properties\": {\"data\": {\"type\": \"integer\"}, \"timestamp\": {\"type\": \"string\"}}, \"required\": [\"data\", \"timestamp\"]}, \"key_properties\": [\"timestamp\"]}\n",
      "INFO \n",
      "INFO {\"type\": \"RECORD\", \"stream\": \"example\", \"record\": {\"data\": 13, \"timestamp\": \"2020-05-06 18:06:25.481650\"}}\n",
      "INFO \n",
      "INFO {\"type\": \"SCHEMA\", \"stream\": \"example\", \"schema\": {\"$schema\": \"http://json-schema.org/schema#\", \"type\": \"object\", \"properties\": {\"data\": {\"type\": \"integer\"}, \"timestamp\": {\"type\": \"string\"}}, \"required\": [\"data\", \"timestamp\"]}, \"key_properties\": [\"timestamp\"]}\n",
      "INFO \n",
      "INFO {\"type\": \"RECORD\", \"stream\": \"example\", \"record\": {\"data\": 14, \"timestamp\": \"2020-05-06 18:06:25.488629\"}}\n",
      "INFO \n",
      "INFO {\"type\": \"SCHEMA\", \"stream\": \"example\", \"schema\": {\"$schema\": \"http://json-schema.org/schema#\", \"type\": \"object\", \"properties\": {\"data\": {\"type\": \"integer\"}, \"timestamp\": {\"type\": \"string\"}}, \"required\": [\"data\", \"timestamp\"]}, \"key_properties\": [\"timestamp\"]}\n",
      "INFO \n",
      "INFO {\"type\": \"RECORD\", \"stream\": \"example\", \"record\": {\"data\": 15, \"timestamp\": \"2020-05-06 18:06:25.499458\"}}\n",
      "INFO \n",
      "INFO {\"type\": \"SCHEMA\", \"stream\": \"example\", \"schema\": {\"$schema\": \"http://json-schema.org/schema#\", \"type\": \"object\", \"properties\": {\"data\": {\"type\": \"integer\"}, \"timestamp\": {\"type\": \"string\"}}, \"required\": [\"data\", \"timestamp\"]}, \"key_properties\": [\"timestamp\"]}\n",
      "INFO \n",
      "INFO {\"type\": \"RECORD\", \"stream\": \"example\", \"record\": {\"data\": 16, \"timestamp\": \"2020-05-06 18:06:25.508367\"}}\n",
      "INFO \n",
      "INFO {\"type\": \"SCHEMA\", \"stream\": \"example\", \"schema\": {\"$schema\": \"http://json-schema.org/schema#\", \"type\": \"object\", \"properties\": {\"data\": {\"type\": \"integer\"}, \"timestamp\": {\"type\": \"string\"}}, \"required\": [\"data\", \"timestamp\"]}, \"key_properties\": [\"timestamp\"]}\n",
      "INFO \n",
      "INFO {\"type\": \"RECORD\", \"stream\": \"example\", \"record\": {\"data\": 17, \"timestamp\": \"2020-05-06 18:06:25.516675\"}}\n",
      "INFO \n",
      "INFO {\"type\": \"SCHEMA\", \"stream\": \"example\", \"schema\": {\"$schema\": \"http://json-schema.org/schema#\", \"type\": \"object\", \"properties\": {\"data\": {\"type\": \"integer\"}, \"timestamp\": {\"type\": \"string\"}}, \"required\": [\"data\", \"timestamp\"]}, \"key_properties\": [\"timestamp\"]}\n",
      "INFO \n",
      "INFO {\"type\": \"RECORD\", \"stream\": \"example\", \"record\": {\"data\": 18, \"timestamp\": \"2020-05-06 18:06:25.520697\"}}\n",
      "INFO \n",
      "INFO {\"type\": \"SCHEMA\", \"stream\": \"example\", \"schema\": {\"$schema\": \"http://json-schema.org/schema#\", \"type\": \"object\", \"properties\": {\"data\": {\"type\": \"integer\"}, \"timestamp\": {\"type\": \"string\"}}, \"required\": [\"data\", \"timestamp\"]}, \"key_properties\": [\"timestamp\"]}\n",
      "INFO \n",
      "INFO {\"type\": \"RECORD\", \"stream\": \"example\", \"record\": {\"data\": 19, \"timestamp\": \"2020-05-06 18:06:25.528568\"}}\n",
      "INFO \n",
      "INFO {\"type\": \"SCHEMA\", \"stream\": \"example\", \"schema\": {\"$schema\": \"http://json-schema.org/schema#\", \"type\": \"object\", \"properties\": {\"data\": {\"type\": \"integer\"}, \"timestamp\": {\"type\": \"string\"}}, \"required\": [\"data\", \"timestamp\"]}, \"key_properties\": [\"timestamp\"]}\n",
      "INFO \n",
      "INFO {\"type\": \"RECORD\", \"stream\": \"example\", \"record\": {\"data\": 20, \"timestamp\": \"2020-05-06 18:06:25.534244\"}}\n",
      "INFO \n"
     ]
    },
    {
     "name": "stdout",
     "output_type": "stream",
     "text": [
      "INFO Sending version information to stitchdata.com. To disable sending anonymous usage data, set the config parameter \"disable_collection\" to true\n",
      "INFO URL being requested: GET https://sheets.googleapis.com/v4/spreadsheets/1fH7C2KCi3P1Uef5wNv8-f_oJlYGYat9d5e5zKxkMoOk?alt=json\n",
      "INFO URL being requested: GET https://sheets.googleapis.com/v4/spreadsheets/1fH7C2KCi3P1Uef5wNv8-f_oJlYGYat9d5e5zKxkMoOk/values/example%21A1%3AZZZ1?alt=json\n",
      "INFO URL being requested: POST https://sheets.googleapis.com/v4/spreadsheets/1fH7C2KCi3P1Uef5wNv8-f_oJlYGYat9d5e5zKxkMoOk/values/example%21A1%3AZZZ:append?valueInputOption=USER_ENTERED&alt=json\n",
      "INFO URL being requested: POST https://sheets.googleapis.com/v4/spreadsheets/1fH7C2KCi3P1Uef5wNv8-f_oJlYGYat9d5e5zKxkMoOk/values/example%21A1%3AZZZ:append?valueInputOption=USER_ENTERED&alt=json\n",
      "INFO URL being requested: POST https://sheets.googleapis.com/v4/spreadsheets/1fH7C2KCi3P1Uef5wNv8-f_oJlYGYat9d5e5zKxkMoOk/values/example%21A1%3AZZZ:append?valueInputOption=USER_ENTERED&alt=json\n",
      "INFO URL being requested: POST https://sheets.googleapis.com/v4/spreadsheets/1fH7C2KCi3P1Uef5wNv8-f_oJlYGYat9d5e5zKxkMoOk/values/example%21A1%3AZZZ:append?valueInputOption=USER_ENTERED&alt=json\n",
      "INFO URL being requested: POST https://sheets.googleapis.com/v4/spreadsheets/1fH7C2KCi3P1Uef5wNv8-f_oJlYGYat9d5e5zKxkMoOk/values/example%21A1%3AZZZ:append?valueInputOption=USER_ENTERED&alt=json\n",
      "INFO URL being requested: POST https://sheets.googleapis.com/v4/spreadsheets/1fH7C2KCi3P1Uef5wNv8-f_oJlYGYat9d5e5zKxkMoOk/values/example%21A1%3AZZZ:append?valueInputOption=USER_ENTERED&alt=json\n",
      "INFO URL being requested: POST https://sheets.googleapis.com/v4/spreadsheets/1fH7C2KCi3P1Uef5wNv8-f_oJlYGYat9d5e5zKxkMoOk/values/example%21A1%3AZZZ:append?valueInputOption=USER_ENTERED&alt=json\n",
      "INFO URL being requested: POST https://sheets.googleapis.com/v4/spreadsheets/1fH7C2KCi3P1Uef5wNv8-f_oJlYGYat9d5e5zKxkMoOk/values/example%21A1%3AZZZ:append?valueInputOption=USER_ENTERED&alt=json\n",
      "INFO URL being requested: POST https://sheets.googleapis.com/v4/spreadsheets/1fH7C2KCi3P1Uef5wNv8-f_oJlYGYat9d5e5zKxkMoOk/values/example%21A1%3AZZZ:append?valueInputOption=USER_ENTERED&alt=json\n",
      "INFO URL being requested: POST https://sheets.googleapis.com/v4/spreadsheets/1fH7C2KCi3P1Uef5wNv8-f_oJlYGYat9d5e5zKxkMoOk/values/example%21A1%3AZZZ:append?valueInputOption=USER_ENTERED&alt=json\n",
      "INFO URL being requested: POST https://sheets.googleapis.com/v4/spreadsheets/1fH7C2KCi3P1Uef5wNv8-f_oJlYGYat9d5e5zKxkMoOk/values/example%21A1%3AZZZ:append?valueInputOption=USER_ENTERED&alt=json\n",
      "INFO URL being requested: POST https://sheets.googleapis.com/v4/spreadsheets/1fH7C2KCi3P1Uef5wNv8-f_oJlYGYat9d5e5zKxkMoOk/values/example%21A1%3AZZZ:append?valueInputOption=USER_ENTERED&alt=json\n",
      "INFO URL being requested: POST https://sheets.googleapis.com/v4/spreadsheets/1fH7C2KCi3P1Uef5wNv8-f_oJlYGYat9d5e5zKxkMoOk/values/example%21A1%3AZZZ:append?valueInputOption=USER_ENTERED&alt=json\n",
      "INFO URL being requested: POST https://sheets.googleapis.com/v4/spreadsheets/1fH7C2KCi3P1Uef5wNv8-f_oJlYGYat9d5e5zKxkMoOk/values/example%21A1%3AZZZ:append?valueInputOption=USER_ENTERED&alt=json\n",
      "INFO URL being requested: POST https://sheets.googleapis.com/v4/spreadsheets/1fH7C2KCi3P1Uef5wNv8-f_oJlYGYat9d5e5zKxkMoOk/values/example%21A1%3AZZZ:append?valueInputOption=USER_ENTERED&alt=json\n",
      "INFO URL being requested: POST https://sheets.googleapis.com/v4/spreadsheets/1fH7C2KCi3P1Uef5wNv8-f_oJlYGYat9d5e5zKxkMoOk/values/example%21A1%3AZZZ:append?valueInputOption=USER_ENTERED&alt=json\n",
      "INFO URL being requested: POST https://sheets.googleapis.com/v4/spreadsheets/1fH7C2KCi3P1Uef5wNv8-f_oJlYGYat9d5e5zKxkMoOk/values/example%21A1%3AZZZ:append?valueInputOption=USER_ENTERED&alt=json\n"
     ]
    }
   ],
   "source": [
    "source.start()"
   ]
  },
  {
   "cell_type": "code",
   "execution_count": null,
   "metadata": {},
   "outputs": [],
   "source": []
  }
 ],
 "metadata": {
  "kernelspec": {
   "display_name": "Python 3",
   "language": "python",
   "name": "python3"
  },
  "language_info": {
   "codemirror_mode": {
    "name": "ipython",
    "version": 3
   },
   "file_extension": ".py",
   "mimetype": "text/x-python",
   "name": "python",
   "nbconvert_exporter": "python",
   "pygments_lexer": "ipython3",
   "version": "3.7.5"
  }
 },
 "nbformat": 4,
 "nbformat_minor": 2
}
