{
 "cells": [
  {
   "cell_type": "code",
   "execution_count": 1,
   "metadata": {},
   "outputs": [],
   "source": [
    "from datetime import datetime\n",
    "\n",
    "class Example:\n",
    "    def __init__(self, size):\n",
    "        self.size = size\n",
    "        self.count = 0\n",
    "        \n",
    "    def emit(self):\n",
    "        if self.count < self.size:\n",
    "            self.count += 1\n",
    "            return {'data': self.count, 'timestamp': str(datetime.now())}"
   ]
  },
  {
   "cell_type": "code",
   "execution_count": 2,
   "metadata": {},
   "outputs": [],
   "source": [
    "import dynamic_singer as dsinger\n",
    "\n",
    "example = Example(20)\n",
    "source = dsinger.Source(example, tap_name = 'example-transformation', tap_key = 'timestamp')"
   ]
  },
  {
   "cell_type": "code",
   "execution_count": 3,
   "metadata": {},
   "outputs": [],
   "source": [
    "import json\n",
    "\n",
    "config = {\n",
    "    'spreadsheet_id': '1fH7C2KCi3P1Uef5wNv8-f_oJlYGYat9d5e5zKxkMoOk'\n",
    "}\n",
    "with open('gsheet-config.json', 'w') as fopen:\n",
    "    json.dump(config, fopen)"
   ]
  },
  {
   "cell_type": "code",
   "execution_count": 4,
   "metadata": {},
   "outputs": [],
   "source": [
    "source.add('target-gsheet --config gsheet-config.json')"
   ]
  },
  {
   "cell_type": "code",
   "execution_count": 5,
   "metadata": {},
   "outputs": [],
   "source": [
    "def transformation(row):\n",
    "    if row['data'] > 5:\n",
    "        return row"
   ]
  },
  {
   "cell_type": "code",
   "execution_count": 6,
   "metadata": {},
   "outputs": [
    {
     "name": "stderr",
     "output_type": "stream",
     "text": [
      "INFO {\"type\": \"SCHEMA\", \"stream\": \"example-transformation\", \"schema\": {\"$schema\": \"http://json-schema.org/schema#\", \"type\": \"object\", \"properties\": {\"data\": {\"type\": \"integer\"}, \"timestamp\": {\"type\": \"string\"}}, \"required\": [\"data\", \"timestamp\"]}, \"key_properties\": [\"timestamp\"]}\n",
      "INFO \n",
      "INFO {\"type\": \"SCHEMA\", \"stream\": \"example-transformation\", \"schema\": {\"$schema\": \"http://json-schema.org/schema#\", \"type\": \"object\", \"properties\": {\"data\": {\"type\": \"integer\"}, \"timestamp\": {\"type\": \"string\"}}, \"required\": [\"data\", \"timestamp\"]}, \"key_properties\": [\"timestamp\"]}\n",
      "INFO \n",
      "INFO {\"type\": \"SCHEMA\", \"stream\": \"example-transformation\", \"schema\": {\"$schema\": \"http://json-schema.org/schema#\", \"type\": \"object\", \"properties\": {\"data\": {\"type\": \"integer\"}, \"timestamp\": {\"type\": \"string\"}}, \"required\": [\"data\", \"timestamp\"]}, \"key_properties\": [\"timestamp\"]}\n",
      "INFO \n",
      "INFO {\"type\": \"SCHEMA\", \"stream\": \"example-transformation\", \"schema\": {\"$schema\": \"http://json-schema.org/schema#\", \"type\": \"object\", \"properties\": {\"data\": {\"type\": \"integer\"}, \"timestamp\": {\"type\": \"string\"}}, \"required\": [\"data\", \"timestamp\"]}, \"key_properties\": [\"timestamp\"]}\n",
      "INFO \n",
      "INFO {\"type\": \"SCHEMA\", \"stream\": \"example-transformation\", \"schema\": {\"$schema\": \"http://json-schema.org/schema#\", \"type\": \"object\", \"properties\": {\"data\": {\"type\": \"integer\"}, \"timestamp\": {\"type\": \"string\"}}, \"required\": [\"data\", \"timestamp\"]}, \"key_properties\": [\"timestamp\"]}\n",
      "INFO \n",
      "INFO {\"type\": \"SCHEMA\", \"stream\": \"example-transformation\", \"schema\": {\"$schema\": \"http://json-schema.org/schema#\", \"type\": \"object\", \"properties\": {\"data\": {\"type\": \"integer\"}, \"timestamp\": {\"type\": \"string\"}}, \"required\": [\"data\", \"timestamp\"]}, \"key_properties\": [\"timestamp\"]}\n",
      "INFO \n",
      "INFO {\"type\": \"SCHEMA\", \"stream\": \"example-transformation\", \"schema\": {\"$schema\": \"http://json-schema.org/schema#\", \"type\": \"object\", \"properties\": {\"data\": {\"type\": \"integer\"}, \"timestamp\": {\"type\": \"string\"}}, \"required\": [\"data\", \"timestamp\"]}, \"key_properties\": null}\n",
      "INFO \n",
      "INFO {\"type\": \"RECORD\", \"stream\": \"example-transformation\", \"record\": {\"data\": 6, \"timestamp\": \"2020-05-08 19:03:36.455226\"}}\n",
      "INFO \n",
      "INFO {\"type\": \"SCHEMA\", \"stream\": \"example-transformation\", \"schema\": {\"$schema\": \"http://json-schema.org/schema#\", \"type\": \"object\", \"properties\": {\"data\": {\"type\": \"integer\"}, \"timestamp\": {\"type\": \"string\"}}, \"required\": [\"data\", \"timestamp\"]}, \"key_properties\": [\"timestamp\"]}\n",
      "INFO \n",
      "INFO {\"type\": \"SCHEMA\", \"stream\": \"example-transformation\", \"schema\": {\"$schema\": \"http://json-schema.org/schema#\", \"type\": \"object\", \"properties\": {\"data\": {\"type\": \"integer\"}, \"timestamp\": {\"type\": \"string\"}}, \"required\": [\"data\", \"timestamp\"]}, \"key_properties\": null}\n",
      "INFO \n",
      "INFO {\"type\": \"RECORD\", \"stream\": \"example-transformation\", \"record\": {\"data\": 7, \"timestamp\": \"2020-05-08 19:03:36.460920\"}}\n",
      "INFO \n",
      "INFO {\"type\": \"SCHEMA\", \"stream\": \"example-transformation\", \"schema\": {\"$schema\": \"http://json-schema.org/schema#\", \"type\": \"object\", \"properties\": {\"data\": {\"type\": \"integer\"}, \"timestamp\": {\"type\": \"string\"}}, \"required\": [\"data\", \"timestamp\"]}, \"key_properties\": [\"timestamp\"]}\n",
      "INFO \n",
      "INFO {\"type\": \"SCHEMA\", \"stream\": \"example-transformation\", \"schema\": {\"$schema\": \"http://json-schema.org/schema#\", \"type\": \"object\", \"properties\": {\"data\": {\"type\": \"integer\"}, \"timestamp\": {\"type\": \"string\"}}, \"required\": [\"data\", \"timestamp\"]}, \"key_properties\": null}\n",
      "INFO \n",
      "INFO {\"type\": \"RECORD\", \"stream\": \"example-transformation\", \"record\": {\"data\": 8, \"timestamp\": \"2020-05-08 19:03:36.466479\"}}\n",
      "INFO \n",
      "INFO {\"type\": \"SCHEMA\", \"stream\": \"example-transformation\", \"schema\": {\"$schema\": \"http://json-schema.org/schema#\", \"type\": \"object\", \"properties\": {\"data\": {\"type\": \"integer\"}, \"timestamp\": {\"type\": \"string\"}}, \"required\": [\"data\", \"timestamp\"]}, \"key_properties\": [\"timestamp\"]}\n",
      "INFO \n",
      "INFO {\"type\": \"SCHEMA\", \"stream\": \"example-transformation\", \"schema\": {\"$schema\": \"http://json-schema.org/schema#\", \"type\": \"object\", \"properties\": {\"data\": {\"type\": \"integer\"}, \"timestamp\": {\"type\": \"string\"}}, \"required\": [\"data\", \"timestamp\"]}, \"key_properties\": null}\n",
      "INFO \n",
      "INFO {\"type\": \"RECORD\", \"stream\": \"example-transformation\", \"record\": {\"data\": 9, \"timestamp\": \"2020-05-08 19:03:36.471710\"}}\n",
      "INFO \n",
      "INFO {\"type\": \"SCHEMA\", \"stream\": \"example-transformation\", \"schema\": {\"$schema\": \"http://json-schema.org/schema#\", \"type\": \"object\", \"properties\": {\"data\": {\"type\": \"integer\"}, \"timestamp\": {\"type\": \"string\"}}, \"required\": [\"data\", \"timestamp\"]}, \"key_properties\": [\"timestamp\"]}\n",
      "INFO \n",
      "INFO {\"type\": \"SCHEMA\", \"stream\": \"example-transformation\", \"schema\": {\"$schema\": \"http://json-schema.org/schema#\", \"type\": \"object\", \"properties\": {\"data\": {\"type\": \"integer\"}, \"timestamp\": {\"type\": \"string\"}}, \"required\": [\"data\", \"timestamp\"]}, \"key_properties\": null}\n",
      "INFO \n",
      "INFO {\"type\": \"RECORD\", \"stream\": \"example-transformation\", \"record\": {\"data\": 10, \"timestamp\": \"2020-05-08 19:03:36.478485\"}}\n",
      "INFO \n",
      "INFO {\"type\": \"SCHEMA\", \"stream\": \"example-transformation\", \"schema\": {\"$schema\": \"http://json-schema.org/schema#\", \"type\": \"object\", \"properties\": {\"data\": {\"type\": \"integer\"}, \"timestamp\": {\"type\": \"string\"}}, \"required\": [\"data\", \"timestamp\"]}, \"key_properties\": [\"timestamp\"]}\n",
      "INFO \n",
      "INFO {\"type\": \"SCHEMA\", \"stream\": \"example-transformation\", \"schema\": {\"$schema\": \"http://json-schema.org/schema#\", \"type\": \"object\", \"properties\": {\"data\": {\"type\": \"integer\"}, \"timestamp\": {\"type\": \"string\"}}, \"required\": [\"data\", \"timestamp\"]}, \"key_properties\": null}\n",
      "INFO \n",
      "INFO {\"type\": \"RECORD\", \"stream\": \"example-transformation\", \"record\": {\"data\": 11, \"timestamp\": \"2020-05-08 19:03:36.484333\"}}\n",
      "INFO \n",
      "INFO {\"type\": \"SCHEMA\", \"stream\": \"example-transformation\", \"schema\": {\"$schema\": \"http://json-schema.org/schema#\", \"type\": \"object\", \"properties\": {\"data\": {\"type\": \"integer\"}, \"timestamp\": {\"type\": \"string\"}}, \"required\": [\"data\", \"timestamp\"]}, \"key_properties\": [\"timestamp\"]}\n",
      "INFO \n",
      "INFO {\"type\": \"SCHEMA\", \"stream\": \"example-transformation\", \"schema\": {\"$schema\": \"http://json-schema.org/schema#\", \"type\": \"object\", \"properties\": {\"data\": {\"type\": \"integer\"}, \"timestamp\": {\"type\": \"string\"}}, \"required\": [\"data\", \"timestamp\"]}, \"key_properties\": null}\n",
      "INFO \n",
      "INFO {\"type\": \"RECORD\", \"stream\": \"example-transformation\", \"record\": {\"data\": 12, \"timestamp\": \"2020-05-08 19:03:36.488780\"}}\n",
      "INFO \n",
      "INFO {\"type\": \"SCHEMA\", \"stream\": \"example-transformation\", \"schema\": {\"$schema\": \"http://json-schema.org/schema#\", \"type\": \"object\", \"properties\": {\"data\": {\"type\": \"integer\"}, \"timestamp\": {\"type\": \"string\"}}, \"required\": [\"data\", \"timestamp\"]}, \"key_properties\": [\"timestamp\"]}\n",
      "INFO \n",
      "INFO {\"type\": \"SCHEMA\", \"stream\": \"example-transformation\", \"schema\": {\"$schema\": \"http://json-schema.org/schema#\", \"type\": \"object\", \"properties\": {\"data\": {\"type\": \"integer\"}, \"timestamp\": {\"type\": \"string\"}}, \"required\": [\"data\", \"timestamp\"]}, \"key_properties\": null}\n",
      "INFO \n",
      "INFO {\"type\": \"RECORD\", \"stream\": \"example-transformation\", \"record\": {\"data\": 13, \"timestamp\": \"2020-05-08 19:03:36.494388\"}}\n",
      "INFO \n",
      "INFO {\"type\": \"SCHEMA\", \"stream\": \"example-transformation\", \"schema\": {\"$schema\": \"http://json-schema.org/schema#\", \"type\": \"object\", \"properties\": {\"data\": {\"type\": \"integer\"}, \"timestamp\": {\"type\": \"string\"}}, \"required\": [\"data\", \"timestamp\"]}, \"key_properties\": [\"timestamp\"]}\n",
      "INFO \n",
      "INFO {\"type\": \"SCHEMA\", \"stream\": \"example-transformation\", \"schema\": {\"$schema\": \"http://json-schema.org/schema#\", \"type\": \"object\", \"properties\": {\"data\": {\"type\": \"integer\"}, \"timestamp\": {\"type\": \"string\"}}, \"required\": [\"data\", \"timestamp\"]}, \"key_properties\": null}\n",
      "INFO \n",
      "INFO {\"type\": \"RECORD\", \"stream\": \"example-transformation\", \"record\": {\"data\": 14, \"timestamp\": \"2020-05-08 19:03:36.500262\"}}\n",
      "INFO \n",
      "INFO {\"type\": \"SCHEMA\", \"stream\": \"example-transformation\", \"schema\": {\"$schema\": \"http://json-schema.org/schema#\", \"type\": \"object\", \"properties\": {\"data\": {\"type\": \"integer\"}, \"timestamp\": {\"type\": \"string\"}}, \"required\": [\"data\", \"timestamp\"]}, \"key_properties\": [\"timestamp\"]}\n",
      "INFO \n",
      "INFO {\"type\": \"SCHEMA\", \"stream\": \"example-transformation\", \"schema\": {\"$schema\": \"http://json-schema.org/schema#\", \"type\": \"object\", \"properties\": {\"data\": {\"type\": \"integer\"}, \"timestamp\": {\"type\": \"string\"}}, \"required\": [\"data\", \"timestamp\"]}, \"key_properties\": null}\n"
     ]
    },
    {
     "name": "stderr",
     "output_type": "stream",
     "text": [
      "INFO \n",
      "INFO {\"type\": \"RECORD\", \"stream\": \"example-transformation\", \"record\": {\"data\": 15, \"timestamp\": \"2020-05-08 19:03:36.505482\"}}\n",
      "INFO \n",
      "INFO {\"type\": \"SCHEMA\", \"stream\": \"example-transformation\", \"schema\": {\"$schema\": \"http://json-schema.org/schema#\", \"type\": \"object\", \"properties\": {\"data\": {\"type\": \"integer\"}, \"timestamp\": {\"type\": \"string\"}}, \"required\": [\"data\", \"timestamp\"]}, \"key_properties\": [\"timestamp\"]}\n",
      "INFO \n",
      "INFO {\"type\": \"SCHEMA\", \"stream\": \"example-transformation\", \"schema\": {\"$schema\": \"http://json-schema.org/schema#\", \"type\": \"object\", \"properties\": {\"data\": {\"type\": \"integer\"}, \"timestamp\": {\"type\": \"string\"}}, \"required\": [\"data\", \"timestamp\"]}, \"key_properties\": null}\n",
      "INFO \n",
      "INFO {\"type\": \"RECORD\", \"stream\": \"example-transformation\", \"record\": {\"data\": 16, \"timestamp\": \"2020-05-08 19:03:36.512068\"}}\n",
      "INFO \n",
      "INFO {\"type\": \"SCHEMA\", \"stream\": \"example-transformation\", \"schema\": {\"$schema\": \"http://json-schema.org/schema#\", \"type\": \"object\", \"properties\": {\"data\": {\"type\": \"integer\"}, \"timestamp\": {\"type\": \"string\"}}, \"required\": [\"data\", \"timestamp\"]}, \"key_properties\": [\"timestamp\"]}\n",
      "INFO \n",
      "INFO {\"type\": \"SCHEMA\", \"stream\": \"example-transformation\", \"schema\": {\"$schema\": \"http://json-schema.org/schema#\", \"type\": \"object\", \"properties\": {\"data\": {\"type\": \"integer\"}, \"timestamp\": {\"type\": \"string\"}}, \"required\": [\"data\", \"timestamp\"]}, \"key_properties\": null}\n",
      "INFO \n",
      "INFO {\"type\": \"RECORD\", \"stream\": \"example-transformation\", \"record\": {\"data\": 17, \"timestamp\": \"2020-05-08 19:03:36.517337\"}}\n",
      "INFO \n",
      "INFO {\"type\": \"SCHEMA\", \"stream\": \"example-transformation\", \"schema\": {\"$schema\": \"http://json-schema.org/schema#\", \"type\": \"object\", \"properties\": {\"data\": {\"type\": \"integer\"}, \"timestamp\": {\"type\": \"string\"}}, \"required\": [\"data\", \"timestamp\"]}, \"key_properties\": [\"timestamp\"]}\n",
      "INFO \n",
      "INFO {\"type\": \"SCHEMA\", \"stream\": \"example-transformation\", \"schema\": {\"$schema\": \"http://json-schema.org/schema#\", \"type\": \"object\", \"properties\": {\"data\": {\"type\": \"integer\"}, \"timestamp\": {\"type\": \"string\"}}, \"required\": [\"data\", \"timestamp\"]}, \"key_properties\": null}\n",
      "INFO \n",
      "INFO {\"type\": \"RECORD\", \"stream\": \"example-transformation\", \"record\": {\"data\": 18, \"timestamp\": \"2020-05-08 19:03:36.523245\"}}\n",
      "INFO \n",
      "INFO {\"type\": \"SCHEMA\", \"stream\": \"example-transformation\", \"schema\": {\"$schema\": \"http://json-schema.org/schema#\", \"type\": \"object\", \"properties\": {\"data\": {\"type\": \"integer\"}, \"timestamp\": {\"type\": \"string\"}}, \"required\": [\"data\", \"timestamp\"]}, \"key_properties\": [\"timestamp\"]}\n",
      "INFO \n",
      "INFO {\"type\": \"SCHEMA\", \"stream\": \"example-transformation\", \"schema\": {\"$schema\": \"http://json-schema.org/schema#\", \"type\": \"object\", \"properties\": {\"data\": {\"type\": \"integer\"}, \"timestamp\": {\"type\": \"string\"}}, \"required\": [\"data\", \"timestamp\"]}, \"key_properties\": null}\n",
      "INFO \n",
      "INFO {\"type\": \"RECORD\", \"stream\": \"example-transformation\", \"record\": {\"data\": 19, \"timestamp\": \"2020-05-08 19:03:36.530428\"}}\n",
      "INFO \n",
      "INFO {\"type\": \"SCHEMA\", \"stream\": \"example-transformation\", \"schema\": {\"$schema\": \"http://json-schema.org/schema#\", \"type\": \"object\", \"properties\": {\"data\": {\"type\": \"integer\"}, \"timestamp\": {\"type\": \"string\"}}, \"required\": [\"data\", \"timestamp\"]}, \"key_properties\": [\"timestamp\"]}\n",
      "INFO \n",
      "INFO {\"type\": \"SCHEMA\", \"stream\": \"example-transformation\", \"schema\": {\"$schema\": \"http://json-schema.org/schema#\", \"type\": \"object\", \"properties\": {\"data\": {\"type\": \"integer\"}, \"timestamp\": {\"type\": \"string\"}}, \"required\": [\"data\", \"timestamp\"]}, \"key_properties\": null}\n",
      "INFO \n",
      "INFO {\"type\": \"RECORD\", \"stream\": \"example-transformation\", \"record\": {\"data\": 20, \"timestamp\": \"2020-05-08 19:03:36.535710\"}}\n",
      "INFO \n"
     ]
    },
    {
     "name": "stdout",
     "output_type": "stream",
     "text": [
      "INFO Sending version information to stitchdata.com. To disable sending anonymous usage data, set the config parameter \"disable_collection\" to true\n",
      "INFO URL being requested: GET https://sheets.googleapis.com/v4/spreadsheets/1fH7C2KCi3P1Uef5wNv8-f_oJlYGYat9d5e5zKxkMoOk?alt=json\n",
      "INFO URL being requested: GET https://sheets.googleapis.com/v4/spreadsheets/1fH7C2KCi3P1Uef5wNv8-f_oJlYGYat9d5e5zKxkMoOk?alt=json\n",
      "INFO URL being requested: POST https://sheets.googleapis.com/v4/spreadsheets/1fH7C2KCi3P1Uef5wNv8-f_oJlYGYat9d5e5zKxkMoOk/values/example-transformation%21A1%3AZZZ:append?valueInputOption=USER_ENTERED&alt=json\n",
      "INFO URL being requested: POST https://sheets.googleapis.com/v4/spreadsheets/1fH7C2KCi3P1Uef5wNv8-f_oJlYGYat9d5e5zKxkMoOk/values/example-transformation%21A1%3AZZZ:append?valueInputOption=USER_ENTERED&alt=json\n",
      "INFO URL being requested: POST https://sheets.googleapis.com/v4/spreadsheets/1fH7C2KCi3P1Uef5wNv8-f_oJlYGYat9d5e5zKxkMoOk/values/example-transformation%21A1%3AZZZ:append?valueInputOption=USER_ENTERED&alt=json\n",
      "INFO URL being requested: POST https://sheets.googleapis.com/v4/spreadsheets/1fH7C2KCi3P1Uef5wNv8-f_oJlYGYat9d5e5zKxkMoOk/values/example-transformation%21A1%3AZZZ:append?valueInputOption=USER_ENTERED&alt=json\n",
      "INFO URL being requested: POST https://sheets.googleapis.com/v4/spreadsheets/1fH7C2KCi3P1Uef5wNv8-f_oJlYGYat9d5e5zKxkMoOk/values/example-transformation%21A1%3AZZZ:append?valueInputOption=USER_ENTERED&alt=json\n",
      "INFO URL being requested: POST https://sheets.googleapis.com/v4/spreadsheets/1fH7C2KCi3P1Uef5wNv8-f_oJlYGYat9d5e5zKxkMoOk/values/example-transformation%21A1%3AZZZ:append?valueInputOption=USER_ENTERED&alt=json\n",
      "INFO URL being requested: POST https://sheets.googleapis.com/v4/spreadsheets/1fH7C2KCi3P1Uef5wNv8-f_oJlYGYat9d5e5zKxkMoOk/values/example-transformation%21A1%3AZZZ:append?valueInputOption=USER_ENTERED&alt=json\n",
      "INFO URL being requested: POST https://sheets.googleapis.com/v4/spreadsheets/1fH7C2KCi3P1Uef5wNv8-f_oJlYGYat9d5e5zKxkMoOk/values/example-transformation%21A1%3AZZZ:append?valueInputOption=USER_ENTERED&alt=json\n",
      "INFO URL being requested: POST https://sheets.googleapis.com/v4/spreadsheets/1fH7C2KCi3P1Uef5wNv8-f_oJlYGYat9d5e5zKxkMoOk/values/example-transformation%21A1%3AZZZ:append?valueInputOption=USER_ENTERED&alt=json\n",
      "INFO URL being requested: POST https://sheets.googleapis.com/v4/spreadsheets/1fH7C2KCi3P1Uef5wNv8-f_oJlYGYat9d5e5zKxkMoOk/values/example-transformation%21A1%3AZZZ:append?valueInputOption=USER_ENTERED&alt=json\n",
      "INFO URL being requested: POST https://sheets.googleapis.com/v4/spreadsheets/1fH7C2KCi3P1Uef5wNv8-f_oJlYGYat9d5e5zKxkMoOk/values/example-transformation%21A1%3AZZZ:append?valueInputOption=USER_ENTERED&alt=json\n",
      "INFO URL being requested: POST https://sheets.googleapis.com/v4/spreadsheets/1fH7C2KCi3P1Uef5wNv8-f_oJlYGYat9d5e5zKxkMoOk/values/example-transformation%21A1%3AZZZ:append?valueInputOption=USER_ENTERED&alt=json\n",
      "INFO URL being requested: POST https://sheets.googleapis.com/v4/spreadsheets/1fH7C2KCi3P1Uef5wNv8-f_oJlYGYat9d5e5zKxkMoOk/values/example-transformation%21A1%3AZZZ:append?valueInputOption=USER_ENTERED&alt=json\n",
      "INFO URL being requested: POST https://sheets.googleapis.com/v4/spreadsheets/1fH7C2KCi3P1Uef5wNv8-f_oJlYGYat9d5e5zKxkMoOk/values/example-transformation%21A1%3AZZZ:append?valueInputOption=USER_ENTERED&alt=json\n"
     ]
    }
   ],
   "source": [
    "source.start(transformation = transformation)"
   ]
  },
  {
   "cell_type": "code",
   "execution_count": null,
   "metadata": {},
   "outputs": [],
   "source": []
  }
 ],
 "metadata": {
  "kernelspec": {
   "display_name": "Python 3",
   "language": "python",
   "name": "python3"
  },
  "language_info": {
   "codemirror_mode": {
    "name": "ipython",
    "version": 3
   },
   "file_extension": ".py",
   "mimetype": "text/x-python",
   "name": "python",
   "nbconvert_exporter": "python",
   "pygments_lexer": "ipython3",
   "version": "3.7.5"
  }
 },
 "nbformat": 4,
 "nbformat_minor": 2
}
