{
 "cells": [
  {
   "cell_type": "markdown",
   "metadata": {},
   "source": [
    "# The *Sweeper Module*\n"
   ]
  },
  {
   "cell_type": "code",
   "execution_count": 1,
   "metadata": {},
   "outputs": [
    {
     "name": "stdout",
     "output_type": "stream",
     "text": [
      "Successfully connected to data server at 10.42.3.788004 api version: 6\n",
      "Successfully connected to device DEV3337 on interface PCIE\n"
     ]
    }
   ],
   "source": [
    "import zhinst.toolkit as tk\n",
    "\n",
    "mfli = tk.MFLI(\"mf1\", \"dev3337\", interface=\"pcie\", host=\"10.42.3.78\")\n",
    "mfli.setup() # set up data server connection\n",
    "mfli.connect_device() # connect device to data server"
   ]
  },
  {
   "cell_type": "markdown",
   "metadata": {},
   "source": [
    "TODO: Some explanation here about the sweeper module...."
   ]
  },
  {
   "cell_type": "code",
   "execution_count": 14,
   "metadata": {},
   "outputs": [
    {
     "data": {
      "text/plain": [
       "<zhinst.toolkit.control.drivers.mfli.SweeperModule object at 0x000001D33A187288>\n",
       "\n",
       "signals:\n",
       "parameters:\n",
       " - averaging_sample\n",
       " - averaging_tc\n",
       " - averaging_time\n",
       " - awgcontrol\n",
       " - bandwidth\n",
       " - bandwidthcontrol\n",
       " - bandwidthoverlap\n",
       " - clearhistory\n",
       " - device\n",
       " - endless\n",
       " - gridnode\n",
       " - historylength\n",
       " - loopcount\n",
       " - maxbandwidth\n",
       " - omegasuppression\n",
       " - order\n",
       " - phaseunwrap\n",
       " - remainingtime\n",
       " - samplecount\n",
       " - save_csvlocale\n",
       " - save_csvseparator\n",
       " - save_directory\n",
       " - save_fileformat\n",
       " - save_filename\n",
       " - save_save\n",
       " - save_saveonread\n",
       " - scan\n",
       " - settling_inaccuracy\n",
       " - settling_tc\n",
       " - settling_time\n",
       " - sincfilter\n",
       " - start\n",
       " - stop\n",
       " - xmapping"
      ]
     },
     "execution_count": 14,
     "metadata": {},
     "output_type": "execute_result"
    }
   ],
   "source": [
    "mfli.sweeper"
   ]
  },
  {
   "cell_type": "markdown",
   "metadata": {},
   "source": [
    "As for the *Data Acquisition Module* the available signal sources can be shown with `signals_list(...)`. They can differ depending on the options installed in the instrument."
   ]
  },
  {
   "cell_type": "code",
   "execution_count": 15,
   "metadata": {},
   "outputs": [
    {
     "data": {
      "text/plain": [
       "['dio0',\n",
       " 'auxin0',\n",
       " 'scope0',\n",
       " 'demod0',\n",
       " 'demod1',\n",
       " 'demod2',\n",
       " 'demod3',\n",
       " 'pid0_value',\n",
       " 'pid0_error',\n",
       " 'pid0_shift',\n",
       " 'pid1_value',\n",
       " 'pid1_error',\n",
       " 'pid1_shift',\n",
       " 'pid2_value',\n",
       " 'pid2_error',\n",
       " 'pid2_shift',\n",
       " 'pid3_value',\n",
       " 'pid3_error',\n",
       " 'pid3_shift',\n",
       " 'imp0',\n",
       " 'imp1']"
      ]
     },
     "execution_count": 15,
     "metadata": {},
     "output_type": "execute_result"
    }
   ],
   "source": [
    "mfli.sweeper.signals_list()"
   ]
  },
  {
   "cell_type": "markdown",
   "metadata": {},
   "source": [
    "The *Parameters* that are available for sweeping can be listed with `sweep_parameter_list()`."
   ]
  },
  {
   "cell_type": "code",
   "execution_count": 17,
   "metadata": {},
   "outputs": [
    {
     "data": {
      "text/plain": [
       "['auxout1offset',\n",
       " 'auxout2offset',\n",
       " 'auxout3offset',\n",
       " 'auxout4offset',\n",
       " 'demdod1phase',\n",
       " 'demdod2phase',\n",
       " 'frequency',\n",
       " 'output1amp',\n",
       " 'output1offset']"
      ]
     },
     "execution_count": 17,
     "metadata": {},
     "output_type": "execute_result"
    }
   ],
   "source": [
    "mfli.sweeper.sweep_parameter_list()"
   ]
  }
 ],
 "metadata": {
  "kernelspec": {
   "display_name": "qcodes",
   "language": "python",
   "name": "qcodes"
  },
  "language_info": {
   "codemirror_mode": {
    "name": "ipython",
    "version": 3
   },
   "file_extension": ".py",
   "mimetype": "text/x-python",
   "name": "python",
   "nbconvert_exporter": "python",
   "pygments_lexer": "ipython3",
   "version": "3.7.5"
  }
 },
 "nbformat": 4,
 "nbformat_minor": 4
}
