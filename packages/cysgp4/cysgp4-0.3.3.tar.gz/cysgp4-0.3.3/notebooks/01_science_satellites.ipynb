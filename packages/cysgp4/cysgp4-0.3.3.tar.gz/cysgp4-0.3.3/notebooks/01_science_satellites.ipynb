{
 "cells": [
  {
   "cell_type": "markdown",
   "metadata": {},
   "source": [
    "## License\n",
    "```\n",
    "Visualize scientific satellites orbits.\n",
    "Copyright (C) 2019+  Benjamin Winkel (bwinkel@mpifr.de)\n",
    "\n",
    "This program is free software: you can redistribute it and/or modify\n",
    "it under the terms of the GNU General Public License as published by\n",
    "the Free Software Foundation, either version 3 of the License, or\n",
    "(at your option) any later version.\n",
    "\n",
    "This program is distributed in the hope that it will be useful,\n",
    "but WITHOUT ANY WARRANTY; without even the implied warranty of\n",
    "MERCHANTABILITY or FITNESS FOR A PARTICULAR PURPOSE.  See the\n",
    "GNU General Public License for more details.\n",
    "\n",
    "You should have received a copy of the GNU General Public License\n",
    "along with this program.  If not, see <https://www.gnu.org/licenses/>.\n",
    "\n",
    "Note: parts of this software were adapted from Cees Bassa (ASTRON);\n",
    "      see https://github.com/cbassa/satellite_analysis\n",
    "```"
   ]
  },
  {
   "cell_type": "code",
   "execution_count": 1,
   "metadata": {},
   "outputs": [],
   "source": [
    "import numpy as np\n",
    "\n",
    "import matplotlib\n",
    "import matplotlib.pyplot as plt\n",
    "# This import registers the 3D projection, but is otherwise unused.\n",
    "from mpl_toolkits.mplot3d import Axes3D\n",
    "# for animations, you may need to install \"ffmpeg\" and/or \"imagemagick\"\n",
    "from matplotlib import animation, rc\n",
    "\n",
    "import cysgp4\n",
    "\n",
    "rc('animation', html='html5')"
   ]
  },
  {
   "cell_type": "markdown",
   "metadata": {},
   "source": [
    "If you plan to make big movies (i.e., large file sizes), you may need to start Jupyter with the command line option ``--NotebookApp.iopub_data_rate_limit=1.0e10`` and do the following:"
   ]
  },
  {
   "cell_type": "code",
   "execution_count": 2,
   "metadata": {},
   "outputs": [],
   "source": [
    "# matplotlib.rcParams['animation.embed_limit'] = 2 ** 128"
   ]
  },
  {
   "cell_type": "code",
   "execution_count": 3,
   "metadata": {},
   "outputs": [],
   "source": [
    "science_tle_text = cysgp4.get_example_tles()\n",
    "my_tles = cysgp4.tles_from_text(science_tle_text)"
   ]
  },
  {
   "cell_type": "code",
   "execution_count": 4,
   "metadata": {},
   "outputs": [
    {
     "data": {
      "text/plain": [
       "([<PyTle: AKEBONO (EXOS-D)        >,\n",
       "  <PyTle: HST                     >,\n",
       "  <PyTle: POLAR                   >,\n",
       "  <PyTle: SWAS                    >,\n",
       "  <PyTle: ORSTED                  >,\n",
       "  <PyTle: CXO                     >,\n",
       "  <PyTle: XMM-NEWTON              >,\n",
       "  <PyTle: TERRA                   >,\n",
       "  <PyTle: CLUSTER II-FM7 (SAMBA)  >,\n",
       "  <PyTle: CLUSTER II-FM6 (SALSA)  >],\n",
       " 66)"
      ]
     },
     "execution_count": 4,
     "metadata": {},
     "output_type": "execute_result"
    }
   ],
   "source": [
    "my_tles[:10], len(my_tles)"
   ]
  },
  {
   "cell_type": "markdown",
   "metadata": {},
   "source": [
    "Alternatively, one could also fetch all active satellites from [Celestrack](http://celestrak.com):"
   ]
  },
  {
   "cell_type": "code",
   "execution_count": 5,
   "metadata": {},
   "outputs": [],
   "source": [
    "# import requests\n",
    "\n",
    "# ctrak_latest = requests.get('http://celestrak.com/NORAD/elements/active.txt')\n",
    "# active_tles = cysgp4.tles_from_text(ctrak_latest.text)"
   ]
  },
  {
   "cell_type": "markdown",
   "metadata": {},
   "source": [
    "To allow numpy broadcasting further below, we need to convert to an array:"
   ]
  },
  {
   "cell_type": "code",
   "execution_count": 6,
   "metadata": {},
   "outputs": [],
   "source": [
    "my_tles = np.array(my_tles)"
   ]
  },
  {
   "cell_type": "markdown",
   "metadata": {},
   "source": [
    "As the TLEs are quickly outdated (in which case, the orbit calculations would have large errorbars), we should base our visualization on a date and time, which is close to the epoch of the TLEs."
   ]
  },
  {
   "cell_type": "code",
   "execution_count": 7,
   "metadata": {},
   "outputs": [
    {
     "data": {
      "text/plain": [
       "(<PyDateTime: 2019-11-17 11:58:52.232160 UTC>, 58804.49921565)"
      ]
     },
     "execution_count": 7,
     "metadata": {},
     "output_type": "execute_result"
    }
   ],
   "source": [
    "epoch_dt = my_tles[0].epoch\n",
    "epoch_dt, epoch_dt.mjd"
   ]
  },
  {
   "cell_type": "markdown",
   "metadata": {},
   "source": [
    "We want to visualize the orbits for a short time frame of 10 minutes, in steps of 5 seconds (aka 120 frames)."
   ]
  },
  {
   "cell_type": "code",
   "execution_count": 8,
   "metadata": {},
   "outputs": [],
   "source": [
    "start_mjd = 58804.5\n",
    "td = np.arange(0, 600, 5) / 86400.  # 1 d in steps of 10 s\n",
    "mjds = start_mjd + td"
   ]
  },
  {
   "cell_type": "markdown",
   "metadata": {},
   "source": [
    "The final ingredient is one or more observer (for the topocentric coordinates), lets define two:"
   ]
  },
  {
   "cell_type": "code",
   "execution_count": 9,
   "metadata": {},
   "outputs": [],
   "source": [
    "# Effelsberg 100-m radio telescope\n",
    "effbg_observer = cysgp4.PyObserver(6.88375, 50.525, 0.366)\n",
    "# Parkes telescope (\"The Dish\")\n",
    "parkes_observer = cysgp4.PyObserver(148.25738, -32.9933, 414.8)\n",
    "observers = np.array([effbg_observer, parkes_observer])"
   ]
  },
  {
   "cell_type": "markdown",
   "metadata": {},
   "source": [
    "The `propagate_many` will apply numpy's [broadcasting rules](https://docs.scipy.org/doc/numpy/user/basics.broadcasting.html). As in this case all input parameters are arrays, we need to add (length-1) axes to each of them to make them \"compatible\". Here we choose to make `mjds` vary on the 3rd axis, `my_tles` on the 1st axis, and `observers` on the 2nd axis."
   ]
  },
  {
   "cell_type": "code",
   "execution_count": 10,
   "metadata": {},
   "outputs": [],
   "source": [
    "result = cysgp4.propagate_many(\n",
    "    mjds[np.newaxis, np.newaxis, :],\n",
    "    my_tles[:, np.newaxis, np.newaxis],\n",
    "    observers[np.newaxis, :, np.newaxis]\n",
    "    )"
   ]
  },
  {
   "cell_type": "markdown",
   "metadata": {},
   "source": [
    "``result`` is a Python dictionary, with the following entries:"
   ]
  },
  {
   "cell_type": "code",
   "execution_count": 11,
   "metadata": {},
   "outputs": [
    {
     "name": "stdout",
     "output_type": "stream",
     "text": [
      "['eci_pos', 'eci_vel', 'geo', 'topo']\n"
     ]
    }
   ],
   "source": [
    "print(list(result.keys()))"
   ]
  },
  {
   "cell_type": "markdown",
   "metadata": {},
   "source": [
    "Each entry is an array containing the coordinates of the frame (on the last axis). The broadcasted input arrays form the first axes of the output:"
   ]
  },
  {
   "cell_type": "code",
   "execution_count": 12,
   "metadata": {},
   "outputs": [
    {
     "data": {
      "text/plain": [
       "(120, 66, 2, (66, 2, 120, 3), (66, 2, 120, 4))"
      ]
     },
     "execution_count": 12,
     "metadata": {},
     "output_type": "execute_result"
    }
   ],
   "source": [
    "eci_pos = result['eci_pos']\n",
    "topo_pos = result['topo']\n",
    "len(mjds), len(my_tles), len(observers), eci_pos.shape, topo_pos.shape"
   ]
  },
  {
   "cell_type": "markdown",
   "metadata": {},
   "source": [
    "Unpacking this is a bit ugly, because the coordinate tuples are in the last axis. (Of course, one could also leave it in the array and use appropriate indexing.)"
   ]
  },
  {
   "cell_type": "code",
   "execution_count": 13,
   "metadata": {},
   "outputs": [],
   "source": [
    "eci_pos_x, eci_pos_y, eci_pos_z = (eci_pos[..., i] for i in range(3))\n",
    "topo_pos_az, topo_pos_el, topo_pos_dist, _ = (topo_pos[..., i] for i in range(4))\n",
    "topo_pos_az = (topo_pos_az + 180.) % 360. - 180."
   ]
  },
  {
   "cell_type": "markdown",
   "metadata": {},
   "source": [
    "Making a movie out of this is a relatively complicated thing, especially for 3D plots where one wants to clip satellites outside of the plot range (which is not the default unfortunately, unlike for 2D plots). Apart from that, we refer to [Jake Vanderplas' excellent blog post](https://jakevdp.github.io/blog/2012/08/18/matplotlib-animation-tutorial/) about `matplotlib` movie making."
   ]
  },
  {
   "cell_type": "code",
   "execution_count": 14,
   "metadata": {},
   "outputs": [],
   "source": [
    "# need a PyDateTime object for showing date/time strings\n",
    "my_time = cysgp4.PyDateTime()\n",
    "my_time.mjd = mjds[0]  # initialize with first mjd\n",
    "plim1, plim2 = 8000, 46000  # plot limits for the left and right panel\n",
    "\n",
    "# The figure size should make such that one gets a nice pixel canvas\n",
    "# that fits the standard movie sizes (at given dpi):\n",
    "#    854 x  480  (480p) --> figsize=(8.54, 4.8), dpi=100\n",
    "#   1280 x  720  (720p) --> figsize=(12.8, 7.2), dpi=100\n",
    "#   1920 x 1080 (1080p) --> figsize=(12.8, 7.2), dpi=150\n",
    "#   3840 x 2160    (4K) --> figsize=(12.8, 7.2), dpi=300\n",
    "# so basically, divide desired width and height with dpi\n",
    "# (beware, 4K videos get large and need a lot of RAM!)\n",
    "fig = plt.figure(figsize=(12.8, 7.2), dpi=100)\n",
    "ax1 = fig.add_subplot(121, projection='3d')  # 3D axes\n",
    "ax2 = fig.add_subplot(122, projection='3d')\n",
    "axes = [ax1, ax2]\n",
    "\n",
    "# setup axes\n",
    "for ax, plim in [(ax1, plim1), (ax2, plim2)]:\n",
    "    ax.view_init(azim=60, elev=30)\n",
    "    ax.set_xlim((-plim, plim))\n",
    "    ax.set_ylim((-plim, plim))\n",
    "    ax.set_zlim((-plim, plim))\n",
    "    # ax.set_aspect('equal')\n",
    "    ax.set_xlabel('x [km]')\n",
    "    ax.set_ylabel('y [km]')\n",
    "    ax.set_zlabel('z [km]')\n",
    "\n",
    "# we will clip based on the orbit radii\n",
    "rads = np.sqrt(eci_pos_x[:, 0, 0] ** 2 + eci_pos_y[:, 0, 0] ** 2 + eci_pos_z[:, 0, 0] ** 2)\n",
    "# need a copy for clipping in each subplot\n",
    "eci_pos1 = np.array([eci_pos_x, eci_pos_y, eci_pos_z]).copy()\n",
    "eci_pos2 = np.array([eci_pos_x, eci_pos_y, eci_pos_z]).copy()\n",
    "\n",
    "# setting unwanted (out of range) satellite coords to NaN would be\n",
    "# to easy - we need to throw them out of the list; and because this\n",
    "# would potentially alter the length of the arrays for each movie frame\n",
    "# (which matplotlib doesn't like), we have to compute the masks based\n",
    "# on all times and exclude all satellites, which are outside of the\n",
    "# radius for at least one time step... -.-\n",
    "m1 = (\n",
    "    np.all(np.abs(eci_pos1[0]) < plim1, axis=2) & \n",
    "    np.all(np.abs(eci_pos1[1]) < plim1, axis=2) & \n",
    "    np.all(np.abs(eci_pos1[2]) < plim1, axis=2)\n",
    "    )\n",
    "m2 = (\n",
    "    np.all(np.abs(eci_pos2[0]) < plim2, axis=2) & \n",
    "    np.all(np.abs(eci_pos2[1]) < plim2, axis=2) & \n",
    "    np.all(np.abs(eci_pos2[2]) < plim2, axis=2)\n",
    "    )\n",
    "eci_pos1 = eci_pos1[: ,m1].reshape(\n",
    "    (eci_pos1.shape[0], -1, eci_pos1.shape[2], eci_pos1.shape[3])\n",
    "    )\n",
    "\n",
    "eci_pos2 = eci_pos2[: ,m2].reshape(\n",
    "    (eci_pos2.shape[0], -1, eci_pos2.shape[2], eci_pos2.shape[3])\n",
    "    )\n",
    "rads1, rads2 = rads.copy(), rads.copy()\n",
    "rads1 = rads1[m1[:, 0]]\n",
    "rads2 = rads2[m2[:, 0]]\n",
    "\n",
    "# now we can make the scatter plots\n",
    "all_points = [\n",
    "    ax.scatter(\n",
    "        ep[0, :, 0, 0], ep[1, :, 0, 0], ep[2, :, 0, 0],\n",
    "        c=rds, s=1, vmin=6400, vmax=plim, marker='o'\n",
    "        )\n",
    "    for ax, plim, ep, rds in [(ax1, plim1, eci_pos1, rads1), (ax2, plim2, eci_pos2, rads2)]\n",
    "    ]\n",
    "all_titles = [\n",
    "    ax.set_title('{:%y/%m/%d %H:%M:%S}'.format(my_time.datetime), loc='center', fontsize=20)\n",
    "    for ax in axes\n",
    "    ]\n",
    "\n",
    "# for a tutorial on animation see\n",
    "# https://jakevdp.github.io/blog/2012/08/18/matplotlib-animation-tutorial/\n",
    "def animate(i):\n",
    "    all_points[0]._offsets3d = (\n",
    "        eci_pos1[0, :, 0, i], eci_pos1[1, :, 0, i], eci_pos1[2, :, 0, i]\n",
    "        )\n",
    "    all_points[1]._offsets3d = (\n",
    "        eci_pos2[0, :, 0, i], eci_pos2[1, :, 0, i], eci_pos2[2, :, 0, i]\n",
    "        )\n",
    "    for title in all_titles:\n",
    "        my_time.mjd = mjds[i]\n",
    "        title.set_text('{:%y/%m/%d %H:%M:%S}'.format(my_time.datetime))\n",
    "    return (*all_points, *all_titles)\n",
    "\n",
    "\n",
    "def init():\n",
    "    return animate(0)\n",
    "\n",
    "# call the animator. blit=True means only re-draw the parts that have changed.\n",
    "anim = animation.FuncAnimation(\n",
    "    fig, animate, init_func=init, frames=eci_pos_x.shape[2], interval=20, blit=True\n",
    "    )\n",
    "\n",
    "# this takes a while!\n",
    "plt.close(anim._fig)"
   ]
  },
  {
   "cell_type": "markdown",
   "metadata": {},
   "source": [
    "We can either show the movie inline:"
   ]
  },
  {
   "cell_type": "code",
   "execution_count": 15,
   "metadata": {},
   "outputs": [],
   "source": [
    "# anim"
   ]
  },
  {
   "cell_type": "markdown",
   "metadata": {},
   "source": [
    "Or store in a file:"
   ]
  },
  {
   "cell_type": "code",
   "execution_count": 16,
   "metadata": {},
   "outputs": [],
   "source": [
    "FFwriter = animation.FFMpegWriter(\n",
    "    fps=30, bitrate=8000,\n",
    "    extra_args=['-vcodec', 'libx264'],\n",
    "    )\n",
    "anim.save('science_satellites_eci_720p.mp4', writer=FFwriter)"
   ]
  },
  {
   "cell_type": "markdown",
   "metadata": {},
   "source": [
    "And then show it from the file:"
   ]
  },
  {
   "cell_type": "code",
   "execution_count": 17,
   "metadata": {},
   "outputs": [],
   "source": [
    "# from IPython.display import Video\n",
    "# Video('science_satellites_eci_720p.mp4')\n",
    "\n",
    "# not done here for the sake of keeping the file size\n",
    "# of the notebook under control"
   ]
  },
  {
   "cell_type": "markdown",
   "metadata": {},
   "source": [
    "Likewise, we can make a movie of the topocentric satellite positions at the two given observatories. Here we don't need to care about the figure limits (phew)."
   ]
  },
  {
   "cell_type": "code",
   "execution_count": 18,
   "metadata": {},
   "outputs": [],
   "source": [
    "my_time = cysgp4.PyDateTime()\n",
    "my_time.mjd = mjds[0]\n",
    "vmin, vmax = np.log10(100), np.log10(50000)\n",
    "\n",
    "fig = plt.figure(figsize=(12.8, 7.2), dpi=100)\n",
    "ax1 = fig.add_axes((0.1, 0.5, 0.8, 0.35))\n",
    "ax2 = fig.add_axes((0.1, 0.1, 0.8, 0.35))\n",
    "cax = fig.add_axes((0.91, 0.2, 0.02, 0.5))\n",
    "ax2.set_xlabel('Azimuth [deg]')\n",
    "ax1.set_ylabel('Elevation [deg]')\n",
    "for ax in [ax1, ax2]:\n",
    "    ax.set_xlim((-180, 180))\n",
    "    ax.set_ylim((0, 90))\n",
    "    ax.set_xticks(range(-150, 180, 30))\n",
    "    ax.set_yticks(range(0, 91, 30))\n",
    "    ax.set_aspect('equal')\n",
    "    ax.grid()\n",
    "\n",
    "points1 = ax1.scatter(\n",
    "    topo_pos_az[:, 1, 0], topo_pos_el[:, 1, 0],\n",
    "    c=np.log10(topo_pos_dist[:, 1, 0]),\n",
    "    cmap='viridis', vmin=vmin, vmax=vmax,\n",
    "    )\n",
    "points2 = ax2.scatter(\n",
    "    topo_pos_az[:, 0, 0], topo_pos_el[:, 0, 0],\n",
    "    c=np.log10(topo_pos_dist[:, 0, 0]),\n",
    "    cmap='viridis', vmin=vmin, vmax=vmax,\n",
    "    )\n",
    "cbar = fig.colorbar(points1, cax=cax)\n",
    "cbar.set_label('Distance (km)')\n",
    "cbar.set_ticks([2, 3, 4])\n",
    "cbar.set_ticklabels([100, 1000, 10000])\n",
    "\n",
    "ax1.text(-170, 75, 'Parkes 64-m', fontsize=16)\n",
    "ax2.text(-170, 75, 'Effelsberg 100-m', fontsize=16)\n",
    "title = ax1.text(\n",
    "    174, 75, '{:%y/%m/%d %H:%M:%S}'.format(my_time.datetime),\n",
    "    fontsize=15, ha='right'\n",
    "    )\n",
    "\n",
    "def init():\n",
    "    points1.set_offsets(np.column_stack([topo_pos_az[:, 1, 0], topo_pos_el[:, 1, 0]]))\n",
    "    points1.set_array(np.log10(topo_pos_dist[:, 1, 0]))\n",
    "    points2.set_offsets(np.column_stack([topo_pos_az[:, 0, 0], topo_pos_el[:, 0, 0]]))\n",
    "    points2.set_array(np.log10(topo_pos_dist[:, 0, 0]))\n",
    "    my_time.mjd = mjds[0]\n",
    "    title.set_text('{:%y/%m/%d %H:%M:%S}'.format(my_time.datetime))\n",
    "    return points1, points2, title\n",
    "\n",
    "def animate(i):\n",
    "    points1.set_offsets(np.column_stack([topo_pos_az[:, 1, i], topo_pos_el[:, 1, i]]))\n",
    "    points1.set_array(np.log10(topo_pos_dist[:, 1, i]))\n",
    "    points2.set_offsets(np.column_stack([topo_pos_az[:, 0, i], topo_pos_el[:, 0, i]]))\n",
    "    points2.set_array(np.log10(topo_pos_dist[:, 0, i]))\n",
    "    my_time.mjd = mjds[i]\n",
    "    title.set_text('{:%y/%m/%d %H:%M:%S}'.format(my_time.datetime))\n",
    "    return points1, points2, title\n",
    "\n",
    "anim = animation.FuncAnimation(\n",
    "    fig, animate, init_func=init, frames=topo_pos_az.shape[2], interval=20, blit=True\n",
    "    )\n",
    "\n",
    "# this takes a while!\n",
    "plt.close(anim._fig)"
   ]
  },
  {
   "cell_type": "code",
   "execution_count": 19,
   "metadata": {},
   "outputs": [],
   "source": [
    "# anim"
   ]
  },
  {
   "cell_type": "code",
   "execution_count": 20,
   "metadata": {},
   "outputs": [],
   "source": [
    "FFwriter = animation.FFMpegWriter(\n",
    "    fps=30, bitrate=8000,\n",
    "    extra_args=['-vcodec', 'libx264'],\n",
    "    )\n",
    "anim.save('science_satellites_horizon_720p.mp4', writer=FFwriter)"
   ]
  },
  {
   "cell_type": "code",
   "execution_count": null,
   "metadata": {},
   "outputs": [],
   "source": []
  }
 ],
 "metadata": {
  "kernelspec": {
   "display_name": "Python 3",
   "language": "python",
   "name": "python3"
  },
  "language_info": {
   "codemirror_mode": {
    "name": "ipython",
    "version": 3
   },
   "file_extension": ".py",
   "mimetype": "text/x-python",
   "name": "python",
   "nbconvert_exporter": "python",
   "pygments_lexer": "ipython3",
   "version": "3.6.7"
  }
 },
 "nbformat": 4,
 "nbformat_minor": 2
}
