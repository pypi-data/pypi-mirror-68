{
 "cells": [
  {
   "cell_type": "code",
   "execution_count": 4,
   "metadata": {},
   "outputs": [
    {
     "name": "stdout",
     "output_type": "stream",
     "text": [
      "Done\n"
     ]
    }
   ],
   "source": [
    "# importing and ESO login\n",
    "from starsearch.phase3Archive import ESOquery\n",
    "print('Done')"
   ]
  },
  {
   "cell_type": "code",
   "execution_count": 5,
   "metadata": {},
   "outputs": [
    {
     "name": "stdout",
     "output_type": "stream",
     "text": [
      "INFO: Authenticating jdcamacho on www.eso.org... [starsearch.core]\n",
      "INFO: Authentication successful! [starsearch.core]\n",
      "Done\n"
     ]
    }
   ],
   "source": [
    "# login to ESO account\n",
    "query = ESOquery('jdcamacho')\n",
    "print('Done')"
   ]
  },
  {
   "cell_type": "code",
   "execution_count": 6,
   "metadata": {},
   "outputs": [
    {
     "data": {
      "text/plain": [
       "{'CRIRES': 23,\n",
       " 'EFOSC': 149,\n",
       " 'FEROS': 4,\n",
       " 'FORS2': 1014,\n",
       " 'HARPS': 181,\n",
       " 'ISAAC': 34,\n",
       " 'KMOS': 13,\n",
       " 'NAOS+CONICA': 26,\n",
       " 'SOFI': 45,\n",
       " 'TIMMI2': 387,\n",
       " 'UVES': 94,\n",
       " 'VISIR': 23,\n",
       " 'XSHOOTER': 23}"
      ]
     },
     "execution_count": 6,
     "metadata": {},
     "output_type": "execute_result"
    }
   ],
   "source": [
    "# Checks which instruments observed the given star and how many observations it made\n",
    "query.searchInstruments('CoRoT-7')"
   ]
  },
  {
   "cell_type": "code",
   "execution_count": 8,
   "metadata": {},
   "outputs": [
    {
     "data": {
      "text/plain": [
       "{'ESPRESSO': 0}"
      ]
     },
     "execution_count": 8,
     "metadata": {},
     "output_type": "execute_result"
    }
   ],
   "source": [
    "# Checks THE PUBLIC SPECTRA for a given instrument\n",
    "query.searchInstrumentSpectra('CoRoT-7', instrument='ESPRESSO')"
   ]
  },
  {
   "cell_type": "code",
   "execution_count": 9,
   "metadata": {},
   "outputs": [
    {
     "data": {
      "text/plain": [
       "{'HARPS': 181}"
      ]
     },
     "execution_count": 9,
     "metadata": {},
     "output_type": "execute_result"
    }
   ],
   "source": [
    "# Checks THE PUBLIC SPECTRA for a given instrument\n",
    "query.searchInstrumentSpectra('CoRoT-7', instrument='HARPS')"
   ]
  },
  {
   "cell_type": "code",
   "execution_count": 10,
   "metadata": {},
   "outputs": [
    {
     "name": "stdout",
     "output_type": "stream",
     "text": [
      "*** SUMMARY of CoRoT-7 ***\n",
      "Total number of spectra found: 185\n",
      "\n",
      "FEROS spectra: 4 | SNR Quadradratic Sum: 118.40891013770882\n",
      "Maximum SNR: 60.7\n",
      "Minimum SNR: 56.0\n",
      "\n",
      "HARPS spectra: 181 | SNR Quadradratic Sum: 490.88167617054114\n",
      "Maximum SNR: 51.3\n",
      "Minimum SNR: 11.4\n"
     ]
    }
   ],
   "source": [
    "# Returns a summary of the spectra that matters to us! available of a given star\n",
    "query.summaryStar('CoRoT-7')"
   ]
  },
  {
   "cell_type": "code",
   "execution_count": 12,
   "metadata": {},
   "outputs": [
    {
     "name": "stdout",
     "output_type": "stream",
     "text": [
      "\n",
      "*** Searching for FEROS results ***\n",
      "\n",
      "INFO: Detecting already downloaded datasets... [starsearch.core]\n",
      "INFO: Checking availability of datasets to download... [starsearch.core]\n",
      "INFO: Downloading datasets... [starsearch.core]\n",
      "INFO: Contacting retrieval server... [starsearch.core]\n",
      "INFO: Staging request... [starsearch.core]\n",
      "INFO: Staging form is at https://dataportal.eso.org/rh/requests/jdcamacho/553950 [starsearch.core]\n",
      "INFO: Downloading 4 files... [starsearch.core]\n",
      "INFO: Downloading file 1/4: ADP.2016-09-26T07:15:34.541.fits... [starsearch.core]\n",
      "Downloading URL http://dataportal.eso.org/dataPortal/requests/jdcamacho/553950/SAF/ADP.2016-09-26T07:15:34.541/ADP.2016-09-26T07:15:34.541.fits to /home/camacho/.astropy/cache/astroquery/Eso/ADP.2016-09-26T07:15:34.541.fits ... [Done]\n",
      "INFO: Copying file ADP.2016-09-26T07:15:34.541.fits to /home/camacho/... [starsearch.core]\n",
      "INFO: Downloading file 2/4: ADP.2016-09-26T07:15:34.547.fits... [starsearch.core]\n",
      "Downloading URL http://dataportal.eso.org/dataPortal/requests/jdcamacho/553950/SAF/ADP.2016-09-26T07:15:34.547/ADP.2016-09-26T07:15:34.547.fits to /home/camacho/.astropy/cache/astroquery/Eso/ADP.2016-09-26T07:15:34.547.fits ... [Done]\n",
      "INFO: Copying file ADP.2016-09-26T07:15:34.547.fits to /home/camacho/... [starsearch.core]\n",
      "INFO: Downloading file 3/4: ADP.2016-09-26T07:15:34.551.fits... [starsearch.core]\n",
      "Downloading URL http://dataportal.eso.org/dataPortal/requests/jdcamacho/553950/SAF/ADP.2016-09-26T07:15:34.551/ADP.2016-09-26T07:15:34.551.fits to /home/camacho/.astropy/cache/astroquery/Eso/ADP.2016-09-26T07:15:34.551.fits ... [Done]\n",
      "INFO: Copying file ADP.2016-09-26T07:15:34.551.fits to /home/camacho/... [starsearch.core]\n",
      "INFO: Downloading file 4/4: ADP.2016-09-26T07:15:34.557.fits... [starsearch.core]\n",
      "Downloading URL http://dataportal.eso.org/dataPortal/requests/jdcamacho/553950/SAF/ADP.2016-09-26T07:15:34.557/ADP.2016-09-26T07:15:34.557.fits to /home/camacho/.astropy/cache/astroquery/Eso/ADP.2016-09-26T07:15:34.557.fits ... [Done]\n",
      "INFO: Copying file ADP.2016-09-26T07:15:34.557.fits to /home/camacho/... [starsearch.core]\n",
      "INFO: Done! [starsearch.core]\n",
      "\n",
      "*** Done ***\n",
      "\n"
     ]
    }
   ],
   "source": [
    "# Lets download data\n",
    "query.getFEROSdata('CoRoT-7', downloadPath='/home/camacho/')"
   ]
  },
  {
   "cell_type": "code",
   "execution_count": 13,
   "metadata": {},
   "outputs": [
    {
     "name": "stdout",
     "output_type": "stream",
     "text": [
      "\n",
      "*** Searching for ESPRESSO results ***\n",
      "\n",
      "No ESPRESSO data\n",
      "\n",
      "\n",
      "*** Done ***\n",
      "\n"
     ]
    }
   ],
   "source": [
    "#to look for ESPRESSO only\n",
    "query.getESPRESSOdata('CoRoT-7', downloadPath='/home/camacho/')"
   ]
  },
  {
   "cell_type": "code",
   "execution_count": 16,
   "metadata": {},
   "outputs": [
    {
     "name": "stdout",
     "output_type": "stream",
     "text": [
      "*************\n",
      "* CoRoT-6\n",
      "*************\n",
      "\n",
      "*** Searching for FEROS results ***\n",
      "\n",
      "No FEROS data\n",
      "\n",
      "\n",
      "*** Searching for HARPS results ***\n",
      "\n",
      "INFO: Detecting already downloaded datasets... [starsearch.core]\n",
      "INFO: Checking availability of datasets to download... [starsearch.core]\n",
      "INFO: Downloading datasets... [starsearch.core]\n",
      "INFO: Contacting retrieval server... [starsearch.core]\n",
      "INFO: Staging request... [starsearch.core]\n",
      "INFO: Staging form is at https://dataportal.eso.org/rh/requests/jdcamacho/553951 [starsearch.core]\n",
      "INFO: Downloading 14 files... [starsearch.core]\n",
      "INFO: Downloading file 1/14: ADP.2014-09-24T09:41:08.487.fits... [starsearch.core]\n",
      "Downloading URL http://dataportal.eso.org/dataPortal/requests/jdcamacho/553951/SAF/ADP.2014-09-24T09:41:08.487/ADP.2014-09-24T09:41:08.487.fits to /home/camacho/.astropy/cache/astroquery/Eso/ADP.2014-09-24T09:41:08.487.fits ... [Done]\n",
      "INFO: Copying file ADP.2014-09-24T09:41:08.487.fits to /home/camacho//CoRoT-6... [starsearch.core]\n",
      "INFO: Downloading file 2/14: ADP.2014-09-24T09:41:16.170.fits... [starsearch.core]\n",
      "Downloading URL http://dataportal.eso.org/dataPortal/requests/jdcamacho/553951/SAF/ADP.2014-09-24T09:41:16.170/ADP.2014-09-24T09:41:16.170.fits to /home/camacho/.astropy/cache/astroquery/Eso/ADP.2014-09-24T09:41:16.170.fits ... [Done]\n",
      "INFO: Copying file ADP.2014-09-24T09:41:16.170.fits to /home/camacho//CoRoT-6... [starsearch.core]\n",
      "INFO: Downloading file 3/14: ADP.2014-09-24T09:41:16.710.fits... [starsearch.core]\n",
      "Downloading URL http://dataportal.eso.org/dataPortal/requests/jdcamacho/553951/SAF/ADP.2014-09-24T09:41:16.710/ADP.2014-09-24T09:41:16.710.fits to /home/camacho/.astropy/cache/astroquery/Eso/ADP.2014-09-24T09:41:16.710.fits ... [Done]\n",
      "INFO: Copying file ADP.2014-09-24T09:41:16.710.fits to /home/camacho//CoRoT-6... [starsearch.core]\n",
      "INFO: Downloading file 4/14: ADP.2014-09-24T09:41:42.673.fits... [starsearch.core]\n",
      "Downloading URL http://dataportal.eso.org/dataPortal/requests/jdcamacho/553951/SAF/ADP.2014-09-24T09:41:42.673/ADP.2014-09-24T09:41:42.673.fits to /home/camacho/.astropy/cache/astroquery/Eso/ADP.2014-09-24T09:41:42.673.fits ... [Done]\n",
      "INFO: Copying file ADP.2014-09-24T09:41:42.673.fits to /home/camacho//CoRoT-6... [starsearch.core]\n",
      "INFO: Downloading file 5/14: ADP.2014-09-24T09:41:46.720.fits... [starsearch.core]\n",
      "Downloading URL http://dataportal.eso.org/dataPortal/requests/jdcamacho/553951/SAF/ADP.2014-09-24T09:41:46.720/ADP.2014-09-24T09:41:46.720.fits to /home/camacho/.astropy/cache/astroquery/Eso/ADP.2014-09-24T09:41:46.720.fits ... [Done]\n",
      "INFO: Copying file ADP.2014-09-24T09:41:46.720.fits to /home/camacho//CoRoT-6... [starsearch.core]\n",
      "INFO: Downloading file 6/14: ADP.2014-09-24T09:41:47.080.fits... [starsearch.core]\n",
      "Downloading URL http://dataportal.eso.org/dataPortal/requests/jdcamacho/553951/SAF/ADP.2014-09-24T09:41:47.080/ADP.2014-09-24T09:41:47.080.fits to /home/camacho/.astropy/cache/astroquery/Eso/ADP.2014-09-24T09:41:47.080.fits ... [Done]\n",
      "INFO: Copying file ADP.2014-09-24T09:41:47.080.fits to /home/camacho//CoRoT-6... [starsearch.core]\n",
      "INFO: Downloading file 7/14: ADP.2014-09-24T09:42:05.507.fits... [starsearch.core]\n",
      "Downloading URL http://dataportal.eso.org/dataPortal/requests/jdcamacho/553951/SAF/ADP.2014-09-24T09:42:05.507/ADP.2014-09-24T09:42:05.507.fits to /home/camacho/.astropy/cache/astroquery/Eso/ADP.2014-09-24T09:42:05.507.fits ... [Done]\n",
      "INFO: Copying file ADP.2014-09-24T09:42:05.507.fits to /home/camacho//CoRoT-6... [starsearch.core]\n",
      "INFO: Downloading file 8/14: ADP.2014-09-24T09:42:07.280.fits... [starsearch.core]\n",
      "Downloading URL http://dataportal.eso.org/dataPortal/requests/jdcamacho/553951/SAF/ADP.2014-09-24T09:42:07.280/ADP.2014-09-24T09:42:07.280.fits to /home/camacho/.astropy/cache/astroquery/Eso/ADP.2014-09-24T09:42:07.280.fits ... [Done]\n",
      "INFO: Copying file ADP.2014-09-24T09:42:07.280.fits to /home/camacho//CoRoT-6... [starsearch.core]\n",
      "INFO: Downloading file 9/14: ADP.2014-09-24T09:42:58.547.fits... [starsearch.core]\n",
      "Downloading URL http://dataportal.eso.org/dataPortal/requests/jdcamacho/553951/SAF/ADP.2014-09-24T09:42:58.547/ADP.2014-09-24T09:42:58.547.fits to /home/camacho/.astropy/cache/astroquery/Eso/ADP.2014-09-24T09:42:58.547.fits ... [Done]\n",
      "INFO: Copying file ADP.2014-09-24T09:42:58.547.fits to /home/camacho//CoRoT-6... [starsearch.core]\n",
      "INFO: Downloading file 10/14: ADP.2014-09-24T09:43:01.580.fits... [starsearch.core]\n",
      "Downloading URL http://dataportal.eso.org/dataPortal/requests/jdcamacho/553951/SAF/ADP.2014-09-24T09:43:01.580/ADP.2014-09-24T09:43:01.580.fits to /home/camacho/.astropy/cache/astroquery/Eso/ADP.2014-09-24T09:43:01.580.fits ... [Done]\n",
      "INFO: Copying file ADP.2014-09-24T09:43:01.580.fits to /home/camacho//CoRoT-6... [starsearch.core]\n",
      "INFO: Downloading file 11/14: ADP.2014-09-24T09:43:15.670.fits... [starsearch.core]\n",
      "Downloading URL http://dataportal.eso.org/dataPortal/requests/jdcamacho/553951/SAF/ADP.2014-09-24T09:43:15.670/ADP.2014-09-24T09:43:15.670.fits to /home/camacho/.astropy/cache/astroquery/Eso/ADP.2014-09-24T09:43:15.670.fits ... [Done]\n",
      "INFO: Copying file ADP.2014-09-24T09:43:15.670.fits to /home/camacho//CoRoT-6... [starsearch.core]\n",
      "INFO: Downloading file 12/14: ADP.2014-09-24T09:43:38.050.fits... [starsearch.core]\n",
      "Downloading URL http://dataportal.eso.org/dataPortal/requests/jdcamacho/553951/SAF/ADP.2014-09-24T09:43:38.050/ADP.2014-09-24T09:43:38.050.fits to /home/camacho/.astropy/cache/astroquery/Eso/ADP.2014-09-24T09:43:38.050.fits ... [Done]\n",
      "INFO: Copying file ADP.2014-09-24T09:43:38.050.fits to /home/camacho//CoRoT-6... [starsearch.core]\n",
      "INFO: Downloading file 13/14: ADP.2014-09-24T09:43:51.097.fits... [starsearch.core]\n",
      "Downloading URL http://dataportal.eso.org/dataPortal/requests/jdcamacho/553951/SAF/ADP.2014-09-24T09:43:51.097/ADP.2014-09-24T09:43:51.097.fits to /home/camacho/.astropy/cache/astroquery/Eso/ADP.2014-09-24T09:43:51.097.fits ... [Done]\n",
      "INFO: Copying file ADP.2014-09-24T09:43:51.097.fits to /home/camacho//CoRoT-6... [starsearch.core]\n",
      "INFO: Downloading file 14/14: ADP.2014-09-24T09:44:42.297.fits... [starsearch.core]\n",
      "Downloading URL http://dataportal.eso.org/dataPortal/requests/jdcamacho/553951/SAF/ADP.2014-09-24T09:44:42.297/ADP.2014-09-24T09:44:42.297.fits to /home/camacho/.astropy/cache/astroquery/Eso/ADP.2014-09-24T09:44:42.297.fits ... [Done]\n",
      "INFO: Copying file ADP.2014-09-24T09:44:42.297.fits to /home/camacho//CoRoT-6... [starsearch.core]\n",
      "INFO: Done! [starsearch.core]\n",
      "\n",
      "*** Searching for ESPRESSO results ***\n",
      "\n",
      "No ESPRESSO data\n",
      "\n",
      "\n",
      "*** Done ***\n",
      "\n",
      "*************\n",
      "* CoRoT-7\n",
      "*************\n",
      "\n",
      "*** Searching for FEROS results ***\n",
      "\n",
      "INFO: Detecting already downloaded datasets... [starsearch.core]\n",
      "INFO: Checking availability of datasets to download... [starsearch.core]\n",
      "INFO: Downloading datasets... [starsearch.core]\n",
      "INFO: Contacting retrieval server... [starsearch.core]\n",
      "INFO: Staging request... [starsearch.core]\n",
      "INFO: Staging form is at https://dataportal.eso.org/rh/requests/jdcamacho/553952 [starsearch.core]\n",
      "INFO: Downloading 4 files... [starsearch.core]\n",
      "INFO: Downloading file 1/4: ADP.2016-09-26T07:15:34.541.fits... [starsearch.core]\n",
      "Downloading URL http://dataportal.eso.org/dataPortal/requests/jdcamacho/553952/SAF/ADP.2016-09-26T07:15:34.541/ADP.2016-09-26T07:15:34.541.fits to /home/camacho/.astropy/cache/astroquery/Eso/ADP.2016-09-26T07:15:34.541.fits ... [Done]\n",
      "INFO: Copying file ADP.2016-09-26T07:15:34.541.fits to /home/camacho//CoRoT-7... [starsearch.core]\n",
      "INFO: Downloading file 2/4: ADP.2016-09-26T07:15:34.547.fits... [starsearch.core]\n",
      "Downloading URL http://dataportal.eso.org/dataPortal/requests/jdcamacho/553952/SAF/ADP.2016-09-26T07:15:34.547/ADP.2016-09-26T07:15:34.547.fits to /home/camacho/.astropy/cache/astroquery/Eso/ADP.2016-09-26T07:15:34.547.fits ... [Done]\n",
      "INFO: Copying file ADP.2016-09-26T07:15:34.547.fits to /home/camacho//CoRoT-7... [starsearch.core]\n",
      "INFO: Downloading file 3/4: ADP.2016-09-26T07:15:34.551.fits... [starsearch.core]\n",
      "Downloading URL http://dataportal.eso.org/dataPortal/requests/jdcamacho/553952/SAF/ADP.2016-09-26T07:15:34.551/ADP.2016-09-26T07:15:34.551.fits to /home/camacho/.astropy/cache/astroquery/Eso/ADP.2016-09-26T07:15:34.551.fits ... [Done]\n",
      "INFO: Copying file ADP.2016-09-26T07:15:34.551.fits to /home/camacho//CoRoT-7... [starsearch.core]\n",
      "INFO: Downloading file 4/4: ADP.2016-09-26T07:15:34.557.fits... [starsearch.core]\n"
     ]
    },
    {
     "name": "stdout",
     "output_type": "stream",
     "text": [
      "Downloading URL http://dataportal.eso.org/dataPortal/requests/jdcamacho/553952/SAF/ADP.2016-09-26T07:15:34.557/ADP.2016-09-26T07:15:34.557.fits to /home/camacho/.astropy/cache/astroquery/Eso/ADP.2016-09-26T07:15:34.557.fits ... [Done]\n",
      "INFO: Copying file ADP.2016-09-26T07:15:34.557.fits to /home/camacho//CoRoT-7... [starsearch.core]\n",
      "INFO: Done! [starsearch.core]\n",
      "\n",
      "*** Searching for HARPS results ***\n",
      "\n",
      "INFO: Detecting already downloaded datasets... [starsearch.core]\n",
      "INFO: Checking availability of datasets to download... [starsearch.core]\n",
      "Star not found in ESO archive!\n",
      "\n",
      "*************\n",
      "* CoRoT-8\n",
      "*************\n",
      "\n",
      "*** Searching for FEROS results ***\n",
      "\n",
      "No FEROS data\n",
      "\n",
      "\n",
      "*** Searching for HARPS results ***\n",
      "\n",
      "INFO: Detecting already downloaded datasets... [starsearch.core]\n",
      "INFO: Checking availability of datasets to download... [starsearch.core]\n",
      "INFO: Downloading datasets... [starsearch.core]\n",
      "INFO: Contacting retrieval server... [starsearch.core]\n",
      "INFO: Staging request... [starsearch.core]\n",
      "INFO: Staging form is at https://dataportal.eso.org/rh/requests/jdcamacho/553953 [starsearch.core]\n",
      "INFO: Downloading 19 files... [starsearch.core]\n",
      "INFO: Downloading file 1/19: ADP.2014-09-18T12:10:43.350.fits... [starsearch.core]\n",
      "Downloading URL http://dataportal.eso.org/dataPortal/requests/jdcamacho/553953/SAF/ADP.2014-09-18T12:10:43.350/ADP.2014-09-18T12:10:43.350.fits to /home/camacho/.astropy/cache/astroquery/Eso/ADP.2014-09-18T12:10:43.350.fits ... [Done]\n",
      "INFO: Copying file ADP.2014-09-18T12:10:43.350.fits to /home/camacho//CoRoT-8... [starsearch.core]\n",
      "INFO: Downloading file 2/19: ADP.2014-09-18T12:10:59.800.fits... [starsearch.core]\n",
      "Downloading URL http://dataportal.eso.org/dataPortal/requests/jdcamacho/553953/SAF/ADP.2014-09-18T12:10:59.800/ADP.2014-09-18T12:10:59.800.fits to /home/camacho/.astropy/cache/astroquery/Eso/ADP.2014-09-18T12:10:59.800.fits ... [Done]\n",
      "INFO: Copying file ADP.2014-09-18T12:10:59.800.fits to /home/camacho//CoRoT-8... [starsearch.core]\n",
      "INFO: Downloading file 3/19: ADP.2014-09-18T12:11:20.780.fits... [starsearch.core]\n",
      "Downloading URL http://dataportal.eso.org/dataPortal/requests/jdcamacho/553953/SAF/ADP.2014-09-18T12:11:20.780/ADP.2014-09-18T12:11:20.780.fits to /home/camacho/.astropy/cache/astroquery/Eso/ADP.2014-09-18T12:11:20.780.fits ... [Done]\n",
      "INFO: Copying file ADP.2014-09-18T12:11:20.780.fits to /home/camacho//CoRoT-8... [starsearch.core]\n",
      "INFO: Downloading file 4/19: ADP.2014-09-18T12:11:32.930.fits... [starsearch.core]\n",
      "Downloading URL http://dataportal.eso.org/dataPortal/requests/jdcamacho/553953/SAF/ADP.2014-09-18T12:11:32.930/ADP.2014-09-18T12:11:32.930.fits to /home/camacho/.astropy/cache/astroquery/Eso/ADP.2014-09-18T12:11:32.930.fits ... [Done]\n",
      "INFO: Copying file ADP.2014-09-18T12:11:32.930.fits to /home/camacho//CoRoT-8... [starsearch.core]\n",
      "INFO: Downloading file 5/19: ADP.2014-09-18T12:12:01.847.fits... [starsearch.core]\n",
      "Downloading URL http://dataportal.eso.org/dataPortal/requests/jdcamacho/553953/SAF/ADP.2014-09-18T12:12:01.847/ADP.2014-09-18T12:12:01.847.fits to /home/camacho/.astropy/cache/astroquery/Eso/ADP.2014-09-18T12:12:01.847.fits ... [Done]\n",
      "INFO: Copying file ADP.2014-09-18T12:12:01.847.fits to /home/camacho//CoRoT-8... [starsearch.core]\n",
      "INFO: Downloading file 6/19: ADP.2014-09-18T12:13:44.810.fits... [starsearch.core]\n",
      "Downloading URL http://dataportal.eso.org/dataPortal/requests/jdcamacho/553953/SAF/ADP.2014-09-18T12:13:44.810/ADP.2014-09-18T12:13:44.810.fits to /home/camacho/.astropy/cache/astroquery/Eso/ADP.2014-09-18T12:13:44.810.fits ... [Done]\n",
      "INFO: Copying file ADP.2014-09-18T12:13:44.810.fits to /home/camacho//CoRoT-8... [starsearch.core]\n",
      "INFO: Downloading file 7/19: ADP.2014-09-18T12:14:24.390.fits... [starsearch.core]\n",
      "Downloading URL http://dataportal.eso.org/dataPortal/requests/jdcamacho/553953/SAF/ADP.2014-09-18T12:14:24.390/ADP.2014-09-18T12:14:24.390.fits to /home/camacho/.astropy/cache/astroquery/Eso/ADP.2014-09-18T12:14:24.390.fits ... [Done]\n",
      "INFO: Copying file ADP.2014-09-18T12:14:24.390.fits to /home/camacho//CoRoT-8... [starsearch.core]\n",
      "INFO: Downloading file 8/19: ADP.2014-09-18T12:15:39.280.fits... [starsearch.core]\n",
      "Downloading URL http://dataportal.eso.org/dataPortal/requests/jdcamacho/553953/SAF/ADP.2014-09-18T12:15:39.280/ADP.2014-09-18T12:15:39.280.fits to /home/camacho/.astropy/cache/astroquery/Eso/ADP.2014-09-18T12:15:39.280.fits ... [Done]\n",
      "INFO: Copying file ADP.2014-09-18T12:15:39.280.fits to /home/camacho//CoRoT-8... [starsearch.core]\n",
      "INFO: Downloading file 9/19: ADP.2014-09-18T12:16:48.150.fits... [starsearch.core]\n",
      "Downloading URL http://dataportal.eso.org/dataPortal/requests/jdcamacho/553953/SAF/ADP.2014-09-18T12:16:48.150/ADP.2014-09-18T12:16:48.150.fits to /home/camacho/.astropy/cache/astroquery/Eso/ADP.2014-09-18T12:16:48.150.fits ... [Done]\n",
      "INFO: Copying file ADP.2014-09-18T12:16:48.150.fits to /home/camacho//CoRoT-8... [starsearch.core]\n",
      "INFO: Downloading file 10/19: ADP.2014-09-23T11:00:51.030.fits... [starsearch.core]\n",
      "Downloading URL http://dataportal.eso.org/dataPortal/requests/jdcamacho/553953/SAF/ADP.2014-09-23T11:00:51.030/ADP.2014-09-23T11:00:51.030.fits to /home/camacho/.astropy/cache/astroquery/Eso/ADP.2014-09-23T11:00:51.030.fits ... [Done]\n",
      "INFO: Copying file ADP.2014-09-23T11:00:51.030.fits to /home/camacho//CoRoT-8... [starsearch.core]\n",
      "INFO: Downloading file 11/19: ADP.2014-09-23T11:02:20.610.fits... [starsearch.core]\n",
      "Downloading URL http://dataportal.eso.org/dataPortal/requests/jdcamacho/553953/SAF/ADP.2014-09-23T11:02:20.610/ADP.2014-09-23T11:02:20.610.fits to /home/camacho/.astropy/cache/astroquery/Eso/ADP.2014-09-23T11:02:20.610.fits ... [Done]\n",
      "INFO: Copying file ADP.2014-09-23T11:02:20.610.fits to /home/camacho//CoRoT-8... [starsearch.core]\n",
      "INFO: Downloading file 12/19: ADP.2014-09-23T11:02:29.827.fits... [starsearch.core]\n",
      "Downloading URL http://dataportal.eso.org/dataPortal/requests/jdcamacho/553953/SAF/ADP.2014-09-23T11:02:29.827/ADP.2014-09-23T11:02:29.827.fits to /home/camacho/.astropy/cache/astroquery/Eso/ADP.2014-09-23T11:02:29.827.fits ... [Done]\n",
      "INFO: Copying file ADP.2014-09-23T11:02:29.827.fits to /home/camacho//CoRoT-8... [starsearch.core]\n",
      "INFO: Downloading file 13/19: ADP.2014-09-23T11:02:42.273.fits... [starsearch.core]\n",
      "Downloading URL http://dataportal.eso.org/dataPortal/requests/jdcamacho/553953/SAF/ADP.2014-09-23T11:02:42.273/ADP.2014-09-23T11:02:42.273.fits to /home/camacho/.astropy/cache/astroquery/Eso/ADP.2014-09-23T11:02:42.273.fits ... [Done]\n",
      "INFO: Copying file ADP.2014-09-23T11:02:42.273.fits to /home/camacho//CoRoT-8... [starsearch.core]\n",
      "INFO: Downloading file 14/19: ADP.2014-09-23T11:03:40.563.fits... [starsearch.core]\n",
      "Downloading URL http://dataportal.eso.org/dataPortal/requests/jdcamacho/553953/SAF/ADP.2014-09-23T11:03:40.563/ADP.2014-09-23T11:03:40.563.fits to /home/camacho/.astropy/cache/astroquery/Eso/ADP.2014-09-23T11:03:40.563.fits ... [Done]\n",
      "INFO: Copying file ADP.2014-09-23T11:03:40.563.fits to /home/camacho//CoRoT-8... [starsearch.core]\n",
      "INFO: Downloading file 15/19: ADP.2014-09-23T11:04:38.470.fits... [starsearch.core]\n",
      "Downloading URL http://dataportal.eso.org/dataPortal/requests/jdcamacho/553953/SAF/ADP.2014-09-23T11:04:38.470/ADP.2014-09-23T11:04:38.470.fits to /home/camacho/.astropy/cache/astroquery/Eso/ADP.2014-09-23T11:04:38.470.fits ... [Done]\n",
      "INFO: Copying file ADP.2014-09-23T11:04:38.470.fits to /home/camacho//CoRoT-8... [starsearch.core]\n",
      "INFO: Downloading file 16/19: ADP.2014-09-23T11:04:46.657.fits... [starsearch.core]\n",
      "Downloading URL http://dataportal.eso.org/dataPortal/requests/jdcamacho/553953/SAF/ADP.2014-09-23T11:04:46.657/ADP.2014-09-23T11:04:46.657.fits to /home/camacho/.astropy/cache/astroquery/Eso/ADP.2014-09-23T11:04:46.657.fits ... [Done]\n",
      "INFO: Copying file ADP.2014-09-23T11:04:46.657.fits to /home/camacho//CoRoT-8... [starsearch.core]\n",
      "INFO: Downloading file 17/19: ADP.2014-09-23T11:05:06.093.fits... [starsearch.core]\n",
      "Downloading URL http://dataportal.eso.org/dataPortal/requests/jdcamacho/553953/SAF/ADP.2014-09-23T11:05:06.093/ADP.2014-09-23T11:05:06.093.fits to /home/camacho/.astropy/cache/astroquery/Eso/ADP.2014-09-23T11:05:06.093.fits ... [Done]\n",
      "INFO: Copying file ADP.2014-09-23T11:05:06.093.fits to /home/camacho//CoRoT-8... [starsearch.core]\n",
      "INFO: Downloading file 18/19: ADP.2014-09-23T11:05:42.003.fits... [starsearch.core]\n"
     ]
    },
    {
     "name": "stdout",
     "output_type": "stream",
     "text": [
      "Downloading URL http://dataportal.eso.org/dataPortal/requests/jdcamacho/553953/SAF/ADP.2014-09-23T11:05:42.003/ADP.2014-09-23T11:05:42.003.fits to /home/camacho/.astropy/cache/astroquery/Eso/ADP.2014-09-23T11:05:42.003.fits ... [Done]\n",
      "INFO: Copying file ADP.2014-09-23T11:05:42.003.fits to /home/camacho//CoRoT-8... [starsearch.core]\n",
      "INFO: Downloading file 19/19: ADP.2014-09-23T11:05:46.983.fits... [starsearch.core]\n",
      "Downloading URL http://dataportal.eso.org/dataPortal/requests/jdcamacho/553953/SAF/ADP.2014-09-23T11:05:46.983/ADP.2014-09-23T11:05:46.983.fits to /home/camacho/.astropy/cache/astroquery/Eso/ADP.2014-09-23T11:05:46.983.fits ... [Done]\n",
      "INFO: Copying file ADP.2014-09-23T11:05:46.983.fits to /home/camacho//CoRoT-8... [starsearch.core]\n",
      "INFO: Done! [starsearch.core]\n",
      "\n",
      "*** Searching for ESPRESSO results ***\n",
      "\n",
      "No ESPRESSO data\n",
      "\n",
      "\n",
      "*** Done ***\n",
      "\n"
     ]
    }
   ],
   "source": [
    "#download spectra from a specific file\n",
    "query.getFILEdata('file_stars.txt', header=0, downloadPath='/home/camacho/')"
   ]
  },
  {
   "cell_type": "code",
   "execution_count": 17,
   "metadata": {},
   "outputs": [],
   "source": [
    "####\n",
    "#   Now for more SWEET-cat specific stuff   #\n",
    "                                         ####"
   ]
  },
  {
   "cell_type": "code",
   "execution_count": 20,
   "metadata": {},
   "outputs": [
    {
     "name": "stdout",
     "output_type": "stream",
     "text": [
      "\n",
      "\n"
     ]
    },
    {
     "name": "stderr",
     "output_type": "stream",
     "text": [
      "/home/camacho/Github/StarSearch/starsearch/phase3Archive.py:758: UserWarning: Warning: converting a masked element to nan.\n",
      "  if np.float(starMag) is np.nan:\n"
     ]
    },
    {
     "name": "stdout",
     "output_type": "stream",
     "text": [
      "\n",
      "\n"
     ]
    },
    {
     "name": "stderr",
     "output_type": "stream",
     "text": [
      "WARNING: NoResultsWarning: Query returned no results [starsearch.core]\n"
     ]
    },
    {
     "name": "stdout",
     "output_type": "stream",
     "text": [
      "\n"
     ]
    },
    {
     "name": "stderr",
     "output_type": "stream",
     "text": [
      "WARNING: NoResultsWarning: Query returned no results [starsearch.core]\n"
     ]
    },
    {
     "name": "stdout",
     "output_type": "stream",
     "text": [
      "\n",
      "Done\n"
     ]
    }
   ],
   "source": [
    "#rv_stars.rdb contains the stars we are looking for\n",
    "#table.txt is the file downloaded for SWEET-cat website\n",
    "\n",
    "query.searchSWEETCatSpectra(filename='/home/camacho/Github/StarSearch/starsearch/notebook/rv_stars.rdb', \n",
    "                            table='/home/camacho/Github/StarSearch/starsearch/notebook/table.txt', \n",
    "                            mag=12, savePath = '/home/camacho/', download = False)\n",
    "print('Done')"
   ]
  },
  {
   "cell_type": "code",
   "execution_count": 23,
   "metadata": {},
   "outputs": [
    {
     "name": "stdout",
     "output_type": "stream",
     "text": [
      "*************\n",
      "* 61Vir\n",
      "*************\n",
      "\n",
      "*** Searching for HARPS results ***\n",
      "\n",
      "INFO: Detecting already downloaded datasets... [starsearch.core]\n",
      "INFO: Checking availability of datasets to download... [starsearch.core]\n",
      "Star not found in ESO archive!\n",
      "\n",
      "*************\n",
      "* HD187085\n",
      "*************\n",
      "Star not found in ESO archive!\n",
      "\n"
     ]
    },
    {
     "data": {
      "text/plain": [
       "0"
      ]
     },
     "execution_count": 23,
     "metadata": {},
     "output_type": "execute_result"
    }
   ],
   "source": [
    "#To download the spectra contained in the previously generated files\n",
    "query.downloadSWEETCatSpectra('/home/camacho/04_starsToDownload_2020-05-05T15:50:20.txt')"
   ]
  },
  {
   "cell_type": "code",
   "execution_count": null,
   "metadata": {},
   "outputs": [],
   "source": []
  }
 ],
 "metadata": {
  "kernelspec": {
   "display_name": "Python 3.7.6 64-bit ('anaconda3': virtualenv)",
   "language": "python",
   "name": "python37664bitanaconda3virtualenv075876bd45874f5bb219d38dfa1ba8da"
  },
  "language_info": {
   "codemirror_mode": {
    "name": "ipython",
    "version": 3
   },
   "file_extension": ".py",
   "mimetype": "text/x-python",
   "name": "python",
   "nbconvert_exporter": "python",
   "pygments_lexer": "ipython3",
   "version": "3.7.6"
  }
 },
 "nbformat": 4,
 "nbformat_minor": 4
}
