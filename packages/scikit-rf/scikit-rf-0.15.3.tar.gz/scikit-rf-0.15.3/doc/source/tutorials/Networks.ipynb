{
 "cells": [
  {
   "cell_type": "raw",
   "metadata": {
    "raw_mimetype": "text/restructuredtext"
   },
   "source": [
    ".. _networks::\n",
    "\n",
    "|\n",
    "|\n",
    "\n",
    "Download This Notebook: :download:`Networks.ipynb`\n"
   ]
  },
  {
   "cell_type": "markdown",
   "metadata": {},
   "source": [
    "# Networks"
   ]
  },
  {
   "cell_type": "markdown",
   "metadata": {},
   "source": [
    "## Introduction "
   ]
  },
  {
   "cell_type": "markdown",
   "metadata": {},
   "source": [
    "This tutorial gives an overview of the microwave network analysis \n",
    "features of **skrf**.  For this tutorial, and the rest of the scikit-rf documentation, it is  assumed that **skrf** has been imported as `rf`. Whether or not you follow this convention in your own code is up to you."
   ]
  },
  {
   "cell_type": "code",
   "execution_count": null,
   "metadata": {},
   "outputs": [],
   "source": [
    "import skrf as rf\n",
    "from pylab import *"
   ]
  },
  {
   "cell_type": "markdown",
   "metadata": {},
   "source": [
    "If this produces an import error, please see [Installation ](Installation.ipynb)."
   ]
  },
  {
   "cell_type": "markdown",
   "metadata": {},
   "source": [
    "## Creating Networks\n"
   ]
  },
  {
   "cell_type": "markdown",
   "metadata": {},
   "source": [
    "**skrf** provides an object for a N-port microwave [Network](../api/network.rst). A [Network](../api/network.rst) can be created in a number of ways. One way is from data stored in a touchstone file. "
   ]
  },
  {
   "cell_type": "code",
   "execution_count": null,
   "metadata": {},
   "outputs": [],
   "source": [
    "from skrf import Network, Frequency\n",
    "\n",
    "ring_slot = Network('data/ring slot.s2p')"
   ]
  },
  {
   "cell_type": "markdown",
   "metadata": {},
   "source": [
    "\t\n",
    "A short description of the network will be printed out if entered onto the command line\n",
    "\t"
   ]
  },
  {
   "cell_type": "code",
   "execution_count": null,
   "metadata": {},
   "outputs": [],
   "source": [
    "ring_slot"
   ]
  },
  {
   "cell_type": "markdown",
   "metadata": {},
   "source": [
    "Networks can also be created by directly passing values for the `frequency`, `s`-parameters  and  port impedance `z0`. "
   ]
  },
  {
   "cell_type": "code",
   "execution_count": null,
   "metadata": {},
   "outputs": [],
   "source": [
    "freq = Frequency(1,10,101,'ghz')\n",
    "ntwk = Network(frequency=freq, s= [-1, 1j, 0], z0=50, name='slippy') \n",
    "ntwk"
   ]
  },
  {
   "cell_type": "markdown",
   "metadata": {},
   "source": [
    "\t\n",
    "See  [Network](../api/network.rst)  for more information on network creation."
   ]
  },
  {
   "cell_type": "markdown",
   "metadata": {},
   "source": [
    "## Basic Properties\n",
    "\n",
    "\t\n",
    "The basic attributes of a microwave [Network](../api/network.rst) are provided by the \n",
    "following properties :\n",
    "\n",
    "* `Network.s` : Scattering Parameter matrix. \n",
    "* `Network.z0`  : Port Characteristic Impedance matrix.\n",
    "* `Network.frequency`  : Frequency Object. "
   ]
  },
  {
   "cell_type": "markdown",
   "metadata": {},
   "source": [
    "The [Network](../api/network.rst) object has numerous other properties and methods. If you are using IPython, then these properties and methods can be 'tabbed' out on the command line. "
   ]
  },
  {
   "cell_type": "markdown",
   "metadata": {},
   "source": [
    "\n",
    "\tIn [1]: ring_slot.s<TAB>\n",
    "\tring_slot.line.s              ring_slot.s_arcl         ring_slot.s_im\n",
    "\tring_slot.line.s11            ring_slot.s_arcl_unwrap  ring_slot.s_mag\n",
    "\t..."
   ]
  },
  {
   "cell_type": "markdown",
   "metadata": {},
   "source": [
    "\n",
    "All of the network parameters are represented internally as complex `numpy.ndarray`. The s-parameters are of shape (nfreq, nport, nport)"
   ]
  },
  {
   "cell_type": "code",
   "execution_count": null,
   "metadata": {},
   "outputs": [],
   "source": [
    "shape(ring_slot.s)"
   ]
  },
  {
   "cell_type": "markdown",
   "metadata": {},
   "source": [
    "## Slicing"
   ]
  },
  {
   "cell_type": "markdown",
   "metadata": {},
   "source": [
    "You can  slice the `Network.s` attribute any way you want."
   ]
  },
  {
   "cell_type": "code",
   "execution_count": null,
   "metadata": {},
   "outputs": [],
   "source": [
    "ring_slot.s[:11,1,0]  # get first 10 values of S21"
   ]
  },
  {
   "cell_type": "markdown",
   "metadata": {},
   "source": [
    "Slicing by frequency can also be done directly on Network objects like so "
   ]
  },
  {
   "cell_type": "code",
   "execution_count": null,
   "metadata": {},
   "outputs": [],
   "source": [
    "ring_slot[0:10] #  Network for the first 10 frequency points"
   ]
  },
  {
   "cell_type": "markdown",
   "metadata": {},
   "source": [
    "or  with a human friendly string,"
   ]
  },
  {
   "cell_type": "code",
   "execution_count": null,
   "metadata": {},
   "outputs": [],
   "source": [
    "ring_slot['80-90ghz']"
   ]
  },
  {
   "cell_type": "markdown",
   "metadata": {},
   "source": [
    "Notice that slicing directly on a Network **returns a Network**.  So, a nice way to express slicing in both dimensions is "
   ]
  },
  {
   "cell_type": "code",
   "execution_count": null,
   "metadata": {},
   "outputs": [],
   "source": [
    "ring_slot.s11['80-90ghz'] "
   ]
  },
  {
   "cell_type": "markdown",
   "metadata": {},
   "source": [
    "## Plotting "
   ]
  },
  {
   "cell_type": "markdown",
   "metadata": {},
   "source": [
    "Amongst other things, the methods of the [Network](../api/network.rst) class provide convenient ways to plot components of the network parameters, \n",
    "\n",
    "* `Network.plot_s_db` : plot magnitude of s-parameters in log scale\n",
    "* `Network.plot_s_deg` : plot phase of s-parameters in degrees\n",
    "* `Network.plot_s_smith` : plot complex s-parameters on Smith Chart\n",
    "* ...\n",
    "\n",
    "If you would like to use skrf's plot styling,"
   ]
  },
  {
   "cell_type": "code",
   "execution_count": null,
   "metadata": {},
   "outputs": [],
   "source": [
    "%matplotlib inline \n",
    "rf.stylely()"
   ]
  },
  {
   "cell_type": "markdown",
   "metadata": {},
   "source": [
    "\t\n",
    "To plot all four s-parameters of the `ring_slot` on the Smith Chart."
   ]
  },
  {
   "cell_type": "code",
   "execution_count": null,
   "metadata": {},
   "outputs": [],
   "source": [
    "ring_slot.plot_s_smith()"
   ]
  },
  {
   "cell_type": "markdown",
   "metadata": {},
   "source": [
    "Combining this with the slicing features, "
   ]
  },
  {
   "cell_type": "code",
   "execution_count": null,
   "metadata": {},
   "outputs": [],
   "source": [
    "from matplotlib import pyplot as plt\n",
    "\n",
    "plt.title('Ring Slot $S_{21}$')\n",
    "\n",
    "ring_slot.s11.plot_s_db(label='Full Band Response')\n",
    "ring_slot.s11['82-90ghz'].plot_s_db(lw=3,label='Band of Interest')"
   ]
  },
  {
   "cell_type": "markdown",
   "metadata": {},
   "source": [
    "For more detailed information about plotting see [Plotting](Plotting.ipynb).   "
   ]
  },
  {
   "cell_type": "markdown",
   "metadata": {},
   "source": [
    "\n",
    "## Operators\n",
    "\n",
    "### Arithmetic Operations \n",
    "\t\n",
    "Element-wise mathematical operations on the scattering parameter matrices are accessible through overloaded operators. To illustrate their usage, load a couple  Networks stored in the `data` module. "
   ]
  },
  {
   "cell_type": "code",
   "execution_count": null,
   "metadata": {},
   "outputs": [],
   "source": [
    "from skrf.data import wr2p2_short as short \n",
    "from skrf.data import wr2p2_delayshort as delayshort \n",
    "\n",
    "\n",
    "short - delayshort\n",
    "short + delayshort\n",
    "short * delayshort\n",
    "short / delayshort\n"
   ]
  },
  {
   "cell_type": "markdown",
   "metadata": {},
   "source": [
    "All of these operations return [Network](../api/network.rst) types.  For example, to plot the complex difference  between  `short` and `delay_short`,"
   ]
  },
  {
   "cell_type": "code",
   "execution_count": null,
   "metadata": {},
   "outputs": [],
   "source": [
    "difference = (short - delayshort)\n",
    "difference.plot_s_mag(label='Mag of difference')"
   ]
  },
  {
   "cell_type": "markdown",
   "metadata": {},
   "source": [
    "Another common application is calculating the phase difference using the division operator,"
   ]
  },
  {
   "cell_type": "code",
   "execution_count": null,
   "metadata": {},
   "outputs": [],
   "source": [
    "(delayshort/short).plot_s_deg(label='Detrended Phase')"
   ]
  },
  {
   "cell_type": "markdown",
   "metadata": {},
   "source": [
    "Linear operators can also be used with scalars or an `numpy.ndarray`  that ais the same length as the [Network](../api/network.rst). "
   ]
  },
  {
   "cell_type": "code",
   "execution_count": null,
   "metadata": {},
   "outputs": [],
   "source": [
    "hopen = (short*-1)\n",
    "hopen.s[:3,...]"
   ]
  },
  {
   "cell_type": "code",
   "execution_count": null,
   "metadata": {},
   "outputs": [],
   "source": [
    "rando =  hopen *rand(len(hopen))\n",
    "rando.s[:3,...]"
   ]
  },
  {
   "cell_type": "raw",
   "metadata": {
    "raw_mimetype": "text/restructuredtext"
   },
   "source": [
    ".. notice :: \t\n",
    "    \n",
    "    Note that if you multiply a Network by an `numpy.ndarray`  be sure to place the array on right side."
   ]
  },
  {
   "cell_type": "markdown",
   "metadata": {},
   "source": [
    "## Comparaisons of Network\n",
    "Comparison operators also work with networks:"
   ]
  },
  {
   "cell_type": "code",
   "execution_count": null,
   "metadata": {},
   "outputs": [],
   "source": [
    "short == delayshort"
   ]
  },
  {
   "cell_type": "code",
   "execution_count": null,
   "metadata": {},
   "outputs": [],
   "source": [
    "short != delayshort"
   ]
  },
  {
   "cell_type": "markdown",
   "metadata": {},
   "source": [
    "### Cascading and De-embedding\n",
    "\n",
    "Cascading and de-embeding 2-port Networks can also be done though operators. The `cascade` function can be called through the power operator,  `**`. To calculate a new network which is the cascaded connection of the two individual Networks `line` and `short`, "
   ]
  },
  {
   "cell_type": "code",
   "execution_count": null,
   "metadata": {},
   "outputs": [],
   "source": [
    "short = rf.data.wr2p2_short\n",
    "line = rf.data.wr2p2_line\n",
    "delayshort = line ** short"
   ]
  },
  {
   "cell_type": "markdown",
   "metadata": {},
   "source": [
    "De-embedding  can be accomplished by cascading the *inverse* of a network. The inverse of a network is accessed through the property `Network.inv`. To de-embed the `short` from `delay_short`,"
   ]
  },
  {
   "cell_type": "code",
   "execution_count": null,
   "metadata": {},
   "outputs": [],
   "source": [
    "short_2 = line.inv ** delayshort\n",
    "\n",
    "short_2 == short"
   ]
  },
  {
   "cell_type": "markdown",
   "metadata": {},
   "source": [
    "The cascading operator also work for to 2N-port Networks. This is illustrated in [this example on balanced Networks](../examples/networktheory/Balanced%20Network%20De-embedding.ipynb). For example, assuming you want to cascade three 4-port Network `ntw1`, `ntw2` and `ntw3`, you can use:\n",
    "`resulting_ntw = ntw1 ** ntw2 ** ntw3`\n",
    " The port scheme assumed by the ** cascading operator with 4-port networks is:"
   ]
  },
  {
   "cell_type": "raw",
   "metadata": {},
   "source": [
    "   ntw1    ntw2    ntw3\n",
    "  +----+  +----+  +----+\n",
    "0-|0  2|--|0  2|--|0  2|-2\n",
    "1-|1  3|--|1  3|--|1  3|-3\n",
    "  +----+  +----+  +----+"
   ]
  },
  {
   "cell_type": "markdown",
   "metadata": {},
   "source": [
    "## Connecting Multi-ports \n",
    "\n",
    "**skrf** supports the connection of arbitrary ports of N-port networks. It accomplishes this using an algorithm called sub-network growth[[1]](#References),  available through the function `connect()`. Terminating one port of an ideal 3-way splitter can be done like so,"
   ]
  },
  {
   "cell_type": "code",
   "execution_count": null,
   "metadata": {},
   "outputs": [],
   "source": [
    "tee = rf.data.tee\n",
    "tee"
   ]
  },
  {
   "cell_type": "markdown",
   "metadata": {},
   "source": [
    "\t\n",
    "\n",
    "To connect port `1` of the tee, to port `0` of the delay short,"
   ]
  },
  {
   "cell_type": "code",
   "execution_count": null,
   "metadata": {},
   "outputs": [],
   "source": [
    "terminated_tee = rf.connect(tee,1,delayshort,0)\n",
    "terminated_tee"
   ]
  },
  {
   "cell_type": "markdown",
   "metadata": {},
   "source": [
    "Note that this function takes into account port impedances. If two connected ports have different port impedances,  an appropriate impedance mismatch is inserted. \n",
    "\n",
    "For advanced connection between arbitrary N-port Networks, the `Circuit` object is more relevant since it allows defining explicitely the connections between ports and Networks. For more information, please refer to the [Circuit documentation](Circuit.ipynb). "
   ]
  },
  {
   "cell_type": "markdown",
   "metadata": {},
   "source": [
    "\t\n",
    "## Interpolation and Concatenation\n",
    "\n",
    "A common need is to change the number of frequency points of a [Network](../api/network.rst). To use the operators and cascading functions the networks involved must have matching frequencies, for instance. If two networks have different frequency information, then an error will be raised, "
   ]
  },
  {
   "cell_type": "code",
   "execution_count": null,
   "metadata": {},
   "outputs": [],
   "source": [
    "from skrf.data import wr2p2_line1 as line1\n",
    "\n",
    "line1"
   ]
  },
  {
   "cell_type": "markdown",
   "metadata": {},
   "source": [
    "    line1+line\n",
    "    \n",
    "    ---------------------------------------------------------------------------\n",
    "    IndexError                                Traceback (most recent call last)\n",
    "    <ipython-input-49-82040f7eab08> in <module>()\n",
    "    ----> 1 line1+line\n",
    "\n",
    "    /home/alex/code/scikit-rf/skrf/network.py in __add__(self, other)\n",
    "        500 \n",
    "        501         if isinstance(other, Network):\n",
    "    --> 502             self.__compatable_for_scalar_operation_test(other)\n",
    "        503             result.s = self.s + other.s\n",
    "        504         else:\n",
    "\n",
    "    /home/alex/code/scikit-rf/skrf/network.py in __compatable_for_scalar_operation_test(self, other)\n",
    "        701         '''\n",
    "        702         if other.frequency  != self.frequency:\n",
    "    --> 703             raise IndexError('Networks must have same frequency. See `Network.interpolate`')\n",
    "        704 \n",
    "        705         if other.s.shape != self.s.shape:\n",
    "\n",
    "    IndexError: Networks must have same frequency. See `Network.interpolate`\n"
   ]
  },
  {
   "cell_type": "markdown",
   "metadata": {},
   "source": [
    "\t\n",
    "This problem can be solved by interpolating one of Networks allong the frequency axis using `Network.resample`. "
   ]
  },
  {
   "cell_type": "code",
   "execution_count": null,
   "metadata": {},
   "outputs": [],
   "source": [
    "line1.resample(201)\n",
    "line1"
   ]
  },
  {
   "cell_type": "markdown",
   "metadata": {},
   "source": [
    "And now we can do things"
   ]
  },
  {
   "cell_type": "code",
   "execution_count": null,
   "metadata": {},
   "outputs": [],
   "source": [
    "line1 + line"
   ]
  },
  {
   "cell_type": "markdown",
   "metadata": {},
   "source": [
    "You can also interpolate from a `Frequency` object. For example, "
   ]
  },
  {
   "cell_type": "code",
   "execution_count": null,
   "metadata": {},
   "outputs": [],
   "source": [
    "line.interpolate_from_f(line1.frequency)"
   ]
  },
  {
   "cell_type": "markdown",
   "metadata": {},
   "source": [
    "A related application is the need to combine Networks which cover different frequency ranges. Two  Netwoks can be concatenated (aka stitched) together using `stitch`, which  concatenates networks along their frequency axis. To combine a WR-2.2 Network with a WR-1.5 Network, \n",
    " "
   ]
  },
  {
   "cell_type": "code",
   "execution_count": null,
   "metadata": {},
   "outputs": [],
   "source": [
    "from skrf.data import wr2p2_line, wr1p5_line\n",
    "\n",
    "big_line = rf.stitch(wr2p2_line, wr1p5_line)\n",
    "big_line"
   ]
  },
  {
   "cell_type": "markdown",
   "metadata": {},
   "source": [
    "## Reading and Writing \n",
    "\n",
    "\n",
    "For long term data storage, **skrf** has support for reading and partial support for writing  [touchstone file format](http://en.wikipedia.org/wiki/Touchstone_file). Reading is accomplished with the Network initializer as shown above,  and writing with the method  `Network.write_touchstone()`.\n",
    "\n",
    "For **temporary** data storage, **skrf** object can be [pickled](http://docs.python.org/2/library/pickle.html) with  the functions `skrf.io.general.read` and `skrf.io.general.write`.  The reason to use temporary pickles over touchstones is that they store all attributes of a network, while touchstone files only store partial information. "
   ]
  },
  {
   "cell_type": "code",
   "execution_count": null,
   "metadata": {},
   "outputs": [],
   "source": [
    "rf.write('data/myline.ntwk',line) # write out Network using pickle"
   ]
  },
  {
   "cell_type": "code",
   "execution_count": null,
   "metadata": {},
   "outputs": [],
   "source": [
    "ntwk = Network('data/myline.ntwk') # read Network using pickle"
   ]
  },
  {
   "cell_type": "raw",
   "metadata": {
    "raw_mimetype": "text/restructuredtext"
   },
   "source": [
    ".. warning:: \n",
    "\t\n",
    "\tPickling methods cant support long term data storage because they require the structure of the object being written to remain unchanged. something that cannot be guarnteed in future versions of skrf.  (see http://docs.python.org/2/library/pickle.html) \n"
   ]
  },
  {
   "cell_type": "markdown",
   "metadata": {},
   "source": [
    "Frequently there is an entire directory of files that need to be analyzed. `rf.read_all`  creates Networks from all files in a directory quickly.  To load all **skrf** files in the `data/` directory which contain the string `'wr2p2'`."
   ]
  },
  {
   "cell_type": "code",
   "execution_count": null,
   "metadata": {},
   "outputs": [],
   "source": [
    "dict_o_ntwks = rf.read_all(rf.data.pwd, contains = 'wr2p2')\n",
    "dict_o_ntwks"
   ]
  },
  {
   "cell_type": "markdown",
   "metadata": {},
   "source": [
    "Other times you know the list of files that need to be analyzed. `rf.read_all`  also accepts a files parameter. This example file list contains only files within the same directory, but you can store files however your application would benefit from."
   ]
  },
  {
   "cell_type": "code",
   "execution_count": null,
   "metadata": {},
   "outputs": [],
   "source": [
    "import os\n",
    "dict_o_ntwks_files = rf.read_all(files=[os.path.join(rf.data.pwd, test_file) for test_file in ['ntwk1.s2p', 'ntwk2.s2p']])\n",
    "dict_o_ntwks_files"
   ]
  },
  {
   "cell_type": "markdown",
   "metadata": {},
   "source": [
    "## Other Parameters\t\n",
    "\n",
    "This tutorial focuses on s-parameters, but other network representations are available as well. Impedance and Admittance Parameters can be accessed through the parameters `Network.z` and `Network.y`, respectively. Scalar components of complex parameters, such as  `Network.z_re`, `Network.z_im` and plotting methods are available as well.\n",
    "\n",
    "Other parameters are only available for 2-port networks, such as wave cascading parameters (`Network.t`), and  ABCD-parameters (`Network.a`)"
   ]
  },
  {
   "cell_type": "code",
   "execution_count": null,
   "metadata": {},
   "outputs": [],
   "source": [
    "ring_slot.z[:3,...]"
   ]
  },
  {
   "cell_type": "code",
   "execution_count": null,
   "metadata": {},
   "outputs": [],
   "source": [
    "ring_slot.plot_z_im(m=1,n=0)"
   ]
  },
  {
   "cell_type": "markdown",
   "metadata": {},
   "source": [
    "##  Conclusion\n",
    "\n",
    "There are many more features of Networks that can be found in [networks](networks.rst)"
   ]
  },
  {
   "cell_type": "markdown",
   "metadata": {},
   "source": [
    "## References\n",
    "\n",
    "\n",
    "[1] Compton, R.C.; , \"Perspectives in microwave circuit analysis,\" Circuits and Systems, 1989., Proceedings of the 32nd Midwest Symposium on , vol., no., pp.716-718 vol.2, 14-16 Aug 1989. URL: http://ieeexplore.ieee.org/stamp/stamp.jsp?tp=&arnumber=101955&isnumber=3167\n"
   ]
  },
  {
   "cell_type": "code",
   "execution_count": null,
   "metadata": {},
   "outputs": [],
   "source": []
  }
 ],
 "metadata": {
  "anaconda-cloud": {},
  "celltoolbar": "Raw Cell Format",
  "kernelspec": {
   "display_name": "Python 3",
   "language": "python",
   "name": "python3"
  },
  "language_info": {
   "codemirror_mode": {
    "name": "ipython",
    "version": 3
   },
   "file_extension": ".py",
   "mimetype": "text/x-python",
   "name": "python",
   "nbconvert_exporter": "python",
   "pygments_lexer": "ipython3",
   "version": "3.7.6"
  }
 },
 "nbformat": 4,
 "nbformat_minor": 1
}
