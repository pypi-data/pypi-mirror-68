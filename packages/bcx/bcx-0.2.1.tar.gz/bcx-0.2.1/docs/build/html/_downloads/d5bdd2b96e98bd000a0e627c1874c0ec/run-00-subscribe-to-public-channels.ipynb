{
  "cells": [
    {
      "cell_type": "code",
      "execution_count": null,
      "metadata": {
        "collapsed": false
      },
      "outputs": [],
      "source": [
        "%matplotlib inline"
      ]
    },
    {
      "cell_type": "markdown",
      "metadata": {},
      "source": [
        "\n# Subscribe to Public channels\n    :depth: 1\n"
      ]
    },
    {
      "cell_type": "markdown",
      "metadata": {},
      "source": [
        "Initialise client\n=================\nBy default all incoming messages are being logged at INFO level without\nany modifications. So you would want to set logging accordingly in case\nyou need to visually inspect results.\n\n"
      ]
    },
    {
      "cell_type": "code",
      "execution_count": null,
      "metadata": {
        "collapsed": false
      },
      "outputs": [],
      "source": [
        "import time\nimport logging\nfrom pprint import pprint\n\nfrom bcx.client import BlockchainWebsocketClient\n\nlogging.basicConfig(level=logging.INFO)\n\nclient = BlockchainWebsocketClient()"
      ]
    },
    {
      "cell_type": "markdown",
      "metadata": {},
      "source": [
        "Subscribe for monitoring\n========================\nSubscription can happen on a fly, i.e. you don't need to restart client\n(or re-run script) to be able to subscribe to new channels.\n\n"
      ]
    },
    {
      "cell_type": "code",
      "execution_count": null,
      "metadata": {
        "collapsed": false
      },
      "outputs": [],
      "source": [
        "client.subscribe_to_heartbeat()\n\nclient.subscribe_to_prices(\"BTC-USD\", granularity=60)\n\nclient.subscribe_to_prices(\"ETH-USD\", granularity=60)\n\nclient.subscribe_to_ticker(\"BTC-USD\")\n\nclient.subscribe_to_trades(\"BTC-USD\")\n\ntime.sleep(2)\npprint(client.connected_channels)"
      ]
    },
    {
      "cell_type": "markdown",
      "metadata": {},
      "source": [
        "Some channels send a snapshot of when you connect to them for the very\nfirst time.\n\n"
      ]
    },
    {
      "cell_type": "code",
      "execution_count": null,
      "metadata": {
        "collapsed": false
      },
      "outputs": [],
      "source": [
        "time.sleep(2)\nclient.subscribe_to_symbols()\n\nclient.subscribe_to_orderbook_l2(\"BTC-USD\")\n\nclient.subscribe_to_orderbook_l3(\"BTC-USD\")\n\ntime.sleep(2)\npprint(client.connected_channels)"
      ]
    },
    {
      "cell_type": "markdown",
      "metadata": {},
      "source": [
        "This is a simple use case showing that the client not only reads incoming\nmessages and logs them, but also can parse them and store the result in\nmemory in order to be used later on, i.e. by external API.\n\n"
      ]
    },
    {
      "cell_type": "code",
      "execution_count": null,
      "metadata": {
        "collapsed": false
      },
      "outputs": [],
      "source": [
        "time.sleep(7)\nprint(f\"Last Heart Beat: {client.get_last_heartbeat()}\")"
      ]
    }
  ],
  "metadata": {
    "kernelspec": {
      "display_name": "Python 3",
      "language": "python",
      "name": "python3"
    },
    "language_info": {
      "codemirror_mode": {
        "name": "ipython",
        "version": 3
      },
      "file_extension": ".py",
      "mimetype": "text/x-python",
      "name": "python",
      "nbconvert_exporter": "python",
      "pygments_lexer": "ipython3",
      "version": "3.7.7"
    }
  },
  "nbformat": 4,
  "nbformat_minor": 0
}