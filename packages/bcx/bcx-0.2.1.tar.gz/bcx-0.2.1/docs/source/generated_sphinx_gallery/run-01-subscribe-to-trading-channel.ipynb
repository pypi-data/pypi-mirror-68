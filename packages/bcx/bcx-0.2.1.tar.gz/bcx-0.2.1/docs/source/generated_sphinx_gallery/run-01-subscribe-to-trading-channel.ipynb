{
  "cells": [
    {
      "cell_type": "code",
      "execution_count": null,
      "metadata": {
        "collapsed": false
      },
      "outputs": [],
      "source": [
        "%matplotlib inline"
      ]
    },
    {
      "cell_type": "markdown",
      "metadata": {},
      "source": [
        "\n# Subscribe to Trading Channel\n    :depth: 1\n"
      ]
    },
    {
      "cell_type": "markdown",
      "metadata": {},
      "source": [
        "Initialise client\n=================\nBy default all incoming messages are being logged at INFO level without\nany modifications. So you would want to set logging accordingly in case\nyou need to visually inspect results.\n\n"
      ]
    },
    {
      "cell_type": "code",
      "execution_count": null,
      "metadata": {
        "collapsed": false
      },
      "outputs": [],
      "source": [
        "import time\nimport logging\nfrom pprint import pprint\n\nfrom bcx.client import BlockchainWebsocketClient\n\nlogging.basicConfig(level=logging.INFO)\n\nclient = BlockchainWebsocketClient()"
      ]
    },
    {
      "cell_type": "markdown",
      "metadata": {},
      "source": [
        "Subscribe for trading\n=====================\nActual trading and accessing balance of your account `requires authentication\n<https://exchange.blockchain.com/api/#authenticated-channels>`_ with an API key.\nAll you need to do is to make sure that ``BLOCKCHAIN_API_SECRET`` environment\nvariable is present at script run time.\n\n.. code-block:: shell\n\n  export BLOCKCHAIN_API_SECRET=\"__ENTER_YOUR_API_SECRET_HERE__\"\n\nThe client will handle the rest of the authentication process\n\n"
      ]
    },
    {
      "cell_type": "code",
      "execution_count": null,
      "metadata": {
        "collapsed": false
      },
      "outputs": [],
      "source": [
        "client.subscribe_to_balances()\ntime.sleep(2)\n\nclient.subscribe_to_trading()\ntime.sleep(2)\n\npprint(client.connected_channels)\ntime.sleep(2)"
      ]
    },
    {
      "cell_type": "markdown",
      "metadata": {},
      "source": [
        "Create market order\n===================\nMarket order is an order that will match at any price available in the\nmarket, starting from the best prices and filling up to the available\nbalance.\n\n.. important ::\n  At the moment, there is no logic in place which handles responses from\n  the server when you create an order\n\n"
      ]
    },
    {
      "cell_type": "code",
      "execution_count": null,
      "metadata": {
        "collapsed": false
      },
      "outputs": [],
      "source": [
        "time.sleep(2)\nclient.create_market_order(\n    order_id=\"my-order\",\n    symbol=\"BTC-USD\",\n    time_in_force=\"GTC\",\n    side=\"sell\",\n    quantity=0.000000000001,\n)"
      ]
    },
    {
      "cell_type": "markdown",
      "metadata": {},
      "source": [
        "Create limit order\n===================\nLimit order is an order that has a price limit.\n\n.. important ::\n  At the moment, there is no logic in place which handles responses from\n  the server when you create an order\n\n"
      ]
    },
    {
      "cell_type": "code",
      "execution_count": null,
      "metadata": {
        "collapsed": false
      },
      "outputs": [],
      "source": [
        "time.sleep(2)\nclient.create_limit_order(\n    order_id=\"my-order\",\n    price=100000000000000.0,\n    symbol=\"BTC-USD\",\n    time_in_force=\"GTC\",\n    side=\"sell\",\n    quantity=0.000000000001,\n)"
      ]
    },
    {
      "cell_type": "markdown",
      "metadata": {},
      "source": [
        "Cancel all orders\n=================\nThe client stores all necessary information about placed orders. This can\nbe used to track order execution status or cancel all of the in one go\n\n"
      ]
    },
    {
      "cell_type": "code",
      "execution_count": null,
      "metadata": {
        "collapsed": false
      },
      "outputs": [],
      "source": [
        "time.sleep(2)\nclient.cancel_all_orders()"
      ]
    }
  ],
  "metadata": {
    "kernelspec": {
      "display_name": "Python 3",
      "language": "python",
      "name": "python3"
    },
    "language_info": {
      "codemirror_mode": {
        "name": "ipython",
        "version": 3
      },
      "file_extension": ".py",
      "mimetype": "text/x-python",
      "name": "python",
      "nbconvert_exporter": "python",
      "pygments_lexer": "ipython3",
      "version": "3.7.7"
    }
  },
  "nbformat": 4,
  "nbformat_minor": 0
}