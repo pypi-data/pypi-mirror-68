{
  "cells": [
    {
      "cell_type": "code",
      "execution_count": null,
      "metadata": {
        "collapsed": false
      },
      "outputs": [],
      "source": [
        "%matplotlib inline"
      ]
    },
    {
      "cell_type": "markdown",
      "metadata": {},
      "source": [
        "\n# Subscribe to Public channels\n    :depth: 1\n"
      ]
    },
    {
      "cell_type": "code",
      "execution_count": null,
      "metadata": {
        "collapsed": false
      },
      "outputs": [],
      "source": [
        "import time\nimport logging\nfrom pprint import pprint\nfrom blockchain_exchange.client import BlockchainWebsocketClient\n\n\nlogging.basicConfig(level=logging.INFO)\n\n\ndef main():\n    client = BlockchainWebsocketClient()\n    client.subscribe_to_heartbeat()\n    client.subscribe_to_prices(\"BTC-USD\", granularity=60)\n    client.subscribe_to_prices(\"ETH-USD\", granularity=60)\n    client.subscribe_to_ticker(\"BTC-USD\")\n    client.subscribe_to_trades(\"BTC-USD\")\n    time.sleep(2)\n    pprint(client.connected_channels)\n\n    time.sleep(2)\n    client.subscribe_to_symbols()\n    time.sleep(2)\n    pprint(client.connected_channels)\n\n    time.sleep(2)\n    client.subscribe_to_orderbook_l2(\"BTC-USD\")\n    time.sleep(2)\n    pprint(client.connected_channels)\n\n    time.sleep(2)\n    client.subscribe_to_orderbook_l3(\"BTC-USD\")\n    time.sleep(2)\n    pprint(client.connected_channels)\n\n    time.sleep(7)\n    print(f\"Last Heart Beat: {client.get_last_heartbeat()}\")\n\n\nif __name__ == '__main__':\n    main()"
      ]
    }
  ],
  "metadata": {
    "kernelspec": {
      "display_name": "Python 3",
      "language": "python",
      "name": "python3"
    },
    "language_info": {
      "codemirror_mode": {
        "name": "ipython",
        "version": 3
      },
      "file_extension": ".py",
      "mimetype": "text/x-python",
      "name": "python",
      "nbconvert_exporter": "python",
      "pygments_lexer": "ipython3",
      "version": "3.7.7"
    }
  },
  "nbformat": 4,
  "nbformat_minor": 0
}