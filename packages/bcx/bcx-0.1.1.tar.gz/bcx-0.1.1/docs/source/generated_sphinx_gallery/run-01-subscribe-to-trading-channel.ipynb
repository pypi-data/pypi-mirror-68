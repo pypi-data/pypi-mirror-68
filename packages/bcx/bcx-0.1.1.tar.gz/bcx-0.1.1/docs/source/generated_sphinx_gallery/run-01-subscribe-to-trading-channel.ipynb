{
  "cells": [
    {
      "cell_type": "code",
      "execution_count": null,
      "metadata": {
        "collapsed": false
      },
      "outputs": [],
      "source": [
        "%matplotlib inline"
      ]
    },
    {
      "cell_type": "markdown",
      "metadata": {},
      "source": [
        "\n# Subscribe to Trading Channel\n    :depth: 1\n"
      ]
    },
    {
      "cell_type": "code",
      "execution_count": null,
      "metadata": {
        "collapsed": false
      },
      "outputs": [],
      "source": [
        "import time\nimport logging\nfrom pprint import pprint\nfrom blockchain_exchange.client import BlockchainWebsocketClient\n\n\nlogging.basicConfig(level=logging.INFO)\n\n\ndef main():\n    client = BlockchainWebsocketClient()\n\n    client.subscribe_to_balances()\n    time.sleep(2)\n\n    pprint(client.connected_channels)\n    time.sleep(2)\n\n    client.subscribe_to_trading()\n    time.sleep(2)\n\n    pprint(client.connected_channels)\n    time.sleep(2)\n\n    print(\"Submit Market Order\")\n    time.sleep(2)\n    client.create_market_order(\n        order_id=\"my-order\",\n        symbol=\"BTC-USD\",\n        time_in_force=\"GTC\",\n        side=\"sell\",\n        quantity=0.000000000001,\n    )\n    time.sleep(2)\n\n    print(\"Submit Market Order\")\n    time.sleep(2)\n    client.create_limit_order(\n        order_id=\"my-order\",\n        price=100000000000000.0,\n        symbol=\"BTC-USD\",\n        time_in_force=\"GTC\",\n        side=\"sell\",\n        quantity=0.000000000001,\n    )\n\n    time.sleep(10)\n    client.cancel_all_orders()\n\n\nif __name__ == '__main__':\n    main()"
      ]
    }
  ],
  "metadata": {
    "kernelspec": {
      "display_name": "Python 3",
      "language": "python",
      "name": "python3"
    },
    "language_info": {
      "codemirror_mode": {
        "name": "ipython",
        "version": 3
      },
      "file_extension": ".py",
      "mimetype": "text/x-python",
      "name": "python",
      "nbconvert_exporter": "python",
      "pygments_lexer": "ipython3",
      "version": "3.7.7"
    }
  },
  "nbformat": 4,
  "nbformat_minor": 0
}