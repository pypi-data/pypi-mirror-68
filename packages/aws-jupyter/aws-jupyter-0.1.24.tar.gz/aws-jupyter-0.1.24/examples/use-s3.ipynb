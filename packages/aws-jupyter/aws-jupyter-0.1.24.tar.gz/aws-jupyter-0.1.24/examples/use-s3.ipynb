{
 "cells": [
  {
   "cell_type": "markdown",
   "metadata": {},
   "source": [
    "# Documentation\n",
    "\n",
    "* [API Document](https://boto3.amazonaws.com/v1/documentation/api/latest/reference/services/s3.html)\n",
    "* [Examples](https://boto3.amazonaws.com/v1/documentation/api/latest/guide/s3-examples.html)"
   ]
  },
  {
   "cell_type": "code",
   "execution_count": 1,
   "metadata": {},
   "outputs": [],
   "source": [
    "import boto3\n",
    "\n",
    "s3 = boto3.resource(\n",
    "    's3',\n",
    "    aws_access_key_id=\"\",\n",
    "    aws_secret_access_key=\"\",\n",
    ")"
   ]
  },
  {
   "cell_type": "markdown",
   "metadata": {},
   "source": [
    "## List all buckets"
   ]
  },
  {
   "cell_type": "code",
   "execution_count": 2,
   "metadata": {},
   "outputs": [
    {
     "name": "stdout",
     "output_type": "stream",
     "text": [
      "s3.Bucket(name='cshl-rawdata-transfer')\n",
      "s3.Bucket(name='czi-process')\n",
      "s3.Bucket(name='mousebrainatlas-data')\n",
      "s3.Bucket(name='mousebrainatlas-datajoint')\n",
      "s3.Bucket(name='mousebrainatlas-datajoint-jp2k')\n",
      "s3.Bucket(name='mousebrainatlas-logs')\n",
      "s3.Bucket(name='mousebrainatlas-scripts')\n",
      "s3.Bucket(name='mousebraindata-open')\n",
      "s3.Bucket(name='neuroglancer-data')\n",
      "s3.Bucket(name='neuroglancer-logs')\n",
      "s3.Bucket(name='s3hub-6d85486c54762e193fb3036852449fbf630f419ddc5d341ce1fdf4b47')\n",
      "s3.Bucket(name='test-bucket-sid')\n",
      "s3.Bucket(name='tmsn-cache2')\n",
      "s3.Bucket(name='tmsn-data')\n",
      "s3.Bucket(name='v0.2-required-data')\n",
      "s3.Bucket(name='whale-clicks-test')\n",
      "s3.Bucket(name='yoav-seed-backup')\n"
     ]
    }
   ],
   "source": [
    "for bucket in s3.buckets.all():\n",
    "    print(bucket)"
   ]
  },
  {
   "cell_type": "markdown",
   "metadata": {},
   "source": [
    "## List all files in a bucket"
   ]
  },
  {
   "cell_type": "code",
   "execution_count": 5,
   "metadata": {},
   "outputs": [
    {
     "name": "stdout",
     "output_type": "stream",
     "text": [
      "s3.ObjectSummary(bucket_name='tmsn-data', key='bathymetry-JAMSTEC-100G/testing/testing.libsvm')\n",
      "s3.ObjectSummary(bucket_name='tmsn-data', key='bathymetry-JAMSTEC-100G/training/training.libsvm')\n",
      "s3.ObjectSummary(bucket_name='tmsn-data', key='bathymetry-JAMSTEC-10G/testing/testing.libsvm')\n",
      "s3.ObjectSummary(bucket_name='tmsn-data', key='bathymetry-JAMSTEC-10G/training/training.libsvm')\n",
      "s3.ObjectSummary(bucket_name='tmsn-data', key='bathymetry-JAMSTEC-1G/testing/testing.libsvm')\n"
     ]
    }
   ],
   "source": [
    "bucket_name = \"tmsn-data\"\n",
    "bucket = s3.Bucket(bucket_name)\n",
    "for file_object in bucket.objects.limit(5):\n",
    "    print(file_object)"
   ]
  },
  {
   "cell_type": "markdown",
   "metadata": {},
   "source": [
    "## Read an object to memory"
   ]
  },
  {
   "cell_type": "code",
   "execution_count": 6,
   "metadata": {},
   "outputs": [],
   "source": [
    "key = \"small/covtype/README.txt\"\n",
    "obj = s3.Object(bucket_name, key)\n",
    "obj_in_mem = obj.get()['Body'].read().decode('utf-8')"
   ]
  },
  {
   "cell_type": "code",
   "execution_count": 7,
   "metadata": {},
   "outputs": [
    {
     "data": {
      "text/plain": [
       "'Source: UCI / Covertype  https://www.csie.ntu.edu.tw/~cjlin/libsvmtools/datasets/binary.html\\nPreprocessing: Transform from multiclass into binary class. [RC02a]\\n# of classes: 2\\n# of data: 581,012\\n# of features: 54\\n'"
      ]
     },
     "execution_count": 7,
     "metadata": {},
     "output_type": "execute_result"
    }
   ],
   "source": [
    "obj_in_mem"
   ]
  },
  {
   "cell_type": "markdown",
   "metadata": {},
   "source": [
    "## Download an object to a local file on disk"
   ]
  },
  {
   "cell_type": "code",
   "execution_count": 11,
   "metadata": {},
   "outputs": [],
   "source": [
    "import os\n",
    "\n",
    "obj = s3.Object(bucket_name, key)\n",
    "obj.download_file(os.path.expanduser(\"~/local.txt\"))"
   ]
  },
  {
   "cell_type": "code",
   "execution_count": 12,
   "metadata": {},
   "outputs": [
    {
     "name": "stdout",
     "output_type": "stream",
     "text": [
      "Source: UCI / Covertype  https://www.csie.ntu.edu.tw/~cjlin/libsvmtools/datasets/binary.html\n",
      "Preprocessing: Transform from multiclass into binary class. [RC02a]\n",
      "# of classes: 2\n",
      "# of data: 581,012\n",
      "# of features: 54\n"
     ]
    }
   ],
   "source": [
    "%%sh\n",
    "\n",
    "cat ~/local.txt"
   ]
  }
 ],
 "metadata": {
  "kernelspec": {
   "display_name": "Python 3",
   "language": "python",
   "name": "python3"
  },
  "language_info": {
   "codemirror_mode": {
    "name": "ipython",
    "version": 3
   },
   "file_extension": ".py",
   "mimetype": "text/x-python",
   "name": "python",
   "nbconvert_exporter": "python",
   "pygments_lexer": "ipython3",
   "version": "3.6.9"
  }
 },
 "nbformat": 4,
 "nbformat_minor": 4
}
