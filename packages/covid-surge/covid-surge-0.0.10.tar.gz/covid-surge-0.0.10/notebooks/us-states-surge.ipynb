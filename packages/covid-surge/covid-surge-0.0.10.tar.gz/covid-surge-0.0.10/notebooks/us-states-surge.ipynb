{
 "cells": [
  {
   "cell_type": "markdown",
   "metadata": {},
   "source": [
    "[COVID-surge](https://github.com/dpploy/covid-surge) [https://github.com/dpploy/covid-surge] : V. F. de Almeida **14May20**\n",
    "\n",
    "## US States COVID-19 Surge Period Analysis\n",
    "\n",
    "$\n",
    "  \\newcommand{\\Amtrx}{\\boldsymbol{\\mathsf{A}}}\n",
    "  \\newcommand{\\Bmtrx}{\\boldsymbol{\\mathsf{B}}}\n",
    "  \\newcommand{\\Cmtrx}{\\boldsymbol{\\mathsf{C}}}\n",
    "  \\newcommand{\\Mmtrx}{\\boldsymbol{\\mathsf{M}}}\n",
    "  \\newcommand{\\Imtrx}{\\boldsymbol{\\mathsf{I}}}\n",
    "  \\newcommand{\\Pmtrx}{\\boldsymbol{\\mathsf{P}}}\n",
    "  \\newcommand{\\Qmtrx}{\\boldsymbol{\\mathsf{Q}}}\n",
    "  \\newcommand{\\Lmtrx}{\\boldsymbol{\\mathsf{L}}}\n",
    "  \\newcommand{\\Umtrx}{\\boldsymbol{\\mathsf{U}}}\n",
    "  \\newcommand{\\xvec}{\\boldsymbol{\\mathsf{x}}}\n",
    "  \\newcommand{\\yvec}{\\boldsymbol{\\mathsf{y}}}\n",
    "  \\newcommand{\\zvec}{\\boldsymbol{\\mathsf{z}}}\n",
    "  \\newcommand{\\avec}{\\boldsymbol{\\mathsf{a}}}\n",
    "  \\newcommand{\\bvec}{\\boldsymbol{\\mathsf{b}}}\n",
    "  \\newcommand{\\cvec}{\\boldsymbol{\\mathsf{c}}}\n",
    "  \\newcommand{\\rvec}{\\boldsymbol{\\mathsf{r}}}\n",
    "  \\newcommand{\\norm}[1]{\\bigl\\lVert{#1}\\bigr\\rVert}\n",
    "  \\DeclareMathOperator{\\rank}{rank}\n",
    "  \\DeclareMathOperator{\\abs}{abs}\n",
    "$"
   ]
  },
  {
   "cell_type": "markdown",
   "metadata": {},
   "source": [
    "---\n",
    "### Table of Contents<a id=\"toc\"></a>\n",
    " - [1) Introduction.](#intro)\n",
    " - [2) Import COVID-19 data.](#data)\n",
    " - [3) Fit model to data.](#fit)\n",
    " - [4) Analysis.](#analysis)\n",
    "---"
   ]
  },
  {
   "cell_type": "markdown",
   "metadata": {},
   "source": [
    "## [Introduction](#toc)<a id=\"intro\"></a>\n",
    "\n",
    "On-line COVID-19 data is used in this notebook and a fit to the sigmoid function \n",
    "    \n",
    "\\begin{equation*}\n",
    "\\boxed{ f(t) = \\frac{\\alpha_0}{1 + \\alpha_1\\, e^{\\alpha_2\\,t} } }\n",
    "\\end{equation*}\n",
    "   \n",
    "is systematically made. The time between points where the function has maximum and minimum curvature is computed and reported as the **surge period**. This period is relevant to public health officials to decide how long measures to control the epidemic should be in place. In addition, the surge period provides insight in comparing how different communities react to the epidemic."
   ]
  },
  {
   "cell_type": "code",
   "execution_count": null,
   "metadata": {},
   "outputs": [],
   "source": [
    "'''Load covid-surge package'''\n",
    "!pip install --upgrade --quiet covid-surge\n",
    "from covid_surge import Surge\n",
    "%matplotlib inline"
   ]
  },
  {
   "cell_type": "markdown",
   "metadata": {},
   "source": [
    "## [Import Data](#toc)<a id=\"data\"></a>\n",
    "\n"
   ]
  },
  {
   "cell_type": "code",
   "execution_count": null,
   "metadata": {},
   "outputs": [],
   "source": [
    "'''Import data'''\n",
    "\n",
    "# Get US surge data\n",
    "us_surge = Surge()\n",
    "\n",
    "# Set parameters\n",
    "us_surge.end_date = '4/20/20'   # set end date wanted\n",
    "us_surge.end_date = None        # get all the data available\n",
    "us_surge.ignore_last_n_days = 2 # allow for data repo to be corrected/updated\n",
    "us_surge.min_n_cases_abs = 100  # min # of absolute cases for analysis\n",
    "us_surge.deaths_100k_minimum = 41 # US death per 100,000 for Chronic Lower Respiratory Diseases per year: 41 (2019)\n",
    "\n",
    "#****************************************************************************\n",
    "# Combine all states into a country\n",
    "#****************************************************************************\n",
    "print('********************************************************************')\n",
    "print('*                             US                                   *')\n",
    "print('********************************************************************')\n",
    "\n",
    "print('# of states/districts: ',len(us_surge.state_names))\n",
    "print('# of days:             ',us_surge.dates.shape[0])"
   ]
  },
  {
   "cell_type": "markdown",
   "metadata": {},
   "source": [
    "## [Fit Data](#toc)<a id=\"fit\"></a>"
   ]
  },
  {
   "cell_type": "code",
   "execution_count": null,
   "metadata": {
    "scrolled": false
   },
   "outputs": [],
   "source": [
    "'''Fit data to model function'''\n",
    "\n",
    "# Fit data to all states\n",
    "fit_data = us_surge.states_fit_data()"
   ]
  },
  {
   "cell_type": "code",
   "execution_count": null,
   "metadata": {},
   "outputs": [],
   "source": [
    "# Plot all data in one plot\n",
    "us_surge.plot_fit_data( fit_data, 'experimental')\n",
    "# Plot all fit data in one plot\n",
    "us_surge.plot_fit_data( fit_data, 'fit' )\n",
    "\n",
    "# Create clustering bins based on surge period\n",
    "bins = us_surge.clustering(fit_data,2,'surge_period')"
   ]
  },
  {
   "cell_type": "markdown",
   "metadata": {},
   "source": [
    "## [Analysis](#toc)<a id=\"analysis\"></a>"
   ]
  },
  {
   "cell_type": "code",
   "execution_count": null,
   "metadata": {},
   "outputs": [],
   "source": [
    "# Report critical times\n",
    "(tc,dtc) = us_surge.critical_times( 'US', param_vec )\n",
    "\n",
    "# Report errors \n",
    "us_surge.error_analysis( 'US', param_vec, tc, dtc )\n",
    "\n",
    "# 60-day look-ahead\n",
    "n_prediction_days = 60\n",
    "\n",
    "last_day = us_surge.dates.size\n",
    "total_deaths_predicted = int( us_surge.sigmoid_func(n_prediction_days + last_day, param_vec) )\n",
    "\n",
    "print('')\n",
    "print('Estimated cumulative deaths in %s days from %s = %6i'%(n_prediction_days,us_surge.dates[-1],total_deaths_predicted))\n",
    "print('# of cumulative deaths today, %s               = %6i'%(us_surge.dates[-1],np.sum(us_surge.cases[-1,:])))\n",
    "print('')"
   ]
  },
  {
   "cell_type": "code",
   "execution_count": null,
   "metadata": {},
   "outputs": [],
   "source": [
    "print('Acceleration period = %4.1f [day]'%(tc-dtc))\n",
    "print('Surge period        = %4.1f [day]'%(2*dtc))\n",
    "print('Total period        = %4.1f [day]'%(tc-dtc+2*dtc))"
   ]
  },
  {
   "cell_type": "markdown",
   "metadata": {},
   "source": [
    "A total period of 41 days will stress the health system. Beyond 41 days the evolution is expected to be sub-linear and likely to go into its constant asymptotic. "
   ]
  },
  {
   "cell_type": "code",
   "execution_count": null,
   "metadata": {},
   "outputs": [],
   "source": []
  }
 ],
 "metadata": {
  "kernelspec": {
   "display_name": "Python 3",
   "language": "python",
   "name": "python3"
  },
  "language_info": {
   "codemirror_mode": {
    "name": "ipython",
    "version": 3
   },
   "file_extension": ".py",
   "mimetype": "text/x-python",
   "name": "python",
   "nbconvert_exporter": "python",
   "pygments_lexer": "ipython3",
   "version": "3.7.1"
  },
  "latex_envs": {
   "LaTeX_envs_menu_present": true,
   "autoclose": false,
   "autocomplete": true,
   "bibliofile": "biblio.bib",
   "cite_by": "apalike",
   "current_citInitial": 1,
   "eqLabelWithNumbers": true,
   "eqNumInitial": 1,
   "hotkeys": {
    "equation": "Ctrl-E",
    "itemize": "Ctrl-I"
   },
   "labels_anchors": false,
   "latex_user_defs": false,
   "report_style_numbering": false,
   "user_envs_cfg": false
  }
 },
 "nbformat": 4,
 "nbformat_minor": 2
}
