{
 "cells": [
  {
   "cell_type": "markdown",
   "metadata": {},
   "source": [
    "[COVID-surge](https://github.com/dpploy/covid-surge) [https://github.com/dpploy/covid-surge] : V. F. de Almeida **14May20**\n",
    "\n",
    "## US States Counties COVID-19 Surge Period Analysis\n",
    "\n",
    "$\n",
    "  \\newcommand{\\Amtrx}{\\boldsymbol{\\mathsf{A}}}\n",
    "  \\newcommand{\\Bmtrx}{\\boldsymbol{\\mathsf{B}}}\n",
    "  \\newcommand{\\Cmtrx}{\\boldsymbol{\\mathsf{C}}}\n",
    "  \\newcommand{\\Mmtrx}{\\boldsymbol{\\mathsf{M}}}\n",
    "  \\newcommand{\\Imtrx}{\\boldsymbol{\\mathsf{I}}}\n",
    "  \\newcommand{\\Pmtrx}{\\boldsymbol{\\mathsf{P}}}\n",
    "  \\newcommand{\\Qmtrx}{\\boldsymbol{\\mathsf{Q}}}\n",
    "  \\newcommand{\\Lmtrx}{\\boldsymbol{\\mathsf{L}}}\n",
    "  \\newcommand{\\Umtrx}{\\boldsymbol{\\mathsf{U}}}\n",
    "  \\newcommand{\\xvec}{\\boldsymbol{\\mathsf{x}}}\n",
    "  \\newcommand{\\yvec}{\\boldsymbol{\\mathsf{y}}}\n",
    "  \\newcommand{\\zvec}{\\boldsymbol{\\mathsf{z}}}\n",
    "  \\newcommand{\\avec}{\\boldsymbol{\\mathsf{a}}}\n",
    "  \\newcommand{\\bvec}{\\boldsymbol{\\mathsf{b}}}\n",
    "  \\newcommand{\\cvec}{\\boldsymbol{\\mathsf{c}}}\n",
    "  \\newcommand{\\rvec}{\\boldsymbol{\\mathsf{r}}}\n",
    "  \\newcommand{\\norm}[1]{\\bigl\\lVert{#1}\\bigr\\rVert}\n",
    "  \\DeclareMathOperator{\\rank}{rank}\n",
    "  \\DeclareMathOperator{\\abs}{abs}\n",
    "$"
   ]
  },
  {
   "cell_type": "markdown",
   "metadata": {},
   "source": [
    "---\n",
    "### Table of Contents<a id=\"toc\"></a>\n",
    " - [1) Introduction.](#intro)\n",
    " - [2) Find states with fully evolved surges](#data)\n",
    " - [3) Loop over: configure run, fit model to data, analysis.](#loop)\n",
    "---"
   ]
  },
  {
   "cell_type": "markdown",
   "metadata": {},
   "source": [
    "## [Introduction](#toc)<a id=\"intro\"></a>\n",
    "\n",
    "On-line COVID-19 data is used in this notebook, and a fit to the sigmoid function \n",
    "    \n",
    "\\begin{equation*}\n",
    "\\boxed{ f(t) = \\frac{\\alpha_0}{1 + \\alpha_1\\, e^{\\alpha_2\\,t} } }\n",
    "\\end{equation*}\n",
    "   \n",
    "is systematically made. The time between points where the function has maximum and minimum curvature is computed and reported as the **surge period**. This period is relevant to public health officials to decide how long measures to control the epidemic should be in place. In addition, the surge period provides insight in comparing how different communities react to the epidemic."
   ]
  },
  {
   "cell_type": "code",
   "execution_count": null,
   "metadata": {},
   "outputs": [],
   "source": [
    "'''Load the covid-surge package'''\n",
    "#!pip install --upgrade --quiet covid-surge\n",
    "\n",
    "from covid_surge import Surge\n",
    "%matplotlib inline"
   ]
  },
  {
   "cell_type": "markdown",
   "metadata": {},
   "source": [
    "## [Import Data](#toc)<a id=\"data\"></a>\n",
    "\n"
   ]
  },
  {
   "cell_type": "code",
   "execution_count": null,
   "metadata": {},
   "outputs": [],
   "source": [
    "'''Import data'''\n",
    "\n",
    "# Get complete US surge data\n",
    "us_surge = Surge()\n",
    "\n",
    "print('# of states/districts: ',len(us_surge.names))\n",
    "print('# of days:             ',us_surge.dates.shape[0])"
   ]
  },
  {
   "cell_type": "code",
   "execution_count": null,
   "metadata": {},
   "outputs": [],
   "source": [
    "'''Set parameters'''\n",
    "\n",
    "us_surge.end_date = '4/20/20'   # set end date wanted\n",
    "us_surge.end_date = None        # get all the data available\n",
    "us_surge.ignore_last_n_days = 2 # allow for data repo to be corrected/updated\n",
    "us_surge.min_n_cases_abs = 500  # min # of absolute cases for analysis\n",
    "us_surge.deaths_100k_minimum = 41 # US death per 100,000 for Chronic Lower Respiratory Diseases per year: 41 (2019)"
   ]
  },
  {
   "cell_type": "code",
   "execution_count": null,
   "metadata": {},
   "outputs": [],
   "source": [
    "'''Fit data to model function'''\n",
    "\n",
    "# Fit data to all states\n",
    "fit_data = us_surge.multi_fit_data()\n",
    "\n",
    "states = list()\n",
    "\n",
    "print('')\n",
    "for (i,(sort_key,data)) in enumerate(fit_data):\n",
    "    name = data[0]\n",
    "    states.append(name)\n",
    "    print('%2i) %15s: surge period %1.2f [day]'%(i,name,sort_key))"
   ]
  },
  {
   "cell_type": "markdown",
   "metadata": {},
   "source": [
    "## [Loop over: Configure Run, Fit Model to Data, Analysis.](#toc)<a id=\"loop\"></a>"
   ]
  },
  {
   "cell_type": "code",
   "execution_count": null,
   "metadata": {
    "scrolled": false
   },
   "outputs": [],
   "source": [
    "'''Loop over the top states and calculate the surge period for counties/towns'''\n",
    "\n",
    "for state in states:\n",
    "\n",
    "    print('')\n",
    "    print('***************************************************************')\n",
    "    print('                          ',state                               )\n",
    "    print('***************************************************************')\n",
    "\n",
    "    c_surge = Surge(locale='US',sub_locale=state)\n",
    "    print('# of counties: ',len(c_surge.names))\n",
    "    # Set parameters\n",
    "    c_surge.end_date = '4/20/20'   # set end date wanted\n",
    "    c_surge.end_date = None        # get all the data available\n",
    "    c_surge.ignore_last_n_days = 2 # allow for data repo to be corrected/updated\n",
    "    c_surge.min_n_cases_abs = 200  # min # of absolute cases for analysis\n",
    "    c_surge.deaths_100k_minimum = 41 # US death per 100,000 for Chronic Lower Respiratory Diseases per year: 41 (2019)\n",
    "\n",
    "    # Fit data to all counties/cities\n",
    "    fit_data = c_surge.multi_fit_data()\n",
    "    \n",
    "    print('# of fittings done = ',len(fit_data))\n",
    "\n",
    "    if len(fit_data) == 0:\n",
    "        continue\n",
    "\n",
    "    print('')\n",
    "    for (sort_key,data) in fit_data:\n",
    "        name = data[0]\n",
    "        print('%15s: surge period %1.2f [day]'%(name,sort_key))\n",
    "\n",
    "    # Create clustering bins based on surge period\n",
    "    bins = c_surge.clustering(fit_data,2,'surge_period')\n",
    "\n",
    "    print('')\n",
    "    print('----------------------------------------------------------------')\n",
    "    print('                            Bins                                ')\n",
    "    print('----------------------------------------------------------------')\n",
    "    for k in sorted(bins.keys()):\n",
    "        print(' Bin %i %s'%(k,bins[k]))\n",
    "\n",
    "    # Use bins to create groups of counties/cities based on surge period\n",
    "    county_groups = dict()\n",
    "\n",
    "    for (sort_key,data) in fit_data:\n",
    "        county = data[0]\n",
    "        param_vec = data[3]\n",
    "        key = c_surge.get_bin_id(sort_key,bins)\n",
    "        if key in county_groups:\n",
    "            county_groups[key].append(county)\n",
    "        else:\n",
    "            county_groups[key] = list()\n",
    "            county_groups[key].append(county)\n",
    "                \n",
    "    county_groups = [ county_groups[k] for k in\n",
    "                         sorted(county_groups.keys(),reverse=False) ]\n",
    "\n",
    "    print('')\n",
    "    print('----------------------------------------------------------------')\n",
    "    print('                        County Groups                           ')\n",
    "    print('----------------------------------------------------------------')\n",
    "    for g in county_groups:\n",
    "        print(' Group %i %s'%(county_groups.index(g),g))\n",
    "\n",
    "    # Plot the surge period for all grouped counties\n",
    "    c_surge.plot_group_surge_periods( fit_data, bins )\n",
    "\n",
    "    print('')\n",
    "    print('')"
   ]
  },
  {
   "cell_type": "code",
   "execution_count": null,
   "metadata": {},
   "outputs": [],
   "source": []
  }
 ],
 "metadata": {
  "kernelspec": {
   "display_name": "Python 3",
   "language": "python",
   "name": "python3"
  },
  "language_info": {
   "codemirror_mode": {
    "name": "ipython",
    "version": 3
   },
   "file_extension": ".py",
   "mimetype": "text/x-python",
   "name": "python",
   "nbconvert_exporter": "python",
   "pygments_lexer": "ipython3",
   "version": "3.7.1"
  },
  "latex_envs": {
   "LaTeX_envs_menu_present": true,
   "autoclose": false,
   "autocomplete": true,
   "bibliofile": "biblio.bib",
   "cite_by": "apalike",
   "current_citInitial": 1,
   "eqLabelWithNumbers": true,
   "eqNumInitial": 1,
   "hotkeys": {
    "equation": "Ctrl-E",
    "itemize": "Ctrl-I"
   },
   "labels_anchors": false,
   "latex_user_defs": false,
   "report_style_numbering": false,
   "user_envs_cfg": false
  }
 },
 "nbformat": 4,
 "nbformat_minor": 2
}
