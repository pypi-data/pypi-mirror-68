{
 "cells": [
  {
   "cell_type": "markdown",
   "metadata": {},
   "source": [
    "Trains a simple convnet on the MNIST dataset."
   ]
  },
  {
   "cell_type": "code",
   "execution_count": 1,
   "metadata": {},
   "outputs": [],
   "source": [
    "import numpy as np\n",
    "\n",
    "from kerasy.datasets import mnist\n",
    "from kerasy.models import Sequential\n",
    "from kerasy.layers import Dense, Dropout, Flatten, Conv2D, MaxPooling2D, Input\n",
    "from kerasy.utils import CategoricalEncoder"
   ]
  },
  {
   "cell_type": "code",
   "execution_count": 2,
   "metadata": {},
   "outputs": [],
   "source": [
    "# Training Parameters.\n",
    "num_classes = 10\n",
    "n_samples = 1_000\n",
    "\n",
    "batch_size = 16\n",
    "epochs = 12\n",
    "keep_prob1 = 0.75\n",
    "keep_prob2 = 0.5"
   ]
  },
  {
   "cell_type": "code",
   "execution_count": 3,
   "metadata": {},
   "outputs": [],
   "source": [
    "# input image dimensions\n",
    "img_rows, img_cols = 28, 28\n",
    "input_shape = (img_rows, img_cols, 1)"
   ]
  },
  {
   "cell_type": "code",
   "execution_count": 4,
   "metadata": {},
   "outputs": [],
   "source": [
    "# the data, split between train and test sets\n",
    "(x_train, y_train), (x_test, y_test) = mnist.load_data()"
   ]
  },
  {
   "cell_type": "code",
   "execution_count": 5,
   "metadata": {},
   "outputs": [],
   "source": [
    "# Add dimensions to fit the format\n",
    "# (batch_size, img_rows, img_cols) -> (batch_size, img_rows, img_cols, 1)\n",
    "x_train = np.expand_dims(x_train, axis=-1).astype('float32')\n",
    "x_test  = np.expand_dims(x_test,  axis=-1).astype('float32')"
   ]
  },
  {
   "cell_type": "code",
   "execution_count": 6,
   "metadata": {},
   "outputs": [],
   "source": [
    "# Extract only \"n_samples\" samples.\n",
    "x_train = x_train[:n_samples]\n",
    "y_train = y_train[:n_samples]\n",
    "x_test = x_test[:n_samples]\n",
    "y_test = y_test[:n_samples]"
   ]
  },
  {
   "cell_type": "code",
   "execution_count": 7,
   "metadata": {},
   "outputs": [],
   "source": [
    "# Standardization.\n",
    "x_train /= 255\n",
    "x_test /= 255"
   ]
  },
  {
   "cell_type": "code",
   "execution_count": 8,
   "metadata": {},
   "outputs": [
    {
     "name": "stdout",
     "output_type": "stream",
     "text": [
      "Dictionaly for Encoder is already made.\n"
     ]
    }
   ],
   "source": [
    "# convert class vectors to binary class matrices\n",
    "encoder = CategoricalEncoder()\n",
    "y_train = encoder.to_onehot(y_train, num_classes)\n",
    "y_test  = encoder.to_onehot(y_test, num_classes)"
   ]
  },
  {
   "cell_type": "code",
   "execution_count": 9,
   "metadata": {},
   "outputs": [
    {
     "name": "stdout",
     "output_type": "stream",
     "text": [
      "x_train shape: (1000, 28, 28, 1)\n",
      "y_train shape: (1000, 10)\n",
      "1000 train samples\n",
      "1000 test samples\n"
     ]
    }
   ],
   "source": [
    "print(f'x_train shape: {x_train.shape}')\n",
    "print(f'y_train shape: {y_train.shape}')\n",
    "print(f'{x_train.shape[0]} train samples')\n",
    "print(f'{x_test.shape[0]} test samples')"
   ]
  },
  {
   "cell_type": "code",
   "execution_count": 10,
   "metadata": {},
   "outputs": [],
   "source": [
    "# Build the Convolutional Model.\n",
    "model = Sequential()\n",
    "model.add(Input(input_shape=input_shape))\n",
    "model.add(Conv2D(32, kernel_size=(3, 3), activation='relu'))\n",
    "model.add(Conv2D(64, (3, 3), activation='relu'))\n",
    "model.add(MaxPooling2D(pool_size=(2, 2)))\n",
    "model.add(Dropout(keep_prob=keep_prob1))\n",
    "model.add(Flatten())\n",
    "model.add(Dense(128, activation='relu'))\n",
    "model.add(Dropout(keep_prob=keep_prob2))\n",
    "model.add(Dense(num_classes, activation='softmax'))"
   ]
  },
  {
   "cell_type": "code",
   "execution_count": 11,
   "metadata": {},
   "outputs": [
    {
     "name": "stderr",
     "output_type": "stream",
     "text": [
      "/Users/iwasakishuto/Github/portfolio/Kerasy/kerasy/engine/sequential.py:69: UserWarning: \u001b[31mKerasy Warnings\u001b[0m\n",
      "------------------------------------------------------------\n",
      "When calculating the \u001b[34mCategoricalCrossentropy\u001b[0m loss and the derivative of the \u001b[34mSoftmax\u001b[0m layer, the gradient disappears when backpropagating the actual value, so the \u001b[34mSoftmaxCategoricalCrossentropy\u001b[0m is implemented instead.\n",
      "------------------------------------------------------------\n",
      "  \"so the \\033[34mSoftmaxCategoricalCrossentropy\\033[0m is implemented instead.\\n\" + '-'*60)\n"
     ]
    }
   ],
   "source": [
    "model.compile(\n",
    "    optimizer='sgd', \n",
    "    loss='categorical_crossentropy', \n",
    "    metrics=['categorical_accuracy']\n",
    ")"
   ]
  },
  {
   "cell_type": "code",
   "execution_count": 12,
   "metadata": {},
   "outputs": [
    {
     "name": "stdout",
     "output_type": "stream",
     "text": [
      "-----------------------------------------------------------------\n",
      "Layer (type)                 Output Shape              Param #   \n",
      "=================================================================\n",
      "input_1 (Input)              (None, 28, 28, 1)         0         \n",
      "-----------------------------------------------------------------\n",
      "conv2d_1 (Conv2D)            (None, 26, 26, 32)        320       \n",
      "-----------------------------------------------------------------\n",
      "conv2d_2 (Conv2D)            (None, 24, 24, 64)        18496     \n",
      "-----------------------------------------------------------------\n",
      "maxpooling2d_1 (MaxPooling2D (None, 12, 12, 64)        0         \n",
      "-----------------------------------------------------------------\n",
      "dropout_1 (Dropout)          (None, 12, 12, 64)        0         \n",
      "-----------------------------------------------------------------\n",
      "flatten_1 (Flatten)          (None, 9216)              0         \n",
      "-----------------------------------------------------------------\n",
      "dense_1 (Dense)              (None, 128)               1179776   \n",
      "-----------------------------------------------------------------\n",
      "dropout_2 (Dropout)          (None, 128)               0         \n",
      "-----------------------------------------------------------------\n",
      "dense_2 (Dense)              (None, 10)                1290      \n",
      "=================================================================\n",
      "Total params: 1,199,882\n",
      "Trainable params: 1,199,882\n",
      "Non-trainable params: 0\n",
      "-----------------------------------------------------------------\n"
     ]
    }
   ],
   "source": [
    "model.summary()"
   ]
  },
  {
   "cell_type": "code",
   "execution_count": 13,
   "metadata": {},
   "outputs": [
    {
     "name": "stdout",
     "output_type": "stream",
     "text": [
      "Epoch 01/12 | 63/63[####################]100.00% - 1441.164[s]   \u001b[01mcategorical_accuracy\u001b[0m: \u001b[34m10.2%\u001b[0m, \u001b[01mcategorical_crossentropy\u001b[0m: \u001b[34m2302.703\u001b[0m, \u001b[01mval_categorical_accuracy\u001b[0m: \u001b[34m16.3%\u001b[0m, \u001b[01mval_categorical_crossentropy\u001b[0m: \u001b[34m2298.746\u001b[0m\n",
      "Epoch 02/12 | 63/63[####################]100.00% - 1051.074[s]   \u001b[01mcategorical_accuracy\u001b[0m: \u001b[34m12.9%\u001b[0m, \u001b[01mcategorical_crossentropy\u001b[0m: \u001b[34m2298.568\u001b[0m, \u001b[01mval_categorical_accuracy\u001b[0m: \u001b[34m18.4%\u001b[0m, \u001b[01mval_categorical_crossentropy\u001b[0m: \u001b[34m2293.045\u001b[0m\n",
      "Epoch 03/12 | 63/63[####################]100.00% - 1026.383[s]   \u001b[01mcategorical_accuracy\u001b[0m: \u001b[34m17.4%\u001b[0m, \u001b[01mcategorical_crossentropy\u001b[0m: \u001b[34m2295.509\u001b[0m, \u001b[01mval_categorical_accuracy\u001b[0m: \u001b[34m18.4%\u001b[0m, \u001b[01mval_categorical_crossentropy\u001b[0m: \u001b[34m2288.278\u001b[0m\n",
      "Epoch 04/12 | 63/63[####################]100.00% - 1016.532[s]   \u001b[01mcategorical_accuracy\u001b[0m: \u001b[34m15.5%\u001b[0m, \u001b[01mcategorical_crossentropy\u001b[0m: \u001b[34m2292.625\u001b[0m, \u001b[01mval_categorical_accuracy\u001b[0m: \u001b[34m19.3%\u001b[0m, \u001b[01mval_categorical_crossentropy\u001b[0m: \u001b[34m2281.129\u001b[0m\n",
      "Epoch 05/12 | 63/63[####################]100.00% - 1019.552[s]   \u001b[01mcategorical_accuracy\u001b[0m: \u001b[34m16.5%\u001b[0m, \u001b[01mcategorical_crossentropy\u001b[0m: \u001b[34m2290.217\u001b[0m, \u001b[01mval_categorical_accuracy\u001b[0m: \u001b[34m21.0%\u001b[0m, \u001b[01mval_categorical_crossentropy\u001b[0m: \u001b[34m2273.901\u001b[0m\n",
      "Epoch 06/12 | 63/63[####################]100.00% - 1317.802[s]   \u001b[01mcategorical_accuracy\u001b[0m: \u001b[34m17.9%\u001b[0m, \u001b[01mcategorical_crossentropy\u001b[0m: \u001b[34m2287.031\u001b[0m, \u001b[01mval_categorical_accuracy\u001b[0m: \u001b[34m21.3%\u001b[0m, \u001b[01mval_categorical_crossentropy\u001b[0m: \u001b[34m2265.667\u001b[0m\n",
      "Epoch 07/12 | 63/63[####################]100.00% - 1322.268[s]   \u001b[01mcategorical_accuracy\u001b[0m: \u001b[34m18.2%\u001b[0m, \u001b[01mcategorical_crossentropy\u001b[0m: \u001b[34m2281.147\u001b[0m, \u001b[01mval_categorical_accuracy\u001b[0m: \u001b[34m22.1%\u001b[0m, \u001b[01mval_categorical_crossentropy\u001b[0m: \u001b[34m2256.350\u001b[0m\n",
      "Epoch 08/12 | 63/63[####################]100.00% - 1369.106[s]   \u001b[01mcategorical_accuracy\u001b[0m: \u001b[34m19.3%\u001b[0m, \u001b[01mcategorical_crossentropy\u001b[0m: \u001b[34m2277.624\u001b[0m, \u001b[01mval_categorical_accuracy\u001b[0m: \u001b[34m23.0%\u001b[0m, \u001b[01mval_categorical_crossentropy\u001b[0m: \u001b[34m2245.692\u001b[0m\n",
      "Epoch 09/12 | 63/63[####################]100.00% - 1247.816[s]   \u001b[01mcategorical_accuracy\u001b[0m: \u001b[34m19.8%\u001b[0m, \u001b[01mcategorical_crossentropy\u001b[0m: \u001b[34m2273.198\u001b[0m, \u001b[01mval_categorical_accuracy\u001b[0m: \u001b[34m26.0%\u001b[0m, \u001b[01mval_categorical_crossentropy\u001b[0m: \u001b[34m2235.177\u001b[0m\n",
      "Epoch 10/12 | 63/63[####################]100.00% - 1323.853[s]   \u001b[01mcategorical_accuracy\u001b[0m: \u001b[34m23.6%\u001b[0m, \u001b[01mcategorical_crossentropy\u001b[0m: \u001b[34m2268.568\u001b[0m, \u001b[01mval_categorical_accuracy\u001b[0m: \u001b[34m26.9%\u001b[0m, \u001b[01mval_categorical_crossentropy\u001b[0m: \u001b[34m2224.746\u001b[0m\n",
      "Epoch 11/12 | 63/63[####################]100.00% - 1248.417[s]   \u001b[01mcategorical_accuracy\u001b[0m: \u001b[34m21.7%\u001b[0m, \u001b[01mcategorical_crossentropy\u001b[0m: \u001b[34m2264.879\u001b[0m, \u001b[01mval_categorical_accuracy\u001b[0m: \u001b[34m26.5%\u001b[0m, \u001b[01mval_categorical_crossentropy\u001b[0m: \u001b[34m2211.773\u001b[0m\n",
      "Epoch 12/12 | 63/63[####################]100.00% - 1222.307[s]   \u001b[01mcategorical_accuracy\u001b[0m: \u001b[34m23.0%\u001b[0m, \u001b[01mcategorical_crossentropy\u001b[0m: \u001b[34m2255.659\u001b[0m, \u001b[01mval_categorical_accuracy\u001b[0m: \u001b[34m30.6%\u001b[0m, \u001b[01mval_categorical_crossentropy\u001b[0m: \u001b[34m2194.847\u001b[0m\n"
     ]
    }
   ],
   "source": [
    "model.fit(\n",
    "    x_train, y_train,\n",
    "    batch_size=batch_size,\n",
    "    epochs=epochs,\n",
    "    verbose=1,\n",
    "    validation_data=(x_test, y_test)\n",
    ")"
   ]
  },
  {
   "cell_type": "code",
   "execution_count": null,
   "metadata": {},
   "outputs": [],
   "source": []
  }
 ],
 "metadata": {
  "hide_input": false,
  "kernelspec": {
   "display_name": "Python 3",
   "language": "python",
   "name": "python3"
  },
  "language_info": {
   "codemirror_mode": {
    "name": "ipython",
    "version": 3
   },
   "file_extension": ".py",
   "mimetype": "text/x-python",
   "name": "python",
   "nbconvert_exporter": "python",
   "pygments_lexer": "ipython3",
   "version": "3.6.8"
  }
 },
 "nbformat": 4,
 "nbformat_minor": 2
}
