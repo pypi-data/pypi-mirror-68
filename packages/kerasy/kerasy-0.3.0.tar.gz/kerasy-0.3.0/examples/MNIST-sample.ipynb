{
 "cells": [
  {
   "cell_type": "markdown",
   "metadata": {},
   "source": [
    "Trains a simple convnet on the MNIST dataset."
   ]
  },
  {
   "cell_type": "code",
   "execution_count": 1,
   "metadata": {},
   "outputs": [],
   "source": [
    "import numpy as np\n",
    "\n",
    "from kerasy.datasets import mnist\n",
    "from kerasy.models import Sequential\n",
    "from kerasy.layers import Dense, Dropout, Flatten, Conv2D, MaxPooling2D, Input\n",
    "from kerasy.utils import CategoricalEncoder"
   ]
  },
  {
   "cell_type": "code",
   "execution_count": 2,
   "metadata": {},
   "outputs": [],
   "source": [
    "# Datasets Parameters.\n",
    "num_classes = 10\n",
    "n_samples = 1_000\n",
    "\n",
    "# Training Parameters.\n",
    "batch_size = 16\n",
    "epochs = 100\n",
    "keep_prob1 = 0.75\n",
    "keep_prob2 = 0.5"
   ]
  },
  {
   "cell_type": "code",
   "execution_count": 3,
   "metadata": {},
   "outputs": [],
   "source": [
    "# input image dimensions\n",
    "img_rows, img_cols = 28, 28"
   ]
  },
  {
   "cell_type": "code",
   "execution_count": 4,
   "metadata": {},
   "outputs": [],
   "source": [
    "# the data, split between train and test sets\n",
    "(x_train, y_train), (x_test, y_test) = mnist.load_data()"
   ]
  },
  {
   "cell_type": "code",
   "execution_count": 5,
   "metadata": {},
   "outputs": [],
   "source": [
    "x_train = np.expand_dims(x_train, axis=-1)\n",
    "x_test  = np.expand_dims(x_test,  axis=-1)\n",
    "input_shape = (img_rows, img_cols, 1)"
   ]
  },
  {
   "cell_type": "code",
   "execution_count": 6,
   "metadata": {},
   "outputs": [],
   "source": [
    "x_train = x_train[:n_samples]\n",
    "y_train = y_train[:n_samples]\n",
    "x_test = x_test[:n_samples]\n",
    "y_test = y_test[:n_samples]"
   ]
  },
  {
   "cell_type": "code",
   "execution_count": 7,
   "metadata": {
    "scrolled": true
   },
   "outputs": [
    {
     "name": "stdout",
     "output_type": "stream",
     "text": [
      "x_train shape: (1000, 28, 28, 1)\n",
      "1000 train samples\n",
      "1000 test samples\n"
     ]
    }
   ],
   "source": [
    "x_train = x_train.astype('float64')\n",
    "x_test = x_test.astype('float64')\n",
    "x_train /= 255\n",
    "x_test /= 255\n",
    "print('x_train shape:', x_train.shape)\n",
    "print(x_train.shape[0], 'train samples')\n",
    "print(x_test.shape[0], 'test samples')"
   ]
  },
  {
   "cell_type": "code",
   "execution_count": 8,
   "metadata": {},
   "outputs": [
    {
     "name": "stdout",
     "output_type": "stream",
     "text": [
      "Dictionaly for Encoder is already made.\n"
     ]
    }
   ],
   "source": [
    "# convert class vectors to binary class matrices\n",
    "encoder = CategoricalEncoder()\n",
    "y_train = encoder.to_onehot(y_train, num_classes)\n",
    "y_test  = encoder.to_onehot(y_test, num_classes)"
   ]
  },
  {
   "cell_type": "code",
   "execution_count": 9,
   "metadata": {},
   "outputs": [],
   "source": [
    "model = Sequential()\n",
    "model.add(Input(input_shape=input_shape))\n",
    "model.add(Conv2D(32, kernel_size=(3, 3), activation='relu'))\n",
    "model.add(Conv2D(64, (3, 3), activation='relu'))\n",
    "model.add(MaxPooling2D(pool_size=(2, 2)))\n",
    "model.add(Dropout(keep_prob=keep_prob1))\n",
    "model.add(Flatten())\n",
    "model.add(Dense(128, activation='relu'))\n",
    "model.add(Dropout(keep_prob=keep_prob2))\n",
    "model.add(Dense(num_classes, activation='softmax'))"
   ]
  },
  {
   "cell_type": "code",
   "execution_count": 10,
   "metadata": {},
   "outputs": [
    {
     "name": "stderr",
     "output_type": "stream",
     "text": [
      "/Users/iwasakishuto/Github/portfolio/Kerasy/kerasy/engine/sequential.py:67: UserWarning: \u001b[31mKerasy Warnings\u001b[0m\n",
      "------------------------------------------------------------\n",
      "When calculating the \u001b[34mCategoricalCrossentropy\u001b[0m loss and the derivative of the \u001b[34mSoftmax\u001b[0m layer, the gradient disappears when backpropagating the actual value, so the \u001b[34mSoftmaxCategoricalCrossentropy\u001b[0m is implemented instead.\n",
      "------------------------------------------------------------\n",
      "  \"so the \\033[34mSoftmaxCategoricalCrossentropy\\033[0m is implemented instead.\\n\" + '-'*60)\n"
     ]
    }
   ],
   "source": [
    "model.compile(\n",
    "    optimizer='adagrad', \n",
    "    loss='categorical_crossentropy', \n",
    "    metrics=['categorical_accuracy']\n",
    ")"
   ]
  },
  {
   "cell_type": "code",
   "execution_count": 11,
   "metadata": {},
   "outputs": [
    {
     "name": "stdout",
     "output_type": "stream",
     "text": [
      "-----------------------------------------------------------------\n",
      "Layer (type)                 Output Shape              Param #   \n",
      "=================================================================\n",
      "input_1 (Input)              (None, 28, 28, 1)         0         \n",
      "-----------------------------------------------------------------\n",
      "conv2d_1 (Conv2D)            (None, 26, 26, 32)        320       \n",
      "-----------------------------------------------------------------\n",
      "conv2d_2 (Conv2D)            (None, 24, 24, 64)        18496     \n",
      "-----------------------------------------------------------------\n",
      "maxpooling2d_1 (MaxPooling2D (None, 12, 12, 64)        0         \n",
      "-----------------------------------------------------------------\n",
      "dropout_1 (Dropout)          (None, 12, 12, 64)        0         \n",
      "-----------------------------------------------------------------\n",
      "flatten_1 (Flatten)          (None, 9216)              0         \n",
      "-----------------------------------------------------------------\n",
      "dense_1 (Dense)              (None, 128)               1179776   \n",
      "-----------------------------------------------------------------\n",
      "dropout_2 (Dropout)          (None, 128)               0         \n",
      "-----------------------------------------------------------------\n",
      "dense_2 (Dense)              (None, 10)                1290      \n",
      "=================================================================\n",
      "Total params: 1,199,882\n",
      "Trainable params: 1,199,882\n",
      "Non-trainable params: 0\n",
      "-----------------------------------------------------------------\n"
     ]
    }
   ],
   "source": [
    "model.summary()"
   ]
  },
  {
   "cell_type": "code",
   "execution_count": null,
   "metadata": {},
   "outputs": [
    {
     "name": "stdout",
     "output_type": "stream",
     "text": [
      "Epoch 001/100 | 09/63[##------------------] 14.29% - 233.213[s]   \u001b[01mcategorical_crossentropy\u001b[0m: \u001b[34m328.853\u001b[0m, \u001b[01mcategorical_accuracy\u001b[0m: \u001b[34m14.6%\u001b[0m"
     ]
    }
   ],
   "source": [
    "model.fit(\n",
    "    x_train, y_train,\n",
    "    batch_size=batch_size,\n",
    "    epochs=epochs,\n",
    "    verbose=1,\n",
    "    validation_data=(x_test, y_test)\n",
    ")"
   ]
  },
  {
   "cell_type": "code",
   "execution_count": null,
   "metadata": {},
   "outputs": [],
   "source": [
    "model.save_weights(\"MNIST_example_notebook_adagrad.pickle\")"
   ]
  },
  {
   "cell_type": "code",
   "execution_count": null,
   "metadata": {},
   "outputs": [],
   "source": []
  }
 ],
 "metadata": {
  "hide_input": false,
  "kernelspec": {
   "display_name": "Python 3",
   "language": "python",
   "name": "python3"
  },
  "language_info": {
   "codemirror_mode": {
    "name": "ipython",
    "version": 3
   },
   "file_extension": ".py",
   "mimetype": "text/x-python",
   "name": "python",
   "nbconvert_exporter": "python",
   "pygments_lexer": "ipython3",
   "version": "3.6.8"
  }
 },
 "nbformat": 4,
 "nbformat_minor": 2
}
