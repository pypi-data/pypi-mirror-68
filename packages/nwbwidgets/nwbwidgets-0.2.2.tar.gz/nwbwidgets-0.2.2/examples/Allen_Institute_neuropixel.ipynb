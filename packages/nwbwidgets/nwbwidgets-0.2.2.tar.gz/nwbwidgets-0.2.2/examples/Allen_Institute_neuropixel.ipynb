{
 "cells": [
  {
   "cell_type": "code",
   "execution_count": 1,
   "metadata": {},
   "outputs": [
    {
     "name": "stderr",
     "output_type": "stream",
     "text": [
      "/Users/bendichter/dev/hdmf/src/hdmf/spec/namespace.py:61: UserWarning:\n",
      "\n",
      "Loaded namespace 'AIBS_ecephys' is missing the required key 'version'. Version will be set to 'None'. Please notify the extension author.\n",
      "\n"
     ]
    },
    {
     "data": {
      "application/vnd.jupyter.widget-view+json": {
       "model_id": "569d3e4cd881495e93d6a7c89a571f71",
       "version_major": 2,
       "version_minor": 0
      },
      "text/plain": [
       "VBox(children=(HBox(children=(Label(value='session_description:', layout=Layout(max_height='40px', max_width='…"
      ]
     },
     "metadata": {},
     "output_type": "display_data"
    }
   ],
   "source": [
    "from nwbwidgets import nwb2widget\n",
    "from pynwb import NWBHDF5IO\n",
    "import allensdk.brain_observatory.ecephys.nwb\n",
    "from nwbwidgets.allen import load_allen_widgets\n",
    "\n",
    "load_allen_widgets()\n",
    "\n",
    "fpath = '/Volumes/easystore5T/data/Allen/neuropixel/fixed/ecephys_session_715093703.nwb'\n",
    "\n",
    "file = NWBHDF5IO(fpath, 'r')\n",
    "nwb = file.read()\n",
    "\n",
    "nwb2widget(nwb)"
   ]
  },
  {
   "cell_type": "code",
   "execution_count": null,
   "metadata": {},
   "outputs": [],
   "source": []
  }
 ],
 "metadata": {
  "kernelspec": {
   "display_name": "Python 3",
   "language": "python",
   "name": "python3"
  },
  "language_info": {
   "codemirror_mode": {
    "name": "ipython",
    "version": 3
   },
   "file_extension": ".py",
   "mimetype": "text/x-python",
   "name": "python",
   "nbconvert_exporter": "python",
   "pygments_lexer": "ipython3",
   "version": "3.7.4"
  }
 },
 "nbformat": 4,
 "nbformat_minor": 2
}
